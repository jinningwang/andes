{
 "cells": [
  {
   "cell_type": "markdown",
   "id": "483f3857",
   "metadata": {},
   "source": [
    "# MATPOWER Interface"
   ]
  },
  {
   "cell_type": "markdown",
   "id": "7b261dd8",
   "metadata": {},
   "source": [
    "See also the API reference for `andes.interop.matpower`."
   ]
  },
  {
   "cell_type": "code",
   "execution_count": 1,
   "id": "8130b077",
   "metadata": {},
   "outputs": [],
   "source": [
    "import andes\n",
    "\n",
    "from andes.interop.matpower import (start_instance, \n",
    "    to_matpower, from_matpower)"
   ]
  },
  {
   "cell_type": "markdown",
   "id": "0f237712",
   "metadata": {},
   "source": [
    "## Create an Octave/MATLAB instance"
   ]
  },
  {
   "cell_type": "code",
   "execution_count": 2,
   "id": "79e2b3a1",
   "metadata": {},
   "outputs": [],
   "source": [
    "m = start_instance()"
   ]
  },
  {
   "cell_type": "markdown",
   "id": "c1b1c973",
   "metadata": {},
   "source": [
    "## Convert to MATPOWER"
   ]
  },
  {
   "cell_type": "code",
   "execution_count": 3,
   "id": "db4fe683",
   "metadata": {},
   "outputs": [],
   "source": [
    "ss = andes.system.example()  # load an ieee14 example case\n",
    "\n",
    "mpc = to_matpower(m, 'mpc', ss)"
   ]
  },
  {
   "cell_type": "markdown",
   "id": "aba19368",
   "metadata": {},
   "source": [
    "Test if the power flow of mpc can be solved"
   ]
  },
  {
   "cell_type": "code",
   "execution_count": 4,
   "id": "2f05a127",
   "metadata": {
    "scrolled": true
   },
   "outputs": [
    {
     "name": "stdout",
     "output_type": "stream",
     "text": [
      "warning: error caught while executing handle class delete method:\n",
      "'osqp_mex' undefined near line 40 column 13\n",
      "OSQP Error!\n",
      "\n",
      "MATPOWER Version 7.1, 08-Oct-2020 -- AC Power Flow (Newton)\n",
      "\n",
      "Newton's method power flow (power balance, polar) converged in 3 iterations.\n",
      "\n",
      "Converged in 0.01 seconds\n",
      "================================================================================\n",
      "|     System Summary                                                           |\n",
      "================================================================================\n",
      "\n",
      "How many?                How much?              P (MW)            Q (MVAr)\n",
      "---------------------    -------------------  -------------  -----------------\n",
      "Buses             14     Total Gen Capacity     400.0        -112.0 to 150.0\n",
      "Generators         5     On-line Capacity       400.0        -112.0 to 150.0\n",
      "Committed Gens     5     Generation (actual)    226.4              49.8\n",
      "Loads             11     Load                   223.7              95.4\n",
      "  Fixed           11       Fixed                223.7              95.4\n",
      "  Dispatchable     0       Dispatchable          -0.0 of -0.0      -0.0\n",
      "Shunts             2     Shunt (inj)             -0.0              35.3\n",
      "Branches          20     Losses (I^2 * Z)         2.73             13.52\n",
      "Transformers      20     Branch Charging (inj)     -               23.8\n",
      "Inter-ties         0     Total Inter-tie Flow     0.0               0.0\n",
      "Areas              1\n",
      "\n",
      "                          Minimum                      Maximum\n",
      "                 -------------------------  --------------------------------\n",
      "Voltage Magnitude   1.010 p.u. @ bus 3          1.030 p.u. @ bus 2\n",
      "Voltage Angle      -9.48 deg   @ bus 14         0.00 deg   @ bus 1\n",
      "P Losses (I^2*R)             -                  0.50 MW    @ line 1-2\n",
      "Q Losses (I^2*X)             -                  2.11 MVAr  @ line 8-7\n",
      "\n",
      "================================================================================\n",
      "|     Bus Data                                                                 |\n",
      "================================================================================\n",
      " Bus      Voltage          Generation             Load\n",
      "  #   Mag(pu) Ang(deg)   P (MW)   Q (MVAr)   P (MW)   Q (MVAr)\n",
      "----- ------- --------  --------  --------  --------  --------\n",
      "    1  1.030    0.000*    81.43    -21.62       -         -\n",
      "    2  1.030   -1.764     40.00     30.44     21.70     12.70\n",
      "    3  1.010   -3.537     40.00     12.60     50.00     25.00\n",
      "    4  1.011   -4.410       -         -       47.80     10.00\n",
      "    5  1.017   -3.843       -         -        7.60      1.60\n",
      "    6  1.030   -6.453     30.00     20.99     15.00      7.50\n",
      "    7  1.022   -4.885       -         -         -         -\n",
      "    8  1.030   -1.540     35.00      7.40       -         -\n",
      "    9  1.022   -7.246       -         -       29.50     16.60\n",
      "   10  1.016   -7.415       -         -        9.00      5.80\n",
      "   11  1.019   -7.080       -         -        3.50      1.80\n",
      "   12  1.017   -7.473       -         -        6.10      1.60\n",
      "   13  1.014   -7.721       -         -       13.50      5.80\n",
      "   14  1.016   -9.481       -         -       20.00      7.00\n",
      "                        --------  --------  --------  --------\n",
      "               Total:    226.43     49.80    223.70     95.40\n",
      "\n",
      "================================================================================\n",
      "|     Branch Data                                                              |\n",
      "================================================================================\n",
      "Brnch   From   To    From Bus Injection   To Bus Injection     Loss (I^2 * Z)\n",
      "  #     Bus    Bus    P (MW)   Q (MVAr)   P (MW)   Q (MVAr)   P (MW)   Q (MVAr)\n",
      "-----  -----  -----  --------  --------  --------  --------  --------  --------\n",
      "   1      1      2     50.10    -18.36    -49.60     14.29     0.503      1.53\n",
      "   2      1      5     31.33     -3.26    -30.83      0.17     0.500      2.06\n",
      "   3      2      3     17.79      4.11    -17.63     -8.00     0.158      0.67\n",
      "   4      2      4     28.02      0.46    -27.58     -2.69     0.433      1.31\n",
      "   5      2      5     22.09     -1.13    -21.83     -1.70     0.262      0.80\n",
      "   6      3      4      7.63     -4.40     -7.58      3.21     0.047      0.12\n",
      "   7      4      5    -25.97     -5.70     26.07      5.99     0.092      0.29\n",
      "   8      6     11      6.91      2.37     -6.86     -2.27     0.048      0.10\n",
      "   9      6     12      7.93      1.32     -7.86     -1.17     0.075      0.16\n",
      "  10      6     13     19.15      2.76    -18.92     -2.31     0.234      0.46\n",
      "  11      7      9     39.12      1.46    -39.12      0.15     0.000      1.61\n",
      "  12      9     10      5.67      5.40     -5.65     -5.35     0.019      0.05\n",
      "  13      9     14     13.17     -3.85    -12.94      4.34     0.229      0.49\n",
      "  14     10     11     -3.35     -0.45      3.36      0.47     0.009      0.02\n",
      "  15     12     13      1.76     -0.43     -1.75      0.44     0.007      0.01\n",
      "  16     13     14      7.17     -3.93     -7.06      4.16     0.111      0.23\n",
      "  17      4      7      4.12     -3.76     -4.12      3.83    -0.000      0.06\n",
      "  18      4      9      9.22     -1.06     -9.22      1.53     0.000      0.47\n",
      "  19      6      5    -18.99      7.03     18.99     -6.06     0.000      0.97\n",
      "  20      8      7     35.00      7.40    -35.00     -5.29     0.000      2.11\n",
      "                                                             --------  --------\n",
      "                                                    Total:     2.727     13.52\n"
     ]
    }
   ],
   "source": [
    "m.eval(\"runpf(mpc)\")"
   ]
  },
  {
   "cell_type": "code",
   "execution_count": 5,
   "id": "b25d8bd6",
   "metadata": {},
   "outputs": [],
   "source": [
    "mpc_sol = m.pull(\"mpc\")  # retrieve the solution"
   ]
  },
  {
   "cell_type": "markdown",
   "id": "30fed4d4",
   "metadata": {},
   "source": [
    "## Convert from MATPOWER"
   ]
  },
  {
   "cell_type": "code",
   "execution_count": 6,
   "id": "2c04649f",
   "metadata": {},
   "outputs": [],
   "source": [
    "system = from_matpower(m, 'mpc')"
   ]
  },
  {
   "cell_type": "markdown",
   "id": "21763249",
   "metadata": {},
   "source": [
    "`m.pull()` won't work if one has run OPF in Octave/MATLAB because Oct2Py does not support custom class objects created by MATPOWER. \n",
    "\n",
    "`from _matpower()` will read the individual fields to construct an `mpc` dict internally before creating a system."
   ]
  },
  {
   "cell_type": "markdown",
   "id": "6a4d2b28",
   "metadata": {},
   "source": [
    "## Add dynamic data"
   ]
  },
  {
   "cell_type": "markdown",
   "id": "d1609d34",
   "metadata": {},
   "source": [
    "One can create an Excel file with dynamic data only and use the xlsx parser to load data into system:"
   ]
  },
  {
   "cell_type": "code",
   "execution_count": 7,
   "id": "595ba30a",
   "metadata": {},
   "outputs": [
    {
     "data": {
      "text/plain": [
       "<andes.system.System at 0x7fe0387492e0>"
      ]
     },
     "execution_count": 7,
     "metadata": {},
     "output_type": "execute_result"
    }
   ],
   "source": [
    "from andes.io import xlsx\n",
    "\n",
    "xlsx.read(system, andes.get_case('ieee14/ieee14_dyn_only.xlsx'))"
   ]
  },
  {
   "cell_type": "code",
   "execution_count": 8,
   "id": "73f07f47",
   "metadata": {},
   "outputs": [
    {
     "data": {
      "application/vnd.jupyter.widget-view+json": {
       "model_id": "1fa9e110db004d6f98d6e4e06d07b535",
       "version_major": 2,
       "version_minor": 0
      },
      "text/plain": [
       "  0%|          | 0/100 [00:00<?, ?%/s]"
      ]
     },
     "metadata": {},
     "output_type": "display_data"
    },
    {
     "name": "stdout",
     "output_type": "stream",
     "text": [
      "<Fault 1>: Applying fault on Bus (idx=7) at t=1.0 sec.\n",
      "<Fault 1>: Clearing fault on Bus (idx=7) at t=1.03333 sec.\n"
     ]
    },
    {
     "data": {
      "text/plain": [
       "True"
      ]
     },
     "execution_count": 8,
     "metadata": {},
     "output_type": "execute_result"
    }
   ],
   "source": [
    "system.setup()\n",
    "\n",
    "system.PFlow.run()\n",
    "\n",
    "system.TDS.run()"
   ]
  },
  {
   "cell_type": "code",
   "execution_count": 9,
   "id": "585749f0",
   "metadata": {},
   "outputs": [
    {
     "data": {
      "image/png": "[encoded data removed]",
      "text/plain": [
       "<Figure size 600x400 with 1 Axes>"
      ]
     },
     "metadata": {
      "needs_background": "light"
     },
     "output_type": "display_data"
    },
    {
     "data": {
      "text/plain": [
       "(<Figure size 600x400 with 1 Axes>, <AxesSubplot:xlabel='Time [s]'>)"
      ]
     },
     "execution_count": 9,
     "metadata": {},
     "output_type": "execute_result"
    }
   ],
   "source": [
    "system.TDS.plt.plot(system.GENROU.omega)"
   ]
  },
  {
   "cell_type": "markdown",
   "id": "f970a278",
   "metadata": {},
   "source": [
    "Since the data in `ieee14_dyn_only.xlsx` is stripped from `ieee14/ieee14_fault.xlsx`, the above results is identical to the simulation of the latter case:"
   ]
  },
  {
   "cell_type": "code",
   "execution_count": 10,
   "id": "baea445a",
   "metadata": {},
   "outputs": [
    {
     "data": {
      "application/vnd.jupyter.widget-view+json": {
       "model_id": "2be3c2393b034237b5c138e3fce72361",
       "version_major": 2,
       "version_minor": 0
      },
      "text/plain": [
       "  0%|          | 0/100 [00:00<?, ?%/s]"
      ]
     },
     "metadata": {},
     "output_type": "display_data"
    },
    {
     "name": "stdout",
     "output_type": "stream",
     "text": [
      "<Fault 1>: Applying fault on Bus (idx=9) at t=1.0 sec.\n",
      "<Fault 1>: Clearing fault on Bus (idx=9) at t=1.1 sec.\n",
      "-> Single process finished in 0.6562 seconds.\n"
     ]
    }
   ],
   "source": [
    "ss = andes.run(andes.get_case(\"ieee14/ieee14_fault.xlsx\"), \n",
    "               routine='tds', verbose=30)"
   ]
  },
  {
   "cell_type": "code",
   "execution_count": 11,
   "id": "1b1c11b4",
   "metadata": {},
   "outputs": [
    {
     "data": {
      "image/png": "[encoded data removed]",
      "text/plain": [
       "<Figure size 600x400 with 1 Axes>"
      ]
     },
     "metadata": {
      "needs_background": "light"
     },
     "output_type": "display_data"
    },
    {
     "data": {
      "text/plain": [
       "(<Figure size 600x400 with 1 Axes>, <AxesSubplot:xlabel='Time [s]'>)"
      ]
     },
     "execution_count": 11,
     "metadata": {},
     "output_type": "execute_result"
    }
   ],
   "source": [
    "ss.TDS.plt.plot(ss.GENROU.omega)"
   ]
  }
 ],
 "metadata": {
  "kernelspec": {
   "display_name": "Python 3 (ipykernel)",
   "language": "python",
   "name": "python3"
  },
  "language_info": {
   "codemirror_mode": {
    "name": "ipython",
    "version": 3
   },
   "file_extension": ".py",
   "mimetype": "text/x-python",
   "name": "python",
   "nbconvert_exporter": "python",
   "pygments_lexer": "ipython3",
   "version": "3.9.10"
  }
 },
 "nbformat": 4,
 "nbformat_minor": 5
}
