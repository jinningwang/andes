{
 "cells": [
  {
   "cell_type": "code",
   "execution_count": 1,
   "metadata": {},
   "outputs": [],
   "source": [
    "import andes\n",
    "from andes.utils.paths import get_case\n",
    "\n",
    "andes.config_logger(stream_level=20)"
   ]
  },
  {
   "cell_type": "code",
   "execution_count": 2,
   "metadata": {},
   "outputs": [
    {
     "name": "stderr",
     "output_type": "stream",
     "text": [
      "Working directory: \"/home/hcui7/repos/andes/examples/demonstration\"\n",
      "Loaded config from file \"/home/hcui7/.andes/andes.rc\"\n",
      "Loaded generated Python code in \"/home/hcui7/.andes/pycode\".\n",
      "Parsing input file \"/home/hcui7/repos/andes/andes/cases/ieee14/ieee14_ieeevc.xlsx\"...\n",
      "Input file parsed in 0.3254 seconds.\n",
      "System internal structure set up in 0.0195 seconds.\n"
     ]
    },
    {
     "data": {
      "text/plain": [
       "True"
      ]
     },
     "execution_count": 2,
     "metadata": {},
     "output_type": "execute_result"
    }
   ],
   "source": [
    "ss = andes.load(get_case('ieee14/ieee14_ieeevc.xlsx'),\n",
    "                setup=False,\n",
    "                no_output=True)\n",
    "\n",
    "ss.setup()"
   ]
  },
  {
   "cell_type": "code",
   "execution_count": 3,
   "metadata": {
    "scrolled": true
   },
   "outputs": [
    {
     "name": "stderr",
     "output_type": "stream",
     "text": [
      "-> System connectivity check results:\n",
      "  No islanded bus detected.\n",
      "  A total of 1 island(s) detected.\n",
      "  Each island has a slack bus correctly defined and enabled.\n",
      "\n",
      "-> Power flow calculation\n",
      "   Sparse solver: KLU\n",
      " Solution method: NR method\n",
      " Sparse addition: Fast in-place (kvxopt)\n",
      "Power flow initialized.\n",
      "0: |F(x)| = 0.5605182134\n",
      "1: |F(x)| = 0.006202200332\n",
      "2: |F(x)| = 5.819382825e-06\n",
      "3: |F(x)| = 6.967745825e-12\n",
      "Converged in 4 iterations in 0.0051 seconds.\n",
      "Initialization for dynamics completed in 0.0169 seconds.\n",
      "Initialization was successful.\n"
     ]
    }
   ],
   "source": [
    "ss.PFlow.run()\n",
    "\n",
    "xy = ss.TDS.init()"
   ]
  },
  {
   "cell_type": "code",
   "execution_count": 4,
   "metadata": {},
   "outputs": [
    {
     "name": "stdout",
     "output_type": "stream",
     "text": [
      "Algeb: IEEEVC.vcomp, a=[158], v=[0.02460921], e=[0.]\n",
      "Algeb: IEEET1.vi, a=[216], v=[0.29427554], e=[0.]\n"
     ]
    }
   ],
   "source": [
    "print(ss.IEEEVC.vcomp)\n",
    "print(ss.IEEET1.vi)"
   ]
  },
  {
   "cell_type": "code",
   "execution_count": 5,
   "metadata": {},
   "outputs": [
    {
     "name": "stdout",
     "output_type": "stream",
     "text": [
      "Algeb: IEEEVC.vcomp, a=[158], v=[0.02460921], e=[0.]\n",
      "Algeb: IEEEVC.vcomp, a=[158], v=[0.02460921], e=[0.]\n"
     ]
    }
   ],
   "source": [
    "print(ss.IEEEVC.vcomp)\n",
    "print(ss.IEEEVC.vcomp)"
   ]
  },
  {
   "cell_type": "code",
   "execution_count": 6,
   "metadata": {},
   "outputs": [
    {
     "name": "stderr",
     "output_type": "stream",
     "text": [
      "\n",
      "-> Time Domain Simulation Summary:\n",
      "Sparse Solver: KLU\n",
      "Simulation time: 0.0-5 s.\n",
      "Fixed step size: h=33.33 ms. Shrink if not converged.\n"
     ]
    },
    {
     "name": "stdout",
     "output_type": "stream",
     "text": [
      "<Toggler Toggler_1>: Line.Line_1 status changed to 0 at t=1.0 sec.\n",
      "<Toggler Toggler_2>: Line.Line_1 status changed to 1 at t=1.1 sec.\n",
      "100%|███████████████████████████████| 100/100 [00:00<00:00, 261.85%/s]"
     ]
    },
    {
     "name": "stderr",
     "output_type": "stream",
     "text": [
      "Simulation completed in 0.3826 seconds.\n"
     ]
    },
    {
     "name": "stdout",
     "output_type": "stream",
     "text": [
      "\n"
     ]
    },
    {
     "data": {
      "text/plain": [
       "True"
      ]
     },
     "execution_count": 6,
     "metadata": {},
     "output_type": "execute_result"
    }
   ],
   "source": [
    "ss.TDS.config.tf = 5\n",
    "ss.TDS.run()"
   ]
  },
  {
   "cell_type": "markdown",
   "metadata": {},
   "source": [
    "## Cleanup"
   ]
  },
  {
   "cell_type": "code",
   "execution_count": 7,
   "metadata": {},
   "outputs": [
    {
     "name": "stdout",
     "output_type": "stream",
     "text": [
      "\n",
      "    _           _         | Version 1.4.4.post38.dev0+g04df4b3b\n",
      "   /_\\  _ _  __| |___ ___ | Python 3.9.6 on Linux, 10/09/2021 10:25:15 PM\n",
      "  / _ \\| ' \\/ _` / -_|_-< | \n",
      " /_/ \\_\\_||_\\__,_\\___/__/ | This program comes with ABSOLUTELY NO WARRANTY.\n",
      "\n",
      "No output file found in the working directory.\n"
     ]
    }
   ],
   "source": [
    "!andes misc -C"
   ]
  }
 ],
 "metadata": {
  "interpreter": {
   "hash": "491bc57f30212ab10e081de3c9da13bbea8cb936a32794256be1d301e32fe2dd"
  },
  "kernelspec": {
   "display_name": "Python 3.9.6 64-bit ('a': conda)",
   "name": "python3"
  },
  "language_info": {
   "codemirror_mode": {
    "name": "ipython",
    "version": 3
   },
   "file_extension": ".py",
   "mimetype": "text/x-python",
   "name": "python",
   "nbconvert_exporter": "python",
   "pygments_lexer": "ipython3",
   "version": "3.9.6"
  }
 },
 "nbformat": 4,
 "nbformat_minor": 2
}
