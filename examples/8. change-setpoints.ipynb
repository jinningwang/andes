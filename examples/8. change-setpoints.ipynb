{
 "cells": [
  {
   "cell_type": "markdown",
   "metadata": {},
   "source": [
    "# Changing Turbine Governor Setpoints"
   ]
  },
  {
   "cell_type": "markdown",
   "metadata": {},
   "source": [
    "This notebook shows an example of changing the generator setpoints in a time-domain simulation. Data in this example is trivial, but the example can be retrofitted for scenarios such as economic dispatch incorporation or reinforcement learning.\n",
    "\n",
    "Steps are the folllwing:\n",
    "\n",
    "1. Initialize a system by running the power flow,\n",
    "2. Set the first simulation stop time in `TDS.config.tf`,\n",
    "3. Run the simulation,\n",
    "3. Update the setpoints,\n",
    "4. Set the new simulation stop time and repeat from 3 until the end."
   ]
  },
  {
   "cell_type": "markdown",
   "metadata": {},
   "source": [
    "## Step 1: Case Setup"
   ]
  },
  {
   "cell_type": "code",
   "execution_count": 1,
   "metadata": {},
   "outputs": [],
   "source": [
    "import andes\n",
    "from andes.utils import get_case"
   ]
  },
  {
   "cell_type": "code",
   "execution_count": 2,
   "metadata": {},
   "outputs": [
    {
     "name": "stderr",
     "output_type": "stream",
     "text": [
      "Working directory: \"/Users/hcui7/repos/andes/examples\"\n",
      "Loaded config from file \"/Users/hcui7/.andes/andes.rc\"\n",
      "Parsing input file \"/Users/hcui7/repos/andes/andes/cases/kundur/kundur_full.xlsx\"\n",
      "Input file parsed in 0.0657 seconds.\n",
      "\n",
      "-> Power flow calculation\n",
      "Sparse Solver: KLU\n",
      "Method: NR method\n",
      "Power flow initialized.\n",
      "0: |F(x)| = 14.9283   \n",
      "1: |F(x)| = 3.60858   \n",
      "2: |F(x)| = 0.17009   \n",
      "3: |F(x)| = 0.00203822\n",
      "4: |F(x)| = 3.76399e-07\n",
      "Converged in 5 iterations in 0.0087 seconds.\n",
      "Report saved to \"kundur_full_out.txt\" in 0.0012 seconds.\n",
      "-> Single process finished in 0.1402 seconds.\n"
     ]
    }
   ],
   "source": [
    "kundur = get_case('kundur/kundur_full.xlsx')\n",
    "\n",
    "ss = andes.run(kundur)"
   ]
  },
  {
   "cell_type": "code",
   "execution_count": 3,
   "metadata": {},
   "outputs": [],
   "source": [
    "# disable the Toggler in this case\n",
    "ss.Toggler.alter('u', 1, 0)"
   ]
  },
  {
   "cell_type": "markdown",
   "metadata": {},
   "source": [
    "## Step 2: Set the First Stop Time"
   ]
  },
  {
   "cell_type": "code",
   "execution_count": 4,
   "metadata": {},
   "outputs": [],
   "source": [
    "# simulate to t=1 sec\n",
    "\n",
    "# specify the first stop in `ss.TDS.config.tf`\n",
    "ss.TDS.config.tf = 1"
   ]
  },
  {
   "cell_type": "markdown",
   "metadata": {},
   "source": [
    "## Step 3: Run Simulation"
   ]
  },
  {
   "cell_type": "code",
   "execution_count": 5,
   "metadata": {},
   "outputs": [
    {
     "name": "stderr",
     "output_type": "stream",
     "text": [
      "\n",
      "-> Time Domain Simulation Summary:\n",
      "Sparse Solver: KLU\n",
      "Simulation time: 0-1sec.\n",
      "Fixed step size: h=33.33msec., shrink if not converged\n",
      "Initialization was successful in 0.0133 seconds.\n"
     ]
    },
    {
     "name": "stdout",
     "output_type": "stream",
     "text": [
      " 98%|██████████████████████████████▍| 98/100 [00:00<00:00, 1334.06%/s]"
     ]
    },
    {
     "name": "stderr",
     "output_type": "stream",
     "text": [
      "Simulation completed in 0.0739 seconds.\n",
      "TDS outputs saved in 0.0020 seconds.\n"
     ]
    },
    {
     "name": "stdout",
     "output_type": "stream",
     "text": [
      "\n"
     ]
    },
    {
     "data": {
      "text/plain": [
       "True"
      ]
     },
     "execution_count": 5,
     "metadata": {},
     "output_type": "execute_result"
    }
   ],
   "source": [
    "ss.TDS.run()"
   ]
  },
  {
   "cell_type": "markdown",
   "metadata": {},
   "source": [
    "## Step 4. Apply the auxiliary power setpoints to `TGOV1.paux0.v`"
   ]
  },
  {
   "cell_type": "markdown",
   "metadata": {},
   "source": [
    "First, let's check the equations of TGOV1. `ss.TGOV1.paux0` is associated with equation `0 = paux - paux0`, in which `paux` is added to the power input equation."
   ]
  },
  {
   "cell_type": "code",
   "execution_count": 6,
   "metadata": {},
   "outputs": [
    {
     "name": "stdout",
     "output_type": "stream",
     "text": [
      "Model <TGOV1> in Group <TurbineGov>\n",
      "\n",
      "    TGOV1 model.\n",
      "    \n",
      "Parameters\n",
      "\n",
      " Name  |          Description          | Default | Unit |   Type    | Properties\n",
      "-------+-------------------------------+---------+------+-----------+-----------\n",
      " idx   | unique device idx             |         |      | DataParam |           \n",
      " u     | connection status             | 1       | bool | NumParam  |           \n",
      " name  | device name                   |         |      | DataParam |           \n",
      " syn   | Synchronous generator idx     |         |      | IdxParam  | mandatory \n",
      " R     | Speed regulation gain under   | 0.050   | p.u. | NumParam  | ipower    \n",
      "       | machine base                  |         |      |           |           \n",
      " wref0 | Base speed reference          | 1       | p.u. | NumParam  |           \n",
      " VMAX  | Maximum valve position        | 1.200   | p.u. | NumParam  | power     \n",
      " VMIN  | Minimum valve position        | 0       | p.u. | NumParam  | power     \n",
      " T1    | Valve time constant           | 0.100   |      | NumParam  |           \n",
      " T2    | Lead-lag lead time constant   | 0.200   |      | NumParam  |           \n",
      " T3    | Lead-lag lag time constant    | 10      |      | NumParam  |           \n",
      " Dt    | Turbine damping coefficient   | 0       |      | NumParam  | power     \n",
      " Sn    | Rated power from generator    |         | MVA  | ExtParam  |           \n",
      " Vn    | Rated voltage from generator  |         | kV   | ExtParam  |           \n",
      "\n",
      "Variables\n",
      "\n",
      " Name  | Initial Value |           Description            | Unit | Properties\n",
      "-------+---------------+----------------------------------+------+-----------\n",
      " LAG_x | pd * 1        | State in lag TF                  |      | v_str     \n",
      " LL_x  | LAG_x         | State in lead-lag                |      | v_str     \n",
      " omega |               | Generator speed                  | p.u. |           \n",
      " pout  | u*tm0         | Turbine final output power       |      | v_str     \n",
      " wref  | wref0         | Speed reference variable         |      | v_str     \n",
      " pref  | tm0 * R       | Reference power input            |      | v_str     \n",
      " paux  | paux0         | Auxiliary power input            |      | v_str     \n",
      " wd    | 0             | Generator under speed            | p.u. | v_str     \n",
      " pd    | u * tm0       | Pref plus under speed times gain | p.u. | v_str     \n",
      " LL_y  | LAG_x         | Output of lead-lag               |      | v_str     \n",
      " tm    |               | Mechanical power to generator    |      |           \n",
      "\n",
      "Differential Equations\n",
      "\n",
      " Name  |   Type   | RHS of Equation \"T x' = f(x, y)\" | T (LHS)\n",
      "-------+----------+----------------------------------+--------\n",
      " LAG_x | State    | 1 * pd - LAG_x                   | T1     \n",
      " LL_x  | State    | (LAG_x - LL_x)                   | T3     \n",
      " omega | ExtState |                                  |        \n",
      "\n",
      "Algebraic Equations\n",
      "\n",
      "Name  |   Type   |        RHS of Equation \"0 = g(x, y)\"       \n",
      "------+----------+--------------------------------------------\n",
      " pout | Algeb    | (LL_y + Dt * wd) - pout                    \n",
      " wref | Algeb    | wref0 - wref                               \n",
      " pref | Algeb    | tm0 * R - pref                             \n",
      " paux | Algeb    | paux0 - paux                               \n",
      " wd   | Algeb    | (wref - omega) - wd                        \n",
      " pd   | Algeb    | u*(wd + pref + paux) * gain - pd           \n",
      " LL_y | Algeb    | T2 * (LAG_x - LL_x) + LL_x * T3 - LL_y * T3\n",
      " tm   | ExtAlgeb | u * (pout - tm0)                           \n",
      "\n",
      "Services\n",
      "\n",
      " Name  | Equation |     Type    \n",
      "-------+----------+-------------\n",
      " gain  | u / R    | ConstService\n",
      " paux0 | 0        | ConstService\n",
      "\n",
      "Discrete\n",
      "\n",
      "  Name   |    Type   \n",
      "---------+-----------\n",
      " LAG_lim | AntiWindup\n",
      "\n",
      "\n"
     ]
    }
   ],
   "source": [
    "print(ss.TGOV1.doc())"
   ]
  },
  {
   "cell_type": "code",
   "execution_count": 7,
   "metadata": {},
   "outputs": [
    {
     "data": {
      "text/plain": [
       "array([0., 0., 0., 0.])"
      ]
     },
     "execution_count": 7,
     "metadata": {},
     "output_type": "execute_result"
    }
   ],
   "source": [
    "# look up the original values of TGOV1 make sure they are as expected\n",
    "\n",
    "ss.TGOV1.paux0.v"
   ]
  },
  {
   "cell_type": "code",
   "execution_count": 8,
   "metadata": {},
   "outputs": [],
   "source": [
    "# MUST use in-place assignments. \n",
    "# Here, we increase the setpoint of the 0-th generator\n",
    "\n",
    "ss.TGOV1.paux0.v[0] = 0.05"
   ]
  },
  {
   "cell_type": "code",
   "execution_count": 9,
   "metadata": {},
   "outputs": [],
   "source": [
    "ss.TDS.config.tf = 10"
   ]
  },
  {
   "cell_type": "code",
   "execution_count": null,
   "metadata": {},
   "outputs": [
    {
     "name": "stderr",
     "output_type": "stream",
     "text": [
      "\n",
      "-> Time Domain Simulation Summary:\n",
      "Sparse Solver: KLU\n",
      "Simulation time: 1.0-10sec.\n",
      "Fixed step size: h=33.33msec., shrink if not converged\n"
     ]
    },
    {
     "name": "stdout",
     "output_type": "stream",
     "text": [
      " 67%|████████████████████▊          | 67.0/100 [00:01<00:00, 37.31%/s]"
     ]
    }
   ],
   "source": [
    "ss.TDS.run()"
   ]
  },
  {
   "cell_type": "code",
   "execution_count": null,
   "metadata": {},
   "outputs": [],
   "source": [
    "ss.TDS.plotter.plot(ss.TGOV1.paux)"
   ]
  },
  {
   "cell_type": "code",
   "execution_count": null,
   "metadata": {},
   "outputs": [],
   "source": [
    "ss.TDS.plotter.plot(ss.TGOV1.pout)"
   ]
  },
  {
   "cell_type": "code",
   "execution_count": null,
   "metadata": {},
   "outputs": [],
   "source": [
    "ss.TDS.plotter.plot(ss.GENROU.omega)"
   ]
  },
  {
   "cell_type": "markdown",
   "metadata": {},
   "source": [
    "## Step 5: Set New Setpoints and New Ending TIme.\n",
    "\n",
    "In this example, we remove the auxiliary power setpoints to `TGOV1.paux0.v`"
   ]
  },
  {
   "cell_type": "code",
   "execution_count": null,
   "metadata": {},
   "outputs": [],
   "source": [
    "# use in-place assignment again\n",
    "\n",
    "ss.TGOV1.paux0.v[0] = 0.\n",
    "\n",
    "# set the new ending time to 20 sec.\n",
    "ss.TDS.config.tf = 20"
   ]
  },
  {
   "cell_type": "code",
   "execution_count": null,
   "metadata": {},
   "outputs": [],
   "source": [
    "ss.TDS.run()"
   ]
  },
  {
   "cell_type": "code",
   "execution_count": null,
   "metadata": {},
   "outputs": [],
   "source": [
    "ss.TDS.plotter.plot(ss.TGOV1.paux)"
   ]
  },
  {
   "cell_type": "code",
   "execution_count": null,
   "metadata": {},
   "outputs": [],
   "source": [
    "ss.TDS.plotter.plot(ss.GENROU.omega)"
   ]
  }
 ],
 "metadata": {
  "kernelspec": {
   "display_name": "Python 3",
   "language": "python",
   "name": "python3"
  },
  "language_info": {
   "codemirror_mode": {
    "name": "ipython",
    "version": 3
   },
   "file_extension": ".py",
   "mimetype": "text/x-python",
   "name": "python",
   "nbconvert_exporter": "python",
   "pygments_lexer": "ipython3",
   "version": "3.7.1"
  }
 },
 "nbformat": 4,
 "nbformat_minor": 4
}
