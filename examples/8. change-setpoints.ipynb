{
 "cells": [
  {
   "cell_type": "markdown",
   "metadata": {},
   "source": [
    "# Changing Turbine Governor Setpoints"
   ]
  },
  {
   "cell_type": "markdown",
   "metadata": {},
   "source": [
    "This notebook shows an example of changing the generator setpoints in a time-domain simulation. Data in this example is trivial, but the example can be retrofitted for scenarios such as economic dispatch incorporation or reinforcement learning.\n",
    "\n",
    "Steps are the folllwing:\n",
    "\n",
    "1. Initialize a system by running the power flow,\n",
    "2. Set the first simulation stop time in `TDS.config.tf`,\n",
    "3. Run the simulation,\n",
    "3. Update the setpoints,\n",
    "4. Set the new simulation stop time and repeat from 3 until the end."
   ]
  },
  {
   "cell_type": "markdown",
   "metadata": {},
   "source": [
    "## Step 1: Case Setup"
   ]
  },
  {
   "cell_type": "code",
   "execution_count": 1,
   "metadata": {
    "ExecuteTime": {
     "end_time": "2021-03-19T20:13:21.558619Z",
     "start_time": "2021-03-19T20:13:21.016971Z"
    },
    "execution": {
     "iopub.execute_input": "2021-09-19T22:23:08.993259Z",
     "iopub.status.busy": "2021-09-19T22:23:08.992833Z",
     "iopub.status.idle": "2021-09-19T22:23:09.633055Z",
     "shell.execute_reply": "2021-09-19T22:23:09.632500Z"
    }
   },
   "outputs": [],
   "source": [
    "import andes\n",
    "from andes.utils import get_case"
   ]
  },
  {
   "cell_type": "code",
   "execution_count": 2,
   "metadata": {
    "ExecuteTime": {
     "end_time": "2021-03-19T20:13:22.290011Z",
     "start_time": "2021-03-19T20:13:21.560840Z"
    },
    "execution": {
     "iopub.execute_input": "2021-09-19T22:23:09.635740Z",
     "iopub.status.busy": "2021-09-19T22:23:09.635310Z",
     "iopub.status.idle": "2021-09-19T22:23:29.314978Z",
     "shell.execute_reply": "2021-09-19T22:23:29.315199Z"
    }
   },
   "outputs": [
    {
     "name": "stderr",
     "output_type": "stream",
     "text": [
      "Working directory: \"/home/hcui7/repos/andes/examples\"\n"
     ]
    },
    {
     "name": "stderr",
     "output_type": "stream",
     "text": [
      "Loaded config from file \"/home/hcui7/.andes/andes.rc\"\n"
     ]
    },
    {
     "name": "stderr",
     "output_type": "stream",
     "text": [
      "Loaded generated Python code in \"~/.andes/pycode\".\n"
     ]
    },
    {
     "name": "stderr",
     "output_type": "stream",
     "text": [
      "Parsing input file \"/home/hcui7/repos/andes/andes/cases/kundur/kundur_full.xlsx\"...\n"
     ]
    },
    {
     "name": "stderr",
     "output_type": "stream",
     "text": [
      "Input file parsed in 0.3721 seconds.\n"
     ]
    },
    {
     "name": "stderr",
     "output_type": "stream",
     "text": [
      "System internal structure set up in 0.0231 seconds.\n"
     ]
    },
    {
     "name": "stderr",
     "output_type": "stream",
     "text": [
      "-> System connectivity check results:\n"
     ]
    },
    {
     "name": "stderr",
     "output_type": "stream",
     "text": [
      "  No islanded bus detected.\n"
     ]
    },
    {
     "name": "stderr",
     "output_type": "stream",
     "text": [
      "  A total of 1 island(s) detected.\n"
     ]
    },
    {
     "name": "stderr",
     "output_type": "stream",
     "text": [
      "  Each island has a slack bus correctly defined and enabled.\n"
     ]
    },
    {
     "name": "stderr",
     "output_type": "stream",
     "text": [
      "\n",
      "-> Power flow calculation\n",
      "   Sparse solver: KLU\n",
      " Solution method: NR method\n",
      " Sparse addition: Fast in-place (kvxopt)\n"
     ]
    },
    {
     "name": "stderr",
     "output_type": "stream",
     "text": [
      "Numba compilation initiated, parallel=False, cache=True.\n"
     ]
    },
    {
     "name": "stderr",
     "output_type": "stream",
     "text": [
      "Power flow initialized.\n"
     ]
    },
    {
     "name": "stderr",
     "output_type": "stream",
     "text": [
      "0: |F(x)| = 14.9282832\n"
     ]
    },
    {
     "name": "stderr",
     "output_type": "stream",
     "text": [
      "1: |F(x)| = 3.608627841\n"
     ]
    },
    {
     "name": "stderr",
     "output_type": "stream",
     "text": [
      "2: |F(x)| = 0.1701107882\n"
     ]
    },
    {
     "name": "stderr",
     "output_type": "stream",
     "text": [
      "3: |F(x)| = 0.002038626956\n"
     ]
    },
    {
     "name": "stderr",
     "output_type": "stream",
     "text": [
      "4: |F(x)| = 3.745103977e-07\n"
     ]
    },
    {
     "name": "stderr",
     "output_type": "stream",
     "text": [
      "Converged in 5 iterations in 0.0076 seconds.\n"
     ]
    },
    {
     "name": "stderr",
     "output_type": "stream",
     "text": [
      "Numba compilation initiated, parallel=False, cache=True.\n"
     ]
    },
    {
     "name": "stderr",
     "output_type": "stream",
     "text": [
      "Initialization for dynamics was successful in 10.8118 seconds.\n"
     ]
    },
    {
     "name": "stderr",
     "output_type": "stream",
     "text": [
      "Report saved to \"kundur_full_out.txt\" in 0.0027 seconds.\n"
     ]
    },
    {
     "name": "stdout",
     "output_type": "stream",
     "text": [
      "-> Single process finished in 19.6747 seconds.\n"
     ]
    }
   ],
   "source": [
    "kundur = get_case('kundur/kundur_full.xlsx')\n",
    "\n",
    "ss = andes.run(kundur)"
   ]
  },
  {
   "cell_type": "code",
   "execution_count": 3,
   "metadata": {
    "ExecuteTime": {
     "end_time": "2021-03-19T20:13:22.297356Z",
     "start_time": "2021-03-19T20:13:22.292557Z"
    },
    "execution": {
     "iopub.execute_input": "2021-09-19T22:23:29.317984Z",
     "iopub.status.busy": "2021-09-19T22:23:29.317750Z",
     "iopub.status.idle": "2021-09-19T22:23:29.319498Z",
     "shell.execute_reply": "2021-09-19T22:23:29.319243Z"
    }
   },
   "outputs": [],
   "source": [
    "# disable the Toggler in this case\n",
    "ss.Toggler.alter('u', 1, 0)"
   ]
  },
  {
   "cell_type": "markdown",
   "metadata": {},
   "source": [
    "## Step 2: Set the First Stop Time"
   ]
  },
  {
   "cell_type": "code",
   "execution_count": 4,
   "metadata": {
    "ExecuteTime": {
     "end_time": "2021-03-19T20:13:22.305395Z",
     "start_time": "2021-03-19T20:13:22.302336Z"
    },
    "execution": {
     "iopub.execute_input": "2021-09-19T22:23:29.322998Z",
     "iopub.status.busy": "2021-09-19T22:23:29.321569Z",
     "iopub.status.idle": "2021-09-19T22:23:29.324587Z",
     "shell.execute_reply": "2021-09-19T22:23:29.324285Z"
    }
   },
   "outputs": [],
   "source": [
    "# simulate to t=1 sec\n",
    "\n",
    "# specify the first stop in `ss.TDS.config.tf`\n",
    "ss.TDS.config.tf = 1"
   ]
  },
  {
   "cell_type": "markdown",
   "metadata": {},
   "source": [
    "## Step 3: Run Simulation"
   ]
  },
  {
   "cell_type": "code",
   "execution_count": 5,
   "metadata": {
    "ExecuteTime": {
     "end_time": "2021-03-19T20:13:22.499102Z",
     "start_time": "2021-03-19T20:13:22.308794Z"
    },
    "execution": {
     "iopub.execute_input": "2021-09-19T22:23:29.326911Z",
     "iopub.status.busy": "2021-09-19T22:23:29.325852Z",
     "iopub.status.idle": "2021-09-19T22:23:29.363754Z",
     "shell.execute_reply": "2021-09-19T22:23:29.363971Z"
    }
   },
   "outputs": [
    {
     "name": "stderr",
     "output_type": "stream",
     "text": [
      "\n",
      "-> Time Domain Simulation Summary:\n",
      "Sparse Solver: KLU\n",
      "Simulation time: 0.0-1 s.\n",
      "Fixed step size: h=33.33 ms. Shrink if not converged.\n"
     ]
    },
    {
     "name": "stdout",
     "output_type": "stream",
     "text": [
      "\r",
      "  0%|                                          | 0/100 [00:00<?, ?%/s]"
     ]
    },
    {
     "name": "stdout",
     "output_type": "stream",
     "text": [
      "\r",
      " 32%|█████████▉                     | 32/100 [00:00<00:00, 1510.15%/s]"
     ]
    },
    {
     "name": "stderr",
     "output_type": "stream",
     "text": [
      "Simulation completed in 0.0219 seconds.\n"
     ]
    },
    {
     "name": "stderr",
     "output_type": "stream",
     "text": [
      "Outputs to \"kundur_full_out.lst\" and \"kundur_full_out.npz\".\n"
     ]
    },
    {
     "name": "stderr",
     "output_type": "stream",
     "text": [
      "Outputs written in 0.0013 seconds.\n"
     ]
    },
    {
     "name": "stdout",
     "output_type": "stream",
     "text": [
      "\n"
     ]
    },
    {
     "data": {
      "text/plain": [
       "True"
      ]
     },
     "execution_count": 5,
     "metadata": {},
     "output_type": "execute_result"
    }
   ],
   "source": [
    "ss.TDS.run()"
   ]
  },
  {
   "cell_type": "markdown",
   "metadata": {},
   "source": [
    "## Step 4. Apply the auxiliary power setpoints to `TGOV1.paux0.v`"
   ]
  },
  {
   "cell_type": "markdown",
   "metadata": {},
   "source": [
    "First, let's check the equations of TGOV1. `ss.TGOV1.paux0` is associated with equation `0 = paux - paux0`, in which `paux` is added to the power input equation."
   ]
  },
  {
   "cell_type": "code",
   "execution_count": 6,
   "metadata": {
    "ExecuteTime": {
     "end_time": "2021-03-19T20:13:22.519088Z",
     "start_time": "2021-03-19T20:13:22.503939Z"
    },
    "execution": {
     "iopub.execute_input": "2021-09-19T22:23:29.369923Z",
     "iopub.status.busy": "2021-09-19T22:23:29.369657Z",
     "iopub.status.idle": "2021-09-19T22:23:29.372144Z",
     "shell.execute_reply": "2021-09-19T22:23:29.371923Z"
    },
    "scrolled": true
   },
   "outputs": [
    {
     "name": "stdout",
     "output_type": "stream",
     "text": [
      "Model <TGOV1> in Group <TurbineGov>\n",
      "\n",
      "    TGOV1 turbine governor model.\n",
      "\n",
      "    Implements the PSS/E TGOV1 model without deadband.\n",
      "    \n",
      "Parameters\n",
      "\n",
      " Name  |            Description            | Default | Unit |    Properties   \n",
      "-------+-----------------------------------+---------+------+-----------------\n",
      " idx   | unique device idx                 |         |      |                 \n",
      " u     | connection status                 | 1       | bool |                 \n",
      " name  | device name                       |         |      |                 \n",
      " syn   | Synchronous generator idx         |         |      | mandatory,unique\n",
      " Tn    | Turbine power rating. Equal to    |         | MVA  |                 \n",
      "       | `Sn` if not provided.             |         |      |                 \n",
      " wref0 | Base speed reference              | 1       | p.u. |                 \n",
      " R     | Speed regulation gain (mach. base | 0.050   | p.u. | ipower          \n",
      "       | default)                          |         |      |                 \n",
      " VMAX  | Maximum valve position            | 1.200   | p.u. | power           \n",
      " VMIN  | Minimum valve position            | 0       | p.u. | power           \n",
      " T1    | Valve time constant               | 0.100   |      |                 \n",
      " T2    | Lead-lag lead time constant       | 0.200   |      |                 \n",
      " T3    | Lead-lag lag time constant        | 10      |      |                 \n",
      " Dt    | Turbine damping coefficient       | 0       |      | power           \n",
      " Sg    | Rated power from generator        | 0       | MVA  |                 \n",
      " ug    | Generator connection status       | 0       | bool |                 \n",
      " Vn    | Rated voltage from generator      | 0       | kV   |                 \n",
      "\n",
      "Variables (States + Algebraics)\n",
      "\n",
      " Name  |   Type   |             Description              | Unit | Properties\n",
      "-------+----------+--------------------------------------+------+-----------\n",
      " LAG_y | State    | State in lag TF                      |      | v_str     \n",
      " LL_x  | State    | State in lead-lag                    |      | v_str     \n",
      " omega | ExtState | Generator speed                      | p.u. |           \n",
      " paux  | Algeb    | Auxiliary power input                |      | v_str     \n",
      " pout  | Algeb    | Turbine final output power           |      | v_str     \n",
      " wref  | Algeb    | Speed reference variable             |      | v_str     \n",
      " pref  | Algeb    | Reference power input                |      | v_str     \n",
      " wd    | Algeb    | Generator under speed                | p.u. | v_str     \n",
      " pd    | Algeb    | Pref plus under speed times gain     | p.u. | v_str     \n",
      " LL_y  | Algeb    | Output of lead-lag                   |      | v_str     \n",
      " tm    | ExtAlgeb | Mechanical power interface to SynGen |      |           \n",
      "\n",
      "Variable Initialization Equations\n",
      "\n",
      " Name  |   Type   | Initial Value\n",
      "-------+----------+--------------\n",
      " LAG_y | State    | pd * 1       \n",
      " LL_x  | State    | LAG_y        \n",
      " omega | ExtState |              \n",
      " paux  | Algeb    | paux0        \n",
      " pout  | Algeb    | ue * tm0     \n",
      " wref  | Algeb    | wref0        \n",
      " pref  | Algeb    | tm0 * R      \n",
      " wd    | Algeb    | 0            \n",
      " pd    | Algeb    | ue * tm0     \n",
      " LL_y  | Algeb    | LAG_y        \n",
      " tm    | ExtAlgeb |              \n",
      "\n",
      "Differential Equations\n",
      "\n",
      " Name  |   Type   | RHS of Equation \"T x' = f(x, y)\" | T (LHS)\n",
      "-------+----------+----------------------------------+--------\n",
      " LAG_y | State    | 1 * pd - LAG_y                   | T1     \n",
      " LL_x  | State    | (LAG_y - LL_x)                   | T3     \n",
      " omega | ExtState |                                  |        \n",
      "\n",
      "Algebraic Equations\n",
      "\n",
      "Name  |   Type   |                RHS of Equation \"0 = g(x, y)\"               \n",
      "------+----------+------------------------------------------------------------\n",
      " paux | Algeb    | paux0 - paux                                               \n",
      " pout | Algeb    | ue * (LL_y + Dt * wd) - pout                               \n",
      " wref | Algeb    | wref0 - wref                                               \n",
      " pref | Algeb    | pref0 * R - pref                                           \n",
      " wd   | Algeb    | ue * (wref - omega) - wd                                   \n",
      " pd   | Algeb    | ue*(wd + pref + paux) * gain - pd                          \n",
      " LL_y | Algeb    | 1 * T2 * (LAG_y - LL_x) + 1 * LL_x * T3 - LL_y * T3+       \n",
      "      |          | LL_LT1_z1 * LL_LT2_z1 * (LL_y - 1 * LL_x)                  \n",
      " tm   | ExtAlgeb | ue * (pout - tm0)                                          \n",
      "\n",
      "Services\n",
      "\n",
      " Name  | Equation |     Type    \n",
      "-------+----------+-------------\n",
      " ue    | u * ug   | ConstService\n",
      " pref0 | tm0      | ConstService\n",
      " paux0 | 0        | ConstService\n",
      " gain  | ue/R     | ConstService\n",
      "\n",
      "Discrete\n",
      "\n",
      "  Name   |    Type    |      Info     \n",
      "---------+------------+---------------\n",
      " LAG_lim | AntiWindup | Limiter in Lag\n",
      " LL_LT1  | LessThan   |               \n",
      " LL_LT2  | LessThan   |               \n",
      "\n",
      "Blocks\n",
      "\n",
      "Name |     Type      | Info\n",
      "-----+---------------+-----\n",
      " LAG | LagAntiWindup |     \n",
      " LL  | LeadLag       |     \n",
      "\n",
      "\n"
     ]
    }
   ],
   "source": [
    "print(ss.TGOV1.doc())"
   ]
  },
  {
   "cell_type": "code",
   "execution_count": 7,
   "metadata": {
    "ExecuteTime": {
     "end_time": "2021-03-19T20:13:22.529826Z",
     "start_time": "2021-03-19T20:13:22.523414Z"
    },
    "execution": {
     "iopub.execute_input": "2021-09-19T22:23:29.374518Z",
     "iopub.status.busy": "2021-09-19T22:23:29.373329Z",
     "iopub.status.idle": "2021-09-19T22:23:29.376819Z",
     "shell.execute_reply": "2021-09-19T22:23:29.376552Z"
    }
   },
   "outputs": [
    {
     "data": {
      "text/plain": [
       "array([0., 0., 0., 0.])"
      ]
     },
     "execution_count": 7,
     "metadata": {},
     "output_type": "execute_result"
    }
   ],
   "source": [
    "ss.TGOV1.paux0.v"
   ]
  },
  {
   "cell_type": "code",
   "execution_count": 8,
   "metadata": {
    "ExecuteTime": {
     "end_time": "2021-03-19T20:13:22.539756Z",
     "start_time": "2021-03-19T20:13:22.534130Z"
    },
    "execution": {
     "iopub.execute_input": "2021-09-19T22:23:29.379362Z",
     "iopub.status.busy": "2021-09-19T22:23:29.379081Z",
     "iopub.status.idle": "2021-09-19T22:23:29.382130Z",
     "shell.execute_reply": "2021-09-19T22:23:29.381706Z"
    }
   },
   "outputs": [
    {
     "data": {
      "text/plain": [
       "array([0., 0., 0., 0.])"
      ]
     },
     "execution_count": 8,
     "metadata": {},
     "output_type": "execute_result"
    }
   ],
   "source": [
    "# look up the original values of TGOV1 make sure they are as expected\n",
    "\n",
    "ss.TGOV1.paux0.v"
   ]
  },
  {
   "cell_type": "code",
   "execution_count": 9,
   "metadata": {
    "ExecuteTime": {
     "end_time": "2021-03-19T20:13:22.546373Z",
     "start_time": "2021-03-19T20:13:22.544173Z"
    },
    "execution": {
     "iopub.execute_input": "2021-09-19T22:23:29.384384Z",
     "iopub.status.busy": "2021-09-19T22:23:29.383470Z",
     "iopub.status.idle": "2021-09-19T22:23:29.386580Z",
     "shell.execute_reply": "2021-09-19T22:23:29.386825Z"
    }
   },
   "outputs": [],
   "source": [
    "# MUST use in-place assignments. \n",
    "# Here, we increase the setpoint of the 0-th generator\n",
    "\n",
    "# method 1: use in-place assignment again\n",
    "\n",
    "ss.TGOV1.paux0.v[0] = 0.05\n",
    "\n",
    "# method 2: use ``ss.TGOV1.alter()``\n",
    "\n",
    "# ss.TGOV1.alter('paux0', 1, 0.05)"
   ]
  },
  {
   "cell_type": "code",
   "execution_count": 10,
   "metadata": {
    "ExecuteTime": {
     "end_time": "2021-03-19T20:13:22.551802Z",
     "start_time": "2021-03-19T20:13:22.548389Z"
    },
    "execution": {
     "iopub.execute_input": "2021-09-19T22:23:29.389957Z",
     "iopub.status.busy": "2021-09-19T22:23:29.389710Z",
     "iopub.status.idle": "2021-09-19T22:23:29.392118Z",
     "shell.execute_reply": "2021-09-19T22:23:29.391868Z"
    }
   },
   "outputs": [
    {
     "data": {
      "text/plain": [
       "array([0.05, 0.  , 0.  , 0.  ])"
      ]
     },
     "execution_count": 10,
     "metadata": {},
     "output_type": "execute_result"
    }
   ],
   "source": [
    "ss.TGOV1.paux0.v"
   ]
  },
  {
   "cell_type": "markdown",
   "metadata": {},
   "source": [
    "Continue to simulate to 2 seconds."
   ]
  },
  {
   "cell_type": "code",
   "execution_count": 11,
   "metadata": {
    "ExecuteTime": {
     "end_time": "2021-03-19T20:13:22.555851Z",
     "start_time": "2021-03-19T20:13:22.553588Z"
    },
    "execution": {
     "iopub.execute_input": "2021-09-19T22:23:29.395141Z",
     "iopub.status.busy": "2021-09-19T22:23:29.394889Z",
     "iopub.status.idle": "2021-09-19T22:23:29.396692Z",
     "shell.execute_reply": "2021-09-19T22:23:29.396480Z"
    }
   },
   "outputs": [],
   "source": [
    "ss.TDS.config.tf = 2"
   ]
  },
  {
   "cell_type": "code",
   "execution_count": 12,
   "metadata": {
    "ExecuteTime": {
     "end_time": "2021-03-19T20:13:22.815687Z",
     "start_time": "2021-03-19T20:13:22.557346Z"
    },
    "execution": {
     "iopub.execute_input": "2021-09-19T22:23:29.400106Z",
     "iopub.status.busy": "2021-09-19T22:23:29.399839Z",
     "iopub.status.idle": "2021-09-19T22:23:29.513173Z",
     "shell.execute_reply": "2021-09-19T22:23:29.513426Z"
    }
   },
   "outputs": [
    {
     "name": "stdout",
     "output_type": "stream",
     "text": [
      "\r",
      "  0%|                                          | 0/100 [00:00<?, ?%/s]"
     ]
    },
    {
     "name": "stdout",
     "output_type": "stream",
     "text": [
      "\r",
      "100%|█████████████████████████████| 100.0/100 [00:00<00:00, 988.61%/s]"
     ]
    },
    {
     "name": "stderr",
     "output_type": "stream",
     "text": [
      "Simulation completed in 0.1017 seconds.\n"
     ]
    },
    {
     "name": "stderr",
     "output_type": "stream",
     "text": [
      "Outputs to \"kundur_full_out.lst\" and \"kundur_full_out.npz\".\n"
     ]
    },
    {
     "name": "stderr",
     "output_type": "stream",
     "text": [
      "Outputs written in 0.0036 seconds.\n"
     ]
    },
    {
     "name": "stdout",
     "output_type": "stream",
     "text": [
      "\n"
     ]
    },
    {
     "data": {
      "text/plain": [
       "True"
      ]
     },
     "execution_count": 12,
     "metadata": {},
     "output_type": "execute_result"
    }
   ],
   "source": [
    "ss.TDS.run()"
   ]
  },
  {
   "cell_type": "code",
   "execution_count": 13,
   "metadata": {
    "ExecuteTime": {
     "end_time": "2021-03-19T20:13:23.904691Z",
     "start_time": "2021-03-19T20:13:22.817185Z"
    },
    "execution": {
     "iopub.execute_input": "2021-09-19T22:23:29.516377Z",
     "iopub.status.busy": "2021-09-19T22:23:29.515877Z",
     "iopub.status.idle": "2021-09-19T22:23:30.284665Z",
     "shell.execute_reply": "2021-09-19T22:23:30.284905Z"
    }
   },
   "outputs": [
    {
     "data": {
      "image/png": "[encoded data removed]",
      "text/plain": [
       "<Figure size 600x400 with 1 Axes>"
      ]
     },
     "metadata": {
      "needs_background": "light"
     },
     "output_type": "display_data"
    },
    {
     "data": {
      "text/plain": [
       "(<Figure size 600x400 with 1 Axes>, <AxesSubplot:xlabel='Time [s]'>)"
      ]
     },
     "execution_count": 13,
     "metadata": {},
     "output_type": "execute_result"
    }
   ],
   "source": [
    "ss.TDS.plotter.plot(ss.TGOV1.paux)"
   ]
  },
  {
   "cell_type": "code",
   "execution_count": 14,
   "metadata": {
    "ExecuteTime": {
     "end_time": "2021-03-19T20:13:24.736064Z",
     "start_time": "2021-03-19T20:13:23.906408Z"
    },
    "execution": {
     "iopub.execute_input": "2021-09-19T22:23:30.298356Z",
     "iopub.status.busy": "2021-09-19T22:23:30.287610Z",
     "iopub.status.idle": "2021-09-19T22:23:30.783670Z",
     "shell.execute_reply": "2021-09-19T22:23:30.783426Z"
    }
   },
   "outputs": [
    {
     "data": {
      "image/png": "[encoded data removed]",
      "text/plain": [
       "<Figure size 600x400 with 1 Axes>"
      ]
     },
     "metadata": {
      "needs_background": "light"
     },
     "output_type": "display_data"
    },
    {
     "data": {
      "text/plain": [
       "(<Figure size 600x400 with 1 Axes>, <AxesSubplot:xlabel='Time [s]'>)"
      ]
     },
     "execution_count": 14,
     "metadata": {},
     "output_type": "execute_result"
    }
   ],
   "source": [
    "ss.TDS.plotter.plot(ss.TGOV1.pout)"
   ]
  },
  {
   "cell_type": "code",
   "execution_count": 15,
   "metadata": {
    "ExecuteTime": {
     "end_time": "2021-03-19T20:13:25.014751Z",
     "start_time": "2021-03-19T20:13:24.739696Z"
    },
    "execution": {
     "iopub.execute_input": "2021-09-19T22:23:30.786524Z",
     "iopub.status.busy": "2021-09-19T22:23:30.786244Z",
     "iopub.status.idle": "2021-09-19T22:23:30.964691Z",
     "shell.execute_reply": "2021-09-19T22:23:30.964466Z"
    }
   },
   "outputs": [
    {
     "data": {
      "image/png": "[encoded data removed]",
      "text/plain": [
       "<Figure size 600x400 with 1 Axes>"
      ]
     },
     "metadata": {
      "needs_background": "light"
     },
     "output_type": "display_data"
    },
    {
     "data": {
      "text/plain": [
       "(<Figure size 600x400 with 1 Axes>, <AxesSubplot:xlabel='Time [s]'>)"
      ]
     },
     "execution_count": 15,
     "metadata": {},
     "output_type": "execute_result"
    }
   ],
   "source": [
    "ss.TDS.plotter.plot(ss.GENROU.omega)"
   ]
  },
  {
   "cell_type": "markdown",
   "metadata": {},
   "source": [
    "## Step 5: Set Another New Setpoints and New Ending TIme.\n",
    "\n",
    "In this example, we clear the auxiliary power previously set to `TGOV1.paux0.v`"
   ]
  },
  {
   "cell_type": "code",
   "execution_count": 16,
   "metadata": {
    "ExecuteTime": {
     "end_time": "2021-03-19T20:13:25.018446Z",
     "start_time": "2021-03-19T20:13:25.016455Z"
    },
    "execution": {
     "iopub.execute_input": "2021-09-19T22:23:30.967617Z",
     "iopub.status.busy": "2021-09-19T22:23:30.967389Z",
     "iopub.status.idle": "2021-09-19T22:23:30.969453Z",
     "shell.execute_reply": "2021-09-19T22:23:30.969190Z"
    }
   },
   "outputs": [],
   "source": [
    "# method 1: use in-place assignment again\n",
    "\n",
    "ss.TGOV1.paux0.v[0] = 0.\n",
    "\n",
    "# method 2: use ``ss.TGOV1.alter()``\n",
    "\n",
    "# ss.TGOV1.alter('paux0', 1, 0)\n",
    "\n",
    "# set the new ending time to 10 sec.\n",
    "ss.TDS.config.tf = 10"
   ]
  },
  {
   "cell_type": "code",
   "execution_count": 17,
   "metadata": {
    "ExecuteTime": {
     "end_time": "2021-03-19T20:13:26.308257Z",
     "start_time": "2021-03-19T20:13:25.019594Z"
    },
    "execution": {
     "iopub.execute_input": "2021-09-19T22:23:30.972474Z",
     "iopub.status.busy": "2021-09-19T22:23:30.972239Z",
     "iopub.status.idle": "2021-09-19T22:23:31.650657Z",
     "shell.execute_reply": "2021-09-19T22:23:31.650845Z"
    }
   },
   "outputs": [
    {
     "name": "stdout",
     "output_type": "stream",
     "text": [
      "\r",
      "  0%|                                          | 0/100 [00:00<?, ?%/s]"
     ]
    },
    {
     "name": "stdout",
     "output_type": "stream",
     "text": [
      "\r",
      " 33%|█████████▉                    | 33.0/100 [00:00<00:00, 318.51%/s]"
     ]
    },
    {
     "name": "stdout",
     "output_type": "stream",
     "text": [
      "\r",
      " 65%|███████████████████▌          | 65.0/100 [00:00<00:00, 146.00%/s]"
     ]
    },
    {
     "name": "stdout",
     "output_type": "stream",
     "text": [
      "\r",
      " 85%|█████████████████████████▌    | 85.0/100 [00:00<00:00, 139.25%/s]"
     ]
    },
    {
     "name": "stdout",
     "output_type": "stream",
     "text": [
      "\r",
      "100%|█████████████████████████████| 100.0/100 [00:00<00:00, 153.10%/s]"
     ]
    },
    {
     "name": "stderr",
     "output_type": "stream",
     "text": [
      "Simulation completed in 0.6539 seconds.\n"
     ]
    },
    {
     "name": "stderr",
     "output_type": "stream",
     "text": [
      "Outputs to \"kundur_full_out.lst\" and \"kundur_full_out.npz\".\n"
     ]
    },
    {
     "name": "stderr",
     "output_type": "stream",
     "text": [
      "Outputs written in 0.0134 seconds.\n"
     ]
    },
    {
     "name": "stdout",
     "output_type": "stream",
     "text": [
      "\n"
     ]
    },
    {
     "data": {
      "text/plain": [
       "True"
      ]
     },
     "execution_count": 17,
     "metadata": {},
     "output_type": "execute_result"
    }
   ],
   "source": [
    "ss.TDS.run()"
   ]
  },
  {
   "cell_type": "code",
   "execution_count": 18,
   "metadata": {
    "ExecuteTime": {
     "end_time": "2021-03-19T20:13:26.578840Z",
     "start_time": "2021-03-19T20:13:26.313049Z"
    },
    "execution": {
     "iopub.execute_input": "2021-09-19T22:23:31.653171Z",
     "iopub.status.busy": "2021-09-19T22:23:31.652204Z",
     "iopub.status.idle": "2021-09-19T22:23:31.847714Z",
     "shell.execute_reply": "2021-09-19T22:23:31.847308Z"
    }
   },
   "outputs": [
    {
     "data": {
      "image/png": "[encoded data removed]",
      "text/plain": [
       "<Figure size 600x400 with 1 Axes>"
      ]
     },
     "metadata": {
      "needs_background": "light"
     },
     "output_type": "display_data"
    },
    {
     "data": {
      "text/plain": [
       "(<Figure size 600x400 with 1 Axes>, <AxesSubplot:xlabel='Time [s]'>)"
      ]
     },
     "execution_count": 18,
     "metadata": {},
     "output_type": "execute_result"
    }
   ],
   "source": [
    "ss.TDS.plotter.plot(ss.TGOV1.paux)"
   ]
  },
  {
   "cell_type": "code",
   "execution_count": 19,
   "metadata": {
    "ExecuteTime": {
     "end_time": "2021-03-19T20:13:26.866303Z",
     "start_time": "2021-03-19T20:13:26.583667Z"
    },
    "execution": {
     "iopub.execute_input": "2021-09-19T22:23:31.851810Z",
     "iopub.status.busy": "2021-09-19T22:23:31.851423Z",
     "iopub.status.idle": "2021-09-19T22:23:31.985021Z",
     "shell.execute_reply": "2021-09-19T22:23:31.985222Z"
    }
   },
   "outputs": [
    {
     "data": {
      "image/png": "[encoded data removed]",
      "text/plain": [
       "<Figure size 600x400 with 1 Axes>"
      ]
     },
     "metadata": {
      "needs_background": "light"
     },
     "output_type": "display_data"
    },
    {
     "data": {
      "text/plain": [
       "(<Figure size 600x400 with 1 Axes>, <AxesSubplot:xlabel='Time [s]'>)"
      ]
     },
     "execution_count": 19,
     "metadata": {},
     "output_type": "execute_result"
    }
   ],
   "source": [
    "ss.TDS.plotter.plot(ss.GENROU.omega)"
   ]
  },
  {
   "cell_type": "code",
   "execution_count": 20,
   "metadata": {
    "execution": {
     "iopub.execute_input": "2021-09-19T22:23:31.987518Z",
     "iopub.status.busy": "2021-09-19T22:23:31.987295Z",
     "iopub.status.idle": "2021-09-19T22:23:32.662806Z",
     "shell.execute_reply": "2021-09-19T22:23:32.662441Z"
    }
   },
   "outputs": [
    {
     "name": "stdout",
     "output_type": "stream",
     "text": [
      "\r\n",
      "    _           _         | Version 1.4.2.post33.dev0+g135cb3eb\r\n",
      "   /_\\  _ _  __| |___ ___ | Python 3.9.6 on Linux, 09/19/2021 05:23:32 PM\r\n",
      "  / _ \\| ' \\/ _` / -_|_-< | \r\n",
      " /_/ \\_\\_||_\\__,_\\___/__/ | This program comes with ABSOLUTELY NO WARRANTY.\r\n",
      "\r\n",
      "\"/home/hcui7/repos/andes/examples/kundur_full_out.txt\" removed.\r\n",
      "\"/home/hcui7/repos/andes/examples/kundur_full_out.npz\" removed.\r\n",
      "\"/home/hcui7/repos/andes/examples/kundur_full_out.lst\" removed.\r\n"
     ]
    }
   ],
   "source": [
    "!andes misc -C"
   ]
  }
 ],
 "metadata": {
  "kernelspec": {
   "display_name": "Python 3",
   "language": "python",
   "name": "python3"
  },
  "language_info": {
   "codemirror_mode": {
    "name": "ipython",
    "version": 3
   },
   "file_extension": ".py",
   "mimetype": "text/x-python",
   "name": "python",
   "nbconvert_exporter": "python",
   "pygments_lexer": "ipython3",
   "version": "3.9.6"
  },
  "varInspector": {
   "cols": {
    "lenName": 16,
    "lenType": 16,
    "lenVar": 40
   },
   "kernels_config": {
    "python": {
     "delete_cmd_postfix": "",
     "delete_cmd_prefix": "del ",
     "library": "var_list.py",
     "varRefreshCmd": "print(var_dic_list())"
    },
    "r": {
     "delete_cmd_postfix": ") ",
     "delete_cmd_prefix": "rm(",
     "library": "var_list.r",
     "varRefreshCmd": "cat(var_dic_list()) "
    }
   },
   "types_to_exclude": [
    "module",
    "function",
    "builtin_function_or_method",
    "instance",
    "_Feature"
   ],
   "window_display": false
  }
 },
 "nbformat": 4,
 "nbformat_minor": 4
}
