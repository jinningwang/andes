{
 "cells": [
  {
   "cell_type": "markdown",
   "metadata": {},
   "source": [
    "# Profiling ANDES in Notebook"
   ]
  },
  {
   "cell_type": "markdown",
   "metadata": {},
   "source": [
    "## Profiling with Python CProfiler"
   ]
  },
  {
   "cell_type": "code",
   "execution_count": 1,
   "metadata": {},
   "outputs": [],
   "source": [
    "import andes\n",
    "from andes.utils.paths import get_case\n",
    "\n",
    "case_path = get_case('kundur/kundur_full.xlsx')"
   ]
  },
  {
   "cell_type": "markdown",
   "metadata": {},
   "source": [
    "Passing `profile=True, no_output = True` to `run` will enable the profiler and have the results printed."
   ]
  },
  {
   "cell_type": "code",
   "execution_count": 2,
   "metadata": {},
   "outputs": [
    {
     "name": "stderr",
     "output_type": "stream",
     "text": [
      "Working directory: \"/home/hcui7/repos/andes/examples\"\n",
      "Parsing input file \"/home/hcui7/repos/andes/andes/cases/kundur/kundur_full.xlsx\"\n",
      "Input file parsed in 0.0948 seconds.\n",
      "\n",
      "-> Power flow calculation\n",
      "Method: NR method\n",
      "Power flow initialized.\n",
      "0: |F(x)| = 14.9283   \n",
      "1: |F(x)| = 3.60858   \n",
      "2: |F(x)| = 0.17009   \n",
      "3: |F(x)| = 0.00203822\n",
      "4: |F(x)| = 3.76399e-07\n",
      "Converged in 5 iterations in 0.0210 seconds.\n",
      "\n",
      "-> Time Domain Simulation Summary:\n",
      "Sparse Solver: KLU\n",
      "Simulation time: 0.0-20.0sec.\n",
      "Fixed step size: h=33.33msec., shrink if not converged\n",
      "Initialization was successful in 0.0171 seconds.\n"
     ]
    },
    {
     "name": "stdout",
     "output_type": "stream",
     "text": [
      "<Toggle 1>: Status of Line.Line_8 changed to 0.0 at t=2.0sec.         \n",
      "100%|████████████████████████████████| 100/100 [00:01<00:00, 60.97%/s]"
     ]
    },
    {
     "name": "stderr",
     "output_type": "stream",
     "text": [
      "Simulation completed in 1.6409 seconds.\n"
     ]
    },
    {
     "name": "stdout",
     "output_type": "stream",
     "text": [
      "\n"
     ]
    },
    {
     "name": "stderr",
     "output_type": "stream",
     "text": [
      "\n",
      "-> Single process finished in 1.9462 seconds.\n"
     ]
    },
    {
     "name": "stdout",
     "output_type": "stream",
     "text": [
      "         1234750 function calls (1232021 primitive calls) in 1.914 seconds\n",
      "\n",
      "   Ordered by: cumulative time\n",
      "   List reduced from 2067 to 40 due to restriction <40>\n",
      "\n",
      "   ncalls  tottime  percall  cumtime  percall filename:lineno(function)\n",
      "        1    0.006    0.006    1.701    1.701 /home/hcui7/repos/andes/andes/routines/tds.py:144(run)\n",
      "      600    0.080    0.000    1.608    0.003 /home/hcui7/repos/andes/andes/routines/tds.py:256(_itm_step)\n",
      "     1834    0.007    0.000    1.284    0.001 /home/hcui7/repos/andes/andes/routines/tds.py:244(_fg_update)\n",
      "     9227    0.076    0.000    1.243    0.000 /home/hcui7/repos/andes/andes/system.py:872(call_models)\n",
      "     1839    0.002    0.000    0.681    0.000 /home/hcui7/repos/andes/andes/system.py:582(g_update)\n",
      "    18370    0.212    0.000    0.653    0.000 /home/hcui7/repos/andes/andes/core/model.py:1083(g_update)\n",
      "     1839    0.002    0.000    0.303    0.000 /home/hcui7/repos/andes/andes/system.py:568(f_update)\n",
      "    18370    0.126    0.000    0.275    0.000 /home/hcui7/repos/andes/andes/core/model.py:1052(f_update)\n",
      "        1    0.000    0.000    0.187    0.187 /home/hcui7/repos/andes/andes/main.py:235(load)\n",
      "     1839    0.003    0.000    0.142    0.000 /home/hcui7/repos/andes/andes/system.py:542(l_update_eq)\n",
      "44136/44134    0.112    0.000    0.112    0.000 {built-in method numpy.array}\n",
      "     1839    0.093    0.000    0.100    0.000 <lambdifygenerated-50>:1(_lambdifygenerated)\n",
      "        1    0.000    0.000    0.096    0.096 /home/hcui7/repos/andes/andes/io/__init__.py:94(parse)\n",
      "        1    0.000    0.000    0.094    0.094 /home/hcui7/repos/andes/andes/io/xlsx.py:84(read)\n",
      "     1834    0.076    0.000    0.092    0.000 <lambdifygenerated-149>:1(_lambdifygenerated)\n",
      "       29    0.032    0.001    0.089    0.003 /home/hcui7/repos/andes/andes/system.py:596(j_update)\n",
      "     1838    0.001    0.000    0.085    0.000 /home/hcui7/repos/andes/andes/core/solver.py:34(solve)\n",
      "     1838    0.007    0.000    0.084    0.000 /home/hcui7/repos/andes/andes/core/solver.py:156(solve)\n",
      "     1839    0.078    0.000    0.083    0.000 <lambdifygenerated-6>:1(_lambdifygenerated)\n",
      "     1839    0.003    0.000    0.083    0.000 /home/hcui7/repos/andes/andes/system.py:552(fg_to_dae)\n",
      "     3678    0.014    0.000    0.079    0.000 /home/hcui7/repos/andes/andes/system.py:722(_e_to_dae)\n",
      "     1834    0.066    0.000    0.076    0.000 <lambdifygenerated-150>:1(_lambdifygenerated)\n",
      "      2/1    0.000    0.000    0.074    0.074 /home/hcui7/miniconda3/envs/andes/lib/python3.7/site-packages/pandas/util/_decorators.py:146(wrapper)\n",
      "        1    0.000    0.000    0.074    0.074 /home/hcui7/miniconda3/envs/andes/lib/python3.7/site-packages/pandas/io/excel.py:308(read_excel)\n",
      "        1    0.000    0.000    0.072    0.072 /home/hcui7/repos/andes/andes/system.py:60(__init__)\n",
      "   198/77    0.001    0.000    0.069    0.001 <frozen importlib._bootstrap>:978(_find_and_load)\n",
      "   180/60    0.000    0.000    0.068    0.001 <frozen importlib._bootstrap>:948(_find_and_load_unlocked)\n",
      "     1839    0.002    0.000    0.067    0.000 /home/hcui7/repos/andes/andes/system.py:534(l_update_var)\n",
      "    25726    0.065    0.000    0.065    0.000 {method 'at' of 'numpy.ufunc' objects}\n",
      "    81/30    0.000    0.000    0.061    0.002 <frozen importlib._bootstrap>:663(_load_unlocked)\n",
      "       12    0.005    0.000    0.060    0.005 /home/hcui7/miniconda3/envs/andes/lib/python3.7/site-packages/pandas/core/frame.py:378(__init__)\n",
      "    75/30    0.000    0.000    0.059    0.002 <frozen importlib._bootstrap_external>:722(exec_module)\n",
      "   169/52    0.000    0.000    0.058    0.001 <frozen importlib._bootstrap>:211(_call_with_frames_removed)\n",
      "    18370    0.017    0.000    0.057    0.000 /home/hcui7/repos/andes/andes/core/model.py:830(l_check_eq)\n",
      "     1838    0.001    0.000    0.057    0.000 /home/hcui7/repos/andes/andes/core/solver.py:265(_numeric)\n",
      "     1838    0.055    0.000    0.055    0.000 {built-in method cvxoptklu.klu.numeric}\n",
      "    75/30    0.000    0.000    0.055    0.002 {built-in method builtins.exec}\n",
      "      270    0.040    0.000    0.052    0.000 /home/hcui7/repos/andes/andes/core/model.py:1110(j_update)\n",
      "       37    0.000    0.000    0.048    0.001 /home/hcui7/miniconda3/envs/andes/lib/python3.7/importlib/__init__.py:109(import_module)\n",
      "       37    0.000    0.000    0.048    0.001 <frozen importlib._bootstrap>:994(_gcd_import)\n",
      "\n",
      "\n"
     ]
    }
   ],
   "source": [
    "ss = andes.run(case_path, profile=True, routine='tds', no_output=True)"
   ]
  },
  {
   "cell_type": "markdown",
   "metadata": {},
   "source": [
    "## Profiling with `line_profiler`."
   ]
  },
  {
   "cell_type": "markdown",
   "metadata": {},
   "source": [
    "`line_profiler` provides line-based profiling results for functions. \n",
    "\n",
    "Install with `pip install line_profiler` and restart the notebook."
   ]
  },
  {
   "cell_type": "code",
   "execution_count": 3,
   "metadata": {},
   "outputs": [],
   "source": [
    "import andes\n",
    "from andes.utils.paths import get_case\n",
    "\n",
    "case_path = get_case('kundur/kundur_full.xlsx')"
   ]
  },
  {
   "cell_type": "markdown",
   "metadata": {},
   "source": [
    "### Profile power flow "
   ]
  },
  {
   "cell_type": "markdown",
   "metadata": {},
   "source": [
    "Pass the function name to profile to the magic `%lprun`, followed by a call to the function itself or an upper-level function.\n",
    "\n",
    "Results will be shown in a popup window."
   ]
  },
  {
   "cell_type": "code",
   "execution_count": 4,
   "metadata": {},
   "outputs": [
    {
     "name": "stderr",
     "output_type": "stream",
     "text": [
      "UsageError: Line magic function `%lprun` not found.\n"
     ]
    }
   ],
   "source": [
    "%lprun -f andes.routines.pflow.PFlow.run andes.run(case_path, no_output=True)"
   ]
  },
  {
   "cell_type": "markdown",
   "metadata": {},
   "source": [
    "Alternatively, do"
   ]
  },
  {
   "cell_type": "code",
   "execution_count": null,
   "metadata": {},
   "outputs": [],
   "source": [
    "ss = andes.run(case_path, no_output=True)"
   ]
  },
  {
   "cell_type": "code",
   "execution_count": null,
   "metadata": {},
   "outputs": [],
   "source": [
    "%lprun -f ss.PFlow.run ss.PFlow.run()"
   ]
  },
  {
   "cell_type": "markdown",
   "metadata": {},
   "source": [
    "To dig into the Newton Raphson iteration steps, profile each step instead with:"
   ]
  },
  {
   "cell_type": "code",
   "execution_count": null,
   "metadata": {},
   "outputs": [],
   "source": [
    "%lprun -f ss.PFlow.nr_step ss.PFlow.run()"
   ]
  },
  {
   "cell_type": "markdown",
   "metadata": {},
   "source": [
    "### Profile time-domain simulation"
   ]
  },
  {
   "cell_type": "code",
   "execution_count": null,
   "metadata": {},
   "outputs": [],
   "source": [
    "%lprun -f ss.TDS._implicit_step ss.TDS.run()"
   ]
  },
  {
   "cell_type": "markdown",
   "metadata": {},
   "source": [
    "## Cleanup"
   ]
  },
  {
   "cell_type": "code",
   "execution_count": null,
   "metadata": {},
   "outputs": [],
   "source": [
    "!andes misc -C"
   ]
  }
 ],
 "metadata": {
  "kernelspec": {
   "display_name": "Python 3",
   "language": "python",
   "name": "python3"
  },
  "language_info": {
   "codemirror_mode": {
    "name": "ipython",
    "version": 3
   },
   "file_extension": ".py",
   "mimetype": "text/x-python",
   "name": "python",
   "nbconvert_exporter": "python",
   "pygments_lexer": "ipython3",
   "version": "3.7.3"
  }
 },
 "nbformat": 4,
 "nbformat_minor": 4
}
