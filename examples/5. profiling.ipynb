{
 "cells": [
  {
   "cell_type": "markdown",
   "metadata": {},
   "source": [
    "# Profiling ANDES in Notebook"
   ]
  },
  {
   "cell_type": "markdown",
   "metadata": {},
   "source": [
    "## Profiling with Python CProfiler"
   ]
  },
  {
   "cell_type": "markdown",
   "metadata": {},
   "source": [
    "Before getting started, this example requires the config flag `PFlow.init_tds` to be `0`, which is the default value."
   ]
  },
  {
   "cell_type": "code",
   "execution_count": 1,
   "metadata": {
    "ExecuteTime": {
     "end_time": "2021-03-18T00:45:01.143169Z",
     "start_time": "2021-03-18T00:45:00.625170Z"
    },
    "execution": {
     "iopub.execute_input": "2021-09-19T22:23:08.970253Z",
     "iopub.status.busy": "2021-09-19T22:23:08.969832Z",
     "iopub.status.idle": "2021-09-19T22:23:09.696317Z",
     "shell.execute_reply": "2021-09-19T22:23:09.696771Z"
    }
   },
   "outputs": [],
   "source": [
    "import andes\n",
    "from andes.utils.paths import get_case\n",
    "\n",
    "case_path = get_case('kundur/kundur_full.xlsx')"
   ]
  },
  {
   "cell_type": "markdown",
   "metadata": {},
   "source": [
    "Passing `profile=True, no_output = True` to `run` will enable the profiler and have the results printed."
   ]
  },
  {
   "cell_type": "code",
   "execution_count": 2,
   "metadata": {
    "ExecuteTime": {
     "end_time": "2021-03-18T00:45:04.746020Z",
     "start_time": "2021-03-18T00:45:01.145480Z"
    },
    "execution": {
     "iopub.execute_input": "2021-09-19T22:23:09.699075Z",
     "iopub.status.busy": "2021-09-19T22:23:09.698650Z",
     "iopub.status.idle": "2021-09-19T22:23:31.192876Z",
     "shell.execute_reply": "2021-09-19T22:23:31.192642Z"
    }
   },
   "outputs": [
    {
     "name": "stderr",
     "output_type": "stream",
     "text": [
      "Working directory: \"/home/hcui7/repos/andes/examples\"\n"
     ]
    },
    {
     "name": "stderr",
     "output_type": "stream",
     "text": [
      "Loaded config from file \"/home/hcui7/.andes/andes.rc\"\n"
     ]
    },
    {
     "name": "stderr",
     "output_type": "stream",
     "text": [
      "Loaded generated Python code in \"~/.andes/pycode\".\n"
     ]
    },
    {
     "name": "stderr",
     "output_type": "stream",
     "text": [
      "Parsing input file \"/home/hcui7/repos/andes/andes/cases/kundur/kundur_full.xlsx\"...\n"
     ]
    },
    {
     "name": "stderr",
     "output_type": "stream",
     "text": [
      "Input file parsed in 0.5758 seconds.\n"
     ]
    },
    {
     "name": "stderr",
     "output_type": "stream",
     "text": [
      "System internal structure set up in 0.0460 seconds.\n"
     ]
    },
    {
     "name": "stderr",
     "output_type": "stream",
     "text": [
      "-> System connectivity check results:\n"
     ]
    },
    {
     "name": "stderr",
     "output_type": "stream",
     "text": [
      "  No islanded bus detected.\n"
     ]
    },
    {
     "name": "stderr",
     "output_type": "stream",
     "text": [
      "  A total of 1 island(s) detected.\n"
     ]
    },
    {
     "name": "stderr",
     "output_type": "stream",
     "text": [
      "  Each island has a slack bus correctly defined and enabled.\n"
     ]
    },
    {
     "name": "stderr",
     "output_type": "stream",
     "text": [
      "\n",
      "-> Power flow calculation\n",
      "   Sparse solver: KLU\n",
      " Solution method: NR method\n",
      " Sparse addition: Fast in-place (kvxopt)\n"
     ]
    },
    {
     "name": "stderr",
     "output_type": "stream",
     "text": [
      "Numba compilation initiated, parallel=False, cache=True.\n"
     ]
    },
    {
     "name": "stderr",
     "output_type": "stream",
     "text": [
      "Power flow initialized.\n"
     ]
    },
    {
     "name": "stderr",
     "output_type": "stream",
     "text": [
      "0: |F(x)| = 14.9282832\n"
     ]
    },
    {
     "name": "stderr",
     "output_type": "stream",
     "text": [
      "1: |F(x)| = 3.608627841\n"
     ]
    },
    {
     "name": "stderr",
     "output_type": "stream",
     "text": [
      "2: |F(x)| = 0.1701107882\n"
     ]
    },
    {
     "name": "stderr",
     "output_type": "stream",
     "text": [
      "3: |F(x)| = 0.002038626956\n"
     ]
    },
    {
     "name": "stderr",
     "output_type": "stream",
     "text": [
      "4: |F(x)| = 3.745103977e-07\n"
     ]
    },
    {
     "name": "stderr",
     "output_type": "stream",
     "text": [
      "Converged in 5 iterations in 0.0090 seconds.\n"
     ]
    },
    {
     "name": "stderr",
     "output_type": "stream",
     "text": [
      "Numba compilation initiated, parallel=False, cache=True.\n"
     ]
    },
    {
     "name": "stderr",
     "output_type": "stream",
     "text": [
      "Initialization for dynamics was successful in 9.5131 seconds.\n"
     ]
    },
    {
     "name": "stderr",
     "output_type": "stream",
     "text": [
      "\n",
      "-> Time Domain Simulation Summary:\n",
      "Sparse Solver: KLU\n",
      "Simulation time: 0.0-20.0 s.\n",
      "Fixed step size: h=33.33 ms. Shrink if not converged.\n"
     ]
    },
    {
     "name": "stdout",
     "output_type": "stream",
     "text": [
      "\r",
      "  0%|                                          | 0/100 [00:00<?, ?%/s]"
     ]
    },
    {
     "name": "stdout",
     "output_type": "stream",
     "text": [
      "\r",
      "                                                                      "
     ]
    },
    {
     "name": "stdout",
     "output_type": "stream",
     "text": [
      "\r"
     ]
    },
    {
     "name": "stdout",
     "output_type": "stream",
     "text": [
      "<Toggler 1>: Line.Line_8 status changed to 0 at t=2.0 sec.\n",
      "\r",
      " 10%|███▏                            | 10/100 [00:00<00:00, 262.61%/s]"
     ]
    },
    {
     "name": "stdout",
     "output_type": "stream",
     "text": [
      "\r",
      " 14%|████▍                           | 14/100 [00:00<00:00, 128.35%/s]"
     ]
    },
    {
     "name": "stdout",
     "output_type": "stream",
     "text": [
      "\r",
      " 27%|████████▉                        | 27/100 [00:00<00:00, 74.19%/s]"
     ]
    },
    {
     "name": "stdout",
     "output_type": "stream",
     "text": [
      "\r",
      " 36%|███████████▉                     | 36/100 [00:00<00:00, 67.66%/s]"
     ]
    },
    {
     "name": "stdout",
     "output_type": "stream",
     "text": [
      "\r",
      " 44%|██████████████▌                  | 44/100 [00:00<00:00, 68.13%/s]"
     ]
    },
    {
     "name": "stdout",
     "output_type": "stream",
     "text": [
      "\r",
      " 53%|█████████████████▍               | 53/100 [00:00<00:00, 72.63%/s]"
     ]
    },
    {
     "name": "stdout",
     "output_type": "stream",
     "text": [
      "\r",
      " 61%|████████████████████▏            | 61/100 [00:00<00:00, 74.36%/s]"
     ]
    },
    {
     "name": "stdout",
     "output_type": "stream",
     "text": [
      "\r",
      " 69%|██████████████████████▊          | 69/100 [00:00<00:00, 74.60%/s]"
     ]
    },
    {
     "name": "stdout",
     "output_type": "stream",
     "text": [
      "\r",
      " 77%|█████████████████████████▍       | 77/100 [00:01<00:00, 73.15%/s]"
     ]
    },
    {
     "name": "stdout",
     "output_type": "stream",
     "text": [
      "\r",
      " 85%|████████████████████████████     | 85/100 [00:01<00:00, 72.84%/s]"
     ]
    },
    {
     "name": "stdout",
     "output_type": "stream",
     "text": [
      "\r",
      " 93%|██████████████████████████████▋  | 93/100 [00:01<00:00, 60.73%/s]"
     ]
    },
    {
     "name": "stdout",
     "output_type": "stream",
     "text": [
      "\r",
      "100%|████████████████████████████████| 100/100 [00:01<00:00, 70.31%/s]"
     ]
    },
    {
     "name": "stderr",
     "output_type": "stream",
     "text": [
      "Simulation completed in 1.4240 seconds.\n"
     ]
    },
    {
     "name": "stdout",
     "output_type": "stream",
     "text": [
      "\n"
     ]
    },
    {
     "name": "stderr",
     "output_type": "stream",
     "text": [
      "\n"
     ]
    },
    {
     "name": "stdout",
     "output_type": "stream",
     "text": [
      "         18966441 function calls (17908943 primitive calls) in 21.101 seconds\n",
      "\n",
      "   Ordered by: cumulative time\n",
      "   List reduced from 9157 to 40 due to restriction <40>\n",
      "\n",
      "   ncalls  tottime  percall  cumtime  percall filename:lineno(function)\n",
      "    11677    0.097    0.000   19.364    0.002 /home/hcui7/repos/andes/andes/system.py:1525(call_models)\n",
      "        1    0.000    0.000   18.795   18.795 /home/hcui7/repos/andes/andes/routines/pflow.py:174(run)\n",
      "       28    0.001    0.000   18.456    0.659 /home/hcui7/mambaforge/envs/a/lib/python3.9/site-packages/numba/core/dispatcher.py:402(_compile_for_args)\n",
      "    32/28    0.002    0.000   18.412    0.658 /home/hcui7/mambaforge/envs/a/lib/python3.9/site-packages/numba/core/dispatcher.py:929(compile)\n",
      "    12/11    0.000    0.000   17.448    1.586 /home/hcui7/mambaforge/envs/a/lib/python3.9/site-packages/numba/core/dispatcher.py:140(compile)\n",
      "    12/11    0.000    0.000   17.448    1.586 /home/hcui7/mambaforge/envs/a/lib/python3.9/site-packages/numba/core/dispatcher.py:147(_compile_cached)\n",
      "    12/11    0.002    0.000   17.447    1.586 /home/hcui7/mambaforge/envs/a/lib/python3.9/site-packages/numba/core/dispatcher.py:162(_compile_core)\n",
      "    12/11    0.000    0.000   17.444    1.586 /home/hcui7/mambaforge/envs/a/lib/python3.9/site-packages/numba/core/compiler.py:660(compile_extra)\n",
      "   119/11    0.002    0.000   17.436    1.585 /home/hcui7/mambaforge/envs/a/lib/python3.9/site-packages/numba/core/compiler.py:422(compile_extra)\n",
      " 2858/265    0.009    0.000   17.429    0.066 /home/hcui7/mambaforge/envs/a/lib/python3.9/site-packages/numba/core/compiler_lock.py:32(_acquire_compile_lock)\n",
      "   119/11    0.002    0.000   17.428    1.584 /home/hcui7/mambaforge/envs/a/lib/python3.9/site-packages/numba/core/compiler.py:487(_compile_bytecode)\n",
      "   119/11    0.003    0.000   17.428    1.584 /home/hcui7/mambaforge/envs/a/lib/python3.9/site-packages/numba/core/compiler.py:445(_compile_core)\n",
      "   119/11    0.031    0.000   17.421    1.584 /home/hcui7/mambaforge/envs/a/lib/python3.9/site-packages/numba/core/compiler_machinery.py:320(run)\n",
      " 2856/264    0.041    0.000   17.390    0.066 /home/hcui7/mambaforge/envs/a/lib/python3.9/site-packages/numba/core/compiler_machinery.py:257(_runPass)\n",
      " 8568/792    0.031    0.000   17.377    0.022 /home/hcui7/mambaforge/envs/a/lib/python3.9/site-packages/numba/core/compiler_machinery.py:261(check)\n",
      "   119/11    0.010    0.000   15.734    1.430 /home/hcui7/mambaforge/envs/a/lib/python3.9/site-packages/numba/core/typed_passes.py:365(run_pass)\n",
      "   119/11    0.002    0.000    9.555    0.869 /home/hcui7/mambaforge/envs/a/lib/python3.9/site-packages/numba/core/lowering.py:133(lower)\n",
      "        2    0.000    0.000    9.515    4.757 /home/hcui7/repos/andes/andes/routines/tds.py:133(init)\n",
      "        1    0.000    0.000    9.480    9.480 /home/hcui7/repos/andes/andes/routines/tds.py:669(test_init)\n",
      "       30    0.003    0.000    9.463    0.315 /home/hcui7/repos/andes/andes/system.py:917(j_update)\n",
      "      276    0.007    0.000    9.448    0.034 /home/hcui7/repos/andes/andes/core/model.py:1247(j_update)\n",
      "     2329    0.002    0.000    9.439    0.004 /home/hcui7/repos/andes/andes/system.py:893(g_update)\n",
      "    23266    0.254    0.000    9.401    0.000 /home/hcui7/repos/andes/andes/core/model.py:1225(g_update)\n",
      "        1    0.000    0.000    9.267    9.267 /home/hcui7/repos/andes/andes/routines/pflow.py:62(init)\n",
      "   119/11    0.001    0.000    8.369    0.761 /home/hcui7/mambaforge/envs/a/lib/python3.9/site-packages/numba/core/lowering.py:184(lower_normal_function)\n",
      "   119/11    0.002    0.000    8.301    0.755 /home/hcui7/mambaforge/envs/a/lib/python3.9/site-packages/numba/core/lowering.py:201(lower_function_body)\n",
      "   143/11    0.015    0.000    8.300    0.755 /home/hcui7/mambaforge/envs/a/lib/python3.9/site-packages/numba/core/lowering.py:225(lower_block)\n",
      " 3970/906    0.021    0.000    8.287    0.009 /home/hcui7/mambaforge/envs/a/lib/python3.9/site-packages/numba/core/lowering.py:374(lower_inst)\n",
      " 1960/453    0.007    0.000    8.123    0.018 /home/hcui7/mambaforge/envs/a/lib/python3.9/site-packages/numba/core/lowering.py:546(lower_assign)\n",
      "  986/134    0.008    0.000    8.059    0.060 /home/hcui7/mambaforge/envs/a/lib/python3.9/site-packages/numba/core/lowering.py:1058(lower_expr)\n",
      "      104    0.009    0.000    7.967    0.077 /home/hcui7/mambaforge/envs/a/lib/python3.9/site-packages/numba/np/ufunc/array_exprs.py:332(_lower_array_expr)\n",
      "28052/28035    6.108    0.000    6.514    0.000 /home/hcui7/mambaforge/envs/a/lib/python3.9/site-packages/llvmlite/binding/ffi.py:149(__call__)\n",
      "     2323    0.012    0.000    5.864    0.003 /home/hcui7/repos/andes/andes/routines/tds.py:797(fg_update)\n",
      "      120    0.003    0.000    5.499    0.046 /home/hcui7/mambaforge/envs/a/lib/python3.9/site-packages/numba/core/codegen.py:740(finalize)\n",
      "1305/1047    0.001    0.000    5.485    0.005 /home/hcui7/mambaforge/envs/a/lib/python3.9/site-packages/numba/core/codegen.py:566(_ensure_finalized)\n",
      "  725/702    0.005    0.000    5.205    0.007 /home/hcui7/mambaforge/envs/a/lib/python3.9/site-packages/numba/core/base.py:856(compile_subroutine)\n",
      "  107/106    0.006    0.000    5.184    0.049 /home/hcui7/mambaforge/envs/a/lib/python3.9/site-packages/numba/core/base.py:818(_compile_subroutine_no_cache)\n",
      "       29    0.001    0.000    4.925    0.170 /home/hcui7/mambaforge/envs/a/lib/python3.9/site-packages/numba/core/cpu.py:216(get_executable)\n",
      "       61    0.000    0.000    4.919    0.081 /home/hcui7/mambaforge/envs/a/lib/python3.9/site-packages/numba/core/codegen.py:974(get_pointer_to_function)\n",
      "  107/106    0.001    0.000    4.585    0.043 /home/hcui7/mambaforge/envs/a/lib/python3.9/site-packages/numba/core/compiler.py:753(compile_internal)\n",
      "\n",
      "\n",
      "-> Single process finished in 21.4830 seconds.\n"
     ]
    }
   ],
   "source": [
    "ss = andes.run(case_path, profile=True, routine='tds', no_output=True)"
   ]
  },
  {
   "cell_type": "markdown",
   "metadata": {},
   "source": [
    "## Profiling with `line_profiler`."
   ]
  },
  {
   "cell_type": "markdown",
   "metadata": {},
   "source": [
    "`line_profiler` provides line-based profiling results for functions. \n",
    "\n",
    "Install with `pip install line_profiler` and restart the notebook."
   ]
  },
  {
   "cell_type": "code",
   "execution_count": 3,
   "metadata": {
    "ExecuteTime": {
     "end_time": "2021-03-18T00:45:04.755264Z",
     "start_time": "2021-03-18T00:45:04.751789Z"
    },
    "execution": {
     "iopub.execute_input": "2021-09-19T22:23:31.195856Z",
     "iopub.status.busy": "2021-09-19T22:23:31.195627Z",
     "iopub.status.idle": "2021-09-19T22:23:31.197362Z",
     "shell.execute_reply": "2021-09-19T22:23:31.197170Z"
    }
   },
   "outputs": [],
   "source": [
    "import andes\n",
    "from andes.utils.paths import get_case\n",
    "\n",
    "case_path = get_case('kundur/kundur_full.xlsx')"
   ]
  },
  {
   "cell_type": "markdown",
   "metadata": {},
   "source": [
    "### Profile power flow "
   ]
  },
  {
   "cell_type": "markdown",
   "metadata": {},
   "source": [
    "Pass the function name to profile to the magic `%lprun`, followed by a call to the function itself or an upper-level function.\n",
    "\n",
    "Results will be shown in a popup window."
   ]
  },
  {
   "cell_type": "code",
   "execution_count": 4,
   "metadata": {
    "ExecuteTime": {
     "end_time": "2021-03-18T00:45:05.289558Z",
     "start_time": "2021-03-18T00:45:04.756814Z"
    },
    "execution": {
     "iopub.execute_input": "2021-09-19T22:23:31.200198Z",
     "iopub.status.busy": "2021-09-19T22:23:31.199919Z",
     "iopub.status.idle": "2021-09-19T22:23:31.623005Z",
     "shell.execute_reply": "2021-09-19T22:23:31.623230Z"
    }
   },
   "outputs": [
    {
     "name": "stderr",
     "output_type": "stream",
     "text": [
      "Working directory: \"/home/hcui7/repos/andes/examples\"\n"
     ]
    },
    {
     "name": "stderr",
     "output_type": "stream",
     "text": [
      "Loaded generated Python code in \"~/.andes/pycode\".\n"
     ]
    },
    {
     "name": "stderr",
     "output_type": "stream",
     "text": [
      "Parsing input file \"/home/hcui7/repos/andes/andes/cases/kundur/kundur_full.xlsx\"...\n"
     ]
    },
    {
     "name": "stderr",
     "output_type": "stream",
     "text": [
      "Input file parsed in 0.1504 seconds.\n"
     ]
    },
    {
     "name": "stderr",
     "output_type": "stream",
     "text": [
      "System internal structure set up in 0.0403 seconds.\n"
     ]
    },
    {
     "name": "stderr",
     "output_type": "stream",
     "text": [
      "-> System connectivity check results:\n"
     ]
    },
    {
     "name": "stderr",
     "output_type": "stream",
     "text": [
      "  No islanded bus detected.\n"
     ]
    },
    {
     "name": "stderr",
     "output_type": "stream",
     "text": [
      "  A total of 1 island(s) detected.\n"
     ]
    },
    {
     "name": "stderr",
     "output_type": "stream",
     "text": [
      "  Each island has a slack bus correctly defined and enabled.\n"
     ]
    },
    {
     "name": "stderr",
     "output_type": "stream",
     "text": [
      "\n",
      "-> Power flow calculation\n",
      "   Sparse solver: KLU\n",
      " Solution method: NR method\n",
      " Sparse addition: Fast in-place (kvxopt)\n"
     ]
    },
    {
     "name": "stderr",
     "output_type": "stream",
     "text": [
      "Power flow initialized.\n"
     ]
    },
    {
     "name": "stderr",
     "output_type": "stream",
     "text": [
      "0: |F(x)| = 14.9282832\n"
     ]
    },
    {
     "name": "stderr",
     "output_type": "stream",
     "text": [
      "1: |F(x)| = 3.608627841\n"
     ]
    },
    {
     "name": "stderr",
     "output_type": "stream",
     "text": [
      "2: |F(x)| = 0.1701107882\n"
     ]
    },
    {
     "name": "stderr",
     "output_type": "stream",
     "text": [
      "3: |F(x)| = 0.002038626956\n"
     ]
    },
    {
     "name": "stderr",
     "output_type": "stream",
     "text": [
      "4: |F(x)| = 3.745103977e-07\n"
     ]
    },
    {
     "name": "stderr",
     "output_type": "stream",
     "text": [
      "Converged in 5 iterations in 0.0084 seconds.\n"
     ]
    },
    {
     "name": "stdout",
     "output_type": "stream",
     "text": [
      "-> Single process finished in 0.4152 seconds.\n"
     ]
    }
   ],
   "source": [
    "%load_ext line_profiler\n",
    "\n",
    "%lprun -f andes.routines.pflow.PFlow.run andes.run(case_path, no_output=True, default_config=True)"
   ]
  },
  {
   "cell_type": "markdown",
   "metadata": {},
   "source": [
    "Alternatively, do"
   ]
  },
  {
   "cell_type": "code",
   "execution_count": 5,
   "metadata": {
    "ExecuteTime": {
     "end_time": "2021-03-18T00:45:05.550955Z",
     "start_time": "2021-03-18T00:45:05.292174Z"
    },
    "execution": {
     "iopub.execute_input": "2021-09-19T22:23:31.626271Z",
     "iopub.status.busy": "2021-09-19T22:23:31.626019Z",
     "iopub.status.idle": "2021-09-19T22:23:31.855951Z",
     "shell.execute_reply": "2021-09-19T22:23:31.855614Z"
    }
   },
   "outputs": [
    {
     "name": "stderr",
     "output_type": "stream",
     "text": [
      "Working directory: \"/home/hcui7/repos/andes/examples\"\n"
     ]
    },
    {
     "name": "stderr",
     "output_type": "stream",
     "text": [
      "Loaded generated Python code in \"~/.andes/pycode\".\n"
     ]
    },
    {
     "name": "stderr",
     "output_type": "stream",
     "text": [
      "Parsing input file \"/home/hcui7/repos/andes/andes/cases/kundur/kundur_full.xlsx\"...\n"
     ]
    },
    {
     "name": "stderr",
     "output_type": "stream",
     "text": [
      "Input file parsed in 0.0750 seconds.\n"
     ]
    },
    {
     "name": "stderr",
     "output_type": "stream",
     "text": [
      "System internal structure set up in 0.0575 seconds.\n"
     ]
    },
    {
     "name": "stderr",
     "output_type": "stream",
     "text": [
      "-> System connectivity check results:\n"
     ]
    },
    {
     "name": "stderr",
     "output_type": "stream",
     "text": [
      "  No islanded bus detected.\n"
     ]
    },
    {
     "name": "stderr",
     "output_type": "stream",
     "text": [
      "  A total of 1 island(s) detected.\n"
     ]
    },
    {
     "name": "stderr",
     "output_type": "stream",
     "text": [
      "  Each island has a slack bus correctly defined and enabled.\n"
     ]
    },
    {
     "name": "stderr",
     "output_type": "stream",
     "text": [
      "\n",
      "-> Power flow calculation\n",
      "   Sparse solver: KLU\n",
      " Solution method: NR method\n",
      " Sparse addition: Fast in-place (kvxopt)\n"
     ]
    },
    {
     "name": "stderr",
     "output_type": "stream",
     "text": [
      "Power flow initialized.\n"
     ]
    },
    {
     "name": "stderr",
     "output_type": "stream",
     "text": [
      "0: |F(x)| = 14.9282832\n"
     ]
    },
    {
     "name": "stderr",
     "output_type": "stream",
     "text": [
      "1: |F(x)| = 3.608627841\n"
     ]
    },
    {
     "name": "stderr",
     "output_type": "stream",
     "text": [
      "2: |F(x)| = 0.1701107882\n"
     ]
    },
    {
     "name": "stderr",
     "output_type": "stream",
     "text": [
      "3: |F(x)| = 0.002038626956\n"
     ]
    },
    {
     "name": "stderr",
     "output_type": "stream",
     "text": [
      "4: |F(x)| = 3.745103977e-07\n"
     ]
    },
    {
     "name": "stderr",
     "output_type": "stream",
     "text": [
      "Converged in 5 iterations in 0.0114 seconds.\n"
     ]
    },
    {
     "name": "stdout",
     "output_type": "stream",
     "text": [
      "-> Single process finished in 0.2266 seconds.\n"
     ]
    }
   ],
   "source": [
    "ss = andes.run(case_path, no_output=True, default_config=True)"
   ]
  },
  {
   "cell_type": "code",
   "execution_count": 6,
   "metadata": {
    "ExecuteTime": {
     "end_time": "2021-03-18T00:45:05.643255Z",
     "start_time": "2021-03-18T00:45:05.555237Z"
    },
    "execution": {
     "iopub.execute_input": "2021-09-19T22:23:31.862366Z",
     "iopub.status.busy": "2021-09-19T22:23:31.862078Z",
     "iopub.status.idle": "2021-09-19T22:23:31.904438Z",
     "shell.execute_reply": "2021-09-19T22:23:31.904179Z"
    }
   },
   "outputs": [
    {
     "name": "stderr",
     "output_type": "stream",
     "text": [
      "System internal structure set up in 0.0180 seconds.\n"
     ]
    },
    {
     "name": "stderr",
     "output_type": "stream",
     "text": [
      "-> System connectivity check results:\n"
     ]
    },
    {
     "name": "stderr",
     "output_type": "stream",
     "text": [
      "  No islanded bus detected.\n"
     ]
    },
    {
     "name": "stderr",
     "output_type": "stream",
     "text": [
      "  A total of 1 island(s) detected.\n"
     ]
    },
    {
     "name": "stderr",
     "output_type": "stream",
     "text": [
      "  Each island has a slack bus correctly defined and enabled.\n"
     ]
    },
    {
     "name": "stderr",
     "output_type": "stream",
     "text": [
      "\n",
      "-> Power flow calculation\n",
      "   Sparse solver: KLU\n",
      " Solution method: NR method\n",
      " Sparse addition: Fast in-place (kvxopt)\n"
     ]
    },
    {
     "name": "stderr",
     "output_type": "stream",
     "text": [
      "Power flow initialized.\n"
     ]
    },
    {
     "name": "stderr",
     "output_type": "stream",
     "text": [
      "0: |F(x)| = 14.9282832\n"
     ]
    },
    {
     "name": "stderr",
     "output_type": "stream",
     "text": [
      "1: |F(x)| = 3.608627841\n"
     ]
    },
    {
     "name": "stderr",
     "output_type": "stream",
     "text": [
      "2: |F(x)| = 0.1701107882\n"
     ]
    },
    {
     "name": "stderr",
     "output_type": "stream",
     "text": [
      "3: |F(x)| = 0.002038626956\n"
     ]
    },
    {
     "name": "stderr",
     "output_type": "stream",
     "text": [
      "4: |F(x)| = 3.745103977e-07\n"
     ]
    },
    {
     "name": "stderr",
     "output_type": "stream",
     "text": [
      "Converged in 5 iterations in 0.0077 seconds.\n"
     ]
    }
   ],
   "source": [
    "ss.reset()\n",
    "%lprun -f ss.PFlow.run ss.PFlow.run()"
   ]
  },
  {
   "cell_type": "markdown",
   "metadata": {},
   "source": [
    "To dig into the Newton Raphson iteration steps, profile each step instead with:"
   ]
  },
  {
   "cell_type": "code",
   "execution_count": 7,
   "metadata": {
    "ExecuteTime": {
     "end_time": "2021-03-18T00:45:05.736950Z",
     "start_time": "2021-03-18T00:45:05.648221Z"
    },
    "execution": {
     "iopub.execute_input": "2021-09-19T22:23:31.911799Z",
     "iopub.status.busy": "2021-09-19T22:23:31.905830Z",
     "iopub.status.idle": "2021-09-19T22:23:31.948933Z",
     "shell.execute_reply": "2021-09-19T22:23:31.948666Z"
    }
   },
   "outputs": [
    {
     "name": "stderr",
     "output_type": "stream",
     "text": [
      "System internal structure set up in 0.0149 seconds.\n"
     ]
    },
    {
     "name": "stderr",
     "output_type": "stream",
     "text": [
      "-> System connectivity check results:\n"
     ]
    },
    {
     "name": "stderr",
     "output_type": "stream",
     "text": [
      "  No islanded bus detected.\n"
     ]
    },
    {
     "name": "stderr",
     "output_type": "stream",
     "text": [
      "  A total of 1 island(s) detected.\n"
     ]
    },
    {
     "name": "stderr",
     "output_type": "stream",
     "text": [
      "  Each island has a slack bus correctly defined and enabled.\n"
     ]
    },
    {
     "name": "stderr",
     "output_type": "stream",
     "text": [
      "\n",
      "-> Power flow calculation\n",
      "   Sparse solver: KLU\n",
      " Solution method: NR method\n",
      " Sparse addition: Fast in-place (kvxopt)\n"
     ]
    },
    {
     "name": "stderr",
     "output_type": "stream",
     "text": [
      "Power flow initialized.\n"
     ]
    },
    {
     "name": "stderr",
     "output_type": "stream",
     "text": [
      "0: |F(x)| = 14.9282832\n"
     ]
    },
    {
     "name": "stderr",
     "output_type": "stream",
     "text": [
      "1: |F(x)| = 3.608627841\n"
     ]
    },
    {
     "name": "stderr",
     "output_type": "stream",
     "text": [
      "2: |F(x)| = 0.1701107882\n"
     ]
    },
    {
     "name": "stderr",
     "output_type": "stream",
     "text": [
      "3: |F(x)| = 0.002038626956\n"
     ]
    },
    {
     "name": "stderr",
     "output_type": "stream",
     "text": [
      "4: |F(x)| = 3.745103977e-07\n"
     ]
    },
    {
     "name": "stderr",
     "output_type": "stream",
     "text": [
      "Converged in 5 iterations in 0.0068 seconds.\n"
     ]
    }
   ],
   "source": [
    "ss.reset()\n",
    "%lprun -f ss.PFlow.nr_step ss.PFlow.run()"
   ]
  },
  {
   "cell_type": "markdown",
   "metadata": {},
   "source": [
    "### Profile time-domain simulation"
   ]
  },
  {
   "cell_type": "code",
   "execution_count": 8,
   "metadata": {
    "ExecuteTime": {
     "end_time": "2021-03-18T00:45:09.446492Z",
     "start_time": "2021-03-18T00:45:05.743150Z"
    },
    "execution": {
     "iopub.execute_input": "2021-09-19T22:23:31.951851Z",
     "iopub.status.busy": "2021-09-19T22:23:31.951582Z",
     "iopub.status.idle": "2021-09-19T22:23:33.814445Z",
     "shell.execute_reply": "2021-09-19T22:23:33.814744Z"
    }
   },
   "outputs": [
    {
     "name": "stderr",
     "output_type": "stream",
     "text": [
      "\n",
      "-> Time Domain Simulation Summary:\n",
      "Sparse Solver: KLU\n",
      "Simulation time: 0-20.0 s.\n",
      "Fixed step size: h=33.33 ms. Shrink if not converged.\n"
     ]
    },
    {
     "name": "stderr",
     "output_type": "stream",
     "text": [
      "Initialization for dynamics was successful in 0.0308 seconds.\n"
     ]
    },
    {
     "name": "stdout",
     "output_type": "stream",
     "text": [
      "\r",
      "  0%|                                          | 0/100 [00:00<?, ?%/s]"
     ]
    },
    {
     "name": "stdout",
     "output_type": "stream",
     "text": [
      "\r",
      "                                                                      "
     ]
    },
    {
     "name": "stdout",
     "output_type": "stream",
     "text": [
      "\r"
     ]
    },
    {
     "name": "stdout",
     "output_type": "stream",
     "text": [
      "<Toggler 1>: Line.Line_8 status changed to 0 at t=2.0 sec.\n",
      "\r",
      " 10%|███▏                            | 10/100 [00:00<00:00, 205.20%/s]"
     ]
    },
    {
     "name": "stdout",
     "output_type": "stream",
     "text": [
      "\r",
      " 13%|████▏                           | 13/100 [00:00<00:00, 120.07%/s]"
     ]
    },
    {
     "name": "stdout",
     "output_type": "stream",
     "text": [
      "\r",
      " 26%|████████▌                        | 26/100 [00:00<00:01, 53.53%/s]"
     ]
    },
    {
     "name": "stdout",
     "output_type": "stream",
     "text": [
      "\r",
      " 34%|███████████▏                     | 34/100 [00:00<00:01, 55.01%/s]"
     ]
    },
    {
     "name": "stdout",
     "output_type": "stream",
     "text": [
      "\r",
      " 41%|█████████████▌                   | 41/100 [00:00<00:01, 54.56%/s]"
     ]
    },
    {
     "name": "stdout",
     "output_type": "stream",
     "text": [
      "\r",
      " 48%|███████████████▊                 | 48/100 [00:00<00:01, 48.78%/s]"
     ]
    },
    {
     "name": "stdout",
     "output_type": "stream",
     "text": [
      "\r",
      " 54%|█████████████████▊               | 54/100 [00:01<00:00, 49.32%/s]"
     ]
    },
    {
     "name": "stdout",
     "output_type": "stream",
     "text": [
      "\r",
      " 60%|███████████████████▊             | 60/100 [00:01<00:00, 51.68%/s]"
     ]
    },
    {
     "name": "stdout",
     "output_type": "stream",
     "text": [
      "\r",
      " 66%|█████████████████████▊           | 66/100 [00:01<00:00, 51.98%/s]"
     ]
    },
    {
     "name": "stdout",
     "output_type": "stream",
     "text": [
      "\r",
      " 73%|████████████████████████         | 73/100 [00:01<00:00, 54.75%/s]"
     ]
    },
    {
     "name": "stdout",
     "output_type": "stream",
     "text": [
      "\r",
      " 80%|██████████████████████████▍      | 80/100 [00:01<00:00, 57.03%/s]"
     ]
    },
    {
     "name": "stdout",
     "output_type": "stream",
     "text": [
      "\r",
      " 87%|████████████████████████████▋    | 87/100 [00:01<00:00, 59.23%/s]"
     ]
    },
    {
     "name": "stdout",
     "output_type": "stream",
     "text": [
      "\r",
      " 94%|███████████████████████████████  | 94/100 [00:01<00:00, 55.48%/s]"
     ]
    },
    {
     "name": "stdout",
     "output_type": "stream",
     "text": [
      "\r",
      "100%|████████████████████████████████| 100/100 [00:01<00:00, 54.95%/s]"
     ]
    },
    {
     "name": "stderr",
     "output_type": "stream",
     "text": [
      "Simulation completed in 1.8206 seconds.\n"
     ]
    },
    {
     "name": "stdout",
     "output_type": "stream",
     "text": [
      "\n"
     ]
    }
   ],
   "source": [
    "%lprun -f ss.TDS.itm_step ss.TDS.run()"
   ]
  },
  {
   "cell_type": "markdown",
   "metadata": {},
   "source": [
    "## Cleanup"
   ]
  },
  {
   "cell_type": "code",
   "execution_count": 9,
   "metadata": {
    "ExecuteTime": {
     "end_time": "2021-03-18T00:45:10.807143Z",
     "start_time": "2021-03-18T00:45:09.448316Z"
    },
    "execution": {
     "iopub.execute_input": "2021-09-19T22:23:33.817667Z",
     "iopub.status.busy": "2021-09-19T22:23:33.817393Z",
     "iopub.status.idle": "2021-09-19T22:23:34.452169Z",
     "shell.execute_reply": "2021-09-19T22:23:34.451905Z"
    }
   },
   "outputs": [
    {
     "name": "stdout",
     "output_type": "stream",
     "text": [
      "\r\n",
      "    _           _         | Version 1.4.2.post33.dev0+g135cb3eb\r\n",
      "   /_\\  _ _  __| |___ ___ | Python 3.9.6 on Linux, 09/19/2021 05:23:34 PM\r\n",
      "  / _ \\| ' \\/ _` / -_|_-< | \r\n",
      " /_/ \\_\\_||_\\__,_\\___/__/ | This program comes with ABSOLUTELY NO WARRANTY.\r\n",
      "\r\n",
      "\"/home/hcui7/repos/andes/examples/kundur_full_out.txt\" removed.\r\n",
      "\"/home/hcui7/repos/andes/examples/kundur_full_out.npz\" removed.\r\n",
      "\"/home/hcui7/repos/andes/examples/kundur_full_out.lst\" removed.\r\n"
     ]
    }
   ],
   "source": [
    "!andes misc -C"
   ]
  }
 ],
 "metadata": {
  "interpreter": {
   "hash": "4c42303ec617988e96980582546035234a0dbb343f6614254a1d5bddbb9babb9"
  },
  "kernelspec": {
   "display_name": "Python 3.9.6 64-bit ('a': conda)",
   "name": "python3"
  },
  "language_info": {
   "codemirror_mode": {
    "name": "ipython",
    "version": 3
   },
   "file_extension": ".py",
   "mimetype": "text/x-python",
   "name": "python",
   "nbconvert_exporter": "python",
   "pygments_lexer": "ipython3",
   "version": "3.9.6"
  },
  "varInspector": {
   "cols": {
    "lenName": 16,
    "lenType": 16,
    "lenVar": 40
   },
   "kernels_config": {
    "python": {
     "delete_cmd_postfix": "",
     "delete_cmd_prefix": "del ",
     "library": "var_list.py",
     "varRefreshCmd": "print(var_dic_list())"
    },
    "r": {
     "delete_cmd_postfix": ") ",
     "delete_cmd_prefix": "rm(",
     "library": "var_list.r",
     "varRefreshCmd": "cat(var_dic_list()) "
    }
   },
   "types_to_exclude": [
    "module",
    "function",
    "builtin_function_or_method",
    "instance",
    "_Feature"
   ],
   "window_display": false
  }
 },
 "nbformat": 4,
 "nbformat_minor": 4
}
