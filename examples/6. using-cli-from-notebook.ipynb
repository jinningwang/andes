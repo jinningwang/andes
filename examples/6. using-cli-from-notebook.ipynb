{
 "cells": [
  {
   "cell_type": "markdown",
   "source": [
    "# Using Command-Line Interface (CLI) from Notebook"
   ],
   "metadata": {}
  },
  {
   "cell_type": "markdown",
   "source": [
    "This example notebook is a supplement to the ANDES tutorial. Make sure you have read the tutorial on using the CLI first.\n",
    "\n",
    "A brief version can be found at https://github.com/cuihantao/andes/blob/master/README.md#run-simulations"
   ],
   "metadata": {}
  },
  {
   "cell_type": "markdown",
   "source": [
    "## The `!` magic in iPython"
   ],
   "metadata": {}
  },
  {
   "cell_type": "markdown",
   "source": [
    "This example shows how to use the ANDES CLI from Jupyter Notebook.\n",
    "\n",
    "It is based on the iPython magic `!`.\n",
    "To run a command _from within_ IPython or Jupyter, place a `!` immediately before the command."
   ],
   "metadata": {}
  },
  {
   "cell_type": "markdown",
   "source": [
    "Conversely, all commands demonstrated in this notebook can be used in a terminal/shell by removing the preceeding `!` sign."
   ],
   "metadata": {}
  },
  {
   "cell_type": "markdown",
   "source": [
    "## Set up on Windows\n",
    "\n",
    "Windows users will need to install [MSYS2](https://www.msys2.org/) to support most of the Linux shell commands.\n",
    "\n",
    "To install MSYS2-base, uncomment the following line and run it:"
   ],
   "metadata": {}
  },
  {
   "cell_type": "code",
   "execution_count": 1,
   "source": [
    "# !conda install -c msys2 -n base --yes m2-base"
   ],
   "outputs": [],
   "metadata": {}
  },
  {
   "cell_type": "markdown",
   "source": [
    "## Running Shell Commands"
   ],
   "metadata": {}
  },
  {
   "cell_type": "markdown",
   "source": [
    "For example, to list the directory , use `!ls`. This is equivalent to executing `ls` from the terminal."
   ],
   "metadata": {
    "pycharm": {
     "name": "#%% md\n"
    }
   }
  },
  {
   "cell_type": "code",
   "execution_count": 2,
   "source": [
    "!ls"
   ],
   "outputs": [
    {
     "output_type": "stream",
     "name": "stdout",
     "text": [
      "'10. load-frequency-control.ipynb'  '8. change-setpoints.ipynb'\n",
      "'1. simulate_and_plot.ipynb'\t    '9. batch-processing.ipynb'\n",
      "'2. inspect_data.ipynb'\t\t     demonstration\n",
      "'3. eigenvalue.ipynb'\t\t     kundur_full_out.lst\n",
      "'4. inspect_models.ipynb'\t     kundur_full_out.npz\n",
      "'5. profiling.ipynb'\t\t     kundur_full_out.txt\n",
      "'6. using-cli-from-notebook.ipynb'   verification\n",
      "'7. parallel-simulation.ipynb'\n"
     ]
    }
   ],
   "metadata": {
    "ExecuteTime": {
     "end_time": "2021-03-18T00:45:24.639596Z",
     "start_time": "2021-03-18T00:45:24.077682Z"
    },
    "pycharm": {
     "name": "#%%\n"
    }
   }
  },
  {
   "cell_type": "markdown",
   "source": [
    "Likewise, to run `andes`, use `!andes`. Addition arguments can be passed as usual."
   ],
   "metadata": {
    "pycharm": {
     "name": "#%% md\n"
    }
   }
  },
  {
   "cell_type": "code",
   "execution_count": 3,
   "source": [
    "!andes"
   ],
   "outputs": [
    {
     "output_type": "stream",
     "name": "stdout",
     "text": [
      "\n",
      "    _           _         | Version 1.4.2.post16.dev0+g75a6b3d6\n",
      "   /_\\  _ _  __| |___ ___ | Python 3.9.6 on Linux, 09/18/2021 12:14:07 PM\n",
      "  / _ \\| ' \\/ _` / -_|_-< | \n",
      " /_/ \\_\\_||_\\__,_\\___/__/ | This program comes with ABSOLUTELY NO WARRANTY.\n",
      "\n",
      "usage: andes [-h] [-v {1,10,20,30,40}]\n",
      "             {run,plot,doc,misc,prepare,prep,selftest,st} ...\n",
      "\n",
      "positional arguments:\n",
      "  {run,plot,doc,misc,prepare,prep,selftest,st}\n",
      "                        [run] run simulation routine; [plot] plot results;\n",
      "                        [doc] quick documentation; [misc] misc. functions;\n",
      "                        [prepare] prepare the numerical code; [selftest] run\n",
      "                        self test.\n",
      "\n",
      "optional arguments:\n",
      "  -h, --help            show this help message and exit\n",
      "  -v {1,10,20,30,40}, --verbose {1,10,20,30,40}\n",
      "                        Verbosity level in 10-DEBUG, 20-INFO, 30-WARNING, or\n",
      "                        40-ERROR.\n"
     ]
    }
   ],
   "metadata": {
    "ExecuteTime": {
     "end_time": "2021-03-18T00:45:25.865997Z",
     "start_time": "2021-03-18T00:45:24.640999Z"
    },
    "pycharm": {
     "name": "#%%\n"
    }
   }
  },
  {
   "cell_type": "markdown",
   "source": [
    "## Run a simulation"
   ],
   "metadata": {
    "pycharm": {
     "name": "#%% md\n"
    }
   }
  },
  {
   "cell_type": "markdown",
   "source": [
    "Pass the path to the case file and other arguments to andes from the command line as follows."
   ],
   "metadata": {}
  },
  {
   "cell_type": "code",
   "execution_count": 4,
   "source": [
    "!andes run ../andes/cases/kundur/kundur_full.xlsx -r tds"
   ],
   "outputs": [
    {
     "output_type": "stream",
     "name": "stdout",
     "text": [
      "\n",
      "    _           _         | Version 1.4.2.post16.dev0+g75a6b3d6\n",
      "   /_\\  _ _  __| |___ ___ | Python 3.9.6 on Linux, 09/18/2021 12:14:07 PM\n",
      "  / _ \\| ' \\/ _` / -_|_-< | \n",
      " /_/ \\_\\_||_\\__,_\\___/__/ | This program comes with ABSOLUTELY NO WARRANTY.\n",
      "\n",
      "Working directory: \"/home/hcui7/repos/andes/examples\"\n",
      "Loaded config from file \"/home/hcui7/.andes/andes.rc\"\n",
      "Loaded generated Python code in \"~/.andes/pycode\".\n",
      "Parsing input file \"../andes/cases/kundur/kundur_full.xlsx\"...\n",
      "Input file parsed in 0.1639 seconds.\n",
      "System internal structure set up in 0.0146 seconds.\n",
      "-> System connectivity check results:\n",
      "  No islanded bus detected.\n",
      "  A total of 1 island(s) detected.\n",
      "  Each island has a slack bus correctly defined and enabled.\n",
      "\n",
      "-> Power flow calculation\n",
      "   Sparse solver: KLU\n",
      " Solution method: NR method\n",
      " Sparse addition: Fast in-place (kvxopt)\n",
      "Power flow initialized.\n",
      "0: |F(x)| = 14.9282832\n",
      "1: |F(x)| = 3.608627841\n",
      "2: |F(x)| = 3.371691245\n",
      "3: |F(x)| = 3.38335788\n",
      "4: |F(x)| = 1.643469337\n",
      "5: |F(x)| = 0.2341714002\n",
      "6: |F(x)| = 0.03397375079\n",
      "7: |F(x)| = 0.0009863888463\n",
      "8: |F(x)| = 1.354810848e-06\n",
      "9: |F(x)| = 2.629008122e-12\n",
      "Converged in 10 iterations in 0.0052 seconds.\n",
      "\u001b[33mPQ.vcmp at limits <vmin>\n",
      "\n",
      " idx  | Flag | Input Value | Limit\n",
      "------+------+-------------+------\n",
      " PQ_1 | zl   | 0.833       | 0.900\n",
      "\n",
      "\u001b[0m\n",
      "\u001b[33mPV.qlim at limits <qmin>\n",
      "\n",
      "idx | Flag | Input Value | Limit\n",
      "----+------+-------------+------\n",
      " 2  | zl   | 3           | 3    \n",
      " 3  | zl   | 5.500       | 5.500\n",
      " 4  | zl   | -1          | -1   \n",
      "\n",
      "\u001b[0m\n",
      "\u001b[33mPV.qlim at limits <qmax>\n",
      "\n",
      "idx | Flag | Input Value | Limit\n",
      "----+------+-------------+------\n",
      " 2  | zu   | 3           | 3    \n",
      " 3  | zu   | 5.500       | 5.500\n",
      " 4  | zu   | -1          | -1   \n",
      "\n",
      "\u001b[0m\n",
      "Initialization for dynamics was successful in 0.0104 seconds.\n",
      "Report saved to \"kundur_full_out.txt\" in 0.0283 seconds.\n",
      "\n",
      "-> Time Domain Simulation Summary:\n",
      "Sparse Solver: KLU\n",
      "Simulation time: 0.0-20.0 s.\n",
      "Fixed step size: h=33.33 ms. Shrink if not converged.\n",
      "<Toggler 1>: Line.Line_8 status changed to 0 at t=2.0 sec.\n",
      "100%|███████████████████████████████| 100/100 [00:00<00:00, 109.94%/s]\n",
      "Simulation completed in 0.9096 seconds.\n",
      "Outputs to \"kundur_full_out.lst\" and \"kundur_full_out.npz\".\n",
      "Outputs written in 0.0185 seconds.\n",
      "-> Single process finished in 1.2454 seconds.\n"
     ]
    }
   ],
   "metadata": {
    "ExecuteTime": {
     "end_time": "2021-03-18T00:45:30.187230Z",
     "start_time": "2021-03-18T00:45:25.867982Z"
    },
    "pycharm": {
     "name": "#%%\n"
    }
   }
  },
  {
   "cell_type": "markdown",
   "source": [
    "Case file names can be separated from the path, which can be passed to `-p`. The above command is equivanent to"
   ],
   "metadata": {}
  },
  {
   "cell_type": "code",
   "execution_count": 5,
   "source": [
    "!andes run kundur_full.xlsx -p \"../andes/cases/kundur/\" -r tds"
   ],
   "outputs": [
    {
     "output_type": "stream",
     "name": "stdout",
     "text": [
      "\n",
      "    _           _         | Version 1.4.2.post16.dev0+g75a6b3d6\n",
      "   /_\\  _ _  __| |___ ___ | Python 3.9.6 on Linux, 09/18/2021 12:14:09 PM\n",
      "  / _ \\| ' \\/ _` / -_|_-< | \n",
      " /_/ \\_\\_||_\\__,_\\___/__/ | This program comes with ABSOLUTELY NO WARRANTY.\n",
      "\n",
      "Working directory: \"/home/hcui7/repos/andes/examples\"\n",
      "Loaded config from file \"/home/hcui7/.andes/andes.rc\"\n",
      "Loaded generated Python code in \"~/.andes/pycode\".\n",
      "Parsing input file \"../andes/cases/kundur/kundur_full.xlsx\"...\n",
      "Input file parsed in 0.1628 seconds.\n",
      "System internal structure set up in 0.0142 seconds.\n",
      "-> System connectivity check results:\n",
      "  No islanded bus detected.\n",
      "  A total of 1 island(s) detected.\n",
      "  Each island has a slack bus correctly defined and enabled.\n",
      "\n",
      "-> Power flow calculation\n",
      "   Sparse solver: KLU\n",
      " Solution method: NR method\n",
      " Sparse addition: Fast in-place (kvxopt)\n",
      "Power flow initialized.\n",
      "0: |F(x)| = 14.9282832\n",
      "1: |F(x)| = 3.608627841\n",
      "2: |F(x)| = 3.371691245\n",
      "3: |F(x)| = 3.38335788\n",
      "4: |F(x)| = 1.643469337\n",
      "5: |F(x)| = 0.2341714002\n",
      "6: |F(x)| = 0.03397375079\n",
      "7: |F(x)| = 0.0009863888463\n",
      "8: |F(x)| = 1.354810848e-06\n",
      "9: |F(x)| = 2.629008122e-12\n",
      "Converged in 10 iterations in 0.0051 seconds.\n",
      "\u001b[33mPQ.vcmp at limits <vmin>\n",
      "\n",
      " idx  | Flag | Input Value | Limit\n",
      "------+------+-------------+------\n",
      " PQ_1 | zl   | 0.833       | 0.900\n",
      "\n",
      "\u001b[0m\n",
      "\u001b[33mPV.qlim at limits <qmin>\n",
      "\n",
      "idx | Flag | Input Value | Limit\n",
      "----+------+-------------+------\n",
      " 2  | zl   | 3           | 3    \n",
      " 3  | zl   | 5.500       | 5.500\n",
      " 4  | zl   | -1          | -1   \n",
      "\n",
      "\u001b[0m\n",
      "\u001b[33mPV.qlim at limits <qmax>\n",
      "\n",
      "idx | Flag | Input Value | Limit\n",
      "----+------+-------------+------\n",
      " 2  | zu   | 3           | 3    \n",
      " 3  | zu   | 5.500       | 5.500\n",
      " 4  | zu   | -1          | -1   \n",
      "\n",
      "\u001b[0m\n",
      "Initialization for dynamics was successful in 0.0103 seconds.\n",
      "Report saved to \"kundur_full_out.txt\" in 0.0249 seconds.\n",
      "\n",
      "-> Time Domain Simulation Summary:\n",
      "Sparse Solver: KLU\n",
      "Simulation time: 0.0-20.0 s.\n",
      "Fixed step size: h=33.33 ms. Shrink if not converged.\n",
      "<Toggler 1>: Line.Line_8 status changed to 0 at t=2.0 sec.\n",
      "100%|███████████████████████████████| 100/100 [00:00<00:00, 110.09%/s]\n",
      "Simulation completed in 0.9083 seconds.\n",
      "Outputs to \"kundur_full_out.lst\" and \"kundur_full_out.npz\".\n",
      "Outputs written in 0.0185 seconds.\n",
      "-> Single process finished in 1.2360 seconds.\n"
     ]
    }
   ],
   "metadata": {
    "ExecuteTime": {
     "end_time": "2021-03-18T20:19:38.699061Z",
     "start_time": "2021-03-18T20:19:37.327764Z"
    }
   }
  },
  {
   "cell_type": "code",
   "execution_count": 6,
   "source": [
    "!pwd"
   ],
   "outputs": [
    {
     "output_type": "stream",
     "name": "stdout",
     "text": [
      "/home/hcui7/repos/andes/examples\n"
     ]
    }
   ],
   "metadata": {
    "ExecuteTime": {
     "end_time": "2021-03-18T00:51:02.001910Z",
     "start_time": "2021-03-18T00:51:01.485412Z"
    }
   }
  },
  {
   "cell_type": "code",
   "execution_count": 7,
   "source": [
    "import os\n",
    "\n",
    "os.path.isfile('../andes/cases/kundur/kundur_full.xlsx')"
   ],
   "outputs": [
    {
     "output_type": "execute_result",
     "data": {
      "text/plain": [
       "True"
      ]
     },
     "metadata": {},
     "execution_count": 7
    }
   ],
   "metadata": {
    "ExecuteTime": {
     "end_time": "2021-03-18T00:53:47.808152Z",
     "start_time": "2021-03-18T00:53:47.801977Z"
    }
   }
  },
  {
   "cell_type": "markdown",
   "source": [
    "### PSS/E RAW and DYR Files"
   ],
   "metadata": {}
  },
  {
   "cell_type": "markdown",
   "source": [
    "To run a simulation using PSS/E raw and dyr files, pass the dyr file to argument `--addfile`. \n",
    "\n",
    "For example:"
   ],
   "metadata": {}
  },
  {
   "cell_type": "code",
   "execution_count": 8,
   "source": [
    "!andes run ../andes/cases/kundur/kundur.raw --addfile ../andes/cases/kundur/kundur_full.dyr -r tds"
   ],
   "outputs": [
    {
     "output_type": "stream",
     "name": "stdout",
     "text": [
      "\n",
      "    _           _         | Version 1.4.2.post16.dev0+g75a6b3d6\n",
      "   /_\\  _ _  __| |___ ___ | Python 3.9.6 on Linux, 09/18/2021 12:14:11 PM\n",
      "  / _ \\| ' \\/ _` / -_|_-< | \n",
      " /_/ \\_\\_||_\\__,_\\___/__/ | This program comes with ABSOLUTELY NO WARRANTY.\n",
      "\n",
      "Working directory: \"/home/hcui7/repos/andes/examples\"\n",
      "Loaded config from file \"/home/hcui7/.andes/andes.rc\"\n",
      "Loaded generated Python code in \"~/.andes/pycode\".\n",
      "Parsing input file \"../andes/cases/kundur/kundur.raw\"...\n",
      "  MODIFIED KUNDUR'S TWO-AREA TEST SYSTEM, DISTRIBUTED WITH ANDES\n",
      "  SEE THE BOOK \"POWER SYSTEM STABILITY AND CONTROL\" FOR ORIGINAL DATA\n",
      "Input file parsed in 0.0019 seconds.\n",
      "Parsing additional file \"../andes/cases/kundur/kundur_full.dyr\"...\n",
      "Addfile parsed in 0.1331 seconds.\n",
      "System internal structure set up in 0.0142 seconds.\n",
      "-> System connectivity check results:\n",
      "  No islanded bus detected.\n",
      "  A total of 1 island(s) detected.\n",
      "  Each island has a slack bus correctly defined and enabled.\n",
      "\n",
      "-> Power flow calculation\n",
      "   Sparse solver: KLU\n",
      " Solution method: NR method\n",
      " Sparse addition: Fast in-place (kvxopt)\n",
      "Power flow initialized.\n",
      "0: |F(x)| = 3.175850023\n",
      "1: |F(x)| = 3.176155228e-08\n",
      "Converged in 2 iterations in 0.0010 seconds.\n",
      "Initialization for dynamics was successful in 0.0092 seconds.\n",
      "Report saved to \"kundur_out.txt\" in 0.0012 seconds.\n",
      "\n",
      "-> Time Domain Simulation Summary:\n",
      "Sparse Solver: KLU\n",
      "Simulation time: 0.0-20.0 s.\n",
      "Fixed step size: h=33.33 ms. Shrink if not converged.\n",
      "<Toggler Toggler_1>: Line.Line_8 status changed to 0 at t=2.0 sec.\n",
      "100%|███████████████████████████████| 100/100 [00:00<00:00, 115.64%/s]\n",
      "Simulation completed in 0.8648 seconds.\n",
      "Outputs to \"kundur_out.lst\" and \"kundur_out.npz\".\n",
      "Outputs written in 0.0186 seconds.\n",
      "-> Single process finished in 1.1390 seconds.\n"
     ]
    }
   ],
   "metadata": {
    "ExecuteTime": {
     "end_time": "2021-03-18T00:45:36.065075Z",
     "start_time": "2021-03-18T00:45:31.719026Z"
    }
   }
  },
  {
   "cell_type": "markdown",
   "source": [
    "## Check the output `lst` file"
   ],
   "metadata": {
    "pycharm": {
     "name": "#%% md\n"
    }
   }
  },
  {
   "cell_type": "code",
   "execution_count": 9,
   "source": [
    "!cat kundur_full_out.lst"
   ],
   "outputs": [
    {
     "output_type": "stream",
     "name": "stdout",
     "text": [
      "     0,                  Time [s],                            Time [s]\n",
      "     1,            delta GENROU 1,                   $\\delta$ GENROU 1\n",
      "     2,            delta GENROU 2,                   $\\delta$ GENROU 2\n",
      "     3,            delta GENROU 3,                   $\\delta$ GENROU 3\n",
      "     4,            delta GENROU 4,                   $\\delta$ GENROU 4\n",
      "     5,            omega GENROU 1,                   $\\omega$ GENROU 1\n",
      "     6,            omega GENROU 2,                   $\\omega$ GENROU 2\n",
      "     7,            omega GENROU 3,                   $\\omega$ GENROU 3\n",
      "     8,            omega GENROU 4,                   $\\omega$ GENROU 4\n",
      "     9,              e1q GENROU 1,                     $e'_q$ GENROU 1\n",
      "    10,              e1q GENROU 2,                     $e'_q$ GENROU 2\n",
      "    11,              e1q GENROU 3,                     $e'_q$ GENROU 3\n",
      "    12,              e1q GENROU 4,                     $e'_q$ GENROU 4\n",
      "    13,              e1d GENROU 1,                     $e'_d$ GENROU 1\n",
      "    14,              e1d GENROU 2,                     $e'_d$ GENROU 2\n",
      "    15,              e1d GENROU 3,                     $e'_d$ GENROU 3\n",
      "    16,              e1d GENROU 4,                     $e'_d$ GENROU 4\n",
      "    17,              e2d GENROU 1,                    $e''_d$ GENROU 1\n",
      "    18,              e2d GENROU 2,                    $e''_d$ GENROU 2\n",
      "    19,              e2d GENROU 3,                    $e''_d$ GENROU 3\n",
      "    20,              e2d GENROU 4,                    $e''_d$ GENROU 4\n",
      "    21,              e2q GENROU 1,                    $e''_q$ GENROU 1\n",
      "    22,              e2q GENROU 2,                    $e''_q$ GENROU 2\n",
      "    23,              e2q GENROU 3,                    $e''_q$ GENROU 3\n",
      "    24,              e2q GENROU 4,                    $e''_q$ GENROU 4\n",
      "    25,             LAG_y TGOV1 1,                   $y_{LAG}$ TGOV1 1\n",
      "    26,             LAG_y TGOV1 2,                   $y_{LAG}$ TGOV1 2\n",
      "    27,             LAG_y TGOV1 3,                   $y_{LAG}$ TGOV1 3\n",
      "    28,             LAG_y TGOV1 4,                   $y_{LAG}$ TGOV1 4\n",
      "    29,              LL_x TGOV1 1,                   $x'_{LL}$ TGOV1 1\n",
      "    30,              LL_x TGOV1 2,                   $x'_{LL}$ TGOV1 2\n",
      "    31,              LL_x TGOV1 3,                   $x'_{LL}$ TGOV1 3\n",
      "    32,              LL_x TGOV1 4,                   $x'_{LL}$ TGOV1 4\n",
      "    33,                vp EXDC2 1,                       $V_p$ EXDC2 1\n",
      "    34,                vp EXDC2 2,                       $V_p$ EXDC2 2\n",
      "    35,                vp EXDC2 3,                       $V_p$ EXDC2 3\n",
      "    36,                vp EXDC2 4,                       $V_p$ EXDC2 4\n",
      "    37,              LS_y EXDC2 1,                    $y_{LS}$ EXDC2 1\n",
      "    38,              LS_y EXDC2 2,                    $y_{LS}$ EXDC2 2\n",
      "    39,              LS_y EXDC2 3,                    $y_{LS}$ EXDC2 3\n",
      "    40,              LS_y EXDC2 4,                    $y_{LS}$ EXDC2 4\n",
      "    41,              LL_x EXDC2 1,                   $x'_{LL}$ EXDC2 1\n",
      "    42,              LL_x EXDC2 2,                   $x'_{LL}$ EXDC2 2\n",
      "    43,              LL_x EXDC2 3,                   $x'_{LL}$ EXDC2 3\n",
      "    44,              LL_x EXDC2 4,                   $x'_{LL}$ EXDC2 4\n",
      "    45,              LA_y EXDC2 1,                    $y_{LA}$ EXDC2 1\n",
      "    46,              LA_y EXDC2 2,                    $y_{LA}$ EXDC2 2\n",
      "    47,              LA_y EXDC2 3,                    $y_{LA}$ EXDC2 3\n",
      "    48,              LA_y EXDC2 4,                    $y_{LA}$ EXDC2 4\n",
      "    49,               W_x EXDC2 1,                    $x'_{W}$ EXDC2 1\n",
      "    50,               W_x EXDC2 2,                    $x'_{W}$ EXDC2 2\n",
      "    51,               W_x EXDC2 3,                    $x'_{W}$ EXDC2 3\n",
      "    52,               W_x EXDC2 4,                    $x'_{W}$ EXDC2 4\n",
      "    53,                   a Bus 1,                      $\\theta$ Bus 1\n",
      "    54,                   a Bus 2,                      $\\theta$ Bus 2\n",
      "    55,                   a Bus 3,                      $\\theta$ Bus 3\n",
      "    56,                   a Bus 4,                      $\\theta$ Bus 4\n",
      "    57,                   a Bus 5,                      $\\theta$ Bus 5\n",
      "    58,                   a Bus 6,                      $\\theta$ Bus 6\n",
      "    59,                   a Bus 7,                      $\\theta$ Bus 7\n",
      "    60,                   a Bus 8,                      $\\theta$ Bus 8\n",
      "    61,                   a Bus 9,                      $\\theta$ Bus 9\n",
      "    62,                  a Bus 10,                     $\\theta$ Bus 10\n",
      "    63,                   v Bus 1,                           $V$ Bus 1\n",
      "    64,                   v Bus 2,                           $V$ Bus 2\n",
      "    65,                   v Bus 3,                           $V$ Bus 3\n",
      "    66,                   v Bus 4,                           $V$ Bus 4\n",
      "    67,                   v Bus 5,                           $V$ Bus 5\n",
      "    68,                   v Bus 6,                           $V$ Bus 6\n",
      "    69,                   v Bus 7,                           $V$ Bus 7\n",
      "    70,                   v Bus 8,                           $V$ Bus 8\n",
      "    71,                   v Bus 9,                           $V$ Bus 9\n",
      "    72,                  v Bus 10,                          $V$ Bus 10\n",
      "    73,                    p PV 2,                            $p$ PV 2\n",
      "    74,                    p PV 3,                            $p$ PV 3\n",
      "    75,                    p PV 4,                            $p$ PV 4\n",
      "    76,                    q PV 2,                            $q$ PV 2\n",
      "    77,                    q PV 3,                            $q$ PV 3\n",
      "    78,                    q PV 4,                            $q$ PV 4\n",
      "    79,                 p Slack 1,                         $p$ Slack 1\n",
      "    80,                 q Slack 1,                         $q$ Slack 1\n",
      "    81,               Id GENROU 1,                      $I_d$ GENROU 1\n",
      "    82,               Id GENROU 2,                      $I_d$ GENROU 2\n",
      "    83,               Id GENROU 3,                      $I_d$ GENROU 3\n",
      "    84,               Id GENROU 4,                      $I_d$ GENROU 4\n",
      "    85,               Iq GENROU 1,                      $I_q$ GENROU 1\n",
      "    86,               Iq GENROU 2,                      $I_q$ GENROU 2\n",
      "    87,               Iq GENROU 3,                      $I_q$ GENROU 3\n",
      "    88,               Iq GENROU 4,                      $I_q$ GENROU 4\n",
      "    89,               vd GENROU 1,                      $V_d$ GENROU 1\n",
      "    90,               vd GENROU 2,                      $V_d$ GENROU 2\n",
      "    91,               vd GENROU 3,                      $V_d$ GENROU 3\n",
      "    92,               vd GENROU 4,                      $V_d$ GENROU 4\n",
      "    93,               vq GENROU 1,                      $V_q$ GENROU 1\n",
      "    94,               vq GENROU 2,                      $V_q$ GENROU 2\n",
      "    95,               vq GENROU 3,                      $V_q$ GENROU 3\n",
      "    96,               vq GENROU 4,                      $V_q$ GENROU 4\n",
      "    97,               tm GENROU 1,                   $\\tau_m$ GENROU 1\n",
      "    98,               tm GENROU 2,                   $\\tau_m$ GENROU 2\n",
      "    99,               tm GENROU 3,                   $\\tau_m$ GENROU 3\n",
      "   100,               tm GENROU 4,                   $\\tau_m$ GENROU 4\n",
      "   101,               te GENROU 1,                   $\\tau_e$ GENROU 1\n",
      "   102,               te GENROU 2,                   $\\tau_e$ GENROU 2\n",
      "   103,               te GENROU 3,                   $\\tau_e$ GENROU 3\n",
      "   104,               te GENROU 4,                   $\\tau_e$ GENROU 4\n",
      "   105,               vf GENROU 1,                      $v_f$ GENROU 1\n",
      "   106,               vf GENROU 2,                      $v_f$ GENROU 2\n",
      "   107,               vf GENROU 3,                      $v_f$ GENROU 3\n",
      "   108,               vf GENROU 4,                      $v_f$ GENROU 4\n",
      "   109,           XadIfd GENROU 1,             $X_{ad}I_{fd}$ GENROU 1\n",
      "   110,           XadIfd GENROU 2,             $X_{ad}I_{fd}$ GENROU 2\n",
      "   111,           XadIfd GENROU 3,             $X_{ad}I_{fd}$ GENROU 3\n",
      "   112,           XadIfd GENROU 4,             $X_{ad}I_{fd}$ GENROU 4\n",
      "   113,               Pe GENROU 1,                      $P_e$ GENROU 1\n",
      "   114,               Pe GENROU 2,                      $P_e$ GENROU 2\n",
      "   115,               Pe GENROU 3,                      $P_e$ GENROU 3\n",
      "   116,               Pe GENROU 4,                      $P_e$ GENROU 4\n",
      "   117,               Qe GENROU 1,                      $Q_e$ GENROU 1\n",
      "   118,               Qe GENROU 2,                      $Q_e$ GENROU 2\n",
      "   119,               Qe GENROU 3,                      $Q_e$ GENROU 3\n",
      "   120,               Qe GENROU 4,                      $Q_e$ GENROU 4\n",
      "   121,             psid GENROU 1,                   $\\psi_d$ GENROU 1\n",
      "   122,             psid GENROU 2,                   $\\psi_d$ GENROU 2\n",
      "   123,             psid GENROU 3,                   $\\psi_d$ GENROU 3\n",
      "   124,             psid GENROU 4,                   $\\psi_d$ GENROU 4\n",
      "   125,             psiq GENROU 1,                   $\\psi_q$ GENROU 1\n",
      "   126,             psiq GENROU 2,                   $\\psi_q$ GENROU 2\n",
      "   127,             psiq GENROU 3,                   $\\psi_q$ GENROU 3\n",
      "   128,             psiq GENROU 4,                   $\\psi_q$ GENROU 4\n",
      "   129,            psi2q GENROU 1,                $\\psi_{aq}$ GENROU 1\n",
      "   130,            psi2q GENROU 2,                $\\psi_{aq}$ GENROU 2\n",
      "   131,            psi2q GENROU 3,                $\\psi_{aq}$ GENROU 3\n",
      "   132,            psi2q GENROU 4,                $\\psi_{aq}$ GENROU 4\n",
      "   133,            psi2d GENROU 1,                $\\psi_{ad}$ GENROU 1\n",
      "   134,            psi2d GENROU 2,                $\\psi_{ad}$ GENROU 2\n",
      "   135,            psi2d GENROU 3,                $\\psi_{ad}$ GENROU 3\n",
      "   136,            psi2d GENROU 4,                $\\psi_{ad}$ GENROU 4\n",
      "   137,             psi2 GENROU 1,                   $\\psi_a$ GENROU 1\n",
      "   138,             psi2 GENROU 2,                   $\\psi_a$ GENROU 2\n",
      "   139,             psi2 GENROU 3,                   $\\psi_a$ GENROU 3\n",
      "   140,             psi2 GENROU 4,                   $\\psi_a$ GENROU 4\n",
      "   141,               Se GENROU 1,          $S_e(|\\psi_{a}|)$ GENROU 1\n",
      "   142,               Se GENROU 2,          $S_e(|\\psi_{a}|)$ GENROU 2\n",
      "   143,               Se GENROU 3,          $S_e(|\\psi_{a}|)$ GENROU 3\n",
      "   144,               Se GENROU 4,          $S_e(|\\psi_{a}|)$ GENROU 4\n",
      "   145,           XaqI1q GENROU 1,             $X_{aq}I_{1q}$ GENROU 1\n",
      "   146,           XaqI1q GENROU 2,             $X_{aq}I_{1q}$ GENROU 2\n",
      "   147,           XaqI1q GENROU 3,             $X_{aq}I_{1q}$ GENROU 3\n",
      "   148,           XaqI1q GENROU 4,             $X_{aq}I_{1q}$ GENROU 4\n",
      "   149,              paux TGOV1 1,                   $P_{aux}$ TGOV1 1\n",
      "   150,              paux TGOV1 2,                   $P_{aux}$ TGOV1 2\n",
      "   151,              paux TGOV1 3,                   $P_{aux}$ TGOV1 3\n",
      "   152,              paux TGOV1 4,                   $P_{aux}$ TGOV1 4\n",
      "   153,              pout TGOV1 1,                   $P_{out}$ TGOV1 1\n",
      "   154,              pout TGOV1 2,                   $P_{out}$ TGOV1 2\n",
      "   155,              pout TGOV1 3,                   $P_{out}$ TGOV1 3\n",
      "   156,              pout TGOV1 4,                   $P_{out}$ TGOV1 4\n",
      "   157,              wref TGOV1 1,              $\\omega_{ref}$ TGOV1 1\n",
      "   158,              wref TGOV1 2,              $\\omega_{ref}$ TGOV1 2\n",
      "   159,              wref TGOV1 3,              $\\omega_{ref}$ TGOV1 3\n",
      "   160,              wref TGOV1 4,              $\\omega_{ref}$ TGOV1 4\n",
      "   161,              pref TGOV1 1,                   $P_{ref}$ TGOV1 1\n",
      "   162,              pref TGOV1 2,                   $P_{ref}$ TGOV1 2\n",
      "   163,              pref TGOV1 3,                   $P_{ref}$ TGOV1 3\n",
      "   164,              pref TGOV1 4,                   $P_{ref}$ TGOV1 4\n",
      "   165,                wd TGOV1 1,              $\\omega_{dev}$ TGOV1 1\n",
      "   166,                wd TGOV1 2,              $\\omega_{dev}$ TGOV1 2\n",
      "   167,                wd TGOV1 3,              $\\omega_{dev}$ TGOV1 3\n",
      "   168,                wd TGOV1 4,              $\\omega_{dev}$ TGOV1 4\n",
      "   169,                pd TGOV1 1,                       $P_d$ TGOV1 1\n",
      "   170,                pd TGOV1 2,                       $P_d$ TGOV1 2\n",
      "   171,                pd TGOV1 3,                       $P_d$ TGOV1 3\n",
      "   172,                pd TGOV1 4,                       $P_d$ TGOV1 4\n",
      "   173,              LL_y TGOV1 1,                    $y_{LL}$ TGOV1 1\n",
      "   174,              LL_y TGOV1 2,                    $y_{LL}$ TGOV1 2\n",
      "   175,              LL_y TGOV1 3,                    $y_{LL}$ TGOV1 3\n",
      "   176,              LL_y TGOV1 4,                    $y_{LL}$ TGOV1 4\n",
      "   177,              vout EXDC2 1,                   $v_{out}$ EXDC2 1\n",
      "   178,              vout EXDC2 2,                   $v_{out}$ EXDC2 2\n",
      "   179,              vout EXDC2 3,                   $v_{out}$ EXDC2 3\n",
      "   180,              vout EXDC2 4,                   $v_{out}$ EXDC2 4\n",
      "   181,              vref EXDC2 1,                   $V_{ref}$ EXDC2 1\n",
      "   182,              vref EXDC2 2,                   $V_{ref}$ EXDC2 2\n",
      "   183,              vref EXDC2 3,                   $V_{ref}$ EXDC2 3\n",
      "   184,              vref EXDC2 4,                   $V_{ref}$ EXDC2 4\n",
      "   185,                Se EXDC2 1,            $S_e(|V_{out}|)$ EXDC2 1\n",
      "   186,                Se EXDC2 2,            $S_e(|V_{out}|)$ EXDC2 2\n",
      "   187,                Se EXDC2 3,            $S_e(|V_{out}|)$ EXDC2 3\n",
      "   188,                Se EXDC2 4,            $S_e(|V_{out}|)$ EXDC2 4\n",
      "   189,                vi EXDC2 1,                       $V_i$ EXDC2 1\n",
      "   190,                vi EXDC2 2,                       $V_i$ EXDC2 2\n",
      "   191,                vi EXDC2 3,                       $V_i$ EXDC2 3\n",
      "   192,                vi EXDC2 4,                       $V_i$ EXDC2 4\n",
      "   193,              LL_y EXDC2 1,                    $y_{LL}$ EXDC2 1\n",
      "   194,              LL_y EXDC2 2,                    $y_{LL}$ EXDC2 2\n",
      "   195,              LL_y EXDC2 3,                    $y_{LL}$ EXDC2 3\n",
      "   196,              LL_y EXDC2 4,                    $y_{LL}$ EXDC2 4\n",
      "   197,               W_y EXDC2 1,                     $y_{W}$ EXDC2 1\n",
      "   198,               W_y EXDC2 2,                     $y_{W}$ EXDC2 2\n",
      "   199,               W_y EXDC2 3,                     $y_{W}$ EXDC2 3\n",
      "   200,               W_y EXDC2 4,                     $y_{W}$ EXDC2 4\n"
     ]
    }
   ],
   "metadata": {
    "ExecuteTime": {
     "end_time": "2021-03-18T00:45:36.629852Z",
     "start_time": "2021-03-18T00:45:36.066500Z"
    },
    "pycharm": {
     "name": "#%%\n"
    }
   }
  },
  {
   "cell_type": "markdown",
   "source": [
    "## Plot and save to file"
   ],
   "metadata": {
    "pycharm": {
     "name": "#%% md\n"
    }
   }
  },
  {
   "cell_type": "markdown",
   "source": [
    "We found a limitation of using `andes plot` from within Notebook/iPython. The figure won't be displayed correctly. The workaround is to save the image as a file and display it from the notebook.\n",
    "\n",
    "Please let us know if you have better solutions."
   ],
   "metadata": {}
  },
  {
   "cell_type": "code",
   "execution_count": 10,
   "source": [
    "!andes plot kundur_full_out.lst 0 5 6 --save"
   ],
   "outputs": [
    {
     "output_type": "stream",
     "name": "stdout",
     "text": [
      "Figure saved to \"kundur_full_out_1.png\".\n",
      "Figure(640x480)\n"
     ]
    }
   ],
   "metadata": {
    "ExecuteTime": {
     "end_time": "2021-03-18T00:45:39.374231Z",
     "start_time": "2021-03-18T00:45:36.631417Z"
    },
    "scrolled": true
   }
  },
  {
   "cell_type": "markdown",
   "source": [
    "## Display image"
   ],
   "metadata": {}
  },
  {
   "cell_type": "code",
   "execution_count": 11,
   "source": [
    "from IPython.display import Image\n",
    "Image(\"kundur_full_out_1.png\")"
   ],
   "outputs": [
    {
     "output_type": "execute_result",
     "data": {
      "image/png": "[encoded data removed]",
      "text/plain": [
       "<IPython.core.display.Image object>"
      ]
     },
     "metadata": {},
     "execution_count": 11
    }
   ],
   "metadata": {
    "ExecuteTime": {
     "end_time": "2021-03-18T00:45:39.391336Z",
     "start_time": "2021-03-18T00:45:39.376617Z"
    },
    "pycharm": {
     "name": "#%%\n"
    }
   }
  },
  {
   "cell_type": "markdown",
   "source": [
    "## Using `xargs` for index loop up"
   ],
   "metadata": {}
  },
  {
   "cell_type": "markdown",
   "source": [
    "A convenient tool in Linux/macOS is `xargs`, which turns the standard output of one program into arguments for another.\n",
    "\n",
    "`andes plot --xargs` accepts an input of search pattern for variable names and returns a list of arguments, including the matched indices, that can be understood by `andes plot`.\n"
   ],
   "metadata": {}
  },
  {
   "cell_type": "markdown",
   "source": [
    "A convenient tool in Linux/macOS/Windows with MSYS2 is `xargs`, which turns the standard output of one program into arguments for another.\n",
    "\n",
    "`andes plot --xargs` accepts an input of search pattern for variable names and returns a list of arguments, including the matched indices, that can be understood by `andes plot`.\n"
   ],
   "metadata": {}
  },
  {
   "cell_type": "markdown",
   "source": [
    "## Using `xargs` for index lookup"
   ],
   "metadata": {}
  },
  {
   "cell_type": "markdown",
   "source": [
    "A convenient tool in Linux/macOS is `xargs`, which turns the standard output of one program into arguments for another.\n",
    "\n",
    "`andes plot --xargs` accepts an input of search pattern for variable names and returns a list of arguments, including the matched indices, that can be understood by `andes plot`.\n"
   ],
   "metadata": {}
  },
  {
   "cell_type": "markdown",
   "source": [
    "To illustrate, let's look at an example output of `andes plot --xargs`."
   ],
   "metadata": {}
  },
  {
   "cell_type": "code",
   "execution_count": 12,
   "source": [
    "!andes plot kundur_full_out.lst --xargs \"omega GENROU\""
   ],
   "outputs": [
    {
     "output_type": "stream",
     "name": "stdout",
     "text": [
      "kundur_full_out.lst 0 5 6 7 8\n"
     ]
    }
   ],
   "metadata": {
    "ExecuteTime": {
     "end_time": "2021-03-18T00:45:40.703534Z",
     "start_time": "2021-03-18T00:45:39.394998Z"
    }
   }
  },
  {
   "cell_type": "markdown",
   "source": [
    "The output consists of the lst file name, the default x-axis index `0`, and the indices for the found variables. The full output can be passed to `andes plot` without modification."
   ],
   "metadata": {}
  },
  {
   "cell_type": "markdown",
   "source": [
    "We use the following command to pass the arguments:"
   ],
   "metadata": {}
  },
  {
   "cell_type": "code",
   "execution_count": 13,
   "source": [
    "!andes plot kundur_full_out.lst --xargs \"omega GENROU\" | xargs andes plot"
   ],
   "outputs": [
    {
     "output_type": "stream",
     "name": "stdout",
     "text": [
      "Figure saved to \"kundur_full_out_2.png\".\n",
      "Figure(640x480)\n"
     ]
    }
   ],
   "metadata": {
    "ExecuteTime": {
     "end_time": "2021-03-18T00:45:43.751254Z",
     "start_time": "2021-03-18T00:45:40.704926Z"
    }
   }
  },
  {
   "cell_type": "markdown",
   "source": [
    "where `|` is the pipe operator in shell for piping the standard output of the left-hand side to the right-hand side, `xargs` captures the pipe-in and appends it to `andes plot`. \n",
    "\n",
    "The command is equivalent to manually running"
   ],
   "metadata": {}
  },
  {
   "cell_type": "code",
   "execution_count": 14,
   "source": [
    "!andes plot kundur_full_out.lst 5 6 7 8"
   ],
   "outputs": [
    {
     "output_type": "stream",
     "name": "stdout",
     "text": [
      "Figure saved to \"kundur_full_out_3.png\".\n",
      "Figure(640x480)\n"
     ]
    }
   ],
   "metadata": {
    "ExecuteTime": {
     "end_time": "2021-03-18T00:45:46.697152Z",
     "start_time": "2021-03-18T00:45:43.752578Z"
    }
   }
  },
  {
   "cell_type": "markdown",
   "source": [
    "## Cleanup"
   ],
   "metadata": {}
  },
  {
   "cell_type": "markdown",
   "source": [
    "Remove the saved `png` image files."
   ],
   "metadata": {}
  },
  {
   "cell_type": "code",
   "execution_count": 15,
   "source": [
    "!rm -v *.png"
   ],
   "outputs": [
    {
     "output_type": "stream",
     "name": "stdout",
     "text": [
      "removed 'kundur_full_out_1.png'\n",
      "removed 'kundur_full_out_2.png'\n",
      "removed 'kundur_full_out_3.png'\n"
     ]
    }
   ],
   "metadata": {
    "ExecuteTime": {
     "end_time": "2021-03-18T00:45:47.287001Z",
     "start_time": "2021-03-18T00:45:46.698453Z"
    }
   }
  },
  {
   "cell_type": "code",
   "execution_count": 16,
   "source": [
    "!andes misc -C"
   ],
   "outputs": [
    {
     "output_type": "stream",
     "name": "stdout",
     "text": [
      "\n",
      "    _           _         | Version 1.4.2.post16.dev0+g75a6b3d6\n",
      "   /_\\  _ _  __| |___ ___ | Python 3.9.6 on Linux, 09/18/2021 12:14:18 PM\n",
      "  / _ \\| ' \\/ _` / -_|_-< | \n",
      " /_/ \\_\\_||_\\__,_\\___/__/ | This program comes with ABSOLUTELY NO WARRANTY.\n",
      "\n",
      "\"/home/hcui7/repos/andes/examples/kundur_out.lst\" removed.\n",
      "\"/home/hcui7/repos/andes/examples/kundur_out.txt\" removed.\n",
      "\"/home/hcui7/repos/andes/examples/kundur_full_out.txt\" removed.\n",
      "\"/home/hcui7/repos/andes/examples/kundur_full_out.npz\" removed.\n",
      "\"/home/hcui7/repos/andes/examples/kundur_out.npz\" removed.\n",
      "\"/home/hcui7/repos/andes/examples/kundur_full_out.lst\" removed.\n"
     ]
    }
   ],
   "metadata": {
    "ExecuteTime": {
     "end_time": "2021-03-18T00:45:48.521518Z",
     "start_time": "2021-03-18T00:45:47.288522Z"
    }
   }
  }
 ],
 "metadata": {
  "kernelspec": {
   "name": "python3",
   "display_name": "Python 3.9.6 64-bit ('a': conda)"
  },
  "language_info": {
   "codemirror_mode": {
    "name": "ipython",
    "version": 3
   },
   "file_extension": ".py",
   "mimetype": "text/x-python",
   "name": "python",
   "nbconvert_exporter": "python",
   "pygments_lexer": "ipython3",
   "version": "3.9.6"
  },
  "pycharm": {
   "stem_cell": {
    "cell_type": "raw",
    "metadata": {
     "collapsed": false
    },
    "source": []
   }
  },
  "varInspector": {
   "cols": {
    "lenName": 16,
    "lenType": 16,
    "lenVar": 40
   },
   "kernels_config": {
    "python": {
     "delete_cmd_postfix": "",
     "delete_cmd_prefix": "del ",
     "library": "var_list.py",
     "varRefreshCmd": "print(var_dic_list())"
    },
    "r": {
     "delete_cmd_postfix": ") ",
     "delete_cmd_prefix": "rm(",
     "library": "var_list.r",
     "varRefreshCmd": "cat(var_dic_list()) "
    }
   },
   "types_to_exclude": [
    "module",
    "function",
    "builtin_function_or_method",
    "instance",
    "_Feature"
   ],
   "window_display": false
  },
  "interpreter": {
   "hash": "4c42303ec617988e96980582546035234a0dbb343f6614254a1d5bddbb9babb9"
  }
 },
 "nbformat": 4,
 "nbformat_minor": 4
}