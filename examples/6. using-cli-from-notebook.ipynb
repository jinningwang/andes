{
 "cells": [
  {
   "cell_type": "markdown",
   "metadata": {},
   "source": [
    "# Using Command-Line Interface (CLI) from Notebook"
   ]
  },
  {
   "cell_type": "markdown",
   "metadata": {},
   "source": [
    "## The `!` magic in iPython"
   ]
  },
  {
   "cell_type": "markdown",
   "metadata": {},
   "source": [
    "This example shows how to use the ANDES CLI from Jupyter Notebook.\n",
    "\n",
    "It is based on the iPython magic `!`. To run a shell command from within iPython or notebook, place a `!` before the command."
   ]
  },
  {
   "cell_type": "markdown",
   "metadata": {},
   "source": [
    "All the commands demonstrated in this notebook can be used in a terminal/shell by removing the preceeding `!` sign."
   ]
  },
  {
   "cell_type": "markdown",
   "metadata": {
    "pycharm": {
     "name": "#%% md\n"
    }
   },
   "source": [
    "For example, to list the directory , use `!ls`. This is equivalent to running `ls` from the terminal."
   ]
  },
  {
   "cell_type": "code",
   "execution_count": 1,
   "metadata": {
    "pycharm": {
     "name": "#%%\n"
    }
   },
   "outputs": [
    {
     "name": "stdout",
     "output_type": "stream",
     "text": [
      "1. simulate_and_plot.ipynb       4. inspect_models.ipynb\r\n",
      "2. inspect_data.ipynb            5. profiling.ipynb\r\n",
      "3. eigenvalue.ipynb              6. using-cli-from-notebook.ipynb\r\n"
     ]
    }
   ],
   "source": [
    "!ls"
   ]
  },
  {
   "cell_type": "markdown",
   "metadata": {
    "pycharm": {
     "name": "#%% md\n"
    }
   },
   "source": [
    "Likewise, to run `andes`, use `!andes`. Addition arguments can be passed as usual."
   ]
  },
  {
   "cell_type": "code",
   "execution_count": 2,
   "metadata": {
    "pycharm": {
     "name": "#%%\n"
    }
   },
   "outputs": [
    {
     "name": "stdout",
     "output_type": "stream",
     "text": [
      "ANDES 0.8.3 (Git commit id 1137236a, Python 3.7.1 on Darwin)\r\n",
      "Session: hcui7, 04/02/2020 06:28:34 PM\r\n",
      "This program comes with ABSOLUTELY NO WARRANTY.\r\n",
      "\r\n",
      "usage: andes [-h] [-v {10,20,30,40,50}]\r\n",
      "             {run,plot,misc,prepare,doc,selftest} ...\r\n",
      "\r\n",
      "positional arguments:\r\n",
      "  {run,plot,misc,prepare,doc,selftest}\r\n",
      "                        [run] run simulation routine; [plot] plot simulation\r\n",
      "                        results; [doc] quick documentation; [prepare] run the\r\n",
      "                        symbolic-to-numeric preparation; [misc] miscellaneous\r\n",
      "                        functions.\r\n",
      "\r\n",
      "optional arguments:\r\n",
      "  -h, --help            show this help message and exit\r\n",
      "  -v {10,20,30,40,50}, --verbose {10,20,30,40,50}\r\n",
      "                        Program logging level. Available levels are 10-DEBUG,\r\n",
      "                        20-INFO, 30-WARNING, 40-ERROR or 50-CRITICAL. The\r\n",
      "                        default level is 20-INFO.\r\n"
     ]
    }
   ],
   "source": [
    "!andes"
   ]
  },
  {
   "cell_type": "markdown",
   "metadata": {
    "pycharm": {
     "name": "#%% md\n"
    }
   },
   "source": [
    "## Run a simulation"
   ]
  },
  {
   "cell_type": "code",
   "execution_count": 3,
   "metadata": {
    "pycharm": {
     "name": "#%%\n"
    }
   },
   "outputs": [
    {
     "name": "stdout",
     "output_type": "stream",
     "text": [
      "ANDES 0.8.3 (Git commit id 1137236a, Python 3.7.1 on Darwin)\n",
      "Session: hcui7, 04/02/2020 06:28:35 PM\n",
      "This program comes with ABSOLUTELY NO WARRANTY.\n",
      "\n",
      "Parsing input file </Users/hcui7/repos/andes/andes/cases/kundur/kundur_full.xlsx>\n",
      "Input file kundur_full.xlsx parsed in 0.0732 second.\n",
      "-> Power flow calculation with Newton Raphson method:\n",
      "Power flow initialized.\n",
      "0: |F(x)| = 14.9283   \n",
      "1: |F(x)| = 3.60859   \n",
      "2: |F(x)| = 0.170093  \n",
      "3: |F(x)| = 0.00203827\n",
      "4: |F(x)| = 3.76414e-07\n",
      "Converged in 5 iterations in 0.0064 second.\n",
      "Report saved to </Users/hcui7/repos/andes/examples/kundur_full_out.txt> in 0.0007 second.\n",
      "-> Time Domain Simulation Summary:\n",
      "Sparse Solver: KLU\n",
      "Simulation time: 0.0-20.0s\n",
      "Fixed step size: h=0.03333s\n",
      "Initialization successful in 0.0127 second.\n",
      "<Toggle 0>: Status of Line.Line_8 changed to 0.0.                     \n",
      "100%|████████████████████████████████| 100/100 [00:02<00:00, 46.30%/s]\n",
      "Simulation completed in 2.1598 seconds.\n",
      "TDS outputs saved in 0.0303 second.\n",
      "-> Single process finished in 2.3532 seconds.\n"
     ]
    }
   ],
   "source": [
    "!andes run ../andes/cases/kundur/kundur_full.xlsx -r tds"
   ]
  },
  {
   "cell_type": "markdown",
   "metadata": {
    "pycharm": {
     "name": "#%% md\n"
    }
   },
   "source": [
    "## Check the output `lst` file"
   ]
  },
  {
   "cell_type": "code",
   "execution_count": 4,
   "metadata": {
    "pycharm": {
     "name": "#%%\n"
    }
   },
   "outputs": [
    {
     "name": "stdout",
     "output_type": "stream",
     "text": [
      "     0,                  Time [s],                         $Time\\ [s]$\r\n",
      "     1,            GENROU delta 0,                 $\\delta\\ GENROU\\ 0$\r\n",
      "     2,            GENROU omega 0,                 $\\omega\\ GENROU\\ 0$\r\n",
      "     3,              GENROU e1q 0,                   $e'_q\\ GENROU\\ 0$\r\n",
      "     4,              GENROU e1d 0,                   $e'_d\\ GENROU\\ 0$\r\n",
      "     5,              GENROU e2d 0,                  $e''_d\\ GENROU\\ 0$\r\n",
      "     6,              GENROU e2q 0,                  $e''_q\\ GENROU\\ 0$\r\n",
      "     7,            GENROU delta 1,                 $\\delta\\ GENROU\\ 1$\r\n",
      "     8,            GENROU omega 1,                 $\\omega\\ GENROU\\ 1$\r\n",
      "     9,              GENROU e1q 1,                   $e'_q\\ GENROU\\ 1$\r\n",
      "    10,              GENROU e1d 1,                   $e'_d\\ GENROU\\ 1$\r\n",
      "    11,              GENROU e2d 1,                  $e''_d\\ GENROU\\ 1$\r\n",
      "    12,              GENROU e2q 1,                  $e''_q\\ GENROU\\ 1$\r\n",
      "    13,            GENROU delta 2,                 $\\delta\\ GENROU\\ 2$\r\n",
      "    14,            GENROU omega 2,                 $\\omega\\ GENROU\\ 2$\r\n",
      "    15,              GENROU e1q 2,                   $e'_q\\ GENROU\\ 2$\r\n",
      "    16,              GENROU e1d 2,                   $e'_d\\ GENROU\\ 2$\r\n",
      "    17,              GENROU e2d 2,                  $e''_d\\ GENROU\\ 2$\r\n",
      "    18,              GENROU e2q 2,                  $e''_q\\ GENROU\\ 2$\r\n",
      "    19,            GENROU delta 3,                 $\\delta\\ GENROU\\ 3$\r\n",
      "    20,            GENROU omega 3,                 $\\omega\\ GENROU\\ 3$\r\n",
      "    21,              GENROU e1q 3,                   $e'_q\\ GENROU\\ 3$\r\n",
      "    22,              GENROU e1d 3,                   $e'_d\\ GENROU\\ 3$\r\n",
      "    23,              GENROU e2d 3,                  $e''_d\\ GENROU\\ 3$\r\n",
      "    24,              GENROU e2q 3,                  $e''_q\\ GENROU\\ 3$\r\n",
      "    25,             TGOV1 LAG_x 0,                $x'_{LAG}\\ TGOV1\\ 0$\r\n",
      "    26,              TGOV1 LL_x 0,                 $x'_{LL}\\ TGOV1\\ 0$\r\n",
      "    27,             TGOV1 LAG_x 1,                $x'_{LAG}\\ TGOV1\\ 1$\r\n",
      "    28,              TGOV1 LL_x 1,                 $x'_{LL}\\ TGOV1\\ 1$\r\n",
      "    29,             TGOV1 LAG_x 2,                $x'_{LAG}\\ TGOV1\\ 2$\r\n",
      "    30,              TGOV1 LL_x 2,                 $x'_{LL}\\ TGOV1\\ 2$\r\n",
      "    31,             TGOV1 LAG_x 3,                $x'_{LAG}\\ TGOV1\\ 3$\r\n",
      "    32,              TGOV1 LL_x 3,                 $x'_{LL}\\ TGOV1\\ 3$\r\n",
      "    33,                EXDC2 vp 0,                     $V_p\\ EXDC2\\ 0$\r\n",
      "    34,              EXDC2 LS_x 0,                 $x'_{LS}\\ EXDC2\\ 0$\r\n",
      "    35,              EXDC2 LL_x 0,                 $x'_{LL}\\ EXDC2\\ 0$\r\n",
      "    36,              EXDC2 LA_x 0,                 $x'_{LA}\\ EXDC2\\ 0$\r\n",
      "    37,               EXDC2 W_x 0,                  $x'_{W}\\ EXDC2\\ 0$\r\n",
      "    38,                EXDC2 vp 1,                     $V_p\\ EXDC2\\ 1$\r\n",
      "    39,              EXDC2 LS_x 1,                 $x'_{LS}\\ EXDC2\\ 1$\r\n",
      "    40,              EXDC2 LL_x 1,                 $x'_{LL}\\ EXDC2\\ 1$\r\n",
      "    41,              EXDC2 LA_x 1,                 $x'_{LA}\\ EXDC2\\ 1$\r\n",
      "    42,               EXDC2 W_x 1,                  $x'_{W}\\ EXDC2\\ 1$\r\n",
      "    43,                EXDC2 vp 2,                     $V_p\\ EXDC2\\ 2$\r\n",
      "    44,              EXDC2 LS_x 2,                 $x'_{LS}\\ EXDC2\\ 2$\r\n",
      "    45,              EXDC2 LL_x 2,                 $x'_{LL}\\ EXDC2\\ 2$\r\n",
      "    46,              EXDC2 LA_x 2,                 $x'_{LA}\\ EXDC2\\ 2$\r\n",
      "    47,               EXDC2 W_x 2,                  $x'_{W}\\ EXDC2\\ 2$\r\n",
      "    48,                EXDC2 vp 3,                     $V_p\\ EXDC2\\ 3$\r\n",
      "    49,              EXDC2 LS_x 3,                 $x'_{LS}\\ EXDC2\\ 3$\r\n",
      "    50,              EXDC2 LL_x 3,                 $x'_{LL}\\ EXDC2\\ 3$\r\n",
      "    51,              EXDC2 LA_x 3,                 $x'_{LA}\\ EXDC2\\ 3$\r\n",
      "    52,               EXDC2 W_x 3,                  $x'_{W}\\ EXDC2\\ 3$\r\n",
      "    53,                   Bus a 0,                    $\\theta\\ Bus\\ 0$\r\n",
      "    54,                   Bus a 1,                    $\\theta\\ Bus\\ 1$\r\n",
      "    55,                   Bus a 2,                    $\\theta\\ Bus\\ 2$\r\n",
      "    56,                   Bus a 3,                    $\\theta\\ Bus\\ 3$\r\n",
      "    57,                   Bus a 4,                    $\\theta\\ Bus\\ 4$\r\n",
      "    58,                   Bus a 5,                    $\\theta\\ Bus\\ 5$\r\n",
      "    59,                   Bus a 6,                    $\\theta\\ Bus\\ 6$\r\n",
      "    60,                   Bus a 7,                    $\\theta\\ Bus\\ 7$\r\n",
      "    61,                   Bus a 8,                    $\\theta\\ Bus\\ 8$\r\n",
      "    62,                   Bus a 9,                    $\\theta\\ Bus\\ 9$\r\n",
      "    63,                   Bus v 0,                         $V\\ Bus\\ 0$\r\n",
      "    64,                   Bus v 1,                         $V\\ Bus\\ 1$\r\n",
      "    65,                   Bus v 2,                         $V\\ Bus\\ 2$\r\n",
      "    66,                   Bus v 3,                         $V\\ Bus\\ 3$\r\n",
      "    67,                   Bus v 4,                         $V\\ Bus\\ 4$\r\n",
      "    68,                   Bus v 5,                         $V\\ Bus\\ 5$\r\n",
      "    69,                   Bus v 6,                         $V\\ Bus\\ 6$\r\n",
      "    70,                   Bus v 7,                         $V\\ Bus\\ 7$\r\n",
      "    71,                   Bus v 8,                         $V\\ Bus\\ 8$\r\n",
      "    72,                   Bus v 9,                         $V\\ Bus\\ 9$\r\n",
      "    73,                    PV p 0,                          $p\\ PV\\ 0$\r\n",
      "    74,                    PV q 0,                          $q\\ PV\\ 0$\r\n",
      "    75,                    PV p 1,                          $p\\ PV\\ 1$\r\n",
      "    76,                    PV q 1,                          $q\\ PV\\ 1$\r\n",
      "    77,                    PV p 2,                          $p\\ PV\\ 2$\r\n",
      "    78,                    PV q 2,                          $q\\ PV\\ 2$\r\n",
      "    79,                 Slack p 0,                       $p\\ Slack\\ 0$\r\n",
      "    80,                 Slack q 0,                       $q\\ Slack\\ 0$\r\n",
      "    81,               GENROU Id 0,                    $I_d\\ GENROU\\ 0$\r\n",
      "    82,               GENROU Iq 0,                    $I_q\\ GENROU\\ 0$\r\n",
      "    83,               GENROU vd 0,                    $V_d\\ GENROU\\ 0$\r\n",
      "    84,               GENROU vq 0,                    $V_q\\ GENROU\\ 0$\r\n",
      "    85,               GENROU tm 0,                 $\\tau_m\\ GENROU\\ 0$\r\n",
      "    86,               GENROU te 0,                 $\\tau_e\\ GENROU\\ 0$\r\n",
      "    87,               GENROU vf 0,                    $v_f\\ GENROU\\ 0$\r\n",
      "    88,             GENROU psid 0,                 $\\psi_d\\ GENROU\\ 0$\r\n",
      "    89,             GENROU psiq 0,                 $\\psi_q\\ GENROU\\ 0$\r\n",
      "    90,            GENROU psiaq 0,              $\\psi_{aq}\\ GENROU\\ 0$\r\n",
      "    91,            GENROU psiad 0,              $\\psi_{ad}\\ GENROU\\ 0$\r\n",
      "    92,             GENROU psia 0,               $\\psi_{a}\\ GENROU\\ 0$\r\n",
      "    93,               GENROU Se 0,        $S_e(|\\psi_{a}|)\\ GENROU\\ 0$\r\n",
      "    94,               GENROU Id 1,                    $I_d\\ GENROU\\ 1$\r\n",
      "    95,               GENROU Iq 1,                    $I_q\\ GENROU\\ 1$\r\n",
      "    96,               GENROU vd 1,                    $V_d\\ GENROU\\ 1$\r\n",
      "    97,               GENROU vq 1,                    $V_q\\ GENROU\\ 1$\r\n",
      "    98,               GENROU tm 1,                 $\\tau_m\\ GENROU\\ 1$\r\n",
      "    99,               GENROU te 1,                 $\\tau_e\\ GENROU\\ 1$\r\n",
      "   100,               GENROU vf 1,                    $v_f\\ GENROU\\ 1$\r\n",
      "   101,             GENROU psid 1,                 $\\psi_d\\ GENROU\\ 1$\r\n",
      "   102,             GENROU psiq 1,                 $\\psi_q\\ GENROU\\ 1$\r\n",
      "   103,            GENROU psiaq 1,              $\\psi_{aq}\\ GENROU\\ 1$\r\n",
      "   104,            GENROU psiad 1,              $\\psi_{ad}\\ GENROU\\ 1$\r\n",
      "   105,             GENROU psia 1,               $\\psi_{a}\\ GENROU\\ 1$\r\n",
      "   106,               GENROU Se 1,        $S_e(|\\psi_{a}|)\\ GENROU\\ 1$\r\n",
      "   107,               GENROU Id 2,                    $I_d\\ GENROU\\ 2$\r\n",
      "   108,               GENROU Iq 2,                    $I_q\\ GENROU\\ 2$\r\n",
      "   109,               GENROU vd 2,                    $V_d\\ GENROU\\ 2$\r\n",
      "   110,               GENROU vq 2,                    $V_q\\ GENROU\\ 2$\r\n",
      "   111,               GENROU tm 2,                 $\\tau_m\\ GENROU\\ 2$\r\n",
      "   112,               GENROU te 2,                 $\\tau_e\\ GENROU\\ 2$\r\n",
      "   113,               GENROU vf 2,                    $v_f\\ GENROU\\ 2$\r\n",
      "   114,             GENROU psid 2,                 $\\psi_d\\ GENROU\\ 2$\r\n",
      "   115,             GENROU psiq 2,                 $\\psi_q\\ GENROU\\ 2$\r\n",
      "   116,            GENROU psiaq 2,              $\\psi_{aq}\\ GENROU\\ 2$\r\n",
      "   117,            GENROU psiad 2,              $\\psi_{ad}\\ GENROU\\ 2$\r\n",
      "   118,             GENROU psia 2,               $\\psi_{a}\\ GENROU\\ 2$\r\n",
      "   119,               GENROU Se 2,        $S_e(|\\psi_{a}|)\\ GENROU\\ 2$\r\n",
      "   120,               GENROU Id 3,                    $I_d\\ GENROU\\ 3$\r\n",
      "   121,               GENROU Iq 3,                    $I_q\\ GENROU\\ 3$\r\n",
      "   122,               GENROU vd 3,                    $V_d\\ GENROU\\ 3$\r\n",
      "   123,               GENROU vq 3,                    $V_q\\ GENROU\\ 3$\r\n",
      "   124,               GENROU tm 3,                 $\\tau_m\\ GENROU\\ 3$\r\n",
      "   125,               GENROU te 3,                 $\\tau_e\\ GENROU\\ 3$\r\n",
      "   126,               GENROU vf 3,                    $v_f\\ GENROU\\ 3$\r\n",
      "   127,             GENROU psid 3,                 $\\psi_d\\ GENROU\\ 3$\r\n",
      "   128,             GENROU psiq 3,                 $\\psi_q\\ GENROU\\ 3$\r\n",
      "   129,            GENROU psiaq 3,              $\\psi_{aq}\\ GENROU\\ 3$\r\n",
      "   130,            GENROU psiad 3,              $\\psi_{ad}\\ GENROU\\ 3$\r\n",
      "   131,             GENROU psia 3,               $\\psi_{a}\\ GENROU\\ 3$\r\n",
      "   132,               GENROU Se 3,        $S_e(|\\psi_{a}|)\\ GENROU\\ 3$\r\n",
      "   133,              TGOV1 pout 0,                 $P_{out}\\ TGOV1\\ 0$\r\n",
      "   134,              TGOV1 wref 0,            $\\omega_{ref}\\ TGOV1\\ 0$\r\n",
      "   135,              TGOV1 pref 0,                 $P_{ref}\\ TGOV1\\ 0$\r\n",
      "   136,                TGOV1 wd 0,            $\\omega_{dev}\\ TGOV1\\ 0$\r\n",
      "   137,                TGOV1 pd 0,                     $P_d\\ TGOV1\\ 0$\r\n",
      "   138,              TGOV1 LL_y 0,                  $y_{LL}\\ TGOV1\\ 0$\r\n",
      "   139,              TGOV1 pout 1,                 $P_{out}\\ TGOV1\\ 1$\r\n",
      "   140,              TGOV1 wref 1,            $\\omega_{ref}\\ TGOV1\\ 1$\r\n",
      "   141,              TGOV1 pref 1,                 $P_{ref}\\ TGOV1\\ 1$\r\n",
      "   142,                TGOV1 wd 1,            $\\omega_{dev}\\ TGOV1\\ 1$\r\n",
      "   143,                TGOV1 pd 1,                     $P_d\\ TGOV1\\ 1$\r\n",
      "   144,              TGOV1 LL_y 1,                  $y_{LL}\\ TGOV1\\ 1$\r\n",
      "   145,              TGOV1 pout 2,                 $P_{out}\\ TGOV1\\ 2$\r\n",
      "   146,              TGOV1 wref 2,            $\\omega_{ref}\\ TGOV1\\ 2$\r\n",
      "   147,              TGOV1 pref 2,                 $P_{ref}\\ TGOV1\\ 2$\r\n",
      "   148,                TGOV1 wd 2,            $\\omega_{dev}\\ TGOV1\\ 2$\r\n",
      "   149,                TGOV1 pd 2,                     $P_d\\ TGOV1\\ 2$\r\n",
      "   150,              TGOV1 LL_y 2,                  $y_{LL}\\ TGOV1\\ 2$\r\n",
      "   151,              TGOV1 pout 3,                 $P_{out}\\ TGOV1\\ 3$\r\n",
      "   152,              TGOV1 wref 3,            $\\omega_{ref}\\ TGOV1\\ 3$\r\n",
      "   153,              TGOV1 pref 3,                 $P_{ref}\\ TGOV1\\ 3$\r\n",
      "   154,                TGOV1 wd 3,            $\\omega_{dev}\\ TGOV1\\ 3$\r\n",
      "   155,                TGOV1 pd 3,                     $P_d\\ TGOV1\\ 3$\r\n",
      "   156,              TGOV1 LL_y 3,                  $y_{LL}\\ TGOV1\\ 3$\r\n",
      "   157,              EXDC2 vout 0,                 $v_{out}\\ EXDC2\\ 0$\r\n",
      "   158,                EXDC2 Se 0,                     $S_e\\ EXDC2\\ 0$\r\n",
      "   159,              EXDC2 vref 0,                 $V_{ref}\\ EXDC2\\ 0$\r\n",
      "   160,                EXDC2 vi 0,                     $V_i\\ EXDC2\\ 0$\r\n",
      "   161,              EXDC2 LL_y 0,                  $y_{LL}\\ EXDC2\\ 0$\r\n",
      "   162,               EXDC2 W_y 0,                   $y_{W}\\ EXDC2\\ 0$\r\n",
      "   163,              EXDC2 vout 1,                 $v_{out}\\ EXDC2\\ 1$\r\n",
      "   164,                EXDC2 Se 1,                     $S_e\\ EXDC2\\ 1$\r\n",
      "   165,              EXDC2 vref 1,                 $V_{ref}\\ EXDC2\\ 1$\r\n",
      "   166,                EXDC2 vi 1,                     $V_i\\ EXDC2\\ 1$\r\n",
      "   167,              EXDC2 LL_y 1,                  $y_{LL}\\ EXDC2\\ 1$\r\n",
      "   168,               EXDC2 W_y 1,                   $y_{W}\\ EXDC2\\ 1$\r\n",
      "   169,              EXDC2 vout 2,                 $v_{out}\\ EXDC2\\ 2$\r\n",
      "   170,                EXDC2 Se 2,                     $S_e\\ EXDC2\\ 2$\r\n",
      "   171,              EXDC2 vref 2,                 $V_{ref}\\ EXDC2\\ 2$\r\n",
      "   172,                EXDC2 vi 2,                     $V_i\\ EXDC2\\ 2$\r\n",
      "   173,              EXDC2 LL_y 2,                  $y_{LL}\\ EXDC2\\ 2$\r\n",
      "   174,               EXDC2 W_y 2,                   $y_{W}\\ EXDC2\\ 2$\r\n",
      "   175,              EXDC2 vout 3,                 $v_{out}\\ EXDC2\\ 3$\r\n",
      "   176,                EXDC2 Se 3,                     $S_e\\ EXDC2\\ 3$\r\n",
      "   177,              EXDC2 vref 3,                 $V_{ref}\\ EXDC2\\ 3$\r\n",
      "   178,                EXDC2 vi 3,                     $V_i\\ EXDC2\\ 3$\r\n",
      "   179,              EXDC2 LL_y 3,                  $y_{LL}\\ EXDC2\\ 3$\r\n",
      "   180,               EXDC2 W_y 3,                   $y_{W}\\ EXDC2\\ 3$\r\n"
     ]
    }
   ],
   "source": [
    "!cat kundur_full_out.lst"
   ]
  },
  {
   "cell_type": "markdown",
   "metadata": {},
   "source": [
    "Windows users may not have `cat` by default in the search path. Do instead\n",
    "\n",
    "```\n",
    "with open('kundur_full_out.lst', 'r') as f:\n",
    "    print(f.read())\n",
    "```"
   ]
  },
  {
   "cell_type": "markdown",
   "metadata": {
    "pycharm": {
     "name": "#%% md\n"
    }
   },
   "source": [
    "## Plot and save to file"
   ]
  },
  {
   "cell_type": "markdown",
   "metadata": {},
   "source": [
    "We found a limitation of using `andes plot` from within Notebook/iPython. The figure won't be displayed correctly. The workaround is to save the image as a file and display it from the notebook.\n",
    "\n",
    "Please let us know if you have better solutions."
   ]
  },
  {
   "cell_type": "code",
   "execution_count": 5,
   "metadata": {
    "scrolled": true
   },
   "outputs": [
    {
     "name": "stdout",
     "output_type": "stream",
     "text": [
      "Using LaTeX for rendering.\n",
      "If the rendering takes too long or an error occurs:\n",
      "a) If you are using `andes plot`, disable with optino \"-d\",\n",
      "b) If you are using `plot()`, set \"latex=False\".\n",
      "Figure saved to <kundur_full_out_1.png>\n",
      "Figure(640x480)\n"
     ]
    }
   ],
   "source": [
    "!andes plot kundur_full_out.lst 0 2 8 --save"
   ]
  },
  {
   "cell_type": "markdown",
   "metadata": {},
   "source": [
    "## Display image"
   ]
  },
  {
   "cell_type": "code",
   "execution_count": 6,
   "metadata": {
    "pycharm": {
     "name": "#%%\n"
    }
   },
   "outputs": [
    {
     "data": {
      "image/png": "[encoded data removed]",
      "text/plain": [
       "<IPython.core.display.Image object>"
      ]
     },
     "execution_count": 6,
     "metadata": {},
     "output_type": "execute_result"
    }
   ],
   "source": [
    "from IPython.display import Image\n",
    "Image(\"kundur_full_out_1.png\")"
   ]
  },
  {
   "cell_type": "markdown",
   "metadata": {},
   "source": [
    "## Using `xargs` for index loop up"
   ]
  },
  {
   "cell_type": "markdown",
   "metadata": {},
   "source": [
    "A convenient tool in Linux/macOS is `xargs`, which turns the standard output of one program into arguments for another.\n",
    "\n",
    "`andes plot --xargs` accepts an input of search pattern for variable names and returns a list of arguments, including the matched indices, that can be understood by `andes plot`.\n"
   ]
  },
  {
   "cell_type": "markdown",
   "metadata": {},
   "source": [
    "A convenient tool in Linux/macOS is `xargs`, which turns the standard output of one program into arguments for another.\n",
    "\n",
    "`andes plot --xargs` accepts an input of search pattern for variable names and returns a list of arguments, including the matched indices, that can be understood by `andes plot`.\n"
   ]
  },
  {
   "cell_type": "markdown",
   "metadata": {},
   "source": [
    "## Using `xargs` for index loop up"
   ]
  },
  {
   "cell_type": "markdown",
   "metadata": {},
   "source": [
    "A convenient tool in Linux/macOS is `xargs`, which turns the standard output of one program into arguments for another.\n",
    "\n",
    "`andes plot --xargs` accepts an input of search pattern for variable names and returns a list of arguments, including the matched indices, that can be understood by `andes plot`.\n"
   ]
  },
  {
   "cell_type": "markdown",
   "metadata": {},
   "source": [
    "To illustrate, let's look at an example output of `andes plot --xargs`."
   ]
  },
  {
   "cell_type": "code",
   "execution_count": 7,
   "metadata": {},
   "outputs": [
    {
     "name": "stdout",
     "output_type": "stream",
     "text": [
      "kundur_full_out.lst 0 2 8 14 20\r\n"
     ]
    }
   ],
   "source": [
    "!andes plot kundur_full_out.lst --xargs \"GENROU omega\""
   ]
  },
  {
   "cell_type": "markdown",
   "metadata": {},
   "source": [
    "The output consists of the lst file name, the default x-axis index `0`, and the indices for the found variables. The full output can be passed to `andes plot` without modification."
   ]
  },
  {
   "cell_type": "markdown",
   "metadata": {},
   "source": [
    "We use the following command to pass the arguments:"
   ]
  },
  {
   "cell_type": "code",
   "execution_count": 8,
   "metadata": {},
   "outputs": [
    {
     "name": "stdout",
     "output_type": "stream",
     "text": [
      "Using LaTeX for rendering.\n",
      "If the rendering takes too long or an error occurs:\n",
      "a) If you are using `andes plot`, disable with optino \"-d\",\n",
      "b) If you are using `plot()`, set \"latex=False\".\n",
      "Figure(640x480)\n"
     ]
    }
   ],
   "source": [
    "!andes plot kundur_full_out.lst --xargs \"GENROU omega\" | xargs andes plot"
   ]
  },
  {
   "cell_type": "markdown",
   "metadata": {},
   "source": [
    "where `|` is the pipe operator in shell for piping the standard output of the left-hand side to the right-hand side, `xargs` captures the pipe-in and appends it to `andes plot`. \n",
    "\n",
    "The command is equivalent to manually running"
   ]
  },
  {
   "cell_type": "code",
   "execution_count": 9,
   "metadata": {},
   "outputs": [
    {
     "name": "stdout",
     "output_type": "stream",
     "text": [
      "Using LaTeX for rendering.\n",
      "If the rendering takes too long or an error occurs:\n",
      "a) If you are using `andes plot`, disable with optino \"-d\",\n",
      "b) If you are using `plot()`, set \"latex=False\".\n",
      "Figure(640x480)\n"
     ]
    }
   ],
   "source": [
    "!andes plot kundur_full_out.lst 0 2 8 14 20"
   ]
  },
  {
   "cell_type": "markdown",
   "metadata": {},
   "source": [
    "## Cleanup"
   ]
  },
  {
   "cell_type": "markdown",
   "metadata": {},
   "source": [
    "Remove the saved `png` image files."
   ]
  },
  {
   "cell_type": "code",
   "execution_count": 10,
   "metadata": {},
   "outputs": [
    {
     "name": "stdout",
     "output_type": "stream",
     "text": [
      "kundur_full_out_1.png\r\n"
     ]
    }
   ],
   "source": [
    "!rm -v *.png"
   ]
  },
  {
   "cell_type": "code",
   "execution_count": 11,
   "metadata": {},
   "outputs": [
    {
     "name": "stdout",
     "output_type": "stream",
     "text": [
      "ANDES 0.8.3 (Git commit id 1137236a, Python 3.7.1 on Darwin)\r\n",
      "Session: hcui7, 04/02/2020 06:28:48 PM\r\n",
      "This program comes with ABSOLUTELY NO WARRANTY.\r\n",
      "\r\n",
      "<kundur_full_out.txt> removed.\r\n",
      "<kundur_full_out.npy> removed.\r\n",
      "<kundur_full_out.lst> removed.\r\n"
     ]
    }
   ],
   "source": [
    "!andes misc -C"
   ]
  }
 ],
 "metadata": {
  "kernelspec": {
   "display_name": "Python 3",
   "language": "python",
   "name": "python3"
  },
  "language_info": {
   "codemirror_mode": {
    "name": "ipython",
    "version": 3
   },
   "file_extension": ".py",
   "mimetype": "text/x-python",
   "name": "python",
   "nbconvert_exporter": "python",
   "pygments_lexer": "ipython3",
   "version": "3.7.1"
  },
  "pycharm": {
   "stem_cell": {
    "cell_type": "raw",
    "metadata": {
     "collapsed": false
    },
    "source": []
   }
  }
 },
 "nbformat": 4,
 "nbformat_minor": 4
}
