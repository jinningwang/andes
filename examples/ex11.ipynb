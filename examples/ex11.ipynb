{
 "cells": [
  {
   "cell_type": "markdown",
   "metadata": {},
   "source": [
    "# ANDES interface with pandapower"
   ]
  },
  {
   "cell_type": "markdown",
   "metadata": {},
   "source": [
    "This example (1) shows how to convert an ANDES system (ssa) to a pandapower network (ssp) (2) benchmarks the powerflow results."
   ]
  },
  {
   "cell_type": "code",
   "execution_count": 1,
   "metadata": {},
   "outputs": [],
   "source": [
    "import andes\n",
    "from andes.utils.paths import get_case\n",
    "from andes.io.pandapower import to_pandapower\n",
    "andes.config_logger(stream_level=20)\n",
    "\n",
    "import pandapower as pp\n",
    "import numpy as np\n",
    "import pandas as pd\n",
    "\n",
    "from math import pi"
   ]
  },
  {
   "cell_type": "markdown",
   "metadata": {},
   "source": [
    "## Load case"
   ]
  },
  {
   "cell_type": "code",
   "execution_count": 2,
   "metadata": {
    "scrolled": true
   },
   "outputs": [
    {
     "name": "stderr",
     "output_type": "stream",
     "text": [
      "Working directory: \"/Users/jinningwang/Documents/work/andes/examples\"\n",
      "Loaded generated Python code in \"/Users/jinningwang/.andes/pycode\".\n",
      "Parsing input file \"/Users/jinningwang/Documents/work/andes/andes/cases/ieee14/ieee14_ieeet1.xlsx\"...\n",
      "Input file parsed in 0.1511 seconds.\n",
      "System internal structure set up in 0.0377 seconds.\n"
     ]
    },
    {
     "data": {
      "text/plain": [
       "True"
      ]
     },
     "execution_count": 2,
     "metadata": {},
     "output_type": "execute_result"
    }
   ],
   "source": [
    "ssa = andes.load(get_case('ieee14/ieee14_ieeet1.xlsx'),\n",
    "                 setup=False,\n",
    "                 no_output=True,\n",
    "                 default_config=True)\n",
    "ssa.setup()"
   ]
  },
  {
   "cell_type": "code",
   "execution_count": 3,
   "metadata": {},
   "outputs": [
    {
     "name": "stderr",
     "output_type": "stream",
     "text": [
      "-> System connectivity check results:\n",
      "  No islanded bus detected.\n",
      "  A total of 1 island(s) detected.\n",
      "  Each island has a slack bus correctly defined and enabled.\n",
      "\n",
      "-> Power flow calculation\n",
      "   Sparse solver: KLU\n",
      " Solution method: NR method\n",
      "Power flow initialized in 0.0038 seconds.\n",
      "0: |F(x)| = 0.5605182134\n",
      "1: |F(x)| = 0.006202200332\n",
      "2: |F(x)| = 5.819382825e-06\n",
      "3: |F(x)| = 6.967745825e-12\n",
      "Converged in 4 iterations in 0.0066 seconds.\n"
     ]
    },
    {
     "data": {
      "text/plain": [
       "True"
      ]
     },
     "execution_count": 3,
     "metadata": {},
     "output_type": "execute_result"
    }
   ],
   "source": [
    "ssa.PFlow.run()"
   ]
  },
  {
   "cell_type": "markdown",
   "metadata": {},
   "source": [
    "## Convert to ssp"
   ]
  },
  {
   "cell_type": "code",
   "execution_count": 4,
   "metadata": {},
   "outputs": [],
   "source": [
    "ssp = to_pandapower(ssa)"
   ]
  },
  {
   "cell_type": "code",
   "execution_count": 5,
   "metadata": {},
   "outputs": [
    {
     "data": {
      "text/plain": [
       "This pandapower network includes the following parameter tables:\n",
       "   - bus (14 elements)\n",
       "   - load (11 elements)\n",
       "   - gen (5 elements)\n",
       "   - shunt (2 elements)\n",
       "   - line (16 elements)\n",
       "   - trafo (4 elements)"
      ]
     },
     "execution_count": 5,
     "metadata": {},
     "output_type": "execute_result"
    }
   ],
   "source": [
    "ssp"
   ]
  },
  {
   "cell_type": "markdown",
   "metadata": {},
   "source": [
    "## Comapre Power Flow"
   ]
  },
  {
   "cell_type": "code",
   "execution_count": 6,
   "metadata": {},
   "outputs": [],
   "source": [
    "# ssa\n",
    "ssa_res_gen = pd.DataFrame(columns=['name', 'p_mw', 'q_mvar', 'va_degree', 'vm_pu'])\n",
    "ssa_res_gen['name'] = ssa.PV.as_df()['name']\n",
    "ssa_res_gen['p_mw'] = ssa.PV.p.v * ssa.config.mva\n",
    "ssa_res_gen['q_mvar'] = ssa.PV.q.v * ssa.config.mva\n",
    "ssa_res_gen['va_degree'] = ssa.PV.a.v * 180 / pi\n",
    "ssa_res_gen['vm_pu'] = ssa.PV.v.v\n",
    "ssa_res_slack = pd.DataFrame([[ssa.Slack.name.v[0], ssa.Slack.p.v[0] * ssa.config.mva,\n",
    "                              ssa.Slack.q.v[0] * ssa.config.mva, ssa.Slack.a.v[0] * 180 / pi,\n",
    "                              ssa.Slack.v.v[0]]],\n",
    "                             columns=ssa_res_gen.columns,\n",
    "                             )\n",
    "ssa_res_gen = pd.concat([ssa_res_gen, ssa_res_slack]).reset_index(drop=True)\n",
    "\n",
    "# ssp\n",
    "pp.runpp(ssp)\n",
    "ssp_res_gen = pd.concat([ssp.gen['name'], ssp.res_gen], axis=1)\n",
    "\n",
    "pf_gen = pd.concat([ssa_res_gen, ssp_res_gen], axis=1)\n",
    "\n",
    "pf_bus = ssa.Bus.as_df()[[\"name\"]].copy()\n",
    "# ssa\n",
    "pf_bus['v_ad'] = ssa.Bus.v.v\n",
    "pf_bus['a_ad'] = ssa.Bus.a.v * 180 / pi\n",
    "\n",
    "# ssp\n",
    "pf_bus['v_pp'] = ssp.res_bus['vm_pu']\n",
    "pf_bus['a_pp'] = ssp.res_bus['va_degree']"
   ]
  },
  {
   "cell_type": "markdown",
   "metadata": {},
   "source": [
    "## Generation"
   ]
  },
  {
   "cell_type": "code",
   "execution_count": 7,
   "metadata": {},
   "outputs": [
    {
     "data": {
      "text/html": [
       "<div>\n",
       "<style scoped>\n",
       "    .dataframe tbody tr th:only-of-type {\n",
       "        vertical-align: middle;\n",
       "    }\n",
       "\n",
       "    .dataframe tbody tr th {\n",
       "        vertical-align: top;\n",
       "    }\n",
       "\n",
       "    .dataframe thead th {\n",
       "        text-align: right;\n",
       "    }\n",
       "</style>\n",
       "<table border=\"1\" class=\"dataframe\">\n",
       "  <thead>\n",
       "    <tr style=\"text-align: right;\">\n",
       "      <th></th>\n",
       "      <th>name</th>\n",
       "      <th>p_mw</th>\n",
       "      <th>q_mvar</th>\n",
       "      <th>va_degree</th>\n",
       "      <th>vm_pu</th>\n",
       "      <th>name</th>\n",
       "      <th>p_mw</th>\n",
       "      <th>q_mvar</th>\n",
       "      <th>va_degree</th>\n",
       "      <th>vm_pu</th>\n",
       "    </tr>\n",
       "  </thead>\n",
       "  <tbody>\n",
       "    <tr>\n",
       "      <th>0</th>\n",
       "      <td>2</td>\n",
       "      <td>40.0000</td>\n",
       "      <td>30.4361</td>\n",
       "      <td>-1.7641</td>\n",
       "      <td>1.03</td>\n",
       "      <td>2</td>\n",
       "      <td>40.0000</td>\n",
       "      <td>30.4361</td>\n",
       "      <td>-1.7641</td>\n",
       "      <td>1.03</td>\n",
       "    </tr>\n",
       "    <tr>\n",
       "      <th>1</th>\n",
       "      <td>3</td>\n",
       "      <td>40.0000</td>\n",
       "      <td>12.5971</td>\n",
       "      <td>-3.5371</td>\n",
       "      <td>1.01</td>\n",
       "      <td>3</td>\n",
       "      <td>40.0000</td>\n",
       "      <td>12.5971</td>\n",
       "      <td>-3.5371</td>\n",
       "      <td>1.01</td>\n",
       "    </tr>\n",
       "    <tr>\n",
       "      <th>2</th>\n",
       "      <td>4</td>\n",
       "      <td>30.0000</td>\n",
       "      <td>20.9866</td>\n",
       "      <td>-6.4527</td>\n",
       "      <td>1.03</td>\n",
       "      <td>4</td>\n",
       "      <td>30.0000</td>\n",
       "      <td>20.9866</td>\n",
       "      <td>-6.4527</td>\n",
       "      <td>1.03</td>\n",
       "    </tr>\n",
       "    <tr>\n",
       "      <th>3</th>\n",
       "      <td>5</td>\n",
       "      <td>35.0000</td>\n",
       "      <td>7.3964</td>\n",
       "      <td>-1.5400</td>\n",
       "      <td>1.03</td>\n",
       "      <td>5</td>\n",
       "      <td>35.0000</td>\n",
       "      <td>7.3964</td>\n",
       "      <td>-1.5400</td>\n",
       "      <td>1.03</td>\n",
       "    </tr>\n",
       "    <tr>\n",
       "      <th>4</th>\n",
       "      <td>1</td>\n",
       "      <td>81.4272</td>\n",
       "      <td>-21.6171</td>\n",
       "      <td>0.0000</td>\n",
       "      <td>1.03</td>\n",
       "      <td>1</td>\n",
       "      <td>81.4272</td>\n",
       "      <td>-21.6171</td>\n",
       "      <td>0.0000</td>\n",
       "      <td>1.03</td>\n",
       "    </tr>\n",
       "  </tbody>\n",
       "</table>\n",
       "</div>"
      ],
      "text/plain": [
       "  name     p_mw   q_mvar  va_degree  vm_pu name     p_mw   q_mvar  va_degree  \\\n",
       "0    2  40.0000  30.4361    -1.7641   1.03    2  40.0000  30.4361    -1.7641   \n",
       "1    3  40.0000  12.5971    -3.5371   1.01    3  40.0000  12.5971    -3.5371   \n",
       "2    4  30.0000  20.9866    -6.4527   1.03    4  30.0000  20.9866    -6.4527   \n",
       "3    5  35.0000   7.3964    -1.5400   1.03    5  35.0000   7.3964    -1.5400   \n",
       "4    1  81.4272 -21.6171     0.0000   1.03    1  81.4272 -21.6171     0.0000   \n",
       "\n",
       "   vm_pu  \n",
       "0   1.03  \n",
       "1   1.01  \n",
       "2   1.03  \n",
       "3   1.03  \n",
       "4   1.03  "
      ]
     },
     "execution_count": 7,
     "metadata": {},
     "output_type": "execute_result"
    }
   ],
   "source": [
    "pf_gen.round(4)"
   ]
  },
  {
   "cell_type": "markdown",
   "metadata": {},
   "source": [
    "## Bus voltage and angle"
   ]
  },
  {
   "cell_type": "code",
   "execution_count": 8,
   "metadata": {},
   "outputs": [
    {
     "data": {
      "text/html": [
       "<div>\n",
       "<style scoped>\n",
       "    .dataframe tbody tr th:only-of-type {\n",
       "        vertical-align: middle;\n",
       "    }\n",
       "\n",
       "    .dataframe tbody tr th {\n",
       "        vertical-align: top;\n",
       "    }\n",
       "\n",
       "    .dataframe thead th {\n",
       "        text-align: right;\n",
       "    }\n",
       "</style>\n",
       "<table border=\"1\" class=\"dataframe\">\n",
       "  <thead>\n",
       "    <tr style=\"text-align: right;\">\n",
       "      <th></th>\n",
       "      <th>name</th>\n",
       "      <th>v_ad</th>\n",
       "      <th>a_ad</th>\n",
       "      <th>v_pp</th>\n",
       "      <th>a_pp</th>\n",
       "    </tr>\n",
       "    <tr>\n",
       "      <th>uid</th>\n",
       "      <th></th>\n",
       "      <th></th>\n",
       "      <th></th>\n",
       "      <th></th>\n",
       "      <th></th>\n",
       "    </tr>\n",
       "  </thead>\n",
       "  <tbody>\n",
       "    <tr>\n",
       "      <th>0</th>\n",
       "      <td>BUS1</td>\n",
       "      <td>1.0300</td>\n",
       "      <td>0.0000</td>\n",
       "      <td>1.0300</td>\n",
       "      <td>0.0000</td>\n",
       "    </tr>\n",
       "    <tr>\n",
       "      <th>1</th>\n",
       "      <td>BUS2</td>\n",
       "      <td>1.0300</td>\n",
       "      <td>-1.7641</td>\n",
       "      <td>1.0300</td>\n",
       "      <td>-1.7641</td>\n",
       "    </tr>\n",
       "    <tr>\n",
       "      <th>2</th>\n",
       "      <td>BUS3</td>\n",
       "      <td>1.0100</td>\n",
       "      <td>-3.5371</td>\n",
       "      <td>1.0100</td>\n",
       "      <td>-3.5371</td>\n",
       "    </tr>\n",
       "    <tr>\n",
       "      <th>3</th>\n",
       "      <td>BUS4</td>\n",
       "      <td>1.0114</td>\n",
       "      <td>-4.4098</td>\n",
       "      <td>1.0114</td>\n",
       "      <td>-4.4098</td>\n",
       "    </tr>\n",
       "    <tr>\n",
       "      <th>4</th>\n",
       "      <td>BUS5</td>\n",
       "      <td>1.0173</td>\n",
       "      <td>-3.8430</td>\n",
       "      <td>1.0173</td>\n",
       "      <td>-3.8430</td>\n",
       "    </tr>\n",
       "    <tr>\n",
       "      <th>5</th>\n",
       "      <td>BUS6</td>\n",
       "      <td>1.0300</td>\n",
       "      <td>-6.4527</td>\n",
       "      <td>1.0300</td>\n",
       "      <td>-6.4527</td>\n",
       "    </tr>\n",
       "    <tr>\n",
       "      <th>6</th>\n",
       "      <td>BUS7</td>\n",
       "      <td>1.0225</td>\n",
       "      <td>-4.8852</td>\n",
       "      <td>1.0225</td>\n",
       "      <td>-4.8852</td>\n",
       "    </tr>\n",
       "    <tr>\n",
       "      <th>7</th>\n",
       "      <td>BUS8</td>\n",
       "      <td>1.0300</td>\n",
       "      <td>-1.5400</td>\n",
       "      <td>1.0300</td>\n",
       "      <td>-1.5400</td>\n",
       "    </tr>\n",
       "    <tr>\n",
       "      <th>8</th>\n",
       "      <td>BUS9</td>\n",
       "      <td>1.0218</td>\n",
       "      <td>-7.2459</td>\n",
       "      <td>1.0218</td>\n",
       "      <td>-7.2459</td>\n",
       "    </tr>\n",
       "    <tr>\n",
       "      <th>9</th>\n",
       "      <td>BUS10</td>\n",
       "      <td>1.0155</td>\n",
       "      <td>-7.4155</td>\n",
       "      <td>1.0155</td>\n",
       "      <td>-7.4155</td>\n",
       "    </tr>\n",
       "    <tr>\n",
       "      <th>10</th>\n",
       "      <td>BUS11</td>\n",
       "      <td>1.0191</td>\n",
       "      <td>-7.0797</td>\n",
       "      <td>1.0191</td>\n",
       "      <td>-7.0797</td>\n",
       "    </tr>\n",
       "    <tr>\n",
       "      <th>11</th>\n",
       "      <td>BUS12</td>\n",
       "      <td>1.0174</td>\n",
       "      <td>-7.4730</td>\n",
       "      <td>1.0174</td>\n",
       "      <td>-7.4730</td>\n",
       "    </tr>\n",
       "    <tr>\n",
       "      <th>12</th>\n",
       "      <td>BUS13</td>\n",
       "      <td>1.0145</td>\n",
       "      <td>-7.7208</td>\n",
       "      <td>1.0145</td>\n",
       "      <td>-7.7208</td>\n",
       "    </tr>\n",
       "    <tr>\n",
       "      <th>13</th>\n",
       "      <td>BUS14</td>\n",
       "      <td>1.0163</td>\n",
       "      <td>-9.4811</td>\n",
       "      <td>1.0163</td>\n",
       "      <td>-9.4811</td>\n",
       "    </tr>\n",
       "  </tbody>\n",
       "</table>\n",
       "</div>"
      ],
      "text/plain": [
       "      name    v_ad    a_ad    v_pp    a_pp\n",
       "uid                                       \n",
       "0     BUS1  1.0300  0.0000  1.0300  0.0000\n",
       "1     BUS2  1.0300 -1.7641  1.0300 -1.7641\n",
       "2     BUS3  1.0100 -3.5371  1.0100 -3.5371\n",
       "3     BUS4  1.0114 -4.4098  1.0114 -4.4098\n",
       "4     BUS5  1.0173 -3.8430  1.0173 -3.8430\n",
       "5     BUS6  1.0300 -6.4527  1.0300 -6.4527\n",
       "6     BUS7  1.0225 -4.8852  1.0225 -4.8852\n",
       "7     BUS8  1.0300 -1.5400  1.0300 -1.5400\n",
       "8     BUS9  1.0218 -7.2459  1.0218 -7.2459\n",
       "9    BUS10  1.0155 -7.4155  1.0155 -7.4155\n",
       "10   BUS11  1.0191 -7.0797  1.0191 -7.0797\n",
       "11   BUS12  1.0174 -7.4730  1.0174 -7.4730\n",
       "12   BUS13  1.0145 -7.7208  1.0145 -7.7208\n",
       "13   BUS14  1.0163 -9.4811  1.0163 -9.4811"
      ]
     },
     "execution_count": 8,
     "metadata": {},
     "output_type": "execute_result"
    }
   ],
   "source": [
    "pf_bus.round(4)"
   ]
  }
 ],
 "metadata": {
  "interpreter": {
   "hash": "b1e368b1d2ca574a59ba26b0fa9d68a1b1a89bb0ecca26237e963f08092745f3"
  },
  "kernelspec": {
   "display_name": "Python 3.7.12 ('pp')",
   "language": "python",
   "name": "python3712jvsc74a57bd0b1e368b1d2ca574a59ba26b0fa9d68a1b1a89bb0ecca26237e963f08092745f3"
  },
  "language_info": {
   "codemirror_mode": {
    "name": "ipython",
    "version": 3
   },
   "file_extension": ".py",
   "mimetype": "text/x-python",
   "name": "python",
   "nbconvert_exporter": "python",
   "pygments_lexer": "ipython3",
   "version": "3.7.12"
  }
 },
 "nbformat": 4,
 "nbformat_minor": 2
}
