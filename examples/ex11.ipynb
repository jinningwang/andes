{
 "cells": [
  {
   "cell_type": "markdown",
   "metadata": {},
   "source": [
    "# ANDES interface with pandapower"
   ]
  },
  {
   "cell_type": "markdown",
   "metadata": {},
   "source": [
    "This example (1) shows how to convert an ANDES system (`ssa`) to a pandapower network (`ssp`), (2) benchmarks the powerflow results, (3) shows how to alter `ssa` active power setpoints according to `ssp` results."
   ]
  },
  {
   "cell_type": "code",
   "execution_count": 68,
   "metadata": {},
   "outputs": [],
   "source": [
    "import andes\n",
    "from andes.utils.paths import get_case\n",
    "from andes.io.pandapower import to_pandapower, ssa_link, opp_res, ssp_cost\n",
    "andes.config_logger(stream_level=20)\n",
    "\n",
    "import pandapower as pp\n",
    "import numpy as np\n",
    "import pandas as pd\n",
    "\n",
    "from math import pi"
   ]
  },
  {
   "cell_type": "markdown",
   "metadata": {},
   "source": [
    "## Load case"
   ]
  },
  {
   "cell_type": "markdown",
   "metadata": {},
   "source": [
    "Here we use the same ANDES system `ss0` to do the pandapower conversion, which leaves the `ssa` untouched.\n",
    "\n",
    "This will be useful if you need to modify the `ssa` parametes or setpoints."
   ]
  },
  {
   "cell_type": "code",
   "execution_count": 69,
   "metadata": {
    "scrolled": true
   },
   "outputs": [
    {
     "name": "stderr",
     "output_type": "stream",
     "text": [
      "Working directory: \"/Users/jinningwang/Documents/work/andes/examples\"\n",
      "Reloaded generated Python code of module \"pycode\".\n",
      "Parsing input file \"/Users/jinningwang/Documents/work/andes/andes/cases/ieee14/ieee14_ieeet1.xlsx\"...\n",
      "Input file parsed in 0.1018 seconds.\n",
      "System internal structure set up in 0.0584 seconds.\n",
      "Working directory: \"/Users/jinningwang/Documents/work/andes/examples\"\n",
      "Reloaded generated Python code of module \"pycode\".\n",
      "Parsing input file \"/Users/jinningwang/Documents/work/andes/andes/cases/ieee14/ieee14_ieeet1.xlsx\"...\n",
      "Input file parsed in 0.0936 seconds.\n",
      "System internal structure set up in 0.0575 seconds.\n"
     ]
    },
    {
     "data": {
      "text/plain": [
       "True"
      ]
     },
     "execution_count": 69,
     "metadata": {},
     "output_type": "execute_result"
    }
   ],
   "source": [
    "ssa = andes.load(get_case('ieee14/ieee14_ieeet1.xlsx'),\n",
    "                 setup=False,\n",
    "                 no_output=True,\n",
    "                 default_config=True)\n",
    "ssa.Toggler.u.v = [0, 0]\n",
    "ssa.setup()\n",
    "\n",
    "ss0 = andes.load(get_case('ieee14/ieee14_ieeet1.xlsx'),\n",
    "                 setup=False,\n",
    "                 no_output=True,\n",
    "                 default_config=True)\n",
    "ss0.Toggler.u.v = [0, 0]\n",
    "ss0.setup()"
   ]
  },
  {
   "cell_type": "markdown",
   "metadata": {},
   "source": [
    "## Convert to pandapower net"
   ]
  },
  {
   "cell_type": "markdown",
   "metadata": {},
   "source": [
    "Convert ADNES system `ssa` to pandapower net `ssp`."
   ]
  },
  {
   "cell_type": "code",
   "execution_count": 70,
   "metadata": {},
   "outputs": [
    {
     "name": "stderr",
     "output_type": "stream",
     "text": [
      "System has been setup. Calling setup twice is not allowed.\n",
      "-> System connectivity check results:\n",
      "  No islanded bus detected.\n",
      "  A total of 1 island(s) detected.\n",
      "  Each island has a slack bus correctly defined and enabled.\n",
      "\n",
      "-> Power flow calculation\n",
      "   Sparse solver: KLU\n",
      " Solution method: NR method\n",
      "Power flow initialized in 0.0080 seconds.\n",
      "0: |F(x)| = 0.5605182134\n",
      "1: |F(x)| = 0.006202200332\n",
      "2: |F(x)| = 5.819382825e-06\n",
      "3: |F(x)| = 6.967745825e-12\n",
      "Converged in 4 iterations in 0.0176 seconds.\n"
     ]
    },
    {
     "name": "stdout",
     "output_type": "stream",
     "text": [
      "Power flow are consistent, conversion is successful.\n"
     ]
    }
   ],
   "source": [
    "ssp = to_pandapower(ss0)"
   ]
  },
  {
   "cell_type": "markdown",
   "metadata": {},
   "source": [
    "Add generator cost data."
   ]
  },
  {
   "cell_type": "code",
   "execution_count": 71,
   "metadata": {},
   "outputs": [
    {
     "data": {
      "text/plain": [
       "True"
      ]
     },
     "execution_count": 71,
     "metadata": {},
     "output_type": "execute_result"
    }
   ],
   "source": [
    "gen_cost = np.array([\n",
    "        [2, 0, 0, 3, 0.0430293, 20, 0], \n",
    "        [2, 0, 0, 3, 0.25,      20, 0], \n",
    "        [2, 0, 0, 3, 0.01,      40, 0], \n",
    "        [2, 0, 0, 3, 0.01,      40, 0], \n",
    "        [2, 0, 0, 3, 0.01,      40, 0]\n",
    "])\n",
    "\n",
    "ssp_cost(ssp, gen_cost)"
   ]
  },
  {
   "cell_type": "markdown",
   "metadata": {},
   "source": [
    "Inspect the pandapower net `ssp`."
   ]
  },
  {
   "cell_type": "code",
   "execution_count": 72,
   "metadata": {},
   "outputs": [
    {
     "data": {
      "text/plain": [
       "This pandapower network includes the following parameter tables:\n",
       "   - bus (14 elements)\n",
       "   - load (11 elements)\n",
       "   - gen (5 elements)\n",
       "   - shunt (2 elements)\n",
       "   - line (16 elements)\n",
       "   - trafo (4 elements)\n",
       "   - poly_cost (5 elements)\n",
       " and the following results tables:\n",
       "   - res_bus (14 elements)\n",
       "   - res_line (16 elements)\n",
       "   - res_trafo (4 elements)\n",
       "   - res_load (11 elements)\n",
       "   - res_shunt (2 elements)\n",
       "   - res_gen (5 elements)"
      ]
     },
     "execution_count": 72,
     "metadata": {},
     "output_type": "execute_result"
    }
   ],
   "source": [
    "ssp"
   ]
  },
  {
   "cell_type": "markdown",
   "metadata": {},
   "source": [
    "## Comapre Power Flow"
   ]
  },
  {
   "cell_type": "markdown",
   "metadata": {},
   "source": [
    "Run power flow of `ssa`."
   ]
  },
  {
   "cell_type": "code",
   "execution_count": 73,
   "metadata": {},
   "outputs": [
    {
     "name": "stderr",
     "output_type": "stream",
     "text": [
      "-> System connectivity check results:\n",
      "  No islanded bus detected.\n",
      "  A total of 1 island(s) detected.\n",
      "  Each island has a slack bus correctly defined and enabled.\n",
      "\n",
      "-> Power flow calculation\n",
      "   Sparse solver: KLU\n",
      " Solution method: NR method\n",
      "Power flow initialized in 0.0059 seconds.\n",
      "0: |F(x)| = 0.5605182134\n",
      "1: |F(x)| = 0.006202200332\n",
      "2: |F(x)| = 5.819382825e-06\n",
      "3: |F(x)| = 6.967745825e-12\n",
      "Converged in 4 iterations in 0.0096 seconds.\n"
     ]
    },
    {
     "data": {
      "text/plain": [
       "True"
      ]
     },
     "execution_count": 73,
     "metadata": {},
     "output_type": "execute_result"
    }
   ],
   "source": [
    "ssa.PFlow.run()"
   ]
  },
  {
   "cell_type": "code",
   "execution_count": 74,
   "metadata": {},
   "outputs": [],
   "source": [
    "# ssa\n",
    "ssa_res_gen = pd.DataFrame(columns=['name', 'p_mw', 'q_mvar', 'va_degree', 'vm_pu'])\n",
    "ssa_res_gen['name'] = ssa.PV.as_df()['name']\n",
    "ssa_res_gen['p_mw'] = ssa.PV.p.v * ssa.config.mva\n",
    "ssa_res_gen['q_mvar'] = ssa.PV.q.v * ssa.config.mva\n",
    "ssa_res_gen['va_degree'] = ssa.PV.a.v * 180 / pi\n",
    "ssa_res_gen['vm_pu'] = ssa.PV.v.v\n",
    "ssa_res_slack = pd.DataFrame([[ssa.Slack.name.v[0], ssa.Slack.p.v[0] * ssa.config.mva,\n",
    "                              ssa.Slack.q.v[0] * ssa.config.mva, ssa.Slack.a.v[0] * 180 / pi,\n",
    "                              ssa.Slack.v.v[0]]],\n",
    "                             columns=ssa_res_gen.columns,\n",
    "                             )\n",
    "ssa_res_gen = pd.concat([ssa_res_gen, ssa_res_slack]).reset_index(drop=True)\n",
    "\n",
    "# ssp\n",
    "pp.runpp(ssp)\n",
    "ssp_res_gen = pd.concat([ssp.gen['name'], ssp.res_gen], axis=1)\n",
    "\n",
    "pf_gen = pd.concat([ssa_res_gen, ssp_res_gen], axis=1)\n",
    "\n",
    "pf_bus = ssa.Bus.as_df()[[\"name\"]].copy()\n",
    "# ssa\n",
    "pf_bus['v_ad'] = ssa.Bus.v.v\n",
    "pf_bus['a_ad'] = ssa.Bus.a.v * 180 / pi\n",
    "\n",
    "# ssp\n",
    "pf_bus['v_pp'] = ssp.res_bus['vm_pu']\n",
    "pf_bus['a_pp'] = ssp.res_bus['va_degree']"
   ]
  },
  {
   "cell_type": "markdown",
   "metadata": {},
   "source": [
    "### Generation"
   ]
  },
  {
   "cell_type": "code",
   "execution_count": 75,
   "metadata": {},
   "outputs": [
    {
     "data": {
      "text/html": [
       "<div>\n",
       "<style scoped>\n",
       "    .dataframe tbody tr th:only-of-type {\n",
       "        vertical-align: middle;\n",
       "    }\n",
       "\n",
       "    .dataframe tbody tr th {\n",
       "        vertical-align: top;\n",
       "    }\n",
       "\n",
       "    .dataframe thead th {\n",
       "        text-align: right;\n",
       "    }\n",
       "</style>\n",
       "<table border=\"1\" class=\"dataframe\">\n",
       "  <thead>\n",
       "    <tr style=\"text-align: right;\">\n",
       "      <th></th>\n",
       "      <th>name</th>\n",
       "      <th>p_mw</th>\n",
       "      <th>q_mvar</th>\n",
       "      <th>va_degree</th>\n",
       "      <th>vm_pu</th>\n",
       "      <th>name</th>\n",
       "      <th>p_mw</th>\n",
       "      <th>q_mvar</th>\n",
       "      <th>va_degree</th>\n",
       "      <th>vm_pu</th>\n",
       "    </tr>\n",
       "  </thead>\n",
       "  <tbody>\n",
       "    <tr>\n",
       "      <th>0</th>\n",
       "      <td>2</td>\n",
       "      <td>40.0000</td>\n",
       "      <td>30.4361</td>\n",
       "      <td>-1.7641</td>\n",
       "      <td>1.03</td>\n",
       "      <td>2</td>\n",
       "      <td>40.0000</td>\n",
       "      <td>30.4361</td>\n",
       "      <td>-1.7641</td>\n",
       "      <td>1.03</td>\n",
       "    </tr>\n",
       "    <tr>\n",
       "      <th>1</th>\n",
       "      <td>3</td>\n",
       "      <td>40.0000</td>\n",
       "      <td>12.5971</td>\n",
       "      <td>-3.5371</td>\n",
       "      <td>1.01</td>\n",
       "      <td>3</td>\n",
       "      <td>40.0000</td>\n",
       "      <td>12.5971</td>\n",
       "      <td>-3.5371</td>\n",
       "      <td>1.01</td>\n",
       "    </tr>\n",
       "    <tr>\n",
       "      <th>2</th>\n",
       "      <td>4</td>\n",
       "      <td>30.0000</td>\n",
       "      <td>20.9866</td>\n",
       "      <td>-6.4527</td>\n",
       "      <td>1.03</td>\n",
       "      <td>4</td>\n",
       "      <td>30.0000</td>\n",
       "      <td>20.9866</td>\n",
       "      <td>-6.4527</td>\n",
       "      <td>1.03</td>\n",
       "    </tr>\n",
       "    <tr>\n",
       "      <th>3</th>\n",
       "      <td>5</td>\n",
       "      <td>35.0000</td>\n",
       "      <td>7.3964</td>\n",
       "      <td>-1.5400</td>\n",
       "      <td>1.03</td>\n",
       "      <td>5</td>\n",
       "      <td>35.0000</td>\n",
       "      <td>7.3964</td>\n",
       "      <td>-1.5400</td>\n",
       "      <td>1.03</td>\n",
       "    </tr>\n",
       "    <tr>\n",
       "      <th>4</th>\n",
       "      <td>1</td>\n",
       "      <td>81.4272</td>\n",
       "      <td>-21.6171</td>\n",
       "      <td>0.0000</td>\n",
       "      <td>1.03</td>\n",
       "      <td>1</td>\n",
       "      <td>81.4272</td>\n",
       "      <td>-21.6171</td>\n",
       "      <td>0.0000</td>\n",
       "      <td>1.03</td>\n",
       "    </tr>\n",
       "  </tbody>\n",
       "</table>\n",
       "</div>"
      ],
      "text/plain": [
       "  name     p_mw   q_mvar  va_degree  vm_pu name     p_mw   q_mvar  va_degree  \\\n",
       "0    2  40.0000  30.4361    -1.7641   1.03    2  40.0000  30.4361    -1.7641   \n",
       "1    3  40.0000  12.5971    -3.5371   1.01    3  40.0000  12.5971    -3.5371   \n",
       "2    4  30.0000  20.9866    -6.4527   1.03    4  30.0000  20.9866    -6.4527   \n",
       "3    5  35.0000   7.3964    -1.5400   1.03    5  35.0000   7.3964    -1.5400   \n",
       "4    1  81.4272 -21.6171     0.0000   1.03    1  81.4272 -21.6171     0.0000   \n",
       "\n",
       "   vm_pu  \n",
       "0   1.03  \n",
       "1   1.01  \n",
       "2   1.03  \n",
       "3   1.03  \n",
       "4   1.03  "
      ]
     },
     "execution_count": 75,
     "metadata": {},
     "output_type": "execute_result"
    }
   ],
   "source": [
    "pf_gen.round(4)"
   ]
  },
  {
   "cell_type": "markdown",
   "metadata": {},
   "source": [
    "### Bus voltage and angle"
   ]
  },
  {
   "cell_type": "code",
   "execution_count": 76,
   "metadata": {},
   "outputs": [
    {
     "data": {
      "text/html": [
       "<div>\n",
       "<style scoped>\n",
       "    .dataframe tbody tr th:only-of-type {\n",
       "        vertical-align: middle;\n",
       "    }\n",
       "\n",
       "    .dataframe tbody tr th {\n",
       "        vertical-align: top;\n",
       "    }\n",
       "\n",
       "    .dataframe thead th {\n",
       "        text-align: right;\n",
       "    }\n",
       "</style>\n",
       "<table border=\"1\" class=\"dataframe\">\n",
       "  <thead>\n",
       "    <tr style=\"text-align: right;\">\n",
       "      <th></th>\n",
       "      <th>name</th>\n",
       "      <th>v_ad</th>\n",
       "      <th>a_ad</th>\n",
       "      <th>v_pp</th>\n",
       "      <th>a_pp</th>\n",
       "    </tr>\n",
       "    <tr>\n",
       "      <th>uid</th>\n",
       "      <th></th>\n",
       "      <th></th>\n",
       "      <th></th>\n",
       "      <th></th>\n",
       "      <th></th>\n",
       "    </tr>\n",
       "  </thead>\n",
       "  <tbody>\n",
       "    <tr>\n",
       "      <th>0</th>\n",
       "      <td>BUS1</td>\n",
       "      <td>1.0300</td>\n",
       "      <td>0.0000</td>\n",
       "      <td>1.0300</td>\n",
       "      <td>0.0000</td>\n",
       "    </tr>\n",
       "    <tr>\n",
       "      <th>1</th>\n",
       "      <td>BUS2</td>\n",
       "      <td>1.0300</td>\n",
       "      <td>-1.7641</td>\n",
       "      <td>1.0300</td>\n",
       "      <td>-1.7641</td>\n",
       "    </tr>\n",
       "    <tr>\n",
       "      <th>2</th>\n",
       "      <td>BUS3</td>\n",
       "      <td>1.0100</td>\n",
       "      <td>-3.5371</td>\n",
       "      <td>1.0100</td>\n",
       "      <td>-3.5371</td>\n",
       "    </tr>\n",
       "    <tr>\n",
       "      <th>3</th>\n",
       "      <td>BUS4</td>\n",
       "      <td>1.0114</td>\n",
       "      <td>-4.4098</td>\n",
       "      <td>1.0114</td>\n",
       "      <td>-4.4098</td>\n",
       "    </tr>\n",
       "    <tr>\n",
       "      <th>4</th>\n",
       "      <td>BUS5</td>\n",
       "      <td>1.0173</td>\n",
       "      <td>-3.8430</td>\n",
       "      <td>1.0173</td>\n",
       "      <td>-3.8430</td>\n",
       "    </tr>\n",
       "    <tr>\n",
       "      <th>5</th>\n",
       "      <td>BUS6</td>\n",
       "      <td>1.0300</td>\n",
       "      <td>-6.4527</td>\n",
       "      <td>1.0300</td>\n",
       "      <td>-6.4527</td>\n",
       "    </tr>\n",
       "    <tr>\n",
       "      <th>6</th>\n",
       "      <td>BUS7</td>\n",
       "      <td>1.0225</td>\n",
       "      <td>-4.8852</td>\n",
       "      <td>1.0225</td>\n",
       "      <td>-4.8852</td>\n",
       "    </tr>\n",
       "    <tr>\n",
       "      <th>7</th>\n",
       "      <td>BUS8</td>\n",
       "      <td>1.0300</td>\n",
       "      <td>-1.5400</td>\n",
       "      <td>1.0300</td>\n",
       "      <td>-1.5400</td>\n",
       "    </tr>\n",
       "    <tr>\n",
       "      <th>8</th>\n",
       "      <td>BUS9</td>\n",
       "      <td>1.0218</td>\n",
       "      <td>-7.2459</td>\n",
       "      <td>1.0218</td>\n",
       "      <td>-7.2459</td>\n",
       "    </tr>\n",
       "    <tr>\n",
       "      <th>9</th>\n",
       "      <td>BUS10</td>\n",
       "      <td>1.0155</td>\n",
       "      <td>-7.4155</td>\n",
       "      <td>1.0155</td>\n",
       "      <td>-7.4155</td>\n",
       "    </tr>\n",
       "    <tr>\n",
       "      <th>10</th>\n",
       "      <td>BUS11</td>\n",
       "      <td>1.0191</td>\n",
       "      <td>-7.0797</td>\n",
       "      <td>1.0191</td>\n",
       "      <td>-7.0797</td>\n",
       "    </tr>\n",
       "    <tr>\n",
       "      <th>11</th>\n",
       "      <td>BUS12</td>\n",
       "      <td>1.0174</td>\n",
       "      <td>-7.4730</td>\n",
       "      <td>1.0174</td>\n",
       "      <td>-7.4730</td>\n",
       "    </tr>\n",
       "    <tr>\n",
       "      <th>12</th>\n",
       "      <td>BUS13</td>\n",
       "      <td>1.0145</td>\n",
       "      <td>-7.7208</td>\n",
       "      <td>1.0145</td>\n",
       "      <td>-7.7208</td>\n",
       "    </tr>\n",
       "    <tr>\n",
       "      <th>13</th>\n",
       "      <td>BUS14</td>\n",
       "      <td>1.0163</td>\n",
       "      <td>-9.4811</td>\n",
       "      <td>1.0163</td>\n",
       "      <td>-9.4811</td>\n",
       "    </tr>\n",
       "  </tbody>\n",
       "</table>\n",
       "</div>"
      ],
      "text/plain": [
       "      name    v_ad    a_ad    v_pp    a_pp\n",
       "uid                                       \n",
       "0     BUS1  1.0300  0.0000  1.0300  0.0000\n",
       "1     BUS2  1.0300 -1.7641  1.0300 -1.7641\n",
       "2     BUS3  1.0100 -3.5371  1.0100 -3.5371\n",
       "3     BUS4  1.0114 -4.4098  1.0114 -4.4098\n",
       "4     BUS5  1.0173 -3.8430  1.0173 -3.8430\n",
       "5     BUS6  1.0300 -6.4527  1.0300 -6.4527\n",
       "6     BUS7  1.0225 -4.8852  1.0225 -4.8852\n",
       "7     BUS8  1.0300 -1.5400  1.0300 -1.5400\n",
       "8     BUS9  1.0218 -7.2459  1.0218 -7.2459\n",
       "9    BUS10  1.0155 -7.4155  1.0155 -7.4155\n",
       "10   BUS11  1.0191 -7.0797  1.0191 -7.0797\n",
       "11   BUS12  1.0174 -7.4730  1.0174 -7.4730\n",
       "12   BUS13  1.0145 -7.7208  1.0145 -7.7208\n",
       "13   BUS14  1.0163 -9.4811  1.0163 -9.4811"
      ]
     },
     "execution_count": 76,
     "metadata": {},
     "output_type": "execute_result"
    }
   ],
   "source": [
    "pf_bus.round(4)"
   ]
  },
  {
   "cell_type": "markdown",
   "metadata": {},
   "source": [
    "## Dispatch based on ``ssp`` results"
   ]
  },
  {
   "cell_type": "markdown",
   "metadata": {},
   "source": [
    "Prepare the `ssa_key` table."
   ]
  },
  {
   "cell_type": "code",
   "execution_count": 77,
   "metadata": {},
   "outputs": [],
   "source": [
    "# Asign the StaticGen with OPF, in this case, all the SynGen are GENROU\n",
    "ssa_key = ssa_link(ssa)"
   ]
  },
  {
   "cell_type": "markdown",
   "metadata": {},
   "source": [
    "Run the TDS in ADNES to 2s."
   ]
  },
  {
   "cell_type": "code",
   "execution_count": 78,
   "metadata": {},
   "outputs": [
    {
     "name": "stderr",
     "output_type": "stream",
     "text": [
      "\n",
      "-> Time Domain Simulation Summary:\n",
      "Sparse Solver: KLU\n",
      "Simulation time: 0.0-2 s.\n",
      "Fixed step size: h=33.33 ms. Shrink if not converged.\n",
      "Initialization for dynamics completed in 0.0667 seconds.\n",
      "Initialization was successful.\n"
     ]
    },
    {
     "name": "stdout",
     "output_type": "stream",
     "text": [
      " 65%|###########################3              | 65/100 [00:00<00:00, 599.17%/s]"
     ]
    },
    {
     "name": "stderr",
     "output_type": "stream",
     "text": [
      "Simulation completed in 0.1091 seconds.\n"
     ]
    },
    {
     "name": "stdout",
     "output_type": "stream",
     "text": [
      "\n"
     ]
    },
    {
     "data": {
      "image/png": "[encoded data removed]",
      "image/svg+xml": "<?xml version=\"1.0\" encoding=\"utf-8\" standalone=\"no\"?>\n<!DOCTYPE svg PUBLIC \"-//W3C//DTD SVG 1.1//EN\"\n  \"http://www.w3.org/Graphics/SVG/1.1/DTD/svg11.dtd\">\n<svg xmlns:xlink=\"http://www.w3.org/1999/xlink\" width=\"381.56279pt\" height=\"265.421944pt\" viewBox=\"0 0 381.56279 265.421944\" xmlns=\"http://www.w3.org/2000/svg\" version=\"1.1\">\n <metadata>\n  <rdf:RDF xmlns:dc=\"http://purl.org/dc/elements/1.1/\" xmlns:cc=\"http://creativecommons.org/ns#\" xmlns:rdf=\"http://www.w3.org/1999/02/22-rdf-syntax-ns#\">\n   <cc:Work>\n    <dc:type rdf:resource=\"http://purl.org/dc/dcmitype/StillImage\"/>\n    <dc:date>2022-03-11T22:31:44.697330</dc:date>\n    <dc:format>image/svg+xml</dc:format>\n    <dc:creator>\n     <cc:Agent>\n      <dc:title>Matplotlib v3.5.1, https://matplotlib.org/</dc:title>\n     </cc:Agent>\n    </dc:creator>\n   </cc:Work>\n  </rdf:RDF>\n </metadata>\n <defs>\n  <style type=\"text/css\">*{stroke-linejoin: round; stroke-linecap: butt}</style>\n </defs>\n <g id=\"figure_1\">\n  <g id=\"patch_1\">\n   <path d=\"M 0 265.421944 \nL 381.56279 265.421944 \nL 381.56279 0 \nL 0 0 \nL 0 265.421944 \nz\n\" style=\"fill: none\"/>\n  </g>\n  <g id=\"axes_1\">\n   <g id=\"patch_2\">\n    <path d=\"M 29.157642 224.64 \nL 363.957642 224.64 \nL 363.957642 7.2 \nL 29.157642 7.2 \nz\n\" style=\"fill: #ffffff\"/>\n   </g>\n   <g id=\"matplotlib.axis_1\">\n    <g id=\"xtick_1\">\n     <g id=\"line2d_1\">\n      <defs>\n       <path id=\"m2c1e259fc8\" d=\"M 0 0 \nL 0 3.5 \n\" style=\"stroke: #000000; stroke-width: 0.8\"/>\n      </defs>\n      <g>\n       <use xlink:href=\"#m2c1e259fc8\" x=\"29.157809\" y=\"224.64\" style=\"stroke: #000000; stroke-width: 0.8\"/>\n      </g>\n     </g>\n     <g id=\"text_1\">\n      <!-- $\\mathdefault{0.00}$ -->\n      <g transform=\"translate(18.752493 239.94218)scale(0.12 -0.12)\">\n       <defs>\n        <path id=\"CMR17-30\" d=\"M 2688 2025 \nC 2688 2416 2682 3080 2413 3591 \nC 2176 4039 1798 4198 1466 4198 \nC 1158 4198 768 4058 525 3597 \nC 269 3118 243 2524 243 2025 \nC 243 1661 250 1106 448 619 \nC 723 -39 1216 -128 1466 -128 \nC 1760 -128 2208 -7 2470 600 \nC 2662 1042 2688 1559 2688 2025 \nz\nM 1466 -26 \nC 1056 -26 813 325 723 812 \nC 653 1188 653 1738 653 2096 \nC 653 2588 653 2997 736 3387 \nC 858 3929 1216 4096 1466 4096 \nC 1728 4096 2067 3923 2189 3400 \nC 2272 3036 2278 2607 2278 2096 \nC 2278 1680 2278 1169 2202 792 \nC 2067 95 1690 -26 1466 -26 \nz\n\" transform=\"scale(0.015625)\"/>\n        <path id=\"CMMI12-3a\" d=\"M 1178 307 \nC 1178 492 1024 619 870 619 \nC 685 619 557 466 557 313 \nC 557 128 710 0 864 0 \nC 1050 0 1178 153 1178 307 \nz\n\" transform=\"scale(0.015625)\"/>\n       </defs>\n       <use xlink:href=\"#CMR17-30\" transform=\"scale(0.996264)\"/>\n       <use xlink:href=\"#CMMI12-3a\" transform=\"translate(45.690477 0)scale(0.996264)\"/>\n       <use xlink:href=\"#CMR17-30\" transform=\"translate(72.787654 0)scale(0.996264)\"/>\n       <use xlink:href=\"#CMR17-30\" transform=\"translate(118.478131 0)scale(0.996264)\"/>\n      </g>\n     </g>\n    </g>\n    <g id=\"xtick_2\">\n     <g id=\"line2d_2\">\n      <g>\n       <use xlink:href=\"#m2c1e259fc8\" x=\"71.007767\" y=\"224.64\" style=\"stroke: #000000; stroke-width: 0.8\"/>\n      </g>\n     </g>\n     <g id=\"text_2\">\n      <!-- $\\mathdefault{0.25}$ -->\n      <g transform=\"translate(60.602451 239.94218)scale(0.12 -0.12)\">\n       <defs>\n        <path id=\"CMR17-32\" d=\"M 2669 989 \nL 2554 989 \nC 2490 536 2438 459 2413 420 \nC 2381 369 1920 369 1830 369 \nL 602 369 \nC 832 619 1280 1072 1824 1597 \nC 2214 1967 2669 2402 2669 3035 \nC 2669 3790 2067 4224 1395 4224 \nC 691 4224 262 3604 262 3030 \nC 262 2780 448 2748 525 2748 \nC 589 2748 781 2787 781 3010 \nC 781 3207 614 3264 525 3264 \nC 486 3264 448 3258 422 3245 \nC 544 3790 915 4058 1306 4058 \nC 1862 4058 2227 3617 2227 3035 \nC 2227 2479 1901 2000 1536 1584 \nL 262 146 \nL 262 0 \nL 2515 0 \nL 2669 989 \nz\n\" transform=\"scale(0.015625)\"/>\n        <path id=\"CMR17-35\" d=\"M 730 3692 \nC 794 3666 1056 3584 1325 3584 \nC 1920 3584 2246 3911 2432 4100 \nC 2432 4157 2432 4192 2394 4192 \nC 2387 4192 2374 4192 2323 4163 \nC 2099 4058 1837 3973 1517 3973 \nC 1325 3973 1037 3999 723 4139 \nC 653 4171 640 4171 634 4171 \nC 602 4171 595 4164 595 4037 \nL 595 2203 \nC 595 2089 595 2057 659 2057 \nC 691 2057 704 2070 736 2114 \nC 941 2401 1222 2522 1542 2522 \nC 1766 2522 2246 2382 2246 1289 \nC 2246 1085 2246 715 2054 421 \nC 1894 159 1645 25 1370 25 \nC 947 25 518 320 403 814 \nC 429 807 480 795 506 795 \nC 589 795 749 840 749 1038 \nC 749 1210 627 1280 506 1280 \nC 358 1280 262 1190 262 1011 \nC 262 454 704 -128 1382 -128 \nC 2042 -128 2669 440 2669 1264 \nC 2669 2030 2170 2624 1549 2624 \nC 1222 2624 947 2503 730 2274 \nL 730 3692 \nz\n\" transform=\"scale(0.015625)\"/>\n       </defs>\n       <use xlink:href=\"#CMR17-30\" transform=\"scale(0.996264)\"/>\n       <use xlink:href=\"#CMMI12-3a\" transform=\"translate(45.690477 0)scale(0.996264)\"/>\n       <use xlink:href=\"#CMR17-32\" transform=\"translate(72.787654 0)scale(0.996264)\"/>\n       <use xlink:href=\"#CMR17-35\" transform=\"translate(118.478131 0)scale(0.996264)\"/>\n      </g>\n     </g>\n    </g>\n    <g id=\"xtick_3\">\n     <g id=\"line2d_3\">\n      <g>\n       <use xlink:href=\"#m2c1e259fc8\" x=\"112.857725\" y=\"224.64\" style=\"stroke: #000000; stroke-width: 0.8\"/>\n      </g>\n     </g>\n     <g id=\"text_3\">\n      <!-- $\\mathdefault{0.50}$ -->\n      <g transform=\"translate(102.452409 239.94218)scale(0.12 -0.12)\">\n       <use xlink:href=\"#CMR17-30\" transform=\"scale(0.996264)\"/>\n       <use xlink:href=\"#CMMI12-3a\" transform=\"translate(45.690477 0)scale(0.996264)\"/>\n       <use xlink:href=\"#CMR17-35\" transform=\"translate(72.787654 0)scale(0.996264)\"/>\n       <use xlink:href=\"#CMR17-30\" transform=\"translate(118.478131 0)scale(0.996264)\"/>\n      </g>\n     </g>\n    </g>\n    <g id=\"xtick_4\">\n     <g id=\"line2d_4\">\n      <g>\n       <use xlink:href=\"#m2c1e259fc8\" x=\"154.707684\" y=\"224.64\" style=\"stroke: #000000; stroke-width: 0.8\"/>\n      </g>\n     </g>\n     <g id=\"text_4\">\n      <!-- $\\mathdefault{0.75}$ -->\n      <g transform=\"translate(144.302368 239.94218)scale(0.12 -0.12)\">\n       <defs>\n        <path id=\"CMR17-37\" d=\"M 2886 3941 \nL 2886 4081 \nL 1382 4081 \nC 634 4081 621 4165 595 4288 \nL 480 4288 \nL 294 3094 \nL 410 3094 \nC 429 3215 474 3540 550 3661 \nC 589 3712 1062 3712 1171 3712 \nL 2579 3712 \nL 1869 2661 \nC 1395 1954 1069 999 1069 165 \nC 1069 89 1069 -128 1299 -128 \nC 1530 -128 1530 89 1530 171 \nL 1530 465 \nC 1530 1508 1709 2196 2003 2636 \nL 2886 3941 \nz\n\" transform=\"scale(0.015625)\"/>\n       </defs>\n       <use xlink:href=\"#CMR17-30\" transform=\"scale(0.996264)\"/>\n       <use xlink:href=\"#CMMI12-3a\" transform=\"translate(45.690477 0)scale(0.996264)\"/>\n       <use xlink:href=\"#CMR17-37\" transform=\"translate(72.787654 0)scale(0.996264)\"/>\n       <use xlink:href=\"#CMR17-35\" transform=\"translate(118.478131 0)scale(0.996264)\"/>\n      </g>\n     </g>\n    </g>\n    <g id=\"xtick_5\">\n     <g id=\"line2d_5\">\n      <g>\n       <use xlink:href=\"#m2c1e259fc8\" x=\"196.557642\" y=\"224.64\" style=\"stroke: #000000; stroke-width: 0.8\"/>\n      </g>\n     </g>\n     <g id=\"text_5\">\n      <!-- $\\mathdefault{1.00}$ -->\n      <g transform=\"translate(186.152326 239.94218)scale(0.12 -0.12)\">\n       <defs>\n        <path id=\"CMR17-31\" d=\"M 1702 4058 \nC 1702 4192 1696 4192 1606 4192 \nC 1357 3916 979 3827 621 3827 \nC 602 3827 570 3827 563 3808 \nC 557 3795 557 3782 557 3648 \nC 755 3648 1088 3686 1344 3839 \nL 1344 461 \nC 1344 236 1331 160 781 160 \nL 589 160 \nL 589 0 \nC 896 0 1216 0 1523 0 \nC 1830 0 2150 0 2458 0 \nL 2458 160 \nL 2266 160 \nC 1715 160 1702 230 1702 458 \nL 1702 4058 \nz\n\" transform=\"scale(0.015625)\"/>\n       </defs>\n       <use xlink:href=\"#CMR17-31\" transform=\"scale(0.996264)\"/>\n       <use xlink:href=\"#CMMI12-3a\" transform=\"translate(45.690477 0)scale(0.996264)\"/>\n       <use xlink:href=\"#CMR17-30\" transform=\"translate(72.787654 0)scale(0.996264)\"/>\n       <use xlink:href=\"#CMR17-30\" transform=\"translate(118.478131 0)scale(0.996264)\"/>\n      </g>\n     </g>\n    </g>\n    <g id=\"xtick_6\">\n     <g id=\"line2d_6\">\n      <g>\n       <use xlink:href=\"#m2c1e259fc8\" x=\"238.4076\" y=\"224.64\" style=\"stroke: #000000; stroke-width: 0.8\"/>\n      </g>\n     </g>\n     <g id=\"text_6\">\n      <!-- $\\mathdefault{1.25}$ -->\n      <g transform=\"translate(228.002284 239.94218)scale(0.12 -0.12)\">\n       <use xlink:href=\"#CMR17-31\" transform=\"scale(0.996264)\"/>\n       <use xlink:href=\"#CMMI12-3a\" transform=\"translate(45.690477 0)scale(0.996264)\"/>\n       <use xlink:href=\"#CMR17-32\" transform=\"translate(72.787654 0)scale(0.996264)\"/>\n       <use xlink:href=\"#CMR17-35\" transform=\"translate(118.478131 0)scale(0.996264)\"/>\n      </g>\n     </g>\n    </g>\n    <g id=\"xtick_7\">\n     <g id=\"line2d_7\">\n      <g>\n       <use xlink:href=\"#m2c1e259fc8\" x=\"280.257558\" y=\"224.64\" style=\"stroke: #000000; stroke-width: 0.8\"/>\n      </g>\n     </g>\n     <g id=\"text_7\">\n      <!-- $\\mathdefault{1.50}$ -->\n      <g transform=\"translate(269.852242 239.94218)scale(0.12 -0.12)\">\n       <use xlink:href=\"#CMR17-31\" transform=\"scale(0.996264)\"/>\n       <use xlink:href=\"#CMMI12-3a\" transform=\"translate(45.690477 0)scale(0.996264)\"/>\n       <use xlink:href=\"#CMR17-35\" transform=\"translate(72.787654 0)scale(0.996264)\"/>\n       <use xlink:href=\"#CMR17-30\" transform=\"translate(118.478131 0)scale(0.996264)\"/>\n      </g>\n     </g>\n    </g>\n    <g id=\"xtick_8\">\n     <g id=\"line2d_8\">\n      <g>\n       <use xlink:href=\"#m2c1e259fc8\" x=\"322.107516\" y=\"224.64\" style=\"stroke: #000000; stroke-width: 0.8\"/>\n      </g>\n     </g>\n     <g id=\"text_8\">\n      <!-- $\\mathdefault{1.75}$ -->\n      <g transform=\"translate(311.7022 239.94218)scale(0.12 -0.12)\">\n       <use xlink:href=\"#CMR17-31\" transform=\"scale(0.996264)\"/>\n       <use xlink:href=\"#CMMI12-3a\" transform=\"translate(45.690477 0)scale(0.996264)\"/>\n       <use xlink:href=\"#CMR17-37\" transform=\"translate(72.787654 0)scale(0.996264)\"/>\n       <use xlink:href=\"#CMR17-35\" transform=\"translate(118.478131 0)scale(0.996264)\"/>\n      </g>\n     </g>\n    </g>\n    <g id=\"xtick_9\">\n     <g id=\"line2d_9\">\n      <g>\n       <use xlink:href=\"#m2c1e259fc8\" x=\"363.957474\" y=\"224.64\" style=\"stroke: #000000; stroke-width: 0.8\"/>\n      </g>\n     </g>\n     <g id=\"text_9\">\n      <!-- $\\mathdefault{2.00}$ -->\n      <g transform=\"translate(353.552158 239.94218)scale(0.12 -0.12)\">\n       <use xlink:href=\"#CMR17-32\" transform=\"scale(0.996264)\"/>\n       <use xlink:href=\"#CMMI12-3a\" transform=\"translate(45.690477 0)scale(0.996264)\"/>\n       <use xlink:href=\"#CMR17-30\" transform=\"translate(72.787654 0)scale(0.996264)\"/>\n       <use xlink:href=\"#CMR17-30\" transform=\"translate(118.478131 0)scale(0.996264)\"/>\n      </g>\n     </g>\n    </g>\n    <g id=\"text_10\">\n     <!-- Time [s] -->\n     <g transform=\"translate(175.714493 255.233152)scale(0.12 -0.12)\">\n      <defs>\n       <path id=\"CMR17-54\" d=\"M 3981 4326 \nL 288 4326 \nL 179 2918 \nL 294 2918 \nC 378 3976 467 4160 1453 4160 \nC 1568 4160 1754 4160 1805 4154 \nC 1926 4135 1926 4058 1926 3912 \nL 1926 459 \nC 1926 230 1907 160 1376 160 \nL 1197 160 \nL 1197 0 \nC 1504 0 1824 0 2138 0 \nC 2451 0 2771 0 3078 0 \nL 3078 160 \nL 2899 160 \nC 2368 160 2349 230 2349 459 \nL 2349 3912 \nC 2349 4052 2349 4129 2464 4154 \nC 2515 4160 2701 4160 2816 4160 \nC 3795 4160 3891 3976 3974 2918 \nL 4090 2918 \nL 3981 4326 \nz\n\" transform=\"scale(0.015625)\"/>\n       <path id=\"CMR17-69\" d=\"M 992 3909 \nC 992 4049 877 4170 730 4170 \nC 589 4170 467 4056 467 3909 \nC 467 3769 582 3648 730 3648 \nC 870 3648 992 3763 992 3909 \nz\nM 243 2706 \nL 243 2541 \nC 602 2541 653 2502 653 2197 \nL 653 427 \nC 653 184 627 153 218 153 \nL 218 -13 \nC 371 0 646 0 806 0 \nC 960 0 1222 0 1370 -13 \nL 1370 153 \nC 992 153 979 191 979 420 \nL 979 2776 \nL 243 2706 \nz\n\" transform=\"scale(0.015625)\"/>\n       <path id=\"CMR17-6d\" d=\"M 4326 1933 \nC 4326 2252 4269 2790 3507 2790 \nC 3072 2790 2771 2496 2656 2151 \nL 2650 2151 \nC 2573 2676 2195 2790 1837 2790 \nC 1331 2790 1069 2400 973 2144 \nL 966 2144 \nL 966 2790 \nL 211 2720 \nL 211 2554 \nC 589 2554 646 2515 646 2208 \nL 646 428 \nC 646 184 621 153 211 153 \nL 211 -13 \nC 365 0 646 0 813 0 \nC 979 0 1267 0 1421 -13 \nL 1421 153 \nC 1011 153 986 178 986 428 \nL 986 1658 \nC 986 2247 1344 2688 1792 2688 \nC 2266 2688 2317 2266 2317 1958 \nL 2317 428 \nC 2317 184 2291 153 1882 153 \nL 1882 -13 \nC 2035 0 2317 0 2483 0 \nC 2650 0 2938 0 3091 -13 \nL 3091 153 \nC 2682 153 2656 178 2656 428 \nL 2656 1658 \nC 2656 2247 3014 2688 3462 2688 \nC 3936 2688 3987 2266 3987 1958 \nL 3987 428 \nC 3987 184 3962 153 3552 153 \nL 3552 -13 \nC 3706 0 3987 0 4154 0 \nC 4320 0 4608 0 4762 -13 \nL 4762 153 \nC 4352 153 4326 178 4326 428 \nL 4326 1933 \nz\n\" transform=\"scale(0.015625)\"/>\n       <path id=\"CMR17-65\" d=\"M 2438 1472 \nC 2464 1498 2464 1511 2464 1576 \nC 2464 2238 2118 2816 1389 2816 \nC 710 2816 173 2169 173 1383 \nC 173 551 781 -64 1459 -64 \nC 2176 -64 2458 607 2458 740 \nC 2458 784 2419 784 2406 784 \nC 2362 784 2355 771 2330 696 \nC 2189 265 1837 51 1504 51 \nC 1229 51 954 203 781 480 \nC 582 803 582 1176 582 1472 \nL 2438 1472 \nz\nM 589 1568 \nC 634 2505 1126 2714 1382 2714 \nC 1818 2714 2112 2297 2118 1568 \nL 589 1568 \nz\n\" transform=\"scale(0.015625)\"/>\n       <path id=\"CMR17-5b\" d=\"M 1504 -1600 \nL 1504 -1377 \nL 902 -1377 \nL 902 4544 \nL 1504 4544 \nL 1504 4767 \nL 678 4767 \nL 678 -1600 \nL 1504 -1600 \nz\n\" transform=\"scale(0.015625)\"/>\n       <path id=\"CMR17-73\" d=\"M 1978 2697 \nC 1978 2813 1971 2819 1933 2819 \nC 1907 2819 1901 2813 1824 2717 \nC 1805 2691 1747 2626 1728 2601 \nC 1523 2819 1235 2819 1126 2819 \nC 416 2819 160 2447 160 2076 \nC 160 1498 813 1365 998 1325 \nC 1402 1243 1542 1217 1677 1101 \nC 1760 1025 1901 884 1901 654 \nC 1901 384 1747 38 1158 38 \nC 602 38 403 460 288 1021 \nC 269 1110 269 1117 218 1117 \nC 166 1117 160 1110 160 983 \nL 160 63 \nC 160 -51 166 -58 205 -58 \nC 237 -58 243 -51 275 0 \nC 314 57 410 211 448 276 \nC 576 103 800 -64 1158 -64 \nC 1792 -64 2131 283 2131 784 \nC 2131 1112 1958 1285 1875 1362 \nC 1683 1561 1459 1606 1190 1657 \nC 838 1735 390 1825 390 2217 \nC 390 2383 480 2737 1126 2737 \nC 1811 2737 1850 2094 1862 1888 \nC 1869 1856 1901 1849 1920 1849 \nC 1978 1849 1978 1869 1978 1978 \nL 1978 2697 \nz\n\" transform=\"scale(0.015625)\"/>\n       <path id=\"CMR17-5d\" d=\"M 915 4767 \nL 90 4767 \nL 90 4544 \nL 691 4544 \nL 691 -1377 \nL 90 -1377 \nL 90 -1600 \nL 915 -1600 \nL 915 4767 \nz\n\" transform=\"scale(0.015625)\"/>\n      </defs>\n      <use xlink:href=\"#CMR17-54\" transform=\"scale(0.996264)\"/>\n      <use xlink:href=\"#CMR17-69\" transform=\"translate(66.509881 0)scale(0.996264)\"/>\n      <use xlink:href=\"#CMR17-6d\" transform=\"translate(91.380939 0)scale(0.996264)\"/>\n      <use xlink:href=\"#CMR17-65\" transform=\"translate(168.300529 0)scale(0.996264)\"/>\n      <use xlink:href=\"#CMR17-5b\" transform=\"translate(238.862156 0)scale(0.996264)\"/>\n      <use xlink:href=\"#CMR17-73\" transform=\"translate(263.733214 0)scale(0.996264)\"/>\n      <use xlink:href=\"#CMR17-5d\" transform=\"translate(299.534552 0)scale(0.996264)\"/>\n     </g>\n    </g>\n   </g>\n   <g id=\"matplotlib.axis_2\">\n    <g id=\"ytick_1\">\n     <g id=\"line2d_10\">\n      <defs>\n       <path id=\"m4b81ccc667\" d=\"M 0 0 \nL -3.5 0 \n\" style=\"stroke: #000000; stroke-width: 0.8\"/>\n      </defs>\n      <g>\n       <use xlink:href=\"#m4b81ccc667\" x=\"29.157642\" y=\"214.756364\" style=\"stroke: #000000; stroke-width: 0.8\"/>\n      </g>\n     </g>\n     <g id=\"text_11\">\n      <!-- $\\mathdefault{0.3}$ -->\n      <g transform=\"translate(7.2 218.907454)scale(0.12 -0.12)\">\n       <defs>\n        <path id=\"CMR17-33\" d=\"M 1414 2157 \nC 1984 2157 2234 1662 2234 1090 \nC 2234 320 1824 25 1453 25 \nC 1114 25 563 194 390 693 \nC 422 680 454 680 486 680 \nC 640 680 755 782 755 948 \nC 755 1133 614 1216 486 1216 \nC 378 1216 211 1165 211 926 \nC 211 335 787 -128 1466 -128 \nC 2176 -128 2720 430 2720 1085 \nC 2720 1707 2208 2157 1600 2227 \nC 2086 2328 2554 2756 2554 3329 \nC 2554 3820 2048 4179 1472 4179 \nC 890 4179 378 3829 378 3329 \nC 378 3110 544 3072 627 3072 \nC 762 3072 877 3155 877 3321 \nC 877 3486 762 3569 627 3569 \nC 602 3569 570 3569 544 3557 \nC 730 3959 1235 4032 1459 4032 \nC 1683 4032 2106 3925 2106 3320 \nC 2106 3143 2080 2828 1862 2550 \nC 1670 2304 1453 2304 1242 2284 \nC 1210 2284 1062 2269 1037 2269 \nC 992 2263 966 2257 966 2208 \nC 966 2163 973 2157 1101 2157 \nL 1414 2157 \nz\n\" transform=\"scale(0.015625)\"/>\n       </defs>\n       <use xlink:href=\"#CMR17-30\" transform=\"scale(0.996264)\"/>\n       <use xlink:href=\"#CMMI12-3a\" transform=\"translate(45.690477 0)scale(0.996264)\"/>\n       <use xlink:href=\"#CMR17-33\" transform=\"translate(72.787654 0)scale(0.996264)\"/>\n      </g>\n     </g>\n    </g>\n    <g id=\"ytick_2\">\n     <g id=\"line2d_11\">\n      <g>\n       <use xlink:href=\"#m4b81ccc667\" x=\"29.157642\" y=\"176.318986\" style=\"stroke: #000000; stroke-width: 0.8\"/>\n      </g>\n     </g>\n     <g id=\"text_12\">\n      <!-- $\\mathdefault{0.4}$ -->\n      <g transform=\"translate(7.2 180.470076)scale(0.12 -0.12)\">\n       <defs>\n        <path id=\"CMR17-34\" d=\"M 2150 4122 \nC 2150 4256 2144 4256 2029 4256 \nL 128 1254 \nL 128 1088 \nL 1779 1088 \nL 1779 457 \nC 1779 224 1766 160 1318 160 \nL 1197 160 \nL 1197 0 \nC 1402 0 1747 0 1965 0 \nC 2182 0 2528 0 2733 0 \nL 2733 160 \nL 2611 160 \nC 2163 160 2150 224 2150 457 \nL 2150 1088 \nL 2803 1088 \nL 2803 1254 \nL 2150 1254 \nL 2150 4122 \nz\nM 1798 3703 \nL 1798 1254 \nL 256 1254 \nL 1798 3703 \nz\n\" transform=\"scale(0.015625)\"/>\n       </defs>\n       <use xlink:href=\"#CMR17-30\" transform=\"scale(0.996264)\"/>\n       <use xlink:href=\"#CMMI12-3a\" transform=\"translate(45.690477 0)scale(0.996264)\"/>\n       <use xlink:href=\"#CMR17-34\" transform=\"translate(72.787654 0)scale(0.996264)\"/>\n      </g>\n     </g>\n    </g>\n    <g id=\"ytick_3\">\n     <g id=\"line2d_12\">\n      <g>\n       <use xlink:href=\"#m4b81ccc667\" x=\"29.157642\" y=\"137.881608\" style=\"stroke: #000000; stroke-width: 0.8\"/>\n      </g>\n     </g>\n     <g id=\"text_13\">\n      <!-- $\\mathdefault{0.5}$ -->\n      <g transform=\"translate(7.2 142.032698)scale(0.12 -0.12)\">\n       <use xlink:href=\"#CMR17-30\" transform=\"scale(0.996264)\"/>\n       <use xlink:href=\"#CMMI12-3a\" transform=\"translate(45.690477 0)scale(0.996264)\"/>\n       <use xlink:href=\"#CMR17-35\" transform=\"translate(72.787654 0)scale(0.996264)\"/>\n      </g>\n     </g>\n    </g>\n    <g id=\"ytick_4\">\n     <g id=\"line2d_13\">\n      <g>\n       <use xlink:href=\"#m4b81ccc667\" x=\"29.157642\" y=\"99.44423\" style=\"stroke: #000000; stroke-width: 0.8\"/>\n      </g>\n     </g>\n     <g id=\"text_14\">\n      <!-- $\\mathdefault{0.6}$ -->\n      <g transform=\"translate(7.2 103.59532)scale(0.12 -0.12)\">\n       <defs>\n        <path id=\"CMR17-36\" d=\"M 678 2176 \nC 678 3690 1395 4032 1811 4032 \nC 1946 4032 2272 4009 2400 3776 \nC 2298 3776 2106 3776 2106 3553 \nC 2106 3381 2246 3323 2336 3323 \nC 2394 3323 2566 3348 2566 3560 \nC 2566 3954 2246 4179 1805 4179 \nC 1043 4179 243 3390 243 1984 \nC 243 253 966 -128 1478 -128 \nC 2099 -128 2688 427 2688 1283 \nC 2688 2081 2170 2662 1517 2662 \nC 1126 2662 838 2407 678 1960 \nL 678 2176 \nz\nM 1478 25 \nC 691 25 691 1200 691 1436 \nC 691 1896 909 2560 1504 2560 \nC 1613 2560 1926 2560 2138 2120 \nC 2253 1870 2253 1609 2253 1289 \nC 2253 944 2253 690 2118 434 \nC 1978 171 1773 25 1478 25 \nz\n\" transform=\"scale(0.015625)\"/>\n       </defs>\n       <use xlink:href=\"#CMR17-30\" transform=\"scale(0.996264)\"/>\n       <use xlink:href=\"#CMMI12-3a\" transform=\"translate(45.690477 0)scale(0.996264)\"/>\n       <use xlink:href=\"#CMR17-36\" transform=\"translate(72.787654 0)scale(0.996264)\"/>\n      </g>\n     </g>\n    </g>\n    <g id=\"ytick_5\">\n     <g id=\"line2d_14\">\n      <g>\n       <use xlink:href=\"#m4b81ccc667\" x=\"29.157642\" y=\"61.006852\" style=\"stroke: #000000; stroke-width: 0.8\"/>\n      </g>\n     </g>\n     <g id=\"text_15\">\n      <!-- $\\mathdefault{0.7}$ -->\n      <g transform=\"translate(7.2 65.157942)scale(0.12 -0.12)\">\n       <use xlink:href=\"#CMR17-30\" transform=\"scale(0.996264)\"/>\n       <use xlink:href=\"#CMMI12-3a\" transform=\"translate(45.690477 0)scale(0.996264)\"/>\n       <use xlink:href=\"#CMR17-37\" transform=\"translate(72.787654 0)scale(0.996264)\"/>\n      </g>\n     </g>\n    </g>\n    <g id=\"ytick_6\">\n     <g id=\"line2d_15\">\n      <g>\n       <use xlink:href=\"#m4b81ccc667\" x=\"29.157642\" y=\"22.569474\" style=\"stroke: #000000; stroke-width: 0.8\"/>\n      </g>\n     </g>\n     <g id=\"text_16\">\n      <!-- $\\mathdefault{0.8}$ -->\n      <g transform=\"translate(7.2 26.720564)scale(0.12 -0.12)\">\n       <defs>\n        <path id=\"CMR17-38\" d=\"M 1741 2264 \nC 2144 2467 2554 2773 2554 3263 \nC 2554 3841 1990 4179 1472 4179 \nC 890 4179 378 3759 378 3180 \nC 378 3021 416 2747 666 2505 \nC 730 2442 998 2251 1171 2130 \nC 883 1983 211 1634 211 934 \nC 211 279 838 -128 1459 -128 \nC 2144 -128 2720 362 2720 1010 \nC 2720 1590 2330 1857 2074 2029 \nL 1741 2264 \nz\nM 902 2822 \nC 851 2854 595 3051 595 3351 \nC 595 3739 998 4032 1459 4032 \nC 1965 4032 2336 3676 2336 3262 \nC 2336 2669 1670 2331 1638 2331 \nC 1632 2331 1626 2331 1574 2370 \nL 902 2822 \nz\nM 2080 1519 \nC 2176 1449 2483 1240 2483 851 \nC 2483 381 2010 25 1472 25 \nC 890 25 448 438 448 940 \nC 448 1443 838 1862 1280 2060 \nL 2080 1519 \nz\n\" transform=\"scale(0.015625)\"/>\n       </defs>\n       <use xlink:href=\"#CMR17-30\" transform=\"scale(0.996264)\"/>\n       <use xlink:href=\"#CMMI12-3a\" transform=\"translate(45.690477 0)scale(0.996264)\"/>\n       <use xlink:href=\"#CMR17-38\" transform=\"translate(72.787654 0)scale(0.996264)\"/>\n      </g>\n     </g>\n    </g>\n   </g>\n   <g id=\"line2d_16\">\n    <path d=\"M 29.157809 17.083636 \nL 34.737804 17.083636 \nL 40.317798 17.083636 \nL 45.897792 17.083636 \nL 51.477787 17.083636 \nL 57.057781 17.083636 \nL 62.637776 17.083636 \nL 68.21777 17.083636 \nL 73.797765 17.083636 \nL 79.377759 17.083636 \nL 84.957753 17.083636 \nL 90.537748 17.083636 \nL 96.117742 17.083636 \nL 101.697737 17.083636 \nL 107.277731 17.083636 \nL 112.857725 17.083636 \nL 118.43772 17.083636 \nL 124.017714 17.083636 \nL 129.597709 17.083636 \nL 135.177703 17.083636 \nL 140.757698 17.083636 \nL 146.337692 17.083636 \nL 151.917686 17.083636 \nL 157.497681 17.083636 \nL 163.077675 17.083636 \nL 168.65767 17.083636 \nL 174.237664 17.083636 \nL 179.817658 17.083636 \nL 185.397653 17.083636 \nL 190.977647 17.083636 \nL 196.540902 17.083636 \nL 196.557642 17.083636 \nL 196.574382 17.083636 \nL 202.154376 17.083636 \nL 207.734371 17.083636 \nL 213.280885 17.083636 \nL 213.297625 17.083636 \nL 213.314365 17.083636 \nL 218.894359 17.083636 \nL 224.474354 17.083636 \nL 230.054348 17.083636 \nL 235.634343 17.083636 \nL 241.214337 17.083636 \nL 246.794332 17.083636 \nL 252.374326 17.083636 \nL 257.95432 17.083636 \nL 263.534315 17.083636 \nL 269.114309 17.083636 \nL 274.694304 17.083636 \nL 280.274298 17.083636 \nL 285.854292 17.083636 \nL 291.434287 17.083636 \nL 297.014281 17.083636 \nL 302.594276 17.083636 \nL 308.17427 17.083636 \nL 313.754265 17.083636 \nL 319.334259 17.083636 \nL 324.914253 17.083636 \nL 330.494248 17.083636 \nL 336.074242 17.083636 \nL 341.654237 17.083636 \nL 347.234231 17.083636 \nL 352.814225 17.083636 \nL 358.39422 17.083636 \nL 363.957474 17.083636 \n\" clip-path=\"url(#paa0d47ea62)\" style=\"fill: none; stroke: #1f77b4; stroke-linecap: square\"/>\n   </g>\n   <g id=\"line2d_17\">\n    <path d=\"M 29.157809 176.318986 \nL 34.737804 176.318986 \nL 40.317798 176.318986 \nL 45.897792 176.318986 \nL 51.477787 176.318986 \nL 57.057781 176.318986 \nL 62.637776 176.318986 \nL 68.21777 176.318986 \nL 73.797765 176.318986 \nL 79.377759 176.318986 \nL 84.957753 176.318986 \nL 90.537748 176.318986 \nL 96.117742 176.318986 \nL 101.697737 176.318986 \nL 107.277731 176.318986 \nL 112.857725 176.318986 \nL 118.43772 176.318986 \nL 124.017714 176.318986 \nL 129.597709 176.318986 \nL 135.177703 176.318986 \nL 140.757698 176.318986 \nL 146.337692 176.318986 \nL 151.917686 176.318986 \nL 157.497681 176.318986 \nL 163.077675 176.318986 \nL 168.65767 176.318986 \nL 174.237664 176.318986 \nL 179.817658 176.318986 \nL 185.397653 176.318986 \nL 190.977647 176.318986 \nL 196.540902 176.318986 \nL 196.557642 176.318986 \nL 196.574382 176.318986 \nL 202.154376 176.318986 \nL 207.734371 176.318986 \nL 213.280885 176.318986 \nL 213.297625 176.318986 \nL 213.314365 176.318986 \nL 218.894359 176.318986 \nL 224.474354 176.318986 \nL 230.054348 176.318986 \nL 235.634343 176.318986 \nL 241.214337 176.318986 \nL 246.794332 176.318986 \nL 252.374326 176.318986 \nL 257.95432 176.318986 \nL 263.534315 176.318986 \nL 269.114309 176.318986 \nL 274.694304 176.318986 \nL 280.274298 176.318986 \nL 285.854292 176.318986 \nL 291.434287 176.318986 \nL 297.014281 176.318986 \nL 302.594276 176.318986 \nL 308.17427 176.318986 \nL 313.754265 176.318986 \nL 319.334259 176.318986 \nL 324.914253 176.318986 \nL 330.494248 176.318986 \nL 336.074242 176.318986 \nL 341.654237 176.318986 \nL 347.234231 176.318986 \nL 352.814225 176.318986 \nL 358.39422 176.318986 \nL 363.957474 176.318986 \n\" clip-path=\"url(#paa0d47ea62)\" style=\"fill: none; stroke-dasharray: 3.7,1.6; stroke-dashoffset: 0; stroke: #ff7f0e\"/>\n   </g>\n   <g id=\"line2d_18\">\n    <path d=\"M 29.157809 176.318986 \nL 34.737804 176.318986 \nL 40.317798 176.318986 \nL 45.897792 176.318986 \nL 51.477787 176.318986 \nL 57.057781 176.318986 \nL 62.637776 176.318986 \nL 68.21777 176.318986 \nL 73.797765 176.318986 \nL 79.377759 176.318986 \nL 84.957753 176.318986 \nL 90.537748 176.318986 \nL 96.117742 176.318986 \nL 101.697737 176.318986 \nL 107.277731 176.318986 \nL 112.857725 176.318986 \nL 118.43772 176.318986 \nL 124.017714 176.318986 \nL 129.597709 176.318986 \nL 135.177703 176.318986 \nL 140.757698 176.318986 \nL 146.337692 176.318986 \nL 151.917686 176.318986 \nL 157.497681 176.318986 \nL 163.077675 176.318986 \nL 168.65767 176.318986 \nL 174.237664 176.318986 \nL 179.817658 176.318986 \nL 185.397653 176.318986 \nL 190.977647 176.318986 \nL 196.540902 176.318986 \nL 196.557642 176.318986 \nL 196.574382 176.318986 \nL 202.154376 176.318986 \nL 207.734371 176.318986 \nL 213.280885 176.318986 \nL 213.297625 176.318986 \nL 213.314365 176.318986 \nL 218.894359 176.318986 \nL 224.474354 176.318986 \nL 230.054348 176.318986 \nL 235.634343 176.318986 \nL 241.214337 176.318986 \nL 246.794332 176.318986 \nL 252.374326 176.318986 \nL 257.95432 176.318986 \nL 263.534315 176.318986 \nL 269.114309 176.318986 \nL 274.694304 176.318986 \nL 280.274298 176.318986 \nL 285.854292 176.318986 \nL 291.434287 176.318986 \nL 297.014281 176.318986 \nL 302.594276 176.318986 \nL 308.17427 176.318986 \nL 313.754265 176.318986 \nL 319.334259 176.318986 \nL 324.914253 176.318986 \nL 330.494248 176.318986 \nL 336.074242 176.318986 \nL 341.654237 176.318986 \nL 347.234231 176.318986 \nL 352.814225 176.318986 \nL 358.39422 176.318986 \nL 363.957474 176.318986 \n\" clip-path=\"url(#paa0d47ea62)\" style=\"fill: none; stroke-dasharray: 6.4,1.6,1,1.6; stroke-dashoffset: 0; stroke: #2ca02c\"/>\n   </g>\n   <g id=\"line2d_19\">\n    <path d=\"M 29.157809 214.756364 \nL 34.737804 214.756364 \nL 40.317798 214.756364 \nL 45.897792 214.756364 \nL 51.477787 214.756364 \nL 57.057781 214.756364 \nL 62.637776 214.756364 \nL 68.21777 214.756364 \nL 73.797765 214.756364 \nL 79.377759 214.756364 \nL 84.957753 214.756364 \nL 90.537748 214.756364 \nL 96.117742 214.756364 \nL 101.697737 214.756364 \nL 107.277731 214.756364 \nL 112.857725 214.756364 \nL 118.43772 214.756364 \nL 124.017714 214.756364 \nL 129.597709 214.756364 \nL 135.177703 214.756364 \nL 140.757698 214.756364 \nL 146.337692 214.756364 \nL 151.917686 214.756364 \nL 157.497681 214.756364 \nL 163.077675 214.756364 \nL 168.65767 214.756364 \nL 174.237664 214.756364 \nL 179.817658 214.756364 \nL 185.397653 214.756364 \nL 190.977647 214.756364 \nL 196.540902 214.756364 \nL 196.557642 214.756364 \nL 196.574382 214.756364 \nL 202.154376 214.756364 \nL 207.734371 214.756364 \nL 213.280885 214.756364 \nL 213.297625 214.756364 \nL 213.314365 214.756364 \nL 218.894359 214.756364 \nL 224.474354 214.756364 \nL 230.054348 214.756364 \nL 235.634343 214.756364 \nL 241.214337 214.756364 \nL 246.794332 214.756364 \nL 252.374326 214.756364 \nL 257.95432 214.756364 \nL 263.534315 214.756364 \nL 269.114309 214.756364 \nL 274.694304 214.756364 \nL 280.274298 214.756364 \nL 285.854292 214.756364 \nL 291.434287 214.756364 \nL 297.014281 214.756364 \nL 302.594276 214.756364 \nL 308.17427 214.756364 \nL 313.754265 214.756364 \nL 319.334259 214.756364 \nL 324.914253 214.756364 \nL 330.494248 214.756364 \nL 336.074242 214.756364 \nL 341.654237 214.756364 \nL 347.234231 214.756364 \nL 352.814225 214.756364 \nL 358.39422 214.756364 \nL 363.957474 214.756364 \n\" clip-path=\"url(#paa0d47ea62)\" style=\"fill: none; stroke-dasharray: 1,1.65; stroke-dashoffset: 0; stroke: #d62728\"/>\n   </g>\n   <g id=\"line2d_20\">\n    <path d=\"M 29.157809 195.537675 \nL 34.737804 195.537675 \nL 40.317798 195.537675 \nL 45.897792 195.537675 \nL 51.477787 195.537675 \nL 57.057781 195.537675 \nL 62.637776 195.537675 \nL 68.21777 195.537675 \nL 73.797765 195.537675 \nL 79.377759 195.537675 \nL 84.957753 195.537675 \nL 90.537748 195.537675 \nL 96.117742 195.537675 \nL 101.697737 195.537675 \nL 107.277731 195.537675 \nL 112.857725 195.537675 \nL 118.43772 195.537675 \nL 124.017714 195.537675 \nL 129.597709 195.537675 \nL 135.177703 195.537675 \nL 140.757698 195.537675 \nL 146.337692 195.537675 \nL 151.917686 195.537675 \nL 157.497681 195.537675 \nL 163.077675 195.537675 \nL 168.65767 195.537675 \nL 174.237664 195.537675 \nL 179.817658 195.537675 \nL 185.397653 195.537675 \nL 190.977647 195.537675 \nL 196.540902 195.537675 \nL 196.557642 195.537675 \nL 196.574382 195.537675 \nL 202.154376 195.537675 \nL 207.734371 195.537675 \nL 213.280885 195.537675 \nL 213.297625 195.537675 \nL 213.314365 195.537675 \nL 218.894359 195.537675 \nL 224.474354 195.537675 \nL 230.054348 195.537675 \nL 235.634343 195.537675 \nL 241.214337 195.537675 \nL 246.794332 195.537675 \nL 252.374326 195.537675 \nL 257.95432 195.537675 \nL 263.534315 195.537675 \nL 269.114309 195.537675 \nL 274.694304 195.537675 \nL 280.274298 195.537675 \nL 285.854292 195.537675 \nL 291.434287 195.537675 \nL 297.014281 195.537675 \nL 302.594276 195.537675 \nL 308.17427 195.537675 \nL 313.754265 195.537675 \nL 319.334259 195.537675 \nL 324.914253 195.537675 \nL 330.494248 195.537675 \nL 336.074242 195.537675 \nL 341.654237 195.537675 \nL 347.234231 195.537675 \nL 352.814225 195.537675 \nL 358.39422 195.537675 \nL 363.957474 195.537675 \n\" clip-path=\"url(#paa0d47ea62)\" style=\"fill: none; stroke: #9467bd; stroke-linecap: square\"/>\n   </g>\n   <g id=\"patch_3\">\n    <path d=\"M 29.157642 224.64 \nL 29.157642 7.2 \n\" style=\"fill: none; stroke: #000000; stroke-width: 0.8; stroke-linejoin: miter; stroke-linecap: square\"/>\n   </g>\n   <g id=\"patch_4\">\n    <path d=\"M 363.957642 224.64 \nL 363.957642 7.2 \n\" style=\"fill: none; stroke: #000000; stroke-width: 0.8; stroke-linejoin: miter; stroke-linecap: square\"/>\n   </g>\n   <g id=\"patch_5\">\n    <path d=\"M 29.157642 224.64 \nL 363.957642 224.64 \n\" style=\"fill: none; stroke: #000000; stroke-width: 0.8; stroke-linejoin: miter; stroke-linecap: square\"/>\n   </g>\n   <g id=\"patch_6\">\n    <path d=\"M 29.157642 7.2 \nL 363.957642 7.2 \n\" style=\"fill: none; stroke: #000000; stroke-width: 0.8; stroke-linejoin: miter; stroke-linecap: square\"/>\n   </g>\n   <g id=\"legend_1\">\n    <g id=\"line2d_21\">\n     <path d=\"M 241.83447 81.308511 \nL 253.83447 81.308511 \nL 265.83447 81.308511 \n\" style=\"fill: none; stroke: #1f77b4; stroke-linecap: square\"/>\n    </g>\n    <g id=\"text_17\">\n     <!-- $P_e$ GENROU 1 -->\n     <g transform=\"translate(275.43447 85.508511)scale(0.12 -0.12)\">\n      <defs>\n       <path id=\"CMMI12-50\" d=\"M 1894 2023 \nL 2970 2023 \nC 3853 2023 4736 2673 4736 3401 \nC 4736 3898 4314 4352 3507 4352 \nL 1530 4352 \nC 1408 4352 1350 4352 1350 4231 \nC 1350 4167 1408 4167 1504 4167 \nC 1894 4167 1894 4116 1894 4046 \nC 1894 4034 1894 3995 1869 3899 \nL 1005 472 \nC 947 249 934 185 486 185 \nC 365 185 301 185 301 70 \nC 301 0 358 0 397 0 \nC 518 0 646 0 768 0 \nL 1517 0 \nC 1638 0 1773 0 1894 0 \nC 1946 0 2016 0 2016 121 \nC 2016 185 1958 185 1862 185 \nC 1478 185 1472 230 1472 293 \nC 1472 325 1478 369 1485 401 \nL 1894 2023 \nz\nM 2355 3930 \nC 2413 4167 2438 4167 2688 4167 \nL 3322 4167 \nC 3802 4167 4198 4013 4198 3535 \nC 4198 3369 4115 2827 3821 2534 \nC 3712 2419 3405 2176 2822 2176 \nL 1920 2176 \nL 2355 3930 \nz\n\" transform=\"scale(0.015625)\"/>\n       <path id=\"CMMI12-65\" d=\"M 1146 1479 \nC 1318 1479 1754 1479 2061 1595 \nC 2547 1783 2592 2158 2592 2274 \nC 2592 2558 2349 2816 1926 2816 \nC 1254 2816 288 2210 288 1073 \nC 288 402 672 -64 1254 -64 \nC 2125 -64 2675 609 2675 692 \nC 2675 730 2637 762 2611 762 \nC 2592 762 2586 756 2528 699 \nC 2118 159 1510 64 1267 64 \nC 902 64 710 350 710 822 \nC 710 911 710 1071 806 1479 \nL 1146 1479 \nz\nM 838 1600 \nC 1114 2592 1722 2689 1926 2689 \nC 2208 2689 2400 2522 2400 2277 \nC 2400 1600 1376 1600 1107 1600 \nL 838 1600 \nz\n\" transform=\"scale(0.015625)\"/>\n       <path id=\"CMR17-47\" d=\"M 3974 1233 \nC 3974 1473 3994 1505 4390 1505 \nL 4390 1670 \nC 4237 1664 3891 1664 3718 1664 \nC 3539 1664 3040 1664 2797 1664 \nL 2797 1505 \nL 2989 1505 \nC 3539 1505 3552 1434 3552 1201 \nL 3552 774 \nC 3552 63 2720 63 2522 63 \nC 1862 63 781 511 781 2160 \nC 781 3808 1843 4250 2464 4250 \nC 3187 4250 3712 3626 3834 2741 \nC 3846 2664 3846 2651 3904 2651 \nC 3974 2651 3974 2664 3974 2779 \nL 3974 4288 \nC 3974 4402 3968 4409 3930 4409 \nC 3904 4409 3898 4402 3853 4326 \nL 3571 3791 \nC 3258 4187 2874 4416 2381 4416 \nC 1286 4416 294 3456 294 2148 \nC 294 845 1267 -128 2394 -128 \nC 2912 -128 3418 56 3616 417 \nC 3725 158 3904 -20 3936 -20 \nC 3968 -20 3974 -13 3974 100 \nL 3974 1233 \nz\n\" transform=\"scale(0.015625)\"/>\n       <path id=\"CMR17-45\" d=\"M 3885 1615 \nL 3770 1615 \nC 3629 676 3546 166 2419 166 \nL 1530 166 \nC 1274 166 1261 197 1261 414 \nL 1261 2176 \nL 1862 2176 \nC 2464 2176 2522 1960 2522 1430 \nL 2637 1430 \nL 2637 3081 \nL 2522 3081 \nC 2522 2557 2464 2342 1862 2342 \nL 1261 2342 \nL 1261 3913 \nC 1261 4128 1274 4160 1530 4160 \nL 2406 4160 \nC 3398 4160 3514 3769 3603 2929 \nL 3718 2929 \nL 3565 4325 \nL 326 4325 \nL 326 4160 \nC 768 4160 838 4160 838 3874 \nL 838 451 \nC 838 166 768 166 326 166 \nL 326 0 \nL 3654 0 \nL 3885 1615 \nz\n\" transform=\"scale(0.015625)\"/>\n       <path id=\"CMR17-4e\" d=\"M 1312 4250 \nC 1267 4320 1261 4320 1139 4320 \nL 326 4320 \nL 326 4160 \nL 448 4160 \nC 704 4160 819 4129 838 4122 \nL 838 610 \nC 838 451 838 153 326 153 \nL 326 -13 \nC 474 0 742 0 902 0 \nC 1062 0 1331 0 1478 -13 \nL 1478 153 \nC 966 153 966 451 966 610 \nL 966 4033 \nC 1011 3995 1011 3982 1056 3919 \nL 3430 76 \nC 3475 0 3494 0 3526 0 \nC 3590 0 3590 19 3590 139 \nL 3590 3705 \nC 3590 3863 3590 4160 4102 4160 \nL 4102 4326 \nC 3955 4320 3686 4320 3526 4320 \nC 3366 4320 3098 4320 2950 4326 \nL 2950 4160 \nC 3462 4160 3462 3862 3462 3703 \nL 3462 763 \nL 1312 4250 \nz\n\" transform=\"scale(0.015625)\"/>\n       <path id=\"CMR17-52\" d=\"M 2509 2146 \nC 3117 2268 3629 2676 3629 3186 \nC 3629 3785 2950 4326 2054 4326 \nL 333 4326 \nL 333 4160 \nC 774 4160 845 4160 845 3873 \nL 845 415 \nC 845 128 774 128 333 128 \nL 333 -26 \nC 518 -26 851 -26 1050 -26 \nC 1248 -26 1581 -26 1766 -26 \nL 1766 128 \nC 1325 128 1254 128 1254 417 \nL 1254 2112 \nL 2003 2112 \nC 2368 2112 2573 1964 2662 1881 \nC 2918 1632 2918 1459 2918 1024 \nC 2918 595 2918 377 3110 160 \nC 3354 -102 3680 -128 3821 -128 \nC 4294 -128 4365 396 4365 503 \nC 4365 540 4365 585 4307 585 \nC 4256 585 4250 547 4250 522 \nC 4218 112 4032 -26 3834 -26 \nC 3482 -26 3443 375 3405 764 \nC 3386 898 3373 993 3360 1133 \nC 3322 1452 3270 1917 2509 2146 \nz\nM 1984 2214 \nL 1254 2214 \nL 1254 3913 \nC 1254 4129 1267 4160 1523 4160 \nL 1990 4160 \nC 2522 4160 3142 3977 3142 3190 \nC 3142 2372 2464 2214 1984 2214 \nz\n\" transform=\"scale(0.015625)\"/>\n       <path id=\"CMR17-4f\" d=\"M 4307 2135 \nC 4307 3437 3366 4416 2304 4416 \nC 1216 4416 294 3424 294 2135 \nC 294 845 1229 -128 2298 -128 \nC 3392 -128 4307 864 4307 2135 \nz\nM 2304 -13 \nC 1574 -13 781 711 781 2217 \nC 781 3716 1651 4301 2298 4301 \nC 2976 4301 3821 3698 3821 2217 \nC 3821 686 3008 -13 2304 -13 \nz\n\" transform=\"scale(0.015625)\"/>\n       <path id=\"CMR17-55\" d=\"M 3456 1433 \nC 3456 579 2899 38 2291 38 \nC 1965 38 1670 210 1491 477 \nC 1286 783 1261 1178 1261 1401 \nL 1261 3874 \nC 1261 4160 1331 4160 1773 4160 \nL 1773 4320 \nC 1587 4320 1248 4320 1050 4320 \nC 851 4320 512 4320 326 4320 \nL 326 4160 \nC 768 4160 838 4160 838 3874 \nL 838 1433 \nC 838 516 1536 -128 2278 -128 \nC 3110 -128 3590 719 3590 1344 \nL 3590 3766 \nC 3590 4122 3917 4160 4102 4160 \nL 4102 4326 \nC 3955 4320 3686 4320 3526 4320 \nC 3366 4320 3091 4320 2944 4326 \nL 2944 4160 \nC 3456 4160 3456 3861 3456 3702 \nL 3456 1433 \nz\n\" transform=\"scale(0.015625)\"/>\n      </defs>\n      <use xlink:href=\"#CMMI12-50\" transform=\"scale(0.996264)\"/>\n      <use xlink:href=\"#CMMI12-65\" transform=\"translate(62.877232 -14.943915)scale(0.697382)\"/>\n      <use xlink:href=\"#CMR17-47\" transform=\"translate(125.099587 0)scale(0.996264)\"/>\n      <use xlink:href=\"#CMR17-45\" transform=\"translate(197.454933 0)scale(0.996264)\"/>\n      <use xlink:href=\"#CMR17-4e\" transform=\"translate(260.041233 0)scale(0.996264)\"/>\n      <use xlink:href=\"#CMR17-52\" transform=\"translate(329.113663 0)scale(0.996264)\"/>\n      <use xlink:href=\"#CMR17-4f\" transform=\"translate(394.302311 0)scale(0.996264)\"/>\n      <use xlink:href=\"#CMR17-55\" transform=\"translate(466.0171 0)scale(0.996264)\"/>\n      <use xlink:href=\"#CMR17-31\" transform=\"translate(565.165496 0)scale(0.996264)\"/>\n     </g>\n    </g>\n    <g id=\"line2d_22\">\n     <path d=\"M 241.83447 98.033106 \nL 253.83447 98.033106 \nL 265.83447 98.033106 \n\" style=\"fill: none; stroke-dasharray: 3.7,1.6; stroke-dashoffset: 0; stroke: #ff7f0e\"/>\n    </g>\n    <g id=\"text_18\">\n     <!-- $P_e$ GENROU 2 -->\n     <g transform=\"translate(275.43447 102.233106)scale(0.12 -0.12)\">\n      <use xlink:href=\"#CMMI12-50\" transform=\"scale(0.996264)\"/>\n      <use xlink:href=\"#CMMI12-65\" transform=\"translate(62.877232 -14.943915)scale(0.697382)\"/>\n      <use xlink:href=\"#CMR17-47\" transform=\"translate(125.099587 0)scale(0.996264)\"/>\n      <use xlink:href=\"#CMR17-45\" transform=\"translate(197.454933 0)scale(0.996264)\"/>\n      <use xlink:href=\"#CMR17-4e\" transform=\"translate(260.041233 0)scale(0.996264)\"/>\n      <use xlink:href=\"#CMR17-52\" transform=\"translate(329.113663 0)scale(0.996264)\"/>\n      <use xlink:href=\"#CMR17-4f\" transform=\"translate(394.302311 0)scale(0.996264)\"/>\n      <use xlink:href=\"#CMR17-55\" transform=\"translate(466.0171 0)scale(0.996264)\"/>\n      <use xlink:href=\"#CMR17-32\" transform=\"translate(565.165496 0)scale(0.996264)\"/>\n     </g>\n    </g>\n    <g id=\"line2d_23\">\n     <path d=\"M 241.83447 114.757702 \nL 253.83447 114.757702 \nL 265.83447 114.757702 \n\" style=\"fill: none; stroke-dasharray: 6.4,1.6,1,1.6; stroke-dashoffset: 0; stroke: #2ca02c\"/>\n    </g>\n    <g id=\"text_19\">\n     <!-- $P_e$ GENROU 3 -->\n     <g transform=\"translate(275.43447 118.957702)scale(0.12 -0.12)\">\n      <use xlink:href=\"#CMMI12-50\" transform=\"scale(0.996264)\"/>\n      <use xlink:href=\"#CMMI12-65\" transform=\"translate(62.877232 -14.943915)scale(0.697382)\"/>\n      <use xlink:href=\"#CMR17-47\" transform=\"translate(125.099587 0)scale(0.996264)\"/>\n      <use xlink:href=\"#CMR17-45\" transform=\"translate(197.454933 0)scale(0.996264)\"/>\n      <use xlink:href=\"#CMR17-4e\" transform=\"translate(260.041233 0)scale(0.996264)\"/>\n      <use xlink:href=\"#CMR17-52\" transform=\"translate(329.113663 0)scale(0.996264)\"/>\n      <use xlink:href=\"#CMR17-4f\" transform=\"translate(394.302311 0)scale(0.996264)\"/>\n      <use xlink:href=\"#CMR17-55\" transform=\"translate(466.0171 0)scale(0.996264)\"/>\n      <use xlink:href=\"#CMR17-33\" transform=\"translate(565.165496 0)scale(0.996264)\"/>\n     </g>\n    </g>\n    <g id=\"line2d_24\">\n     <path d=\"M 241.83447 131.482298 \nL 253.83447 131.482298 \nL 265.83447 131.482298 \n\" style=\"fill: none; stroke-dasharray: 1,1.65; stroke-dashoffset: 0; stroke: #d62728\"/>\n    </g>\n    <g id=\"text_20\">\n     <!-- $P_e$ GENROU 4 -->\n     <g transform=\"translate(275.43447 135.682298)scale(0.12 -0.12)\">\n      <use xlink:href=\"#CMMI12-50\" transform=\"scale(0.996264)\"/>\n      <use xlink:href=\"#CMMI12-65\" transform=\"translate(62.877232 -14.943915)scale(0.697382)\"/>\n      <use xlink:href=\"#CMR17-47\" transform=\"translate(125.099587 0)scale(0.996264)\"/>\n      <use xlink:href=\"#CMR17-45\" transform=\"translate(197.454933 0)scale(0.996264)\"/>\n      <use xlink:href=\"#CMR17-4e\" transform=\"translate(260.041233 0)scale(0.996264)\"/>\n      <use xlink:href=\"#CMR17-52\" transform=\"translate(329.113663 0)scale(0.996264)\"/>\n      <use xlink:href=\"#CMR17-4f\" transform=\"translate(394.302311 0)scale(0.996264)\"/>\n      <use xlink:href=\"#CMR17-55\" transform=\"translate(466.0171 0)scale(0.996264)\"/>\n      <use xlink:href=\"#CMR17-34\" transform=\"translate(565.165496 0)scale(0.996264)\"/>\n     </g>\n    </g>\n    <g id=\"line2d_25\">\n     <path d=\"M 241.83447 148.206894 \nL 253.83447 148.206894 \nL 265.83447 148.206894 \n\" style=\"fill: none; stroke: #9467bd; stroke-linecap: square\"/>\n    </g>\n    <g id=\"text_21\">\n     <!-- $P_e$ GENROU 5 -->\n     <g transform=\"translate(275.43447 152.406894)scale(0.12 -0.12)\">\n      <use xlink:href=\"#CMMI12-50\" transform=\"scale(0.996264)\"/>\n      <use xlink:href=\"#CMMI12-65\" transform=\"translate(62.877232 -14.943915)scale(0.697382)\"/>\n      <use xlink:href=\"#CMR17-47\" transform=\"translate(125.099587 0)scale(0.996264)\"/>\n      <use xlink:href=\"#CMR17-45\" transform=\"translate(197.454933 0)scale(0.996264)\"/>\n      <use xlink:href=\"#CMR17-4e\" transform=\"translate(260.041233 0)scale(0.996264)\"/>\n      <use xlink:href=\"#CMR17-52\" transform=\"translate(329.113663 0)scale(0.996264)\"/>\n      <use xlink:href=\"#CMR17-4f\" transform=\"translate(394.302311 0)scale(0.996264)\"/>\n      <use xlink:href=\"#CMR17-55\" transform=\"translate(466.0171 0)scale(0.996264)\"/>\n      <use xlink:href=\"#CMR17-35\" transform=\"translate(565.165496 0)scale(0.996264)\"/>\n     </g>\n    </g>\n   </g>\n  </g>\n </g>\n <defs>\n  <clipPath id=\"paa0d47ea62\">\n   <rect x=\"29.157642\" y=\"7.2\" width=\"334.8\" height=\"217.44\"/>\n  </clipPath>\n </defs>\n</svg>\n",
      "text/plain": [
       "<Figure size 600x400 with 1 Axes>"
      ]
     },
     "metadata": {
      "needs_background": "light"
     },
     "output_type": "display_data"
    },
    {
     "data": {
      "text/plain": [
       "(<Figure size 600x400 with 1 Axes>, <AxesSubplot:xlabel='Time [s]'>)"
      ]
     },
     "execution_count": 78,
     "metadata": {},
     "output_type": "execute_result"
    }
   ],
   "source": [
    "ssa.TDS.config.tf = 2\n",
    "ssa.TDS.run()\n",
    "\n",
    "ssa.TDS.plt.plot(ssa.GENROU.Pe)"
   ]
  },
  {
   "cell_type": "markdown",
   "metadata": {},
   "source": [
    "Get the OPF results from pandapower. The `ssp_res` has beed converted to p.u.."
   ]
  },
  {
   "cell_type": "code",
   "execution_count": 79,
   "metadata": {},
   "outputs": [
    {
     "data": {
      "text/html": [
       "<div>\n",
       "<style scoped>\n",
       "    .dataframe tbody tr th:only-of-type {\n",
       "        vertical-align: middle;\n",
       "    }\n",
       "\n",
       "    .dataframe tbody tr th {\n",
       "        vertical-align: top;\n",
       "    }\n",
       "\n",
       "    .dataframe thead th {\n",
       "        text-align: right;\n",
       "    }\n",
       "</style>\n",
       "<table border=\"1\" class=\"dataframe\">\n",
       "  <thead>\n",
       "    <tr style=\"text-align: right;\">\n",
       "      <th></th>\n",
       "      <th>name</th>\n",
       "      <th>p</th>\n",
       "      <th>q</th>\n",
       "      <th>vm_pu</th>\n",
       "      <th>bus</th>\n",
       "      <th>bus_name</th>\n",
       "      <th>gov_idx</th>\n",
       "      <th>stg_idx</th>\n",
       "      <th>exc_idx</th>\n",
       "    </tr>\n",
       "  </thead>\n",
       "  <tbody>\n",
       "    <tr>\n",
       "      <th>0</th>\n",
       "      <td>2</td>\n",
       "      <td>0.500000</td>\n",
       "      <td>0.129214</td>\n",
       "      <td>1.096908</td>\n",
       "      <td>1</td>\n",
       "      <td>BUS2</td>\n",
       "      <td>TGOV1_2</td>\n",
       "      <td>2</td>\n",
       "      <td>EXST1_1</td>\n",
       "    </tr>\n",
       "    <tr>\n",
       "      <th>1</th>\n",
       "      <td>3</td>\n",
       "      <td>0.412728</td>\n",
       "      <td>0.149999</td>\n",
       "      <td>1.082554</td>\n",
       "      <td>2</td>\n",
       "      <td>BUS3</td>\n",
       "      <td>TGOV1_3</td>\n",
       "      <td>3</td>\n",
       "      <td>ESST3A_3</td>\n",
       "    </tr>\n",
       "    <tr>\n",
       "      <th>2</th>\n",
       "      <td>4</td>\n",
       "      <td>0.343962</td>\n",
       "      <td>0.099999</td>\n",
       "      <td>1.086078</td>\n",
       "      <td>5</td>\n",
       "      <td>BUS6</td>\n",
       "      <td>TGOV1_4</td>\n",
       "      <td>4</td>\n",
       "      <td>ESST3A_4</td>\n",
       "    </tr>\n",
       "    <tr>\n",
       "      <th>3</th>\n",
       "      <td>5</td>\n",
       "      <td>0.496196</td>\n",
       "      <td>0.085231</td>\n",
       "      <td>1.099999</td>\n",
       "      <td>7</td>\n",
       "      <td>BUS8</td>\n",
       "      <td>TGOV1_5</td>\n",
       "      <td>5</td>\n",
       "      <td>1</td>\n",
       "    </tr>\n",
       "    <tr>\n",
       "      <th>4</th>\n",
       "      <td>1</td>\n",
       "      <td>0.500000</td>\n",
       "      <td>-0.079092</td>\n",
       "      <td>1.100000</td>\n",
       "      <td>0</td>\n",
       "      <td>BUS1</td>\n",
       "      <td>TGOV1_1</td>\n",
       "      <td>1</td>\n",
       "      <td>ESST3A_2</td>\n",
       "    </tr>\n",
       "  </tbody>\n",
       "</table>\n",
       "</div>"
      ],
      "text/plain": [
       "  name         p         q     vm_pu  bus bus_name  gov_idx stg_idx   exc_idx\n",
       "0    2  0.500000  0.129214  1.096908    1     BUS2  TGOV1_2       2   EXST1_1\n",
       "1    3  0.412728  0.149999  1.082554    2     BUS3  TGOV1_3       3  ESST3A_3\n",
       "2    4  0.343962  0.099999  1.086078    5     BUS6  TGOV1_4       4  ESST3A_4\n",
       "3    5  0.496196  0.085231  1.099999    7     BUS8  TGOV1_5       5         1\n",
       "4    1  0.500000 -0.079092  1.100000    0     BUS1  TGOV1_1       1  ESST3A_2"
      ]
     },
     "execution_count": 79,
     "metadata": {},
     "output_type": "execute_result"
    }
   ],
   "source": [
    "ssp_res = opp_res(ssp, ssa_key)\n",
    "ssp_res"
   ]
  },
  {
   "cell_type": "markdown",
   "metadata": {},
   "source": [
    "Now dispatch the resutls into `ssa`, where the active power setpoitns are updated to `TurbinGov.pref0`."
   ]
  },
  {
   "cell_type": "code",
   "execution_count": 80,
   "metadata": {},
   "outputs": [
    {
     "data": {
      "text/plain": [
       "array([0.49999999, 0.41272757, 0.34396221, 0.49619557, 0.50000009])"
      ]
     },
     "execution_count": 80,
     "metadata": {},
     "output_type": "execute_result"
    }
   ],
   "source": [
    "ssa_gov_idx = list(ssp_res['gov_idx'][~ssp_res['gov_idx'].isna()])\n",
    "ssa.TurbineGov.set(src='pref0', idx=ssa_gov_idx, attr='v', value=ssp_res['p'][~ssp_res['gov_idx'].isna()])\n",
    "ssa.TurbineGov.get(src='pref0', idx=ssa_gov_idx, attr='v')"
   ]
  },
  {
   "cell_type": "markdown",
   "metadata": {},
   "source": [
    "Now run the TDS to 50s."
   ]
  },
  {
   "cell_type": "code",
   "execution_count": 81,
   "metadata": {},
   "outputs": [
    {
     "name": "stdout",
     "output_type": "stream",
     "text": [
      "100%|########################################| 100.0/100 [00:04<00:00, 21.66%/s]"
     ]
    },
    {
     "name": "stderr",
     "output_type": "stream",
     "text": [
      "Simulation completed in 4.6166 seconds.\n"
     ]
    },
    {
     "name": "stdout",
     "output_type": "stream",
     "text": [
      "\n"
     ]
    },
    {
     "data": {
      "text/plain": [
       "True"
      ]
     },
     "execution_count": 81,
     "metadata": {},
     "output_type": "execute_result"
    }
   ],
   "source": [
    "ssa.TDS.config.tf = 50\n",
    "ssa.TDS.run()"
   ]
  },
  {
   "cell_type": "markdown",
   "metadata": {},
   "source": [
    "We can see the output of `GENROU` are rearranged by the OPF results."
   ]
  },
  {
   "cell_type": "code",
   "execution_count": 82,
   "metadata": {},
   "outputs": [
    {
     "data": {
      "image/png": "[encoded data removed]",
      "image/svg+xml": "<?xml version=\"1.0\" encoding=\"utf-8\" standalone=\"no\"?>\n<!DOCTYPE svg PUBLIC \"-//W3C//DTD SVG 1.1//EN\"\n  \"http://www.w3.org/Graphics/SVG/1.1/DTD/svg11.dtd\">\n<svg xmlns:xlink=\"http://www.w3.org/1999/xlink\" width=\"377.010625pt\" height=\"265.421944pt\" viewBox=\"0 0 377.010625 265.421944\" xmlns=\"http://www.w3.org/2000/svg\" version=\"1.1\">\n <metadata>\n  <rdf:RDF xmlns:dc=\"http://purl.org/dc/elements/1.1/\" xmlns:cc=\"http://creativecommons.org/ns#\" xmlns:rdf=\"http://www.w3.org/1999/02/22-rdf-syntax-ns#\">\n   <cc:Work>\n    <dc:type rdf:resource=\"http://purl.org/dc/dcmitype/StillImage\"/>\n    <dc:date>2022-03-11T22:31:50.657064</dc:date>\n    <dc:format>image/svg+xml</dc:format>\n    <dc:creator>\n     <cc:Agent>\n      <dc:title>Matplotlib v3.5.1, https://matplotlib.org/</dc:title>\n     </cc:Agent>\n    </dc:creator>\n   </cc:Work>\n  </rdf:RDF>\n </metadata>\n <defs>\n  <style type=\"text/css\">*{stroke-linejoin: round; stroke-linecap: butt}</style>\n </defs>\n <g id=\"figure_1\">\n  <g id=\"patch_1\">\n   <path d=\"M 0 265.421944 \nL 377.010625 265.421944 \nL 377.010625 0 \nL 0 0 \nL 0 265.421944 \nz\n\" style=\"fill: none\"/>\n  </g>\n  <g id=\"axes_1\">\n   <g id=\"patch_2\">\n    <path d=\"M 29.157642 224.64 \nL 363.957642 224.64 \nL 363.957642 7.2 \nL 29.157642 7.2 \nz\n\" style=\"fill: #ffffff\"/>\n   </g>\n   <g id=\"matplotlib.axis_1\">\n    <g id=\"xtick_1\">\n     <g id=\"line2d_1\">\n      <defs>\n       <path id=\"m8d9a34135e\" d=\"M 0 0 \nL 0 3.5 \n\" style=\"stroke: #000000; stroke-width: 0.8\"/>\n      </defs>\n      <g>\n       <use xlink:href=\"#m8d9a34135e\" x=\"29.157648\" y=\"224.64\" style=\"stroke: #000000; stroke-width: 0.8\"/>\n      </g>\n     </g>\n     <g id=\"text_1\">\n      <!-- $\\mathdefault{0}$ -->\n      <g transform=\"translate(26.231153 239.94218)scale(0.12 -0.12)\">\n       <defs>\n        <path id=\"CMR17-30\" d=\"M 2688 2025 \nC 2688 2416 2682 3080 2413 3591 \nC 2176 4039 1798 4198 1466 4198 \nC 1158 4198 768 4058 525 3597 \nC 269 3118 243 2524 243 2025 \nC 243 1661 250 1106 448 619 \nC 723 -39 1216 -128 1466 -128 \nC 1760 -128 2208 -7 2470 600 \nC 2662 1042 2688 1559 2688 2025 \nz\nM 1466 -26 \nC 1056 -26 813 325 723 812 \nC 653 1188 653 1738 653 2096 \nC 653 2588 653 2997 736 3387 \nC 858 3929 1216 4096 1466 4096 \nC 1728 4096 2067 3923 2189 3400 \nC 2272 3036 2278 2607 2278 2096 \nC 2278 1680 2278 1169 2202 792 \nC 2067 95 1690 -26 1466 -26 \nz\n\" transform=\"scale(0.015625)\"/>\n       </defs>\n       <use xlink:href=\"#CMR17-30\" transform=\"scale(0.996264)\"/>\n      </g>\n     </g>\n    </g>\n    <g id=\"xtick_2\">\n     <g id=\"line2d_2\">\n      <g>\n       <use xlink:href=\"#m8d9a34135e\" x=\"96.117646\" y=\"224.64\" style=\"stroke: #000000; stroke-width: 0.8\"/>\n      </g>\n     </g>\n     <g id=\"text_2\">\n      <!-- $\\mathdefault{10}$ -->\n      <g transform=\"translate(90.264656 239.94218)scale(0.12 -0.12)\">\n       <defs>\n        <path id=\"CMR17-31\" d=\"M 1702 4058 \nC 1702 4192 1696 4192 1606 4192 \nC 1357 3916 979 3827 621 3827 \nC 602 3827 570 3827 563 3808 \nC 557 3795 557 3782 557 3648 \nC 755 3648 1088 3686 1344 3839 \nL 1344 461 \nC 1344 236 1331 160 781 160 \nL 589 160 \nL 589 0 \nC 896 0 1216 0 1523 0 \nC 1830 0 2150 0 2458 0 \nL 2458 160 \nL 2266 160 \nC 1715 160 1702 230 1702 458 \nL 1702 4058 \nz\n\" transform=\"scale(0.015625)\"/>\n       </defs>\n       <use xlink:href=\"#CMR17-31\" transform=\"scale(0.996264)\"/>\n       <use xlink:href=\"#CMR17-30\" transform=\"translate(45.690477 0)scale(0.996264)\"/>\n      </g>\n     </g>\n    </g>\n    <g id=\"xtick_3\">\n     <g id=\"line2d_3\">\n      <g>\n       <use xlink:href=\"#m8d9a34135e\" x=\"163.077643\" y=\"224.64\" style=\"stroke: #000000; stroke-width: 0.8\"/>\n      </g>\n     </g>\n     <g id=\"text_3\">\n      <!-- $\\mathdefault{20}$ -->\n      <g transform=\"translate(157.224653 239.94218)scale(0.12 -0.12)\">\n       <defs>\n        <path id=\"CMR17-32\" d=\"M 2669 989 \nL 2554 989 \nC 2490 536 2438 459 2413 420 \nC 2381 369 1920 369 1830 369 \nL 602 369 \nC 832 619 1280 1072 1824 1597 \nC 2214 1967 2669 2402 2669 3035 \nC 2669 3790 2067 4224 1395 4224 \nC 691 4224 262 3604 262 3030 \nC 262 2780 448 2748 525 2748 \nC 589 2748 781 2787 781 3010 \nC 781 3207 614 3264 525 3264 \nC 486 3264 448 3258 422 3245 \nC 544 3790 915 4058 1306 4058 \nC 1862 4058 2227 3617 2227 3035 \nC 2227 2479 1901 2000 1536 1584 \nL 262 146 \nL 262 0 \nL 2515 0 \nL 2669 989 \nz\n\" transform=\"scale(0.015625)\"/>\n       </defs>\n       <use xlink:href=\"#CMR17-32\" transform=\"scale(0.996264)\"/>\n       <use xlink:href=\"#CMR17-30\" transform=\"translate(45.690477 0)scale(0.996264)\"/>\n      </g>\n     </g>\n    </g>\n    <g id=\"xtick_4\">\n     <g id=\"line2d_4\">\n      <g>\n       <use xlink:href=\"#m8d9a34135e\" x=\"230.03764\" y=\"224.64\" style=\"stroke: #000000; stroke-width: 0.8\"/>\n      </g>\n     </g>\n     <g id=\"text_4\">\n      <!-- $\\mathdefault{30}$ -->\n      <g transform=\"translate(224.18465 239.94218)scale(0.12 -0.12)\">\n       <defs>\n        <path id=\"CMR17-33\" d=\"M 1414 2157 \nC 1984 2157 2234 1662 2234 1090 \nC 2234 320 1824 25 1453 25 \nC 1114 25 563 194 390 693 \nC 422 680 454 680 486 680 \nC 640 680 755 782 755 948 \nC 755 1133 614 1216 486 1216 \nC 378 1216 211 1165 211 926 \nC 211 335 787 -128 1466 -128 \nC 2176 -128 2720 430 2720 1085 \nC 2720 1707 2208 2157 1600 2227 \nC 2086 2328 2554 2756 2554 3329 \nC 2554 3820 2048 4179 1472 4179 \nC 890 4179 378 3829 378 3329 \nC 378 3110 544 3072 627 3072 \nC 762 3072 877 3155 877 3321 \nC 877 3486 762 3569 627 3569 \nC 602 3569 570 3569 544 3557 \nC 730 3959 1235 4032 1459 4032 \nC 1683 4032 2106 3925 2106 3320 \nC 2106 3143 2080 2828 1862 2550 \nC 1670 2304 1453 2304 1242 2284 \nC 1210 2284 1062 2269 1037 2269 \nC 992 2263 966 2257 966 2208 \nC 966 2163 973 2157 1101 2157 \nL 1414 2157 \nz\n\" transform=\"scale(0.015625)\"/>\n       </defs>\n       <use xlink:href=\"#CMR17-33\" transform=\"scale(0.996264)\"/>\n       <use xlink:href=\"#CMR17-30\" transform=\"translate(45.690477 0)scale(0.996264)\"/>\n      </g>\n     </g>\n    </g>\n    <g id=\"xtick_5\">\n     <g id=\"line2d_5\">\n      <g>\n       <use xlink:href=\"#m8d9a34135e\" x=\"296.997638\" y=\"224.64\" style=\"stroke: #000000; stroke-width: 0.8\"/>\n      </g>\n     </g>\n     <g id=\"text_5\">\n      <!-- $\\mathdefault{40}$ -->\n      <g transform=\"translate(291.144647 239.94218)scale(0.12 -0.12)\">\n       <defs>\n        <path id=\"CMR17-34\" d=\"M 2150 4122 \nC 2150 4256 2144 4256 2029 4256 \nL 128 1254 \nL 128 1088 \nL 1779 1088 \nL 1779 457 \nC 1779 224 1766 160 1318 160 \nL 1197 160 \nL 1197 0 \nC 1402 0 1747 0 1965 0 \nC 2182 0 2528 0 2733 0 \nL 2733 160 \nL 2611 160 \nC 2163 160 2150 224 2150 457 \nL 2150 1088 \nL 2803 1088 \nL 2803 1254 \nL 2150 1254 \nL 2150 4122 \nz\nM 1798 3703 \nL 1798 1254 \nL 256 1254 \nL 1798 3703 \nz\n\" transform=\"scale(0.015625)\"/>\n       </defs>\n       <use xlink:href=\"#CMR17-34\" transform=\"scale(0.996264)\"/>\n       <use xlink:href=\"#CMR17-30\" transform=\"translate(45.690477 0)scale(0.996264)\"/>\n      </g>\n     </g>\n    </g>\n    <g id=\"xtick_6\">\n     <g id=\"line2d_6\">\n      <g>\n       <use xlink:href=\"#m8d9a34135e\" x=\"363.957635\" y=\"224.64\" style=\"stroke: #000000; stroke-width: 0.8\"/>\n      </g>\n     </g>\n     <g id=\"text_6\">\n      <!-- $\\mathdefault{50}$ -->\n      <g transform=\"translate(358.104645 239.94218)scale(0.12 -0.12)\">\n       <defs>\n        <path id=\"CMR17-35\" d=\"M 730 3692 \nC 794 3666 1056 3584 1325 3584 \nC 1920 3584 2246 3911 2432 4100 \nC 2432 4157 2432 4192 2394 4192 \nC 2387 4192 2374 4192 2323 4163 \nC 2099 4058 1837 3973 1517 3973 \nC 1325 3973 1037 3999 723 4139 \nC 653 4171 640 4171 634 4171 \nC 602 4171 595 4164 595 4037 \nL 595 2203 \nC 595 2089 595 2057 659 2057 \nC 691 2057 704 2070 736 2114 \nC 941 2401 1222 2522 1542 2522 \nC 1766 2522 2246 2382 2246 1289 \nC 2246 1085 2246 715 2054 421 \nC 1894 159 1645 25 1370 25 \nC 947 25 518 320 403 814 \nC 429 807 480 795 506 795 \nC 589 795 749 840 749 1038 \nC 749 1210 627 1280 506 1280 \nC 358 1280 262 1190 262 1011 \nC 262 454 704 -128 1382 -128 \nC 2042 -128 2669 440 2669 1264 \nC 2669 2030 2170 2624 1549 2624 \nC 1222 2624 947 2503 730 2274 \nL 730 3692 \nz\n\" transform=\"scale(0.015625)\"/>\n       </defs>\n       <use xlink:href=\"#CMR17-35\" transform=\"scale(0.996264)\"/>\n       <use xlink:href=\"#CMR17-30\" transform=\"translate(45.690477 0)scale(0.996264)\"/>\n      </g>\n     </g>\n    </g>\n    <g id=\"text_7\">\n     <!-- Time [s] -->\n     <g transform=\"translate(175.714493 255.233152)scale(0.12 -0.12)\">\n      <defs>\n       <path id=\"CMR17-54\" d=\"M 3981 4326 \nL 288 4326 \nL 179 2918 \nL 294 2918 \nC 378 3976 467 4160 1453 4160 \nC 1568 4160 1754 4160 1805 4154 \nC 1926 4135 1926 4058 1926 3912 \nL 1926 459 \nC 1926 230 1907 160 1376 160 \nL 1197 160 \nL 1197 0 \nC 1504 0 1824 0 2138 0 \nC 2451 0 2771 0 3078 0 \nL 3078 160 \nL 2899 160 \nC 2368 160 2349 230 2349 459 \nL 2349 3912 \nC 2349 4052 2349 4129 2464 4154 \nC 2515 4160 2701 4160 2816 4160 \nC 3795 4160 3891 3976 3974 2918 \nL 4090 2918 \nL 3981 4326 \nz\n\" transform=\"scale(0.015625)\"/>\n       <path id=\"CMR17-69\" d=\"M 992 3909 \nC 992 4049 877 4170 730 4170 \nC 589 4170 467 4056 467 3909 \nC 467 3769 582 3648 730 3648 \nC 870 3648 992 3763 992 3909 \nz\nM 243 2706 \nL 243 2541 \nC 602 2541 653 2502 653 2197 \nL 653 427 \nC 653 184 627 153 218 153 \nL 218 -13 \nC 371 0 646 0 806 0 \nC 960 0 1222 0 1370 -13 \nL 1370 153 \nC 992 153 979 191 979 420 \nL 979 2776 \nL 243 2706 \nz\n\" transform=\"scale(0.015625)\"/>\n       <path id=\"CMR17-6d\" d=\"M 4326 1933 \nC 4326 2252 4269 2790 3507 2790 \nC 3072 2790 2771 2496 2656 2151 \nL 2650 2151 \nC 2573 2676 2195 2790 1837 2790 \nC 1331 2790 1069 2400 973 2144 \nL 966 2144 \nL 966 2790 \nL 211 2720 \nL 211 2554 \nC 589 2554 646 2515 646 2208 \nL 646 428 \nC 646 184 621 153 211 153 \nL 211 -13 \nC 365 0 646 0 813 0 \nC 979 0 1267 0 1421 -13 \nL 1421 153 \nC 1011 153 986 178 986 428 \nL 986 1658 \nC 986 2247 1344 2688 1792 2688 \nC 2266 2688 2317 2266 2317 1958 \nL 2317 428 \nC 2317 184 2291 153 1882 153 \nL 1882 -13 \nC 2035 0 2317 0 2483 0 \nC 2650 0 2938 0 3091 -13 \nL 3091 153 \nC 2682 153 2656 178 2656 428 \nL 2656 1658 \nC 2656 2247 3014 2688 3462 2688 \nC 3936 2688 3987 2266 3987 1958 \nL 3987 428 \nC 3987 184 3962 153 3552 153 \nL 3552 -13 \nC 3706 0 3987 0 4154 0 \nC 4320 0 4608 0 4762 -13 \nL 4762 153 \nC 4352 153 4326 178 4326 428 \nL 4326 1933 \nz\n\" transform=\"scale(0.015625)\"/>\n       <path id=\"CMR17-65\" d=\"M 2438 1472 \nC 2464 1498 2464 1511 2464 1576 \nC 2464 2238 2118 2816 1389 2816 \nC 710 2816 173 2169 173 1383 \nC 173 551 781 -64 1459 -64 \nC 2176 -64 2458 607 2458 740 \nC 2458 784 2419 784 2406 784 \nC 2362 784 2355 771 2330 696 \nC 2189 265 1837 51 1504 51 \nC 1229 51 954 203 781 480 \nC 582 803 582 1176 582 1472 \nL 2438 1472 \nz\nM 589 1568 \nC 634 2505 1126 2714 1382 2714 \nC 1818 2714 2112 2297 2118 1568 \nL 589 1568 \nz\n\" transform=\"scale(0.015625)\"/>\n       <path id=\"CMR17-5b\" d=\"M 1504 -1600 \nL 1504 -1377 \nL 902 -1377 \nL 902 4544 \nL 1504 4544 \nL 1504 4767 \nL 678 4767 \nL 678 -1600 \nL 1504 -1600 \nz\n\" transform=\"scale(0.015625)\"/>\n       <path id=\"CMR17-73\" d=\"M 1978 2697 \nC 1978 2813 1971 2819 1933 2819 \nC 1907 2819 1901 2813 1824 2717 \nC 1805 2691 1747 2626 1728 2601 \nC 1523 2819 1235 2819 1126 2819 \nC 416 2819 160 2447 160 2076 \nC 160 1498 813 1365 998 1325 \nC 1402 1243 1542 1217 1677 1101 \nC 1760 1025 1901 884 1901 654 \nC 1901 384 1747 38 1158 38 \nC 602 38 403 460 288 1021 \nC 269 1110 269 1117 218 1117 \nC 166 1117 160 1110 160 983 \nL 160 63 \nC 160 -51 166 -58 205 -58 \nC 237 -58 243 -51 275 0 \nC 314 57 410 211 448 276 \nC 576 103 800 -64 1158 -64 \nC 1792 -64 2131 283 2131 784 \nC 2131 1112 1958 1285 1875 1362 \nC 1683 1561 1459 1606 1190 1657 \nC 838 1735 390 1825 390 2217 \nC 390 2383 480 2737 1126 2737 \nC 1811 2737 1850 2094 1862 1888 \nC 1869 1856 1901 1849 1920 1849 \nC 1978 1849 1978 1869 1978 1978 \nL 1978 2697 \nz\n\" transform=\"scale(0.015625)\"/>\n       <path id=\"CMR17-5d\" d=\"M 915 4767 \nL 90 4767 \nL 90 4544 \nL 691 4544 \nL 691 -1377 \nL 90 -1377 \nL 90 -1600 \nL 915 -1600 \nL 915 4767 \nz\n\" transform=\"scale(0.015625)\"/>\n      </defs>\n      <use xlink:href=\"#CMR17-54\" transform=\"scale(0.996264)\"/>\n      <use xlink:href=\"#CMR17-69\" transform=\"translate(66.509881 0)scale(0.996264)\"/>\n      <use xlink:href=\"#CMR17-6d\" transform=\"translate(91.380939 0)scale(0.996264)\"/>\n      <use xlink:href=\"#CMR17-65\" transform=\"translate(168.300529 0)scale(0.996264)\"/>\n      <use xlink:href=\"#CMR17-5b\" transform=\"translate(238.862156 0)scale(0.996264)\"/>\n      <use xlink:href=\"#CMR17-73\" transform=\"translate(263.733214 0)scale(0.996264)\"/>\n      <use xlink:href=\"#CMR17-5d\" transform=\"translate(299.534552 0)scale(0.996264)\"/>\n     </g>\n    </g>\n   </g>\n   <g id=\"matplotlib.axis_2\">\n    <g id=\"ytick_1\">\n     <g id=\"line2d_7\">\n      <defs>\n       <path id=\"mbebf228c89\" d=\"M 0 0 \nL -3.5 0 \n\" style=\"stroke: #000000; stroke-width: 0.8\"/>\n      </defs>\n      <g>\n       <use xlink:href=\"#mbebf228c89\" x=\"29.157642\" y=\"214.756364\" style=\"stroke: #000000; stroke-width: 0.8\"/>\n      </g>\n     </g>\n     <g id=\"text_8\">\n      <!-- $\\mathdefault{0.3}$ -->\n      <g transform=\"translate(7.2 218.907454)scale(0.12 -0.12)\">\n       <defs>\n        <path id=\"CMMI12-3a\" d=\"M 1178 307 \nC 1178 492 1024 619 870 619 \nC 685 619 557 466 557 313 \nC 557 128 710 0 864 0 \nC 1050 0 1178 153 1178 307 \nz\n\" transform=\"scale(0.015625)\"/>\n       </defs>\n       <use xlink:href=\"#CMR17-30\" transform=\"scale(0.996264)\"/>\n       <use xlink:href=\"#CMMI12-3a\" transform=\"translate(45.690477 0)scale(0.996264)\"/>\n       <use xlink:href=\"#CMR17-33\" transform=\"translate(72.787654 0)scale(0.996264)\"/>\n      </g>\n     </g>\n    </g>\n    <g id=\"ytick_2\">\n     <g id=\"line2d_8\">\n      <g>\n       <use xlink:href=\"#mbebf228c89\" x=\"29.157642\" y=\"176.318986\" style=\"stroke: #000000; stroke-width: 0.8\"/>\n      </g>\n     </g>\n     <g id=\"text_9\">\n      <!-- $\\mathdefault{0.4}$ -->\n      <g transform=\"translate(7.2 180.470076)scale(0.12 -0.12)\">\n       <use xlink:href=\"#CMR17-30\" transform=\"scale(0.996264)\"/>\n       <use xlink:href=\"#CMMI12-3a\" transform=\"translate(45.690477 0)scale(0.996264)\"/>\n       <use xlink:href=\"#CMR17-34\" transform=\"translate(72.787654 0)scale(0.996264)\"/>\n      </g>\n     </g>\n    </g>\n    <g id=\"ytick_3\">\n     <g id=\"line2d_9\">\n      <g>\n       <use xlink:href=\"#mbebf228c89\" x=\"29.157642\" y=\"137.881608\" style=\"stroke: #000000; stroke-width: 0.8\"/>\n      </g>\n     </g>\n     <g id=\"text_10\">\n      <!-- $\\mathdefault{0.5}$ -->\n      <g transform=\"translate(7.2 142.032698)scale(0.12 -0.12)\">\n       <use xlink:href=\"#CMR17-30\" transform=\"scale(0.996264)\"/>\n       <use xlink:href=\"#CMMI12-3a\" transform=\"translate(45.690477 0)scale(0.996264)\"/>\n       <use xlink:href=\"#CMR17-35\" transform=\"translate(72.787654 0)scale(0.996264)\"/>\n      </g>\n     </g>\n    </g>\n    <g id=\"ytick_4\">\n     <g id=\"line2d_10\">\n      <g>\n       <use xlink:href=\"#mbebf228c89\" x=\"29.157642\" y=\"99.44423\" style=\"stroke: #000000; stroke-width: 0.8\"/>\n      </g>\n     </g>\n     <g id=\"text_11\">\n      <!-- $\\mathdefault{0.6}$ -->\n      <g transform=\"translate(7.2 103.59532)scale(0.12 -0.12)\">\n       <defs>\n        <path id=\"CMR17-36\" d=\"M 678 2176 \nC 678 3690 1395 4032 1811 4032 \nC 1946 4032 2272 4009 2400 3776 \nC 2298 3776 2106 3776 2106 3553 \nC 2106 3381 2246 3323 2336 3323 \nC 2394 3323 2566 3348 2566 3560 \nC 2566 3954 2246 4179 1805 4179 \nC 1043 4179 243 3390 243 1984 \nC 243 253 966 -128 1478 -128 \nC 2099 -128 2688 427 2688 1283 \nC 2688 2081 2170 2662 1517 2662 \nC 1126 2662 838 2407 678 1960 \nL 678 2176 \nz\nM 1478 25 \nC 691 25 691 1200 691 1436 \nC 691 1896 909 2560 1504 2560 \nC 1613 2560 1926 2560 2138 2120 \nC 2253 1870 2253 1609 2253 1289 \nC 2253 944 2253 690 2118 434 \nC 1978 171 1773 25 1478 25 \nz\n\" transform=\"scale(0.015625)\"/>\n       </defs>\n       <use xlink:href=\"#CMR17-30\" transform=\"scale(0.996264)\"/>\n       <use xlink:href=\"#CMMI12-3a\" transform=\"translate(45.690477 0)scale(0.996264)\"/>\n       <use xlink:href=\"#CMR17-36\" transform=\"translate(72.787654 0)scale(0.996264)\"/>\n      </g>\n     </g>\n    </g>\n    <g id=\"ytick_5\">\n     <g id=\"line2d_11\">\n      <g>\n       <use xlink:href=\"#mbebf228c89\" x=\"29.157642\" y=\"61.006852\" style=\"stroke: #000000; stroke-width: 0.8\"/>\n      </g>\n     </g>\n     <g id=\"text_12\">\n      <!-- $\\mathdefault{0.7}$ -->\n      <g transform=\"translate(7.2 65.157942)scale(0.12 -0.12)\">\n       <defs>\n        <path id=\"CMR17-37\" d=\"M 2886 3941 \nL 2886 4081 \nL 1382 4081 \nC 634 4081 621 4165 595 4288 \nL 480 4288 \nL 294 3094 \nL 410 3094 \nC 429 3215 474 3540 550 3661 \nC 589 3712 1062 3712 1171 3712 \nL 2579 3712 \nL 1869 2661 \nC 1395 1954 1069 999 1069 165 \nC 1069 89 1069 -128 1299 -128 \nC 1530 -128 1530 89 1530 171 \nL 1530 465 \nC 1530 1508 1709 2196 2003 2636 \nL 2886 3941 \nz\n\" transform=\"scale(0.015625)\"/>\n       </defs>\n       <use xlink:href=\"#CMR17-30\" transform=\"scale(0.996264)\"/>\n       <use xlink:href=\"#CMMI12-3a\" transform=\"translate(45.690477 0)scale(0.996264)\"/>\n       <use xlink:href=\"#CMR17-37\" transform=\"translate(72.787654 0)scale(0.996264)\"/>\n      </g>\n     </g>\n    </g>\n    <g id=\"ytick_6\">\n     <g id=\"line2d_12\">\n      <g>\n       <use xlink:href=\"#mbebf228c89\" x=\"29.157642\" y=\"22.569474\" style=\"stroke: #000000; stroke-width: 0.8\"/>\n      </g>\n     </g>\n     <g id=\"text_13\">\n      <!-- $\\mathdefault{0.8}$ -->\n      <g transform=\"translate(7.2 26.720564)scale(0.12 -0.12)\">\n       <defs>\n        <path id=\"CMR17-38\" d=\"M 1741 2264 \nC 2144 2467 2554 2773 2554 3263 \nC 2554 3841 1990 4179 1472 4179 \nC 890 4179 378 3759 378 3180 \nC 378 3021 416 2747 666 2505 \nC 730 2442 998 2251 1171 2130 \nC 883 1983 211 1634 211 934 \nC 211 279 838 -128 1459 -128 \nC 2144 -128 2720 362 2720 1010 \nC 2720 1590 2330 1857 2074 2029 \nL 1741 2264 \nz\nM 902 2822 \nC 851 2854 595 3051 595 3351 \nC 595 3739 998 4032 1459 4032 \nC 1965 4032 2336 3676 2336 3262 \nC 2336 2669 1670 2331 1638 2331 \nC 1632 2331 1626 2331 1574 2370 \nL 902 2822 \nz\nM 2080 1519 \nC 2176 1449 2483 1240 2483 851 \nC 2483 381 2010 25 1472 25 \nC 890 25 448 438 448 940 \nC 448 1443 838 1862 1280 2060 \nL 2080 1519 \nz\n\" transform=\"scale(0.015625)\"/>\n       </defs>\n       <use xlink:href=\"#CMR17-30\" transform=\"scale(0.996264)\"/>\n       <use xlink:href=\"#CMMI12-3a\" transform=\"translate(45.690477 0)scale(0.996264)\"/>\n       <use xlink:href=\"#CMR17-38\" transform=\"translate(72.787654 0)scale(0.996264)\"/>\n      </g>\n     </g>\n    </g>\n   </g>\n   <g id=\"line2d_13\">\n    <path d=\"M 29.157648 17.083636 \nL 42.327118 17.083636 \nL 42.549648 17.487012 \nL 42.772848 19.502198 \nL 42.996048 24.245159 \nL 43.442448 41.260162 \nL 44.558448 91.288599 \nL 45.004848 101.986316 \nL 45.228048 104.51301 \nL 45.451248 105.328883 \nL 45.674448 104.685526 \nL 46.120848 100.289707 \nL 47.236848 85.855173 \nL 47.683248 83.315707 \nL 47.906448 83.079672 \nL 48.129648 83.491677 \nL 48.576048 85.920315 \nL 49.468848 93.939078 \nL 50.138448 99.328235 \nL 50.584848 101.705774 \nL 51.031248 103.071575 \nL 51.477648 103.663811 \nL 51.924048 103.827783 \nL 52.593648 103.988467 \nL 53.040047 104.363187 \nL 53.486447 105.05228 \nL 54.156047 106.582807 \nL 55.941647 111.067066 \nL 56.834447 112.618919 \nL 61.075247 118.696453 \nL 62.637647 120.517269 \nL 65.762447 123.702871 \nL 67.771247 125.437631 \nL 70.226447 127.213614 \nL 72.904847 128.880896 \nL 75.583247 130.254927 \nL 78.484846 131.491341 \nL 81.609646 132.580514 \nL 85.180846 133.57398 \nL 88.975246 134.400726 \nL 93.439246 135.139952 \nL 98.572846 135.758483 \nL 104.599245 136.256352 \nL 111.741645 136.640093 \nL 121.785645 136.950228 \nL 136.070444 137.144806 \nL 161.515243 137.232725 \nL 278.695238 137.233769 \nL 363.957635 137.233794 \nL 363.957635 137.233794 \n\" clip-path=\"url(#p3f00567768)\" style=\"fill: none; stroke: #1f77b4; stroke-linecap: square\"/>\n   </g>\n   <g id=\"line2d_14\">\n    <path d=\"M 29.157648 176.318986 \nL 42.327118 176.318986 \nL 42.549648 176.163813 \nL 42.772848 175.400597 \nL 42.996048 173.636245 \nL 43.442448 167.469503 \nL 44.335248 153.133725 \nL 44.781648 148.877114 \nL 45.004848 147.828736 \nL 45.228048 147.453899 \nL 45.451248 147.657722 \nL 45.897648 149.290945 \nL 46.790448 153.729532 \nL 47.236848 154.914841 \nL 47.460048 155.073411 \nL 47.683248 154.940121 \nL 48.129648 153.909443 \nL 48.799248 151.197784 \nL 49.692048 147.768127 \nL 50.138448 146.847018 \nL 50.584848 146.564245 \nL 51.031248 146.802407 \nL 51.700848 147.666684 \nL 52.370448 148.464217 \nL 52.816848 148.689035 \nL 53.263247 148.59426 \nL 53.709647 148.202581 \nL 54.379247 147.236025 \nL 55.718447 145.191785 \nL 56.388047 144.574917 \nL 57.057647 144.277137 \nL 57.950447 144.181057 \nL 59.289647 144.047463 \nL 60.182447 143.721945 \nL 61.744847 142.826426 \nL 63.084047 142.128729 \nL 64.423247 141.692903 \nL 73.574447 139.636786 \nL 79.154446 138.839732 \nL 85.850446 138.239228 \nL 93.662446 137.817101 \nL 103.929645 137.511656 \nL 109.509645 137.422481 \nL 127.142445 137.280176 \nL 166.648843 137.23187 \nL 363.957635 137.233812 \nL 363.957635 137.233812 \n\" clip-path=\"url(#p3f00567768)\" style=\"fill: none; stroke-dasharray: 3.7,1.6; stroke-dashoffset: 0; stroke: #ff7f0e\"/>\n   </g>\n   <g id=\"line2d_15\">\n    <path d=\"M 29.157648 176.318986 \nL 42.549648 176.257746 \nL 42.772848 175.953467 \nL 42.996048 175.2468 \nL 43.665648 171.461784 \nL 44.112048 169.138485 \nL 44.335248 168.428073 \nL 44.558448 168.105279 \nL 44.781648 168.18008 \nL 45.004848 168.622509 \nL 45.451248 170.341464 \nL 46.567248 175.334677 \nL 47.013648 176.109454 \nL 47.236848 176.111888 \nL 47.460048 175.87117 \nL 47.906448 174.787069 \nL 49.468848 169.682973 \nL 49.915248 169.19184 \nL 50.138448 169.189616 \nL 50.584848 169.607991 \nL 51.254448 170.910995 \nL 52.147248 172.67828 \nL 52.593648 173.170847 \nL 53.040047 173.309123 \nL 53.486447 173.125837 \nL 54.156047 172.455653 \nL 55.272047 171.248922 \nL 55.941647 170.915389 \nL 56.611247 170.938552 \nL 57.504047 171.295028 \nL 58.620047 171.705908 \nL 59.512847 171.74566 \nL 60.628847 171.511012 \nL 62.191247 171.187765 \nL 63.530447 171.156659 \nL 66.655247 171.180676 \nL 71.565647 171.003941 \nL 104.599245 170.78401 \nL 136.070444 170.775976 \nL 363.957635 170.77905 \nL 363.957635 170.77905 \n\" clip-path=\"url(#p3f00567768)\" style=\"fill: none; stroke-dasharray: 6.4,1.6,1,1.6; stroke-dashoffset: 0; stroke: #2ca02c\"/>\n   </g>\n   <g id=\"line2d_16\">\n    <path d=\"M 29.157648 214.756364 \nL 42.549648 214.677827 \nL 42.772848 214.282619 \nL 42.996048 213.3454 \nL 43.442448 209.965738 \nL 44.335248 201.982571 \nL 44.781648 199.657898 \nL 45.004848 199.125109 \nL 45.228048 198.989709 \nL 45.451248 199.199915 \nL 45.897648 200.37132 \nL 47.013648 204.198544 \nL 47.460048 204.959725 \nL 47.683248 205.086082 \nL 47.906448 205.050765 \nL 48.352848 204.574139 \nL 49.022448 203.270235 \nL 49.915248 201.637985 \nL 50.361648 201.194203 \nL 50.808048 201.033635 \nL 51.254448 201.093791 \nL 53.040047 201.673856 \nL 53.709647 201.528819 \nL 54.825647 200.964351 \nL 55.941647 200.472749 \nL 57.057647 200.246903 \nL 59.736047 199.849557 \nL 63.084047 199.226886 \nL 70.003247 198.410456 \nL 76.699247 197.92491 \nL 84.957646 197.585086 \nL 96.340846 197.362377 \nL 115.536045 197.241079 \nL 169.996843 197.211414 \nL 363.957635 197.210649 \nL 363.957635 197.210649 \n\" clip-path=\"url(#p3f00567768)\" style=\"fill: none; stroke-dasharray: 1,1.65; stroke-dashoffset: 0; stroke: #d62728\"/>\n   </g>\n   <g id=\"line2d_17\">\n    <path d=\"M 29.157648 195.537675 \nL 42.327118 195.537675 \nL 42.549648 195.411166 \nL 42.772848 194.753945 \nL 42.996048 193.127084 \nL 43.442448 186.727657 \nL 45.228048 152.756628 \nL 45.674448 149.309043 \nL 45.897648 148.632193 \nL 46.120848 148.584452 \nL 46.344048 149.086571 \nL 46.790448 151.35193 \nL 48.352848 161.846848 \nL 48.799248 163.11563 \nL 49.022448 163.308324 \nL 49.245648 163.220208 \nL 49.468848 162.875212 \nL 49.915248 161.548301 \nL 50.808048 157.477117 \nL 51.700848 153.538189 \nL 52.370448 151.622058 \nL 52.816848 150.948644 \nL 53.263247 150.70347 \nL 53.709647 150.780822 \nL 54.602447 151.374781 \nL 55.272047 151.722696 \nL 55.718447 151.749218 \nL 56.164847 151.572372 \nL 56.834447 150.951553 \nL 57.950447 149.366248 \nL 59.066447 147.883379 \nL 59.736047 147.291578 \nL 60.405647 146.937114 \nL 61.521647 146.657824 \nL 62.860847 146.291666 \nL 63.976847 145.71708 \nL 66.655247 144.189972 \nL 68.217647 143.682919 \nL 71.788847 142.622558 \nL 74.244047 141.951423 \nL 78.708046 141.090308 \nL 82.502446 140.519448 \nL 88.305646 139.902039 \nL 95.001646 139.445317 \nL 103.483245 139.103806 \nL 114.866445 138.876747 \nL 133.615244 138.742835 \nL 180.264042 138.698644 \nL 363.957635 138.696147 \nL 363.957635 138.696147 \n\" clip-path=\"url(#p3f00567768)\" style=\"fill: none; stroke: #9467bd; stroke-linecap: square\"/>\n   </g>\n   <g id=\"patch_3\">\n    <path d=\"M 29.157642 224.64 \nL 29.157642 7.2 \n\" style=\"fill: none; stroke: #000000; stroke-width: 0.8; stroke-linejoin: miter; stroke-linecap: square\"/>\n   </g>\n   <g id=\"patch_4\">\n    <path d=\"M 363.957642 224.64 \nL 363.957642 7.2 \n\" style=\"fill: none; stroke: #000000; stroke-width: 0.8; stroke-linejoin: miter; stroke-linecap: square\"/>\n   </g>\n   <g id=\"patch_5\">\n    <path d=\"M 29.157642 224.64 \nL 363.957642 224.64 \n\" style=\"fill: none; stroke: #000000; stroke-width: 0.8; stroke-linejoin: miter; stroke-linecap: square\"/>\n   </g>\n   <g id=\"patch_6\">\n    <path d=\"M 29.157642 7.2 \nL 363.957642 7.2 \n\" style=\"fill: none; stroke: #000000; stroke-width: 0.8; stroke-linejoin: miter; stroke-linecap: square\"/>\n   </g>\n   <g id=\"legend_1\">\n    <g id=\"line2d_18\">\n     <path d=\"M 241.83447 22.2 \nL 253.83447 22.2 \nL 265.83447 22.2 \n\" style=\"fill: none; stroke: #1f77b4; stroke-linecap: square\"/>\n    </g>\n    <g id=\"text_14\">\n     <!-- $P_e$ GENROU 1 -->\n     <g transform=\"translate(275.43447 26.4)scale(0.12 -0.12)\">\n      <defs>\n       <path id=\"CMMI12-50\" d=\"M 1894 2023 \nL 2970 2023 \nC 3853 2023 4736 2673 4736 3401 \nC 4736 3898 4314 4352 3507 4352 \nL 1530 4352 \nC 1408 4352 1350 4352 1350 4231 \nC 1350 4167 1408 4167 1504 4167 \nC 1894 4167 1894 4116 1894 4046 \nC 1894 4034 1894 3995 1869 3899 \nL 1005 472 \nC 947 249 934 185 486 185 \nC 365 185 301 185 301 70 \nC 301 0 358 0 397 0 \nC 518 0 646 0 768 0 \nL 1517 0 \nC 1638 0 1773 0 1894 0 \nC 1946 0 2016 0 2016 121 \nC 2016 185 1958 185 1862 185 \nC 1478 185 1472 230 1472 293 \nC 1472 325 1478 369 1485 401 \nL 1894 2023 \nz\nM 2355 3930 \nC 2413 4167 2438 4167 2688 4167 \nL 3322 4167 \nC 3802 4167 4198 4013 4198 3535 \nC 4198 3369 4115 2827 3821 2534 \nC 3712 2419 3405 2176 2822 2176 \nL 1920 2176 \nL 2355 3930 \nz\n\" transform=\"scale(0.015625)\"/>\n       <path id=\"CMMI12-65\" d=\"M 1146 1479 \nC 1318 1479 1754 1479 2061 1595 \nC 2547 1783 2592 2158 2592 2274 \nC 2592 2558 2349 2816 1926 2816 \nC 1254 2816 288 2210 288 1073 \nC 288 402 672 -64 1254 -64 \nC 2125 -64 2675 609 2675 692 \nC 2675 730 2637 762 2611 762 \nC 2592 762 2586 756 2528 699 \nC 2118 159 1510 64 1267 64 \nC 902 64 710 350 710 822 \nC 710 911 710 1071 806 1479 \nL 1146 1479 \nz\nM 838 1600 \nC 1114 2592 1722 2689 1926 2689 \nC 2208 2689 2400 2522 2400 2277 \nC 2400 1600 1376 1600 1107 1600 \nL 838 1600 \nz\n\" transform=\"scale(0.015625)\"/>\n       <path id=\"CMR17-47\" d=\"M 3974 1233 \nC 3974 1473 3994 1505 4390 1505 \nL 4390 1670 \nC 4237 1664 3891 1664 3718 1664 \nC 3539 1664 3040 1664 2797 1664 \nL 2797 1505 \nL 2989 1505 \nC 3539 1505 3552 1434 3552 1201 \nL 3552 774 \nC 3552 63 2720 63 2522 63 \nC 1862 63 781 511 781 2160 \nC 781 3808 1843 4250 2464 4250 \nC 3187 4250 3712 3626 3834 2741 \nC 3846 2664 3846 2651 3904 2651 \nC 3974 2651 3974 2664 3974 2779 \nL 3974 4288 \nC 3974 4402 3968 4409 3930 4409 \nC 3904 4409 3898 4402 3853 4326 \nL 3571 3791 \nC 3258 4187 2874 4416 2381 4416 \nC 1286 4416 294 3456 294 2148 \nC 294 845 1267 -128 2394 -128 \nC 2912 -128 3418 56 3616 417 \nC 3725 158 3904 -20 3936 -20 \nC 3968 -20 3974 -13 3974 100 \nL 3974 1233 \nz\n\" transform=\"scale(0.015625)\"/>\n       <path id=\"CMR17-45\" d=\"M 3885 1615 \nL 3770 1615 \nC 3629 676 3546 166 2419 166 \nL 1530 166 \nC 1274 166 1261 197 1261 414 \nL 1261 2176 \nL 1862 2176 \nC 2464 2176 2522 1960 2522 1430 \nL 2637 1430 \nL 2637 3081 \nL 2522 3081 \nC 2522 2557 2464 2342 1862 2342 \nL 1261 2342 \nL 1261 3913 \nC 1261 4128 1274 4160 1530 4160 \nL 2406 4160 \nC 3398 4160 3514 3769 3603 2929 \nL 3718 2929 \nL 3565 4325 \nL 326 4325 \nL 326 4160 \nC 768 4160 838 4160 838 3874 \nL 838 451 \nC 838 166 768 166 326 166 \nL 326 0 \nL 3654 0 \nL 3885 1615 \nz\n\" transform=\"scale(0.015625)\"/>\n       <path id=\"CMR17-4e\" d=\"M 1312 4250 \nC 1267 4320 1261 4320 1139 4320 \nL 326 4320 \nL 326 4160 \nL 448 4160 \nC 704 4160 819 4129 838 4122 \nL 838 610 \nC 838 451 838 153 326 153 \nL 326 -13 \nC 474 0 742 0 902 0 \nC 1062 0 1331 0 1478 -13 \nL 1478 153 \nC 966 153 966 451 966 610 \nL 966 4033 \nC 1011 3995 1011 3982 1056 3919 \nL 3430 76 \nC 3475 0 3494 0 3526 0 \nC 3590 0 3590 19 3590 139 \nL 3590 3705 \nC 3590 3863 3590 4160 4102 4160 \nL 4102 4326 \nC 3955 4320 3686 4320 3526 4320 \nC 3366 4320 3098 4320 2950 4326 \nL 2950 4160 \nC 3462 4160 3462 3862 3462 3703 \nL 3462 763 \nL 1312 4250 \nz\n\" transform=\"scale(0.015625)\"/>\n       <path id=\"CMR17-52\" d=\"M 2509 2146 \nC 3117 2268 3629 2676 3629 3186 \nC 3629 3785 2950 4326 2054 4326 \nL 333 4326 \nL 333 4160 \nC 774 4160 845 4160 845 3873 \nL 845 415 \nC 845 128 774 128 333 128 \nL 333 -26 \nC 518 -26 851 -26 1050 -26 \nC 1248 -26 1581 -26 1766 -26 \nL 1766 128 \nC 1325 128 1254 128 1254 417 \nL 1254 2112 \nL 2003 2112 \nC 2368 2112 2573 1964 2662 1881 \nC 2918 1632 2918 1459 2918 1024 \nC 2918 595 2918 377 3110 160 \nC 3354 -102 3680 -128 3821 -128 \nC 4294 -128 4365 396 4365 503 \nC 4365 540 4365 585 4307 585 \nC 4256 585 4250 547 4250 522 \nC 4218 112 4032 -26 3834 -26 \nC 3482 -26 3443 375 3405 764 \nC 3386 898 3373 993 3360 1133 \nC 3322 1452 3270 1917 2509 2146 \nz\nM 1984 2214 \nL 1254 2214 \nL 1254 3913 \nC 1254 4129 1267 4160 1523 4160 \nL 1990 4160 \nC 2522 4160 3142 3977 3142 3190 \nC 3142 2372 2464 2214 1984 2214 \nz\n\" transform=\"scale(0.015625)\"/>\n       <path id=\"CMR17-4f\" d=\"M 4307 2135 \nC 4307 3437 3366 4416 2304 4416 \nC 1216 4416 294 3424 294 2135 \nC 294 845 1229 -128 2298 -128 \nC 3392 -128 4307 864 4307 2135 \nz\nM 2304 -13 \nC 1574 -13 781 711 781 2217 \nC 781 3716 1651 4301 2298 4301 \nC 2976 4301 3821 3698 3821 2217 \nC 3821 686 3008 -13 2304 -13 \nz\n\" transform=\"scale(0.015625)\"/>\n       <path id=\"CMR17-55\" d=\"M 3456 1433 \nC 3456 579 2899 38 2291 38 \nC 1965 38 1670 210 1491 477 \nC 1286 783 1261 1178 1261 1401 \nL 1261 3874 \nC 1261 4160 1331 4160 1773 4160 \nL 1773 4320 \nC 1587 4320 1248 4320 1050 4320 \nC 851 4320 512 4320 326 4320 \nL 326 4160 \nC 768 4160 838 4160 838 3874 \nL 838 1433 \nC 838 516 1536 -128 2278 -128 \nC 3110 -128 3590 719 3590 1344 \nL 3590 3766 \nC 3590 4122 3917 4160 4102 4160 \nL 4102 4326 \nC 3955 4320 3686 4320 3526 4320 \nC 3366 4320 3091 4320 2944 4326 \nL 2944 4160 \nC 3456 4160 3456 3861 3456 3702 \nL 3456 1433 \nz\n\" transform=\"scale(0.015625)\"/>\n      </defs>\n      <use xlink:href=\"#CMMI12-50\" transform=\"scale(0.996264)\"/>\n      <use xlink:href=\"#CMMI12-65\" transform=\"translate(62.877232 -14.943915)scale(0.697382)\"/>\n      <use xlink:href=\"#CMR17-47\" transform=\"translate(125.099587 0)scale(0.996264)\"/>\n      <use xlink:href=\"#CMR17-45\" transform=\"translate(197.454933 0)scale(0.996264)\"/>\n      <use xlink:href=\"#CMR17-4e\" transform=\"translate(260.041233 0)scale(0.996264)\"/>\n      <use xlink:href=\"#CMR17-52\" transform=\"translate(329.113663 0)scale(0.996264)\"/>\n      <use xlink:href=\"#CMR17-4f\" transform=\"translate(394.302311 0)scale(0.996264)\"/>\n      <use xlink:href=\"#CMR17-55\" transform=\"translate(466.0171 0)scale(0.996264)\"/>\n      <use xlink:href=\"#CMR17-31\" transform=\"translate(565.165496 0)scale(0.996264)\"/>\n     </g>\n    </g>\n    <g id=\"line2d_19\">\n     <path d=\"M 241.83447 38.924596 \nL 253.83447 38.924596 \nL 265.83447 38.924596 \n\" style=\"fill: none; stroke-dasharray: 3.7,1.6; stroke-dashoffset: 0; stroke: #ff7f0e\"/>\n    </g>\n    <g id=\"text_15\">\n     <!-- $P_e$ GENROU 2 -->\n     <g transform=\"translate(275.43447 43.124596)scale(0.12 -0.12)\">\n      <use xlink:href=\"#CMMI12-50\" transform=\"scale(0.996264)\"/>\n      <use xlink:href=\"#CMMI12-65\" transform=\"translate(62.877232 -14.943915)scale(0.697382)\"/>\n      <use xlink:href=\"#CMR17-47\" transform=\"translate(125.099587 0)scale(0.996264)\"/>\n      <use xlink:href=\"#CMR17-45\" transform=\"translate(197.454933 0)scale(0.996264)\"/>\n      <use xlink:href=\"#CMR17-4e\" transform=\"translate(260.041233 0)scale(0.996264)\"/>\n      <use xlink:href=\"#CMR17-52\" transform=\"translate(329.113663 0)scale(0.996264)\"/>\n      <use xlink:href=\"#CMR17-4f\" transform=\"translate(394.302311 0)scale(0.996264)\"/>\n      <use xlink:href=\"#CMR17-55\" transform=\"translate(466.0171 0)scale(0.996264)\"/>\n      <use xlink:href=\"#CMR17-32\" transform=\"translate(565.165496 0)scale(0.996264)\"/>\n     </g>\n    </g>\n    <g id=\"line2d_20\">\n     <path d=\"M 241.83447 55.649192 \nL 253.83447 55.649192 \nL 265.83447 55.649192 \n\" style=\"fill: none; stroke-dasharray: 6.4,1.6,1,1.6; stroke-dashoffset: 0; stroke: #2ca02c\"/>\n    </g>\n    <g id=\"text_16\">\n     <!-- $P_e$ GENROU 3 -->\n     <g transform=\"translate(275.43447 59.849192)scale(0.12 -0.12)\">\n      <use xlink:href=\"#CMMI12-50\" transform=\"scale(0.996264)\"/>\n      <use xlink:href=\"#CMMI12-65\" transform=\"translate(62.877232 -14.943915)scale(0.697382)\"/>\n      <use xlink:href=\"#CMR17-47\" transform=\"translate(125.099587 0)scale(0.996264)\"/>\n      <use xlink:href=\"#CMR17-45\" transform=\"translate(197.454933 0)scale(0.996264)\"/>\n      <use xlink:href=\"#CMR17-4e\" transform=\"translate(260.041233 0)scale(0.996264)\"/>\n      <use xlink:href=\"#CMR17-52\" transform=\"translate(329.113663 0)scale(0.996264)\"/>\n      <use xlink:href=\"#CMR17-4f\" transform=\"translate(394.302311 0)scale(0.996264)\"/>\n      <use xlink:href=\"#CMR17-55\" transform=\"translate(466.0171 0)scale(0.996264)\"/>\n      <use xlink:href=\"#CMR17-33\" transform=\"translate(565.165496 0)scale(0.996264)\"/>\n     </g>\n    </g>\n    <g id=\"line2d_21\">\n     <path d=\"M 241.83447 72.373787 \nL 253.83447 72.373787 \nL 265.83447 72.373787 \n\" style=\"fill: none; stroke-dasharray: 1,1.65; stroke-dashoffset: 0; stroke: #d62728\"/>\n    </g>\n    <g id=\"text_17\">\n     <!-- $P_e$ GENROU 4 -->\n     <g transform=\"translate(275.43447 76.573787)scale(0.12 -0.12)\">\n      <use xlink:href=\"#CMMI12-50\" transform=\"scale(0.996264)\"/>\n      <use xlink:href=\"#CMMI12-65\" transform=\"translate(62.877232 -14.943915)scale(0.697382)\"/>\n      <use xlink:href=\"#CMR17-47\" transform=\"translate(125.099587 0)scale(0.996264)\"/>\n      <use xlink:href=\"#CMR17-45\" transform=\"translate(197.454933 0)scale(0.996264)\"/>\n      <use xlink:href=\"#CMR17-4e\" transform=\"translate(260.041233 0)scale(0.996264)\"/>\n      <use xlink:href=\"#CMR17-52\" transform=\"translate(329.113663 0)scale(0.996264)\"/>\n      <use xlink:href=\"#CMR17-4f\" transform=\"translate(394.302311 0)scale(0.996264)\"/>\n      <use xlink:href=\"#CMR17-55\" transform=\"translate(466.0171 0)scale(0.996264)\"/>\n      <use xlink:href=\"#CMR17-34\" transform=\"translate(565.165496 0)scale(0.996264)\"/>\n     </g>\n    </g>\n    <g id=\"line2d_22\">\n     <path d=\"M 241.83447 89.098383 \nL 253.83447 89.098383 \nL 265.83447 89.098383 \n\" style=\"fill: none; stroke: #9467bd; stroke-linecap: square\"/>\n    </g>\n    <g id=\"text_18\">\n     <!-- $P_e$ GENROU 5 -->\n     <g transform=\"translate(275.43447 93.298383)scale(0.12 -0.12)\">\n      <use xlink:href=\"#CMMI12-50\" transform=\"scale(0.996264)\"/>\n      <use xlink:href=\"#CMMI12-65\" transform=\"translate(62.877232 -14.943915)scale(0.697382)\"/>\n      <use xlink:href=\"#CMR17-47\" transform=\"translate(125.099587 0)scale(0.996264)\"/>\n      <use xlink:href=\"#CMR17-45\" transform=\"translate(197.454933 0)scale(0.996264)\"/>\n      <use xlink:href=\"#CMR17-4e\" transform=\"translate(260.041233 0)scale(0.996264)\"/>\n      <use xlink:href=\"#CMR17-52\" transform=\"translate(329.113663 0)scale(0.996264)\"/>\n      <use xlink:href=\"#CMR17-4f\" transform=\"translate(394.302311 0)scale(0.996264)\"/>\n      <use xlink:href=\"#CMR17-55\" transform=\"translate(466.0171 0)scale(0.996264)\"/>\n      <use xlink:href=\"#CMR17-35\" transform=\"translate(565.165496 0)scale(0.996264)\"/>\n     </g>\n    </g>\n   </g>\n  </g>\n </g>\n <defs>\n  <clipPath id=\"p3f00567768\">\n   <rect x=\"29.157642\" y=\"7.2\" width=\"334.8\" height=\"217.44\"/>\n  </clipPath>\n </defs>\n</svg>\n",
      "text/plain": [
       "<Figure size 600x400 with 1 Axes>"
      ]
     },
     "metadata": {
      "needs_background": "light"
     },
     "output_type": "display_data"
    },
    {
     "data": {
      "text/plain": [
       "(<Figure size 600x400 with 1 Axes>, <AxesSubplot:xlabel='Time [s]'>)"
      ]
     },
     "execution_count": 82,
     "metadata": {},
     "output_type": "execute_result"
    }
   ],
   "source": [
    "ssa.TDS.plt.plot(ssa.GENROU.Pe)"
   ]
  }
 ],
 "metadata": {
  "interpreter": {
   "hash": "b1e368b1d2ca574a59ba26b0fa9d68a1b1a89bb0ecca26237e963f08092745f3"
  },
  "kernelspec": {
   "display_name": "Python 3.7.12 ('pp')",
   "language": "python",
   "name": "python3"
  },
  "language_info": {
   "codemirror_mode": {
    "name": "ipython",
    "version": 3
   },
   "file_extension": ".py",
   "mimetype": "text/x-python",
   "name": "python",
   "nbconvert_exporter": "python",
   "pygments_lexer": "ipython3",
   "version": "3.7.12"
  }
 },
 "nbformat": 4,
 "nbformat_minor": 2
}
