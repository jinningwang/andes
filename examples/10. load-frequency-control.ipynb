{
 "cells": [
  {
   "cell_type": "markdown",
   "metadata": {},
   "source": [
    "# Load Frequency Control in ANDES"
   ]
  },
  {
   "cell_type": "markdown",
   "metadata": {},
   "source": [
    "This examples shows (1) how to trip a generator, and (2) how to drive frequency back by load shedding."
   ]
  },
  {
   "cell_type": "code",
   "execution_count": 1,
   "metadata": {
    "ExecuteTime": {
     "end_time": "2021-03-20T14:50:27.821845Z",
     "start_time": "2021-03-20T14:50:27.457672Z"
    },
    "execution": {
     "iopub.execute_input": "2021-09-19T22:23:09.002730Z",
     "iopub.status.busy": "2021-09-19T22:23:09.002320Z",
     "iopub.status.idle": "2021-09-19T22:23:09.730591Z",
     "shell.execute_reply": "2021-09-19T22:23:09.730972Z"
    }
   },
   "outputs": [],
   "source": [
    "import andes\n",
    "import numpy as np\n",
    "\n",
    "andes.config_logger(stream_level=20)"
   ]
  },
  {
   "cell_type": "markdown",
   "metadata": {},
   "source": [
    "## Tripping a Generator in the IEEE 14-Bus System"
   ]
  },
  {
   "cell_type": "code",
   "execution_count": 2,
   "metadata": {
    "ExecuteTime": {
     "end_time": "2021-03-20T14:50:27.825186Z",
     "start_time": "2021-03-20T14:50:27.823356Z"
    },
    "execution": {
     "iopub.execute_input": "2021-09-19T22:23:09.733573Z",
     "iopub.status.busy": "2021-09-19T22:23:09.732847Z",
     "iopub.status.idle": "2021-09-19T22:23:09.736911Z",
     "shell.execute_reply": "2021-09-19T22:23:09.737410Z"
    }
   },
   "outputs": [],
   "source": [
    "# using the IEEE 14-bus model as an example. \n",
    "# The example here contains a variety of models: generators, exciters, turbine governors, and PSS\n",
    "# To speed up, one can remove unneeded ones, e.g., PSS\n",
    "\n",
    "ieee14_raw = andes.get_case(\"ieee14/ieee14.raw\")\n",
    "ieee14_dyr = andes.get_case(\"ieee14/ieee14.dyr\")"
   ]
  },
  {
   "cell_type": "code",
   "execution_count": 3,
   "metadata": {
    "ExecuteTime": {
     "end_time": "2021-03-20T14:50:28.180552Z",
     "start_time": "2021-03-20T14:50:27.826164Z"
    },
    "execution": {
     "iopub.execute_input": "2021-09-19T22:23:09.742159Z",
     "iopub.status.busy": "2021-09-19T22:23:09.739090Z",
     "iopub.status.idle": "2021-09-19T22:23:10.164456Z",
     "shell.execute_reply": "2021-09-19T22:23:10.164202Z"
    }
   },
   "outputs": [
    {
     "name": "stderr",
     "output_type": "stream",
     "text": [
      "Working directory: \"/home/hcui7/repos/andes/examples\"\n"
     ]
    },
    {
     "name": "stderr",
     "output_type": "stream",
     "text": [
      "Loaded config from file \"/home/hcui7/.andes/andes.rc\"\n"
     ]
    },
    {
     "name": "stderr",
     "output_type": "stream",
     "text": [
      "Loaded generated Python code in \"~/.andes/pycode\".\n"
     ]
    },
    {
     "name": "stderr",
     "output_type": "stream",
     "text": [
      "Parsing input file \"/home/hcui7/repos/andes/andes/cases/ieee14/ieee14.raw\"...\n"
     ]
    },
    {
     "name": "stderr",
     "output_type": "stream",
     "text": [
      "  IEEE 14 BUS TEST CASE\n"
     ]
    },
    {
     "name": "stderr",
     "output_type": "stream",
     "text": [
      "  03/06/14 CONTO           100.0  1962 W\n"
     ]
    },
    {
     "name": "stderr",
     "output_type": "stream",
     "text": [
      "Input file parsed in 0.0049 seconds.\n"
     ]
    },
    {
     "name": "stderr",
     "output_type": "stream",
     "text": [
      "Parsing additional file \"/home/hcui7/repos/andes/andes/cases/ieee14/ieee14.dyr\"...\n"
     ]
    },
    {
     "name": "stderr",
     "output_type": "stream",
     "text": [
      "Addfile parsed in 0.2090 seconds.\n"
     ]
    }
   ],
   "source": [
    "# use `andes.load` to load the test system\n",
    "# Need to set `setup=False` to be able to add new Togglers that turns off generators.\n",
    "\n",
    "ss = andes.load(ieee14_raw, addfile=ieee14_dyr, setup=False)"
   ]
  },
  {
   "cell_type": "code",
   "execution_count": 4,
   "metadata": {
    "ExecuteTime": {
     "end_time": "2021-03-20T14:50:28.195344Z",
     "start_time": "2021-03-20T14:50:28.182981Z"
    },
    "execution": {
     "iopub.execute_input": "2021-09-19T22:23:10.171287Z",
     "iopub.status.busy": "2021-09-19T22:23:10.170839Z",
     "iopub.status.idle": "2021-09-19T22:23:10.173539Z",
     "shell.execute_reply": "2021-09-19T22:23:10.173280Z"
    }
   },
   "outputs": [
    {
     "data": {
      "text/plain": [
       "'Toggler_3'"
      ]
     },
     "execution_count": 4,
     "metadata": {},
     "output_type": "execute_result"
    }
   ],
   "source": [
    "# Add a Toggler that disconnects `GENROU_2` at t=1 s\n",
    "\n",
    "ss.add(\"Toggler\", dict(model='SynGen', dev=\"GENROU_2\", t=1.0))"
   ]
  },
  {
   "cell_type": "code",
   "execution_count": 5,
   "metadata": {
    "ExecuteTime": {
     "end_time": "2021-03-20T14:50:28.229260Z",
     "start_time": "2021-03-20T14:50:28.196728Z"
    },
    "execution": {
     "iopub.execute_input": "2021-09-19T22:23:10.189616Z",
     "iopub.status.busy": "2021-09-19T22:23:10.188779Z",
     "iopub.status.idle": "2021-09-19T22:23:10.227783Z",
     "shell.execute_reply": "2021-09-19T22:23:10.228020Z"
    }
   },
   "outputs": [
    {
     "name": "stderr",
     "output_type": "stream",
     "text": [
      "IEEEST <IEEEST_1> added BusFreq <BusFreq_1> linked to bus <3.0>\n"
     ]
    },
    {
     "name": "stderr",
     "output_type": "stream",
     "text": [
      "ST2CUT <ST2CUT_2> added BusFreq <BusFreq_2> linked to bus <1.0>\n"
     ]
    },
    {
     "name": "stderr",
     "output_type": "stream",
     "text": [
      "ST2CUT <ST2CUT_3> added BusFreq <BusFreq_3> linked to bus <2.0>\n"
     ]
    },
    {
     "name": "stderr",
     "output_type": "stream",
     "text": [
      "System internal structure set up in 0.0463 seconds.\n"
     ]
    },
    {
     "data": {
      "text/plain": [
       "True"
      ]
     },
     "execution_count": 5,
     "metadata": {},
     "output_type": "execute_result"
    }
   ],
   "source": [
    "# Call setup manually\n",
    "\n",
    "ss.setup()"
   ]
  },
  {
   "cell_type": "code",
   "execution_count": 6,
   "metadata": {
    "ExecuteTime": {
     "end_time": "2021-03-20T14:50:28.240488Z",
     "start_time": "2021-03-20T14:50:28.230390Z"
    },
    "execution": {
     "iopub.execute_input": "2021-09-19T22:23:10.341341Z",
     "iopub.status.busy": "2021-09-19T22:23:10.233024Z",
     "iopub.status.idle": "2021-09-19T22:23:10.347558Z",
     "shell.execute_reply": "2021-09-19T22:23:10.347964Z"
    }
   },
   "outputs": [
    {
     "data": {
      "text/html": [
       "<div>\n",
       "<style scoped>\n",
       "    .dataframe tbody tr th:only-of-type {\n",
       "        vertical-align: middle;\n",
       "    }\n",
       "\n",
       "    .dataframe tbody tr th {\n",
       "        vertical-align: top;\n",
       "    }\n",
       "\n",
       "    .dataframe thead th {\n",
       "        text-align: right;\n",
       "    }\n",
       "</style>\n",
       "<table border=\"1\" class=\"dataframe\">\n",
       "  <thead>\n",
       "    <tr style=\"text-align: right;\">\n",
       "      <th></th>\n",
       "      <th>idx</th>\n",
       "      <th>u</th>\n",
       "      <th>name</th>\n",
       "      <th>model</th>\n",
       "      <th>dev</th>\n",
       "      <th>t</th>\n",
       "    </tr>\n",
       "    <tr>\n",
       "      <th>uid</th>\n",
       "      <th></th>\n",
       "      <th></th>\n",
       "      <th></th>\n",
       "      <th></th>\n",
       "      <th></th>\n",
       "      <th></th>\n",
       "    </tr>\n",
       "  </thead>\n",
       "  <tbody>\n",
       "    <tr>\n",
       "      <th>0</th>\n",
       "      <td>Toggler_1</td>\n",
       "      <td>1.0</td>\n",
       "      <td>Toggler_1</td>\n",
       "      <td>Line</td>\n",
       "      <td>Line_1</td>\n",
       "      <td>1.0</td>\n",
       "    </tr>\n",
       "    <tr>\n",
       "      <th>1</th>\n",
       "      <td>Toggler_2</td>\n",
       "      <td>1.0</td>\n",
       "      <td>Toggler_2</td>\n",
       "      <td>Line</td>\n",
       "      <td>Line_1</td>\n",
       "      <td>1.1</td>\n",
       "    </tr>\n",
       "    <tr>\n",
       "      <th>2</th>\n",
       "      <td>Toggler_3</td>\n",
       "      <td>1.0</td>\n",
       "      <td>Toggler_3</td>\n",
       "      <td>SynGen</td>\n",
       "      <td>GENROU_2</td>\n",
       "      <td>1.0</td>\n",
       "    </tr>\n",
       "  </tbody>\n",
       "</table>\n",
       "</div>"
      ],
      "text/plain": [
       "           idx    u       name   model       dev    t\n",
       "uid                                                  \n",
       "0    Toggler_1  1.0  Toggler_1    Line    Line_1  1.0\n",
       "1    Toggler_2  1.0  Toggler_2    Line    Line_1  1.1\n",
       "2    Toggler_3  1.0  Toggler_3  SynGen  GENROU_2  1.0"
      ]
     },
     "execution_count": 6,
     "metadata": {},
     "output_type": "execute_result"
    }
   ],
   "source": [
    "# double check that Togglers are set up correctly\n",
    "# Check `u` of the Togglers - the first two line switches are disabled, and the generator trip is enabled\n",
    "\n",
    "ss.Toggler.as_df()"
   ]
  },
  {
   "cell_type": "code",
   "execution_count": 7,
   "metadata": {
    "ExecuteTime": {
     "end_time": "2021-03-20T14:50:28.243800Z",
     "start_time": "2021-03-20T14:50:28.241738Z"
    },
    "execution": {
     "iopub.execute_input": "2021-09-19T22:23:10.351624Z",
     "iopub.status.busy": "2021-09-19T22:23:10.350379Z",
     "iopub.status.idle": "2021-09-19T22:23:10.353996Z",
     "shell.execute_reply": "2021-09-19T22:23:10.354415Z"
    }
   },
   "outputs": [],
   "source": [
    "# disable existing line switches\n",
    "# The IEEE 14-bus system contains predefined line switches. Disabling them to study generator trip only.\n",
    "\n",
    "ss.Toggler.u.v[[0, 1]] = 0"
   ]
  },
  {
   "cell_type": "code",
   "execution_count": 8,
   "metadata": {
    "ExecuteTime": {
     "end_time": "2021-03-20T14:50:28.269619Z",
     "start_time": "2021-03-20T14:50:28.245482Z"
    },
    "execution": {
     "iopub.execute_input": "2021-09-19T22:23:10.376667Z",
     "iopub.status.busy": "2021-09-19T22:23:10.376227Z",
     "iopub.status.idle": "2021-09-19T22:23:36.341719Z",
     "shell.execute_reply": "2021-09-19T22:23:36.341455Z"
    }
   },
   "outputs": [
    {
     "name": "stderr",
     "output_type": "stream",
     "text": [
      "-> System connectivity check results:\n"
     ]
    },
    {
     "name": "stderr",
     "output_type": "stream",
     "text": [
      "  No islanded bus detected.\n"
     ]
    },
    {
     "name": "stderr",
     "output_type": "stream",
     "text": [
      "  A total of 1 island(s) detected.\n"
     ]
    },
    {
     "name": "stderr",
     "output_type": "stream",
     "text": [
      "  Each island has a slack bus correctly defined and enabled.\n"
     ]
    },
    {
     "name": "stderr",
     "output_type": "stream",
     "text": [
      "\n",
      "-> Power flow calculation\n",
      "   Sparse solver: KLU\n",
      " Solution method: NR method\n",
      " Sparse addition: Fast in-place (kvxopt)\n"
     ]
    },
    {
     "name": "stderr",
     "output_type": "stream",
     "text": [
      "Numba compilation initiated, parallel=False, cache=True.\n"
     ]
    },
    {
     "name": "stderr",
     "output_type": "stream",
     "text": [
      "Power flow initialized.\n"
     ]
    },
    {
     "name": "stderr",
     "output_type": "stream",
     "text": [
      "0: |F(x)| = 0.5605182134\n"
     ]
    },
    {
     "name": "stderr",
     "output_type": "stream",
     "text": [
      "1: |F(x)| = 0.006202200332\n"
     ]
    },
    {
     "name": "stderr",
     "output_type": "stream",
     "text": [
      "2: |F(x)| = 5.819382827e-06\n"
     ]
    },
    {
     "name": "stderr",
     "output_type": "stream",
     "text": [
      "3: |F(x)| = 6.957087684e-12\n"
     ]
    },
    {
     "name": "stderr",
     "output_type": "stream",
     "text": [
      "Converged in 4 iterations in 0.0072 seconds.\n"
     ]
    },
    {
     "name": "stderr",
     "output_type": "stream",
     "text": [
      "Numba compilation initiated, parallel=False, cache=True.\n"
     ]
    },
    {
     "name": "stderr",
     "output_type": "stream",
     "text": [
      "/home/hcui7/.andes/pycode/ESST3A.py:18: NumbaWarning: \u001b[1m\n",
      "Compilation is falling back to object mode WITH looplifting enabled because Function \"g_update\" failed type inference due to: \u001b[1m\u001b[1m\u001b[1mNo implementation of function Function(<function select at 0x7f5e7403dc10>) found for signature:\n",
      " \n",
      " >>> select(list(array(bool, 1d, C))<iv=None>, LiteralList((Literal[int](1), array(float64, 1d, C), array(float64, 1d, C), array(float64, 1d, C), Literal[int](0))), default=float64)\n",
      " \n",
      "There are 2 candidate implementations:\n",
      "\u001b[1m  - Of which 1 did not match due to:\n",
      "  Overload in function 'np_select': File: numba/np/arraymath.py: Line 4292.\n",
      "    With argument(s): '(list(array(bool, 1d, C))<iv=None>, Poison<LiteralList((Literal[int](1), array(float64, 1d, C), array(float64, 1d, C), array(float64, 1d, C), Literal[int](0)))>, default=float64)':\u001b[0m\n",
      "\u001b[1m   Rejected as the implementation raised a specific error:\n",
      "     TypingError: \u001b[1mPoison type used in arguments; got Poison<LiteralList((Literal[int](1), array(float64, 1d, C), array(float64, 1d, C), array(float64, 1d, C), Literal[int](0)))>\u001b[0m\u001b[0m\n",
      "  raised from /home/hcui7/mambaforge/envs/a/lib/python3.9/site-packages/numba/core/types/functions.py:236\n",
      "\u001b[1m  - Of which 1 did not match due to:\n",
      "  Overload in function 'np_select': File: numba/np/arraymath.py: Line 4292.\n",
      "    With argument(s): '(list(array(bool, 1d, C))<iv=None>, LiteralList((Literal[int](1), array(float64, 1d, C), array(float64, 1d, C), array(float64, 1d, C), Literal[int](0))), default=float64)':\u001b[0m\n",
      "\u001b[1m   Rejected as the implementation raised a specific error:\n",
      "     TypeError: choicelist must be a List or a Tuple\u001b[0m\n",
      "  raised from /home/hcui7/mambaforge/envs/a/lib/python3.9/site-packages/numba/np/arraymath.py:4311\n",
      "\u001b[0m\n",
      "\u001b[0m\u001b[1mDuring: resolving callee type: Function(<function select at 0x7f5e7403dc10>)\u001b[0m\n",
      "\u001b[0m\u001b[1mDuring: typing of call at /home/hcui7/.andes/pycode/ESST3A.py (19)\n",
      "\u001b[0m\n",
      "\u001b[1m\n",
      "File \"../../../.andes/pycode/ESST3A.py\", line 19:\u001b[0m\n",
      "\u001b[1mdef g_update(VB_y, LAW2_y, vout, UEL, UEL0, IN, XadIfd, ue, KC, VE, FEX_y, VB_x, VB_lim_zi, VBMAX, VB_lim_zu, VG_x, KG, VG_y, VGMAX, VG_lim_zu, VG_lim_zi, LAW1_y, vrs, vref, vref0, vi, LG_y, VIMIN, HLI_zi, HLI_zl, VIMAX, HLI_zu, vil, HG_sl_s0, HG_sl_s1, HG_y, TC, TB, LL_x, LL_LT1_z1, LL_LT2_z1, LL_y, vf0):\n",
      "\u001b[1m    return ((LAW2_y*VB_y - vout, -UEL + UEL0, ue*(-IN*VE + KC*XadIfd), -FEX_y + select([less_equal(IN, 0),less_equal(IN, 0.433),less_equal(IN, 0.75),less_equal(IN, 1),greater(IN, 1)], [1,1 - 0.577*IN,sqrt(0.75 - IN**2),1.732 - 1.732*IN,0], default=nan), FEX_y*VE - VB_x, VBMAX*VB_lim_zu + VB_lim_zi*VB_x - VB_y, KG*vout - VG_x, VGMAX*VG_lim_zu + VG_lim_zi*VG_x - VG_y, LAW1_y - VG_y - vrs, -vref + vref0, -LG_y - vi + vref, HLI_zi*vi + HLI_zl*VIMIN + HLI_zu*VIMAX - vil, HG_sl_s0*UEL + HG_sl_s1*vil - HG_y, LL_LT1_z1*LL_LT2_z1*(-LL_x + LL_y) + LL_x*TB - LL_y*TB + TC*(HG_y - LL_x), ue*(-vf0 + vout), 0, 0, 0, 0, 0, 0, 0))\n",
      "\u001b[0m    \u001b[1m^\u001b[0m\u001b[0m\n",
      "\u001b[0m\n",
      "  def g_update(VB_y, LAW2_y, vout, UEL, UEL0, IN, XadIfd, ue, KC, VE, FEX_y, VB_x, VB_lim_zi, VBMAX, VB_lim_zu, VG_x, KG, VG_y, VGMAX, VG_lim_zu, VG_lim_zi, LAW1_y, vrs, vref, vref0, vi, LG_y, VIMIN, HLI_zi, HLI_zl, VIMAX, HLI_zu, vil, HG_sl_s0, HG_sl_s1, HG_y, TC, TB, LL_x, LL_LT1_z1, LL_LT2_z1, LL_y, vf0):\n"
     ]
    },
    {
     "name": "stderr",
     "output_type": "stream",
     "text": [
      "/home/hcui7/mambaforge/envs/a/lib/python3.9/site-packages/numba/core/object_mode_passes.py:151: NumbaWarning: \u001b[1mFunction \"g_update\" was compiled in object mode without forceobj=True.\n",
      "\u001b[1m\n",
      "File \"../../../.andes/pycode/ESST3A.py\", line 18:\u001b[0m\n",
      "\u001b[1m\n",
      "\u001b[1mdef g_update(VB_y, LAW2_y, vout, UEL, UEL0, IN, XadIfd, ue, KC, VE, FEX_y, VB_x, VB_lim_zi, VBMAX, VB_lim_zu, VG_x, KG, VG_y, VGMAX, VG_lim_zu, VG_lim_zi, LAW1_y, vrs, vref, vref0, vi, LG_y, VIMIN, HLI_zi, HLI_zl, VIMAX, HLI_zu, vil, HG_sl_s0, HG_sl_s1, HG_y, TC, TB, LL_x, LL_LT1_z1, LL_LT2_z1, LL_y, vf0):\n",
      "\u001b[0m\u001b[1m^\u001b[0m\u001b[0m\n",
      "\u001b[0m\n",
      "  warnings.warn(errors.NumbaWarning(warn_msg,\n",
      "/home/hcui7/mambaforge/envs/a/lib/python3.9/site-packages/numba/core/object_mode_passes.py:161: NumbaDeprecationWarning: \u001b[1m\n",
      "Fall-back from the nopython compilation path to the object mode compilation path has been detected, this is deprecated behaviour.\n",
      "\n",
      "For more information visit https://numba.pydata.org/numba-doc/latest/reference/deprecation.html#deprecation-of-object-mode-fall-back-behaviour-when-using-jit\n",
      "\u001b[1m\n",
      "File \"../../../.andes/pycode/ESST3A.py\", line 18:\u001b[0m\n",
      "\u001b[1m\n",
      "\u001b[1mdef g_update(VB_y, LAW2_y, vout, UEL, UEL0, IN, XadIfd, ue, KC, VE, FEX_y, VB_x, VB_lim_zi, VBMAX, VB_lim_zu, VG_x, KG, VG_y, VGMAX, VG_lim_zu, VG_lim_zi, LAW1_y, vrs, vref, vref0, vi, LG_y, VIMIN, HLI_zi, HLI_zl, VIMAX, HLI_zu, vil, HG_sl_s0, HG_sl_s1, HG_y, TC, TB, LL_x, LL_LT1_z1, LL_LT2_z1, LL_y, vf0):\n",
      "\u001b[0m\u001b[1m^\u001b[0m\u001b[0m\n",
      "\u001b[0m\n",
      "  warnings.warn(errors.NumbaDeprecationWarning(msg,\n"
     ]
    },
    {
     "name": "stderr",
     "output_type": "stream",
     "text": [
      "/home/hcui7/.andes/pycode/ESST3A.py:30: NumbaWarning: \u001b[1m\n",
      "Compilation is falling back to object mode WITH looplifting enabled because Function \"gy_update\" failed type inference due to: \u001b[1m\u001b[1m\u001b[1mNo implementation of function Function(<function select at 0x7f5e7403dc10>) found for signature:\n",
      " \n",
      " >>> select(LiteralList((array(bool, 1d, C), array(bool, 1d, C), array(bool, 1d, C), array(bool, 1d, C), Literal[bool](True))), LiteralList((Literal[int](0), float64, array(float64, 1d, C), float64, Literal[int](0))), default=float64)\n",
      " \n",
      "There are 2 candidate implementations:\n",
      "\u001b[1m    - Of which 1 did not match due to:\n",
      "    Overload in function 'np_select': File: numba/np/arraymath.py: Line 4292.\n",
      "      With argument(s): '(Poison<LiteralList((array(bool, 1d, C), array(bool, 1d, C), array(bool, 1d, C), array(bool, 1d, C), Literal[bool](True)))>, Poison<LiteralList((Literal[int](0), float64, array(float64, 1d, C), float64, Literal[int](0)))>, default=float64)':\u001b[0m\n",
      "\u001b[1m     Rejected as the implementation raised a specific error:\n",
      "       TypingError: \u001b[1mPoison type used in arguments; got Poison<LiteralList((array(bool, 1d, C), array(bool, 1d, C), array(bool, 1d, C), array(bool, 1d, C), Literal[bool](True)))>\u001b[0m\u001b[0m\n",
      "  raised from /home/hcui7/mambaforge/envs/a/lib/python3.9/site-packages/numba/core/types/functions.py:236\n",
      "\u001b[1m    - Of which 1 did not match due to:\n",
      "    Overload in function 'np_select': File: numba/np/arraymath.py: Line 4292.\n",
      "      With argument(s): '(LiteralList((array(bool, 1d, C), array(bool, 1d, C), array(bool, 1d, C), array(bool, 1d, C), Literal[bool](True))), LiteralList((Literal[int](0), float64, array(float64, 1d, C), float64, Literal[int](0))), default=float64)':\u001b[0m\n",
      "\u001b[1m     Rejected as the implementation raised a specific error:\n",
      "       TypeError: condlist must be a List or a Tuple\u001b[0m\n",
      "  raised from /home/hcui7/mambaforge/envs/a/lib/python3.9/site-packages/numba/np/arraymath.py:4309\n",
      "\u001b[0m\n",
      "\u001b[0m\u001b[1mDuring: resolving callee type: Function(<function select at 0x7f5e7403dc10>)\u001b[0m\n",
      "\u001b[0m\u001b[1mDuring: typing of call at /home/hcui7/.andes/pycode/ESST3A.py (31)\n",
      "\u001b[0m\n",
      "\u001b[1m\n",
      "File \"../../../.andes/pycode/ESST3A.py\", line 31:\u001b[0m\n",
      "\u001b[1mdef gy_update(LAW2_y, VE, ue, KC, IN, VB_lim_zi, KG, VG_lim_zi, HLI_zi, HG_sl_s0, HG_sl_s1, TC, TB, LL_LT1_z1, LL_LT2_z1):\n",
      "\u001b[1m    return ((-1, LAW2_y, -1, -VE*ue, KC*ue, select([less_equal(IN, 0),less_equal(IN, 0.433),less_equal(IN, 0.75),less_equal(IN, 1),True], [0,-0.577,-IN/sqrt(0.75 - IN**2),-1.732,0], default=nan), -1, VE, -1, VB_lim_zi, -1, KG, -1, VG_lim_zi, -1, -1, -1, -1, 1, -1, HLI_zi, -1, HG_sl_s0, HG_sl_s1, -1, TC, LL_LT1_z1*LL_LT2_z1 - TB, ue))\n",
      "\u001b[0m    \u001b[1m^\u001b[0m\u001b[0m\n",
      "\u001b[0m\n",
      "  def gy_update(LAW2_y, VE, ue, KC, IN, VB_lim_zi, KG, VG_lim_zi, HLI_zi, HG_sl_s0, HG_sl_s1, TC, TB, LL_LT1_z1, LL_LT2_z1):\n"
     ]
    },
    {
     "name": "stderr",
     "output_type": "stream",
     "text": [
      "/home/hcui7/mambaforge/envs/a/lib/python3.9/site-packages/numba/core/object_mode_passes.py:151: NumbaWarning: \u001b[1mFunction \"gy_update\" was compiled in object mode without forceobj=True.\n",
      "\u001b[1m\n",
      "File \"../../../.andes/pycode/ESST3A.py\", line 30:\u001b[0m\n",
      "\u001b[1m\n",
      "\u001b[1mdef gy_update(LAW2_y, VE, ue, KC, IN, VB_lim_zi, KG, VG_lim_zi, HLI_zi, HG_sl_s0, HG_sl_s1, TC, TB, LL_LT1_z1, LL_LT2_z1):\n",
      "\u001b[0m\u001b[1m^\u001b[0m\u001b[0m\n",
      "\u001b[0m\n",
      "  warnings.warn(errors.NumbaWarning(warn_msg,\n",
      "/home/hcui7/mambaforge/envs/a/lib/python3.9/site-packages/numba/core/object_mode_passes.py:161: NumbaDeprecationWarning: \u001b[1m\n",
      "Fall-back from the nopython compilation path to the object mode compilation path has been detected, this is deprecated behaviour.\n",
      "\n",
      "For more information visit https://numba.pydata.org/numba-doc/latest/reference/deprecation.html#deprecation-of-object-mode-fall-back-behaviour-when-using-jit\n",
      "\u001b[1m\n",
      "File \"../../../.andes/pycode/ESST3A.py\", line 30:\u001b[0m\n",
      "\u001b[1m\n",
      "\u001b[1mdef gy_update(LAW2_y, VE, ue, KC, IN, VB_lim_zi, KG, VG_lim_zi, HLI_zi, HG_sl_s0, HG_sl_s1, TC, TB, LL_LT1_z1, LL_LT2_z1):\n",
      "\u001b[0m\u001b[1m^\u001b[0m\u001b[0m\n",
      "\u001b[0m\n",
      "  warnings.warn(errors.NumbaDeprecationWarning(msg,\n"
     ]
    },
    {
     "name": "stderr",
     "output_type": "stream",
     "text": [
      "Initialization for dynamics was successful in 17.9066 seconds.\n"
     ]
    },
    {
     "name": "stderr",
     "output_type": "stream",
     "text": [
      "Report saved to \"ieee14_out.txt\" in 0.0032 seconds.\n"
     ]
    },
    {
     "data": {
      "text/plain": [
       "True"
      ]
     },
     "execution_count": 8,
     "metadata": {},
     "output_type": "execute_result"
    }
   ],
   "source": [
    "# calculate power flow\n",
    "\n",
    "# use constant power model for PQ (we will come back to this later)\n",
    "\n",
    "ss.PQ.config.p2p = 1\n",
    "ss.PQ.config.q2q = 1\n",
    "ss.PQ.config.p2z = 0\n",
    "ss.PQ.config.q2z = 0\n",
    "\n",
    "# turn off under-voltage PQ-to-Z conversion\n",
    "ss.PQ.pq2z = 0\n",
    "\n",
    "ss.PFlow.run()"
   ]
  },
  {
   "cell_type": "code",
   "execution_count": 9,
   "metadata": {
    "ExecuteTime": {
     "end_time": "2021-03-20T14:50:31.946502Z",
     "start_time": "2021-03-20T14:50:28.271492Z"
    },
    "execution": {
     "iopub.execute_input": "2021-09-19T22:23:36.344030Z",
     "iopub.status.busy": "2021-09-19T22:23:36.343759Z",
     "iopub.status.idle": "2021-09-19T22:23:39.023039Z",
     "shell.execute_reply": "2021-09-19T22:23:39.022782Z"
    }
   },
   "outputs": [
    {
     "name": "stderr",
     "output_type": "stream",
     "text": [
      "\n",
      "-> Time Domain Simulation Summary:\n",
      "Sparse Solver: KLU\n",
      "Simulation time: 0.0-20 s.\n",
      "Fixed step size: h=33.33 ms. Shrink if not converged.\n"
     ]
    },
    {
     "name": "stdout",
     "output_type": "stream",
     "text": [
      "\r",
      "  0%|                                          | 0/100 [00:00<?, ?%/s]"
     ]
    },
    {
     "name": "stdout",
     "output_type": "stream",
     "text": [
      "\r",
      "                                                                      "
     ]
    },
    {
     "name": "stdout",
     "output_type": "stream",
     "text": [
      "\r"
     ]
    },
    {
     "name": "stdout",
     "output_type": "stream",
     "text": [
      "<Toggler Toggler_3>: SynGen.GENROU_2 status changed to 0 at t=1.0 sec.\n",
      "\r",
      "  5%|█▋                                | 5/100 [00:00<00:00, 96.65%/s]"
     ]
    },
    {
     "name": "stdout",
     "output_type": "stream",
     "text": [
      "\r",
      "  7%|██▍                               | 7/100 [00:00<00:01, 58.14%/s]"
     ]
    },
    {
     "name": "stdout",
     "output_type": "stream",
     "text": [
      "\r",
      " 13%|████▎                            | 13/100 [00:00<00:01, 45.10%/s]"
     ]
    },
    {
     "name": "stdout",
     "output_type": "stream",
     "text": [
      "\r",
      " 18%|█████▉                           | 18/100 [00:00<00:01, 43.51%/s]"
     ]
    },
    {
     "name": "stdout",
     "output_type": "stream",
     "text": [
      "\r",
      " 23%|███████▌                         | 23/100 [00:00<00:01, 42.19%/s]"
     ]
    },
    {
     "name": "stdout",
     "output_type": "stream",
     "text": [
      "\r",
      " 28%|█████████▏                       | 28/100 [00:00<00:01, 42.08%/s]"
     ]
    },
    {
     "name": "stdout",
     "output_type": "stream",
     "text": [
      "\r",
      " 33%|██████████▉                      | 33/100 [00:00<00:01, 41.94%/s]"
     ]
    },
    {
     "name": "stdout",
     "output_type": "stream",
     "text": [
      "\r",
      " 38%|████████████▌                    | 38/100 [00:00<00:01, 43.83%/s]"
     ]
    },
    {
     "name": "stdout",
     "output_type": "stream",
     "text": [
      "\r",
      " 43%|██████████████▏                  | 43/100 [00:00<00:01, 42.32%/s]"
     ]
    },
    {
     "name": "stdout",
     "output_type": "stream",
     "text": [
      "\r",
      " 48%|███████████████▊                 | 48/100 [00:01<00:01, 42.61%/s]"
     ]
    },
    {
     "name": "stdout",
     "output_type": "stream",
     "text": [
      "\r",
      " 53%|█████████████████▍               | 53/100 [00:01<00:01, 42.17%/s]"
     ]
    },
    {
     "name": "stdout",
     "output_type": "stream",
     "text": [
      "\r",
      " 58%|███████████████████▏             | 58/100 [00:01<00:01, 34.51%/s]"
     ]
    },
    {
     "name": "stdout",
     "output_type": "stream",
     "text": [
      "\r",
      " 64%|█████████████████████            | 64/100 [00:01<00:00, 38.84%/s]"
     ]
    },
    {
     "name": "stdout",
     "output_type": "stream",
     "text": [
      "\r",
      " 69%|██████████████████████▊          | 69/100 [00:01<00:00, 39.35%/s]"
     ]
    },
    {
     "name": "stdout",
     "output_type": "stream",
     "text": [
      "\r",
      " 74%|████████████████████████▍        | 74/100 [00:01<00:00, 41.96%/s]"
     ]
    },
    {
     "name": "stdout",
     "output_type": "stream",
     "text": [
      "\r",
      " 79%|██████████████████████████       | 79/100 [00:01<00:00, 43.12%/s]"
     ]
    },
    {
     "name": "stdout",
     "output_type": "stream",
     "text": [
      "\r",
      " 84%|███████████████████████████▋     | 84/100 [00:02<00:00, 38.72%/s]"
     ]
    },
    {
     "name": "stdout",
     "output_type": "stream",
     "text": [
      "\r",
      " 89%|█████████████████████████████▎   | 89/100 [00:02<00:00, 38.75%/s]"
     ]
    },
    {
     "name": "stdout",
     "output_type": "stream",
     "text": [
      "\r",
      " 93%|██████████████████████████████▋  | 93/100 [00:02<00:00, 38.03%/s]"
     ]
    },
    {
     "name": "stdout",
     "output_type": "stream",
     "text": [
      "\r",
      " 97%|████████████████████████████████ | 97/100 [00:02<00:00, 32.23%/s]"
     ]
    },
    {
     "name": "stdout",
     "output_type": "stream",
     "text": [
      "\r",
      "100%|████████████████████████████████| 100/100 [00:02<00:00, 38.24%/s]"
     ]
    },
    {
     "name": "stderr",
     "output_type": "stream",
     "text": [
      "Simulation completed in 2.6159 seconds.\n"
     ]
    },
    {
     "name": "stdout",
     "output_type": "stream",
     "text": [
      "\n"
     ]
    },
    {
     "name": "stderr",
     "output_type": "stream",
     "text": [
      "Outputs to \"ieee14_out.lst\" and \"ieee14_out.npz\".\n"
     ]
    },
    {
     "name": "stderr",
     "output_type": "stream",
     "text": [
      "Outputs written in 0.0448 seconds.\n"
     ]
    },
    {
     "data": {
      "text/plain": [
       "True"
      ]
     },
     "execution_count": 9,
     "metadata": {},
     "output_type": "execute_result"
    }
   ],
   "source": [
    "# set the first simulation stop and run it\n",
    "\n",
    "ss.TDS.config.tf = 20\n",
    "\n",
    "ss.TDS.run()"
   ]
  },
  {
   "cell_type": "code",
   "execution_count": 10,
   "metadata": {
    "ExecuteTime": {
     "end_time": "2021-03-20T14:50:33.637699Z",
     "start_time": "2021-03-20T14:50:31.947639Z"
    },
    "execution": {
     "iopub.execute_input": "2021-09-19T22:23:39.026366Z",
     "iopub.status.busy": "2021-09-19T22:23:39.024780Z",
     "iopub.status.idle": "2021-09-19T22:23:39.465469Z",
     "shell.execute_reply": "2021-09-19T22:23:39.465728Z"
    }
   },
   "outputs": [
    {
     "data": {
      "image/png": "[encoded data removed]",
      "text/plain": [
       "<Figure size 600x400 with 1 Axes>"
      ]
     },
     "metadata": {
      "needs_background": "light"
     },
     "output_type": "display_data"
    },
    {
     "data": {
      "text/plain": [
       "(<Figure size 600x400 with 1 Axes>, <AxesSubplot:xlabel='Time [s]'>)"
      ]
     },
     "execution_count": 10,
     "metadata": {},
     "output_type": "execute_result"
    }
   ],
   "source": [
    "# Show the frequency response of online generators\n",
    "\n",
    "# Refer to `plot` documentation by using `help(ss.TDS.plt.plot)` and `help(ss.TDS.plt.plot_data)`\n",
    "ss.TDS.load_plotter()\n",
    "\n",
    "ss.TDS.plt.plot(ss.GENROU.omega,\n",
    "                a=(0, 2, 3, 4),\n",
    "                ytimes=60,\n",
    "               )"
   ]
  },
  {
   "cell_type": "markdown",
   "metadata": {},
   "source": [
    "## Adjusting Load to Compensate for the Generation Loss"
   ]
  },
  {
   "cell_type": "markdown",
   "metadata": {},
   "source": [
    "Check the power of the lost generator by inspecting the power flow inputs:"
   ]
  },
  {
   "cell_type": "code",
   "execution_count": 11,
   "metadata": {
    "ExecuteTime": {
     "end_time": "2021-03-20T14:50:33.653861Z",
     "start_time": "2021-03-20T14:50:33.638918Z"
    },
    "execution": {
     "iopub.execute_input": "2021-09-19T22:23:39.474335Z",
     "iopub.status.busy": "2021-09-19T22:23:39.470989Z",
     "iopub.status.idle": "2021-09-19T22:23:39.481382Z",
     "shell.execute_reply": "2021-09-19T22:23:39.481096Z"
    },
    "scrolled": true
   },
   "outputs": [
    {
     "data": {
      "text/html": [
       "<div>\n",
       "<style scoped>\n",
       "    .dataframe tbody tr th:only-of-type {\n",
       "        vertical-align: middle;\n",
       "    }\n",
       "\n",
       "    .dataframe tbody tr th {\n",
       "        vertical-align: top;\n",
       "    }\n",
       "\n",
       "    .dataframe thead th {\n",
       "        text-align: right;\n",
       "    }\n",
       "</style>\n",
       "<table border=\"1\" class=\"dataframe\">\n",
       "  <thead>\n",
       "    <tr style=\"text-align: right;\">\n",
       "      <th></th>\n",
       "      <th>idx</th>\n",
       "      <th>u</th>\n",
       "      <th>name</th>\n",
       "      <th>Sn</th>\n",
       "      <th>Vn</th>\n",
       "      <th>bus</th>\n",
       "      <th>busr</th>\n",
       "      <th>p0</th>\n",
       "      <th>q0</th>\n",
       "      <th>pmax</th>\n",
       "      <th>pmin</th>\n",
       "      <th>qmax</th>\n",
       "      <th>qmin</th>\n",
       "      <th>v0</th>\n",
       "      <th>vmax</th>\n",
       "      <th>vmin</th>\n",
       "      <th>ra</th>\n",
       "      <th>xs</th>\n",
       "    </tr>\n",
       "    <tr>\n",
       "      <th>uid</th>\n",
       "      <th></th>\n",
       "      <th></th>\n",
       "      <th></th>\n",
       "      <th></th>\n",
       "      <th></th>\n",
       "      <th></th>\n",
       "      <th></th>\n",
       "      <th></th>\n",
       "      <th></th>\n",
       "      <th></th>\n",
       "      <th></th>\n",
       "      <th></th>\n",
       "      <th></th>\n",
       "      <th></th>\n",
       "      <th></th>\n",
       "      <th></th>\n",
       "      <th></th>\n",
       "      <th></th>\n",
       "    </tr>\n",
       "  </thead>\n",
       "  <tbody>\n",
       "    <tr>\n",
       "      <th>0</th>\n",
       "      <td>2</td>\n",
       "      <td>0.0</td>\n",
       "      <td>2</td>\n",
       "      <td>100.0</td>\n",
       "      <td>69.0</td>\n",
       "      <td>2</td>\n",
       "      <td>None</td>\n",
       "      <td>0.40</td>\n",
       "      <td>0.15</td>\n",
       "      <td>0.5</td>\n",
       "      <td>0.1</td>\n",
       "      <td>0.15</td>\n",
       "      <td>-0.40</td>\n",
       "      <td>1.03</td>\n",
       "      <td>1.4</td>\n",
       "      <td>0.6</td>\n",
       "      <td>0.0</td>\n",
       "      <td>0.13</td>\n",
       "    </tr>\n",
       "    <tr>\n",
       "      <th>1</th>\n",
       "      <td>3</td>\n",
       "      <td>0.0</td>\n",
       "      <td>3</td>\n",
       "      <td>100.0</td>\n",
       "      <td>69.0</td>\n",
       "      <td>3</td>\n",
       "      <td>None</td>\n",
       "      <td>0.40</td>\n",
       "      <td>0.15</td>\n",
       "      <td>0.5</td>\n",
       "      <td>0.1</td>\n",
       "      <td>0.15</td>\n",
       "      <td>-0.10</td>\n",
       "      <td>1.01</td>\n",
       "      <td>1.4</td>\n",
       "      <td>0.6</td>\n",
       "      <td>0.0</td>\n",
       "      <td>0.13</td>\n",
       "    </tr>\n",
       "    <tr>\n",
       "      <th>2</th>\n",
       "      <td>4</td>\n",
       "      <td>0.0</td>\n",
       "      <td>4</td>\n",
       "      <td>100.0</td>\n",
       "      <td>138.0</td>\n",
       "      <td>6</td>\n",
       "      <td>None</td>\n",
       "      <td>0.30</td>\n",
       "      <td>0.10</td>\n",
       "      <td>0.5</td>\n",
       "      <td>0.1</td>\n",
       "      <td>0.10</td>\n",
       "      <td>-0.06</td>\n",
       "      <td>1.03</td>\n",
       "      <td>1.4</td>\n",
       "      <td>0.6</td>\n",
       "      <td>0.0</td>\n",
       "      <td>0.12</td>\n",
       "    </tr>\n",
       "    <tr>\n",
       "      <th>3</th>\n",
       "      <td>5</td>\n",
       "      <td>0.0</td>\n",
       "      <td>5</td>\n",
       "      <td>100.0</td>\n",
       "      <td>69.0</td>\n",
       "      <td>8</td>\n",
       "      <td>None</td>\n",
       "      <td>0.35</td>\n",
       "      <td>0.10</td>\n",
       "      <td>0.5</td>\n",
       "      <td>0.1</td>\n",
       "      <td>0.10</td>\n",
       "      <td>-0.06</td>\n",
       "      <td>1.03</td>\n",
       "      <td>1.4</td>\n",
       "      <td>0.6</td>\n",
       "      <td>0.0</td>\n",
       "      <td>0.12</td>\n",
       "    </tr>\n",
       "  </tbody>\n",
       "</table>\n",
       "</div>"
      ],
      "text/plain": [
       "     idx    u  name     Sn     Vn  bus  busr    p0    q0  pmax  pmin  qmax  \\\n",
       "uid                                                                          \n",
       "0      2  0.0     2  100.0   69.0    2  None  0.40  0.15   0.5   0.1  0.15   \n",
       "1      3  0.0     3  100.0   69.0    3  None  0.40  0.15   0.5   0.1  0.15   \n",
       "2      4  0.0     4  100.0  138.0    6  None  0.30  0.10   0.5   0.1  0.10   \n",
       "3      5  0.0     5  100.0   69.0    8  None  0.35  0.10   0.5   0.1  0.10   \n",
       "\n",
       "     qmin    v0  vmax  vmin   ra    xs  \n",
       "uid                                     \n",
       "0   -0.40  1.03   1.4   0.6  0.0  0.13  \n",
       "1   -0.10  1.01   1.4   0.6  0.0  0.13  \n",
       "2   -0.06  1.03   1.4   0.6  0.0  0.12  \n",
       "3   -0.06  1.03   1.4   0.6  0.0  0.12  "
      ]
     },
     "execution_count": 11,
     "metadata": {},
     "output_type": "execute_result"
    }
   ],
   "source": [
    "ss.PV.as_df()"
   ]
  },
  {
   "cell_type": "markdown",
   "metadata": {},
   "source": [
    "The tripped GENROU_2 correspond to the first PV (GENROU_1 corresponds to Slack). Thus, the lost active power is 0.40 pu.\n",
    "\n",
    "Let's compensate for that by shedding 0.4 pu of active power load at t=2.0 s.\n",
    "\n",
    "By checking the equation documentation of PQ (using `print(ss.PQ.doc())`, we can tell that the imposed active power for time-domain simulation is from `Ppf`, because we used the constant power model with `p2p = 1`.\n",
    "\n",
    "```\n",
    "Algebraic Equations\n",
    "\n",
    "Name |   Type   |                RHS of Equation \"0 = g(x, y)\"                \n",
    "-----+----------+-------------------------------------------------------------\n",
    " a   | ExtAlgeb | u * (dae_t <= 0) * (p0 * vcmp_zi + Rlb * vcmp_zl * v**2 +   \n",
    "     |          | Rub * vcmp_zu * v**2) + u * (dae_t > 0) * (p2p * Ppf + p2i *\n",
    "     |          | Ipeq * v + p2z * Req * v**2)                                \n",
    " v   | ExtAlgeb | u * (dae_t <= 0) * (q0 * vcmp_zi + Xlb * vcmp_zl * v**2 +   \n",
    "     |          | Xub * vcmp_zu * v**2) + u * (dae_t > 0) * (q2q * Qpf + q2i *\n",
    "     |          | Iqeq * v + q2z * Xeq * v**2)                                \n",
    "\n",
    "```\n",
    "\n",
    "`Ppf` may be different from `p0` specified in the data file."
   ]
  },
  {
   "cell_type": "code",
   "execution_count": 12,
   "metadata": {
    "ExecuteTime": {
     "end_time": "2021-03-20T14:50:33.662293Z",
     "start_time": "2021-03-20T14:50:33.655315Z"
    },
    "execution": {
     "iopub.execute_input": "2021-09-19T22:23:39.484238Z",
     "iopub.status.busy": "2021-09-19T22:23:39.483989Z",
     "iopub.status.idle": "2021-09-19T22:23:39.486341Z",
     "shell.execute_reply": "2021-09-19T22:23:39.486533Z"
    }
   },
   "outputs": [
    {
     "data": {
      "text/plain": [
       "array([0.217, 0.5  , 0.478, 0.076, 0.15 , 0.295, 0.09 , 0.035, 0.061,\n",
       "       0.135, 0.2  ])"
      ]
     },
     "execution_count": 12,
     "metadata": {},
     "output_type": "execute_result"
    }
   ],
   "source": [
    "# active power from power flow solution - make a copy\n",
    "\n",
    "Ppf = np.array(ss.PQ.Ppf.v)\n",
    "\n",
    "Ppf"
   ]
  },
  {
   "cell_type": "markdown",
   "metadata": {},
   "source": [
    "Reload the system and add the generator trip."
   ]
  },
  {
   "cell_type": "code",
   "execution_count": 13,
   "metadata": {
    "ExecuteTime": {
     "end_time": "2021-03-20T14:50:33.843520Z",
     "start_time": "2021-03-20T14:50:33.664077Z"
    },
    "execution": {
     "iopub.execute_input": "2021-09-19T22:23:39.489975Z",
     "iopub.status.busy": "2021-09-19T22:23:39.489664Z",
     "iopub.status.idle": "2021-09-19T22:23:40.379309Z",
     "shell.execute_reply": "2021-09-19T22:23:40.379876Z"
    }
   },
   "outputs": [
    {
     "name": "stderr",
     "output_type": "stream",
     "text": [
      "Working directory: \"/home/hcui7/repos/andes/examples\"\n"
     ]
    },
    {
     "name": "stderr",
     "output_type": "stream",
     "text": [
      "Loaded config from file \"/home/hcui7/.andes/andes.rc\"\n"
     ]
    },
    {
     "name": "stderr",
     "output_type": "stream",
     "text": [
      "Loaded generated Python code in \"~/.andes/pycode\".\n"
     ]
    },
    {
     "name": "stderr",
     "output_type": "stream",
     "text": [
      "Parsing input file \"/home/hcui7/repos/andes/andes/cases/ieee14/ieee14.raw\"...\n"
     ]
    },
    {
     "name": "stderr",
     "output_type": "stream",
     "text": [
      "  IEEE 14 BUS TEST CASE\n"
     ]
    },
    {
     "name": "stderr",
     "output_type": "stream",
     "text": [
      "  03/06/14 CONTO           100.0  1962 W\n"
     ]
    },
    {
     "name": "stderr",
     "output_type": "stream",
     "text": [
      "Input file parsed in 0.0081 seconds.\n"
     ]
    },
    {
     "name": "stderr",
     "output_type": "stream",
     "text": [
      "Parsing additional file \"/home/hcui7/repos/andes/andes/cases/ieee14/ieee14.dyr\"...\n"
     ]
    },
    {
     "name": "stderr",
     "output_type": "stream",
     "text": [
      "Addfile parsed in 0.3892 seconds.\n"
     ]
    },
    {
     "name": "stderr",
     "output_type": "stream",
     "text": [
      "IEEEST <IEEEST_1> added BusFreq <BusFreq_1> linked to bus <3.0>\n"
     ]
    },
    {
     "name": "stderr",
     "output_type": "stream",
     "text": [
      "ST2CUT <ST2CUT_2> added BusFreq <BusFreq_2> linked to bus <1.0>\n"
     ]
    },
    {
     "name": "stderr",
     "output_type": "stream",
     "text": [
      "ST2CUT <ST2CUT_3> added BusFreq <BusFreq_3> linked to bus <2.0>\n"
     ]
    },
    {
     "name": "stderr",
     "output_type": "stream",
     "text": [
      "System internal structure set up in 0.0303 seconds.\n"
     ]
    },
    {
     "name": "stderr",
     "output_type": "stream",
     "text": [
      "-> System connectivity check results:\n"
     ]
    },
    {
     "name": "stderr",
     "output_type": "stream",
     "text": [
      "  No islanded bus detected.\n"
     ]
    },
    {
     "name": "stderr",
     "output_type": "stream",
     "text": [
      "  A total of 1 island(s) detected.\n"
     ]
    },
    {
     "name": "stderr",
     "output_type": "stream",
     "text": [
      "  Each island has a slack bus correctly defined and enabled.\n"
     ]
    },
    {
     "name": "stderr",
     "output_type": "stream",
     "text": [
      "\n",
      "-> Power flow calculation\n",
      "   Sparse solver: KLU\n",
      " Solution method: NR method\n",
      " Sparse addition: Fast in-place (kvxopt)\n"
     ]
    },
    {
     "name": "stderr",
     "output_type": "stream",
     "text": [
      "Numba compilation initiated, parallel=False, cache=True.\n"
     ]
    },
    {
     "name": "stderr",
     "output_type": "stream",
     "text": [
      "Power flow initialized.\n"
     ]
    },
    {
     "name": "stderr",
     "output_type": "stream",
     "text": [
      "0: |F(x)| = 0.5605182134\n"
     ]
    },
    {
     "name": "stderr",
     "output_type": "stream",
     "text": [
      "1: |F(x)| = 0.006202200332\n"
     ]
    },
    {
     "name": "stderr",
     "output_type": "stream",
     "text": [
      "2: |F(x)| = 5.819382827e-06\n"
     ]
    },
    {
     "name": "stderr",
     "output_type": "stream",
     "text": [
      "3: |F(x)| = 6.957087684e-12\n"
     ]
    },
    {
     "name": "stderr",
     "output_type": "stream",
     "text": [
      "Converged in 4 iterations in 0.0044 seconds.\n"
     ]
    },
    {
     "name": "stderr",
     "output_type": "stream",
     "text": [
      "Numba compilation initiated, parallel=False, cache=True.\n"
     ]
    },
    {
     "name": "stderr",
     "output_type": "stream",
     "text": [
      "Initialization for dynamics was successful in 0.2978 seconds.\n"
     ]
    },
    {
     "name": "stderr",
     "output_type": "stream",
     "text": [
      "Report saved to \"ieee14_out.txt\" in 0.0052 seconds.\n"
     ]
    },
    {
     "data": {
      "text/plain": [
       "True"
      ]
     },
     "execution_count": 13,
     "metadata": {},
     "output_type": "execute_result"
    }
   ],
   "source": [
    "ss = andes.load(ieee14_raw, addfile=ieee14_dyr, setup=False)\n",
    "\n",
    "ss.add(\"Toggler\", dict(model='SynGen', dev=\"GENROU_2\", t=1.0))\n",
    "ss.setup()\n",
    "ss.Toggler.u.v[[0, 1]] = 0\n",
    "\n",
    "\n",
    "ss.PQ.config.p2p = 1\n",
    "ss.PQ.config.q2q = 1\n",
    "ss.PQ.config.p2z = 0\n",
    "ss.PQ.config.q2z = 0\n",
    "ss.PQ.pq2z = 0\n",
    "\n",
    "ss.PFlow.run()"
   ]
  },
  {
   "cell_type": "markdown",
   "metadata": {},
   "source": [
    "But let's run to 2 seconds."
   ]
  },
  {
   "cell_type": "code",
   "execution_count": 14,
   "metadata": {
    "ExecuteTime": {
     "end_time": "2021-03-20T14:50:34.359640Z",
     "start_time": "2021-03-20T14:50:33.844497Z"
    },
    "execution": {
     "iopub.execute_input": "2021-09-19T22:23:40.382374Z",
     "iopub.status.busy": "2021-09-19T22:23:40.381699Z",
     "iopub.status.idle": "2021-09-19T22:23:40.622359Z",
     "shell.execute_reply": "2021-09-19T22:23:40.622570Z"
    }
   },
   "outputs": [
    {
     "name": "stderr",
     "output_type": "stream",
     "text": [
      "\n",
      "-> Time Domain Simulation Summary:\n",
      "Sparse Solver: KLU\n",
      "Simulation time: 0.0-2.0 s.\n",
      "Fixed step size: h=33.33 ms. Shrink if not converged.\n"
     ]
    },
    {
     "name": "stdout",
     "output_type": "stream",
     "text": [
      "\r",
      "  0%|                                          | 0/100 [00:00<?, ?%/s]"
     ]
    },
    {
     "name": "stdout",
     "output_type": "stream",
     "text": [
      "\r",
      "                                                                      "
     ]
    },
    {
     "name": "stdout",
     "output_type": "stream",
     "text": [
      "\r"
     ]
    },
    {
     "name": "stdout",
     "output_type": "stream",
     "text": [
      "<Toggler Toggler_3>: SynGen.GENROU_2 status changed to 0 at t=1.0 sec.\n",
      "\r",
      " 31%|█████████▉                      | 31/100 [00:00<00:00, 696.89%/s]"
     ]
    },
    {
     "name": "stdout",
     "output_type": "stream",
     "text": [
      "\r",
      " 40%|████████████▊                   | 40/100 [00:00<00:00, 376.85%/s]"
     ]
    },
    {
     "name": "stdout",
     "output_type": "stream",
     "text": [
      "\r",
      " 66%|█████████████████████           | 66/100 [00:00<00:00, 297.71%/s]"
     ]
    },
    {
     "name": "stderr",
     "output_type": "stream",
     "text": [
      "Simulation completed in 0.2225 seconds.\n"
     ]
    },
    {
     "name": "stderr",
     "output_type": "stream",
     "text": [
      "Outputs to \"ieee14_out.lst\" and \"ieee14_out.npz\".\n"
     ]
    },
    {
     "name": "stderr",
     "output_type": "stream",
     "text": [
      "Outputs written in 0.0059 seconds.\n"
     ]
    },
    {
     "name": "stdout",
     "output_type": "stream",
     "text": [
      "\n"
     ]
    },
    {
     "data": {
      "text/plain": [
       "True"
      ]
     },
     "execution_count": 14,
     "metadata": {},
     "output_type": "execute_result"
    }
   ],
   "source": [
    "ss.TDS.config.tf = 2.0\n",
    "\n",
    "ss.TDS.run()"
   ]
  },
  {
   "cell_type": "code",
   "execution_count": 15,
   "metadata": {
    "ExecuteTime": {
     "end_time": "2021-03-20T14:50:34.365314Z",
     "start_time": "2021-03-20T14:50:34.361320Z"
    },
    "execution": {
     "iopub.execute_input": "2021-09-19T22:23:40.625604Z",
     "iopub.status.busy": "2021-09-19T22:23:40.625317Z",
     "iopub.status.idle": "2021-09-19T22:23:40.627898Z",
     "shell.execute_reply": "2021-09-19T22:23:40.627568Z"
    }
   },
   "outputs": [
    {
     "data": {
      "text/plain": [
       "array([0.217, 0.5  , 0.478, 0.076, 0.15 , 0.295, 0.09 , 0.035, 0.061,\n",
       "       0.135, 0.2  ])"
      ]
     },
     "execution_count": 15,
     "metadata": {},
     "output_type": "execute_result"
    }
   ],
   "source": [
    "# all `Ppf` before shedding\n",
    "\n",
    "ss.PQ.Ppf.v"
   ]
  },
  {
   "cell_type": "markdown",
   "metadata": {},
   "source": [
    "And then apply the load shedding on buses 2, 3, 4, 5, 6, 9."
   ]
  },
  {
   "cell_type": "code",
   "execution_count": 16,
   "metadata": {
    "ExecuteTime": {
     "end_time": "2021-03-20T14:50:34.371683Z",
     "start_time": "2021-03-20T14:50:34.366907Z"
    },
    "execution": {
     "iopub.execute_input": "2021-09-19T22:23:40.630890Z",
     "iopub.status.busy": "2021-09-19T22:23:40.630610Z",
     "iopub.status.idle": "2021-09-19T22:23:40.633466Z",
     "shell.execute_reply": "2021-09-19T22:23:40.633195Z"
    }
   },
   "outputs": [
    {
     "data": {
      "text/plain": [
       "['PQ_1', 'PQ_2', 'PQ_3', 'PQ_4', 'PQ_5', 'PQ_6']"
      ]
     },
     "execution_count": 16,
     "metadata": {},
     "output_type": "execute_result"
    }
   ],
   "source": [
    "shed_buses = [2, 3, 4, 5, 6, 9]\n",
    "\n",
    "# find the `idx` of the loads on these buses\n",
    "\n",
    "pq_shed_idx = ss.PQ.find_idx(keys='bus', values=shed_buses)\n",
    "pq_shed_idx"
   ]
  },
  {
   "cell_type": "code",
   "execution_count": 17,
   "metadata": {
    "ExecuteTime": {
     "end_time": "2021-03-20T14:50:34.377719Z",
     "start_time": "2021-03-20T14:50:34.373283Z"
    },
    "execution": {
     "iopub.execute_input": "2021-09-19T22:23:40.636896Z",
     "iopub.status.busy": "2021-09-19T22:23:40.636569Z",
     "iopub.status.idle": "2021-09-19T22:23:40.638856Z",
     "shell.execute_reply": "2021-09-19T22:23:40.639059Z"
    }
   },
   "outputs": [
    {
     "data": {
      "text/plain": [
       "array([0.217, 0.5  , 0.478, 0.076, 0.15 , 0.295])"
      ]
     },
     "execution_count": 17,
     "metadata": {},
     "output_type": "execute_result"
    }
   ],
   "source": [
    "# get `Ppf` on these buses before shedding\n",
    "\n",
    "pq_p = ss.PQ.get(src='Ppf', idx=pq_shed_idx, attr='v')\n",
    "pq_p"
   ]
  },
  {
   "cell_type": "code",
   "execution_count": 18,
   "metadata": {
    "ExecuteTime": {
     "end_time": "2021-03-20T14:50:34.383710Z",
     "start_time": "2021-03-20T14:50:34.379275Z"
    },
    "execution": {
     "iopub.execute_input": "2021-09-19T22:23:40.641972Z",
     "iopub.status.busy": "2021-09-19T22:23:40.641672Z",
     "iopub.status.idle": "2021-09-19T22:23:40.643989Z",
     "shell.execute_reply": "2021-09-19T22:23:40.644218Z"
    }
   },
   "outputs": [
    {
     "data": {
      "text/plain": [
       "True"
      ]
     },
     "execution_count": 18,
     "metadata": {},
     "output_type": "execute_result"
    }
   ],
   "source": [
    "pq_p_new = pq_p - 0.4 / len(shed_buses)\n",
    "\n",
    "ss.PQ.set(src='Ppf', idx=pq_shed_idx, attr='v', value=pq_p_new)"
   ]
  },
  {
   "cell_type": "code",
   "execution_count": 19,
   "metadata": {
    "ExecuteTime": {
     "end_time": "2021-03-20T14:50:34.388943Z",
     "start_time": "2021-03-20T14:50:34.385210Z"
    },
    "execution": {
     "iopub.execute_input": "2021-09-19T22:23:40.646852Z",
     "iopub.status.busy": "2021-09-19T22:23:40.646556Z",
     "iopub.status.idle": "2021-09-19T22:23:40.649280Z",
     "shell.execute_reply": "2021-09-19T22:23:40.648965Z"
    }
   },
   "outputs": [
    {
     "data": {
      "text/plain": [
       "array([0.15033333, 0.43333333, 0.41133333, 0.00933333, 0.08333333,\n",
       "       0.22833333, 0.09      , 0.035     , 0.061     , 0.135     ,\n",
       "       0.2       ])"
      ]
     },
     "execution_count": 19,
     "metadata": {},
     "output_type": "execute_result"
    }
   ],
   "source": [
    "# double check\n",
    "\n",
    "ss.PQ.Ppf.v"
   ]
  },
  {
   "cell_type": "code",
   "execution_count": 20,
   "metadata": {
    "ExecuteTime": {
     "end_time": "2021-03-20T14:50:38.328264Z",
     "start_time": "2021-03-20T14:50:34.390379Z"
    },
    "execution": {
     "iopub.execute_input": "2021-09-19T22:23:40.652208Z",
     "iopub.status.busy": "2021-09-19T22:23:40.651885Z",
     "iopub.status.idle": "2021-09-19T22:23:43.797409Z",
     "shell.execute_reply": "2021-09-19T22:23:43.797581Z"
    },
    "scrolled": false
   },
   "outputs": [
    {
     "name": "stdout",
     "output_type": "stream",
     "text": [
      "\r",
      "  0%|                                          | 0/100 [00:00<?, ?%/s]"
     ]
    },
    {
     "name": "stdout",
     "output_type": "stream",
     "text": [
      "\r",
      " 13%|████                           | 13.0/100 [00:00<00:00, 93.56%/s]"
     ]
    },
    {
     "name": "stdout",
     "output_type": "stream",
     "text": [
      "\r",
      " 23%|███████▏                       | 23.0/100 [00:00<00:01, 46.02%/s]"
     ]
    },
    {
     "name": "stdout",
     "output_type": "stream",
     "text": [
      "\r",
      " 29%|████████▉                      | 29.0/100 [00:00<00:01, 40.49%/s]"
     ]
    },
    {
     "name": "stdout",
     "output_type": "stream",
     "text": [
      "\r",
      " 34%|██████████▌                    | 34.0/100 [00:00<00:01, 37.89%/s]"
     ]
    },
    {
     "name": "stdout",
     "output_type": "stream",
     "text": [
      "\r",
      " 39%|████████████                   | 39.0/100 [00:00<00:01, 38.25%/s]"
     ]
    },
    {
     "name": "stdout",
     "output_type": "stream",
     "text": [
      "\r",
      " 43%|█████████████▎                 | 43.0/100 [00:01<00:01, 36.04%/s]"
     ]
    },
    {
     "name": "stdout",
     "output_type": "stream",
     "text": [
      "\r",
      " 47%|██████████████▌                | 47.0/100 [00:01<00:01, 36.37%/s]"
     ]
    },
    {
     "name": "stdout",
     "output_type": "stream",
     "text": [
      "\r",
      " 51%|███████████████▊               | 51.0/100 [00:01<00:01, 37.10%/s]"
     ]
    },
    {
     "name": "stdout",
     "output_type": "stream",
     "text": [
      "\r",
      " 55%|█████████████████              | 55.0/100 [00:01<00:01, 34.98%/s]"
     ]
    },
    {
     "name": "stdout",
     "output_type": "stream",
     "text": [
      "\r",
      " 60%|██████████████████▌            | 60.0/100 [00:01<00:01, 38.04%/s]"
     ]
    },
    {
     "name": "stdout",
     "output_type": "stream",
     "text": [
      "\r",
      " 64%|███████████████████▊           | 64.0/100 [00:01<00:01, 33.53%/s]"
     ]
    },
    {
     "name": "stdout",
     "output_type": "stream",
     "text": [
      "\r",
      " 68%|█████████████████████          | 68.0/100 [00:01<00:01, 31.86%/s]"
     ]
    },
    {
     "name": "stdout",
     "output_type": "stream",
     "text": [
      "\r",
      " 73%|██████████████████████▋        | 73.0/100 [00:01<00:00, 36.09%/s]"
     ]
    },
    {
     "name": "stdout",
     "output_type": "stream",
     "text": [
      "\r",
      " 78%|████████████████████████▏      | 78.0/100 [00:02<00:00, 37.77%/s]"
     ]
    },
    {
     "name": "stdout",
     "output_type": "stream",
     "text": [
      "\r",
      " 83%|█████████████████████████▋     | 83.0/100 [00:02<00:00, 38.51%/s]"
     ]
    },
    {
     "name": "stdout",
     "output_type": "stream",
     "text": [
      "\r",
      " 87%|██████████████████████████▉    | 87.0/100 [00:02<00:00, 34.17%/s]"
     ]
    },
    {
     "name": "stdout",
     "output_type": "stream",
     "text": [
      "\r",
      " 91%|████████████████████████████▏  | 91.0/100 [00:02<00:00, 34.03%/s]"
     ]
    },
    {
     "name": "stdout",
     "output_type": "stream",
     "text": [
      "\r",
      " 95%|█████████████████████████████▍ | 95.0/100 [00:02<00:00, 33.30%/s]"
     ]
    },
    {
     "name": "stdout",
     "output_type": "stream",
     "text": [
      "\r",
      " 99%|██████████████████████████████▋| 99.0/100 [00:02<00:00, 34.10%/s]"
     ]
    },
    {
     "name": "stdout",
     "output_type": "stream",
     "text": [
      "\r",
      "100%|██████████████████████████████| 100.0/100 [00:02<00:00, 37.02%/s]"
     ]
    },
    {
     "name": "stderr",
     "output_type": "stream",
     "text": [
      "Simulation completed in 2.7022 seconds.\n"
     ]
    },
    {
     "name": "stdout",
     "output_type": "stream",
     "text": [
      "\n"
     ]
    },
    {
     "name": "stderr",
     "output_type": "stream",
     "text": [
      "Outputs to \"ieee14_out.lst\" and \"ieee14_out.npz\".\n"
     ]
    },
    {
     "name": "stderr",
     "output_type": "stream",
     "text": [
      "Outputs written in 0.0868 seconds.\n"
     ]
    },
    {
     "data": {
      "image/png": "[encoded data removed]",
      "text/plain": [
       "<Figure size 600x400 with 1 Axes>"
      ]
     },
     "metadata": {
      "needs_background": "light"
     },
     "output_type": "display_data"
    },
    {
     "data": {
      "text/plain": [
       "(<Figure size 600x400 with 1 Axes>, <AxesSubplot:xlabel='Time [s]'>)"
      ]
     },
     "execution_count": 20,
     "metadata": {},
     "output_type": "execute_result"
    }
   ],
   "source": [
    "ss.TDS.config.tf = 20\n",
    "\n",
    "ss.TDS.run()\n",
    "\n",
    "\n",
    "ss.TDS.plt.plot(ss.GENROU.omega,\n",
    "                a=(0, 2, 3, 4),\n",
    "                ytimes=60,\n",
    "               )"
   ]
  },
  {
   "cell_type": "code",
   "execution_count": 21,
   "metadata": {
    "execution": {
     "iopub.execute_input": "2021-09-19T22:23:43.805348Z",
     "iopub.status.busy": "2021-09-19T22:23:43.804937Z",
     "iopub.status.idle": "2021-09-19T22:23:44.505482Z",
     "shell.execute_reply": "2021-09-19T22:23:44.505208Z"
    }
   },
   "outputs": [
    {
     "name": "stdout",
     "output_type": "stream",
     "text": [
      "\r\n",
      "    _           _         | Version 1.4.2.post33.dev0+g135cb3eb\r\n",
      "   /_\\  _ _  __| |___ ___ | Python 3.9.6 on Linux, 09/19/2021 05:23:44 PM\r\n",
      "  / _ \\| ' \\/ _` / -_|_-< | \r\n",
      " /_/ \\_\\_||_\\__,_\\___/__/ | This program comes with ABSOLUTELY NO WARRANTY.\r\n",
      "\r\n",
      "No output file found in the working directory.\r\n"
     ]
    }
   ],
   "source": [
    "!andes misc -C"
   ]
  },
  {
   "cell_type": "markdown",
   "metadata": {},
   "source": [
    "The result shows the generator speed (frequency) returns to 60 Hz after load shedding. "
   ]
  }
 ],
 "metadata": {
  "kernelspec": {
   "display_name": "Python 3",
   "language": "python",
   "name": "python3"
  },
  "language_info": {
   "codemirror_mode": {
    "name": "ipython",
    "version": 3
   },
   "file_extension": ".py",
   "mimetype": "text/x-python",
   "name": "python",
   "nbconvert_exporter": "python",
   "pygments_lexer": "ipython3",
   "version": "3.9.6"
  },
  "varInspector": {
   "cols": {
    "lenName": 16,
    "lenType": 16,
    "lenVar": 40
   },
   "kernels_config": {
    "python": {
     "delete_cmd_postfix": "",
     "delete_cmd_prefix": "del ",
     "library": "var_list.py",
     "varRefreshCmd": "print(var_dic_list())"
    },
    "r": {
     "delete_cmd_postfix": ") ",
     "delete_cmd_prefix": "rm(",
     "library": "var_list.r",
     "varRefreshCmd": "cat(var_dic_list()) "
    }
   },
   "types_to_exclude": [
    "module",
    "function",
    "builtin_function_or_method",
    "instance",
    "_Feature"
   ],
   "window_display": false
  }
 },
 "nbformat": 4,
 "nbformat_minor": 4
}
