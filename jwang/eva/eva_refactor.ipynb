{
 "cells": [
  {
   "cell_type": "code",
   "execution_count": 1,
   "metadata": {},
   "outputs": [],
   "source": [
    "import numpy as np\n",
    "import pandas as pd\n",
    "\n",
    "from eva import EVStation\n",
    "from eva import DictAttr"
   ]
  },
  {
   "cell_type": "code",
   "execution_count": 2,
   "metadata": {},
   "outputs": [],
   "source": [
    "from tqdm import tqdm\n",
    "import sys\n",
    "import time\n",
    "import timeit"
   ]
  },
  {
   "cell_type": "code",
   "execution_count": 3,
   "metadata": {},
   "outputs": [
    {
     "data": {
      "text/plain": [
       "'3.9.12 | packaged by conda-forge | (main, Mar 24 2022, 23:24:38) \\n[Clang 12.0.1 ]'"
      ]
     },
     "execution_count": 3,
     "metadata": {},
     "output_type": "execute_result"
    }
   ],
   "source": [
    "sys.version"
   ]
  },
  {
   "cell_type": "code",
   "execution_count": 4,
   "metadata": {},
   "outputs": [],
   "source": [
    "evs_config = {'N': 50000, 'Ns': 20,\n",
    "              'Tagc': 4.0, 'socf': 0.2,\n",
    "              'agc': 0, 'ict': 0,\n",
    "              'memory_save': 1,\n",
    "              'seed': 2022, 'r': 0.5}\n",
    "\n",
    "mcs_config = {'ts': 18.0, 'h': 1.0,\n",
    "              'no_tqdm': 0, 'th': 1.0}\n",
    "\n",
    "nd_param = {'soci': {'mu': 0.3, 'var': 0.05, 'lb': 0.2, 'ub': 0.4},\n",
    "            'socd': {'mu': 0.8, 'var': 0.03, 'lb': 0.7, 'ub': 0.9},\n",
    "            'ts1': {'mu': -6.5, 'var': 3.4, 'lb': 0.0, 'ub': 5.5},\n",
    "            'ts2': {'mu': 17.5, 'var': 3.4, 'lb': 5.5, 'ub': 24.0},\n",
    "            'tf1': {'mu': 8.9, 'var': 3.4, 'lb': 0.0, 'ub': 20.9},\n",
    "            'tf2': {'mu': 32.9, 'var': 3.4, 'lb': 20.9, 'ub': 24.0},\n",
    "            'tt': {'mu': 0.5, 'var': 0.02, 'lb': 0, 'ub': 1}}\n",
    "\n",
    "ud_param = {'Pc': {'lb': 5.0, 'ub': 7.0},\n",
    "            'Pd': {'lb': 5.0, 'ub': 7.0},\n",
    "            'nc': {'lb': 0.88, 'ub': 0.95},\n",
    "            'nd': {'lb': 0.88, 'ub': 0.95},\n",
    "            'Q': {'lb': 20.0, 'ub': 30.0}}\n"
   ]
  },
  {
   "cell_type": "code",
   "execution_count": 5,
   "metadata": {},
   "outputs": [],
   "source": [
    "import logging\n",
    "logger = logging.getLogger()\n",
    "logging.getLogger(\"eva\").setLevel(logging.INFO)"
   ]
  },
  {
   "cell_type": "code",
   "execution_count": 6,
   "metadata": {},
   "outputs": [
    {
     "name": "stderr",
     "output_type": "stream",
     "text": [
      "Memory save is turned on, EVs out of time range [18.0, 19.0] are dropped.\n"
     ]
    }
   ],
   "source": [
    "evs = EVStation(name='EVS1',\n",
    "                mcs_config=mcs_config,\n",
    "                config=evs_config,\n",
    "                ud_param=ud_param,\n",
    "                nd_param=nd_param)"
   ]
  },
  {
   "cell_type": "code",
   "execution_count": 7,
   "metadata": {},
   "outputs": [
    {
     "data": {
      "text/plain": [
       "0        3.309851\n",
       "1        3.198377\n",
       "2        4.015586\n",
       "3        3.011465\n",
       "4        3.688535\n",
       "           ...   \n",
       "17368    0.733367\n",
       "17369    1.871234\n",
       "17370    0.358874\n",
       "17371    0.875062\n",
       "17372    0.255674\n",
       "Name: soc0, Length: 17373, dtype: float64"
      ]
     },
     "execution_count": 7,
     "metadata": {},
     "output_type": "execute_result"
    }
   ],
   "source": [
    "evs.MCS.data.s.as_df()['soc0']"
   ]
  },
  {
   "cell_type": "code",
   "execution_count": null,
   "metadata": {},
   "outputs": [],
   "source": [
    "evs.MCS.data.d.as_df()"
   ]
  },
  {
   "cell_type": "code",
   "execution_count": null,
   "metadata": {},
   "outputs": [],
   "source": [
    "sdf = evs.MCS.data.s.as_df()\n",
    "sdf[sdf['tf'] < 18]"
   ]
  },
  {
   "cell_type": "code",
   "execution_count": null,
   "metadata": {},
   "outputs": [],
   "source": [
    "self = evs\n",
    "dsp = self.MCS.data.s  # pointer to static data\n",
    "ddp = self.MCS.data.d  # pointer to dynamic data\n",
    "\n",
    "mask_u1 = dsp.get(src='ts') > (self.MCS.config.ts + self.MCS.config.th)\n",
    "mask_u2 = dsp.get(src='tf') < self.MCS.config.ts\n",
    "mask = mask_u1 | mask_u2\n",
    "drop_id = np.where(mask)[0]\n",
    "\n",
    "for ary in [self.idx, self.MCS.data.idx, self.MCS.data.s.v, self.MCS.data.d.v]:\n",
    "    ary = np.delete(ary, drop_id, axis=0)\n",
    "\n",
    "getattr(self.MCS.data.s, 'idx')\n",
    "setattr(self.MCS.data.s, 'idx', np.delete(self.MCS.data.s.idx, drop_id, axis=0))"
   ]
  },
  {
   "cell_type": "code",
   "execution_count": null,
   "metadata": {},
   "outputs": [],
   "source": [
    "ary.shape"
   ]
  },
  {
   "cell_type": "code",
   "execution_count": null,
   "metadata": {},
   "outputs": [],
   "source": [
    "np.logical_and(mask_u1, mask_u2)"
   ]
  },
  {
   "cell_type": "code",
   "execution_count": null,
   "metadata": {},
   "outputs": [],
   "source": [
    "mask_u1"
   ]
  },
  {
   "cell_type": "code",
   "execution_count": null,
   "metadata": {},
   "outputs": [],
   "source": [
    "mask_u2"
   ]
  },
  {
   "cell_type": "code",
   "execution_count": null,
   "metadata": {},
   "outputs": [],
   "source": [
    "mask_u1 & mask_u2"
   ]
  },
  {
   "cell_type": "code",
   "execution_count": null,
   "metadata": {},
   "outputs": [],
   "source": [
    "evs.MCS.data.d.v.shape"
   ]
  },
  {
   "cell_type": "code",
   "execution_count": null,
   "metadata": {},
   "outputs": [],
   "source": [
    "evs.MCS.data.d.set('soc', cond=np.array([False]*49999 + [True]),\n",
    "                   data=np.array([1, 2]))\n",
    "evs.MCS.data.d.as_df()"
   ]
  },
  {
   "cell_type": "code",
   "execution_count": null,
   "metadata": {},
   "outputs": [],
   "source": [
    "evs.MCS.data.s.get('Pc', cond=np.array([True]*5))"
   ]
  },
  {
   "cell_type": "code",
   "execution_count": null,
   "metadata": {},
   "outputs": [],
   "source": [
    "evs.MCS.data.d.as_df()"
   ]
  },
  {
   "cell_type": "code",
   "execution_count": null,
   "metadata": {},
   "outputs": [],
   "source": [
    "evs.MCS.config.ts"
   ]
  },
  {
   "cell_type": "code",
   "execution_count": null,
   "metadata": {},
   "outputs": [],
   "source": [
    "dsp = evs.MCS.data.s.v\n",
    "mask = dsp[:, getattr(evs.MCS.data.col.s, 'ts')] < 0.3\n",
    "dsp[mask & mask].shape"
   ]
  },
  {
   "cell_type": "code",
   "execution_count": null,
   "metadata": {},
   "outputs": [],
   "source": [
    "evs.MCS.data.s.as_df()"
   ]
  },
  {
   "cell_type": "code",
   "execution_count": null,
   "metadata": {},
   "outputs": [],
   "source": [
    "\n",
    "dc = {'s': ['ts', 'tf', 'tt', 'soc0', 'na0',\n",
    "            'soci', 'socd', 'Pc', 'Pd',\n",
    "            'nc', 'nd', 'Q'],\n",
    "      'd': ['u', 'u0', 'soc', 'c', 'lc', 'sx',\n",
    "            'na', 'ama', 'agc', 'mod']}\n",
    "{\n",
    "'s': {c: dc['s'].index(c) for c in dc['s']},\n",
    "'d': {c: dc['d'].index(c) for c in dc['d']}\n",
    "}\n",
    "\n",
    "from eva import DictAttr\n",
    "sd = DictAttr({c: dc['s'].index(c) for c in dc['s']})\n",
    "dd = DictAttr({c: dc['d'].index(c) for c in dc['d']})\n",
    "dcd = DictAttr({'s': sd, 'd': dd})"
   ]
  },
  {
   "cell_type": "code",
   "execution_count": null,
   "metadata": {},
   "outputs": [],
   "source": [
    "np.empty(100, 100)"
   ]
  },
  {
   "cell_type": "code",
   "execution_count": null,
   "metadata": {},
   "outputs": [],
   "source": [
    "np.arange(50000).shape"
   ]
  },
  {
   "cell_type": "code",
   "execution_count": null,
   "metadata": {},
   "outputs": [],
   "source": [
    "%%timeit -r 100 -n 10\n",
    "dcd.s.Pc"
   ]
  },
  {
   "cell_type": "code",
   "execution_count": null,
   "metadata": {},
   "outputs": [],
   "source": [
    "dcd.d.u0"
   ]
  },
  {
   "cell_type": "code",
   "execution_count": null,
   "metadata": {},
   "outputs": [],
   "source": [
    "xdf = evs.MCS.data.d.copy()\n",
    "xsf = evs.MCS.data.s.copy()"
   ]
  },
  {
   "cell_type": "code",
   "execution_count": null,
   "metadata": {},
   "outputs": [],
   "source": [
    "%%timeit -r 20 -n 20\n",
    "xdf['u'] * xdf['c'] * xsf['Pc'] * xsf['nc'] * 1/3600"
   ]
  },
  {
   "cell_type": "code",
   "execution_count": null,
   "metadata": {},
   "outputs": [],
   "source": [
    "xdf.columns"
   ]
  },
  {
   "cell_type": "code",
   "execution_count": null,
   "metadata": {},
   "outputs": [],
   "source": [
    "xsf.columns"
   ]
  },
  {
   "cell_type": "code",
   "execution_count": null,
   "metadata": {},
   "outputs": [],
   "source": [
    "xd = evs.MCS.data.d.values\n",
    "xs = evs.MCS.data.s.values"
   ]
  },
  {
   "cell_type": "code",
   "execution_count": null,
   "metadata": {},
   "outputs": [],
   "source": [
    "%%timeit -r 20 -n 20\n",
    "xd[:, 1] * xd[:, 4] * xs[:, 8] * xs[:, 10] * 1/3600"
   ]
  },
  {
   "cell_type": "code",
   "execution_count": null,
   "metadata": {},
   "outputs": [],
   "source": [
    "evs = EVStation(name='EVS1',\n",
    "                mcs_config=mcs_config,\n",
    "                config=evs_config,\n",
    "                ud_param=ud_param,\n",
    "                nd_param=nd_param)\n",
    "\n",
    "evs.MCS.config.tf = 3600\n",
    "evs.MCS.config.no_tqdm = 0\n",
    "evs.MCS.run()\n",
    "evs.MCS.data\n",
    "evs.MCS.data.d.info(verbose=False, memory_usage=True)"
   ]
  }
 ],
 "metadata": {
  "kernelspec": {
   "display_name": "Python 3.9.12 ('andes')",
   "language": "python",
   "name": "python3"
  },
  "language_info": {
   "codemirror_mode": {
    "name": "ipython",
    "version": 3
   },
   "file_extension": ".py",
   "mimetype": "text/x-python",
   "name": "python",
   "nbconvert_exporter": "python",
   "pygments_lexer": "ipython3",
   "version": "3.9.12"
  },
  "orig_nbformat": 4,
  "vscode": {
   "interpreter": {
    "hash": "ef6cb5c8d99d66a3614f491d51fd40cd94c9138687df3d2045e3a510da5efc66"
   }
  }
 },
 "nbformat": 4,
 "nbformat_minor": 2
}
