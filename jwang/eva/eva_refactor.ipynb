{
 "cells": [
  {
   "cell_type": "code",
   "execution_count": 1,
   "metadata": {},
   "outputs": [],
   "source": [
    "import numpy as np\n",
    "import pandas as pd\n",
    "\n",
    "from eva import EVStation"
   ]
  },
  {
   "cell_type": "code",
   "execution_count": 2,
   "metadata": {},
   "outputs": [],
   "source": [
    "from tqdm import tqdm\n",
    "import sys\n",
    "import time"
   ]
  },
  {
   "cell_type": "code",
   "execution_count": 3,
   "metadata": {},
   "outputs": [],
   "source": [
    "# xf = 10\n",
    "# step = 1\n",
    "# xp = tqdm(total=100, unit='%', file=sys.stdout,) # Initialise\n",
    "# x = 0\n",
    "# while x < xf:\n",
    "#     time.sleep(0.2)\n",
    "#     xp.update(100*step/xf)\n",
    "#     x += step\n",
    "# xp.close()\n",
    "\n",
    "# xp = tqdm(total=100, unit='%', file=sys.stdout,) # Initialise\n",
    "# xf = 20\n",
    "# while x < xf:\n",
    "#     time.sleep(0.2)\n",
    "#     xp.update(100*step/xf)\n",
    "#     x += step\n",
    "# xp.close()"
   ]
  },
  {
   "cell_type": "code",
   "execution_count": 4,
   "metadata": {},
   "outputs": [
    {
     "name": "stderr",
     "output_type": "stream",
     "text": [
      "EVS1 Memory usage:\n",
      "Static data: 1015.8 KB, Dynamic data: 937.6 KB\n",
      "Memory save is turned on, EVs out of time range [18.0, 19.0] are dropped. \n",
      "Static data: 356.6 KB, Dynamic data: 329.2 KB\n",
      "EVS1: Initialized successfully with:\n",
      "Capacity: 10000, r: 0.5\n",
      "EVS1: clock time: 18.0, Online: 2925, Total: 3510\n"
     ]
    }
   ],
   "source": [
    "evs_config = {'N': 10000, 'Ns': 20,\n",
    "              'Tagc': 4.0, 'socf': 0.2,\n",
    "              'ict': 0, 'memory_save': 1,\n",
    "              'seed': 2022, 'r': 0.5}\n",
    "\n",
    "mcs_config = {'ts': 18.0, 'h': 1.0,\n",
    "              'no_tqdm': 0, 'th': 1}\n",
    "\n",
    "nd_param = {'soci': {'mu': 0.3, 'var': 0.05, 'lb': 0.2, 'ub': 0.4},\n",
    "            'socd': {'mu': 0.8, 'var': 0.03, 'lb': 0.7, 'ub': 0.9},\n",
    "            'ts1': {'mu': -6.5, 'var': 3.4, 'lb': 0.0, 'ub': 5.5},\n",
    "            'ts2': {'mu': 17.5, 'var': 3.4, 'lb': 5.5, 'ub': 24.0},\n",
    "            'tf1': {'mu': 8.9, 'var': 3.4, 'lb': 0.0, 'ub': 20.9},\n",
    "            'tf2': {'mu': 32.9, 'var': 3.4, 'lb': 20.9, 'ub': 24.0},\n",
    "            'tt': {'mu': 0.5, 'var': 0.02, 'lb': 0, 'ub': 1}}\n",
    "\n",
    "ud_param = {'Pc': {'lb': 5.0, 'ub': 7.0},\n",
    "            'Pd': {'lb': 5.0, 'ub': 7.0},\n",
    "            'nc': {'lb': 0.88, 'ub': 0.95},\n",
    "            'nd': {'lb': 0.88, 'ub': 0.95},\n",
    "            'Q': {'lb': 20.0, 'ub': 30.0}}\n",
    "\n",
    "evs = EVStation(name='EVS1',\n",
    "                mcs_config=mcs_config,\n",
    "                config=evs_config,\n",
    "                ud_param=ud_param,\n",
    "                nd_param=nd_param)\n"
   ]
  },
  {
   "cell_type": "code",
   "execution_count": 5,
   "metadata": {},
   "outputs": [
    {
     "name": "stdout",
     "output_type": "stream",
     "text": [
      "  0%|          | 0/100 [00:00<?, ?%/s]update progess 20.0\n",
      " 20%|██        | 20.0/100 [00:00<00:00, 185.87%/s]update progess 20.0\n",
      " 40%|████      | 40.0/100 [00:00<00:00, 190.17%/s]update progess 20.0\n",
      " 60%|██████    | 60.0/100 [00:00<00:00, 189.58%/s]update progess 20.0\n",
      " 80%|████████  | 80.0/100 [00:00<00:00, 189.49%/s]update progess 20.0\n",
      "100%|██████████| 100.0/100 [00:00<00:00, 190.43%/s]\n"
     ]
    }
   ],
   "source": [
    "evs.MCS.config.tf = 5\n",
    "evs.MCS.run()"
   ]
  },
  {
   "cell_type": "code",
   "execution_count": 6,
   "metadata": {},
   "outputs": [
    {
     "name": "stdout",
     "output_type": "stream",
     "text": [
      "  0%|          | 0/100 [00:00<?, ?%/s]update progess 70.0\n",
      " 70%|███████   | 70.0/100 [00:00<00:00, 671.96%/s]update progess 20.0\n",
      "update progess 20.0\n",
      "update progess 20.0\n",
      "update progess 20.0\n",
      "150.0% [00:00, 289.78%/s]                         \n"
     ]
    }
   ],
   "source": [
    "evs.MCS.config.tf = 10\n",
    "evs.MCS.run()"
   ]
  },
  {
   "cell_type": "code",
   "execution_count": null,
   "metadata": {},
   "outputs": [],
   "source": [
    "evs.MCS.config.tf = 40\n",
    "evs.MCS.run()"
   ]
  },
  {
   "cell_type": "code",
   "execution_count": null,
   "metadata": {},
   "outputs": [],
   "source": [
    "evs.MCS.config"
   ]
  },
  {
   "cell_type": "code",
   "execution_count": null,
   "metadata": {},
   "outputs": [],
   "source": [
    "evs.MCS.data.ts"
   ]
  }
 ],
 "metadata": {
  "kernelspec": {
   "display_name": "Python 3.9.12 ('andes')",
   "language": "python",
   "name": "python3"
  },
  "language_info": {
   "codemirror_mode": {
    "name": "ipython",
    "version": 3
   },
   "file_extension": ".py",
   "mimetype": "text/x-python",
   "name": "python",
   "nbconvert_exporter": "python",
   "pygments_lexer": "ipython3",
   "version": "3.9.12"
  },
  "orig_nbformat": 4,
  "vscode": {
   "interpreter": {
    "hash": "ef6cb5c8d99d66a3614f491d51fd40cd94c9138687df3d2045e3a510da5efc66"
   }
  }
 },
 "nbformat": 4,
 "nbformat_minor": 2
}
