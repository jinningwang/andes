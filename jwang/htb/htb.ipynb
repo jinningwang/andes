{
 "cells": [
  {
   "cell_type": "code",
   "execution_count": null,
   "metadata": {},
   "outputs": [],
   "source": [
    "import andes\n",
    "andes.config_logger(30)\n",
    "\n",
    "import csv\n",
    "import time\n",
    "import numpy as np\n",
    "import matplotlib.pyplot as plt"
   ]
  },
  {
   "cell_type": "code",
   "execution_count": null,
   "metadata": {},
   "outputs": [],
   "source": [
    "ss = andes.load('ieee14_htb.xlsx',\n",
    "                no_output=True,\n",
    "                default_config=False,\n",
    "                setup=False)\n",
    "\n",
    "ss.add(\"Toggler\", dict(model='SynGen', dev=\"GENROU_2\", t=5.0))\n",
    "ss.setup()\n",
    "\n",
    "ss.TDS.config.no_tqdm = 1\n",
    "ss.TDS.config.criteria = 0\n",
    "\n",
    "ss.PQ.config.p2p = 1\n",
    "ss.PQ.config.q2q = 1\n",
    "ss.PQ.config.p2z = 0\n",
    "ss.PQ.config.q2z = 0\n",
    "ss.PQ.pq2z = 0\n",
    "\n",
    "ss.PFlow.run()"
   ]
  },
  {
   "cell_type": "code",
   "execution_count": null,
   "metadata": {},
   "outputs": [],
   "source": [
    "tf = 0.1  # first time end_time of LTB\n",
    "t_step = 0.033  # step time\n",
    "t_total = 30  # total time\n",
    "\n",
    "pq_idx = 'PQ_1'  # load represents for HTB\n",
    "bus_idx = ss.PQ.get(idx=pq_idx, src='bus', attr='v')  # load bus\n",
    "a0 = ss.Bus.get(idx=bus_idx, src='a', attr='v')       # initial bus angle\n",
    "\n",
    "k = 2 * np.pi * ss.config.freq # constant to calculate bus angle\n",
    "start_time = time.time()\n",
    "\n",
    "tf0 = tf\n",
    "def run_ltb(tf=tf, t_step=t_step, t_total=t_total):\n",
    "    total_iter = 0\n",
    "    lose_iter = 0\n",
    "    data_in = False\n",
    "    a_list = [] # DEBUG\n",
    "    t_list = [] # DEBUG\n",
    "    while tf <= t_total:\n",
    "        if data_in:\n",
    "            # --- set data in LTB ---\n",
    "            # ss.PQ.set(value=p_inj, idx=pq_idx, src='Ppf', attr='v')\n",
    "            # ss.PQ.set(value=q_inj, idx=pq_idx, src='Qpf', attr='v')\n",
    "            data_in = False\n",
    "        ss.TDS.config.tf = tf\n",
    "        ss.TDS.run()\n",
    "        running_time = tf0 + time.time() - start_time\n",
    "        # print('ANDES', 'Actual=%.2f' % running_time, 'Sim=%.2f' % tf)\n",
    "        if running_time > tf:\n",
    "            lose_iter += 1\n",
    "        else:\n",
    "            # --- read data from HTB ---\n",
    "            data_read()\n",
    "            f = open(\"rdata.csv\", newline='')\n",
    "            csv_reader = csv.reader(f)\n",
    "            [i_read, a_read, time_stamp_read] = [float(i) for i in next(csv_reader)]\n",
    "            data_in = True\n",
    "            # --- send data to HTB ---\n",
    "            a_period = k * ss.BusFreq.f.v[0] * tf  # Make sure BusFreq is connected to the load bus\n",
    "            a_send = ss.Bus.get(idx=bus_idx, src='a', attr='v') - a0 + a_period\n",
    "            a_send = np.mod(a_send, (2*np.pi))  # wave angle\n",
    "            v_bus = ss.Bus.get(idx=bus_idx, src='v', attr='v')  # RMS\n",
    "            sdata = [v_bus, a_send, tf]  # voltage, angle, time\n",
    "            scsv = open(\"sdata.csv\", \"w\")\n",
    "            writer = csv.writer(open(\"sdata.csv\", \"w\"))\n",
    "            writer.writerow(sdata)\n",
    "            scsv.close()\n",
    "            data_send()\n",
    "            # --- update power injection ---\n",
    "            p_inj = v_bus * i_read * np.cos(a_send - a_read)\n",
    "            q_inj = v_bus * i_read * np.sin(a_send - a_read)\n",
    "            # DEBUG, can be deleted later\n",
    "            a_list.append(sdata[1])\n",
    "            t_list.append(sdata[2])\n",
    "        tf += t_step\n",
    "        total_iter += 1\n",
    "    print(f\"Iter: total={total_iter}, lose={lose_iter}\")\n",
    "    print(r\"loss rate=%.2f\" %((lose_iter / total_iter)*100),\"%\")\n",
    "    print(p_inj, q_inj)\n",
    "    return a_list, t_list\n",
    "\n",
    "def data_read():\n",
    "    pass\n",
    "\n",
    "def data_send():\n",
    "    pass\n",
    "\n",
    "a_list, t_list = run_ltb()"
   ]
  },
  {
   "cell_type": "code",
   "execution_count": null,
   "metadata": {},
   "outputs": [],
   "source": [
    "ss.TDS.plt.plot(ss.GENROU.omega)"
   ]
  },
  {
   "cell_type": "code",
   "execution_count": null,
   "metadata": {},
   "outputs": [],
   "source": [
    "plt.plot(t_list, a_list)"
   ]
  }
 ],
 "metadata": {
  "kernelspec": {
   "display_name": "Python 3.9.13",
   "language": "python",
   "name": "python3"
  },
  "language_info": {
   "codemirror_mode": {
    "name": "ipython",
    "version": 3
   },
   "file_extension": ".py",
   "mimetype": "text/x-python",
   "name": "python",
   "nbconvert_exporter": "python",
   "pygments_lexer": "ipython3",
   "version": "3.9.13"
  },
  "orig_nbformat": 4,
  "vscode": {
   "interpreter": {
    "hash": "a33fa296fbacb8644bc9195ef2d759981fef097b4feb655e1da77ca7517b39c3"
   }
  }
 },
 "nbformat": 4,
 "nbformat_minor": 2
}
