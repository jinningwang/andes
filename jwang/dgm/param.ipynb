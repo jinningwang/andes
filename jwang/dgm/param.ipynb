{
 "cells": [
  {
   "cell_type": "code",
   "execution_count": null,
   "metadata": {},
   "outputs": [],
   "source": []
  },
  {
   "cell_type": "code",
   "execution_count": 2,
   "metadata": {},
   "outputs": [],
   "source": [
    "param_name = ['ts1_mean', 'ts1_var', 'ts1_ul', 'ts1_ll']\n",
    "param_type = [float, float, float, float]\n",
    "param_value = [0.1, 0.01, 0.2, 0.0]\n",
    "\n",
    "param = {param_name[i]: {'type': param_type[i], 'value': param_value[i]} for i in range(len(param_name))}"
   ]
  },
  {
   "cell_type": "code",
   "execution_count": 3,
   "metadata": {},
   "outputs": [
    {
     "data": {
      "text/plain": [
       "{'ts1_mean': {'type': float, 'value': 0.1},\n",
       " 'ts1_var': {'type': float, 'value': 0.01},\n",
       " 'ts1_ul': {'type': float, 'value': 0.2},\n",
       " 'ts1_ll': {'type': float, 'value': 0.0}}"
      ]
     },
     "execution_count": 3,
     "metadata": {},
     "output_type": "execute_result"
    }
   ],
   "source": [
    "param"
   ]
  }
 ],
 "metadata": {
  "kernelspec": {
   "display_name": "Python 3.9.12 ('andes')",
   "language": "python",
   "name": "python3"
  },
  "language_info": {
   "codemirror_mode": {
    "name": "ipython",
    "version": 3
   },
   "file_extension": ".py",
   "mimetype": "text/x-python",
   "name": "python",
   "nbconvert_exporter": "python",
   "pygments_lexer": "ipython3",
   "version": "3.9.12"
  },
  "orig_nbformat": 4,
  "vscode": {
   "interpreter": {
    "hash": "ef6cb5c8d99d66a3614f491d51fd40cd94c9138687df3d2045e3a510da5efc66"
   }
  }
 },
 "nbformat": 4,
 "nbformat_minor": 2
}
