{
 "cells": [
  {
   "cell_type": "markdown",
   "metadata": {},
   "source": [
    "# Code"
   ]
  },
  {
   "cell_type": "markdown",
   "metadata": {},
   "source": [
    "EV aggregator implementation based on State Space Model."
   ]
  },
  {
   "cell_type": "markdown",
   "metadata": {},
   "source": [
    "### EV SSM Class"
   ]
  },
  {
   "cell_type": "code",
   "execution_count": 1,
   "metadata": {},
   "outputs": [],
   "source": [
    "from ev_ssm import ev_ssm"
   ]
  },
  {
   "cell_type": "code",
   "execution_count": null,
   "metadata": {},
   "outputs": [],
   "source": [
    "sse = ev_ssm(ts=10, N=10000, step=1, tp=100,\n",
    "             lr=0.1, lp=100, seed=2022, name=\"EVA\")\n",
    "sse.load_A(\"Aest.csv\")"
   ]
  },
  {
   "cell_type": "code",
   "execution_count": null,
   "metadata": {},
   "outputs": [],
   "source": [
    "sse.ep()"
   ]
  },
  {
   "cell_type": "code",
   "execution_count": null,
   "metadata": {},
   "outputs": [],
   "source": [
    "sl = []\n",
    "for i in range(24):\n",
    "    sse = ev_ssm(ts=i, N=10000, step=1, tp=100,\n",
    "             lr=0.1, lp=100, seed=2022, name=\"EVA\")\n",
    "    sl.append(sse.wsoc)"
   ]
  },
  {
   "cell_type": "code",
   "execution_count": null,
   "metadata": {},
   "outputs": [],
   "source": [
    "sse.ev.socd.mean()"
   ]
  },
  {
   "cell_type": "code",
   "execution_count": null,
   "metadata": {},
   "outputs": [],
   "source": [
    "import matplotlib.pyplot as plt\n",
    "plt.plot(range(24), sl)"
   ]
  },
  {
   "cell_type": "code",
   "execution_count": null,
   "metadata": {},
   "outputs": [],
   "source": [
    "sse.wsoc"
   ]
  },
  {
   "cell_type": "code",
   "execution_count": null,
   "metadata": {},
   "outputs": [],
   "source": [
    "sse = ev_ssm(ts=8, N=10000, step=1, tp=100,\n",
    "             lr=0.1, lp=100, seed=2022, name=\"EVA\")\n",
    "sse.load_A(\"Aests.csv\")"
   ]
  },
  {
   "cell_type": "code",
   "execution_count": null,
   "metadata": {},
   "outputs": [],
   "source": [
    "sse.run(tf=10.1)"
   ]
  },
  {
   "cell_type": "code",
   "execution_count": null,
   "metadata": {},
   "outputs": [],
   "source": [
    "sse.plot()"
   ]
  },
  {
   "cell_type": "code",
   "execution_count": null,
   "metadata": {},
   "outputs": [],
   "source": [
    "sse.ev[(sse.ev.u==1) & (sse.ev.c==1)]"
   ]
  },
  {
   "cell_type": "markdown",
   "metadata": {},
   "source": [
    "### BUG"
   ]
  },
  {
   "cell_type": "markdown",
   "metadata": {},
   "source": [
    "1. To response a large AGC, all the EVs should be switched to DS, but now some remains IS.\n",
    "2. The logic of action may need improvement?"
   ]
  },
  {
   "cell_type": "code",
   "execution_count": null,
   "metadata": {},
   "outputs": [],
   "source": [
    "sse = ev_ssm(ts=10, N=10000, step=1, tp=100,\n",
    "             lr=0.1, lp=100, seed=2022, name=\"EVA\")\n",
    "sse.load_A(\"Aests.csv\")\n",
    "\n",
    "u, v, us, vs = sse.r_agc(Pi=5)\n",
    "u, v, us, vs = sse.r_agc(Pi=23)\n",
    "print(sse.Pr)\n",
    "sse.xtab"
   ]
  },
  {
   "cell_type": "code",
   "execution_count": null,
   "metadata": {},
   "outputs": [],
   "source": [
    "sse = ev_ssm(ts=10, N=10000, step=1, tp=100,\n",
    "             lr=0.1, lp=100, seed=2022, name=\"EVA\")\n",
    "sse.load_A(\"Aests.csv\")\n",
    "u, v, us, vs = sse.r_agc(Pi=23)\n",
    "print(sse.Pr)\n",
    "sse.xtab"
   ]
  },
  {
   "cell_type": "markdown",
   "metadata": {},
   "source": [
    "### Test AGC Response"
   ]
  },
  {
   "cell_type": "code",
   "execution_count": null,
   "metadata": {},
   "outputs": [],
   "source": [
    "sse = ev_ssm(ts=10, N=10000, step=1, tp=100,\n",
    "             lr=0.1, lp=100, seed=2022, name=\"EVA\")\n",
    "sse.load_A(\"Aests.csv\")\n",
    "\n",
    "Pi=0\n",
    "for tf in np.arange(10, 10.1, 1/3600):\n",
    "    sse.run(tf=tf, Pi=Pi, is_update=True, is_record=True, is_test=False)"
   ]
  },
  {
   "cell_type": "code",
   "execution_count": null,
   "metadata": {},
   "outputs": [],
   "source": [
    "sse.plot()"
   ]
  },
  {
   "cell_type": "code",
   "execution_count": null,
   "metadata": {},
   "outputs": [],
   "source": [
    "sse = ev_ssm(ts=10, N=10000, step=1, tp=100,\n",
    "             lr=0.1, lp=100, seed=2022, name=\"EVA\")\n",
    "sse.load_A(\"Aests.csv\")\n",
    "\n",
    "Pi=0\n",
    "for tf in np.arange(10, 10.01, 1/3600):\n",
    "    sse.run(tf=tf, Pi=Pi, is_update=True, is_record=True, is_test=False)\n",
    "\n",
    "Pi = 0.1\n",
    "for tf in np.arange(10.01, 10.02, 1/3600):\n",
    "    sse.run(tf=tf, Pi=Pi, is_update=True, is_record=True, is_test=False)\n",
    "\n",
    "Pi = 0.05\n",
    "for tf in np.arange(10.02, 10.03, 1/3600):\n",
    "    sse.run(tf=tf, Pi=Pi, is_update=True, is_record=True, is_test=False)\n",
    "\n",
    "Pi = 0.15\n",
    "for tf in np.arange(10.03, 10.05, 1/3600):\n",
    "    sse.run(tf=tf, Pi=Pi, is_update=True, is_record=True, is_test=False)"
   ]
  },
  {
   "cell_type": "code",
   "execution_count": null,
   "metadata": {},
   "outputs": [],
   "source": [
    "sse.plot()"
   ]
  },
  {
   "cell_type": "markdown",
   "metadata": {},
   "source": [
    "## Misc"
   ]
  },
  {
   "cell_type": "code",
   "execution_count": null,
   "metadata": {},
   "outputs": [],
   "source": [
    "u, v, us, vs = sse.r_agc(Pi=5)\n",
    "print(sse.Pr)\n",
    "print(us)\n",
    "print(vs)\n",
    "sse.xtab"
   ]
  },
  {
   "cell_type": "code",
   "execution_count": null,
   "metadata": {},
   "outputs": [],
   "source": [
    "cdf = pd.DataFrame(np.concatenate([u.reshape(1, 20), v.reshape(1, 20)], axis=0),\n",
    "                   columns=sse.rtab.columns)"
   ]
  },
  {
   "cell_type": "markdown",
   "metadata": {},
   "source": [
    "### SAC"
   ]
  },
  {
   "cell_type": "markdown",
   "metadata": {},
   "source": [
    "This coeef. does not make sense?"
   ]
  },
  {
   "cell_type": "code",
   "execution_count": null,
   "metadata": {},
   "outputs": [],
   "source": [
    "socb = np.arange(0, 1.01, 0.05)\n",
    "for i in range(len(socb)-1):\n",
    "    print('soc=', i, 'k=', pow(1-sse.sac(0.5*(socb[i]+socb[i+1]))[2], 20/3600/sse.Th))"
   ]
  },
  {
   "cell_type": "code",
   "execution_count": null,
   "metadata": {},
   "outputs": [],
   "source": [
    "x = np.linspace(0, 1, 100)\n",
    "sac = sse.sac(x)\n",
    "\n",
    "plt.style.use('default')\n",
    "with plt.style.context(['ieee']):\n",
    "    fig, ax = plt.subplots(1, 1, figsize=(10, 3))\n",
    "    ax.plot(np.arange(0, 1, 0.01), sac[0], label='CS')\n",
    "    ax.plot(np.arange(0, 1, 0.01), sac[1], label='IS')\n",
    "    ax.plot(np.arange(0, 1, 0.01), sac[2], label='DS')\n",
    "    ax.legend()\n",
    "    ax.set_ylim([0, 1.01])\n",
    "    ax.set_xlim([0, 1])\n",
    "    ax.set_xlabel('SoC [%]')\n",
    "    ax.set_ylabel('SoC Adapt. Coeff.')"
   ]
  },
  {
   "cell_type": "markdown",
   "metadata": {},
   "source": [
    "### test"
   ]
  },
  {
   "cell_type": "code",
   "execution_count": null,
   "metadata": {},
   "outputs": [],
   "source": [
    "# sse = ev_ssm(ts=10, N=10000, step=1, tp=100,\n",
    "#              lr=0.1, lp=100, seed=2022, name=\"SSE1\")\n",
    "\n",
    "# # --- build and save A matrix ---\n",
    "# sse.test(tf=10.1)\n",
    "# sse.save_A(\"Aests.csv\")\n",
    "\n",
    "# --- load A matrix ---\n",
    "# sse.load_A(\"Aests.csv\")\n",
    "\n",
    "# --- run MCS ---\n",
    "# sse.run(tf=10.1, is_update=True, is_record=True)\n",
    "\n",
    "# --- plot results ---\n",
    "# fig, ax = sse.plot()\n",
    "\n",
    "# --- test A matrix stability ---\n",
    "# sse.g_res(x0=sse.x0.copy(), n=1000)\n",
    "# print(np.sum(sse.x0))\n",
    "\n",
    "# sse.reset(tnow=10, clean_xl=False)\n",
    "\n",
    "# --- continually run ---\n",
    "# for tf in np.arange(10, 10.1, 4/3600):\n",
    "#     sse.run(tf=tf, is_update=True, is_record=True, is_test=False)\n",
    "\n",
    "# --- spy A ---\n",
    "# with plt.style.context(['ieee']):\n",
    "#     fig, ax = plt.subplots(1, 1, figsize=(6, 6), dpi=100)\n",
    "#     ax.spy(sse.A, markersize=4, marker='o',\n",
    "#            markerfacecolor='orange', markeredgecolor='orange')\n",
    "#     ax.grid(which='major', alpha=1)\n",
    "#     ax.grid(which='minor', alpha=1)\n",
    "#     ax.set_xlim(0, 3*sse.Ns-1)\n",
    "#     ax.set_ylim(3*sse.Ns-1, 0)\n",
    "#     ax.set_title(\"Spy of mat $A$\")\n",
    "#     ax.minorticks_on()\n",
    "\n",
    "#     ax.set_xlabel('$\\mathbf{x}(k)$')\n",
    "#     ax.xaxis.set_label_position('top')\n",
    "#     ax.set_ylabel('$\\mathbf{x}(k+1)$')"
   ]
  },
  {
   "cell_type": "markdown",
   "metadata": {},
   "source": [
    "### Spy An"
   ]
  },
  {
   "cell_type": "code",
   "execution_count": null,
   "metadata": {},
   "outputs": [],
   "source": [
    "# Long enough, all the EVs will become idle.\n",
    "\n",
    "An = np.linalg.matrix_power(sse.A, 225)\n",
    "\n",
    "# --- spy A ---\n",
    "with plt.style.context(['ieee']):\n",
    "    fig, ax = plt.subplots(1, 1, figsize=(6, 6), dpi=100)\n",
    "    ax.spy(An, markersize=4, marker='o',\n",
    "           markerfacecolor='orange', markeredgecolor='orange')\n",
    "    ax.grid(which='major', alpha=1)\n",
    "    ax.grid(which='minor', alpha=1)\n",
    "    ax.set_xlim(0, 3*sse.Ns-1)\n",
    "    ax.set_ylim(3*sse.Ns-1, 0)\n",
    "    ax.set_title(\"Spy of mat $A$\")\n",
    "    ax.minorticks_on()\n",
    "\n",
    "    ax.set_xlabel('$\\mathbf{x}(k)$')\n",
    "    ax.xaxis.set_label_position('top')\n",
    "    ax.set_ylabel('$\\mathbf{x}(k+1)$')"
   ]
  },
  {
   "cell_type": "code",
   "execution_count": null,
   "metadata": {},
   "outputs": [],
   "source": [
    "# control vector validation\n",
    "\n",
    "cl = -1*sse.rtab.iloc[1].values - sse.rtab.iloc[2].values\n",
    "cu = sse.rtab.iloc[0].values + sse.rtab.iloc[1].values\n",
    "\n",
    "u = np.zeros((20,))\n",
    "v = np.zeros((20,))\n",
    "\n",
    "# max output\n",
    "u = sse.rtab.iloc[0].values\n",
    "v = sse.rtab.iloc[1].values + sse.rtab.iloc[0].values\n",
    "\n",
    "# min output\n",
    "u = -1 * sse.rtab.iloc[1].values - sse.rtab.iloc[2].values\n",
    "v = -1 * sse.rtab.iloc[2].values\n",
    "\n",
    "res = sse.x0 + np.matmul(sse.B, u).reshape(-1) + np.matmul(sse.C, v).reshape(-1)\n",
    "\n",
    "print(\"res check:\", np.all(res >= 0))\n",
    "\n",
    "with plt.style.context(['ieee']):\n",
    "    width = 0.35\n",
    "    x = np.arange(len(sse.x0))\n",
    "    fig, ax = plt.subplots(1, 1, figsize=(12, 5))\n",
    "    ax.bar(x - 0.5*width, sse.x0, width, label=\"in\", color='cyan')\n",
    "    ax.bar(x + 0.5*width, res, width, label=\"out\", color='orange')\n",
    "    ax.set_xlim(0, 59)\n",
    "    ax.set_ylim(-0.0, 0.01)\n",
    "    ax.legend(['x0', 'x0+ctrl'])"
   ]
  }
 ],
 "metadata": {
  "interpreter": {
   "hash": "ef6cb5c8d99d66a3614f491d51fd40cd94c9138687df3d2045e3a510da5efc66"
  },
  "kernelspec": {
   "display_name": "Python 3.9.12 ('andes')",
   "language": "python",
   "name": "python3"
  },
  "language_info": {
   "codemirror_mode": {
    "name": "ipython",
    "version": 3
   },
   "file_extension": ".py",
   "mimetype": "text/x-python",
   "name": "python",
   "nbconvert_exporter": "python",
   "pygments_lexer": "ipython3",
   "version": "3.9.12"
  },
  "orig_nbformat": 4
 },
 "nbformat": 4,
 "nbformat_minor": 2
}
