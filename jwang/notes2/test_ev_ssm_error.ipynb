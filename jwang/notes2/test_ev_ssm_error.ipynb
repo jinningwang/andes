{
 "cells": [
  {
   "cell_type": "markdown",
   "metadata": {},
   "source": [
    "# Code"
   ]
  },
  {
   "cell_type": "markdown",
   "metadata": {},
   "source": [
    "EV aggregator implementation based on State Space Model."
   ]
  },
  {
   "cell_type": "markdown",
   "metadata": {},
   "source": [
    "### EV SSM Class"
   ]
  },
  {
   "cell_type": "code",
   "execution_count": 1,
   "metadata": {},
   "outputs": [],
   "source": [
    "import numpy as np\n",
    "import matplotlib.pyplot as plt\n",
    "import pandas as pd\n",
    "\n",
    "from ev_ssm import ev_ssm\n",
    "from ev_ssm import r_agc_sev\n",
    "from tqdm import tqdm"
   ]
  },
  {
   "cell_type": "code",
   "execution_count": 2,
   "metadata": {},
   "outputs": [
    {
     "name": "stderr",
     "output_type": "stream",
     "text": [
      "EVA: ts=10.8[H], 10000 EVs, Total Q=250.12 MWh\n",
      "Online 1613, Q=40.54 MWh, SoC=0.968\n",
      "Power(MW): Pt=-0.5954, Pc=-0.5954, Pd=-0.0\n",
      "Ctrl: 0=1513; 1=100; \n",
      "EVA: Load A from Aest.csv.\n",
      "EVA MCS: 100%|██████████| 2/2 [00:00<00:00,  4.64it/s]\n",
      "EVA: ts=10.8[H], 10000 EVs, Total Q=250.12 MWh\n",
      "Online 1613, Q=40.54 MWh, SoC=0.968\n",
      "Power(MW): Pt=-0.5954, Pc=-0.5954, Pd=-0.0\n",
      "Ctrl: 0=1513; 1=100; \n",
      "EVA: Load A from Aest.csv.\n",
      "EVA MCS: 100%|██████████| 2/2 [00:00<00:00,  5.17it/s]\n",
      "EVA: ts=10.8[H], 10000 EVs, Total Q=250.12 MWh\n",
      "Online 1613, Q=40.54 MWh, SoC=0.968\n",
      "Power(MW): Pt=-0.5954, Pc=-0.5954, Pd=-0.0\n",
      "Ctrl: 0=1513; 1=100; \n",
      "EVA: Load A from Aest.csv.\n",
      "EVA MCS: 100%|██████████| 2/2 [00:00<00:00,  2.57it/s]\n",
      "EVA: ts=10.8[H], 10000 EVs, Total Q=250.12 MWh\n",
      "Online 1613, Q=40.54 MWh, SoC=0.968\n",
      "Power(MW): Pt=-0.5954, Pc=-0.5954, Pd=-0.0\n",
      "Ctrl: 0=1513; 1=100; \n",
      "EVA: Load A from Aest.csv.\n",
      "EVA MCS: 100%|██████████| 2/2 [00:00<00:00,  4.87it/s]\n",
      "EVA: ts=10.8[H], 10000 EVs, Total Q=250.12 MWh\n",
      "Online 1613, Q=40.54 MWh, SoC=0.968\n",
      "Power(MW): Pt=-0.5954, Pc=-0.5954, Pd=-0.0\n",
      "Ctrl: 0=1513; 1=100; \n",
      "EVA: Load A from Aest.csv.\n",
      "EVA MCS: 100%|██████████| 2/2 [00:00<00:00,  3.35it/s]\n",
      "EVA: ts=10.8[H], 10000 EVs, Total Q=250.12 MWh\n",
      "Online 1613, Q=40.54 MWh, SoC=0.968\n",
      "Power(MW): Pt=-0.5954, Pc=-0.5954, Pd=-0.0\n",
      "Ctrl: 0=1513; 1=100; \n",
      "EVA: Load A from Aest.csv.\n",
      "EVA MCS: 100%|██████████| 2/2 [00:00<00:00,  5.08it/s]\n",
      "EVA: ts=10.8[H], 10000 EVs, Total Q=250.12 MWh\n",
      "Online 1613, Q=40.54 MWh, SoC=0.968\n",
      "Power(MW): Pt=-0.5954, Pc=-0.5954, Pd=-0.0\n",
      "Ctrl: 0=1513; 1=100; \n",
      "EVA: Load A from Aest.csv.\n",
      "EVA MCS: 100%|██████████| 2/2 [00:00<00:00,  5.53it/s]\n",
      "EVA: ts=10.8[H], 10000 EVs, Total Q=250.12 MWh\n",
      "Online 1613, Q=40.54 MWh, SoC=0.968\n",
      "Power(MW): Pt=-0.5954, Pc=-0.5954, Pd=-0.0\n",
      "Ctrl: 0=1513; 1=100; \n",
      "EVA: Load A from Aest.csv.\n",
      "EVA MCS: 100%|██████████| 2/2 [00:00<00:00,  5.78it/s]\n",
      "EVA: ts=10.8[H], 10000 EVs, Total Q=250.12 MWh\n",
      "Online 1613, Q=40.54 MWh, SoC=0.968\n",
      "Power(MW): Pt=-0.5954, Pc=-0.5954, Pd=-0.0\n",
      "Ctrl: 0=1513; 1=100; \n",
      "EVA: Load A from Aest.csv.\n",
      "EVA MCS: 100%|██████████| 2/2 [00:00<00:00,  5.78it/s]\n",
      "EVA: ts=10.8[H], 10000 EVs, Total Q=250.12 MWh\n",
      "Online 1613, Q=40.54 MWh, SoC=0.968\n",
      "Power(MW): Pt=-0.5954, Pc=-0.5954, Pd=-0.0\n",
      "Ctrl: 0=1513; 1=100; \n",
      "EVA: Load A from Aest.csv.\n",
      "EVA MCS: 100%|██████████| 2/2 [00:00<00:00,  5.84it/s]\n",
      "EVA: ts=10.8[H], 10000 EVs, Total Q=250.12 MWh\n",
      "Online 1613, Q=40.54 MWh, SoC=0.968\n",
      "Power(MW): Pt=-0.5954, Pc=-0.5954, Pd=-0.0\n",
      "Ctrl: 0=1513; 1=100; \n",
      "EVA: Load A from Aest.csv.\n",
      "EVA MCS: 100%|██████████| 2/2 [00:00<00:00,  5.78it/s]\n",
      "EVA: ts=10.8[H], 10000 EVs, Total Q=250.12 MWh\n",
      "Online 1613, Q=40.54 MWh, SoC=0.968\n",
      "Power(MW): Pt=-0.5954, Pc=-0.5954, Pd=-0.0\n",
      "Ctrl: 0=1513; 1=100; \n",
      "EVA: Load A from Aest.csv.\n",
      "EVA MCS: 100%|██████████| 2/2 [00:00<00:00,  5.76it/s]\n",
      "EVA: ts=10.8[H], 10000 EVs, Total Q=250.12 MWh\n",
      "Online 1613, Q=40.54 MWh, SoC=0.968\n",
      "Power(MW): Pt=-0.5954, Pc=-0.5954, Pd=-0.0\n",
      "Ctrl: 0=1513; 1=100; \n",
      "EVA: Load A from Aest.csv.\n",
      "EVA MCS: 100%|██████████| 2/2 [00:00<00:00,  5.72it/s]\n",
      "EVA: ts=10.8[H], 10000 EVs, Total Q=250.12 MWh\n",
      "Online 1613, Q=40.54 MWh, SoC=0.968\n",
      "Power(MW): Pt=-0.5954, Pc=-0.5954, Pd=-0.0\n",
      "Ctrl: 0=1513; 1=100; \n",
      "EVA: Load A from Aest.csv.\n",
      "EVA MCS: 100%|██████████| 2/2 [00:00<00:00,  5.52it/s]\n",
      "EVA: ts=10.8[H], 10000 EVs, Total Q=250.12 MWh\n",
      "Online 1613, Q=40.54 MWh, SoC=0.968\n",
      "Power(MW): Pt=-0.5954, Pc=-0.5954, Pd=-0.0\n",
      "Ctrl: 0=1513; 1=100; \n",
      "EVA: Load A from Aest.csv.\n",
      "EVA MCS: 100%|██████████| 2/2 [00:00<00:00,  5.56it/s]\n",
      "EVA: ts=10.8[H], 10000 EVs, Total Q=250.12 MWh\n",
      "Online 1613, Q=40.54 MWh, SoC=0.968\n",
      "Power(MW): Pt=-0.5954, Pc=-0.5954, Pd=-0.0\n",
      "Ctrl: 0=1513; 1=100; \n",
      "EVA: Load A from Aest.csv.\n",
      "EVA MCS: 100%|██████████| 2/2 [00:00<00:00,  5.55it/s]\n",
      "EVA: ts=10.8[H], 10000 EVs, Total Q=250.12 MWh\n",
      "Online 1613, Q=40.54 MWh, SoC=0.968\n",
      "Power(MW): Pt=-0.5954, Pc=-0.5954, Pd=-0.0\n",
      "Ctrl: 0=1513; 1=100; \n",
      "EVA: Load A from Aest.csv.\n",
      "EVA MCS: 100%|██████████| 2/2 [00:00<00:00,  4.99it/s]\n",
      "EVA: ts=10.8[H], 10000 EVs, Total Q=250.12 MWh\n",
      "Online 1613, Q=40.54 MWh, SoC=0.968\n",
      "Power(MW): Pt=-0.5954, Pc=-0.5954, Pd=-0.0\n",
      "Ctrl: 0=1513; 1=100; \n",
      "EVA: Load A from Aest.csv.\n",
      "EVA MCS: 100%|██████████| 2/2 [00:00<00:00,  5.65it/s]\n"
     ]
    }
   ],
   "source": [
    "# --- Control Error ---\n",
    "Pil = []\n",
    "Prl = []\n",
    "Pcl = []\n",
    "error = []\n",
    "t0 = 10.8\n",
    "for Pi in np.arange(0.5, 8, 0.2):\n",
    "        sse = ev_ssm(ts=t0, N=10000, step=1, tp=40,\n",
    "                lr=0.1, lp=40, seed=2022, name=\"EVA\")\n",
    "        sse.load_A(\"Aest.csv\")\n",
    "\n",
    "        c0 = sse.ev.c\n",
    "        sse.run(tf=t0 + 1.5/3600, Pi=Pi,\n",
    "                is_updateA=False, is_rstate=True,\n",
    "                is_test=False, disable=False)\n",
    "\n",
    "        [u, v, us, vs] = sse.uv\n",
    "        [A, B, C, D] = [sse.A, sse.B, sse.C, sse.D]\n",
    "\n",
    "        Pil.append(Pi)\n",
    "        Prl.append(sse.Pr)\n",
    "        Pcl.append(sse.Prc)\n",
    "        error.append((sse.Prc - sse.Pr) / sse.Pr)"
   ]
  },
  {
   "cell_type": "code",
   "execution_count": null,
   "metadata": {},
   "outputs": [],
   "source": [
    "fig, ax = plt.subplots(1, 1, figsize=(8, 6))\n",
    "ax.plot(Pil, Prl, label=\"Signal\")\n",
    "ax.plot(Pil, Pcl, label=\"Response\")\n",
    "ax.set_xlabel(\"Input power [p.u.]\")\n",
    "ax.set_ylabel(\"Output power [p.u.]\")\n",
    "ax.set_title(f\"Time={sse.tss[0]} [H]\")\n",
    "ax.set_xlim([0.5, 7.7])\n",
    "ax.grid(True)\n",
    "ax.legend()\n",
    "ax2 = ax.twinx()\n",
    "ax2.plot(Pil, error, label='Error', color='red')"
   ]
  },
  {
   "cell_type": "code",
   "execution_count": null,
   "metadata": {},
   "outputs": [],
   "source": [
    "sse.ev[sse.ev.agc != 0].shape"
   ]
  },
  {
   "cell_type": "code",
   "execution_count": null,
   "metadata": {},
   "outputs": [],
   "source": [
    "sse.ev[sse.ev.u == 1].shape"
   ]
  },
  {
   "cell_type": "code",
   "execution_count": null,
   "metadata": {},
   "outputs": [],
   "source": [
    "sse.ev[(sse.ev.c0 != sse.ev.c) & (sse.ev.u==1)][['c0', 'c', 'sx']]"
   ]
  },
  {
   "cell_type": "code",
   "execution_count": null,
   "metadata": {},
   "outputs": [],
   "source": [
    "# --- Single Response ---\n",
    "\n",
    "Pi = 8\n",
    "\n",
    "sse = ev_ssm(ts=t0, N=10000, step=1, tp=40,\n",
    "        lr=0.1, lp=40, seed=2022, name=\"EVA\")\n",
    "sse.load_A(\"Aest.csv\")\n",
    "\n",
    "r0 = sse.rtab.values.reshape(-1)\n",
    "x0 = sse.x0\n",
    "sse.run(tf=t0 + 1.5/3600, Pi=Pi,\n",
    "        is_updateA=False, is_rstate=True,\n",
    "        is_test=False, disable=True)\n",
    "r = sse.rtab.values.reshape(-1)\n",
    "x = sse.x0\n",
    "\n",
    "[u, v, us, vs] = sse.uv\n",
    "[A, B, C, D] = [sse.A, sse.B, sse.C, sse.D]\n",
    "\n",
    "print(sse.Pr)\n",
    "print(sse.Prc)\n",
    "print(sse.Prc - sse.Pr)"
   ]
  },
  {
   "cell_type": "code",
   "execution_count": null,
   "metadata": {},
   "outputs": [],
   "source": [
    "# --- Replay ---\n",
    "# Replay EV control signal from recorded data\n",
    "# Replay 1 hour data may need 0.5 hour\n",
    "# Replay is not accurate\n",
    "\n",
    "sse_out = pd.read_csv('sse_out.csv')\n",
    "sse_out_s = sse_out.iloc[0:200].reset_index(drop=True)\n",
    "\n",
    "t0 = sse_out_s['time'].iloc[0]\n",
    "sse = ev_ssm(ts=t0, N=10000, step=1, tp=40,\n",
    "             lr=0.1, lp=40, seed=2022, name=\"EVA\")\n",
    "sse.load_A(\"Aest.csv\")\n",
    "\n",
    "ev_soc = pd.DataFrame(columns=range(sse_out_s.shape[0]))\n",
    "ev_agc = pd.DataFrame(columns=range(sse_out_s.shape[0]))\n",
    "\n",
    "for row in tqdm(range(sse_out_s.shape[0]), desc=f'{sse.name} Replay'):\n",
    "    sse.run(tf=sse_out_s.time.iloc[row], Pi=sse_out_s.Pr.iloc[row],\n",
    "            is_updateA=False, is_rstate=True,\n",
    "            is_test=False, disable=True)\n",
    "    ev_soc[row] = sse.ev.soc\n",
    "    ev_agc[row] = sse.ev.agc"
   ]
  },
  {
   "cell_type": "code",
   "execution_count": null,
   "metadata": {},
   "outputs": [],
   "source": [
    "sse.Prc"
   ]
  },
  {
   "cell_type": "code",
   "execution_count": null,
   "metadata": {},
   "outputs": [],
   "source": [
    "sse.Pr"
   ]
  },
  {
   "cell_type": "code",
   "execution_count": null,
   "metadata": {},
   "outputs": [],
   "source": [
    "sse.plot_agc()"
   ]
  },
  {
   "cell_type": "code",
   "execution_count": null,
   "metadata": {},
   "outputs": [],
   "source": [
    "sse.Prc"
   ]
  },
  {
   "cell_type": "code",
   "execution_count": null,
   "metadata": {},
   "outputs": [],
   "source": [
    "sse.Pr"
   ]
  },
  {
   "cell_type": "code",
   "execution_count": null,
   "metadata": {},
   "outputs": [],
   "source": [
    "sse.y"
   ]
  },
  {
   "cell_type": "code",
   "execution_count": null,
   "metadata": {},
   "outputs": [],
   "source": [
    "sse.y0"
   ]
  },
  {
   "cell_type": "code",
   "execution_count": null,
   "metadata": {},
   "outputs": [],
   "source": [
    "sse.rtab.values.reshape(-1).round(3)"
   ]
  },
  {
   "cell_type": "code",
   "execution_count": null,
   "metadata": {},
   "outputs": [],
   "source": [
    "sse.r_state()\n",
    "sse.x0.round(3)"
   ]
  },
  {
   "cell_type": "code",
   "execution_count": null,
   "metadata": {},
   "outputs": [],
   "source": [
    "sse.plot()"
   ]
  }
 ],
 "metadata": {
  "interpreter": {
   "hash": "750181ab3b727a2e6d1f5a043fc0cae3ee9b8f7684c9bfb1793857c8ebb93910"
  },
  "kernelspec": {
   "display_name": "Python3",
   "language": "python",
   "name": "andes"
  },
  "language_info": {
   "codemirror_mode": {
    "name": "ipython",
    "version": 3
   },
   "file_extension": ".py",
   "mimetype": "text/x-python",
   "name": "python",
   "nbconvert_exporter": "python",
   "pygments_lexer": "ipython3",
   "version": "3.9.12"
  }
 },
 "nbformat": 4,
 "nbformat_minor": 2
}
