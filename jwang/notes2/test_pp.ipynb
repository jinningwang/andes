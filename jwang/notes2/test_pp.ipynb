{
 "cells": [
  {
   "cell_type": "code",
   "execution_count": 1,
   "metadata": {
    "ExecuteTime": {
     "end_time": "2021-03-20T14:50:27.821845Z",
     "start_time": "2021-03-20T14:50:27.457672Z"
    },
    "execution": {
     "iopub.execute_input": "2021-09-26T22:41:51.096056Z",
     "iopub.status.busy": "2021-09-26T22:41:51.095687Z",
     "iopub.status.idle": "2021-09-26T22:41:51.787388Z",
     "shell.execute_reply": "2021-09-26T22:41:51.787697Z"
    }
   },
   "outputs": [],
   "source": [
    "import andes\n",
    "from andes.interop.pandapower import to_pandapower, make_GSF\n",
    "import pandapower as pp\n",
    "\n",
    "from numpy import pi\n",
    "from andes.shared import pd, rad2deg, deg2rad\n",
    "\n",
    "import numpy as np\n",
    "import andes.interop.pandapower as adpp\n",
    "\n",
    "import pandas as pd\n",
    "\n",
    "import andes\n",
    "import numpy as np\n",
    "from andes.interop.pandapower import to_pandapower, make_link_table, runopp_map\n",
    "from andes.interop.pandapower import add_gencost, build_group_table\n",
    "andes.config_logger(stream_level=20)\n",
    "\n",
    "import pandas as pd\n",
    "import pandapower as pp\n",
    "from math import ceil, floor\n",
    "\n",
    "import os\n",
    "\n",
    "import matplotlib.pyplot as plt\n",
    "\n",
    "import scipy.stats as stat\n",
    "\n",
    "from jams import rted2, dcopf, rted3"
   ]
  },
  {
   "cell_type": "code",
   "execution_count": 2,
   "metadata": {},
   "outputs": [],
   "source": [
    "# !andes run '/Users/jinningwang/Documents/work/andes/jwang/case/case2000.m' --convert"
   ]
  },
  {
   "cell_type": "code",
   "execution_count": 3,
   "metadata": {},
   "outputs": [
    {
     "name": "stdout",
     "output_type": "stream",
     "text": [
      "1.7.1.post214.dev0+gb93eafa2\n",
      "2.8.0\n"
     ]
    }
   ],
   "source": [
    "print(andes.__version__)\n",
    "print(pp.__version__)"
   ]
  },
  {
   "cell_type": "code",
   "execution_count": 4,
   "metadata": {
    "ExecuteTime": {
     "end_time": "2021-03-20T14:50:33.843520Z",
     "start_time": "2021-03-20T14:50:33.664077Z"
    },
    "execution": {
     "iopub.execute_input": "2021-09-26T22:41:59.401976Z",
     "iopub.status.busy": "2021-09-26T22:41:59.401670Z",
     "iopub.status.idle": "2021-09-26T22:41:59.781185Z",
     "shell.execute_reply": "2021-09-26T22:41:59.780928Z"
    }
   },
   "outputs": [
    {
     "name": "stderr",
     "output_type": "stream",
     "text": [
      "Working directory: \"/Users/jinningwang/Documents/work/andes/jwang/notes2\"\n",
      "> Loaded config from file \"/Users/jinningwang/.andes/andes.rc\"\n",
      "> Loaded generated Python code in \"/Users/jinningwang/.andes/pycode\".\n",
      "Generated code for <PQ> is stale.\n",
      "Numerical code generation (rapid incremental mode) started...\n"
     ]
    },
    {
     "name": "stdout",
     "output_type": "stream",
     "text": [
      "Generating code for 1 models on 8 processes.\n"
     ]
    },
    {
     "name": "stderr",
     "output_type": "stream",
     "text": [
      "Saved generated pycode to \"/Users/jinningwang/.andes/pycode\"\n",
      "> Reloaded generated Python code of module \"pycode\".\n",
      "Generated numerical code for 1 models in 0.3712 seconds.\n",
      "Parsing input file \"/Users/jinningwang/Documents/work/andes/jwang/case/case2000.xlsx\"...\n",
      "Input file parsed in 1.5020 seconds.\n",
      "System internal structure set up in 0.0981 seconds.\n"
     ]
    }
   ],
   "source": [
    "# ss0 is used for PP conversion\n",
    "\n",
    "case2k = '/Users/jinningwang/Documents/work/andes/jwang/case/case2000.xlsx'\n",
    "case14 = andes.get_case('ieee14/ieee14_ac8b.xlsx')\n",
    "wecc = andes.get_case('wecc/wecc_full.xlsx')\n",
    "npcc = andes.get_case('npcc/npcc.xlsx')\n",
    "ssa = andes.load(case2k,\n",
    "                 setup=True,\n",
    "                 no_output=True,\n",
    "                 default_config=False)"
   ]
  },
  {
   "cell_type": "code",
   "execution_count": 5,
   "metadata": {},
   "outputs": [
    {
     "name": "stderr",
     "output_type": "stream",
     "text": [
      "-> System connectivity check results:\n",
      "  No islanded bus detected.\n",
      "  System is interconnected.\n",
      "  Each island has a slack bus correctly defined and enabled.\n",
      "\n",
      "-> Power flow calculation\n",
      "           Numba: Off\n",
      "   Sparse solver: KLU\n",
      " Solution method: NR method\n",
      "Power flow initialized in 0.0082 seconds.\n",
      "0: |F(x)| = 35.37894339\n",
      "1: |F(x)| = 0.2692108655\n",
      "2: |F(x)| = 0.0002885472789\n",
      "3: |F(x)| = 9.353549046e-10\n",
      "Converged in 4 iterations in 0.0604 seconds.\n",
      "Power flow results are consistent. Conversion is successful.\n"
     ]
    },
    {
     "data": {
      "text/plain": [
       "True"
      ]
     },
     "execution_count": 5,
     "metadata": {},
     "output_type": "execute_result"
    }
   ],
   "source": [
    "# --- conversion ---\n",
    "ssp = to_pandapower(ssa)\n",
    "\n",
    "# add gen cost, G1-11. G10 EV, G11 Slack\n",
    "linearcost = [1] * ssp.gen.shape[0]\n",
    "\n",
    "gen_cost = np.array([[2., 0., 0., 3., 0., 0., 0.]] * ssp.gen.shape[0])\n",
    "gen_cost[:, 5] = linearcost  # c1\n",
    "\n",
    "add_gencost(ssp, gen_cost)"
   ]
  },
  {
   "cell_type": "code",
   "execution_count": 6,
   "metadata": {},
   "outputs": [],
   "source": [
    "pp.rundcopp(ssp)"
   ]
  },
  {
   "cell_type": "code",
   "execution_count": 8,
   "metadata": {},
   "outputs": [
    {
     "name": "stdout",
     "output_type": "stream",
     "text": [
      "Set parameter Username\n",
      "Academic license - for non-commercial use only - expires 2023-04-08\n"
     ]
    },
    {
     "name": "stderr",
     "output_type": "stream",
     "text": [
      "-> System connectivity check results:\n",
      "  No islanded bus detected.\n",
      "  System is interconnected.\n",
      "  Each island has a slack bus correctly defined and enabled.\n",
      "\n",
      "-> Power flow calculation\n",
      "           Numba: Off\n",
      "   Sparse solver: KLU\n",
      " Solution method: NR method\n",
      "Power flow initialized in 0.0092 seconds.\n",
      "0: |F(x)| = 35.37894339\n",
      "1: |F(x)| = 0.2692108655\n",
      "2: |F(x)| = 0.0002885472789\n",
      "3: |F(x)| = 9.353549046e-10\n",
      "Converged in 4 iterations in 0.0514 seconds.\n",
      "Power flow results are consistent. Conversion is successful.\n",
      "GSF is consistent.\n",
      "/Users/jinningwang/Documents/work/mambaforge/envs/andes/lib/python3.9/site-packages/pandas/core/indexes/base.py:6982: FutureWarning: In a future version, the Index constructor will not infer numeric dtypes when passed object-dtype sequences (matching Series behavior)\n",
      "  return Index(sequences[0], name=names)\n"
     ]
    }
   ],
   "source": [
    "ssd = dcopf()\n",
    "ssd.from_andes(ssa)"
   ]
  },
  {
   "cell_type": "code",
   "execution_count": 9,
   "metadata": {},
   "outputs": [
    {
     "name": "stdout",
     "output_type": "stream",
     "text": [
      "Warning for adding constraints: zero or small (< 1e-13) coefficients, ignored\n"
     ]
    },
    {
     "name": "stderr",
     "output_type": "stream",
     "text": [
      "Successfully build DCOPF model.\n"
     ]
    },
    {
     "name": "stdout",
     "output_type": "stream",
     "text": [
      "Gurobi Optimizer version 9.5.1 build v9.5.1rc2 (mac64[arm])\n",
      "Thread count: 8 physical cores, 8 logical processors, using up to 8 threads\n",
      "Optimize a model with 6413 rows, 544 columns and 82808 nonzeros\n",
      "Model fingerprint: 0xa53fbf8f\n",
      "Coefficient statistics:\n",
      "  Matrix range     [1e-07, 1e+00]\n",
      "  Objective range  [1e+00, 1e+00]\n",
      "  Bounds range     [5e-03, 1e+01]\n",
      "  RHS range        [2e+01, 4e+03]\n",
      "\n",
      "Concurrent LP optimizer: primal simplex, dual simplex, and barrier\n",
      "Showing barrier log only...\n",
      "\n",
      "Presolve removed 6413 rows and 544 columns\n",
      "Presolve time: 0.01s\n",
      "Presolve: All rows and columns removed\n",
      "Iteration    Objective       Primal Inf.    Dual Inf.      Time\n",
      "       0    6.7109210e+02   0.000000e+00   0.000000e+00      0s\n",
      "\n",
      "Solved with dual simplex\n",
      "Solved in 0 iterations and 0.02 seconds (0.01 work units)\n",
      "Optimal objective  6.710921000e+02\n"
     ]
    },
    {
     "name": "stderr",
     "output_type": "stream",
     "text": [
      "Successfully solve DCOPF.\n"
     ]
    },
    {
     "data": {
      "text/html": [
       "<div>\n",
       "<style scoped>\n",
       "    .dataframe tbody tr th:only-of-type {\n",
       "        vertical-align: middle;\n",
       "    }\n",
       "\n",
       "    .dataframe tbody tr th {\n",
       "        vertical-align: top;\n",
       "    }\n",
       "\n",
       "    .dataframe thead th {\n",
       "        text-align: right;\n",
       "    }\n",
       "</style>\n",
       "<table border=\"1\" class=\"dataframe\">\n",
       "  <thead>\n",
       "    <tr style=\"text-align: right;\">\n",
       "      <th></th>\n",
       "      <th>gen</th>\n",
       "      <th>pg</th>\n",
       "    </tr>\n",
       "  </thead>\n",
       "  <tbody>\n",
       "    <tr>\n",
       "      <th>0</th>\n",
       "      <td>1</td>\n",
       "      <td>1.5825</td>\n",
       "    </tr>\n",
       "    <tr>\n",
       "      <th>1</th>\n",
       "      <td>2</td>\n",
       "      <td>0.2573</td>\n",
       "    </tr>\n",
       "    <tr>\n",
       "      <th>2</th>\n",
       "      <td>3</td>\n",
       "      <td>0.6187</td>\n",
       "    </tr>\n",
       "    <tr>\n",
       "      <th>3</th>\n",
       "      <td>4</td>\n",
       "      <td>0.1000</td>\n",
       "    </tr>\n",
       "    <tr>\n",
       "      <th>4</th>\n",
       "      <td>5</td>\n",
       "      <td>1.4963</td>\n",
       "    </tr>\n",
       "    <tr>\n",
       "      <th>...</th>\n",
       "      <td>...</td>\n",
       "      <td>...</td>\n",
       "    </tr>\n",
       "    <tr>\n",
       "      <th>539</th>\n",
       "      <td>541</td>\n",
       "      <td>0.0000</td>\n",
       "    </tr>\n",
       "    <tr>\n",
       "      <th>540</th>\n",
       "      <td>542</td>\n",
       "      <td>1.7460</td>\n",
       "    </tr>\n",
       "    <tr>\n",
       "      <th>541</th>\n",
       "      <td>543</td>\n",
       "      <td>0.0000</td>\n",
       "    </tr>\n",
       "    <tr>\n",
       "      <th>542</th>\n",
       "      <td>544</td>\n",
       "      <td>0.0000</td>\n",
       "    </tr>\n",
       "    <tr>\n",
       "      <th>543</th>\n",
       "      <td>379</td>\n",
       "      <td>13.5430</td>\n",
       "    </tr>\n",
       "  </tbody>\n",
       "</table>\n",
       "<p>544 rows × 2 columns</p>\n",
       "</div>"
      ],
      "text/plain": [
       "     gen       pg\n",
       "0      1   1.5825\n",
       "1      2   0.2573\n",
       "2      3   0.6187\n",
       "3      4   0.1000\n",
       "4      5   1.4963\n",
       "..   ...      ...\n",
       "539  541   0.0000\n",
       "540  542   1.7460\n",
       "541  543   0.0000\n",
       "542  544   0.0000\n",
       "543  379  13.5430\n",
       "\n",
       "[544 rows x 2 columns]"
      ]
     },
     "execution_count": 9,
     "metadata": {},
     "output_type": "execute_result"
    }
   ],
   "source": [
    "ssd.get_res()"
   ]
  }
 ],
 "metadata": {
  "interpreter": {
   "hash": "ef6cb5c8d99d66a3614f491d51fd40cd94c9138687df3d2045e3a510da5efc66"
  },
  "kernelspec": {
   "display_name": "Python 3.9.12 ('andes')",
   "language": "python",
   "name": "python3"
  },
  "language_info": {
   "codemirror_mode": {
    "name": "ipython",
    "version": 3
   },
   "file_extension": ".py",
   "mimetype": "text/x-python",
   "name": "python",
   "nbconvert_exporter": "python",
   "pygments_lexer": "ipython3",
   "version": "3.9.12"
  },
  "varInspector": {
   "cols": {
    "lenName": 16,
    "lenType": 16,
    "lenVar": 40
   },
   "kernels_config": {
    "python": {
     "delete_cmd_postfix": "",
     "delete_cmd_prefix": "del ",
     "library": "var_list.py",
     "varRefreshCmd": "print(var_dic_list())"
    },
    "r": {
     "delete_cmd_postfix": ") ",
     "delete_cmd_prefix": "rm(",
     "library": "var_list.r",
     "varRefreshCmd": "cat(var_dic_list()) "
    }
   },
   "types_to_exclude": [
    "module",
    "function",
    "builtin_function_or_method",
    "instance",
    "_Feature"
   ],
   "window_display": false
  }
 },
 "nbformat": 4,
 "nbformat_minor": 4
}
