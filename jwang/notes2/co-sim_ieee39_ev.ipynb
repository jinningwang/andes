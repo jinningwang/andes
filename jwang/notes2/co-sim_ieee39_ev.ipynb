{
 "cells": [
  {
   "cell_type": "markdown",
   "metadata": {},
   "source": [
    "# RTED-TDS Co-Sim\n",
    "\n",
    "This notebook is used to implement the Co-Simulation of Real Time Economic Dispatch (RTED) and Time-Domain Simulation (TDS).\n",
    "In the RTED, SFR is considered. In the TDS, AGC is implemented.\n",
    "\n",
    "RTED is seperated into two DCOPF and ACOPF: 1) DCOPF with SFR is solved in gurobipy, which is packaged into the class ``rted`` in the file ``rted.py``. 2) ACOPF is solved in pandapower.\n",
    "\n",
    "Class ``rted`` has attributes ``rted`` and ``dcopf``. The two attributes are the RTED model and standard DCOPF model.\n",
    "The two model can be built by methods ``build_rted()`` and ``build_dcopf()``, respectively. The results can be accessed by method ``get_res()``, after successfully solved the ``rted`` or ``dcopf``.\n",
    "\n",
    "Table of contents:\n",
    "- Import case: import ADNES case\n",
    "- Load synthetic: build load curve as a scalar\n",
    "- Setup ``ssp`` and ``ssd``\n",
    "- Prepare: define some functions\n",
    "- Define param: define RTED loop parameters\n",
    "- Loop: Co-Sim loop\n",
    "\n",
    "List of major vars:\n",
    "\n",
    "- ``ssa`` ANDES system\n",
    "- ``ssp`` pandapower net\n",
    "- ``ssd`` DCOPF instance\n",
    "- ``sse`` EV aggregator\n",
    "\n",
    "Things need to be done when switching to other cases:\n",
    "- Assign generator cost data. The rows of gen_cost array should be the same with the length of ``ssp.gen``\n",
    "  including those uncontrollable ones, so the DCOPF model can build correctly.\n",
    "- Define generator controllability of ``ssp``, all generators are controllable by default\n",
    "- Define power system data: SFR cost, ramp limit (5-min-based)\n",
    "- Define generator type in ``ssd``, default as type I. For type I generator, generator limtis have impact on both generation and SFR capacity. For yype II generator, SFR capacity is determined by param ``pru_max`` and ``prd_max``\n",
    "\n",
    "Environment requirements:\n",
    "- ANDES (1.6.3+)\n",
    "- pandapower (2.7.0 is tested to be function correctly)\n",
    "- gurobipy\n",
    "- pandas, amtplotlib, scipy"
   ]
  },
  {
   "cell_type": "markdown",
   "metadata": {},
   "source": [
    "## Import case"
   ]
  },
  {
   "cell_type": "code",
   "execution_count": 1,
   "metadata": {
    "ExecuteTime": {
     "end_time": "2021-03-20T14:50:27.821845Z",
     "start_time": "2021-03-20T14:50:27.457672Z"
    },
    "execution": {
     "iopub.execute_input": "2021-09-26T22:41:51.096056Z",
     "iopub.status.busy": "2021-09-26T22:41:51.095687Z",
     "iopub.status.idle": "2021-09-26T22:41:51.787388Z",
     "shell.execute_reply": "2021-09-26T22:41:51.787697Z"
    }
   },
   "outputs": [],
   "source": [
    "import andes\n",
    "import numpy as np\n",
    "from andes.interop.pandapower import to_pandapower, make_link_table, runopp_map\n",
    "from andes.interop.pandapower import add_gencost, build_group_table\n",
    "andes.config_logger(stream_level=20)\n",
    "\n",
    "import pandas as pd\n",
    "import pandapower as pp\n",
    "from math import ceil, floor\n",
    "\n",
    "import os\n",
    "\n",
    "import matplotlib.pyplot as plt\n",
    "\n",
    "import scipy.stats as stat\n",
    "\n",
    "from jams import rted2, dcopf, rted3"
   ]
  },
  {
   "cell_type": "code",
   "execution_count": 2,
   "metadata": {},
   "outputs": [],
   "source": [
    "from ev_ssm import ev_ssm"
   ]
  },
  {
   "cell_type": "markdown",
   "metadata": {},
   "source": [
    "Package version"
   ]
  },
  {
   "cell_type": "code",
   "execution_count": 3,
   "metadata": {},
   "outputs": [
    {
     "name": "stdout",
     "output_type": "stream",
     "text": [
      "1.7.0.post158.dev0+g47c798b4\n",
      "2.8.0\n"
     ]
    }
   ],
   "source": [
    "print(andes.__version__)\n",
    "print(pp.__version__)"
   ]
  },
  {
   "cell_type": "markdown",
   "metadata": {},
   "source": [
    "EV aggregator"
   ]
  },
  {
   "cell_type": "code",
   "execution_count": 4,
   "metadata": {},
   "outputs": [
    {
     "name": "stderr",
     "output_type": "stream",
     "text": [
      "EVA: ts=10[H], 10000 EVs, Total Q=250.12 MWh\n",
      "Online 1983, Q=49.73 MWh, SoC=0.9834\n",
      "Power(MW): Pt=-0.3613, Pc=-0.3613, Pd=-0.0\n",
      "Ctrl: 0=1921; 1=62; \n",
      "EVA: Load A from Aest.csv.\n"
     ]
    }
   ],
   "source": [
    "sse = ev_ssm(ts=10, N=10000, step=1, tp=100,\n",
    "             lr=0.1, lp=100, seed=2022, name=\"EVA\")\n",
    "sse.load_A(\"Aest.csv\")"
   ]
  },
  {
   "cell_type": "markdown",
   "metadata": {},
   "source": [
    "Import ADNES case"
   ]
  },
  {
   "cell_type": "code",
   "execution_count": 5,
   "metadata": {
    "ExecuteTime": {
     "end_time": "2021-03-20T14:50:33.843520Z",
     "start_time": "2021-03-20T14:50:33.664077Z"
    },
    "execution": {
     "iopub.execute_input": "2021-09-26T22:41:59.401976Z",
     "iopub.status.busy": "2021-09-26T22:41:59.401670Z",
     "iopub.status.idle": "2021-09-26T22:41:59.781185Z",
     "shell.execute_reply": "2021-09-26T22:41:59.780928Z"
    }
   },
   "outputs": [
    {
     "name": "stderr",
     "output_type": "stream",
     "text": [
      "Working directory: \"/Users/jinningwang/Documents/work/andes/jwang/notes2\"\n",
      "> Loaded config from file \"/Users/jinningwang/.andes/andes.rc\"\n",
      "> Loaded generated Python code in \"/Users/jinningwang/.andes/pycode\".\n",
      "Parsing input file \"/Users/jinningwang/Documents/work/andes/jwang/case/ieee39_ev2.xlsx\"...\n",
      "Input file parsed in 0.0732 seconds.\n",
      "ACEc <1> added BusFreq <BusFreq_11> linked to bus <1>\n",
      "System internal structure set up in 0.0257 seconds.\n",
      "Working directory: \"/Users/jinningwang/Documents/work/andes/jwang/notes2\"\n",
      "> Loaded config from file \"/Users/jinningwang/.andes/andes.rc\"\n",
      "> Reloaded generated Python code of module \"pycode\".\n",
      "Parsing input file \"/Users/jinningwang/Documents/work/andes/jwang/case/ieee39_ev2.xlsx\"...\n",
      "Input file parsed in 0.0628 seconds.\n",
      "ACEc <1> added BusFreq <BusFreq_11> linked to bus <1>\n",
      "System internal structure set up in 0.0236 seconds.\n"
     ]
    }
   ],
   "source": [
    "# ss0 is used for PP conversion\n",
    "dir_path = os.path.abspath('..')\n",
    "case_path = '/case/ieee39_ev2.xlsx'\n",
    "case = dir_path + case_path\n",
    "ssa = andes.load(case,\n",
    "                 setup=True,\n",
    "                 no_output=True,\n",
    "                 default_config=False)\n",
    "ss0 = andes.load(case,\n",
    "                 setup=True,\n",
    "                 no_output=True,\n",
    "                 default_config=False)"
   ]
  },
  {
   "cell_type": "code",
   "execution_count": 6,
   "metadata": {},
   "outputs": [
    {
     "data": {
      "text/plain": [
       "-0.3612853183538888"
      ]
     },
     "execution_count": 6,
     "metadata": {},
     "output_type": "execute_result"
    }
   ],
   "source": [
    "sse.Ptc"
   ]
  },
  {
   "cell_type": "code",
   "execution_count": 7,
   "metadata": {},
   "outputs": [
    {
     "data": {
      "text/plain": [
       "-0.38104337317935005"
      ]
     },
     "execution_count": 7,
     "metadata": {},
     "output_type": "execute_result"
    }
   ],
   "source": [
    "sse.Pl"
   ]
  },
  {
   "cell_type": "markdown",
   "metadata": {},
   "source": [
    "Set output mode as 'manual'"
   ]
  },
  {
   "cell_type": "code",
   "execution_count": 8,
   "metadata": {},
   "outputs": [],
   "source": [
    "ssa.TDS.config.save_mode = 'manual'"
   ]
  },
  {
   "cell_type": "markdown",
   "metadata": {},
   "source": [
    "Set load as constant load."
   ]
  },
  {
   "cell_type": "code",
   "execution_count": 9,
   "metadata": {},
   "outputs": [],
   "source": [
    "ssa.PQ.config.p2p = 1\n",
    "ssa.PQ.config.q2q = 1\n",
    "ssa.PQ.config.p2z = 0\n",
    "ssa.PQ.config.q2z = 0\n",
    "ssa.PQ.pq2z = 0"
   ]
  },
  {
   "cell_type": "markdown",
   "metadata": {},
   "source": [
    "Turn on ``numba`` can accelerate TDS."
   ]
  },
  {
   "cell_type": "code",
   "execution_count": 10,
   "metadata": {},
   "outputs": [
    {
     "data": {
      "text/plain": [
       "0"
      ]
     },
     "execution_count": 10,
     "metadata": {},
     "output_type": "execute_result"
    }
   ],
   "source": [
    "ssa.config.numba"
   ]
  },
  {
   "cell_type": "markdown",
   "metadata": {},
   "source": [
    "## Load synthetic\n",
    "\n",
    "Create load data ``d_syn``, which is a ``DataFrame`` that have three columns: ``time``, ``s10``, ``h10``. ``time`` is by seconds, ``s10`` is scalar load."
   ]
  },
  {
   "cell_type": "code",
   "execution_count": 11,
   "metadata": {
    "scrolled": false
   },
   "outputs": [
    {
     "name": "stdout",
     "output_type": "stream",
     "text": [
      "ANDES total load is: 58.564 p.u.\n"
     ]
    },
    {
     "data": {
      "text/plain": [
       "Text(0.5, 0, 'Time [s]')"
      ]
     },
     "execution_count": 11,
     "metadata": {},
     "output_type": "execute_result"
    },
    {
     "data": {
      "image/png": "[encoded data removed]",
      "text/plain": [
       "<Figure size 360x288 with 1 Axes>"
      ]
     },
     "metadata": {
      "needs_background": "light"
     },
     "output_type": "display_data"
    }
   ],
   "source": [
    "# --- get ANDES load ---\n",
    "ptotal = ssa.PQ.as_df()['p0'].sum()\n",
    "print('ANDES total load is:',ptotal.round(4),'p.u.')\n",
    "\n",
    "# --- scale d_syn ---\n",
    "ddata_path = '/case/d_syn2.csv'\n",
    "ddata = dir_path + ddata_path\n",
    "d_syn = pd.read_csv(ddata)\n",
    "\n",
    "ratio = 5\n",
    "# The equation is tuned for ieee39\n",
    "# original: (d_syn['h10'] - d_syn['h10'].mean()) / d_syn['h10'].var() * ratio + 1\n",
    "d_syn['s10'] = ratio*(d_syn['ph10'] - d_syn['ph10'].min()) / d_syn['h10'].var() + 1\n",
    "\n",
    "# calculate expected load\n",
    "step = 300\n",
    "d_exp = d_syn.groupby(d_syn.index // step).mean().copy()\n",
    "d_exp['time'] = range(0,3600,300)\n",
    "\n",
    "fig_load, ax_load = plt.subplots(figsize=(5, 4))\n",
    "ax_load.plot(d_syn['time'], d_syn['s10'], color='tab:blue', linestyle='-')\n",
    "ystep = list(d_exp['s10'])\n",
    "ystep.insert(0, d_exp['s10'].iloc[0])\n",
    "ax_load.step(range(0,3900,300), ystep, color='tab:blue', linestyle='--')\n",
    "ax_load.set_xlim([0, 3600])\n",
    "ax_load.legend(['Actual load', 'Forecasted load'])\n",
    "ax_load.set_title('Load profile')\n",
    "ax_load.set_ylabel('ratio')\n",
    "ax_load.set_xlabel('Time [s]')"
   ]
  },
  {
   "cell_type": "markdown",
   "metadata": {},
   "source": [
    "## Setup ``ssp`` and ``ssd``\n",
    "\n",
    "Convert ``ssa`` to pandapower net ``ssp``, add generator cost\n",
    "\n",
    "The input cost array follow the matpower/pypower format, now only poly_cost is supported"
   ]
  },
  {
   "cell_type": "code",
   "execution_count": 12,
   "metadata": {},
   "outputs": [],
   "source": [
    "ev_idx = 'PV_10'"
   ]
  },
  {
   "cell_type": "code",
   "execution_count": 13,
   "metadata": {},
   "outputs": [
    {
     "data": {
      "text/plain": [
       "True"
      ]
     },
     "execution_count": 13,
     "metadata": {},
     "output_type": "execute_result"
    }
   ],
   "source": [
    "# --- set up EV generator data ---\n",
    "ssa.PV.set(src='p0', idx=ev_idx, attr='v', value=sse.Ptc)\n",
    "ssa.PV.set(src='pmax', idx=ev_idx, attr='v', value=sse.Pu)\n",
    "ssa.PV.set(src='pmin', idx=ev_idx, attr='v', value=sse.Pl)"
   ]
  },
  {
   "cell_type": "code",
   "execution_count": 14,
   "metadata": {},
   "outputs": [
    {
     "name": "stderr",
     "output_type": "stream",
     "text": [
      "-> System connectivity check results:\n",
      "  No islanded bus detected.\n",
      "  System is interconnected.\n",
      "  Each island has a slack bus correctly defined and enabled.\n",
      "\n",
      "-> Power flow calculation\n",
      "           Numba: Off\n",
      "   Sparse solver: KLU\n",
      " Solution method: NR method\n",
      "Power flow initialized in 0.0030 seconds.\n",
      "0: |F(x)| = 7.561249598\n",
      "1: |F(x)| = 2.916599385\n",
      "2: |F(x)| = 0.1314306449\n",
      "3: |F(x)| = 0.000346374201\n",
      "4: |F(x)| = 4.221392125e-09\n",
      "Converged in 5 iterations in 0.0039 seconds.\n",
      "Power flow results are consistent. Conversion is successful.\n"
     ]
    },
    {
     "data": {
      "text/plain": [
       "True"
      ]
     },
     "execution_count": 14,
     "metadata": {},
     "output_type": "execute_result"
    }
   ],
   "source": [
    "# --- conversion ---\n",
    "ssp = to_pandapower(ssa)\n",
    "\n",
    "# set EV generator as uncontrollable\n",
    "ssp.gen.controllable.iloc[9] = False\n",
    "\n",
    "# add gen cost, G1-11. G10 EV, G11 Slack\n",
    "linearcost = [1, 1, 1, 1, 1, 1, 1, 1, 1, 1, 1.5]\n",
    "\n",
    "gen_cost = np.array([[2., 0., 0., 3., 0., 0., 0.]] * ssp.gen.shape[0])\n",
    "gen_cost[:, 5] = linearcost  # c1\n",
    "\n",
    "add_gencost(ssp, gen_cost)"
   ]
  },
  {
   "cell_type": "code",
   "execution_count": 15,
   "metadata": {
    "scrolled": true
   },
   "outputs": [
    {
     "data": {
      "text/html": [
       "<div>\n",
       "<style scoped>\n",
       "    .dataframe tbody tr th:only-of-type {\n",
       "        vertical-align: middle;\n",
       "    }\n",
       "\n",
       "    .dataframe tbody tr th {\n",
       "        vertical-align: top;\n",
       "    }\n",
       "\n",
       "    .dataframe thead th {\n",
       "        text-align: right;\n",
       "    }\n",
       "</style>\n",
       "<table border=\"1\" class=\"dataframe\">\n",
       "  <thead>\n",
       "    <tr style=\"text-align: right;\">\n",
       "      <th></th>\n",
       "      <th>name</th>\n",
       "      <th>bus</th>\n",
       "      <th>p_mw</th>\n",
       "      <th>vm_pu</th>\n",
       "      <th>sn_mva</th>\n",
       "      <th>min_q_mvar</th>\n",
       "      <th>max_q_mvar</th>\n",
       "      <th>scaling</th>\n",
       "      <th>slack</th>\n",
       "      <th>in_service</th>\n",
       "      <th>slack_weight</th>\n",
       "      <th>type</th>\n",
       "      <th>controllable</th>\n",
       "      <th>min_p_mw</th>\n",
       "      <th>max_p_mw</th>\n",
       "      <th>power_station_trafo</th>\n",
       "    </tr>\n",
       "  </thead>\n",
       "  <tbody>\n",
       "    <tr>\n",
       "      <th>0</th>\n",
       "      <td>PV_1</td>\n",
       "      <td>29</td>\n",
       "      <td>436.086385</td>\n",
       "      <td>1.035534</td>\n",
       "      <td>100.0</td>\n",
       "      <td>-58.084</td>\n",
       "      <td>183.8160</td>\n",
       "      <td>1.0</td>\n",
       "      <td>False</td>\n",
       "      <td>True</td>\n",
       "      <td>0.0</td>\n",
       "      <td>None</td>\n",
       "      <td>True</td>\n",
       "      <td>200.000000</td>\n",
       "      <td>1500.000000</td>\n",
       "      <td>NaN</td>\n",
       "    </tr>\n",
       "    <tr>\n",
       "      <th>1</th>\n",
       "      <td>PV_2</td>\n",
       "      <td>30</td>\n",
       "      <td>645.999998</td>\n",
       "      <td>1.013246</td>\n",
       "      <td>100.0</td>\n",
       "      <td>-122.665</td>\n",
       "      <td>515.7648</td>\n",
       "      <td>1.0</td>\n",
       "      <td>False</td>\n",
       "      <td>True</td>\n",
       "      <td>0.0</td>\n",
       "      <td>None</td>\n",
       "      <td>True</td>\n",
       "      <td>150.000000</td>\n",
       "      <td>900.000000</td>\n",
       "      <td>NaN</td>\n",
       "    </tr>\n",
       "    <tr>\n",
       "      <th>2</th>\n",
       "      <td>PV_3</td>\n",
       "      <td>31</td>\n",
       "      <td>724.999998</td>\n",
       "      <td>1.020528</td>\n",
       "      <td>100.0</td>\n",
       "      <td>-180.218</td>\n",
       "      <td>536.0664</td>\n",
       "      <td>1.0</td>\n",
       "      <td>False</td>\n",
       "      <td>True</td>\n",
       "      <td>0.0</td>\n",
       "      <td>None</td>\n",
       "      <td>True</td>\n",
       "      <td>100.000000</td>\n",
       "      <td>800.000000</td>\n",
       "      <td>NaN</td>\n",
       "    </tr>\n",
       "    <tr>\n",
       "      <th>3</th>\n",
       "      <td>PV_4</td>\n",
       "      <td>32</td>\n",
       "      <td>651.999998</td>\n",
       "      <td>1.013430</td>\n",
       "      <td>100.0</td>\n",
       "      <td>-213.780</td>\n",
       "      <td>657.8496</td>\n",
       "      <td>1.0</td>\n",
       "      <td>False</td>\n",
       "      <td>True</td>\n",
       "      <td>0.0</td>\n",
       "      <td>None</td>\n",
       "      <td>True</td>\n",
       "      <td>100.000000</td>\n",
       "      <td>700.000000</td>\n",
       "      <td>NaN</td>\n",
       "    </tr>\n",
       "    <tr>\n",
       "      <th>4</th>\n",
       "      <td>PV_5</td>\n",
       "      <td>33</td>\n",
       "      <td>520.000000</td>\n",
       "      <td>1.019109</td>\n",
       "      <td>100.0</td>\n",
       "      <td>-188.028</td>\n",
       "      <td>733.7940</td>\n",
       "      <td>1.0</td>\n",
       "      <td>False</td>\n",
       "      <td>True</td>\n",
       "      <td>0.0</td>\n",
       "      <td>None</td>\n",
       "      <td>True</td>\n",
       "      <td>100.000000</td>\n",
       "      <td>700.000000</td>\n",
       "      <td>NaN</td>\n",
       "    </tr>\n",
       "    <tr>\n",
       "      <th>5</th>\n",
       "      <td>PV_6</td>\n",
       "      <td>34</td>\n",
       "      <td>690.000000</td>\n",
       "      <td>1.060000</td>\n",
       "      <td>100.0</td>\n",
       "      <td>-234.972</td>\n",
       "      <td>712.5456</td>\n",
       "      <td>1.0</td>\n",
       "      <td>False</td>\n",
       "      <td>True</td>\n",
       "      <td>0.0</td>\n",
       "      <td>None</td>\n",
       "      <td>True</td>\n",
       "      <td>100.000000</td>\n",
       "      <td>800.000000</td>\n",
       "      <td>NaN</td>\n",
       "    </tr>\n",
       "    <tr>\n",
       "      <th>6</th>\n",
       "      <td>PV_7</td>\n",
       "      <td>35</td>\n",
       "      <td>590.000000</td>\n",
       "      <td>1.060000</td>\n",
       "      <td>100.0</td>\n",
       "      <td>-249.132</td>\n",
       "      <td>682.0464</td>\n",
       "      <td>1.0</td>\n",
       "      <td>False</td>\n",
       "      <td>True</td>\n",
       "      <td>0.0</td>\n",
       "      <td>None</td>\n",
       "      <td>True</td>\n",
       "      <td>100.000000</td>\n",
       "      <td>700.000000</td>\n",
       "      <td>NaN</td>\n",
       "    </tr>\n",
       "    <tr>\n",
       "      <th>7</th>\n",
       "      <td>PV_8</td>\n",
       "      <td>36</td>\n",
       "      <td>330.000000</td>\n",
       "      <td>1.013996</td>\n",
       "      <td>100.0</td>\n",
       "      <td>-216.122</td>\n",
       "      <td>532.1616</td>\n",
       "      <td>1.0</td>\n",
       "      <td>False</td>\n",
       "      <td>True</td>\n",
       "      <td>0.0</td>\n",
       "      <td>None</td>\n",
       "      <td>True</td>\n",
       "      <td>100.000000</td>\n",
       "      <td>700.000000</td>\n",
       "      <td>NaN</td>\n",
       "    </tr>\n",
       "    <tr>\n",
       "      <th>8</th>\n",
       "      <td>PV_9</td>\n",
       "      <td>37</td>\n",
       "      <td>780.000000</td>\n",
       "      <td>1.052803</td>\n",
       "      <td>100.0</td>\n",
       "      <td>-356.889</td>\n",
       "      <td>1001.7300</td>\n",
       "      <td>1.0</td>\n",
       "      <td>False</td>\n",
       "      <td>True</td>\n",
       "      <td>0.0</td>\n",
       "      <td>None</td>\n",
       "      <td>True</td>\n",
       "      <td>100.000000</td>\n",
       "      <td>1000.000000</td>\n",
       "      <td>NaN</td>\n",
       "    </tr>\n",
       "    <tr>\n",
       "      <th>9</th>\n",
       "      <td>PV_10</td>\n",
       "      <td>37</td>\n",
       "      <td>-36.128532</td>\n",
       "      <td>1.052803</td>\n",
       "      <td>100.0</td>\n",
       "      <td>0.000</td>\n",
       "      <td>0.0000</td>\n",
       "      <td>1.0</td>\n",
       "      <td>False</td>\n",
       "      <td>True</td>\n",
       "      <td>0.0</td>\n",
       "      <td>None</td>\n",
       "      <td>False</td>\n",
       "      <td>-38.104337</td>\n",
       "      <td>1144.862135</td>\n",
       "      <td>NaN</td>\n",
       "    </tr>\n",
       "    <tr>\n",
       "      <th>10</th>\n",
       "      <td>Slack_10</td>\n",
       "      <td>38</td>\n",
       "      <td>574.170000</td>\n",
       "      <td>1.030000</td>\n",
       "      <td>100.0</td>\n",
       "      <td>-173.261</td>\n",
       "      <td>574.8500</td>\n",
       "      <td>1.0</td>\n",
       "      <td>True</td>\n",
       "      <td>True</td>\n",
       "      <td>0.0</td>\n",
       "      <td>None</td>\n",
       "      <td>True</td>\n",
       "      <td>300.000000</td>\n",
       "      <td>1500.000000</td>\n",
       "      <td>NaN</td>\n",
       "    </tr>\n",
       "  </tbody>\n",
       "</table>\n",
       "</div>"
      ],
      "text/plain": [
       "        name  bus        p_mw     vm_pu  sn_mva  min_q_mvar  max_q_mvar  \\\n",
       "0       PV_1   29  436.086385  1.035534   100.0     -58.084    183.8160   \n",
       "1       PV_2   30  645.999998  1.013246   100.0    -122.665    515.7648   \n",
       "2       PV_3   31  724.999998  1.020528   100.0    -180.218    536.0664   \n",
       "3       PV_4   32  651.999998  1.013430   100.0    -213.780    657.8496   \n",
       "4       PV_5   33  520.000000  1.019109   100.0    -188.028    733.7940   \n",
       "5       PV_6   34  690.000000  1.060000   100.0    -234.972    712.5456   \n",
       "6       PV_7   35  590.000000  1.060000   100.0    -249.132    682.0464   \n",
       "7       PV_8   36  330.000000  1.013996   100.0    -216.122    532.1616   \n",
       "8       PV_9   37  780.000000  1.052803   100.0    -356.889   1001.7300   \n",
       "9      PV_10   37  -36.128532  1.052803   100.0       0.000      0.0000   \n",
       "10  Slack_10   38  574.170000  1.030000   100.0    -173.261    574.8500   \n",
       "\n",
       "    scaling  slack  in_service  slack_weight  type controllable    min_p_mw  \\\n",
       "0       1.0  False        True           0.0  None         True  200.000000   \n",
       "1       1.0  False        True           0.0  None         True  150.000000   \n",
       "2       1.0  False        True           0.0  None         True  100.000000   \n",
       "3       1.0  False        True           0.0  None         True  100.000000   \n",
       "4       1.0  False        True           0.0  None         True  100.000000   \n",
       "5       1.0  False        True           0.0  None         True  100.000000   \n",
       "6       1.0  False        True           0.0  None         True  100.000000   \n",
       "7       1.0  False        True           0.0  None         True  100.000000   \n",
       "8       1.0  False        True           0.0  None         True  100.000000   \n",
       "9       1.0  False        True           0.0  None        False  -38.104337   \n",
       "10      1.0   True        True           0.0  None         True  300.000000   \n",
       "\n",
       "       max_p_mw  power_station_trafo  \n",
       "0   1500.000000                  NaN  \n",
       "1    900.000000                  NaN  \n",
       "2    800.000000                  NaN  \n",
       "3    700.000000                  NaN  \n",
       "4    700.000000                  NaN  \n",
       "5    800.000000                  NaN  \n",
       "6    700.000000                  NaN  \n",
       "7    700.000000                  NaN  \n",
       "8   1000.000000                  NaN  \n",
       "9   1144.862135                  NaN  \n",
       "10  1500.000000                  NaN  "
      ]
     },
     "execution_count": 15,
     "metadata": {},
     "output_type": "execute_result"
    }
   ],
   "source": [
    "ssp.gen"
   ]
  },
  {
   "cell_type": "markdown",
   "metadata": {},
   "source": [
    "Build RTED instance ``ssd``"
   ]
  },
  {
   "cell_type": "code",
   "execution_count": 16,
   "metadata": {
    "scrolled": true
   },
   "outputs": [
    {
     "name": "stdout",
     "output_type": "stream",
     "text": [
      "Restricted license - for non-production use only - expires 2023-10-25\n"
     ]
    },
    {
     "name": "stderr",
     "output_type": "stream",
     "text": [
      "-> System connectivity check results:\n",
      "  No islanded bus detected.\n",
      "  System is interconnected.\n",
      "  Each island has a slack bus correctly defined and enabled.\n",
      "\n",
      "-> Power flow calculation\n",
      "           Numba: Off\n",
      "   Sparse solver: KLU\n",
      " Solution method: NR method\n",
      "Power flow initialized in 0.0035 seconds.\n",
      "0: |F(x)| = 7.561249598\n",
      "1: |F(x)| = 2.916599385\n",
      "2: |F(x)| = 0.1314306449\n",
      "3: |F(x)| = 0.000346374201\n",
      "4: |F(x)| = 4.221392125e-09\n",
      "Converged in 5 iterations in 0.0046 seconds.\n",
      "Power flow results are consistent. Conversion is successful.\n",
      "GSF is consistent.\n"
     ]
    },
    {
     "name": "stdout",
     "output_type": "stream",
     "text": [
      "Warning for adding constraints: zero or small (< 1e-13) coefficients, ignored\n"
     ]
    },
    {
     "name": "stderr",
     "output_type": "stream",
     "text": [
      "Successfully build DCOPF model.\n"
     ]
    },
    {
     "name": "stdout",
     "output_type": "stream",
     "text": [
      "Gurobi Optimizer version 9.5.1 build v9.5.1rc2 (mac64[arm])\n",
      "Thread count: 8 physical cores, 8 logical processors, using up to 8 threads\n",
      "Optimize a model with 69 rows, 11 columns and 597 nonzeros\n",
      "Model fingerprint: 0xf636e376\n",
      "Coefficient statistics:\n",
      "  Matrix range     [4e-03, 1e+00]\n",
      "  Objective range  [1e+00, 2e+00]\n",
      "  Bounds range     [4e-01, 2e+01]\n",
      "  RHS range        [4e-01, 6e+01]\n",
      "Presolve removed 54 rows and 3 columns\n",
      "Presolve time: 0.00s\n",
      "Presolved: 15 rows, 14 columns, 120 nonzeros\n",
      "\n",
      "Iteration    Objective       Primal Inf.    Dual Inf.      Time\n",
      "       0    6.0064000e+01   8.006238e+01   0.000000e+00      0s\n",
      "      15    6.0064000e+01   0.000000e+00   0.000000e+00      0s\n",
      "\n",
      "Solved in 15 iterations and 0.00 seconds (0.00 work units)\n",
      "Optimal objective  6.006400000e+01\n"
     ]
    },
    {
     "name": "stderr",
     "output_type": "stream",
     "text": [
      "Successfully solve DCOPF.\n",
      "Successfully set p_pre from DCOPF results.\n",
      "No RegUp requirement data (``du``), set to 0.\n",
      "No RegDn requirement data (``dd``), set to 0.\n"
     ]
    },
    {
     "name": "stdout",
     "output_type": "stream",
     "text": [
      "Warning for adding constraints: zero or small (< 1e-13) coefficients, ignored\n",
      "Gurobi Optimizer version 9.5.1 build v9.5.1rc2 (mac64[arm])\n",
      "Thread count: 8 physical cores, 8 logical processors, using up to 8 threads\n",
      "Optimize a model with 117 rows, 33 columns and 685 nonzeros\n",
      "Model fingerprint: 0xb30abb5c\n",
      "Coefficient statistics:\n",
      "  Matrix range     [4e-03, 1e+00]\n",
      "  Objective range  [9e-02, 2e+00]\n",
      "  Bounds range     [4e-01, 2e+01]\n",
      "  RHS range        [2e-02, 6e+01]\n",
      "Presolve removed 102 rows and 25 columns\n",
      "Presolve time: 0.00s\n",
      "Presolved: 15 rows, 12 columns, 118 nonzeros\n",
      "\n",
      "Iteration    Objective       Primal Inf.    Dual Inf.      Time\n",
      "       0    6.0064000e+01   8.196400e+01   0.000000e+00      0s\n",
      "      13    6.0064000e+01   0.000000e+00   0.000000e+00      0s\n",
      "\n",
      "Solved in 13 iterations and 0.00 seconds (0.00 work units)\n",
      "Optimal objective  6.006400000e+01\n"
     ]
    },
    {
     "name": "stderr",
     "output_type": "stream",
     "text": [
      "Successfully solve RTED.\n"
     ]
    },
    {
     "data": {
      "text/html": [
       "<div>\n",
       "<style scoped>\n",
       "    .dataframe tbody tr th:only-of-type {\n",
       "        vertical-align: middle;\n",
       "    }\n",
       "\n",
       "    .dataframe tbody tr th {\n",
       "        vertical-align: top;\n",
       "    }\n",
       "\n",
       "    .dataframe thead th {\n",
       "        text-align: right;\n",
       "    }\n",
       "</style>\n",
       "<table border=\"1\" class=\"dataframe\">\n",
       "  <thead>\n",
       "    <tr style=\"text-align: right;\">\n",
       "      <th></th>\n",
       "      <th>gen</th>\n",
       "      <th>pg</th>\n",
       "      <th>pru</th>\n",
       "      <th>prd</th>\n",
       "      <th>bu</th>\n",
       "      <th>bd</th>\n",
       "    </tr>\n",
       "  </thead>\n",
       "  <tbody>\n",
       "    <tr>\n",
       "      <th>0</th>\n",
       "      <td>PV_1</td>\n",
       "      <td>12.591757</td>\n",
       "      <td>0.0</td>\n",
       "      <td>0.0</td>\n",
       "      <td>0.0</td>\n",
       "      <td>0.0</td>\n",
       "    </tr>\n",
       "    <tr>\n",
       "      <th>1</th>\n",
       "      <td>PV_2</td>\n",
       "      <td>6.180955</td>\n",
       "      <td>0.0</td>\n",
       "      <td>0.0</td>\n",
       "      <td>0.0</td>\n",
       "      <td>0.0</td>\n",
       "    </tr>\n",
       "    <tr>\n",
       "      <th>2</th>\n",
       "      <td>PV_3</td>\n",
       "      <td>8.000000</td>\n",
       "      <td>0.0</td>\n",
       "      <td>0.0</td>\n",
       "      <td>0.0</td>\n",
       "      <td>0.0</td>\n",
       "    </tr>\n",
       "    <tr>\n",
       "      <th>3</th>\n",
       "      <td>PV_4</td>\n",
       "      <td>5.851096</td>\n",
       "      <td>0.0</td>\n",
       "      <td>0.0</td>\n",
       "      <td>0.0</td>\n",
       "      <td>0.0</td>\n",
       "    </tr>\n",
       "    <tr>\n",
       "      <th>4</th>\n",
       "      <td>PV_5</td>\n",
       "      <td>7.000000</td>\n",
       "      <td>0.0</td>\n",
       "      <td>0.0</td>\n",
       "      <td>0.0</td>\n",
       "      <td>0.0</td>\n",
       "    </tr>\n",
       "    <tr>\n",
       "      <th>5</th>\n",
       "      <td>PV_6</td>\n",
       "      <td>4.800000</td>\n",
       "      <td>0.0</td>\n",
       "      <td>0.0</td>\n",
       "      <td>0.0</td>\n",
       "      <td>0.0</td>\n",
       "    </tr>\n",
       "    <tr>\n",
       "      <th>6</th>\n",
       "      <td>PV_7</td>\n",
       "      <td>3.501478</td>\n",
       "      <td>0.0</td>\n",
       "      <td>0.0</td>\n",
       "      <td>0.0</td>\n",
       "      <td>0.0</td>\n",
       "    </tr>\n",
       "    <tr>\n",
       "      <th>7</th>\n",
       "      <td>PV_8</td>\n",
       "      <td>7.000000</td>\n",
       "      <td>0.0</td>\n",
       "      <td>0.0</td>\n",
       "      <td>0.0</td>\n",
       "      <td>0.0</td>\n",
       "    </tr>\n",
       "    <tr>\n",
       "      <th>8</th>\n",
       "      <td>PV_9</td>\n",
       "      <td>1.000000</td>\n",
       "      <td>0.0</td>\n",
       "      <td>0.0</td>\n",
       "      <td>0.0</td>\n",
       "      <td>0.0</td>\n",
       "    </tr>\n",
       "    <tr>\n",
       "      <th>9</th>\n",
       "      <td>PV_10</td>\n",
       "      <td>-0.361285</td>\n",
       "      <td>0.0</td>\n",
       "      <td>0.0</td>\n",
       "      <td>0.0</td>\n",
       "      <td>0.0</td>\n",
       "    </tr>\n",
       "    <tr>\n",
       "      <th>10</th>\n",
       "      <td>Slack_10</td>\n",
       "      <td>3.000000</td>\n",
       "      <td>0.0</td>\n",
       "      <td>0.0</td>\n",
       "      <td>0.0</td>\n",
       "      <td>0.0</td>\n",
       "    </tr>\n",
       "  </tbody>\n",
       "</table>\n",
       "</div>"
      ],
      "text/plain": [
       "         gen         pg  pru  prd   bu   bd\n",
       "0       PV_1  12.591757  0.0  0.0  0.0  0.0\n",
       "1       PV_2   6.180955  0.0  0.0  0.0  0.0\n",
       "2       PV_3   8.000000  0.0  0.0  0.0  0.0\n",
       "3       PV_4   5.851096  0.0  0.0  0.0  0.0\n",
       "4       PV_5   7.000000  0.0  0.0  0.0  0.0\n",
       "5       PV_6   4.800000  0.0  0.0  0.0  0.0\n",
       "6       PV_7   3.501478  0.0  0.0  0.0  0.0\n",
       "7       PV_8   7.000000  0.0  0.0  0.0  0.0\n",
       "8       PV_9   1.000000  0.0  0.0  0.0  0.0\n",
       "9      PV_10  -0.361285  0.0  0.0  0.0  0.0\n",
       "10  Slack_10   3.000000  0.0  0.0  0.0  0.0"
      ]
     },
     "execution_count": 16,
     "metadata": {},
     "output_type": "execute_result"
    }
   ],
   "source": [
    "ssd = rted2()\n",
    "ssd.from_andes(ssa)\n",
    "\n",
    "# set EV generator as uncontrollable\n",
    "ssd.gen.ctrl.iloc[9] = 0\n",
    "\n",
    "# set EV geenrator as type2\n",
    "prumax = sse.g_frc()[0]\n",
    "prdmax = sse.g_frc()[1]\n",
    "ssd.def_type2([ev_idx], [prumax], [prdmax])\n",
    "\n",
    "# set ramp5\n",
    "ramp_hour = [999, 999, 999, 999, 999, 999, 999, 999, 999, 999, 999]\n",
    "# ramp_hour = [80, 80, 80, 50, 50, 50, 30, 30, 30, 999, 30]\n",
    "ssd.gen.ramp5 = np.array(ramp_hour) * 10 / 12 / ssd.mva\n",
    "\n",
    "# set cost\n",
    "ssd.cost.c1 = linearcost\n",
    "\n",
    "# set SFR cost of EV lower than SynGen\n",
    "ssd.cost.cru = 0.1\n",
    "ev_loc = ssd.cost[ssd.cost.idx == ev_idx].index[0]\n",
    "ssd.cost.cru.iloc[ev_loc] = 0.09\n",
    "ssd.cost.crd = ssd.cost.cru\n",
    "\n",
    "# update p_pre from DCOPF results\n",
    "ssd.set_p_pre()\n",
    "\n",
    "# sovle the model\n",
    "ssd.get_res()"
   ]
  },
  {
   "cell_type": "markdown",
   "metadata": {},
   "source": [
    "Benchmark Standard DCOPF of ``ssd`` with ``ssp``"
   ]
  },
  {
   "cell_type": "code",
   "execution_count": 17,
   "metadata": {
    "scrolled": true
   },
   "outputs": [
    {
     "name": "stdout",
     "output_type": "stream",
     "text": [
      "Warning for adding constraints: zero or small (< 1e-13) coefficients, ignored\n"
     ]
    },
    {
     "name": "stderr",
     "output_type": "stream",
     "text": [
      "Successfully build DCOPF model.\n"
     ]
    },
    {
     "name": "stdout",
     "output_type": "stream",
     "text": [
      "Gurobi Optimizer version 9.5.1 build v9.5.1rc2 (mac64[arm])\n",
      "Thread count: 8 physical cores, 8 logical processors, using up to 8 threads\n",
      "Optimize a model with 69 rows, 11 columns and 597 nonzeros\n",
      "Model fingerprint: 0xf636e376\n",
      "Coefficient statistics:\n",
      "  Matrix range     [4e-03, 1e+00]\n",
      "  Objective range  [1e+00, 2e+00]\n",
      "  Bounds range     [4e-01, 2e+01]\n",
      "  RHS range        [4e-01, 6e+01]\n",
      "Presolve removed 54 rows and 3 columns\n",
      "Presolve time: 0.00s\n",
      "Presolved: 15 rows, 14 columns, 120 nonzeros\n",
      "\n",
      "Iteration    Objective       Primal Inf.    Dual Inf.      Time\n",
      "       0    6.0064000e+01   8.006238e+01   0.000000e+00      0s\n",
      "      15    6.0064000e+01   0.000000e+00   0.000000e+00      0s\n",
      "\n",
      "Solved in 15 iterations and 0.00 seconds (0.00 work units)\n",
      "Optimal objective  6.006400000e+01\n"
     ]
    },
    {
     "name": "stderr",
     "output_type": "stream",
     "text": [
      "Successfully solve DCOPF.\n"
     ]
    },
    {
     "name": "stdout",
     "output_type": "stream",
     "text": [
      "pp cost=6006.400000039853, gb cost=60.064\n"
     ]
    },
    {
     "data": {
      "text/html": [
       "<div>\n",
       "<style scoped>\n",
       "    .dataframe tbody tr th:only-of-type {\n",
       "        vertical-align: middle;\n",
       "    }\n",
       "\n",
       "    .dataframe tbody tr th {\n",
       "        vertical-align: top;\n",
       "    }\n",
       "\n",
       "    .dataframe thead th {\n",
       "        text-align: right;\n",
       "    }\n",
       "</style>\n",
       "<table border=\"1\" class=\"dataframe\">\n",
       "  <thead>\n",
       "    <tr style=\"text-align: right;\">\n",
       "      <th></th>\n",
       "      <th>p_mw</th>\n",
       "      <th>q_mvar</th>\n",
       "      <th>va_degree</th>\n",
       "      <th>vm_pu</th>\n",
       "      <th>p_mw(GB)</th>\n",
       "    </tr>\n",
       "  </thead>\n",
       "  <tbody>\n",
       "    <tr>\n",
       "      <th>0</th>\n",
       "      <td>953.402216</td>\n",
       "      <td>92.622757</td>\n",
       "      <td>16.583155</td>\n",
       "      <td>1.0</td>\n",
       "      <td>1259.175652</td>\n",
       "    </tr>\n",
       "    <tr>\n",
       "      <th>1</th>\n",
       "      <td>687.610160</td>\n",
       "      <td>311.488301</td>\n",
       "      <td>7.878843</td>\n",
       "      <td>1.0</td>\n",
       "      <td>618.095512</td>\n",
       "    </tr>\n",
       "    <tr>\n",
       "      <th>2</th>\n",
       "      <td>597.122700</td>\n",
       "      <td>149.407550</td>\n",
       "      <td>9.151472</td>\n",
       "      <td>1.0</td>\n",
       "      <td>800.000000</td>\n",
       "    </tr>\n",
       "    <tr>\n",
       "      <th>3</th>\n",
       "      <td>525.090627</td>\n",
       "      <td>131.140357</td>\n",
       "      <td>8.859941</td>\n",
       "      <td>1.0</td>\n",
       "      <td>585.109579</td>\n",
       "    </tr>\n",
       "    <tr>\n",
       "      <th>4</th>\n",
       "      <td>525.168456</td>\n",
       "      <td>146.559740</td>\n",
       "      <td>8.456010</td>\n",
       "      <td>1.0</td>\n",
       "      <td>700.000000</td>\n",
       "    </tr>\n",
       "    <tr>\n",
       "      <th>5</th>\n",
       "      <td>598.216472</td>\n",
       "      <td>227.749422</td>\n",
       "      <td>11.793881</td>\n",
       "      <td>1.0</td>\n",
       "      <td>480.000000</td>\n",
       "    </tr>\n",
       "    <tr>\n",
       "      <th>6</th>\n",
       "      <td>520.489095</td>\n",
       "      <td>63.219181</td>\n",
       "      <td>14.641234</td>\n",
       "      <td>1.0</td>\n",
       "      <td>350.147789</td>\n",
       "    </tr>\n",
       "    <tr>\n",
       "      <th>7</th>\n",
       "      <td>426.782325</td>\n",
       "      <td>-27.585564</td>\n",
       "      <td>12.230326</td>\n",
       "      <td>1.0</td>\n",
       "      <td>700.000000</td>\n",
       "    </tr>\n",
       "    <tr>\n",
       "      <th>8</th>\n",
       "      <td>758.646481</td>\n",
       "      <td>118.941642</td>\n",
       "      <td>14.220526</td>\n",
       "      <td>1.0</td>\n",
       "      <td>100.000000</td>\n",
       "    </tr>\n",
       "    <tr>\n",
       "      <th>9</th>\n",
       "      <td>-36.128532</td>\n",
       "      <td>0.000000</td>\n",
       "      <td>14.220526</td>\n",
       "      <td>1.0</td>\n",
       "      <td>-36.128532</td>\n",
       "    </tr>\n",
       "    <tr>\n",
       "      <th>10</th>\n",
       "      <td>300.000000</td>\n",
       "      <td>-29.440443</td>\n",
       "      <td>0.000000</td>\n",
       "      <td>1.0</td>\n",
       "      <td>300.000000</td>\n",
       "    </tr>\n",
       "  </tbody>\n",
       "</table>\n",
       "</div>"
      ],
      "text/plain": [
       "          p_mw      q_mvar  va_degree  vm_pu     p_mw(GB)\n",
       "0   953.402216   92.622757  16.583155    1.0  1259.175652\n",
       "1   687.610160  311.488301   7.878843    1.0   618.095512\n",
       "2   597.122700  149.407550   9.151472    1.0   800.000000\n",
       "3   525.090627  131.140357   8.859941    1.0   585.109579\n",
       "4   525.168456  146.559740   8.456010    1.0   700.000000\n",
       "5   598.216472  227.749422  11.793881    1.0   480.000000\n",
       "6   520.489095   63.219181  14.641234    1.0   350.147789\n",
       "7   426.782325  -27.585564  12.230326    1.0   700.000000\n",
       "8   758.646481  118.941642  14.220526    1.0   100.000000\n",
       "9   -36.128532    0.000000  14.220526    1.0   -36.128532\n",
       "10  300.000000  -29.440443   0.000000    1.0   300.000000"
      ]
     },
     "execution_count": 17,
     "metadata": {},
     "output_type": "execute_result"
    }
   ],
   "source": [
    "pp.rundcopp(ssp)\n",
    "ppres = ssp.res_gen.copy()\n",
    "ssdc = ssd.to_dcopf()\n",
    "gb_res = ssdc.get_res()\n",
    "ppres['p_mw(GB)'] = ssp.sn_mva * gb_res['pg'].values\n",
    "print(f\"pp cost={ssp.res_cost}, gb cost={ssd.res_cost}\")\n",
    "ppres"
   ]
  },
  {
   "cell_type": "markdown",
   "metadata": {},
   "source": [
    "## Prepare"
   ]
  },
  {
   "cell_type": "markdown",
   "metadata": {},
   "source": [
    "### Make link table"
   ]
  },
  {
   "cell_type": "code",
   "execution_count": 18,
   "metadata": {},
   "outputs": [
    {
     "data": {
      "text/html": [
       "<div>\n",
       "<style scoped>\n",
       "    .dataframe tbody tr th:only-of-type {\n",
       "        vertical-align: middle;\n",
       "    }\n",
       "\n",
       "    .dataframe tbody tr th {\n",
       "        vertical-align: top;\n",
       "    }\n",
       "\n",
       "    .dataframe thead th {\n",
       "        text-align: right;\n",
       "    }\n",
       "</style>\n",
       "<table border=\"1\" class=\"dataframe\">\n",
       "  <thead>\n",
       "    <tr style=\"text-align: right;\">\n",
       "      <th></th>\n",
       "      <th>stg_name</th>\n",
       "      <th>stg_u</th>\n",
       "      <th>stg_idx</th>\n",
       "      <th>bus_idx</th>\n",
       "      <th>dg_idx</th>\n",
       "      <th>syg_idx</th>\n",
       "      <th>exc_idx</th>\n",
       "      <th>gov_idx</th>\n",
       "      <th>bus_name</th>\n",
       "      <th>gammap</th>\n",
       "      <th>gammaq</th>\n",
       "      <th>gen_pp</th>\n",
       "      <th>ctrl</th>\n",
       "    </tr>\n",
       "  </thead>\n",
       "  <tbody>\n",
       "    <tr>\n",
       "      <th>0</th>\n",
       "      <td>PV_1</td>\n",
       "      <td>1.0</td>\n",
       "      <td>PV_1</td>\n",
       "      <td>30</td>\n",
       "      <td>False</td>\n",
       "      <td>GENROU_1</td>\n",
       "      <td>IEEEX1_1</td>\n",
       "      <td>TGOV1_1</td>\n",
       "      <td>GEN30</td>\n",
       "      <td>1.0</td>\n",
       "      <td>1.0</td>\n",
       "      <td>0</td>\n",
       "      <td>True</td>\n",
       "    </tr>\n",
       "    <tr>\n",
       "      <th>1</th>\n",
       "      <td>PV_2</td>\n",
       "      <td>1.0</td>\n",
       "      <td>PV_2</td>\n",
       "      <td>31</td>\n",
       "      <td>False</td>\n",
       "      <td>GENROU_2</td>\n",
       "      <td>IEEEX1_2</td>\n",
       "      <td>TGOV1_2</td>\n",
       "      <td>GEN31</td>\n",
       "      <td>1.0</td>\n",
       "      <td>1.0</td>\n",
       "      <td>1</td>\n",
       "      <td>True</td>\n",
       "    </tr>\n",
       "    <tr>\n",
       "      <th>2</th>\n",
       "      <td>PV_3</td>\n",
       "      <td>1.0</td>\n",
       "      <td>PV_3</td>\n",
       "      <td>32</td>\n",
       "      <td>False</td>\n",
       "      <td>GENROU_3</td>\n",
       "      <td>IEEEX1_3</td>\n",
       "      <td>TGOV1_3</td>\n",
       "      <td>GEN32</td>\n",
       "      <td>1.0</td>\n",
       "      <td>1.0</td>\n",
       "      <td>2</td>\n",
       "      <td>True</td>\n",
       "    </tr>\n",
       "    <tr>\n",
       "      <th>3</th>\n",
       "      <td>PV_4</td>\n",
       "      <td>1.0</td>\n",
       "      <td>PV_4</td>\n",
       "      <td>33</td>\n",
       "      <td>False</td>\n",
       "      <td>GENROU_4</td>\n",
       "      <td>IEEEX1_4</td>\n",
       "      <td>TGOV1_4</td>\n",
       "      <td>GEN33</td>\n",
       "      <td>1.0</td>\n",
       "      <td>1.0</td>\n",
       "      <td>3</td>\n",
       "      <td>True</td>\n",
       "    </tr>\n",
       "    <tr>\n",
       "      <th>4</th>\n",
       "      <td>PV_5</td>\n",
       "      <td>1.0</td>\n",
       "      <td>PV_5</td>\n",
       "      <td>34</td>\n",
       "      <td>False</td>\n",
       "      <td>GENROU_5</td>\n",
       "      <td>IEEEX1_5</td>\n",
       "      <td>TGOV1_5</td>\n",
       "      <td>GEN34</td>\n",
       "      <td>1.0</td>\n",
       "      <td>1.0</td>\n",
       "      <td>4</td>\n",
       "      <td>True</td>\n",
       "    </tr>\n",
       "    <tr>\n",
       "      <th>5</th>\n",
       "      <td>PV_6</td>\n",
       "      <td>1.0</td>\n",
       "      <td>PV_6</td>\n",
       "      <td>35</td>\n",
       "      <td>False</td>\n",
       "      <td>GENROU_6</td>\n",
       "      <td>IEEEX1_6</td>\n",
       "      <td>TGOV1_6</td>\n",
       "      <td>GEN35</td>\n",
       "      <td>1.0</td>\n",
       "      <td>1.0</td>\n",
       "      <td>5</td>\n",
       "      <td>True</td>\n",
       "    </tr>\n",
       "    <tr>\n",
       "      <th>6</th>\n",
       "      <td>PV_7</td>\n",
       "      <td>1.0</td>\n",
       "      <td>PV_7</td>\n",
       "      <td>36</td>\n",
       "      <td>False</td>\n",
       "      <td>GENROU_7</td>\n",
       "      <td>IEEEX1_7</td>\n",
       "      <td>TGOV1_7</td>\n",
       "      <td>GEN36</td>\n",
       "      <td>1.0</td>\n",
       "      <td>1.0</td>\n",
       "      <td>6</td>\n",
       "      <td>True</td>\n",
       "    </tr>\n",
       "    <tr>\n",
       "      <th>7</th>\n",
       "      <td>PV_8</td>\n",
       "      <td>1.0</td>\n",
       "      <td>PV_8</td>\n",
       "      <td>37</td>\n",
       "      <td>False</td>\n",
       "      <td>GENROU_8</td>\n",
       "      <td>IEEEX1_8</td>\n",
       "      <td>TGOV1_8</td>\n",
       "      <td>GEN37</td>\n",
       "      <td>1.0</td>\n",
       "      <td>1.0</td>\n",
       "      <td>7</td>\n",
       "      <td>True</td>\n",
       "    </tr>\n",
       "    <tr>\n",
       "      <th>8</th>\n",
       "      <td>PV_9</td>\n",
       "      <td>1.0</td>\n",
       "      <td>PV_9</td>\n",
       "      <td>38</td>\n",
       "      <td>False</td>\n",
       "      <td>GENROU_9</td>\n",
       "      <td>IEEEX1_9</td>\n",
       "      <td>TGOV1_9</td>\n",
       "      <td>GEN38</td>\n",
       "      <td>1.0</td>\n",
       "      <td>1.0</td>\n",
       "      <td>8</td>\n",
       "      <td>True</td>\n",
       "    </tr>\n",
       "    <tr>\n",
       "      <th>9</th>\n",
       "      <td>Slack_10</td>\n",
       "      <td>1.0</td>\n",
       "      <td>Slack_10</td>\n",
       "      <td>39</td>\n",
       "      <td>False</td>\n",
       "      <td>GENROU_10</td>\n",
       "      <td>IEEEX1_10</td>\n",
       "      <td>TGOV1_10</td>\n",
       "      <td>GEN39</td>\n",
       "      <td>1.0</td>\n",
       "      <td>1.0</td>\n",
       "      <td>10</td>\n",
       "      <td>True</td>\n",
       "    </tr>\n",
       "    <tr>\n",
       "      <th>10</th>\n",
       "      <td>PV_10</td>\n",
       "      <td>1.0</td>\n",
       "      <td>PV_10</td>\n",
       "      <td>38</td>\n",
       "      <td>EV_1</td>\n",
       "      <td>False</td>\n",
       "      <td>False</td>\n",
       "      <td>False</td>\n",
       "      <td>GEN38</td>\n",
       "      <td>1.0</td>\n",
       "      <td>1.0</td>\n",
       "      <td>9</td>\n",
       "      <td>False</td>\n",
       "    </tr>\n",
       "  </tbody>\n",
       "</table>\n",
       "</div>"
      ],
      "text/plain": [
       "    stg_name  stg_u   stg_idx  bus_idx dg_idx    syg_idx    exc_idx   gov_idx  \\\n",
       "0       PV_1    1.0      PV_1       30  False   GENROU_1   IEEEX1_1   TGOV1_1   \n",
       "1       PV_2    1.0      PV_2       31  False   GENROU_2   IEEEX1_2   TGOV1_2   \n",
       "2       PV_3    1.0      PV_3       32  False   GENROU_3   IEEEX1_3   TGOV1_3   \n",
       "3       PV_4    1.0      PV_4       33  False   GENROU_4   IEEEX1_4   TGOV1_4   \n",
       "4       PV_5    1.0      PV_5       34  False   GENROU_5   IEEEX1_5   TGOV1_5   \n",
       "5       PV_6    1.0      PV_6       35  False   GENROU_6   IEEEX1_6   TGOV1_6   \n",
       "6       PV_7    1.0      PV_7       36  False   GENROU_7   IEEEX1_7   TGOV1_7   \n",
       "7       PV_8    1.0      PV_8       37  False   GENROU_8   IEEEX1_8   TGOV1_8   \n",
       "8       PV_9    1.0      PV_9       38  False   GENROU_9   IEEEX1_9   TGOV1_9   \n",
       "9   Slack_10    1.0  Slack_10       39  False  GENROU_10  IEEEX1_10  TGOV1_10   \n",
       "10     PV_10    1.0     PV_10       38   EV_1      False      False     False   \n",
       "\n",
       "   bus_name  gammap  gammaq  gen_pp   ctrl  \n",
       "0     GEN30     1.0     1.0       0   True  \n",
       "1     GEN31     1.0     1.0       1   True  \n",
       "2     GEN32     1.0     1.0       2   True  \n",
       "3     GEN33     1.0     1.0       3   True  \n",
       "4     GEN34     1.0     1.0       4   True  \n",
       "5     GEN35     1.0     1.0       5   True  \n",
       "6     GEN36     1.0     1.0       6   True  \n",
       "7     GEN37     1.0     1.0       7   True  \n",
       "8     GEN38     1.0     1.0       8   True  \n",
       "9     GEN39     1.0     1.0      10   True  \n",
       "10    GEN38     1.0     1.0       9  False  "
      ]
     },
     "execution_count": 18,
     "metadata": {},
     "output_type": "execute_result"
    }
   ],
   "source": [
    "# --- link_table ---\n",
    "ssa_key = make_link_table(ssa)\n",
    "\n",
    "# --- add controllable in the link table ---\n",
    "ssa_bus = ssa.Bus.as_df().reset_index().rename(columns={'uid':'bus_pp', 'idx':'bus_idx'})\n",
    "ssp_gen = ssp.gen.reset_index().rename(columns={'index':'gen_pp', 'name':'stg_idx', 'controllable':'ctrl'})\n",
    "ssa_key2 = pd.merge(left=ssa_key,\n",
    "                    right=ssp_gen[['stg_idx', 'gen_pp', 'ctrl']],\n",
    "                    on='stg_idx', how='left')\n",
    "\n",
    "# --- device idx ---\n",
    "ssa_dg_idx = ssa_key2.dg_idx.dropna().tolist()\n",
    "ssa_syg_idx = ssa_key2.syg_idx.dropna().tolist()\n",
    "ssa_gov_idx = ssa_key2.gov_idx.dropna().tolist()\n",
    "ssa_stg_idx = ssa_key2.stg_idx.dropna().tolist()\n",
    "\n",
    "# --- online and controllable device idx ---\n",
    "ctrl_cond = ssa_key2.ctrl & ssa_key2.stg_u.astype(bool)\n",
    "ssa_dg_idx_ctrl = ssa_key2.dg_idx[ctrl_cond].dropna().tolist()\n",
    "ssa_syg_idx_ctrl = ssa_key2.syg_idx[ctrl_cond].dropna().tolist()\n",
    "ssa_gov_idx_ctrl = ssa_key2.gov_idx[ctrl_cond].dropna().tolist()\n",
    "ssa_stg_idx_ctrl = ssa_key2.stg_idx[ctrl_cond].dropna().tolist()\n",
    "\n",
    "# fill NaN with False\n",
    "ssa_key2.fillna(value=False, inplace=True)\n",
    "\n",
    "ssa_key2"
   ]
  },
  {
   "cell_type": "markdown",
   "metadata": {},
   "source": [
    "### Define functions used in loop"
   ]
  },
  {
   "cell_type": "code",
   "execution_count": 19,
   "metadata": {
    "scrolled": true
   },
   "outputs": [],
   "source": [
    "# --- def functions ---\n",
    "def get_pe(ssa, gov_idx, dg_idx, ssa_key2):\n",
    "    \"\"\"Get the active power (TurbineGov/DG) after TDS, a DataFrame\"\"\"\n",
    "    # TODO: may need to sum the power of same StaticGen\n",
    "    # --- TurbineGov --- \n",
    "    pe_syg = ssa.TurbineGov.get(src='pout', idx=gov_idx, attr='v')\n",
    "    # --- DG ---\n",
    "    Ip_dg = ssa.DG.get(src='Ipout_y', idx=dg_idx, attr='v')\n",
    "    v_dg = ssa.DG.get(src='v', idx=dg_idx, attr='v')\n",
    "    pe_dg = Ip_dg*v_dg\n",
    "    # --- out ---\n",
    "    pe = pd.DataFrame()\n",
    "    pe['idx'] = gov_idx + dg_idx\n",
    "    pe['pe'] = np.concatenate((pe_syg, pe_dg))\n",
    "    ldf = pd.merge(left=ssa_key2.rename(columns={'dg_idx':'idx'}),\n",
    "         right=pe, how='right', on='idx')\n",
    "    rdf = pd.merge(left=ssa_key2.rename(columns={'gov_idx':'idx'}),\n",
    "             right=pe, how='right', on='idx')\n",
    "    pe['stg_idx'] = ldf['stg_idx'].fillna('') + rdf['stg_idx'].fillna('')\n",
    "    return pe\n",
    "\n",
    "def dp_calc(d_syn, idx_ed, intv_ed):\n",
    "    \"\"\"Calc SFR requirements, scalars, ``dpd_u``and ``dpd_d``, and load forecasted value ``load_exp``\"\"\"\n",
    "    load = d_syn['s10'].iloc[idx_ed*intv_ed:(idx_ed*intv_ed + intv_ed)]\n",
    "    load_exp = load.mean()\n",
    "    # TODO: check if the estimation is reasonable\n",
    "    ratio = 50\n",
    "    load_ci = stat.t.interval(alpha=0.95, df=len(load)-1, loc=np.mean(load), scale=stat.sem(load))\n",
    "    load_d = abs(load_ci[0] - load_exp) * ratio\n",
    "    load_u = abs(load_ci[1] - load_exp) * ratio\n",
    "    return load_u, load_d, load_exp"
   ]
  },
  {
   "cell_type": "markdown",
   "metadata": {},
   "source": [
    "## Define param"
   ]
  },
  {
   "cell_type": "code",
   "execution_count": 20,
   "metadata": {},
   "outputs": [],
   "source": [
    "# --- constants ---\n",
    "t_total = 3600    # 3600s\n",
    "\n",
    "intv_ed = 300  # RTED interval, 300s\n",
    "intv_agc = 4    # AGC interval, 4s\n",
    "intv_pq = 1     # PQ interval, 1s; alter load and AGC\n",
    "intv_step = 100 # step change interval; smooth the setpoitns\n",
    "\n",
    "n_ed = int(t_total/intv_ed)\n",
    "n_agc = int(intv_ed/intv_agc)\n",
    "n_pq = int(intv_agc/intv_pq)\n",
    "n_step = floor(intv_step/intv_agc)\n",
    "\n",
    "# --- vars ---\n",
    "# AGC table\n",
    "agc_table = ssp.gen[['name']].rename(columns={'name':'stg_idx'})\n",
    "agc_table['paux'] = 0\n",
    "agc_res = agc_table[['stg_idx']].copy()\n",
    "\n",
    "# ACE vars\n",
    "ACE_integral = 0\n",
    "ACE_raw = 0\n",
    "Kp = 0.5 # 0.05\n",
    "Ki = 0.0\n",
    "ace_res = pd.DataFrame()\n",
    "\n",
    "# initial load\n",
    "ssa_p0 = ssa.PQ.p0.v.copy()\n",
    "ssa_q0 = ssa.PQ.q0.v.copy()\n",
    "ssa_pq_idx = ssa.PQ.idx.v\n",
    "ssa_p0_sum = ssa_p0.sum()"
   ]
  },
  {
   "cell_type": "markdown",
   "metadata": {},
   "source": [
    "## Loop\n",
    "\n",
    "In the loop, there are mainly X parts:\n",
    "\n",
    "- interval RTED: run DCOPF (``ssd.mdl``), run ACOPF(``ssp``), \n",
    "\n",
    "- interval AGC: do AGC, do dispatch with smooth setpoints\n",
    "\n",
    "- interval PQ: alter load, run TDS(``ssa.TDS``)\n",
    "\n",
    "Notes:\n",
    "\n",
    "- The setpoints for DG are coded but not verified yet.\n",
    "\n",
    "- After the development of ANDES control room, the dispatch and AGC part can be refactored.\n",
    "\n",
    "- interface variables: ``DG.pmx``: DPV profile, ``DG.pref0``: setpoints, ``DG.pext0``: AGC\n",
    "\n",
    "- ACOPF in pandapower considered generator limtis of ramping and SFR reserve"
   ]
  },
  {
   "cell_type": "markdown",
   "metadata": {},
   "source": [
    "Check if RTED converge in all 12 intervals"
   ]
  },
  {
   "cell_type": "code",
   "execution_count": null,
   "metadata": {
    "scrolled": true
   },
   "outputs": [
    {
     "name": "stdout",
     "output_type": "stream",
     "text": [
      "Warning for adding constraints: zero or small (< 1e-13) coefficients, ignored\n"
     ]
    },
    {
     "name": "stderr",
     "output_type": "stream",
     "text": [
      "Successfully build DCOPF model.\n"
     ]
    },
    {
     "name": "stdout",
     "output_type": "stream",
     "text": [
      "Gurobi Optimizer version 9.5.1 build v9.5.1rc2 (mac64[arm])\n",
      "Thread count: 8 physical cores, 8 logical processors, using up to 8 threads\n",
      "Optimize a model with 69 rows, 11 columns and 597 nonzeros\n",
      "Model fingerprint: 0xa4e3768e\n",
      "Coefficient statistics:\n",
      "  Matrix range     [4e-03, 1e+00]\n",
      "  Objective range  [1e+00, 2e+00]\n",
      "  Bounds range     [4e-01, 2e+01]\n",
      "  RHS range        [4e-01, 6e+01]\n",
      "Presolve removed 54 rows and 3 columns\n",
      "Presolve time: 0.00s\n",
      "Presolved: 15 rows, 14 columns, 120 nonzeros\n",
      "\n",
      "Iteration    Objective       Primal Inf.    Dual Inf.      Time\n",
      "       0    6.1417142e+01   8.173033e+01   0.000000e+00      0s\n",
      "      15    6.1417142e+01   0.000000e+00   0.000000e+00      0s\n",
      "\n",
      "Solved in 15 iterations and 0.00 seconds (0.00 work units)\n",
      "Optimal objective  6.141714174e+01\n"
     ]
    },
    {
     "name": "stderr",
     "output_type": "stream",
     "text": [
      "Successfully solve DCOPF.\n",
      "Successfully set p_pre from DCOPF results.\n"
     ]
    },
    {
     "name": "stdout",
     "output_type": "stream",
     "text": [
      "Warning for adding constraints: zero or small (< 1e-13) coefficients, ignored\n",
      "Gurobi Optimizer version 9.5.1 build v9.5.1rc2 (mac64[arm])\n",
      "Thread count: 8 physical cores, 8 logical processors, using up to 8 threads\n",
      "Optimize a model with 117 rows, 33 columns and 685 nonzeros\n",
      "Model fingerprint: 0x3bf98333\n",
      "Coefficient statistics:\n",
      "  Matrix range     [4e-03, 1e+00]\n",
      "  Objective range  [9e-02, 2e+00]\n",
      "  Bounds range     [4e-01, 2e+01]\n",
      "  RHS range        [2e-02, 6e+01]\n",
      "Presolve removed 87 rows and 12 columns\n",
      "Presolve time: 0.00s\n",
      "Presolved: 30 rows, 30 columns, 214 nonzeros\n",
      "\n",
      "Iteration    Objective       Primal Inf.    Dual Inf.      Time\n",
      "       0    6.1452869e+01   6.253143e+01   0.000000e+00      0s\n",
      "      17    6.1454623e+01   0.000000e+00   0.000000e+00      0s\n",
      "\n",
      "Solved in 17 iterations and 0.00 seconds (0.00 work units)\n",
      "Optimal objective  6.145462299e+01\n"
     ]
    },
    {
     "name": "stderr",
     "output_type": "stream",
     "text": [
      "Successfully solve RTED.\n",
      "-> System connectivity check results:\n",
      "  No islanded bus detected.\n",
      "  System is interconnected.\n",
      "  Each island has a slack bus correctly defined and enabled.\n",
      "\n",
      "-> Power flow calculation\n",
      "           Numba: Off\n",
      "   Sparse solver: KLU\n",
      " Solution method: NR method\n",
      "Power flow initialized in 0.0030 seconds.\n",
      "0: |F(x)| = 7.541841103\n",
      "1: |F(x)| = 3.616924945\n",
      "2: |F(x)| = 0.2040692952\n",
      "3: |F(x)| = 0.0009080649078\n",
      "4: |F(x)| = 3.437177565e-08\n",
      "Converged in 5 iterations in 0.0036 seconds.\n",
      "GENROU (xl <= xd2) out of typical upper limit.\n",
      "\n",
      "   idx     | values | limit\n",
      "-----------+--------+------\n",
      " GENROU_1  | 0.012  | 0.001\n",
      " GENROU_2  | 0.042  | 0.036\n",
      " GENROU_3  | 0.036  | 0.003\n",
      " GENROU_4  | 0.025  | 0.001\n",
      " GENROU_5  | 0.050  | 0.001\n",
      " GENROU_7  | 0.031  | 0.002\n",
      " GENROU_8  | 0.029  | 0.006\n",
      " GENROU_9  | 0.018  | 0.001\n",
      " GENROU_10 | 0.003  | 0.000\n",
      "\n",
      "\n",
      "Initialization for dynamics completed in 0.0363 seconds.\n",
      "Initialization was successful.\n",
      "\n",
      "-> Time Domain Simulation Summary:\n",
      "Sparse Solver: KLU\n",
      "Simulation time: 0.0-0 s.\n",
      "Fixed step size: h=33.33 ms. Shrink if not converged.\n"
     ]
    },
    {
     "data": {
      "application/vnd.jupyter.widget-view+json": {
       "model_id": "271d56d3be754665a955332eac00d66a",
       "version_major": 2,
       "version_minor": 0
      },
      "text/plain": [
       "  0%|          | 0/100 [00:00<?, ?%/s]"
      ]
     },
     "metadata": {},
     "output_type": "display_data"
    },
    {
     "name": "stderr",
     "output_type": "stream",
     "text": [
      "Simulation to t=0.00 sec completed in 0.0008 seconds.\n",
      "\n",
      "-> Time Domain Simulation Summary:\n",
      "Sparse Solver: KLU\n",
      "Simulation time: 0.0-1 s.\n",
      "Fixed step size: h=33.33 ms. Shrink if not converged.\n"
     ]
    },
    {
     "data": {
      "application/vnd.jupyter.widget-view+json": {
       "model_id": "058ccc7ab4254cf39d0b36c2b1697609",
       "version_major": 2,
       "version_minor": 0
      },
      "text/plain": [
       "  0%|          | 0/100 [00:00<?, ?%/s]"
      ]
     },
     "metadata": {},
     "output_type": "display_data"
    },
    {
     "name": "stderr",
     "output_type": "stream",
     "text": [
      "Current step size is zero. Integration is not permitted.\n",
      "Simulation to t=1.00 sec completed in 0.0799 seconds.\n"
     ]
    },
    {
     "data": {
      "application/vnd.jupyter.widget-view+json": {
       "model_id": "9318f1a6db924c77ba6617bd21480608",
       "version_major": 2,
       "version_minor": 0
      },
      "text/plain": [
       "  0%|          | 0/100 [00:00<?, ?%/s]"
      ]
     },
     "metadata": {},
     "output_type": "display_data"
    },
    {
     "name": "stderr",
     "output_type": "stream",
     "text": [
      "Simulation to t=2.00 sec completed in 0.0478 seconds.\n"
     ]
    },
    {
     "data": {
      "application/vnd.jupyter.widget-view+json": {
       "model_id": "bad6476ba32545668c29826de265a274",
       "version_major": 2,
       "version_minor": 0
      },
      "text/plain": [
       "  0%|          | 0/100 [00:00<?, ?%/s]"
      ]
     },
     "metadata": {},
     "output_type": "display_data"
    },
    {
     "name": "stderr",
     "output_type": "stream",
     "text": [
      "Simulation to t=3.00 sec completed in 0.0488 seconds.\n"
     ]
    },
    {
     "data": {
      "application/vnd.jupyter.widget-view+json": {
       "model_id": "0b13a8ea1178403c93436a0c760a7de2",
       "version_major": 2,
       "version_minor": 0
      },
      "text/plain": [
       "  0%|          | 0/100 [00:00<?, ?%/s]"
      ]
     },
     "metadata": {},
     "output_type": "display_data"
    },
    {
     "name": "stderr",
     "output_type": "stream",
     "text": [
      "Simulation to t=4.00 sec completed in 0.0506 seconds.\n"
     ]
    },
    {
     "data": {
      "application/vnd.jupyter.widget-view+json": {
       "model_id": "ef9b0af6d7d94257ad4c1c6a37328bb9",
       "version_major": 2,
       "version_minor": 0
      },
      "text/plain": [
       "  0%|          | 0/100 [00:00<?, ?%/s]"
      ]
     },
     "metadata": {},
     "output_type": "display_data"
    },
    {
     "name": "stderr",
     "output_type": "stream",
     "text": [
      "Simulation to t=5.00 sec completed in 0.0488 seconds.\n"
     ]
    },
    {
     "data": {
      "application/vnd.jupyter.widget-view+json": {
       "model_id": "42a1836ee3894bad96a787808488fa73",
       "version_major": 2,
       "version_minor": 0
      },
      "text/plain": [
       "  0%|          | 0/100 [00:00<?, ?%/s]"
      ]
     },
     "metadata": {},
     "output_type": "display_data"
    },
    {
     "name": "stderr",
     "output_type": "stream",
     "text": [
      "Simulation to t=6.00 sec completed in 0.0521 seconds.\n"
     ]
    },
    {
     "data": {
      "application/vnd.jupyter.widget-view+json": {
       "model_id": "9842832b72e444bda3e4cddbbd1e8b4d",
       "version_major": 2,
       "version_minor": 0
      },
      "text/plain": [
       "  0%|          | 0/100 [00:00<?, ?%/s]"
      ]
     },
     "metadata": {},
     "output_type": "display_data"
    },
    {
     "name": "stderr",
     "output_type": "stream",
     "text": [
      "Simulation to t=7.00 sec completed in 0.0489 seconds.\n"
     ]
    },
    {
     "data": {
      "application/vnd.jupyter.widget-view+json": {
       "model_id": "340dc5c3f07047e0b65549ff4032b24c",
       "version_major": 2,
       "version_minor": 0
      },
      "text/plain": [
       "  0%|          | 0/100 [00:00<?, ?%/s]"
      ]
     },
     "metadata": {},
     "output_type": "display_data"
    },
    {
     "name": "stderr",
     "output_type": "stream",
     "text": [
      "Simulation to t=8.00 sec completed in 0.0494 seconds.\n"
     ]
    },
    {
     "data": {
      "application/vnd.jupyter.widget-view+json": {
       "model_id": "19de189f8afc42cc842c73a5e4f8d4e4",
       "version_major": 2,
       "version_minor": 0
      },
      "text/plain": [
       "  0%|          | 0/100 [00:00<?, ?%/s]"
      ]
     },
     "metadata": {},
     "output_type": "display_data"
    },
    {
     "name": "stderr",
     "output_type": "stream",
     "text": [
      "Simulation to t=9.00 sec completed in 0.0503 seconds.\n"
     ]
    },
    {
     "data": {
      "application/vnd.jupyter.widget-view+json": {
       "model_id": "5cce04a8d33e43b0938af32c82c43095",
       "version_major": 2,
       "version_minor": 0
      },
      "text/plain": [
       "  0%|          | 0/100 [00:00<?, ?%/s]"
      ]
     },
     "metadata": {},
     "output_type": "display_data"
    },
    {
     "name": "stderr",
     "output_type": "stream",
     "text": [
      "Simulation to t=10.00 sec completed in 0.0504 seconds.\n"
     ]
    },
    {
     "data": {
      "application/vnd.jupyter.widget-view+json": {
       "model_id": "d72348fd53bf4248b24fded34d5d383c",
       "version_major": 2,
       "version_minor": 0
      },
      "text/plain": [
       "  0%|          | 0/100 [00:00<?, ?%/s]"
      ]
     },
     "metadata": {},
     "output_type": "display_data"
    },
    {
     "name": "stderr",
     "output_type": "stream",
     "text": [
      "Simulation to t=11.00 sec completed in 0.0525 seconds.\n"
     ]
    },
    {
     "data": {
      "application/vnd.jupyter.widget-view+json": {
       "model_id": "385579cd43a540a2b5a0eb99f5f833de",
       "version_major": 2,
       "version_minor": 0
      },
      "text/plain": [
       "  0%|          | 0/100 [00:00<?, ?%/s]"
      ]
     },
     "metadata": {},
     "output_type": "display_data"
    },
    {
     "name": "stderr",
     "output_type": "stream",
     "text": [
      "Simulation to t=12.00 sec completed in 0.0550 seconds.\n"
     ]
    },
    {
     "data": {
      "application/vnd.jupyter.widget-view+json": {
       "model_id": "866413996d334fb28fcdc9d165ee50e0",
       "version_major": 2,
       "version_minor": 0
      },
      "text/plain": [
       "  0%|          | 0/100 [00:00<?, ?%/s]"
      ]
     },
     "metadata": {},
     "output_type": "display_data"
    },
    {
     "name": "stderr",
     "output_type": "stream",
     "text": [
      "Simulation to t=13.00 sec completed in 0.0554 seconds.\n"
     ]
    },
    {
     "data": {
      "application/vnd.jupyter.widget-view+json": {
       "model_id": "edafae5f77be4215b106f66137404ba5",
       "version_major": 2,
       "version_minor": 0
      },
      "text/plain": [
       "  0%|          | 0/100 [00:00<?, ?%/s]"
      ]
     },
     "metadata": {},
     "output_type": "display_data"
    },
    {
     "name": "stderr",
     "output_type": "stream",
     "text": [
      "Simulation to t=14.00 sec completed in 0.0488 seconds.\n"
     ]
    },
    {
     "data": {
      "application/vnd.jupyter.widget-view+json": {
       "model_id": "5ebdac0653e14a4d8854c8c6320a4c1c",
       "version_major": 2,
       "version_minor": 0
      },
      "text/plain": [
       "  0%|          | 0/100 [00:00<?, ?%/s]"
      ]
     },
     "metadata": {},
     "output_type": "display_data"
    },
    {
     "name": "stderr",
     "output_type": "stream",
     "text": [
      "Simulation to t=15.00 sec completed in 0.0488 seconds.\n"
     ]
    },
    {
     "data": {
      "application/vnd.jupyter.widget-view+json": {
       "model_id": "1cb25498337a40d593cea1d61573af69",
       "version_major": 2,
       "version_minor": 0
      },
      "text/plain": [
       "  0%|          | 0/100 [00:00<?, ?%/s]"
      ]
     },
     "metadata": {},
     "output_type": "display_data"
    },
    {
     "name": "stderr",
     "output_type": "stream",
     "text": [
      "Simulation to t=16.00 sec completed in 0.0495 seconds.\n"
     ]
    },
    {
     "data": {
      "application/vnd.jupyter.widget-view+json": {
       "model_id": "0ffe3bd6328b4ef1841edf0bec14f00a",
       "version_major": 2,
       "version_minor": 0
      },
      "text/plain": [
       "  0%|          | 0/100 [00:00<?, ?%/s]"
      ]
     },
     "metadata": {},
     "output_type": "display_data"
    },
    {
     "name": "stderr",
     "output_type": "stream",
     "text": [
      "Simulation to t=17.00 sec completed in 0.0483 seconds.\n"
     ]
    },
    {
     "data": {
      "application/vnd.jupyter.widget-view+json": {
       "model_id": "bf9493f11a5d476cb616287587dc3116",
       "version_major": 2,
       "version_minor": 0
      },
      "text/plain": [
       "  0%|          | 0/100 [00:00<?, ?%/s]"
      ]
     },
     "metadata": {},
     "output_type": "display_data"
    },
    {
     "name": "stderr",
     "output_type": "stream",
     "text": [
      "Simulation to t=18.00 sec completed in 0.0459 seconds.\n"
     ]
    },
    {
     "data": {
      "application/vnd.jupyter.widget-view+json": {
       "model_id": "c2db0dcdb9524eb6ba67460a856f32f3",
       "version_major": 2,
       "version_minor": 0
      },
      "text/plain": [
       "  0%|          | 0/100 [00:00<?, ?%/s]"
      ]
     },
     "metadata": {},
     "output_type": "display_data"
    },
    {
     "name": "stderr",
     "output_type": "stream",
     "text": [
      "Simulation to t=19.00 sec completed in 0.0459 seconds.\n"
     ]
    },
    {
     "data": {
      "application/vnd.jupyter.widget-view+json": {
       "model_id": "662612b5ec75433d9e09d3690aa4c0b9",
       "version_major": 2,
       "version_minor": 0
      },
      "text/plain": [
       "  0%|          | 0/100 [00:00<?, ?%/s]"
      ]
     },
     "metadata": {},
     "output_type": "display_data"
    },
    {
     "name": "stderr",
     "output_type": "stream",
     "text": [
      "Simulation to t=20.00 sec completed in 0.0484 seconds.\n"
     ]
    },
    {
     "data": {
      "application/vnd.jupyter.widget-view+json": {
       "model_id": "0f0b597d671448018e93fd0152eb80fe",
       "version_major": 2,
       "version_minor": 0
      },
      "text/plain": [
       "  0%|          | 0/100 [00:00<?, ?%/s]"
      ]
     },
     "metadata": {},
     "output_type": "display_data"
    },
    {
     "name": "stderr",
     "output_type": "stream",
     "text": [
      "Simulation to t=21.00 sec completed in 0.0460 seconds.\n"
     ]
    },
    {
     "data": {
      "application/vnd.jupyter.widget-view+json": {
       "model_id": "84045b19b786440b80aaa1c16a97b1ec",
       "version_major": 2,
       "version_minor": 0
      },
      "text/plain": [
       "  0%|          | 0/100 [00:00<?, ?%/s]"
      ]
     },
     "metadata": {},
     "output_type": "display_data"
    },
    {
     "name": "stderr",
     "output_type": "stream",
     "text": [
      "Simulation to t=22.00 sec completed in 0.0450 seconds.\n"
     ]
    },
    {
     "data": {
      "application/vnd.jupyter.widget-view+json": {
       "model_id": "c928802c087b4d6282fd9ce59c1b1942",
       "version_major": 2,
       "version_minor": 0
      },
      "text/plain": [
       "  0%|          | 0/100 [00:00<?, ?%/s]"
      ]
     },
     "metadata": {},
     "output_type": "display_data"
    },
    {
     "name": "stderr",
     "output_type": "stream",
     "text": [
      "Simulation to t=23.00 sec completed in 0.0464 seconds.\n"
     ]
    },
    {
     "data": {
      "application/vnd.jupyter.widget-view+json": {
       "model_id": "749fc91dcf804d00a7c711e08433a67d",
       "version_major": 2,
       "version_minor": 0
      },
      "text/plain": [
       "  0%|          | 0/100 [00:00<?, ?%/s]"
      ]
     },
     "metadata": {},
     "output_type": "display_data"
    },
    {
     "name": "stderr",
     "output_type": "stream",
     "text": [
      "Simulation to t=24.00 sec completed in 0.0621 seconds.\n"
     ]
    },
    {
     "data": {
      "application/vnd.jupyter.widget-view+json": {
       "model_id": "df96ad77ff9f4888a97ab84b90d593de",
       "version_major": 2,
       "version_minor": 0
      },
      "text/plain": [
       "  0%|          | 0/100 [00:00<?, ?%/s]"
      ]
     },
     "metadata": {},
     "output_type": "display_data"
    },
    {
     "name": "stderr",
     "output_type": "stream",
     "text": [
      "Simulation to t=25.00 sec completed in 0.0517 seconds.\n"
     ]
    },
    {
     "data": {
      "application/vnd.jupyter.widget-view+json": {
       "model_id": "2fc514ff9de646369a248bfb152e66d8",
       "version_major": 2,
       "version_minor": 0
      },
      "text/plain": [
       "  0%|          | 0/100 [00:00<?, ?%/s]"
      ]
     },
     "metadata": {},
     "output_type": "display_data"
    },
    {
     "name": "stderr",
     "output_type": "stream",
     "text": [
      "Simulation to t=26.00 sec completed in 0.0455 seconds.\n"
     ]
    },
    {
     "data": {
      "application/vnd.jupyter.widget-view+json": {
       "model_id": "0b891c18ce074d07af5cf85e253b478d",
       "version_major": 2,
       "version_minor": 0
      },
      "text/plain": [
       "  0%|          | 0/100 [00:00<?, ?%/s]"
      ]
     },
     "metadata": {},
     "output_type": "display_data"
    },
    {
     "name": "stderr",
     "output_type": "stream",
     "text": [
      "Simulation to t=27.00 sec completed in 0.0452 seconds.\n"
     ]
    },
    {
     "data": {
      "application/vnd.jupyter.widget-view+json": {
       "model_id": "1a2bac4641de4d20bf526395f1876cfa",
       "version_major": 2,
       "version_minor": 0
      },
      "text/plain": [
       "  0%|          | 0/100 [00:00<?, ?%/s]"
      ]
     },
     "metadata": {},
     "output_type": "display_data"
    },
    {
     "name": "stderr",
     "output_type": "stream",
     "text": [
      "Simulation to t=28.00 sec completed in 0.0451 seconds.\n"
     ]
    },
    {
     "data": {
      "application/vnd.jupyter.widget-view+json": {
       "model_id": "a1e3ede457ad4c35910f55a7c54c8d0f",
       "version_major": 2,
       "version_minor": 0
      },
      "text/plain": [
       "  0%|          | 0/100 [00:00<?, ?%/s]"
      ]
     },
     "metadata": {},
     "output_type": "display_data"
    },
    {
     "name": "stderr",
     "output_type": "stream",
     "text": [
      "Simulation to t=29.00 sec completed in 0.0439 seconds.\n"
     ]
    },
    {
     "data": {
      "application/vnd.jupyter.widget-view+json": {
       "model_id": "a55da9167d6e4b5fb63f5bcd6359c450",
       "version_major": 2,
       "version_minor": 0
      },
      "text/plain": [
       "  0%|          | 0/100 [00:00<?, ?%/s]"
      ]
     },
     "metadata": {},
     "output_type": "display_data"
    },
    {
     "name": "stderr",
     "output_type": "stream",
     "text": [
      "Simulation to t=30.00 sec completed in 0.0444 seconds.\n"
     ]
    },
    {
     "data": {
      "application/vnd.jupyter.widget-view+json": {
       "model_id": "49883d74c353452895d535d0c54a2192",
       "version_major": 2,
       "version_minor": 0
      },
      "text/plain": [
       "  0%|          | 0/100 [00:00<?, ?%/s]"
      ]
     },
     "metadata": {},
     "output_type": "display_data"
    },
    {
     "name": "stderr",
     "output_type": "stream",
     "text": [
      "Simulation to t=31.00 sec completed in 0.0485 seconds.\n"
     ]
    },
    {
     "data": {
      "application/vnd.jupyter.widget-view+json": {
       "model_id": "39f38b9648e34b029804541433e9c0af",
       "version_major": 2,
       "version_minor": 0
      },
      "text/plain": [
       "  0%|          | 0/100 [00:00<?, ?%/s]"
      ]
     },
     "metadata": {},
     "output_type": "display_data"
    },
    {
     "name": "stderr",
     "output_type": "stream",
     "text": [
      "Simulation to t=32.00 sec completed in 0.0450 seconds.\n"
     ]
    },
    {
     "data": {
      "application/vnd.jupyter.widget-view+json": {
       "model_id": "9733e75448db461eb7ed061efd1b2d07",
       "version_major": 2,
       "version_minor": 0
      },
      "text/plain": [
       "  0%|          | 0/100 [00:00<?, ?%/s]"
      ]
     },
     "metadata": {},
     "output_type": "display_data"
    },
    {
     "name": "stderr",
     "output_type": "stream",
     "text": [
      "Simulation to t=33.00 sec completed in 0.0464 seconds.\n"
     ]
    },
    {
     "data": {
      "application/vnd.jupyter.widget-view+json": {
       "model_id": "02e133e986804e94ab580bab6b8397c0",
       "version_major": 2,
       "version_minor": 0
      },
      "text/plain": [
       "  0%|          | 0/100 [00:00<?, ?%/s]"
      ]
     },
     "metadata": {},
     "output_type": "display_data"
    },
    {
     "name": "stderr",
     "output_type": "stream",
     "text": [
      "Simulation to t=34.00 sec completed in 0.0458 seconds.\n"
     ]
    },
    {
     "data": {
      "application/vnd.jupyter.widget-view+json": {
       "model_id": "2a2cdc6e0d374bb0a53fe50f24440ff5",
       "version_major": 2,
       "version_minor": 0
      },
      "text/plain": [
       "  0%|          | 0/100 [00:00<?, ?%/s]"
      ]
     },
     "metadata": {},
     "output_type": "display_data"
    },
    {
     "name": "stderr",
     "output_type": "stream",
     "text": [
      "Simulation to t=35.00 sec completed in 0.0517 seconds.\n"
     ]
    },
    {
     "data": {
      "application/vnd.jupyter.widget-view+json": {
       "model_id": "b8f333d6d06c422ab37d59d7b76d4b9c",
       "version_major": 2,
       "version_minor": 0
      },
      "text/plain": [
       "  0%|          | 0/100 [00:00<?, ?%/s]"
      ]
     },
     "metadata": {},
     "output_type": "display_data"
    },
    {
     "name": "stderr",
     "output_type": "stream",
     "text": [
      "Simulation to t=36.00 sec completed in 0.0465 seconds.\n"
     ]
    },
    {
     "data": {
      "application/vnd.jupyter.widget-view+json": {
       "model_id": "1503bd313ec64647acfcc236bbcab5ff",
       "version_major": 2,
       "version_minor": 0
      },
      "text/plain": [
       "  0%|          | 0/100 [00:00<?, ?%/s]"
      ]
     },
     "metadata": {},
     "output_type": "display_data"
    },
    {
     "name": "stderr",
     "output_type": "stream",
     "text": [
      "Simulation to t=37.00 sec completed in 0.0480 seconds.\n"
     ]
    },
    {
     "data": {
      "application/vnd.jupyter.widget-view+json": {
       "model_id": "81833b58efb64b839aba842a49d6b4c2",
       "version_major": 2,
       "version_minor": 0
      },
      "text/plain": [
       "  0%|          | 0/100 [00:00<?, ?%/s]"
      ]
     },
     "metadata": {},
     "output_type": "display_data"
    },
    {
     "name": "stderr",
     "output_type": "stream",
     "text": [
      "Simulation to t=38.00 sec completed in 0.0484 seconds.\n"
     ]
    },
    {
     "data": {
      "application/vnd.jupyter.widget-view+json": {
       "model_id": "1d8920ca874b42a596cd6ed0b028cf81",
       "version_major": 2,
       "version_minor": 0
      },
      "text/plain": [
       "  0%|          | 0/100 [00:00<?, ?%/s]"
      ]
     },
     "metadata": {},
     "output_type": "display_data"
    },
    {
     "name": "stderr",
     "output_type": "stream",
     "text": [
      "Simulation to t=39.00 sec completed in 0.0466 seconds.\n"
     ]
    },
    {
     "data": {
      "application/vnd.jupyter.widget-view+json": {
       "model_id": "aae47a27a595401ca5606dbb8fb86455",
       "version_major": 2,
       "version_minor": 0
      },
      "text/plain": [
       "  0%|          | 0/100 [00:00<?, ?%/s]"
      ]
     },
     "metadata": {},
     "output_type": "display_data"
    },
    {
     "name": "stderr",
     "output_type": "stream",
     "text": [
      "Simulation to t=40.00 sec completed in 0.0464 seconds.\n"
     ]
    },
    {
     "data": {
      "application/vnd.jupyter.widget-view+json": {
       "model_id": "5d2e33973fca4bc49f33ac9250a52b30",
       "version_major": 2,
       "version_minor": 0
      },
      "text/plain": [
       "  0%|          | 0/100 [00:00<?, ?%/s]"
      ]
     },
     "metadata": {},
     "output_type": "display_data"
    },
    {
     "name": "stderr",
     "output_type": "stream",
     "text": [
      "Simulation to t=41.00 sec completed in 0.0456 seconds.\n"
     ]
    },
    {
     "data": {
      "application/vnd.jupyter.widget-view+json": {
       "model_id": "6744a7148f264a45a57597f90080288d",
       "version_major": 2,
       "version_minor": 0
      },
      "text/plain": [
       "  0%|          | 0/100 [00:00<?, ?%/s]"
      ]
     },
     "metadata": {},
     "output_type": "display_data"
    },
    {
     "name": "stderr",
     "output_type": "stream",
     "text": [
      "Simulation to t=42.00 sec completed in 0.0468 seconds.\n"
     ]
    },
    {
     "data": {
      "application/vnd.jupyter.widget-view+json": {
       "model_id": "40dec73dd378463da5681661309083cd",
       "version_major": 2,
       "version_minor": 0
      },
      "text/plain": [
       "  0%|          | 0/100 [00:00<?, ?%/s]"
      ]
     },
     "metadata": {},
     "output_type": "display_data"
    },
    {
     "name": "stderr",
     "output_type": "stream",
     "text": [
      "Simulation to t=43.00 sec completed in 0.0463 seconds.\n"
     ]
    },
    {
     "data": {
      "application/vnd.jupyter.widget-view+json": {
       "model_id": "839873c67a594b7bb209f45c3bd41266",
       "version_major": 2,
       "version_minor": 0
      },
      "text/plain": [
       "  0%|          | 0/100 [00:00<?, ?%/s]"
      ]
     },
     "metadata": {},
     "output_type": "display_data"
    },
    {
     "name": "stderr",
     "output_type": "stream",
     "text": [
      "Simulation to t=44.00 sec completed in 0.0571 seconds.\n"
     ]
    },
    {
     "data": {
      "application/vnd.jupyter.widget-view+json": {
       "model_id": "faca9b197b3241d88318c9fa60000daf",
       "version_major": 2,
       "version_minor": 0
      },
      "text/plain": [
       "  0%|          | 0/100 [00:00<?, ?%/s]"
      ]
     },
     "metadata": {},
     "output_type": "display_data"
    },
    {
     "name": "stderr",
     "output_type": "stream",
     "text": [
      "Simulation to t=45.00 sec completed in 0.0463 seconds.\n"
     ]
    },
    {
     "data": {
      "application/vnd.jupyter.widget-view+json": {
       "model_id": "48bb048c037c44e69c576420a0cea78b",
       "version_major": 2,
       "version_minor": 0
      },
      "text/plain": [
       "  0%|          | 0/100 [00:00<?, ?%/s]"
      ]
     },
     "metadata": {},
     "output_type": "display_data"
    },
    {
     "name": "stderr",
     "output_type": "stream",
     "text": [
      "Simulation to t=46.00 sec completed in 0.0474 seconds.\n"
     ]
    },
    {
     "data": {
      "application/vnd.jupyter.widget-view+json": {
       "model_id": "59893245d7814158ab1254fe13ef303a",
       "version_major": 2,
       "version_minor": 0
      },
      "text/plain": [
       "  0%|          | 0/100 [00:00<?, ?%/s]"
      ]
     },
     "metadata": {},
     "output_type": "display_data"
    },
    {
     "name": "stderr",
     "output_type": "stream",
     "text": [
      "Simulation to t=47.00 sec completed in 0.0464 seconds.\n"
     ]
    },
    {
     "data": {
      "application/vnd.jupyter.widget-view+json": {
       "model_id": "90062b8ec0fe4ec5ba5fa66c3b4ad33c",
       "version_major": 2,
       "version_minor": 0
      },
      "text/plain": [
       "  0%|          | 0/100 [00:00<?, ?%/s]"
      ]
     },
     "metadata": {},
     "output_type": "display_data"
    },
    {
     "name": "stderr",
     "output_type": "stream",
     "text": [
      "Simulation to t=48.00 sec completed in 0.0476 seconds.\n"
     ]
    },
    {
     "data": {
      "application/vnd.jupyter.widget-view+json": {
       "model_id": "baa1542323fa4daaae97a85d404b989d",
       "version_major": 2,
       "version_minor": 0
      },
      "text/plain": [
       "  0%|          | 0/100 [00:00<?, ?%/s]"
      ]
     },
     "metadata": {},
     "output_type": "display_data"
    },
    {
     "name": "stderr",
     "output_type": "stream",
     "text": [
      "Simulation to t=49.00 sec completed in 0.0471 seconds.\n"
     ]
    },
    {
     "data": {
      "application/vnd.jupyter.widget-view+json": {
       "model_id": "a854f211c0524e54af618ee102e88c10",
       "version_major": 2,
       "version_minor": 0
      },
      "text/plain": [
       "  0%|          | 0/100 [00:00<?, ?%/s]"
      ]
     },
     "metadata": {},
     "output_type": "display_data"
    },
    {
     "name": "stderr",
     "output_type": "stream",
     "text": [
      "Simulation to t=50.00 sec completed in 0.0479 seconds.\n"
     ]
    },
    {
     "data": {
      "application/vnd.jupyter.widget-view+json": {
       "model_id": "1c96b443b7194501bac1db51d649be79",
       "version_major": 2,
       "version_minor": 0
      },
      "text/plain": [
       "  0%|          | 0/100 [00:00<?, ?%/s]"
      ]
     },
     "metadata": {},
     "output_type": "display_data"
    },
    {
     "name": "stderr",
     "output_type": "stream",
     "text": [
      "Simulation to t=51.00 sec completed in 0.0477 seconds.\n"
     ]
    },
    {
     "data": {
      "application/vnd.jupyter.widget-view+json": {
       "model_id": "7e5ca43de17c40ea911e48455929ca4f",
       "version_major": 2,
       "version_minor": 0
      },
      "text/plain": [
       "  0%|          | 0/100 [00:00<?, ?%/s]"
      ]
     },
     "metadata": {},
     "output_type": "display_data"
    },
    {
     "name": "stderr",
     "output_type": "stream",
     "text": [
      "Simulation to t=52.00 sec completed in 0.0481 seconds.\n"
     ]
    },
    {
     "data": {
      "application/vnd.jupyter.widget-view+json": {
       "model_id": "e79efb7389354167be16a8a8ba08a162",
       "version_major": 2,
       "version_minor": 0
      },
      "text/plain": [
       "  0%|          | 0/100 [00:00<?, ?%/s]"
      ]
     },
     "metadata": {},
     "output_type": "display_data"
    },
    {
     "name": "stderr",
     "output_type": "stream",
     "text": [
      "Simulation to t=53.00 sec completed in 0.0464 seconds.\n"
     ]
    },
    {
     "data": {
      "application/vnd.jupyter.widget-view+json": {
       "model_id": "937e63c248ab48779a954c9c647c0af7",
       "version_major": 2,
       "version_minor": 0
      },
      "text/plain": [
       "  0%|          | 0/100 [00:00<?, ?%/s]"
      ]
     },
     "metadata": {},
     "output_type": "display_data"
    },
    {
     "name": "stderr",
     "output_type": "stream",
     "text": [
      "Simulation to t=54.00 sec completed in 0.0506 seconds.\n"
     ]
    },
    {
     "data": {
      "application/vnd.jupyter.widget-view+json": {
       "model_id": "1896f150f53c4a86aa59dac0da5c1e6f",
       "version_major": 2,
       "version_minor": 0
      },
      "text/plain": [
       "  0%|          | 0/100 [00:00<?, ?%/s]"
      ]
     },
     "metadata": {},
     "output_type": "display_data"
    },
    {
     "name": "stderr",
     "output_type": "stream",
     "text": [
      "Simulation to t=55.00 sec completed in 0.0474 seconds.\n"
     ]
    },
    {
     "data": {
      "application/vnd.jupyter.widget-view+json": {
       "model_id": "1f051716962e498380e30cd695bf99e1",
       "version_major": 2,
       "version_minor": 0
      },
      "text/plain": [
       "  0%|          | 0/100 [00:00<?, ?%/s]"
      ]
     },
     "metadata": {},
     "output_type": "display_data"
    },
    {
     "name": "stderr",
     "output_type": "stream",
     "text": [
      "Simulation to t=56.00 sec completed in 0.0470 seconds.\n"
     ]
    },
    {
     "data": {
      "application/vnd.jupyter.widget-view+json": {
       "model_id": "cbe6755a6b5647dfbb1e89297908d844",
       "version_major": 2,
       "version_minor": 0
      },
      "text/plain": [
       "  0%|          | 0/100 [00:00<?, ?%/s]"
      ]
     },
     "metadata": {},
     "output_type": "display_data"
    },
    {
     "name": "stderr",
     "output_type": "stream",
     "text": [
      "Simulation to t=57.00 sec completed in 0.0456 seconds.\n"
     ]
    },
    {
     "data": {
      "application/vnd.jupyter.widget-view+json": {
       "model_id": "3177f8d613b142cb83cb60908bd24b7d",
       "version_major": 2,
       "version_minor": 0
      },
      "text/plain": [
       "  0%|          | 0/100 [00:00<?, ?%/s]"
      ]
     },
     "metadata": {},
     "output_type": "display_data"
    },
    {
     "name": "stderr",
     "output_type": "stream",
     "text": [
      "Simulation to t=58.00 sec completed in 0.0458 seconds.\n"
     ]
    },
    {
     "data": {
      "application/vnd.jupyter.widget-view+json": {
       "model_id": "8fb9638418fe42c2ab74a59b7e7ae0bc",
       "version_major": 2,
       "version_minor": 0
      },
      "text/plain": [
       "  0%|          | 0/100 [00:00<?, ?%/s]"
      ]
     },
     "metadata": {},
     "output_type": "display_data"
    },
    {
     "name": "stderr",
     "output_type": "stream",
     "text": [
      "Simulation to t=59.00 sec completed in 0.0458 seconds.\n"
     ]
    },
    {
     "data": {
      "application/vnd.jupyter.widget-view+json": {
       "model_id": "aa5698dd27ec4e86ab1d94c8a9509df2",
       "version_major": 2,
       "version_minor": 0
      },
      "text/plain": [
       "  0%|          | 0/100 [00:00<?, ?%/s]"
      ]
     },
     "metadata": {},
     "output_type": "display_data"
    },
    {
     "name": "stderr",
     "output_type": "stream",
     "text": [
      "Simulation to t=60.00 sec completed in 0.0467 seconds.\n"
     ]
    },
    {
     "data": {
      "application/vnd.jupyter.widget-view+json": {
       "model_id": "2ac49781f7cc403681090d2b80c7e747",
       "version_major": 2,
       "version_minor": 0
      },
      "text/plain": [
       "  0%|          | 0/100 [00:00<?, ?%/s]"
      ]
     },
     "metadata": {},
     "output_type": "display_data"
    },
    {
     "name": "stderr",
     "output_type": "stream",
     "text": [
      "Simulation to t=61.00 sec completed in 0.0457 seconds.\n"
     ]
    },
    {
     "data": {
      "application/vnd.jupyter.widget-view+json": {
       "model_id": "e8cbe7cfdddc43fb99f678d2565087cd",
       "version_major": 2,
       "version_minor": 0
      },
      "text/plain": [
       "  0%|          | 0/100 [00:00<?, ?%/s]"
      ]
     },
     "metadata": {},
     "output_type": "display_data"
    },
    {
     "name": "stderr",
     "output_type": "stream",
     "text": [
      "Simulation to t=62.00 sec completed in 0.0465 seconds.\n"
     ]
    },
    {
     "data": {
      "application/vnd.jupyter.widget-view+json": {
       "model_id": "7ec3f4f7592c4e4496c875a1250c9ac1",
       "version_major": 2,
       "version_minor": 0
      },
      "text/plain": [
       "  0%|          | 0/100 [00:00<?, ?%/s]"
      ]
     },
     "metadata": {},
     "output_type": "display_data"
    },
    {
     "name": "stderr",
     "output_type": "stream",
     "text": [
      "Simulation to t=63.00 sec completed in 0.0470 seconds.\n"
     ]
    },
    {
     "data": {
      "application/vnd.jupyter.widget-view+json": {
       "model_id": "cf6ca0fef9af423a8cd4ebe9cf1fdcaf",
       "version_major": 2,
       "version_minor": 0
      },
      "text/plain": [
       "  0%|          | 0/100 [00:00<?, ?%/s]"
      ]
     },
     "metadata": {},
     "output_type": "display_data"
    },
    {
     "name": "stderr",
     "output_type": "stream",
     "text": [
      "Simulation to t=64.00 sec completed in 0.0473 seconds.\n"
     ]
    },
    {
     "data": {
      "application/vnd.jupyter.widget-view+json": {
       "model_id": "7440a9b3743d447a80fb8ab06d88f0b8",
       "version_major": 2,
       "version_minor": 0
      },
      "text/plain": [
       "  0%|          | 0/100 [00:00<?, ?%/s]"
      ]
     },
     "metadata": {},
     "output_type": "display_data"
    },
    {
     "name": "stderr",
     "output_type": "stream",
     "text": [
      "Simulation to t=65.00 sec completed in 0.0461 seconds.\n"
     ]
    },
    {
     "data": {
      "application/vnd.jupyter.widget-view+json": {
       "model_id": "7400e64bd4ff40bb8bd1aa89d034f44b",
       "version_major": 2,
       "version_minor": 0
      },
      "text/plain": [
       "  0%|          | 0/100 [00:00<?, ?%/s]"
      ]
     },
     "metadata": {},
     "output_type": "display_data"
    },
    {
     "name": "stderr",
     "output_type": "stream",
     "text": [
      "Simulation to t=66.00 sec completed in 0.0474 seconds.\n"
     ]
    },
    {
     "data": {
      "application/vnd.jupyter.widget-view+json": {
       "model_id": "c7aed766da224f79a68a33567b99e628",
       "version_major": 2,
       "version_minor": 0
      },
      "text/plain": [
       "  0%|          | 0/100 [00:00<?, ?%/s]"
      ]
     },
     "metadata": {},
     "output_type": "display_data"
    },
    {
     "name": "stderr",
     "output_type": "stream",
     "text": [
      "Simulation to t=67.00 sec completed in 0.0465 seconds.\n"
     ]
    },
    {
     "data": {
      "application/vnd.jupyter.widget-view+json": {
       "model_id": "9c10d552e7394a16a7d3d4bdf0490637",
       "version_major": 2,
       "version_minor": 0
      },
      "text/plain": [
       "  0%|          | 0/100 [00:00<?, ?%/s]"
      ]
     },
     "metadata": {},
     "output_type": "display_data"
    },
    {
     "name": "stderr",
     "output_type": "stream",
     "text": [
      "Simulation to t=68.00 sec completed in 0.0462 seconds.\n"
     ]
    },
    {
     "data": {
      "application/vnd.jupyter.widget-view+json": {
       "model_id": "08e6af1481994253b42b3f607b2bef39",
       "version_major": 2,
       "version_minor": 0
      },
      "text/plain": [
       "  0%|          | 0/100 [00:00<?, ?%/s]"
      ]
     },
     "metadata": {},
     "output_type": "display_data"
    },
    {
     "name": "stderr",
     "output_type": "stream",
     "text": [
      "Simulation to t=69.00 sec completed in 0.0463 seconds.\n"
     ]
    },
    {
     "data": {
      "application/vnd.jupyter.widget-view+json": {
       "model_id": "19426640454245ceae946b5d6e706e83",
       "version_major": 2,
       "version_minor": 0
      },
      "text/plain": [
       "  0%|          | 0/100 [00:00<?, ?%/s]"
      ]
     },
     "metadata": {},
     "output_type": "display_data"
    },
    {
     "name": "stderr",
     "output_type": "stream",
     "text": [
      "Simulation to t=70.00 sec completed in 0.0463 seconds.\n"
     ]
    },
    {
     "data": {
      "application/vnd.jupyter.widget-view+json": {
       "model_id": "aeaece512c7a4becace9c6b04c52de0a",
       "version_major": 2,
       "version_minor": 0
      },
      "text/plain": [
       "  0%|          | 0/100 [00:00<?, ?%/s]"
      ]
     },
     "metadata": {},
     "output_type": "display_data"
    },
    {
     "name": "stderr",
     "output_type": "stream",
     "text": [
      "Simulation to t=71.00 sec completed in 0.0455 seconds.\n"
     ]
    },
    {
     "data": {
      "application/vnd.jupyter.widget-view+json": {
       "model_id": "4218dd4276fb455b811c7d9e4a399756",
       "version_major": 2,
       "version_minor": 0
      },
      "text/plain": [
       "  0%|          | 0/100 [00:00<?, ?%/s]"
      ]
     },
     "metadata": {},
     "output_type": "display_data"
    },
    {
     "name": "stderr",
     "output_type": "stream",
     "text": [
      "Simulation to t=72.00 sec completed in 0.0470 seconds.\n"
     ]
    },
    {
     "data": {
      "application/vnd.jupyter.widget-view+json": {
       "model_id": "5b5a414e9542446ba47d9b47ff175436",
       "version_major": 2,
       "version_minor": 0
      },
      "text/plain": [
       "  0%|          | 0/100 [00:00<?, ?%/s]"
      ]
     },
     "metadata": {},
     "output_type": "display_data"
    },
    {
     "name": "stderr",
     "output_type": "stream",
     "text": [
      "Simulation to t=73.00 sec completed in 0.0466 seconds.\n"
     ]
    },
    {
     "data": {
      "application/vnd.jupyter.widget-view+json": {
       "model_id": "3e5e26a4076b4add824ac313be6be35f",
       "version_major": 2,
       "version_minor": 0
      },
      "text/plain": [
       "  0%|          | 0/100 [00:00<?, ?%/s]"
      ]
     },
     "metadata": {},
     "output_type": "display_data"
    },
    {
     "name": "stderr",
     "output_type": "stream",
     "text": [
      "Simulation to t=74.00 sec completed in 0.0464 seconds.\n"
     ]
    },
    {
     "data": {
      "application/vnd.jupyter.widget-view+json": {
       "model_id": "0364f2cbffba452fb2a5f29c09c01b73",
       "version_major": 2,
       "version_minor": 0
      },
      "text/plain": [
       "  0%|          | 0/100 [00:00<?, ?%/s]"
      ]
     },
     "metadata": {},
     "output_type": "display_data"
    },
    {
     "name": "stderr",
     "output_type": "stream",
     "text": [
      "Simulation to t=75.00 sec completed in 0.0461 seconds.\n"
     ]
    },
    {
     "data": {
      "application/vnd.jupyter.widget-view+json": {
       "model_id": "478798120be14bfc968f139299a9a66d",
       "version_major": 2,
       "version_minor": 0
      },
      "text/plain": [
       "  0%|          | 0/100 [00:00<?, ?%/s]"
      ]
     },
     "metadata": {},
     "output_type": "display_data"
    },
    {
     "name": "stderr",
     "output_type": "stream",
     "text": [
      "Simulation to t=76.00 sec completed in 0.0468 seconds.\n"
     ]
    },
    {
     "data": {
      "application/vnd.jupyter.widget-view+json": {
       "model_id": "ac1d6212f863467b971975bfe6433fe7",
       "version_major": 2,
       "version_minor": 0
      },
      "text/plain": [
       "  0%|          | 0/100 [00:00<?, ?%/s]"
      ]
     },
     "metadata": {},
     "output_type": "display_data"
    },
    {
     "name": "stderr",
     "output_type": "stream",
     "text": [
      "Simulation to t=77.00 sec completed in 0.0471 seconds.\n"
     ]
    },
    {
     "data": {
      "application/vnd.jupyter.widget-view+json": {
       "model_id": "a2a382639fde453cb522b03bfd919e24",
       "version_major": 2,
       "version_minor": 0
      },
      "text/plain": [
       "  0%|          | 0/100 [00:00<?, ?%/s]"
      ]
     },
     "metadata": {},
     "output_type": "display_data"
    },
    {
     "name": "stderr",
     "output_type": "stream",
     "text": [
      "Simulation to t=78.00 sec completed in 0.0465 seconds.\n"
     ]
    },
    {
     "data": {
      "application/vnd.jupyter.widget-view+json": {
       "model_id": "949791f16b3245c2b2b6a09af2a9ec35",
       "version_major": 2,
       "version_minor": 0
      },
      "text/plain": [
       "  0%|          | 0/100 [00:00<?, ?%/s]"
      ]
     },
     "metadata": {},
     "output_type": "display_data"
    },
    {
     "name": "stderr",
     "output_type": "stream",
     "text": [
      "Simulation to t=79.00 sec completed in 0.0461 seconds.\n"
     ]
    },
    {
     "data": {
      "application/vnd.jupyter.widget-view+json": {
       "model_id": "2388b3c4ab2e453593d9f3745c4078b1",
       "version_major": 2,
       "version_minor": 0
      },
      "text/plain": [
       "  0%|          | 0/100 [00:00<?, ?%/s]"
      ]
     },
     "metadata": {},
     "output_type": "display_data"
    },
    {
     "name": "stderr",
     "output_type": "stream",
     "text": [
      "Simulation to t=80.00 sec completed in 0.0471 seconds.\n"
     ]
    },
    {
     "data": {
      "application/vnd.jupyter.widget-view+json": {
       "model_id": "5ac1cc1aff69467799949ce75cadf055",
       "version_major": 2,
       "version_minor": 0
      },
      "text/plain": [
       "  0%|          | 0/100 [00:00<?, ?%/s]"
      ]
     },
     "metadata": {},
     "output_type": "display_data"
    },
    {
     "name": "stderr",
     "output_type": "stream",
     "text": [
      "Simulation to t=81.00 sec completed in 0.0472 seconds.\n"
     ]
    },
    {
     "data": {
      "application/vnd.jupyter.widget-view+json": {
       "model_id": "cab4de386c114e5fa5275b63de79553a",
       "version_major": 2,
       "version_minor": 0
      },
      "text/plain": [
       "  0%|          | 0/100 [00:00<?, ?%/s]"
      ]
     },
     "metadata": {},
     "output_type": "display_data"
    },
    {
     "name": "stderr",
     "output_type": "stream",
     "text": [
      "Simulation to t=82.00 sec completed in 0.0458 seconds.\n"
     ]
    },
    {
     "data": {
      "application/vnd.jupyter.widget-view+json": {
       "model_id": "51cf0618809c4c748d57dc67f3b05172",
       "version_major": 2,
       "version_minor": 0
      },
      "text/plain": [
       "  0%|          | 0/100 [00:00<?, ?%/s]"
      ]
     },
     "metadata": {},
     "output_type": "display_data"
    },
    {
     "name": "stderr",
     "output_type": "stream",
     "text": [
      "Simulation to t=83.00 sec completed in 0.0455 seconds.\n"
     ]
    },
    {
     "data": {
      "application/vnd.jupyter.widget-view+json": {
       "model_id": "7eee378abf8844de8f8a42f3d1632976",
       "version_major": 2,
       "version_minor": 0
      },
      "text/plain": [
       "  0%|          | 0/100 [00:00<?, ?%/s]"
      ]
     },
     "metadata": {},
     "output_type": "display_data"
    },
    {
     "name": "stderr",
     "output_type": "stream",
     "text": [
      "Simulation to t=84.00 sec completed in 0.0463 seconds.\n"
     ]
    },
    {
     "data": {
      "application/vnd.jupyter.widget-view+json": {
       "model_id": "a50603ca357243898a49e6a7857c3ed1",
       "version_major": 2,
       "version_minor": 0
      },
      "text/plain": [
       "  0%|          | 0/100 [00:00<?, ?%/s]"
      ]
     },
     "metadata": {},
     "output_type": "display_data"
    },
    {
     "name": "stderr",
     "output_type": "stream",
     "text": [
      "Simulation to t=85.00 sec completed in 0.0467 seconds.\n"
     ]
    },
    {
     "data": {
      "application/vnd.jupyter.widget-view+json": {
       "model_id": "400f4505be164208ab12f880f7924acc",
       "version_major": 2,
       "version_minor": 0
      },
      "text/plain": [
       "  0%|          | 0/100 [00:00<?, ?%/s]"
      ]
     },
     "metadata": {},
     "output_type": "display_data"
    },
    {
     "name": "stderr",
     "output_type": "stream",
     "text": [
      "Simulation to t=86.00 sec completed in 0.0461 seconds.\n"
     ]
    },
    {
     "data": {
      "application/vnd.jupyter.widget-view+json": {
       "model_id": "b0c15884fd5147f4ad7a86849c0aaa13",
       "version_major": 2,
       "version_minor": 0
      },
      "text/plain": [
       "  0%|          | 0/100 [00:00<?, ?%/s]"
      ]
     },
     "metadata": {},
     "output_type": "display_data"
    },
    {
     "name": "stderr",
     "output_type": "stream",
     "text": [
      "Simulation to t=87.00 sec completed in 0.0462 seconds.\n"
     ]
    },
    {
     "data": {
      "application/vnd.jupyter.widget-view+json": {
       "model_id": "b5991f7532d64cbfbc43f5263b9b1885",
       "version_major": 2,
       "version_minor": 0
      },
      "text/plain": [
       "  0%|          | 0/100 [00:00<?, ?%/s]"
      ]
     },
     "metadata": {},
     "output_type": "display_data"
    },
    {
     "name": "stderr",
     "output_type": "stream",
     "text": [
      "Simulation to t=88.00 sec completed in 0.0471 seconds.\n"
     ]
    },
    {
     "data": {
      "application/vnd.jupyter.widget-view+json": {
       "model_id": "936e8e52718a4b0eb37c4ef956f9dd2b",
       "version_major": 2,
       "version_minor": 0
      },
      "text/plain": [
       "  0%|          | 0/100 [00:00<?, ?%/s]"
      ]
     },
     "metadata": {},
     "output_type": "display_data"
    },
    {
     "name": "stderr",
     "output_type": "stream",
     "text": [
      "Simulation to t=89.00 sec completed in 0.0478 seconds.\n"
     ]
    },
    {
     "data": {
      "application/vnd.jupyter.widget-view+json": {
       "model_id": "62fba9754bcf4d74bf6426dcd6557cf2",
       "version_major": 2,
       "version_minor": 0
      },
      "text/plain": [
       "  0%|          | 0/100 [00:00<?, ?%/s]"
      ]
     },
     "metadata": {},
     "output_type": "display_data"
    },
    {
     "name": "stderr",
     "output_type": "stream",
     "text": [
      "Simulation to t=90.00 sec completed in 0.0477 seconds.\n"
     ]
    },
    {
     "data": {
      "application/vnd.jupyter.widget-view+json": {
       "model_id": "2867191c7ca743889693925eda764473",
       "version_major": 2,
       "version_minor": 0
      },
      "text/plain": [
       "  0%|          | 0/100 [00:00<?, ?%/s]"
      ]
     },
     "metadata": {},
     "output_type": "display_data"
    },
    {
     "name": "stderr",
     "output_type": "stream",
     "text": [
      "Simulation to t=91.00 sec completed in 0.0468 seconds.\n"
     ]
    },
    {
     "data": {
      "application/vnd.jupyter.widget-view+json": {
       "model_id": "f8b3ec859841462d81f282f637eef4ca",
       "version_major": 2,
       "version_minor": 0
      },
      "text/plain": [
       "  0%|          | 0/100 [00:00<?, ?%/s]"
      ]
     },
     "metadata": {},
     "output_type": "display_data"
    },
    {
     "name": "stderr",
     "output_type": "stream",
     "text": [
      "Simulation to t=92.00 sec completed in 0.0473 seconds.\n"
     ]
    },
    {
     "data": {
      "application/vnd.jupyter.widget-view+json": {
       "model_id": "d7c8ca45a5774d2099f1a8d4ebaf0902",
       "version_major": 2,
       "version_minor": 0
      },
      "text/plain": [
       "  0%|          | 0/100 [00:00<?, ?%/s]"
      ]
     },
     "metadata": {},
     "output_type": "display_data"
    },
    {
     "name": "stderr",
     "output_type": "stream",
     "text": [
      "Simulation to t=93.00 sec completed in 0.0458 seconds.\n"
     ]
    },
    {
     "data": {
      "application/vnd.jupyter.widget-view+json": {
       "model_id": "f5285f36e56449008123a329124db6f8",
       "version_major": 2,
       "version_minor": 0
      },
      "text/plain": [
       "  0%|          | 0/100 [00:00<?, ?%/s]"
      ]
     },
     "metadata": {},
     "output_type": "display_data"
    },
    {
     "name": "stderr",
     "output_type": "stream",
     "text": [
      "Simulation to t=94.00 sec completed in 0.0460 seconds.\n"
     ]
    },
    {
     "data": {
      "application/vnd.jupyter.widget-view+json": {
       "model_id": "8d7e04f0beee4ada9a5e8ac4d3f1520e",
       "version_major": 2,
       "version_minor": 0
      },
      "text/plain": [
       "  0%|          | 0/100 [00:00<?, ?%/s]"
      ]
     },
     "metadata": {},
     "output_type": "display_data"
    },
    {
     "name": "stderr",
     "output_type": "stream",
     "text": [
      "Simulation to t=95.00 sec completed in 0.0460 seconds.\n"
     ]
    },
    {
     "data": {
      "application/vnd.jupyter.widget-view+json": {
       "model_id": "270696742e574ff78384fa33ee23fafa",
       "version_major": 2,
       "version_minor": 0
      },
      "text/plain": [
       "  0%|          | 0/100 [00:00<?, ?%/s]"
      ]
     },
     "metadata": {},
     "output_type": "display_data"
    },
    {
     "name": "stderr",
     "output_type": "stream",
     "text": [
      "Simulation to t=96.00 sec completed in 0.0474 seconds.\n"
     ]
    },
    {
     "data": {
      "application/vnd.jupyter.widget-view+json": {
       "model_id": "d1143889a45447f4859036d9c43fac55",
       "version_major": 2,
       "version_minor": 0
      },
      "text/plain": [
       "  0%|          | 0/100 [00:00<?, ?%/s]"
      ]
     },
     "metadata": {},
     "output_type": "display_data"
    },
    {
     "name": "stderr",
     "output_type": "stream",
     "text": [
      "Simulation to t=97.00 sec completed in 0.0486 seconds.\n"
     ]
    },
    {
     "data": {
      "application/vnd.jupyter.widget-view+json": {
       "model_id": "c74752a5afab42aaa6ba372e4dfe6931",
       "version_major": 2,
       "version_minor": 0
      },
      "text/plain": [
       "  0%|          | 0/100 [00:00<?, ?%/s]"
      ]
     },
     "metadata": {},
     "output_type": "display_data"
    },
    {
     "name": "stderr",
     "output_type": "stream",
     "text": [
      "Simulation to t=98.00 sec completed in 0.0482 seconds.\n"
     ]
    },
    {
     "data": {
      "application/vnd.jupyter.widget-view+json": {
       "model_id": "4686031a332549c797241a23fe96762e",
       "version_major": 2,
       "version_minor": 0
      },
      "text/plain": [
       "  0%|          | 0/100 [00:00<?, ?%/s]"
      ]
     },
     "metadata": {},
     "output_type": "display_data"
    },
    {
     "name": "stderr",
     "output_type": "stream",
     "text": [
      "Simulation to t=99.00 sec completed in 0.0464 seconds.\n"
     ]
    },
    {
     "data": {
      "application/vnd.jupyter.widget-view+json": {
       "model_id": "300b5cc8f4a742b0b5a30417f5a1f117",
       "version_major": 2,
       "version_minor": 0
      },
      "text/plain": [
       "  0%|          | 0/100 [00:00<?, ?%/s]"
      ]
     },
     "metadata": {},
     "output_type": "display_data"
    },
    {
     "name": "stderr",
     "output_type": "stream",
     "text": [
      "Simulation to t=100.00 sec completed in 0.0473 seconds.\n"
     ]
    },
    {
     "data": {
      "application/vnd.jupyter.widget-view+json": {
       "model_id": "ea9aee3b45ea4c0ab613fe95cf041329",
       "version_major": 2,
       "version_minor": 0
      },
      "text/plain": [
       "  0%|          | 0/100 [00:00<?, ?%/s]"
      ]
     },
     "metadata": {},
     "output_type": "display_data"
    },
    {
     "name": "stderr",
     "output_type": "stream",
     "text": [
      "Simulation to t=101.00 sec completed in 0.0462 seconds.\n"
     ]
    },
    {
     "data": {
      "application/vnd.jupyter.widget-view+json": {
       "model_id": "9b0979086a184a69a2cb42d0cc8ed45f",
       "version_major": 2,
       "version_minor": 0
      },
      "text/plain": [
       "  0%|          | 0/100 [00:00<?, ?%/s]"
      ]
     },
     "metadata": {},
     "output_type": "display_data"
    },
    {
     "name": "stderr",
     "output_type": "stream",
     "text": [
      "Simulation to t=102.00 sec completed in 0.0476 seconds.\n"
     ]
    },
    {
     "data": {
      "application/vnd.jupyter.widget-view+json": {
       "model_id": "3c937dfceebe4f6caea81f1a8e57f4e0",
       "version_major": 2,
       "version_minor": 0
      },
      "text/plain": [
       "  0%|          | 0/100 [00:00<?, ?%/s]"
      ]
     },
     "metadata": {},
     "output_type": "display_data"
    },
    {
     "name": "stderr",
     "output_type": "stream",
     "text": [
      "Simulation to t=103.00 sec completed in 0.0463 seconds.\n"
     ]
    },
    {
     "data": {
      "application/vnd.jupyter.widget-view+json": {
       "model_id": "8f4bc1da935c4b1a8ae51cdc05563840",
       "version_major": 2,
       "version_minor": 0
      },
      "text/plain": [
       "  0%|          | 0/100 [00:00<?, ?%/s]"
      ]
     },
     "metadata": {},
     "output_type": "display_data"
    },
    {
     "name": "stderr",
     "output_type": "stream",
     "text": [
      "Simulation to t=104.00 sec completed in 0.0480 seconds.\n"
     ]
    },
    {
     "data": {
      "application/vnd.jupyter.widget-view+json": {
       "model_id": "12757de382f443b1a159b244609ee465",
       "version_major": 2,
       "version_minor": 0
      },
      "text/plain": [
       "  0%|          | 0/100 [00:00<?, ?%/s]"
      ]
     },
     "metadata": {},
     "output_type": "display_data"
    },
    {
     "name": "stderr",
     "output_type": "stream",
     "text": [
      "Simulation to t=105.00 sec completed in 0.0470 seconds.\n"
     ]
    },
    {
     "data": {
      "application/vnd.jupyter.widget-view+json": {
       "model_id": "dd5201a2442248b8a5effed872e7d042",
       "version_major": 2,
       "version_minor": 0
      },
      "text/plain": [
       "  0%|          | 0/100 [00:00<?, ?%/s]"
      ]
     },
     "metadata": {},
     "output_type": "display_data"
    },
    {
     "name": "stderr",
     "output_type": "stream",
     "text": [
      "Simulation to t=106.00 sec completed in 0.0475 seconds.\n"
     ]
    },
    {
     "data": {
      "application/vnd.jupyter.widget-view+json": {
       "model_id": "167a8e459fc54e47b53854b2eba80881",
       "version_major": 2,
       "version_minor": 0
      },
      "text/plain": [
       "  0%|          | 0/100 [00:00<?, ?%/s]"
      ]
     },
     "metadata": {},
     "output_type": "display_data"
    },
    {
     "name": "stderr",
     "output_type": "stream",
     "text": [
      "Simulation to t=107.00 sec completed in 0.0466 seconds.\n"
     ]
    },
    {
     "data": {
      "application/vnd.jupyter.widget-view+json": {
       "model_id": "f9f34e8ce5d74c40b2d322558430fc12",
       "version_major": 2,
       "version_minor": 0
      },
      "text/plain": [
       "  0%|          | 0/100 [00:00<?, ?%/s]"
      ]
     },
     "metadata": {},
     "output_type": "display_data"
    },
    {
     "name": "stderr",
     "output_type": "stream",
     "text": [
      "Simulation to t=108.00 sec completed in 0.0476 seconds.\n"
     ]
    },
    {
     "data": {
      "application/vnd.jupyter.widget-view+json": {
       "model_id": "7ef5c4f6da294fcc93d68695bffc7f75",
       "version_major": 2,
       "version_minor": 0
      },
      "text/plain": [
       "  0%|          | 0/100 [00:00<?, ?%/s]"
      ]
     },
     "metadata": {},
     "output_type": "display_data"
    },
    {
     "name": "stderr",
     "output_type": "stream",
     "text": [
      "Simulation to t=109.00 sec completed in 0.0460 seconds.\n"
     ]
    },
    {
     "data": {
      "application/vnd.jupyter.widget-view+json": {
       "model_id": "9077305ed5be4c5887a378bcc3b22f67",
       "version_major": 2,
       "version_minor": 0
      },
      "text/plain": [
       "  0%|          | 0/100 [00:00<?, ?%/s]"
      ]
     },
     "metadata": {},
     "output_type": "display_data"
    },
    {
     "name": "stderr",
     "output_type": "stream",
     "text": [
      "Simulation to t=110.00 sec completed in 0.0466 seconds.\n"
     ]
    },
    {
     "data": {
      "application/vnd.jupyter.widget-view+json": {
       "model_id": "6ab33eef3fa5484ca4deb8785586dc1d",
       "version_major": 2,
       "version_minor": 0
      },
      "text/plain": [
       "  0%|          | 0/100 [00:00<?, ?%/s]"
      ]
     },
     "metadata": {},
     "output_type": "display_data"
    },
    {
     "name": "stderr",
     "output_type": "stream",
     "text": [
      "Simulation to t=111.00 sec completed in 0.0454 seconds.\n"
     ]
    },
    {
     "data": {
      "application/vnd.jupyter.widget-view+json": {
       "model_id": "a9dbb3a98c3b4165882c4fad34e96b87",
       "version_major": 2,
       "version_minor": 0
      },
      "text/plain": [
       "  0%|          | 0/100 [00:00<?, ?%/s]"
      ]
     },
     "metadata": {},
     "output_type": "display_data"
    },
    {
     "name": "stderr",
     "output_type": "stream",
     "text": [
      "Simulation to t=112.00 sec completed in 0.0469 seconds.\n"
     ]
    },
    {
     "data": {
      "application/vnd.jupyter.widget-view+json": {
       "model_id": "d6a4e2054b7745999048c0028742980b",
       "version_major": 2,
       "version_minor": 0
      },
      "text/plain": [
       "  0%|          | 0/100 [00:00<?, ?%/s]"
      ]
     },
     "metadata": {},
     "output_type": "display_data"
    },
    {
     "name": "stderr",
     "output_type": "stream",
     "text": [
      "Simulation to t=113.00 sec completed in 0.0470 seconds.\n"
     ]
    },
    {
     "data": {
      "application/vnd.jupyter.widget-view+json": {
       "model_id": "3c7d09bf0dbc431d9a1792ae351ff56a",
       "version_major": 2,
       "version_minor": 0
      },
      "text/plain": [
       "  0%|          | 0/100 [00:00<?, ?%/s]"
      ]
     },
     "metadata": {},
     "output_type": "display_data"
    },
    {
     "name": "stderr",
     "output_type": "stream",
     "text": [
      "Simulation to t=114.00 sec completed in 0.0475 seconds.\n"
     ]
    },
    {
     "data": {
      "application/vnd.jupyter.widget-view+json": {
       "model_id": "6620d34bd1c8422eb84a40ea8fad5822",
       "version_major": 2,
       "version_minor": 0
      },
      "text/plain": [
       "  0%|          | 0/100 [00:00<?, ?%/s]"
      ]
     },
     "metadata": {},
     "output_type": "display_data"
    },
    {
     "name": "stderr",
     "output_type": "stream",
     "text": [
      "Simulation to t=115.00 sec completed in 0.0463 seconds.\n"
     ]
    },
    {
     "data": {
      "application/vnd.jupyter.widget-view+json": {
       "model_id": "c62a60962b184cb7b145c67393e269ff",
       "version_major": 2,
       "version_minor": 0
      },
      "text/plain": [
       "  0%|          | 0/100 [00:00<?, ?%/s]"
      ]
     },
     "metadata": {},
     "output_type": "display_data"
    },
    {
     "name": "stderr",
     "output_type": "stream",
     "text": [
      "Simulation to t=116.00 sec completed in 0.0485 seconds.\n"
     ]
    },
    {
     "data": {
      "application/vnd.jupyter.widget-view+json": {
       "model_id": "221e56a562274f6583c1efe42342383c",
       "version_major": 2,
       "version_minor": 0
      },
      "text/plain": [
       "  0%|          | 0/100 [00:00<?, ?%/s]"
      ]
     },
     "metadata": {},
     "output_type": "display_data"
    },
    {
     "name": "stderr",
     "output_type": "stream",
     "text": [
      "Simulation to t=117.00 sec completed in 0.0473 seconds.\n"
     ]
    },
    {
     "data": {
      "application/vnd.jupyter.widget-view+json": {
       "model_id": "95395693dc0c4cae89f864eeca54e98f",
       "version_major": 2,
       "version_minor": 0
      },
      "text/plain": [
       "  0%|          | 0/100 [00:00<?, ?%/s]"
      ]
     },
     "metadata": {},
     "output_type": "display_data"
    },
    {
     "name": "stderr",
     "output_type": "stream",
     "text": [
      "Simulation to t=118.00 sec completed in 0.0469 seconds.\n"
     ]
    },
    {
     "data": {
      "application/vnd.jupyter.widget-view+json": {
       "model_id": "1042013af3a04c168836725cf94a8d1a",
       "version_major": 2,
       "version_minor": 0
      },
      "text/plain": [
       "  0%|          | 0/100 [00:00<?, ?%/s]"
      ]
     },
     "metadata": {},
     "output_type": "display_data"
    },
    {
     "name": "stderr",
     "output_type": "stream",
     "text": [
      "Simulation to t=119.00 sec completed in 0.0472 seconds.\n"
     ]
    },
    {
     "data": {
      "application/vnd.jupyter.widget-view+json": {
       "model_id": "fc01927bf64e428d80afe3a03141a499",
       "version_major": 2,
       "version_minor": 0
      },
      "text/plain": [
       "  0%|          | 0/100 [00:00<?, ?%/s]"
      ]
     },
     "metadata": {},
     "output_type": "display_data"
    },
    {
     "name": "stderr",
     "output_type": "stream",
     "text": [
      "Simulation to t=120.00 sec completed in 0.0476 seconds.\n"
     ]
    },
    {
     "data": {
      "application/vnd.jupyter.widget-view+json": {
       "model_id": "e3b1e378b23b497ea5100026c20e874f",
       "version_major": 2,
       "version_minor": 0
      },
      "text/plain": [
       "  0%|          | 0/100 [00:00<?, ?%/s]"
      ]
     },
     "metadata": {},
     "output_type": "display_data"
    },
    {
     "name": "stderr",
     "output_type": "stream",
     "text": [
      "Simulation to t=121.00 sec completed in 0.0475 seconds.\n"
     ]
    },
    {
     "data": {
      "application/vnd.jupyter.widget-view+json": {
       "model_id": "8a6335ed123d43d9b0f44b11404902fd",
       "version_major": 2,
       "version_minor": 0
      },
      "text/plain": [
       "  0%|          | 0/100 [00:00<?, ?%/s]"
      ]
     },
     "metadata": {},
     "output_type": "display_data"
    },
    {
     "name": "stderr",
     "output_type": "stream",
     "text": [
      "Simulation to t=122.00 sec completed in 0.0469 seconds.\n"
     ]
    },
    {
     "data": {
      "application/vnd.jupyter.widget-view+json": {
       "model_id": "253800543d2d40ada2ba31361575ab33",
       "version_major": 2,
       "version_minor": 0
      },
      "text/plain": [
       "  0%|          | 0/100 [00:00<?, ?%/s]"
      ]
     },
     "metadata": {},
     "output_type": "display_data"
    },
    {
     "name": "stderr",
     "output_type": "stream",
     "text": [
      "Simulation to t=123.00 sec completed in 0.0474 seconds.\n"
     ]
    },
    {
     "data": {
      "application/vnd.jupyter.widget-view+json": {
       "model_id": "0ac70eb749d94995a4a366bc0951fa81",
       "version_major": 2,
       "version_minor": 0
      },
      "text/plain": [
       "  0%|          | 0/100 [00:00<?, ?%/s]"
      ]
     },
     "metadata": {},
     "output_type": "display_data"
    },
    {
     "name": "stderr",
     "output_type": "stream",
     "text": [
      "Simulation to t=124.00 sec completed in 0.0473 seconds.\n"
     ]
    },
    {
     "data": {
      "application/vnd.jupyter.widget-view+json": {
       "model_id": "a7524e53aca14d2d97410324e488ecba",
       "version_major": 2,
       "version_minor": 0
      },
      "text/plain": [
       "  0%|          | 0/100 [00:00<?, ?%/s]"
      ]
     },
     "metadata": {},
     "output_type": "display_data"
    },
    {
     "name": "stderr",
     "output_type": "stream",
     "text": [
      "Simulation to t=125.00 sec completed in 0.0492 seconds.\n"
     ]
    },
    {
     "data": {
      "application/vnd.jupyter.widget-view+json": {
       "model_id": "acbc4bac2c8f42209e904061855d8dd9",
       "version_major": 2,
       "version_minor": 0
      },
      "text/plain": [
       "  0%|          | 0/100 [00:00<?, ?%/s]"
      ]
     },
     "metadata": {},
     "output_type": "display_data"
    },
    {
     "name": "stderr",
     "output_type": "stream",
     "text": [
      "Simulation to t=126.00 sec completed in 0.0473 seconds.\n"
     ]
    },
    {
     "data": {
      "application/vnd.jupyter.widget-view+json": {
       "model_id": "e14f2f89140e44edbd4abf05d32e670a",
       "version_major": 2,
       "version_minor": 0
      },
      "text/plain": [
       "  0%|          | 0/100 [00:00<?, ?%/s]"
      ]
     },
     "metadata": {},
     "output_type": "display_data"
    },
    {
     "name": "stderr",
     "output_type": "stream",
     "text": [
      "Simulation to t=127.00 sec completed in 0.0489 seconds.\n"
     ]
    },
    {
     "data": {
      "application/vnd.jupyter.widget-view+json": {
       "model_id": "d578e83190dd4f4185858bccd20f9d2d",
       "version_major": 2,
       "version_minor": 0
      },
      "text/plain": [
       "  0%|          | 0/100 [00:00<?, ?%/s]"
      ]
     },
     "metadata": {},
     "output_type": "display_data"
    },
    {
     "name": "stderr",
     "output_type": "stream",
     "text": [
      "Simulation to t=128.00 sec completed in 0.0498 seconds.\n"
     ]
    },
    {
     "data": {
      "application/vnd.jupyter.widget-view+json": {
       "model_id": "f9263632124b4381bdb8dee56cd72f36",
       "version_major": 2,
       "version_minor": 0
      },
      "text/plain": [
       "  0%|          | 0/100 [00:00<?, ?%/s]"
      ]
     },
     "metadata": {},
     "output_type": "display_data"
    },
    {
     "name": "stderr",
     "output_type": "stream",
     "text": [
      "Simulation to t=129.00 sec completed in 0.0482 seconds.\n"
     ]
    },
    {
     "data": {
      "application/vnd.jupyter.widget-view+json": {
       "model_id": "4e486b7852bc4ec0907efd7e964ad0ae",
       "version_major": 2,
       "version_minor": 0
      },
      "text/plain": [
       "  0%|          | 0/100 [00:00<?, ?%/s]"
      ]
     },
     "metadata": {},
     "output_type": "display_data"
    },
    {
     "name": "stderr",
     "output_type": "stream",
     "text": [
      "Simulation to t=130.00 sec completed in 0.0526 seconds.\n"
     ]
    },
    {
     "data": {
      "application/vnd.jupyter.widget-view+json": {
       "model_id": "edcf496248f040398fa9cc1fb3a1bfc0",
       "version_major": 2,
       "version_minor": 0
      },
      "text/plain": [
       "  0%|          | 0/100 [00:00<?, ?%/s]"
      ]
     },
     "metadata": {},
     "output_type": "display_data"
    },
    {
     "name": "stderr",
     "output_type": "stream",
     "text": [
      "Simulation to t=131.00 sec completed in 0.0474 seconds.\n"
     ]
    },
    {
     "data": {
      "application/vnd.jupyter.widget-view+json": {
       "model_id": "89effc8f249e45409dc744d7dd74c1c5",
       "version_major": 2,
       "version_minor": 0
      },
      "text/plain": [
       "  0%|          | 0/100 [00:00<?, ?%/s]"
      ]
     },
     "metadata": {},
     "output_type": "display_data"
    },
    {
     "name": "stderr",
     "output_type": "stream",
     "text": [
      "Simulation to t=132.00 sec completed in 0.0462 seconds.\n"
     ]
    },
    {
     "data": {
      "application/vnd.jupyter.widget-view+json": {
       "model_id": "355f10dfd3474b26bb15ae9f5bcdab00",
       "version_major": 2,
       "version_minor": 0
      },
      "text/plain": [
       "  0%|          | 0/100 [00:00<?, ?%/s]"
      ]
     },
     "metadata": {},
     "output_type": "display_data"
    },
    {
     "name": "stderr",
     "output_type": "stream",
     "text": [
      "Simulation to t=133.00 sec completed in 0.0487 seconds.\n"
     ]
    },
    {
     "data": {
      "application/vnd.jupyter.widget-view+json": {
       "model_id": "2fb7f128bffe4bcd9aac0e40bde335c1",
       "version_major": 2,
       "version_minor": 0
      },
      "text/plain": [
       "  0%|          | 0/100 [00:00<?, ?%/s]"
      ]
     },
     "metadata": {},
     "output_type": "display_data"
    },
    {
     "name": "stderr",
     "output_type": "stream",
     "text": [
      "Simulation to t=134.00 sec completed in 0.0474 seconds.\n"
     ]
    },
    {
     "data": {
      "application/vnd.jupyter.widget-view+json": {
       "model_id": "a1eb43b6084445d48074e5da1e611643",
       "version_major": 2,
       "version_minor": 0
      },
      "text/plain": [
       "  0%|          | 0/100 [00:00<?, ?%/s]"
      ]
     },
     "metadata": {},
     "output_type": "display_data"
    },
    {
     "name": "stderr",
     "output_type": "stream",
     "text": [
      "Simulation to t=135.00 sec completed in 0.0476 seconds.\n"
     ]
    },
    {
     "data": {
      "application/vnd.jupyter.widget-view+json": {
       "model_id": "f2dfcaf7cd8b4ce2afc206b7dee446bc",
       "version_major": 2,
       "version_minor": 0
      },
      "text/plain": [
       "  0%|          | 0/100 [00:00<?, ?%/s]"
      ]
     },
     "metadata": {},
     "output_type": "display_data"
    },
    {
     "name": "stderr",
     "output_type": "stream",
     "text": [
      "Simulation to t=136.00 sec completed in 0.0474 seconds.\n"
     ]
    },
    {
     "data": {
      "application/vnd.jupyter.widget-view+json": {
       "model_id": "7aa46b2ee90941c488eb62c42b64be9d",
       "version_major": 2,
       "version_minor": 0
      },
      "text/plain": [
       "  0%|          | 0/100 [00:00<?, ?%/s]"
      ]
     },
     "metadata": {},
     "output_type": "display_data"
    },
    {
     "name": "stderr",
     "output_type": "stream",
     "text": [
      "Simulation to t=137.00 sec completed in 0.0467 seconds.\n"
     ]
    },
    {
     "data": {
      "application/vnd.jupyter.widget-view+json": {
       "model_id": "912fbd79cb6a40299a443d3be48b475e",
       "version_major": 2,
       "version_minor": 0
      },
      "text/plain": [
       "  0%|          | 0/100 [00:00<?, ?%/s]"
      ]
     },
     "metadata": {},
     "output_type": "display_data"
    },
    {
     "name": "stderr",
     "output_type": "stream",
     "text": [
      "Simulation to t=138.00 sec completed in 0.0508 seconds.\n"
     ]
    },
    {
     "data": {
      "application/vnd.jupyter.widget-view+json": {
       "model_id": "3c24bc65dacc47fb9a725b4f9d03870a",
       "version_major": 2,
       "version_minor": 0
      },
      "text/plain": [
       "  0%|          | 0/100 [00:00<?, ?%/s]"
      ]
     },
     "metadata": {},
     "output_type": "display_data"
    },
    {
     "name": "stderr",
     "output_type": "stream",
     "text": [
      "Simulation to t=139.00 sec completed in 0.1025 seconds.\n"
     ]
    },
    {
     "data": {
      "application/vnd.jupyter.widget-view+json": {
       "model_id": "34e3983b2ed4482baff90c9e5222d47e",
       "version_major": 2,
       "version_minor": 0
      },
      "text/plain": [
       "  0%|          | 0/100 [00:00<?, ?%/s]"
      ]
     },
     "metadata": {},
     "output_type": "display_data"
    },
    {
     "name": "stderr",
     "output_type": "stream",
     "text": [
      "Simulation to t=140.00 sec completed in 0.0623 seconds.\n"
     ]
    },
    {
     "data": {
      "application/vnd.jupyter.widget-view+json": {
       "model_id": "e3726b5860d045a792b6f14e53bfa96e",
       "version_major": 2,
       "version_minor": 0
      },
      "text/plain": [
       "  0%|          | 0/100 [00:00<?, ?%/s]"
      ]
     },
     "metadata": {},
     "output_type": "display_data"
    },
    {
     "name": "stderr",
     "output_type": "stream",
     "text": [
      "Simulation to t=141.00 sec completed in 0.0546 seconds.\n"
     ]
    },
    {
     "data": {
      "application/vnd.jupyter.widget-view+json": {
       "model_id": "1e565375bcb24858904ad5477db1bddc",
       "version_major": 2,
       "version_minor": 0
      },
      "text/plain": [
       "  0%|          | 0/100 [00:00<?, ?%/s]"
      ]
     },
     "metadata": {},
     "output_type": "display_data"
    },
    {
     "name": "stderr",
     "output_type": "stream",
     "text": [
      "Simulation to t=142.00 sec completed in 0.0468 seconds.\n"
     ]
    },
    {
     "data": {
      "application/vnd.jupyter.widget-view+json": {
       "model_id": "7f6e8e8e26bf4d85ae5d052e3bb46242",
       "version_major": 2,
       "version_minor": 0
      },
      "text/plain": [
       "  0%|          | 0/100 [00:00<?, ?%/s]"
      ]
     },
     "metadata": {},
     "output_type": "display_data"
    },
    {
     "name": "stderr",
     "output_type": "stream",
     "text": [
      "Simulation to t=143.00 sec completed in 0.0469 seconds.\n"
     ]
    },
    {
     "data": {
      "application/vnd.jupyter.widget-view+json": {
       "model_id": "c4bf4b14c9c340f29557ca0509b11ebc",
       "version_major": 2,
       "version_minor": 0
      },
      "text/plain": [
       "  0%|          | 0/100 [00:00<?, ?%/s]"
      ]
     },
     "metadata": {},
     "output_type": "display_data"
    },
    {
     "name": "stderr",
     "output_type": "stream",
     "text": [
      "Simulation to t=144.00 sec completed in 0.0480 seconds.\n"
     ]
    },
    {
     "data": {
      "application/vnd.jupyter.widget-view+json": {
       "model_id": "3c6ad6beeed0491ebcf036143be94504",
       "version_major": 2,
       "version_minor": 0
      },
      "text/plain": [
       "  0%|          | 0/100 [00:00<?, ?%/s]"
      ]
     },
     "metadata": {},
     "output_type": "display_data"
    },
    {
     "name": "stderr",
     "output_type": "stream",
     "text": [
      "Simulation to t=145.00 sec completed in 0.0472 seconds.\n"
     ]
    },
    {
     "data": {
      "application/vnd.jupyter.widget-view+json": {
       "model_id": "a8cb24aea2fd470c85f63cee6b409713",
       "version_major": 2,
       "version_minor": 0
      },
      "text/plain": [
       "  0%|          | 0/100 [00:00<?, ?%/s]"
      ]
     },
     "metadata": {},
     "output_type": "display_data"
    },
    {
     "name": "stderr",
     "output_type": "stream",
     "text": [
      "Simulation to t=146.00 sec completed in 0.0521 seconds.\n"
     ]
    },
    {
     "data": {
      "application/vnd.jupyter.widget-view+json": {
       "model_id": "2c4d330ee0754313b5394616eae3f7ee",
       "version_major": 2,
       "version_minor": 0
      },
      "text/plain": [
       "  0%|          | 0/100 [00:00<?, ?%/s]"
      ]
     },
     "metadata": {},
     "output_type": "display_data"
    },
    {
     "name": "stderr",
     "output_type": "stream",
     "text": [
      "Simulation to t=147.00 sec completed in 0.0548 seconds.\n"
     ]
    },
    {
     "data": {
      "application/vnd.jupyter.widget-view+json": {
       "model_id": "c1fd7a61968e4a939c3402a13b0f52b2",
       "version_major": 2,
       "version_minor": 0
      },
      "text/plain": [
       "  0%|          | 0/100 [00:00<?, ?%/s]"
      ]
     },
     "metadata": {},
     "output_type": "display_data"
    },
    {
     "name": "stderr",
     "output_type": "stream",
     "text": [
      "Simulation to t=148.00 sec completed in 0.0542 seconds.\n"
     ]
    },
    {
     "data": {
      "application/vnd.jupyter.widget-view+json": {
       "model_id": "4ad7c765259a433db3a044db914538f7",
       "version_major": 2,
       "version_minor": 0
      },
      "text/plain": [
       "  0%|          | 0/100 [00:00<?, ?%/s]"
      ]
     },
     "metadata": {},
     "output_type": "display_data"
    },
    {
     "name": "stderr",
     "output_type": "stream",
     "text": [
      "Simulation to t=149.00 sec completed in 0.0872 seconds.\n"
     ]
    },
    {
     "data": {
      "application/vnd.jupyter.widget-view+json": {
       "model_id": "96e8cff26ad0487c9492bb2793cf8bd0",
       "version_major": 2,
       "version_minor": 0
      },
      "text/plain": [
       "  0%|          | 0/100 [00:00<?, ?%/s]"
      ]
     },
     "metadata": {},
     "output_type": "display_data"
    },
    {
     "name": "stderr",
     "output_type": "stream",
     "text": [
      "Simulation to t=150.00 sec completed in 0.0541 seconds.\n"
     ]
    },
    {
     "data": {
      "application/vnd.jupyter.widget-view+json": {
       "model_id": "f7ab62ce9fd046a2a83454853fb0a0d9",
       "version_major": 2,
       "version_minor": 0
      },
      "text/plain": [
       "  0%|          | 0/100 [00:00<?, ?%/s]"
      ]
     },
     "metadata": {},
     "output_type": "display_data"
    },
    {
     "name": "stderr",
     "output_type": "stream",
     "text": [
      "Simulation to t=151.00 sec completed in 0.0519 seconds.\n"
     ]
    },
    {
     "data": {
      "application/vnd.jupyter.widget-view+json": {
       "model_id": "a083639835884bbda9bfa6f65d644920",
       "version_major": 2,
       "version_minor": 0
      },
      "text/plain": [
       "  0%|          | 0/100 [00:00<?, ?%/s]"
      ]
     },
     "metadata": {},
     "output_type": "display_data"
    },
    {
     "name": "stderr",
     "output_type": "stream",
     "text": [
      "Simulation to t=152.00 sec completed in 0.0634 seconds.\n"
     ]
    },
    {
     "data": {
      "application/vnd.jupyter.widget-view+json": {
       "model_id": "b1ffa43f94ed4095847434180c4f3c71",
       "version_major": 2,
       "version_minor": 0
      },
      "text/plain": [
       "  0%|          | 0/100 [00:00<?, ?%/s]"
      ]
     },
     "metadata": {},
     "output_type": "display_data"
    },
    {
     "name": "stderr",
     "output_type": "stream",
     "text": [
      "Simulation to t=153.00 sec completed in 0.0553 seconds.\n"
     ]
    },
    {
     "data": {
      "application/vnd.jupyter.widget-view+json": {
       "model_id": "982c3785c37f4551855aee25f3d48ca1",
       "version_major": 2,
       "version_minor": 0
      },
      "text/plain": [
       "  0%|          | 0/100 [00:00<?, ?%/s]"
      ]
     },
     "metadata": {},
     "output_type": "display_data"
    },
    {
     "name": "stderr",
     "output_type": "stream",
     "text": [
      "Simulation to t=154.00 sec completed in 0.0610 seconds.\n"
     ]
    },
    {
     "data": {
      "application/vnd.jupyter.widget-view+json": {
       "model_id": "1ebcf490c11b435ab9fb0adb65bdb4fe",
       "version_major": 2,
       "version_minor": 0
      },
      "text/plain": [
       "  0%|          | 0/100 [00:00<?, ?%/s]"
      ]
     },
     "metadata": {},
     "output_type": "display_data"
    },
    {
     "name": "stderr",
     "output_type": "stream",
     "text": [
      "Simulation to t=155.00 sec completed in 0.0480 seconds.\n"
     ]
    },
    {
     "data": {
      "application/vnd.jupyter.widget-view+json": {
       "model_id": "e7d4d8189346461d8208e851cb648229",
       "version_major": 2,
       "version_minor": 0
      },
      "text/plain": [
       "  0%|          | 0/100 [00:00<?, ?%/s]"
      ]
     },
     "metadata": {},
     "output_type": "display_data"
    },
    {
     "name": "stderr",
     "output_type": "stream",
     "text": [
      "Simulation to t=156.00 sec completed in 0.0484 seconds.\n"
     ]
    },
    {
     "data": {
      "application/vnd.jupyter.widget-view+json": {
       "model_id": "2610cc23bed948fc8d4fb1e0afbc207b",
       "version_major": 2,
       "version_minor": 0
      },
      "text/plain": [
       "  0%|          | 0/100 [00:00<?, ?%/s]"
      ]
     },
     "metadata": {},
     "output_type": "display_data"
    },
    {
     "name": "stderr",
     "output_type": "stream",
     "text": [
      "Simulation to t=157.00 sec completed in 0.0595 seconds.\n"
     ]
    },
    {
     "data": {
      "application/vnd.jupyter.widget-view+json": {
       "model_id": "22ad99da77284a01bb231fd32e2f20a6",
       "version_major": 2,
       "version_minor": 0
      },
      "text/plain": [
       "  0%|          | 0/100 [00:00<?, ?%/s]"
      ]
     },
     "metadata": {},
     "output_type": "display_data"
    },
    {
     "name": "stderr",
     "output_type": "stream",
     "text": [
      "Simulation to t=158.00 sec completed in 0.0525 seconds.\n"
     ]
    },
    {
     "data": {
      "application/vnd.jupyter.widget-view+json": {
       "model_id": "ce16eb5bb9d946a3ac1b705dddd9fcac",
       "version_major": 2,
       "version_minor": 0
      },
      "text/plain": [
       "  0%|          | 0/100 [00:00<?, ?%/s]"
      ]
     },
     "metadata": {},
     "output_type": "display_data"
    },
    {
     "name": "stderr",
     "output_type": "stream",
     "text": [
      "Simulation to t=159.00 sec completed in 0.0545 seconds.\n"
     ]
    },
    {
     "data": {
      "application/vnd.jupyter.widget-view+json": {
       "model_id": "1a1d80c143bb4f7987b217cba013a831",
       "version_major": 2,
       "version_minor": 0
      },
      "text/plain": [
       "  0%|          | 0/100 [00:00<?, ?%/s]"
      ]
     },
     "metadata": {},
     "output_type": "display_data"
    },
    {
     "name": "stderr",
     "output_type": "stream",
     "text": [
      "Simulation to t=160.00 sec completed in 0.0732 seconds.\n"
     ]
    },
    {
     "data": {
      "application/vnd.jupyter.widget-view+json": {
       "model_id": "e6156115a3334a5c9766a01ff8b91929",
       "version_major": 2,
       "version_minor": 0
      },
      "text/plain": [
       "  0%|          | 0/100 [00:00<?, ?%/s]"
      ]
     },
     "metadata": {},
     "output_type": "display_data"
    },
    {
     "name": "stderr",
     "output_type": "stream",
     "text": [
      "Simulation to t=161.00 sec completed in 0.0608 seconds.\n"
     ]
    },
    {
     "data": {
      "application/vnd.jupyter.widget-view+json": {
       "model_id": "a0e92a96a2eb4b79b06d31ede1f220d8",
       "version_major": 2,
       "version_minor": 0
      },
      "text/plain": [
       "  0%|          | 0/100 [00:00<?, ?%/s]"
      ]
     },
     "metadata": {},
     "output_type": "display_data"
    },
    {
     "name": "stderr",
     "output_type": "stream",
     "text": [
      "Simulation to t=162.00 sec completed in 0.0625 seconds.\n"
     ]
    },
    {
     "data": {
      "application/vnd.jupyter.widget-view+json": {
       "model_id": "79ce3cb93a2340a5861ff79149aa1fd3",
       "version_major": 2,
       "version_minor": 0
      },
      "text/plain": [
       "  0%|          | 0/100 [00:00<?, ?%/s]"
      ]
     },
     "metadata": {},
     "output_type": "display_data"
    }
   ],
   "source": [
    "# Reserve some capacity to avoid TDS crush\n",
    "ssp.gen.max_p_mw = ssp.gen.max_p_mw\n",
    "\n",
    "# store original generator data\n",
    "ssp_gen0 = ssp.gen.copy()\n",
    "\n",
    "for end_time in range(400):  # t_total\n",
    "    # --- interval RTED ---\n",
    "    if end_time % intv_ed == 0:\n",
    "        idx_ed = end_time // intv_ed\n",
    "        # --- Load update ---\n",
    "        du, dd, load_exp = dp_calc(d_syn, idx_ed, intv_ed)\n",
    "        ssp.load['p_mw'] = ssa_p0 * ssp.sn_mva * load_exp\n",
    "        ssp.load['q_mvar'] = ssa_q0 * ssp.sn_mva * load_exp\n",
    "        ssd.load['p0'] = ssa_p0 * load_exp\n",
    "        ssd.update_dict()\n",
    "\n",
    "        # --- RTED, update gen limits after SFR ---\n",
    "        if end_time > 0:\n",
    "            # get pe from TDS and sort\n",
    "            pe_tds = get_pe(ssa, ssa_gov_idx, ssa_dg_idx, ssa_key2)\n",
    "            pe_tds = pe_tds.merge(ssa_key2,\n",
    "                                  on='stg_idx', how='right').groupby('stg_idx', as_index=False).sum()\n",
    "            p_pre = pe_tds\n",
    "            ssd.gen.p_pre = pd.merge(left=ssd.gen, how='left', on='idx',\n",
    "                                     right=pe_tds[['stg_idx', 'pe']].rename(columns={'stg_idx': 'idx'}))['pe']\n",
    "        else:\n",
    "            # DCOPF results as the initial previous setpoints\n",
    "            ssd.set_p_pre()\n",
    "            p_pre = ssd.gen[['idx', 'p_pre']].rename(columns={'p_pre': 'pe', 'idx': 'stg_idx'})\n",
    "\n",
    "        # def sfr requirements and ev sfr limtis (p.u.)\n",
    "        # Integrate EV; EV limits FROM EVA;\n",
    "        [prumax, prdmax] = sse.g_frc()\n",
    "        ssd.def_type2([ev_idx], [prumax], [prdmax])\n",
    "        ssd.def_sfr(du=du*ssa_p0_sum, dd=dd*ssa_p0_sum)\n",
    "\n",
    "        # build and solve the RTED-DC\n",
    "        dcres = ssd.get_res()  # get RTED-DC resutls\n",
    "        # TODO: Integrate EV; send SFR back to EV\n",
    "\n",
    "        # Reserve SFR and ramp from Generator limits in ``ssp``\n",
    "        ssp_gen = pd.merge(left=ssp.gen.rename(columns={'name': 'stg_idx'}),\n",
    "                           right=dcres.rename(columns={'gen': 'stg_idx'}),\n",
    "                           on='stg_idx', how='left')\n",
    "        # SFR limits\n",
    "        ssp_gen['max_sfr'] = ssp_gen.max_p_mw - ssp_gen.pru * ssp.sn_mva\n",
    "        ssp_gen['min_sfr'] = ssp_gen.min_p_mw + ssp_gen.prd * ssp.sn_mva\n",
    "        # ramp limits\n",
    "        p_pre_pp = pd.merge(left=ssp.gen.rename(columns={'name': 'stg_idx'}),\n",
    "                            right=p_pre[['stg_idx', 'pe']],\n",
    "                            on='stg_idx', how='left')['pe']\n",
    "        ssp_gen['max_ramp'] = ssp.sn_mva * (np.array(p_pre_pp) + np.array(ssd.gen.ramp5))\n",
    "        ssp_gen['min_ramp'] = ssp.sn_mva * (np.array(p_pre_pp) - np.array(ssd.gen.ramp5))\n",
    "        # alter generator limits\n",
    "        ssp.gen.max_p_mw = ssp_gen[['max_sfr', 'max_ramp']].min(axis=1)\n",
    "        ssp.gen.min_p_mw = ssp_gen[['min_sfr', 'min_ramp']].max(axis=1)\n",
    "\n",
    "        # --- ACOPF, update setpoints ---\n",
    "        # store setpoints\n",
    "        if end_time > 0:\n",
    "            p0 = ssp_res['p'].values  # store setpoints\n",
    "        else:\n",
    "            p0 = [0] * ssa_key2.shape[0]\n",
    "\n",
    "        # run ACOPF\n",
    "        ssp_res = runopp_map(ssp, ssa_key)  # ACOPF resutls\n",
    "        ssp_res['p0'] = p0                  # last setpoints\n",
    "        ssp_res.fillna(False, inplace=True)  # Fill NA wil False\n",
    "\n",
    "        # reset Generator limtis\n",
    "        ssp.gen.max_p_mw = ssp_gen0.max_p_mw\n",
    "        ssp.gen.min_p_mw = ssp_gen0.min_p_mw\n",
    "\n",
    "    # --- interval AGC ---\n",
    "    ace_gain = 1\n",
    "    if end_time % intv_agc == 0:\n",
    "        idx_agc = end_time // intv_agc - idx_ed * n_agc\n",
    "        # --- AGC allocation, with a power cap ---\n",
    "        ACE_input = min(ACE_raw, dcres.pru.sum())\n",
    "        if ACE_raw >= 0:\n",
    "            ACE_input = min(ACE_raw, dcres.pru.sum())\n",
    "            agc_table['paux'] = ACE_input * ace_gain * dcres.bu.values\n",
    "        else:\n",
    "            ACE_input = max(ACE_raw, -1 * dcres.prd.sum())\n",
    "            agc_table['paux'] = ACE_input * ace_gain * dcres.bd.values\n",
    "        agc_res[f'{end_time}'] = agc_table['paux']\n",
    "        ace_data = [end_time, ACE_raw, dcres.pru.sum(),\n",
    "                    -1*dcres.prd.sum(), ACE_input]\n",
    "        ace_new = pd.DataFrame([ace_data], columns=['time', 'ace', 'up', 'dn', 'in'])\n",
    "        ace_res = pd.concat([ace_res, ace_new])\n",
    "\n",
    "        # --- Do AGC ---\n",
    "        # a.SynGen\n",
    "        agc_syg = pd.merge(left=agc_table,\n",
    "                           right=ssa_key2,\n",
    "                           on='stg_idx', how='right')\n",
    "        agc_syg['paux2'] = agc_syg.paux * agc_syg.gammap\n",
    "        cond_gov = agc_syg.ctrl * agc_syg.gov_idx.astype(bool)\n",
    "        agc_gov = agc_syg.gov_idx[cond_gov].tolist()\n",
    "        ssa.TurbineGov.set(src='paux0', idx=agc_gov, attr='v',\n",
    "                           value=agc_syg.paux2.values)\n",
    "        # b.DG;\n",
    "        agc_dg = pd.merge(left=agc_table,\n",
    "                          right=ssa_key2,\n",
    "                          on='stg_idx', how='right')\n",
    "        agc_dg['paux2'] = agc_dg.paux * agc_dg.gammap\n",
    "        cond_dg = agc_dg.ctrl * agc_dg.dg_idx.astype(bool)\n",
    "        agc_dg_idx = agc_dg.dg_idx[cond_dg].tolist()\n",
    "        ssa.DG.set(src='pext0', idx=agc_dg_idx, attr='v',\n",
    "                   value=agc_dg.paux2.values)\n",
    "        # TODO: c.EV;\n",
    "        agc_ev = pd.merge(left=agc_table,\n",
    "                          right=ssa_key2,\n",
    "                          on='stg_idx', how='right')\n",
    "        agc_ev['paux2'] = agc_ev.paux * agc_ev.gammap\n",
    "        sse_agc = agc_ev[agc_ev.stg_idx == ev_idx].paux2.values\n",
    "\n",
    "        # --- smooth setpoints ---\n",
    "        if idx_ed == 0:\n",
    "            ssp_res['pref'] = ssp_res['p']\n",
    "        else:\n",
    "            print(\"SMOOTH\")\n",
    "            if idx_agc == 0:\n",
    "                # only record the pe from TDS in the first AGC interval\n",
    "                copy = ssp_res.merge(right=pe_tds[['pe', 'stg_idx']], on='stg_idx', how='left')\n",
    "                ssp_res['pe_tds'] = copy.pe\n",
    "            idx_step = min((end_time - idx_ed * intv_ed) // intv_agc + 1, n_step)\n",
    "            ssp_res['pref_step'] = ssp_res.p - ssp_res.pe_tds\n",
    "            # smooth change threshold: 0.1\n",
    "            large_index = ssp_res['pref_step'][abs(ssp_res['pref_step']) > 0.01].index\n",
    "            ssp_res['pref_delta'] = ssp_res['pref_step']\n",
    "            ssp_res['pref_delta'].iloc[large_index] = ssp_res['pref_step'].iloc[large_index] / n_step * idx_step\n",
    "            ssp_res['pref'] = ssp_res.pe_tds + ssp_res.pref_delta\n",
    "\n",
    "            # update SynGen setpoints\n",
    "            cond_gov = ssp_res.controllable & ssp_res.gov_idx.astype(bool)\n",
    "            ssa.TurbineGov.set(src='pref0', idx=ssp_res.gov_idx[cond_gov].tolist(),\n",
    "                               attr='v', value=ssp_res.pref[cond_gov].values)\n",
    "            # update DG setpoints;\n",
    "            cond_dg = ssp_res.controllable & ssp_res.dg_idx.astype(bool)\n",
    "            ssa.DG.set(src='pref0', idx=ssp_res.dg_idx[cond_dg].tolist(),\n",
    "                       attr='v', value=ssp_res.pref[cond_dg].values)\n",
    "\n",
    "    # --- intv_pq: alter load, run TDS ---\n",
    "    if end_time == 0:\n",
    "        # Initially, alter StaticGen: p0 and q0, RUN power flow\n",
    "        stg_opf_idx = ssp_res.stg_idx[ssp_res.controllable].tolist()\n",
    "        stg_opf_val = ssp_res.p[ssp_res.controllable].tolist()\n",
    "        stg_opf_v = ssp_res.vm_pu[ssp_res.controllable].tolist()\n",
    "        ssa.StaticGen.set(src='p0', idx=stg_opf_idx, attr='v', value=stg_opf_val)\n",
    "        ssa.StaticGen.set(src='v0', idx=stg_opf_idx, attr='v', value=stg_opf_v)\n",
    "        ssa.PQ.set(src='p0', idx=ssa_pq_idx, attr='v',\n",
    "                   value=ssa_p0 * load_exp)\n",
    "        ssa.PQ.set(src='q0', idx=ssa_pq_idx, attr='v',\n",
    "                   value=ssa_q0 * load_exp)\n",
    "        ssa.PFlow.run()\n",
    "    else:\n",
    "        # Otherwise, alter Ppf and Qpf\n",
    "        ssa.PQ.set(src='Ppf', idx=ssa_pq_idx, attr='v',\n",
    "                   value=ssa_p0 * d_syn['s10'].iloc[end_time])\n",
    "        ssa.PQ.set(src='Qpf', idx=ssa_pq_idx, attr='v',\n",
    "                   value=ssa_q0 * d_syn['s10'].iloc[end_time])\n",
    "        # TODO: EV\n",
    "        sse.run(tf=10+end_time/3600, Pi=sse_agc[0], is_update=True, disable=True)\n",
    "        sse.report(is_report=False)\n",
    "        ssa.DG.set(src='pref0', idx=ssp_res.dg_idx[ssp_res.stg_idx == ev_idx].values[0],\n",
    "                   attr='v', value=sse.Ptc)\n",
    "\n",
    "    # RUN TDS\n",
    "    ssa.TDS.config.tf = end_time\n",
    "    if end_time == 0:\n",
    "        ssa.TDS.init()\n",
    "    ssa.TDS.run()\n",
    "    # ACE calculation\n",
    "    ACE_integral = ACE_integral + ssa.ACEc.ace.v.sum()\n",
    "    ACE_raw = -(Kp*ssa.ACEc.ace.v.sum() + Ki*ACE_integral)\n",
    "\n",
    "    # ACE_raw = 0  # delete when run TDS\n",
    "    # break loop if TDS run into error\n",
    "    if ssa.exit_code != 0:\n",
    "        raise ValueError(f\"TDS error! Exit with {ssa.exit_code}, end at {end_time}s.\")\n"
   ]
  },
  {
   "cell_type": "code",
   "execution_count": null,
   "metadata": {},
   "outputs": [],
   "source": [
    "ssa.exit_code"
   ]
  },
  {
   "cell_type": "code",
   "execution_count": null,
   "metadata": {
    "scrolled": false
   },
   "outputs": [],
   "source": [
    "# color=['tab:blue', 'tab:orange', 'tab:green',\n",
    "#        'tab:red', 'tab:purple']\n",
    "right = end_time\n",
    "\n",
    "fig_gen, ax_gen = plt.subplots(2, 3, figsize=(16, 8))\n",
    "plt.subplots_adjust(left=None, bottom=None, right=None,\n",
    "                    top=None, wspace=0.3, hspace=0.6)\n",
    "\n",
    "yheader = [f'G{i}' for i in range(1, 11)]\n",
    "\n",
    "ssa.TDS.plt.plot(ssa.TGOV1N.pout,\n",
    "                 linestyles=['-'],\n",
    "                 yheader=yheader,\n",
    "                 legend=True, show=False, right=right,\n",
    "                 title=r'Generation (solid: pout; dash: pref)',\n",
    "                 ylabel='p.u.',\n",
    "                 fig=fig_gen, ax=ax_gen[0, 0])\n",
    "\n",
    "ssa.TDS.plt.plot(ssa.TGOV1N.pref,\n",
    "                 legend=False, show=False, right=right,\n",
    "                 linestyles=['--'],\n",
    "                 fig=fig_gen, ax=ax_gen[0, 0])\n",
    "\n",
    "ssa.TDS.plt.plot(ssa.TGOV1N.paux,\n",
    "                 linestyles=['-'],\n",
    "                 yheader=yheader,\n",
    "                 legend=False, show=False, right=right,\n",
    "                 title=r'AGC power',\n",
    "                 ylabel='p.u.',\n",
    "                 fig=fig_gen, ax=ax_gen[0, 1])\n",
    "\n",
    "ace_res.plot(linewidth=1,\n",
    "             fig=fig_gen, ax=ax_gen[0, 2],\n",
    "             x='time', y='ace',\n",
    "             title=f'AGC input and SFR capacity')\n",
    "ace_res.plot(linewidth=1,\n",
    "             fig=fig_gen, ax=ax_gen[0, 2],\n",
    "             x='time', y='in',)\n",
    "ace_res.plot(linewidth=1, color='k', linestyle='--',\n",
    "             fig=fig_gen, ax=ax_gen[0, 2],\n",
    "             x='time', y='up')\n",
    "ace_res.plot(linewidth=1, color='k', linestyle='--',\n",
    "             fig=fig_gen, ax=ax_gen[0, 2],\n",
    "             x='time', y='dn')\n",
    "ax_gen[0, 2].set_ylabel('p.u.')\n",
    "ax_gen[0, 2].legend(['ACE raw', 'AGC input', 'SFR capacity'])\n",
    "\n",
    "ssa.TDS.plt.plot(ssa.COI.omega,\n",
    "                 legend=False, show=False, right=right,\n",
    "                 linestyles=['-'],\n",
    "                 ytimes=60,\n",
    "                 title=r'COI Frequency',\n",
    "                 ylabel='Hz',\n",
    "                 fig=fig_gen, ax=ax_gen[1, 0])\n",
    "\n",
    "ssa.TDS.plt.plot(ssa.ACEc.ace,\n",
    "                 legend=False, show=False, right=right,\n",
    "                 linestyles=['-'],\n",
    "                 title=r'ACE',\n",
    "                 ylabel='p.u.',\n",
    "                 fig=fig_gen, ax=ax_gen[1, 1])\n",
    "\n",
    "ace_tds = ssa.dae.ts.y[:, ssa.ACEc.ace.a].reshape(-1).copy()\n",
    "ace_df = pd.DataFrame()\n",
    "ace_df['ace'] = ace_tds\n",
    "ace_df.plot(kind='kde', legend=False, linewidth=1,\n",
    "            fig=fig_gen, ax=ax_gen[1, 2],\n",
    "            title=f'ACE Density, mean={ace_df.ace.mean().round(4)}')\n",
    "ax_gen[1, 2].set(xlabel='Deviation [p.u.]', ylabel='')\n"
   ]
  },
  {
   "cell_type": "code",
   "execution_count": null,
   "metadata": {},
   "outputs": [],
   "source": [
    "agc_table"
   ]
  },
  {
   "cell_type": "code",
   "execution_count": null,
   "metadata": {},
   "outputs": [],
   "source": [
    "sse.ep()"
   ]
  },
  {
   "cell_type": "code",
   "execution_count": null,
   "metadata": {},
   "outputs": [],
   "source": [
    "sse.plot()"
   ]
  }
 ],
 "metadata": {
  "interpreter": {
   "hash": "ef6cb5c8d99d66a3614f491d51fd40cd94c9138687df3d2045e3a510da5efc66"
  },
  "kernelspec": {
   "display_name": "Python3",
   "language": "python",
   "name": "andes"
  },
  "language_info": {
   "codemirror_mode": {
    "name": "ipython",
    "version": 3
   },
   "file_extension": ".py",
   "mimetype": "text/x-python",
   "name": "python",
   "nbconvert_exporter": "python",
   "pygments_lexer": "ipython3",
   "version": "3.9.12"
  },
  "varInspector": {
   "cols": {
    "lenName": 16,
    "lenType": 16,
    "lenVar": 40
   },
   "kernels_config": {
    "python": {
     "delete_cmd_postfix": "",
     "delete_cmd_prefix": "del ",
     "library": "var_list.py",
     "varRefreshCmd": "print(var_dic_list())"
    },
    "r": {
     "delete_cmd_postfix": ") ",
     "delete_cmd_prefix": "rm(",
     "library": "var_list.r",
     "varRefreshCmd": "cat(var_dic_list()) "
    }
   },
   "types_to_exclude": [
    "module",
    "function",
    "builtin_function_or_method",
    "instance",
    "_Feature"
   ],
   "window_display": false
  }
 },
 "nbformat": 4,
 "nbformat_minor": 4
}
