{
 "cells": [
  {
   "cell_type": "markdown",
   "metadata": {},
   "source": [
    "# RTED-TDS Co-Sim\n",
    "\n",
    "Authored by [Jinning Wang](https://scholar.google.com/citations?user=Wr7nQZAAAAAJ&hl=en&oi=ao), recently updated on 06/06/2022.\n",
    "\n",
    "This notebook is used to implement the Co-Simulation of Real Time Economic Dispatch (RTED) and Time-Domain Simulation (TDS).\n",
    "In the RTED, SFR is considered. In the TDS, AGC is implemented with an equation defined PI controller.\n",
    "\n",
    "RTED is seperated into two DCOPF and ACOPF: 1) DCOPF with SFR is solved in gurobipy, which is packaged into the class ``rted`` in the file ``rted.py``. 2) ACOPF is solved in pandapower.\n",
    "\n",
    "Class ``rted2`` has attributes ``mdl`` which is a gurobipy model.\n",
    "\n",
    "Table of contents:\n",
    "- Import case: import ADNES case\n",
    "- Load synthetic: build load curve as a scalar\n",
    "- Setup ``ssp`` and ``ssd``\n",
    "- Prepare: define some functions\n",
    "- Define param: define RTED loop parameters\n",
    "- Loop: Co-Sim loop\n",
    "\n",
    "List of major vars:\n",
    "\n",
    "- ``ssa`` ANDES system\n",
    "- ``ssp`` pandapower net\n",
    "- ``ssd`` DCOPF instance\n",
    "- ``sse`` EV aggregator\n",
    "\n",
    "Things need to be done when switching to other cases:\n",
    "- Assign generator cost data. The rows of gen_cost array should be the same with the length of ``ssp.gen``\n",
    "  including those uncontrollable ones, so the DCOPF model can build correctly.\n",
    "- Define generator controllability of ``ssp``, all generators are controllable by default\n",
    "- Define power system data: SFR cost, ramp limit (5-min-based)\n",
    "- Define generator type in ``ssd``, default as type I. For type I generator, generator limtis have impact on both generation and SFR capacity. For yype II generator, SFR capacity is determined by param ``pru_max`` and ``prd_max``\n",
    "\n",
    "Environment requirements:\n",
    "- ANDES (1.6.3+)\n",
    "- pandapower (2.7.0 is tested to be function correctly)\n",
    "- gurobipy\n",
    "- pandas, matplotlib, scipy"
   ]
  },
  {
   "cell_type": "markdown",
   "metadata": {},
   "source": [
    "## Import case"
   ]
  },
  {
   "cell_type": "code",
   "execution_count": null,
   "metadata": {
    "ExecuteTime": {
     "end_time": "2021-03-20T14:50:27.821845Z",
     "start_time": "2021-03-20T14:50:27.457672Z"
    },
    "execution": {
     "iopub.execute_input": "2021-09-26T22:41:51.096056Z",
     "iopub.status.busy": "2021-09-26T22:41:51.095687Z",
     "iopub.status.idle": "2021-09-26T22:41:51.787388Z",
     "shell.execute_reply": "2021-09-26T22:41:51.787697Z"
    }
   },
   "outputs": [],
   "source": [
    "import os\n",
    "\n",
    "import pandas as pd\n",
    "import numpy as np\n",
    "import matplotlib.pyplot as plt\n",
    "import scipy.stats as stat\n",
    "from math import floor\n",
    "\n",
    "import andes\n",
    "from andes.interop.pandapower import to_pandapower, make_link_table, runopp_map\n",
    "from andes.interop.pandapower import add_gencost, build_group_table\n",
    "andes.config_logger(stream_level=20)\n",
    "\n",
    "import pandapower as pp\n",
    "\n",
    "from jams import rted2\n",
    "\n",
    "from ev_ssm import ev_ssm"
   ]
  },
  {
   "cell_type": "markdown",
   "metadata": {},
   "source": [
    "Package version"
   ]
  },
  {
   "cell_type": "code",
   "execution_count": null,
   "metadata": {},
   "outputs": [],
   "source": [
    "print(andes.__version__)\n",
    "print(pp.__version__)"
   ]
  },
  {
   "cell_type": "markdown",
   "metadata": {},
   "source": [
    "EV aggregator\n",
    "\n",
    "`caseH` is the start time [H] of the co-simulation, now 10 and 18 are supported."
   ]
  },
  {
   "cell_type": "code",
   "execution_count": null,
   "metadata": {},
   "outputs": [],
   "source": [
    "caseH = 10\n",
    "sse = ev_ssm(ts=caseH, N=10000, step=1, tp=40,\n",
    "             lr=0.1, lp=40, seed=2022, name=\"EVA\")\n",
    "sse.load_A(\"Aest.csv\")"
   ]
  },
  {
   "cell_type": "markdown",
   "metadata": {},
   "source": [
    "Import ADNES case"
   ]
  },
  {
   "cell_type": "code",
   "execution_count": null,
   "metadata": {
    "ExecuteTime": {
     "end_time": "2021-03-20T14:50:33.843520Z",
     "start_time": "2021-03-20T14:50:33.664077Z"
    },
    "execution": {
     "iopub.execute_input": "2021-09-26T22:41:59.401976Z",
     "iopub.status.busy": "2021-09-26T22:41:59.401670Z",
     "iopub.status.idle": "2021-09-26T22:41:59.781185Z",
     "shell.execute_reply": "2021-09-26T22:41:59.780928Z"
    }
   },
   "outputs": [],
   "source": [
    "# ss0 is used for PP conversion\n",
    "dir_path = os.path.abspath('..')\n",
    "case_path = '/case/ieee39_ev2.xlsx'\n",
    "case = dir_path + case_path\n",
    "ssa = andes.load(case,\n",
    "                 setup=True,\n",
    "                 no_output=True,\n",
    "                 default_config=False)\n",
    "stg0idx = ssa.PV.idx.v + ssa.Slack.idx.v\n",
    "pm0 = ssa.StaticGen.get(src='pmax', attr='v', idx=stg0idx)\n",
    "ssa.StaticGen.set(src='pmax', attr='v', idx=stg0idx, value=2*pm0)"
   ]
  },
  {
   "cell_type": "markdown",
   "metadata": {},
   "source": [
    "Set output mode as 'manual', turn off TDS progress bar"
   ]
  },
  {
   "cell_type": "code",
   "execution_count": null,
   "metadata": {},
   "outputs": [],
   "source": [
    "ssa.TDS.config.save_mode = 'manual'\n",
    "ssa.TDS.config.no_tqdm = 1"
   ]
  },
  {
   "cell_type": "markdown",
   "metadata": {},
   "source": [
    "Set load as constant load."
   ]
  },
  {
   "cell_type": "code",
   "execution_count": null,
   "metadata": {},
   "outputs": [],
   "source": [
    "ssa.PQ.config.p2p = 1\n",
    "ssa.PQ.config.q2q = 1\n",
    "ssa.PQ.config.p2z = 0\n",
    "ssa.PQ.config.q2z = 0\n",
    "ssa.PQ.pq2z = 0"
   ]
  },
  {
   "cell_type": "markdown",
   "metadata": {},
   "source": [
    "Turn on ``numba`` can accelerate TDS."
   ]
  },
  {
   "cell_type": "code",
   "execution_count": null,
   "metadata": {},
   "outputs": [],
   "source": [
    "ssa.config.numba"
   ]
  },
  {
   "cell_type": "markdown",
   "metadata": {},
   "source": [
    "## Load synthetic\n",
    "\n",
    "Create load data ``d_syn``, which is a ``DataFrame`` that have three columns: ``time``, ``s10``, ``h10``. ``time`` is by seconds, ``s10`` is scalar load."
   ]
  },
  {
   "cell_type": "code",
   "execution_count": null,
   "metadata": {
    "scrolled": false
   },
   "outputs": [],
   "source": [
    "# --- read load from ssa ---\n",
    "ptotal = ssa.PQ.as_df()['p0'].sum()\n",
    "print('ANDES total load is:',ptotal.round(4),'p.u.')\n",
    "\n",
    "# --- scale load curve ---\n",
    "ddata_path = '/case/dsyn.csv'\n",
    "ddata = dir_path + ddata_path\n",
    "d_syn = pd.read_csv(ddata)\n",
    "\n",
    "# the coefficient can be adjusted to fit the case\n",
    "if caseH == 10:\n",
    "    d_syn['sload'] = 0.8*(d_syn['ha10'] - d_syn['ha10'].min()) / d_syn['ha10'].min() + 1\n",
    "if caseH == 18:\n",
    "    d_syn['sload'] = 2*(d_syn['ha18'] - d_syn['ha18'].min()) / d_syn['ha18'].min() + 1\n",
    "\n",
    "# extensify fluc\n",
    "avg = d_syn['sload'].rolling(100).mean()\n",
    "d_syn['sload'] = 1.5 * (d_syn['sload'] - avg) + avg\n",
    "    \n",
    "# calculate expected load\n",
    "step = 300\n",
    "d_exp = d_syn.groupby(d_syn.index // step).mean().copy()\n",
    "d_exp['time'] = range(0,3600,300)\n",
    "\n",
    "# align starting point of load with starting point of dispatch results\n",
    "d_syn['sload'][0] = d_exp['sload'].iloc[0]\n",
    "d_syn['sload'][1:100] = None\n",
    "d_syn['sload'] = d_syn['sload'].interpolate(method='polynomial', order=3)\n",
    "\n",
    "# --- plot load curve ---\n",
    "fig_load, ax_load = plt.subplots(figsize=(5, 4))\n",
    "ax_load.plot(d_syn['time'], d_syn['sload'], color='tab:blue', linestyle='-')\n",
    "ystep = list(d_exp['sload'])\n",
    "ystep.insert(0, d_exp['sload'].iloc[0])\n",
    "ax_load.step(range(0,3900,300), ystep, color='tab:blue', linestyle='--')\n",
    "ax_load.set_xlim([0, 3600])\n",
    "ax_load.legend(['Actual load', 'Forecasted load'])\n",
    "ax_load.set_title(f'Load profile at {caseH}H')\n",
    "ax_load.set_ylabel('ratio')\n",
    "ax_load.set_xlabel('Time [s]')"
   ]
  },
  {
   "cell_type": "markdown",
   "metadata": {},
   "source": [
    "## Setup ``ssp`` and ``ssd``\n",
    "\n",
    "Convert ``ssa`` to pandapower net ``ssp``, add generator cost\n",
    "\n",
    "The input cost array follow the matpower/pypower format, now only poly_cost is supported"
   ]
  },
  {
   "cell_type": "code",
   "execution_count": null,
   "metadata": {},
   "outputs": [],
   "source": [
    "# --- set up EV generator data ---\n",
    "\n",
    "ev_idx = 'PV_10'\n",
    "ssa.PV.set(src='p0', idx=ev_idx, attr='v', value=sse.Ptc)\n",
    "ssa.PV.set(src='pmax', idx=ev_idx, attr='v', value=sse.Pu)\n",
    "ssa.PV.set(src='pmin', idx=ev_idx, attr='v', value=sse.Pl)"
   ]
  },
  {
   "cell_type": "code",
   "execution_count": null,
   "metadata": {},
   "outputs": [],
   "source": [
    "# --- convert to a pandapower instance ---\n",
    "ssp = to_pandapower(ssa)\n",
    "\n",
    "# set EV generator as uncontrollable\n",
    "ssp.gen.controllable.iloc[9] = False\n",
    "\n",
    "# add gen cost, G1-11. G10 EV, G11 Slack\n",
    "linearcost = [1, 1, 1, 1, 1, 1, 1, 1, 1, 0.1, 1.5]\n",
    "\n",
    "gen_cost = np.array([[2., 0., 0., 3., 0., 0., 0.]] * ssp.gen.shape[0])\n",
    "gen_cost[:, 5] = linearcost  # c1\n",
    "\n",
    "add_gencost(ssp, gen_cost)"
   ]
  },
  {
   "cell_type": "code",
   "execution_count": null,
   "metadata": {
    "scrolled": true
   },
   "outputs": [],
   "source": [
    "ssp.gen"
   ]
  },
  {
   "cell_type": "markdown",
   "metadata": {},
   "source": [
    "Set RTED instance ``ssd``"
   ]
  },
  {
   "cell_type": "code",
   "execution_count": null,
   "metadata": {},
   "outputs": [],
   "source": [
    "ssd = rted2(name='RTED', OutputFlag=0)\n",
    "ssd.from_andes(ssa)\n",
    "ssd.build(info=False)"
   ]
  },
  {
   "cell_type": "code",
   "execution_count": null,
   "metadata": {
    "scrolled": true
   },
   "outputs": [],
   "source": [
    "ssd = rted2(name='RTED', OutputFlag=0)\n",
    "ssd.from_andes(ssa)\n",
    "ssd.build()\n",
    "\n",
    "# set EV generator as uncontrollable\n",
    "ssd.gen.ctrl.loc[ev_idx] = 0\n",
    "\n",
    "# set EV geenrator as type2\n",
    "prumax = sse.g_frc()[0]\n",
    "prdmax = sse.g_frc()[1]\n",
    "ssd.def_type2([ev_idx], [prumax], [prdmax])\n",
    "\n",
    "# set ramp5\n",
    "ramp_hour = [999, 999, 999, 999, 999, 999, 999, 999, 999, 999, 999]\n",
    "# ramp_hour = [80, 80, 80, 50, 50, 50, 30, 30, 30, 999, 30]\n",
    "ssd.gen.ramp5 = np.array(ramp_hour) * 10 / 12 / ssd.mva\n",
    "\n",
    "# set cost\n",
    "ssd.cost.c1 = linearcost\n",
    "\n",
    "# adjust SFR cost of EV lower than SynGen\n",
    "ssd.cost.cru = 0.1\n",
    "ev_loc = ssd.cost[ssd.cost.idx == ev_idx].index[0]\n",
    "ssd.cost.cru.loc[ev_idx] = 0.0999\n",
    "ssd.cost.crd = ssd.cost.cru\n",
    "\n",
    "# sovle the RTED\n",
    "ssd.solve()"
   ]
  },
  {
   "cell_type": "markdown",
   "metadata": {},
   "source": [
    "Benchmark ``ssd`` with ``ssp`` using standard DCOPF"
   ]
  },
  {
   "cell_type": "code",
   "execution_count": null,
   "metadata": {
    "scrolled": true
   },
   "outputs": [],
   "source": [
    "pp.rundcopp(ssp)\n",
    "ppres = ssp.res_gen.copy()\n",
    "ssdc = ssd.to_dcopf()\n",
    "gb_res = ssdc.get_res()\n",
    "ppres['p_mw(GB)'] = ssp.sn_mva * gb_res['pg'].values\n",
    "print(f\"pp cost={ssp.res_cost}, gb cost={ssd.res_cost}\")\n",
    "ppres"
   ]
  },
  {
   "cell_type": "markdown",
   "metadata": {},
   "source": [
    "## Prepare"
   ]
  },
  {
   "cell_type": "markdown",
   "metadata": {},
   "source": [
    "### Make link table"
   ]
  },
  {
   "cell_type": "code",
   "execution_count": null,
   "metadata": {},
   "outputs": [],
   "source": [
    "# --- link_table ---\n",
    "ssa_key = make_link_table(ssa)\n",
    "\n",
    "# --- add controllable in the link table ---\n",
    "ssa_bus = ssa.Bus.as_df().reset_index().rename(columns={'uid':'bus_pp', 'idx':'bus_idx'})\n",
    "ssp_gen = ssp.gen.reset_index().rename(columns={'index':'gen_pp', 'name':'stg_idx', 'controllable':'ctrl'})\n",
    "ssa_key2 = pd.merge(left=ssa_key,\n",
    "                    right=ssp_gen[['stg_idx', 'gen_pp', 'ctrl']],\n",
    "                    on='stg_idx', how='left')\n",
    "\n",
    "# --- device idx ---\n",
    "ssa_dg_idx = ssa_key2.dg_idx.dropna().tolist()\n",
    "ssa_syg_idx = ssa_key2.syg_idx.dropna().tolist()\n",
    "ssa_gov_idx = ssa_key2.gov_idx.dropna().tolist()\n",
    "ssa_stg_idx = ssa_key2.stg_idx.dropna().tolist()\n",
    "\n",
    "# --- online and controllable device idx ---\n",
    "ctrl_cond = ssa_key2.ctrl & ssa_key2.stg_u.astype(bool)\n",
    "ssa_dg_idx_ctrl = ssa_key2.dg_idx[ctrl_cond].dropna().tolist()\n",
    "ssa_syg_idx_ctrl = ssa_key2.syg_idx[ctrl_cond].dropna().tolist()\n",
    "ssa_gov_idx_ctrl = ssa_key2.gov_idx[ctrl_cond].dropna().tolist()\n",
    "ssa_stg_idx_ctrl = ssa_key2.stg_idx[ctrl_cond].dropna().tolist()\n",
    "\n",
    "# fill NaN with False\n",
    "ssa_key2.fillna(value=False, inplace=True)\n",
    "\n",
    "ssa_key2"
   ]
  },
  {
   "cell_type": "markdown",
   "metadata": {},
   "source": [
    "### Define functions used in loop"
   ]
  },
  {
   "cell_type": "code",
   "execution_count": null,
   "metadata": {
    "scrolled": true
   },
   "outputs": [],
   "source": [
    "# --- def. functions ---\n",
    "\n",
    "def get_pe(ssa, gov_idx, dg_idx, ssa_key2):\n",
    "    \"\"\"Get the active power (TurbineGov/DG) after TDS, a DataFrame\"\"\"\n",
    "    # TODO: may need to sum the power of same StaticGen\n",
    "    # --- TurbineGov --- \n",
    "    pe_syg = ssa.TurbineGov.get(src='pout', idx=gov_idx, attr='v')\n",
    "    # --- DG ---\n",
    "    Ip_dg = ssa.DG.get(src='Ipout_y', idx=dg_idx, attr='v')\n",
    "    v_dg = ssa.DG.get(src='v', idx=dg_idx, attr='v')\n",
    "    pe_dg = Ip_dg*v_dg\n",
    "    # --- out ---\n",
    "    pe = pd.DataFrame()\n",
    "    pe['idx'] = gov_idx + dg_idx\n",
    "    pe['pe'] = np.concatenate((pe_syg, pe_dg))\n",
    "    ldf = pd.merge(left=ssa_key2.rename(columns={'dg_idx':'idx'}),\n",
    "         right=pe, how='right', on='idx')\n",
    "    rdf = pd.merge(left=ssa_key2.rename(columns={'gov_idx':'idx'}),\n",
    "             right=pe, how='right', on='idx')\n",
    "    pe['stg_idx'] = ldf['stg_idx'].fillna('') + rdf['stg_idx'].fillna('')\n",
    "    return pe\n",
    "\n",
    "def dp_calc(d_syn, idx_ed, intv_ed, ratio=0.1):\n",
    "    \"\"\"Calc SFR requirements, scalars, ``dpd_u``and ``dpd_d``, and load forecasted value ``load_exp``\"\"\"\n",
    "    load = d_syn['sload'].iloc[idx_ed*intv_ed:(idx_ed*intv_ed + intv_ed)]\n",
    "    load_exp = load.mean()\n",
    "    # TODO: check if the estimation is reasonable\n",
    "    load_ci = stat.t.interval(alpha=0.95, df=len(load)-1, loc=np.mean(load), scale=stat.sem(load))\n",
    "    load_d = load_exp * ratio\n",
    "    load_u = load_exp * ratio\n",
    "    return load_u, load_d, load_exp"
   ]
  },
  {
   "cell_type": "markdown",
   "metadata": {},
   "source": [
    "## Define param"
   ]
  },
  {
   "cell_type": "code",
   "execution_count": null,
   "metadata": {},
   "outputs": [],
   "source": [
    "# --- co-sim constants ---\n",
    "\n",
    "rru = 1.0   # RegUp rate of EV\n",
    "rrd = 0     # RegDn rate of EV\n",
    "rsfr = 0.1  # ratio of SFR reserve out of total load\n",
    "\n",
    "t_total = 3600    # total simulation time\n",
    "\n",
    "# length of each interval\n",
    "intv_ed = 300  # RTED interval, 300s\n",
    "intv_agc = 4    # AGC interval, 4s\n",
    "intv_pq = 1     # PQ interval, 1s; alter load and AGC\n",
    "intv_step = 50 # step change interval; smooth the setpoitns\n",
    "\n",
    "# number of each interval\n",
    "n_ed = int(t_total/intv_ed)\n",
    "n_agc = int(intv_ed/intv_agc)\n",
    "n_pq = int(intv_agc/intv_pq)\n",
    "n_step = floor(intv_step/intv_agc)\n",
    "\n",
    "# --- vars ---\n",
    "# AGC table\n",
    "agc_table = ssa_key2[['stg_idx', 'dg_idx', 'rg_idx', 'syg_idx', \n",
    "                      'exc_idx', 'gov_idx', 'gammap', 'ctrl']]\n",
    "dcres = ssd.get_res()\n",
    "agc_table = agc_table.merge(dcres[['gen', 'bu', 'bd']].rename(columns={'gen': 'stg_idx'}),\n",
    "                            on='stg_idx', how='left')\n",
    "agc_table['paux'] = 0\n",
    "\n",
    "# AGC power of each unit\n",
    "agc_in = pd.DataFrame(columns=['stg_idx'] + list(np.arange(0, t_total, 4)))\n",
    "agc_in['stg_idx'] = agc_table['stg_idx']\n",
    "agc_out = agc_in.copy()\n",
    "\n",
    "# ACE vars for PI controller\n",
    "ACE_integral = 0\n",
    "ACE_raw = 0\n",
    "Kp = 0.2 # 0.05\n",
    "Ki = 0.05\n",
    "# SFR boundary and total AGC input\n",
    "sfr_res = pd.DataFrame(columns=['cat'] + list(np.arange(0, t_total, 4)))\n",
    "sfr_res['cat'] = ['time', 'ace', 'up', 'dn', 'in']\n",
    "\n",
    "# initial load value\n",
    "ssa_p0 = ssa.PQ.p0.v.copy()\n",
    "ssa_q0 = ssa.PQ.q0.v.copy()\n",
    "ssa_pq_idx = ssa.PQ.idx.v\n",
    "ssa_p0_sum = ssa_p0.sum()\n",
    "\n",
    "# EV results\n",
    "ev_soc = pd.DataFrame(columns=range(t_total))\n",
    "ev_agc = pd.DataFrame(columns=range(t_total))\n",
    "ev_soc[0] = sse.ev.soc\n",
    "ev_agc[0] = sse.ev.agc\n",
    "\n",
    "# idx\n",
    "ssp_res = runopp_map(ssp, ssa_key)\n",
    "\n",
    "cond_sch_gov = ssp_res.controllable & ssp_res.gov_idx.fillna(False).astype(bool)\n",
    "cond_sch_dg = ssp_res.controllable & ssp_res.dg_idx.fillna(False).astype(bool)\n",
    "cond_agc_gov = agc_table.ctrl * agc_table.gov_idx.fillna(False).astype(bool)\n",
    "cond_agc_dg = agc_table.ctrl * agc_table.dg_idx.fillna(False).astype(bool)\n",
    "\n",
    "sch_gov_idx = ssp_res.gov_idx[cond_sch_gov].tolist()\n",
    "sch_dg_idx = ssp_res.dg_idx[cond_sch_dg].tolist()\n",
    "agc_gov_idx = agc_table.gov_idx[cond_agc_gov].tolist()\n",
    "agc_dg_idx = agc_table.dg_idx[cond_agc_dg].tolist()\n"
   ]
  },
  {
   "cell_type": "markdown",
   "metadata": {},
   "source": [
    "## Loop\n",
    "\n",
    "In the loop, there are mainly X parts:\n",
    "\n",
    "- interval RTED: run DCOPF (``ssd.mdl``), run ACOPF(``ssp``), \n",
    "\n",
    "- interval AGC: do AGC, do dispatch with smooth setpoints\n",
    "\n",
    "- interval PQ: alter load, run TDS(``ssa.TDS``)\n",
    "\n",
    "Notes:\n",
    "\n",
    "- The setpoints for DG are coded but not verified yet.\n",
    "\n",
    "- After the development of ANDES control room, the dispatch and AGC part can be refactored.\n",
    "\n",
    "- interface variables: ``DG.pmx``: DPV profile, ``DG.pref0``: setpoints, ``DG.pext0``: AGC\n",
    "\n",
    "- ACOPF in pandapower considered generator limtis of ramping and SFR reserve"
   ]
  },
  {
   "cell_type": "markdown",
   "metadata": {},
   "source": [
    "Check if RTED converge in all 12 intervals"
   ]
  },
  {
   "cell_type": "code",
   "execution_count": null,
   "metadata": {
    "scrolled": true
   },
   "outputs": [],
   "source": [
    "# Reserve some capacity to avoid TDS crush\n",
    "ssp.gen.max_p_mw = ssp.gen.max_p_mw\n",
    "\n",
    "# store original generator data\n",
    "ssp_gen0 = ssp.gen.copy()\n",
    "\n",
    "for end_time in range(t_total):  # t_total\n",
    "    # --- interval RTED ---\n",
    "    if end_time % intv_ed == 0:\n",
    "        idx_ed = end_time // intv_ed\n",
    "        # --- update load ---\n",
    "        du, dd, load_exp = dp_calc(d_syn, idx_ed, intv_ed, rsfr)\n",
    "        ssp.load.scaling = load_exp\n",
    "        ssd.load['p0'] = ssa_p0 * load_exp\n",
    "        ssd.update_dict()\n",
    "\n",
    "        # --- RTED, update gen limits after SFR ---\n",
    "        # initially set previous setpoints with standard DCOPF results\n",
    "        # or set `pe` from TDS\n",
    "        if end_time > 0:\n",
    "            pe_tds = get_pe(ssa, ssa_gov_idx, ssa_dg_idx, ssa_key2)\n",
    "            pe_tds = pe_tds.merge(ssa_key2, on='stg_idx',\n",
    "                                  how='right').groupby('stg_idx', as_index=False).sum()\n",
    "            p_pre = pe_tds\n",
    "            ssd.gen.p_pre = pd.merge(left=ssd.gen, how='left', on='idx',\n",
    "                                     right=pe_tds[['stg_idx', 'pe']].rename(columns={'stg_idx': 'idx'}))['pe']\n",
    "        else:\n",
    "            ssd.set_p_pre()\n",
    "            p_pre = ssd.gen[['idx', 'p_pre']].rename(columns={'p_pre': 'pe', 'idx': 'stg_idx'})\n",
    "\n",
    "        # def. SFR requirements and calc. EV SFR capacities\n",
    "        [prumax, prdmax] = sse.g_frc()\n",
    "        # def. percentage of EV SFR capacities\n",
    "        ssd.def_type2([ev_idx], [prumax*rru], [prdmax*rrd])\n",
    "        ssd.def_sfr(du=du*ssa_p0_sum, dd=dd*ssa_p0_sum)\n",
    "\n",
    "        # solve RTED\n",
    "        dcres = ssd.get_res()\n",
    "\n",
    "        # reserve SFR and ramp from Generator limits in ``ssp``\n",
    "        ssp_gen = pd.merge(left=ssp.gen.rename(columns={'name': 'stg_idx'}),\n",
    "                           right=dcres.rename(columns={'gen': 'stg_idx'}),\n",
    "                           on='stg_idx', how='left')\n",
    "        # SFR limits\n",
    "        ssp_gen['max_sfr'] = ssp_gen.max_p_mw - ssp_gen.pru * ssp.sn_mva\n",
    "        ssp_gen['min_sfr'] = ssp_gen.min_p_mw + ssp_gen.prd * ssp.sn_mva\n",
    "        # ramp limits\n",
    "        p_pre_pp = pd.merge(left=ssp.gen.rename(columns={'name': 'stg_idx'}),\n",
    "                            right=p_pre[['stg_idx', 'pe']],\n",
    "                            on='stg_idx', how='left')['pe']\n",
    "        ssp_gen['max_ramp'] = ssp.sn_mva * (np.array(p_pre_pp) + np.array(ssd.gen.ramp5))\n",
    "        ssp_gen['min_ramp'] = ssp.sn_mva * (np.array(p_pre_pp) - np.array(ssd.gen.ramp5))\n",
    "        # alter generator limits\n",
    "        ssp.gen.max_p_mw = ssp_gen[['max_sfr', 'max_ramp']].min(axis=1)\n",
    "        ssp.gen.min_p_mw = ssp_gen[['min_sfr', 'min_ramp']].max(axis=1)\n",
    "\n",
    "        # --- ACOPF, modify setpoints ---\n",
    "        # store setpoints\n",
    "        if end_time > 0:\n",
    "            p0 = ssp_res['p'].values  # store setpoints\n",
    "        else:\n",
    "            p0 = [0] * ssa_key2.shape[0]\n",
    "\n",
    "        # solve ACOPF\n",
    "        ssp_res = runopp_map(ssp, ssa_key)  # ACOPF resutls\n",
    "        ssp_res['p0'] = p0                  # last setpoints\n",
    "        ssp_res.fillna(False, inplace=True)  # Fill NA wil False\n",
    "\n",
    "        # reset Generator limtis to normal limits\n",
    "        ssp.gen.max_p_mw = ssp_gen0.max_p_mw\n",
    "        ssp.gen.min_p_mw = ssp_gen0.min_p_mw\n",
    "\n",
    "    # --- interval AGC ---\n",
    "    if end_time % intv_agc == 0:\n",
    "        idx_agc = end_time // intv_agc - idx_ed * n_agc\n",
    "        # --- allocate AGC ---\n",
    "        # assign participation factor `bu`, `bd`\n",
    "        agc_table.drop(['bu', 'bd'], axis=1, inplace=True)\n",
    "        agc_table = agc_table.merge(dcres[['gen', 'bu', 'bd']].rename(columns={'gen': 'stg_idx'}),\n",
    "                                    on='stg_idx', how='left')\n",
    "        # calc. AGC ---\n",
    "        ACE_input = min(ACE_raw, dcres.pru.sum())\n",
    "        if ACE_raw >= 0:\n",
    "            ACE_input = min(ACE_raw, dcres.pru.sum())\n",
    "            agc_table['paux'] = ACE_input * agc_table['bu'] * agc_table['gammap']\n",
    "        else:\n",
    "            ACE_input = max(ACE_raw, -1 * dcres.prd.sum())\n",
    "            agc_table['paux'] = ACE_input * agc_table['bd'] * agc_table['gammap']\n",
    "        agc_in[end_time] = agc_table['paux']\n",
    "        sfr_res[end_time] = [end_time, ACE_raw, dcres.pru.sum(),\n",
    "                             -1*dcres.prd.sum(), ACE_input]\n",
    "\n",
    "        # --- record AGC ---\n",
    "        if end_time > 0:\n",
    "            gref = ssa.TurbineGov.get(src='pref', attr='v', idx=agc_gov_idx)\n",
    "            gout = ssa.TurbineGov.get(src='pout', attr='v', idx=agc_gov_idx)\n",
    "            g_aux = gout - gref\n",
    "            agc_out[end_time] = np.append(g_aux, [sse.Prc])\n",
    "\n",
    "        # --- assign AGC ---\n",
    "        # a.SynGen\n",
    "        # Note: now the condition is controllable & has governor\n",
    "        ssa.TurbineGov.set(src='paux0', idx=agc_gov_idx, attr='v',\n",
    "                           value=agc_table.paux.values)\n",
    "        # b.DG;\n",
    "        ssa.DG.set(src='pext0', idx=agc_dg_idx, attr='v',\n",
    "                   value=agc_table.paux.values)\n",
    "        # c.EV;\n",
    "        # Note: EV is in group DG, remove EV set if not used for EV SSM\n",
    "        sse_agc = agc_table[agc_table.stg_idx == ev_idx].paux.values\n",
    "        # TODO: RenGen\n",
    "\n",
    "        # --- smooth setpoints ---\n",
    "        if idx_ed == 0:\n",
    "            ssp_res['pref'] = ssp_res['p']\n",
    "        else:\n",
    "            if idx_agc == 0:\n",
    "                # record `pe` from TDS in the first AGC interval\n",
    "                copy = ssp_res.merge(right=pe_tds[['pe', 'stg_idx']], on='stg_idx', how='left')\n",
    "                ssp_res['pe_tds'] = copy.pe\n",
    "            idx_step = min((end_time - idx_ed * intv_ed) // intv_agc + 1, n_step)\n",
    "            ssp_res['pref_step'] = ssp_res.p - ssp_res.p0\n",
    "            # smooth change threshold: 0.01\n",
    "            large_index = ssp_res['pref_step'][abs(ssp_res['pref_step']) > 0.01].index\n",
    "            ssp_res['pref_delta'] = ssp_res['pref_step']\n",
    "            ssp_res['pref_delta'].iloc[large_index] = ssp_res['pref_step'].iloc[large_index] / n_step * idx_step\n",
    "            ssp_res['pref'] = ssp_res.p0 + ssp_res.pref_delta\n",
    "\n",
    "            # a.SynGen\n",
    "            ssa.TurbineGov.set(src='pref0', idx=sch_gov_idx,\n",
    "                               attr='v', value=ssp_res.pref[cond_sch_gov].values)\n",
    "            # b.DG\n",
    "            ssa.DG.set(src='pref0', idx=sch_dg_idx,\n",
    "                       attr='v', value=ssp_res.pref[cond_sch_dg].values)\n",
    "\n",
    "    # --- intv_pq: alter load, run TDS ---\n",
    "    # Initially, alter StaticGen: p0 and q0, run PFlow\n",
    "    # Otherwise, alter Ppf and Qpf\n",
    "    if end_time == 0:\n",
    "        stg_opf_idx = ssp_res.stg_idx[ssp_res.controllable].tolist()\n",
    "        stg_opf_val = ssp_res.p[ssp_res.controllable].tolist()\n",
    "        stg_opf_v = ssp_res.vm_pu[ssp_res.controllable].tolist()\n",
    "        ssa.StaticGen.set(src='p0', idx=stg_opf_idx, attr='v', value=stg_opf_val)\n",
    "        ssa.StaticGen.set(src='v0', idx=stg_opf_idx, attr='v', value=stg_opf_v)\n",
    "        # initial load point set as the dispatch point\n",
    "        ssa.PQ.set(src='p0', idx=ssa_pq_idx, attr='v',\n",
    "                   value=ssa_p0 * load_exp)\n",
    "        ssa.PQ.set(src='q0', idx=ssa_pq_idx, attr='v',\n",
    "                   value=ssa_q0 * load_exp)\n",
    "        ssa.PFlow.run()\n",
    "    else:\n",
    "        ssa.PQ.set(src='Ppf', idx=ssa_pq_idx, attr='v',\n",
    "                   value=ssa_p0 * d_syn['sload'].iloc[end_time])\n",
    "        ssa.PQ.set(src='Qpf', idx=ssa_pq_idx, attr='v',\n",
    "                   value=ssa_q0 * d_syn['sload'].iloc[end_time])\n",
    "        # run `sse`\n",
    "        sse.run(tf=caseH+end_time/3600, Pi=sse_agc[0],\n",
    "                is_updateA=False, is_rstate=True,\n",
    "                is_test=False, disable=True)\n",
    "        ev_soc[end_time] = sse.ev.soc\n",
    "        ev_agc[end_time] = sse.ev.agc\n",
    "        sse.report(is_report=False)\n",
    "        ssa.EV2.set(src='pref0', idx=ssp_res.dg_idx[ssp_res.stg_idx == ev_idx].values[0],\n",
    "                   attr='v', value=sse.Ptc)\n",
    "\n",
    "    # run TDS\n",
    "    ssa.TDS.config.tf = end_time\n",
    "    if end_time == 0:\n",
    "        ssa.TDS.init()\n",
    "    ssa.TDS.run()\n",
    "    # update AGC PI Controller\n",
    "    ACE_integral = ACE_integral + ssa.ACEc.ace.v.sum()\n",
    "    ACE_raw = -(Kp*ssa.ACEc.ace.v.sum() + Ki*ACE_integral)\n",
    "\n",
    "    # ACE_raw = 0  # delete when run TDS\n",
    "    # break loop if TDS run into error\n",
    "    if ssa.exit_code != 0:\n",
    "        raise ValueError(f\"TDS error! Exit with {ssa.exit_code}, end at {end_time}s.\")\n"
   ]
  },
  {
   "cell_type": "code",
   "execution_count": null,
   "metadata": {},
   "outputs": [],
   "source": [
    "ssa.exit_code"
   ]
  },
  {
   "cell_type": "code",
   "execution_count": null,
   "metadata": {},
   "outputs": [],
   "source": [
    "# ssa.TDS.save_output()"
   ]
  },
  {
   "cell_type": "code",
   "execution_count": null,
   "metadata": {
    "scrolled": false
   },
   "outputs": [],
   "source": [
    "plt.style.use('default')\n",
    "\n",
    "right = end_time\n",
    "\n",
    "fig_gen, ax_gen = plt.subplots(2, 3, figsize=(16, 8))\n",
    "plt.subplots_adjust(left=None, bottom=None, right=None,\n",
    "                    top=None, wspace=0.2, hspace=0.3)\n",
    "\n",
    "yheader = [f'G{i}' for i in range(1, 11)]\n",
    "\n",
    "ssa.TDS.plt.plot(ssa.TGOV1N.pout,\n",
    "                 linestyles=['-'],\n",
    "                 yheader=yheader,\n",
    "                 legend=True, show=False, right=right,\n",
    "                 title=r'Generation (solid: pout; dash: pref)',\n",
    "                 ylabel='p.u.',\n",
    "                 fig=fig_gen, ax=ax_gen[0, 0])\n",
    "\n",
    "ssa.TDS.plt.plot(ssa.TGOV1N.pref,\n",
    "                 legend=False, show=False, right=right,\n",
    "                 linestyles=[':'],\n",
    "                 fig=fig_gen, ax=ax_gen[0, 0])\n",
    "\n",
    "ssa.TDS.plt.plot(ssa.TGOV1N.paux,\n",
    "                 linestyles=['-'],\n",
    "                 yheader=yheader,\n",
    "                 legend=False, show=False, right=right,\n",
    "                 title=r'AGC power',\n",
    "                 ylabel='p.u.',\n",
    "                 fig=fig_gen, ax=ax_gen[0, 1])\n",
    "\n",
    "# Plot EV AGC response, hard code\n",
    "ax_gen[0, 1].plot(3600*(np.array(sse.tss)-10), sse.Prl, color='tab:orange', linestyle=':')\n",
    "ax_gen[0, 1].plot(3600*(np.array(sse.tss)-10), sse.Prcl, color='tab:orange', linestyle='-')\n",
    "ax_gen[0, 1].set_ylim(top=max(sse.Prl) * 1.2)\n",
    "\n",
    "sfr_res_plot = sfr_res.drop(['cat'], axis=1).T\n",
    "sfr_res_plot.columns = sfr_res['cat'].values\n",
    "ax_gen[0, 2].plot(sfr_res_plot.time, sfr_res_plot['ace'],\n",
    "                  label='AGC raw')\n",
    "ax_gen[0, 2].plot(sfr_res_plot.time, sfr_res_plot['in'],\n",
    "                  label='AGC input')\n",
    "ax_gen[0, 2].plot(sfr_res_plot.time, sfr_res_plot['up'],\n",
    "                  label='SFR capacity',\n",
    "                  linestyle='--', color='k')\n",
    "ax_gen[0, 2].plot(sfr_res_plot.time, sfr_res_plot['dn'],\n",
    "                  linestyle='--', color='k')\n",
    "ax_gen[0, 2].set_ylabel('p.u.')\n",
    "ax_gen[0, 2].set_xlabel('Time [s]')\n",
    "ax_gen[0, 2].set_title('AGC input and SFR capacity')\n",
    "\n",
    "ssa.TDS.plt.plot(ssa.COI.omega,\n",
    "                 legend=False, show=False, right=right,\n",
    "                 linestyles=['-'],\n",
    "                 ytimes=60,\n",
    "                 title=r'COI Frequency',\n",
    "                 ylabel='Hz',\n",
    "                 fig=fig_gen, ax=ax_gen[1, 0])\n",
    "\n",
    "ssa.TDS.plt.plot(ssa.ACEc.ace,\n",
    "                 legend=False, show=False, right=right,\n",
    "                 linestyles=['-'],\n",
    "                 title=r'ACE',\n",
    "                 ylabel='p.u.',\n",
    "                 fig=fig_gen, ax=ax_gen[1, 1])\n",
    "\n",
    "ace_tds = ssa.dae.ts.y[:, ssa.ACEc.ace.a].reshape(-1).copy()\n",
    "ace_df = pd.DataFrame()\n",
    "ace_df['ace'] = ace_tds\n",
    "ace_df.plot(kind='kde', legend=False, linewidth=1,\n",
    "            fig=fig_gen, ax=ax_gen[1, 2],\n",
    "            title=f'ACE D., $\\mu$={ace_df.ace.mean().round(4)}, $\\sigma$={ace_df.ace.var().round(4)}')\n",
    "ax_gen[1, 2].set(xlabel='Deviation [p.u.]', ylabel='')\n"
   ]
  },
  {
   "cell_type": "code",
   "execution_count": null,
   "metadata": {},
   "outputs": [],
   "source": [
    "sse.plot_agc()"
   ]
  },
  {
   "cell_type": "code",
   "execution_count": null,
   "metadata": {},
   "outputs": [],
   "source": [
    "# Complement AGC table\n",
    "agc_smooth = pd.DataFrame(np.repeat(agc_in[list(np.arange(0, t_total, 4))].values, 4, axis=1),\n",
    "                       columns=list(np.arange(0, t_total, 1)))\n",
    "\n",
    "# Record output\n",
    "sse_out = pd.DataFrame()\n",
    "sse_out['time'] = sse.tss\n",
    "sse_out['agc'] = agc_smooth.iloc[10]  # AGC input to EV\n",
    "sse_out['Pr'] = sse.Prl\n",
    "sse_out['Prc'] = sse.Prcl\n",
    "sse_out.to_csv('sse_out.csv', index=False)"
   ]
  },
  {
   "cell_type": "code",
   "execution_count": null,
   "metadata": {},
   "outputs": [],
   "source": [
    "soc_plot = ev_soc[ev_agc.abs().sum(axis=1) > 0].reset_index(drop=True)\n",
    "soc_plot = soc_plot[list(range(end_time+1))]\n",
    "\n",
    "fig_soc, ax_soc = plt.subplots(figsize=(5, 4))\n",
    "for i in range(soc_plot.shape[0]):\n",
    "    ax_soc.plot(range(end_time+1), soc_plot.iloc[i])\n",
    "ax_soc.set_xlabel('Time [s]')\n",
    "ax_soc.set_ylabel('SOC [%]')\n",
    "ax_soc.set_title('AGC EVs SOC')\n",
    "ax_soc.set_xlim([0, end_time])"
   ]
  },
  {
   "cell_type": "code",
   "execution_count": null,
   "metadata": {},
   "outputs": [],
   "source": [
    "plt.style.use('ieee')\n",
    "fige, axe = plt.subplots(figsize=(4, 2))\n",
    "axe.plot(3600*(np.array(sse.tss)-10), sse.Prl, color='tab:orange', linestyle=':', label='Signal')\n",
    "axe.plot(3600*(np.array(sse.tss)-10), sse.Prcl, color='tab:orange', linestyle='-', label='Response')\n",
    "axe.grid()\n",
    "axe.legend()\n",
    "axe.set_xlim(3600*(sse.tss[0]-10), 3600*(sse.tss[-1]-10))\n",
    "axe.set_ylabel('p.u.')\n",
    "axe.set_xlabel('Time [s]')"
   ]
  },
  {
   "cell_type": "code",
   "execution_count": null,
   "metadata": {},
   "outputs": [],
   "source": [
    "sse.plot(style='ieee')"
   ]
  }
 ],
 "metadata": {
  "interpreter": {
   "hash": "ef6cb5c8d99d66a3614f491d51fd40cd94c9138687df3d2045e3a510da5efc66"
  },
  "kernelspec": {
   "display_name": "Python 3 (ipykernel)",
   "language": "python",
   "name": "python3"
  },
  "language_info": {
   "codemirror_mode": {
    "name": "ipython",
    "version": 3
   },
   "file_extension": ".py",
   "mimetype": "text/x-python",
   "name": "python",
   "nbconvert_exporter": "python",
   "pygments_lexer": "ipython3",
   "version": "3.9.13"
  },
  "varInspector": {
   "cols": {
    "lenName": 16,
    "lenType": 16,
    "lenVar": 40
   },
   "kernels_config": {
    "python": {
     "delete_cmd_postfix": "",
     "delete_cmd_prefix": "del ",
     "library": "var_list.py",
     "varRefreshCmd": "print(var_dic_list())"
    },
    "r": {
     "delete_cmd_postfix": ") ",
     "delete_cmd_prefix": "rm(",
     "library": "var_list.r",
     "varRefreshCmd": "cat(var_dic_list()) "
    }
   },
   "types_to_exclude": [
    "module",
    "function",
    "builtin_function_or_method",
    "instance",
    "_Feature"
   ],
   "window_display": false
  }
 },
 "nbformat": 4,
 "nbformat_minor": 4
}
