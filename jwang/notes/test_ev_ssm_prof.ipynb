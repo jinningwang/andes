{
 "cells": [
  {
   "cell_type": "markdown",
   "metadata": {},
   "source": [
    "# Test EV control"
   ]
  },
  {
   "cell_type": "code",
   "execution_count": 1,
   "metadata": {},
   "outputs": [],
   "source": [
    "import numpy as np\n",
    "import matplotlib.pyplot as plt\n",
    "import pandas as pd\n",
    "\n",
    "from ev_ssm import ev_ssm\n",
    "from tqdm import tqdm\n",
    "import scipy.stats as stats"
   ]
  },
  {
   "cell_type": "code",
   "execution_count": 2,
   "metadata": {},
   "outputs": [],
   "source": [
    "# manually search perceptron hyperparameters for binary classification\n",
    "import cProfile as profile\n",
    "import pstats"
   ]
  },
  {
   "cell_type": "code",
   "execution_count": 3,
   "metadata": {},
   "outputs": [
    {
     "name": "stderr",
     "output_type": "stream",
     "text": [
      "EVA: ts=18[H], 10000 EVs, Total Q=87.7 MWh\n",
      "Online 2925.0, Q=73.03 MWh, SoC=0.7717\n",
      "Power(MW): Pt=-7.9463, Pc=-7.9463, Pd=-0.0\n",
      "Ctrl: 0.0=1584; 1.0=1341; \n",
      "EVA: Load A from Aest.csv.\n"
     ]
    },
    {
     "data": {
      "text/plain": [
       "[23.84411276428648, 1.8277132850261788]"
      ]
     },
     "execution_count": 3,
     "metadata": {},
     "output_type": "execute_result"
    }
   ],
   "source": [
    "# --- Response ---\n",
    "from ev_ssm import ev_ssm\n",
    "import numpy as np\n",
    "\n",
    "sse = ev_ssm(ts=18, N=10000, step=1, tp=40,\n",
    "             lr=0.1, lp=40, seed=2022, name=\"EVA\",\n",
    "             n_pref=1, is_report=True,\n",
    "             tt_mean=0.5, tt_var=0.2, tt_lb=0, tt_ub=1,\n",
    "             ict_off=False, ecc_off=False)\n",
    "sse.load_A(\"Aest.csv\")\n",
    "\n",
    "evd0 = sse.ev.copy()\n",
    "\n",
    "# quiet some EVs by force\n",
    "# np.random.seed(sse.config[\"seed\"])\n",
    "# ict_rid = np.random.randint(low=0,\n",
    "#                             high=sse.ev.shape[0],\n",
    "#                             size=3000)\n",
    "\n",
    "# sse.ev.na.iloc[ict_rid] = sse.ev.nam.iloc[ict_rid]\n",
    "# sse.ev.lc.iloc[ict_rid] = 1\n",
    "# sse.g_u()\n",
    "\n",
    "# initial EV data\n",
    "evd0 = sse.ev.copy()\n",
    "\n",
    "sse.g_frc()"
   ]
  },
  {
   "cell_type": "code",
   "execution_count": 4,
   "metadata": {},
   "outputs": [
    {
     "name": "stderr",
     "output_type": "stream",
     "text": [
      "EVA: end time 18.0[H] is too close to start time 18[H],simulation will not start.\n"
     ]
    },
    {
     "ename": "IndexError",
     "evalue": "only integers, slices (`:`), ellipsis (`...`), numpy.newaxis (`None`) and integer or boolean arrays are valid indices",
     "output_type": "error",
     "traceback": [
      "\u001b[0;31m---------------------------------------------------------------------------\u001b[0m",
      "\u001b[0;31mIndexError\u001b[0m                                Traceback (most recent call last)",
      "\u001b[1;32m/nfs/home/jwang175/work/andes/jwang/notes/test_ev_ssm_prof.ipynb Cell 5\u001b[0m in \u001b[0;36m<cell line: 3>\u001b[0;34m()\u001b[0m\n\u001b[1;32m      <a href='vscode-notebook-cell://ssh-remote%2Blogin.isaac.utk.edu/nfs/home/jwang175/work/andes/jwang/notes/test_ev_ssm_prof.ipynb#X46sdnNjb2RlLXJlbW90ZQ%3D%3D?line=1'>2</a>\u001b[0m prof\u001b[39m.\u001b[39menable()\n\u001b[1;32m      <a href='vscode-notebook-cell://ssh-remote%2Blogin.isaac.utk.edu/nfs/home/jwang175/work/andes/jwang/notes/test_ev_ssm_prof.ipynb#X46sdnNjb2RlLXJlbW90ZQ%3D%3D?line=2'>3</a>\u001b[0m \u001b[39mfor\u001b[39;00m i \u001b[39min\u001b[39;00m \u001b[39mrange\u001b[39m(\u001b[39m20\u001b[39m):\n\u001b[0;32m----> <a href='vscode-notebook-cell://ssh-remote%2Blogin.isaac.utk.edu/nfs/home/jwang175/work/andes/jwang/notes/test_ev_ssm_prof.ipynb#X46sdnNjb2RlLXJlbW90ZQ%3D%3D?line=3'>4</a>\u001b[0m         sse\u001b[39m.\u001b[39;49mrun(tf\u001b[39m=\u001b[39;49m\u001b[39m18\u001b[39;49m \u001b[39m+\u001b[39;49m i\u001b[39m/\u001b[39;49m\u001b[39m3600\u001b[39;49m, Pi\u001b[39m=\u001b[39;49m\u001b[39m0.5\u001b[39;49m\u001b[39m*\u001b[39;49mi,\n\u001b[1;32m      <a href='vscode-notebook-cell://ssh-remote%2Blogin.isaac.utk.edu/nfs/home/jwang175/work/andes/jwang/notes/test_ev_ssm_prof.ipynb#X46sdnNjb2RlLXJlbW90ZQ%3D%3D?line=4'>5</a>\u001b[0m                 is_updateA\u001b[39m=\u001b[39;49m\u001b[39mFalse\u001b[39;49;00m, is_rstate\u001b[39m=\u001b[39;49m\u001b[39mTrue\u001b[39;49;00m,\n\u001b[1;32m      <a href='vscode-notebook-cell://ssh-remote%2Blogin.isaac.utk.edu/nfs/home/jwang175/work/andes/jwang/notes/test_ev_ssm_prof.ipynb#X46sdnNjb2RlLXJlbW90ZQ%3D%3D?line=5'>6</a>\u001b[0m                 is_test\u001b[39m=\u001b[39;49m\u001b[39mFalse\u001b[39;49;00m, disable\u001b[39m=\u001b[39;49m\u001b[39mTrue\u001b[39;49;00m)\n\u001b[1;32m      <a href='vscode-notebook-cell://ssh-remote%2Blogin.isaac.utk.edu/nfs/home/jwang175/work/andes/jwang/notes/test_ev_ssm_prof.ipynb#X46sdnNjb2RlLXJlbW90ZQ%3D%3D?line=6'>7</a>\u001b[0m \u001b[39mfor\u001b[39;00m i \u001b[39min\u001b[39;00m \u001b[39mrange\u001b[39m(\u001b[39m20\u001b[39m):\n\u001b[1;32m      <a href='vscode-notebook-cell://ssh-remote%2Blogin.isaac.utk.edu/nfs/home/jwang175/work/andes/jwang/notes/test_ev_ssm_prof.ipynb#X46sdnNjb2RlLXJlbW90ZQ%3D%3D?line=7'>8</a>\u001b[0m         sse\u001b[39m.\u001b[39mrun(tf\u001b[39m=\u001b[39m\u001b[39m18\u001b[39m \u001b[39m+\u001b[39m (\u001b[39m20\u001b[39m \u001b[39m+\u001b[39m i)\u001b[39m/\u001b[39m\u001b[39m3600\u001b[39m, Pi\u001b[39m=\u001b[39m\u001b[39m10\u001b[39m \u001b[39m-\u001b[39m \u001b[39m0.5\u001b[39m\u001b[39m*\u001b[39mi,\n\u001b[1;32m      <a href='vscode-notebook-cell://ssh-remote%2Blogin.isaac.utk.edu/nfs/home/jwang175/work/andes/jwang/notes/test_ev_ssm_prof.ipynb#X46sdnNjb2RlLXJlbW90ZQ%3D%3D?line=8'>9</a>\u001b[0m                 is_updateA\u001b[39m=\u001b[39m\u001b[39mFalse\u001b[39;00m, is_rstate\u001b[39m=\u001b[39m\u001b[39mTrue\u001b[39;00m,\n\u001b[1;32m     <a href='vscode-notebook-cell://ssh-remote%2Blogin.isaac.utk.edu/nfs/home/jwang175/work/andes/jwang/notes/test_ev_ssm_prof.ipynb#X46sdnNjb2RlLXJlbW90ZQ%3D%3D?line=9'>10</a>\u001b[0m                 is_test\u001b[39m=\u001b[39m\u001b[39mFalse\u001b[39;00m, disable\u001b[39m=\u001b[39m\u001b[39mTrue\u001b[39;00m)\n",
      "File \u001b[0;32m~/work/andes/jwang/notes/ev_ssm.py:796\u001b[0m, in \u001b[0;36mev_ssm.run\u001b[0;34m(self, tf, Pi, is_updateA, is_rstate, is_test, disable)\u001b[0m\n\u001b[1;32m    794\u001b[0m \u001b[39m# TODO: add warning when Pi is 0\u001b[39;00m\n\u001b[1;32m    795\u001b[0m Pi_input \u001b[39m=\u001b[39m Pi \u001b[39m-\u001b[39m (\u001b[39m1\u001b[39m \u001b[39m-\u001b[39m \u001b[39mself\u001b[39m\u001b[39m.\u001b[39mconfig[\u001b[39m\"\u001b[39m\u001b[39mecc_off\u001b[39m\u001b[39m\"\u001b[39m]) \u001b[39m*\u001b[39m Per  \u001b[39m# * self.data[\"Per\"]\u001b[39;00m\n\u001b[0;32m--> 796\u001b[0m \u001b[39mself\u001b[39;49m\u001b[39m.\u001b[39;49mg_c(Pi\u001b[39m=\u001b[39;49mPi_input, is_test\u001b[39m=\u001b[39;49mis_test)  \u001b[39m# update control signal\u001b[39;00m\n\u001b[1;32m    797\u001b[0m \u001b[39m# --- update soc interval and online status ---\u001b[39;00m\n\u001b[1;32m    798\u001b[0m \u001b[39m# charging/discharging power, kW\u001b[39;00m\n\u001b[1;32m    799\u001b[0m \u001b[39mself\u001b[39m\u001b[39m.\u001b[39mev[\u001b[39m'\u001b[39m\u001b[39mdP\u001b[39m\u001b[39m'\u001b[39m] \u001b[39m=\u001b[39m \u001b[39mself\u001b[39m\u001b[39m.\u001b[39mev[[\u001b[39m'\u001b[39m\u001b[39mPc\u001b[39m\u001b[39m'\u001b[39m, \u001b[39m'\u001b[39m\u001b[39mPd\u001b[39m\u001b[39m'\u001b[39m, \u001b[39m'\u001b[39m\u001b[39mnc\u001b[39m\u001b[39m'\u001b[39m, \u001b[39m'\u001b[39m\u001b[39mnd\u001b[39m\u001b[39m'\u001b[39m, \u001b[39m'\u001b[39m\u001b[39mc\u001b[39m\u001b[39m'\u001b[39m, \u001b[39m'\u001b[39m\u001b[39mu\u001b[39m\u001b[39m'\u001b[39m]]\u001b[39m.\u001b[39mapply(\n\u001b[1;32m    800\u001b[0m     \u001b[39mlambda\u001b[39;00m x: x[\u001b[39m0\u001b[39m]\u001b[39m*\u001b[39mx[\u001b[39m2\u001b[39m]\u001b[39m*\u001b[39mx[\u001b[39m4\u001b[39m] \u001b[39mif\u001b[39;00m x[\u001b[39m4\u001b[39m] \u001b[39m>\u001b[39m\u001b[39m=\u001b[39m \u001b[39m0\u001b[39m \u001b[39melse\u001b[39;00m \u001b[39m-\u001b[39m\u001b[39m1\u001b[39m\u001b[39m*\u001b[39mx[\u001b[39m1\u001b[39m]\u001b[39m*\u001b[39mx[\u001b[39m3\u001b[39m]\u001b[39m*\u001b[39mx[\u001b[39m4\u001b[39m], axis\u001b[39m=\u001b[39m\u001b[39m1\u001b[39m)\n",
      "File \u001b[0;32m~/work/andes/jwang/notes/ev_ssm.py:898\u001b[0m, in \u001b[0;36mev_ssm.g_c\u001b[0;34m(self, Pi, is_test)\u001b[0m\n\u001b[1;32m    896\u001b[0m c_init \u001b[39m=\u001b[39m \u001b[39mself\u001b[39m\u001b[39m.\u001b[39mev[\u001b[39m'\u001b[39m\u001b[39mc\u001b[39m\u001b[39m'\u001b[39m]\u001b[39m.\u001b[39mcopy()\n\u001b[1;32m    897\u001b[0m \u001b[39mif\u001b[39;00m \u001b[39mabs\u001b[39m(Pi) \u001b[39m>\u001b[39m \u001b[39m1e-4\u001b[39m:  \u001b[39m# deadband\u001b[39;00m\n\u001b[0;32m--> 898\u001b[0m     \u001b[39mself\u001b[39;49m\u001b[39m.\u001b[39;49mr_agc(Pi\u001b[39m=\u001b[39;49mPi)\n\u001b[1;32m    899\u001b[0m \u001b[39melse\u001b[39;00m:\n\u001b[1;32m    900\u001b[0m     \u001b[39mself\u001b[39m\u001b[39m.\u001b[39mr_agc(Pi\u001b[39m=\u001b[39m\u001b[39m0\u001b[39m)\n",
      "File \u001b[0;32m~/work/andes/jwang/notes/ev_ssm.py:1212\u001b[0m, in \u001b[0;36mev_ssm.r_agc\u001b[0;34m(self, Pi)\u001b[0m\n\u001b[1;32m   1209\u001b[0m             usp[i_sx, i] \u001b[39m=\u001b[39m \u001b[39mmax\u001b[39m(\u001b[39mmin\u001b[39m((pu\u001b[39m-\u001b[39msu)\u001b[39m/\u001b[39m\u001b[39mself\u001b[39m\u001b[39m.\u001b[39mrho[i], \u001b[39m1\u001b[39m), \u001b[39m0\u001b[39m)\n\u001b[1;32m   1210\u001b[0m             vsp[i_sx, i] \u001b[39m=\u001b[39m \u001b[39mmax\u001b[39m(\u001b[39mmin\u001b[39m((pv\u001b[39m-\u001b[39msv)\u001b[39m/\u001b[39m\u001b[39mself\u001b[39m\u001b[39m.\u001b[39mrho[i], \u001b[39m1\u001b[39m), \u001b[39m0\u001b[39m)\n\u001b[0;32m-> 1212\u001b[0m \u001b[39mself\u001b[39m\u001b[39m.\u001b[39mev\u001b[39m.\u001b[39mc \u001b[39m=\u001b[39m \u001b[39mself\u001b[39;49m\u001b[39m.\u001b[39;49mev[[\u001b[39m'\u001b[39;49m\u001b[39mu\u001b[39;49m\u001b[39m'\u001b[39;49m, \u001b[39m'\u001b[39;49m\u001b[39mc\u001b[39;49m\u001b[39m'\u001b[39;49m, \u001b[39m'\u001b[39;49m\u001b[39msx\u001b[39;49m\u001b[39m'\u001b[39;49m, \u001b[39m'\u001b[39;49m\u001b[39mpref\u001b[39;49m\u001b[39m'\u001b[39;49m]]\u001b[39m.\u001b[39;49mapply(\u001b[39mlambda\u001b[39;49;00m x: r_agc_sev(x, us, vs, usp, vsp), axis\u001b[39m=\u001b[39;49m\u001b[39m1\u001b[39;49m)\n\u001b[1;32m   1213\u001b[0m \u001b[39mself\u001b[39m\u001b[39m.\u001b[39mg_x()\n\u001b[1;32m   1214\u001b[0m \u001b[39m# --- record output ---\u001b[39;00m\n\u001b[1;32m   1215\u001b[0m \u001b[39m# TODO: modification of random traveling behavior\u001b[39;00m\n",
      "File \u001b[0;32m~/.conda/envs/andes/lib/python3.9/site-packages/pandas/core/frame.py:8848\u001b[0m, in \u001b[0;36mDataFrame.apply\u001b[0;34m(self, func, axis, raw, result_type, args, **kwargs)\u001b[0m\n\u001b[1;32m   8837\u001b[0m \u001b[39mfrom\u001b[39;00m \u001b[39mpandas\u001b[39;00m\u001b[39m.\u001b[39;00m\u001b[39mcore\u001b[39;00m\u001b[39m.\u001b[39;00m\u001b[39mapply\u001b[39;00m \u001b[39mimport\u001b[39;00m frame_apply\n\u001b[1;32m   8839\u001b[0m op \u001b[39m=\u001b[39m frame_apply(\n\u001b[1;32m   8840\u001b[0m     \u001b[39mself\u001b[39m,\n\u001b[1;32m   8841\u001b[0m     func\u001b[39m=\u001b[39mfunc,\n\u001b[0;32m   (...)\u001b[0m\n\u001b[1;32m   8846\u001b[0m     kwargs\u001b[39m=\u001b[39mkwargs,\n\u001b[1;32m   8847\u001b[0m )\n\u001b[0;32m-> 8848\u001b[0m \u001b[39mreturn\u001b[39;00m op\u001b[39m.\u001b[39;49mapply()\u001b[39m.\u001b[39m__finalize__(\u001b[39mself\u001b[39m, method\u001b[39m=\u001b[39m\u001b[39m\"\u001b[39m\u001b[39mapply\u001b[39m\u001b[39m\"\u001b[39m)\n",
      "File \u001b[0;32m~/.conda/envs/andes/lib/python3.9/site-packages/pandas/core/apply.py:733\u001b[0m, in \u001b[0;36mFrameApply.apply\u001b[0;34m(self)\u001b[0m\n\u001b[1;32m    730\u001b[0m \u001b[39melif\u001b[39;00m \u001b[39mself\u001b[39m\u001b[39m.\u001b[39mraw:\n\u001b[1;32m    731\u001b[0m     \u001b[39mreturn\u001b[39;00m \u001b[39mself\u001b[39m\u001b[39m.\u001b[39mapply_raw()\n\u001b[0;32m--> 733\u001b[0m \u001b[39mreturn\u001b[39;00m \u001b[39mself\u001b[39;49m\u001b[39m.\u001b[39;49mapply_standard()\n",
      "File \u001b[0;32m~/.conda/envs/andes/lib/python3.9/site-packages/pandas/core/apply.py:857\u001b[0m, in \u001b[0;36mFrameApply.apply_standard\u001b[0;34m(self)\u001b[0m\n\u001b[1;32m    856\u001b[0m \u001b[39mdef\u001b[39;00m \u001b[39mapply_standard\u001b[39m(\u001b[39mself\u001b[39m):\n\u001b[0;32m--> 857\u001b[0m     results, res_index \u001b[39m=\u001b[39m \u001b[39mself\u001b[39;49m\u001b[39m.\u001b[39;49mapply_series_generator()\n\u001b[1;32m    859\u001b[0m     \u001b[39m# wrap results\u001b[39;00m\n\u001b[1;32m    860\u001b[0m     \u001b[39mreturn\u001b[39;00m \u001b[39mself\u001b[39m\u001b[39m.\u001b[39mwrap_results(results, res_index)\n",
      "File \u001b[0;32m~/.conda/envs/andes/lib/python3.9/site-packages/pandas/core/apply.py:873\u001b[0m, in \u001b[0;36mFrameApply.apply_series_generator\u001b[0;34m(self)\u001b[0m\n\u001b[1;32m    870\u001b[0m \u001b[39mwith\u001b[39;00m option_context(\u001b[39m\"\u001b[39m\u001b[39mmode.chained_assignment\u001b[39m\u001b[39m\"\u001b[39m, \u001b[39mNone\u001b[39;00m):\n\u001b[1;32m    871\u001b[0m     \u001b[39mfor\u001b[39;00m i, v \u001b[39min\u001b[39;00m \u001b[39menumerate\u001b[39m(series_gen):\n\u001b[1;32m    872\u001b[0m         \u001b[39m# ignore SettingWithCopy here in case the user mutates\u001b[39;00m\n\u001b[0;32m--> 873\u001b[0m         results[i] \u001b[39m=\u001b[39m \u001b[39mself\u001b[39;49m\u001b[39m.\u001b[39;49mf(v)\n\u001b[1;32m    874\u001b[0m         \u001b[39mif\u001b[39;00m \u001b[39misinstance\u001b[39m(results[i], ABCSeries):\n\u001b[1;32m    875\u001b[0m             \u001b[39m# If we have a view on v, we need to make a copy because\u001b[39;00m\n\u001b[1;32m    876\u001b[0m             \u001b[39m#  series_generator will swap out the underlying data\u001b[39;00m\n\u001b[1;32m    877\u001b[0m             results[i] \u001b[39m=\u001b[39m results[i]\u001b[39m.\u001b[39mcopy(deep\u001b[39m=\u001b[39m\u001b[39mFalse\u001b[39;00m)\n",
      "File \u001b[0;32m~/work/andes/jwang/notes/ev_ssm.py:1212\u001b[0m, in \u001b[0;36mev_ssm.r_agc.<locals>.<lambda>\u001b[0;34m(x)\u001b[0m\n\u001b[1;32m   1209\u001b[0m             usp[i_sx, i] \u001b[39m=\u001b[39m \u001b[39mmax\u001b[39m(\u001b[39mmin\u001b[39m((pu\u001b[39m-\u001b[39msu)\u001b[39m/\u001b[39m\u001b[39mself\u001b[39m\u001b[39m.\u001b[39mrho[i], \u001b[39m1\u001b[39m), \u001b[39m0\u001b[39m)\n\u001b[1;32m   1210\u001b[0m             vsp[i_sx, i] \u001b[39m=\u001b[39m \u001b[39mmax\u001b[39m(\u001b[39mmin\u001b[39m((pv\u001b[39m-\u001b[39msv)\u001b[39m/\u001b[39m\u001b[39mself\u001b[39m\u001b[39m.\u001b[39mrho[i], \u001b[39m1\u001b[39m), \u001b[39m0\u001b[39m)\n\u001b[0;32m-> 1212\u001b[0m \u001b[39mself\u001b[39m\u001b[39m.\u001b[39mev\u001b[39m.\u001b[39mc \u001b[39m=\u001b[39m \u001b[39mself\u001b[39m\u001b[39m.\u001b[39mev[[\u001b[39m'\u001b[39m\u001b[39mu\u001b[39m\u001b[39m'\u001b[39m, \u001b[39m'\u001b[39m\u001b[39mc\u001b[39m\u001b[39m'\u001b[39m, \u001b[39m'\u001b[39m\u001b[39msx\u001b[39m\u001b[39m'\u001b[39m, \u001b[39m'\u001b[39m\u001b[39mpref\u001b[39m\u001b[39m'\u001b[39m]]\u001b[39m.\u001b[39mapply(\u001b[39mlambda\u001b[39;00m x: r_agc_sev(x, us, vs, usp, vsp), axis\u001b[39m=\u001b[39m\u001b[39m1\u001b[39m)\n\u001b[1;32m   1213\u001b[0m \u001b[39mself\u001b[39m\u001b[39m.\u001b[39mg_x()\n\u001b[1;32m   1214\u001b[0m \u001b[39m# --- record output ---\u001b[39;00m\n\u001b[1;32m   1215\u001b[0m \u001b[39m# TODO: modification of random traveling behavior\u001b[39;00m\n",
      "File \u001b[0;32m~/work/andes/jwang/notes/ev_ssm.py:53\u001b[0m, in \u001b[0;36mr_agc_sev\u001b[0;34m(evs, us, vs, usp, vsp)\u001b[0m\n\u001b[1;32m     51\u001b[0m \u001b[39melif\u001b[39;00m (evs[\u001b[39m1\u001b[39m] \u001b[39m==\u001b[39m \u001b[39m1\u001b[39m) \u001b[39m&\u001b[39m (us[\u001b[39m-\u001b[39m\u001b[39m1\u001b[39m] \u001b[39m==\u001b[39m \u001b[39m1\u001b[39m):  \u001b[39m# response with us1, [C to I]\u001b[39;00m\n\u001b[1;32m     52\u001b[0m     a \u001b[39m=\u001b[39m [\u001b[39m0\u001b[39m, \u001b[39m1\u001b[39m]\n\u001b[0;32m---> 53\u001b[0m     p \u001b[39m=\u001b[39m [usp[evs[\u001b[39m2\u001b[39;49m], evs[\u001b[39m3\u001b[39;49m]], \u001b[39m1\u001b[39m\u001b[39m-\u001b[39musp[evs[\u001b[39m2\u001b[39m], evs[\u001b[39m3\u001b[39m]]]\n\u001b[1;32m     54\u001b[0m \u001b[39melif\u001b[39;00m (evs[\u001b[39m1\u001b[39m] \u001b[39m==\u001b[39m \u001b[39m0\u001b[39m) \u001b[39m&\u001b[39m (us[\u001b[39m-\u001b[39m\u001b[39m1\u001b[39m] \u001b[39m==\u001b[39m \u001b[39m-\u001b[39m\u001b[39m1\u001b[39m):  \u001b[39m# response with us-1 [I to C]\u001b[39;00m\n\u001b[1;32m     55\u001b[0m     a \u001b[39m=\u001b[39m [\u001b[39m1\u001b[39m, \u001b[39m0\u001b[39m]\n",
      "\u001b[0;31mIndexError\u001b[0m: only integers, slices (`:`), ellipsis (`...`), numpy.newaxis (`None`) and integer or boolean arrays are valid indices"
     ]
    }
   ],
   "source": [
    "prof = profile.Profile()\n",
    "prof.enable()\n",
    "for i in range(20):\n",
    "        sse.run(tf=18 + i/3600, Pi=0.5*i,\n",
    "                is_updateA=False, is_rstate=True,\n",
    "                is_test=False, disable=True)\n",
    "for i in range(20):\n",
    "        sse.run(tf=18 + (20 + i)/3600, Pi=10 - 0.5*i,\n",
    "                is_updateA=False, is_rstate=True,\n",
    "                is_test=False, disable=True)\n",
    "prof.disable()"
   ]
  },
  {
   "cell_type": "code",
   "execution_count": null,
   "metadata": {},
   "outputs": [],
   "source": [
    "sse.plot_agc()"
   ]
  },
  {
   "cell_type": "code",
   "execution_count": null,
   "metadata": {},
   "outputs": [],
   "source": [
    "stats = pstats.Stats(prof).strip_dirs().sort_stats(\"tottime\")\n",
    "stats.print_stats(20)"
   ]
  },
  {
   "cell_type": "code",
   "execution_count": null,
   "metadata": {},
   "outputs": [],
   "source": [
    "sse.run(tf=18 + 10/3600, Pi=0,\n",
    "        is_updateA=False, is_rstate=True,\n",
    "        is_test=False, disable=False)\n",
    "\n",
    "# sse.run(tf=18 + 100/3600, Pi=0,\n",
    "#         is_updateA=False, is_rstate=True,\n",
    "#         is_test=False, disable=False)"
   ]
  },
  {
   "cell_type": "code",
   "execution_count": null,
   "metadata": {},
   "outputs": [],
   "source": [
    "sse.plot_agc()"
   ]
  },
  {
   "cell_type": "code",
   "execution_count": null,
   "metadata": {},
   "outputs": [],
   "source": [
    "sse.plot()"
   ]
  }
 ],
 "metadata": {
  "kernelspec": {
   "display_name": "Python 3.9.10 ('andes')",
   "language": "python",
   "name": "python3"
  },
  "language_info": {
   "codemirror_mode": {
    "name": "ipython",
    "version": 3
   },
   "file_extension": ".py",
   "mimetype": "text/x-python",
   "name": "python",
   "nbconvert_exporter": "python",
   "pygments_lexer": "ipython3",
   "version": "3.9.10"
  },
  "vscode": {
   "interpreter": {
    "hash": "6a84c9bd36470760912997fd6b8a7b4d8967e7c311e7c806624c05154cbea18f"
   }
  }
 },
 "nbformat": 4,
 "nbformat_minor": 2
}
