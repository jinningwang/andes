{
 "cells": [
  {
   "cell_type": "code",
   "execution_count": 1,
   "metadata": {},
   "outputs": [
    {
     "name": "stdout",
     "output_type": "stream",
     "text": [
      "1.7.2.post284.dev0+g432288ce\n",
      "2.9.0\n"
     ]
    }
   ],
   "source": [
    "%run -i 'cosim_import.py'"
   ]
  },
  {
   "cell_type": "code",
   "execution_count": 2,
   "metadata": {},
   "outputs": [
    {
     "name": "stderr",
     "output_type": "stream",
     "text": [
      "EVA: ts=18[H], 50000 EVs, Total Q=360.34 MWh\n",
      "Online 14481, Q=360.34 MWh, SoC=0.7678\n",
      "Power(MW): Pt=-39.9433, Pc=-39.9433, Pd=-0.0\n",
      "Ctrl: 0=7718; 1=6703; \n",
      "EVA: Load A from Aest.csv.\n",
      "Working directory: \"/home/jwang175/andes/jwang/notes\"\n",
      "> Loaded config from file \"/home/jwang175/.andes/andes.rc\"\n",
      "> Loaded generated Python code in \"/home/jwang175/.andes/pycode\".\n",
      "Generated code for <PQ> is stale.\n",
      "Numerical code generation (rapid incremental mode) started...\n"
     ]
    },
    {
     "name": "stdout",
     "output_type": "stream",
     "text": [
      "Generating code for 1 models on 6 processes.\n"
     ]
    },
    {
     "name": "stderr",
     "output_type": "stream",
     "text": [
      "Saved generated pycode to \"/home/jwang175/.andes/pycode\"\n",
      "> Reloaded generated Python code of module \"pycode\".\n",
      "Generated numerical code for 1 models in 0.3037 seconds.\n",
      "Parsing input file \"/home/jwang175/andes/jwang/case/ieee39_ev2.xlsx\"...\n",
      "Input file parsed in 0.1432 seconds.\n",
      "ACEc <1> added BusFreq <BusFreq_11> linked to bus <1>\n",
      "System internal structure set up in 0.0545 seconds.\n"
     ]
    }
   ],
   "source": [
    "caseH = 18\n",
    "%run -i 'cosim_setup_andes.py'"
   ]
  },
  {
   "cell_type": "code",
   "execution_count": 3,
   "metadata": {},
   "outputs": [
    {
     "name": "stdout",
     "output_type": "stream",
     "text": [
      "ANDES total load is: 58.564 p.u.\n"
     ]
    }
   ],
   "source": [
    "%run -i 'cosim_loadsyn.py'"
   ]
  },
  {
   "cell_type": "code",
   "execution_count": 4,
   "metadata": {},
   "outputs": [],
   "source": [
    "from jams import rted3"
   ]
  },
  {
   "cell_type": "code",
   "execution_count": 16,
   "metadata": {},
   "outputs": [
    {
     "name": "stderr",
     "output_type": "stream",
     "text": [
      "-> System connectivity check results:\n",
      "  No islanded bus detected.\n",
      "  System is interconnected.\n",
      "  Each island has a slack bus correctly defined and enabled.\n",
      "\n",
      "-> Power flow calculation\n",
      "           Numba: On\n",
      "   Sparse solver: KLU\n",
      " Solution method: NR method\n",
      "Numba compilation initiated with caching.\n",
      "Power flow initialized in 0.0112 seconds.\n",
      "0: |F(x)| = 7.561249598\n",
      "1: |F(x)| = 2.917108301\n",
      "2: |F(x)| = 0.1313043343\n",
      "3: |F(x)| = 0.0003572409148\n",
      "4: |F(x)| = 4.286928146e-09\n",
      "Converged in 5 iterations in 0.0145 seconds.\n",
      "Power flow results are consistent. Conversion is successful.\n",
      "-> System connectivity check results:\n",
      "  No islanded bus detected.\n",
      "  System is interconnected.\n",
      "  Each island has a slack bus correctly defined and enabled.\n",
      "\n",
      "-> Power flow calculation\n",
      "           Numba: On\n",
      "   Sparse solver: KLU\n",
      " Solution method: NR method\n",
      "Numba compilation initiated with caching.\n",
      "Power flow initialized in 0.0070 seconds.\n",
      "0: |F(x)| = 7.561249598\n",
      "1: |F(x)| = 2.917108301\n",
      "2: |F(x)| = 0.1313043343\n",
      "3: |F(x)| = 0.0003572409148\n",
      "4: |F(x)| = 4.286928146e-09\n",
      "Converged in 5 iterations in 0.0072 seconds.\n",
      "Power flow results are consistent. Conversion is successful.\n",
      "GSF is consistent.\n",
      "RTED GB model is loaded.\n",
      "RTED removed: ['rampu', 'rampd']\n",
      "RTED limited: sfru, sfrd\n",
      "RTED: total cost=204910.307\n"
     ]
    },
    {
     "name": "stdout",
     "output_type": "stream",
     "text": [
      "pp cost=2224.8754288341015, gb cost=204910.30742817727\n"
     ]
    }
   ],
   "source": [
    "# --- set up EV generator data ---\n",
    "ev_idx = 'PV_10'\n",
    "ssa.PV.set(src='p0', idx=ev_idx, attr='v', value=sse.Ptc/ssa.config.mva)\n",
    "ssa.PV.set(src='pmax', idx=ev_idx, attr='v', value=sse.Pu/ssa.config.mva)\n",
    "ssa.PV.set(src='pmin', idx=ev_idx, attr='v', value=sse.Pl/ssa.config.mva)\n",
    "\n",
    "# --- setup pandapower: ssp ---\n",
    "ssp = to_pandapower(ssa)\n",
    "\n",
    "# set EV generator as uncontrollable\n",
    "ssp.gen.controllable.iloc[9] = False\n",
    "\n",
    "# add gen cost, unit: $/MWh; G1-11. G10 EV, G11 Slack; \n",
    "# set EV as -10, for the cost of SFR mileage\n",
    "c1 = [20, 20, 20, 20, 20, 20, 20, 20, 20, -10, 20]\n",
    "c0 = [500, 380, 42, 380, 295, 400, 350, 330, 490, 0000, 550]\n",
    "c2 = [0.014, 0.020, 0.194, 0.020, 0.0255, 0.0210, 0.230, 0.0222, 0.0150, 0.000, 0.0300]\n",
    "gen_cost = np.array([[2., 0., 0., 3., 0., 0., 0.]] * ssp.gen.shape[0])\n",
    "gen_cost[:, 4] = np.array(c2) / ssa.config.mva\n",
    "gen_cost[:, 5] = np.array(c1) / ssa.config.mva\n",
    "gen_cost[:, 6] = np.array(c0) / ssa.config.mva\n",
    "\n",
    "add_gencost(ssp, gen_cost)\n",
    "\n",
    "# --- setup RTED: ssd ---\n",
    "ssd = rted3(name='RTED', OutputFlag=0)\n",
    "ssd.from_andes(ssa)\n",
    "ssd.def_sfr(100, 100)\n",
    "ssd.build()\n",
    "\n",
    "# set EV generator as uncontrollable\n",
    "ssd.gen.ctrl.loc[ev_idx] = 0\n",
    "\n",
    "# set EV geenrator as type2\n",
    "prumax = sse.g_frc()[0]\n",
    "prdmax = sse.g_frc()[1]\n",
    "ssd.def_type2([ev_idx], [prumax], [prdmax])\n",
    "\n",
    "# Case data comes from a MPCE\n",
    "# https://ieeexplore.ieee.org/document/9018441\n",
    "# set ramp_5\n",
    "ramp_15 = [156, 120, 130, 110, 80, 105, 90, 90, 150, 999, 200]\n",
    "# ramp_hour = [80, 80, 80, 50, 50, 50, 30, 30, 30, 999, 30]\n",
    "ssd.gen['ramp_5'] = np.array(ramp_15) / 3 / ssd.mva\n",
    "\n",
    "# set cost\n",
    "ssd.cost['c1'] = c1\n",
    "ssd.cost['c2'] = c2\n",
    "ssd.cost['c0'] = c0\n",
    "\n",
    "# adjust SFR cost of EV lower than SynGen\n",
    "ssd.cost['cru'] = [0] * ssd.gen.shape[0]\n",
    "ssd.cost['cru'].loc[ev_idx] = - 0.000001\n",
    "ssd.cost['crd'] = ssd.cost.cru\n",
    "\n",
    "# --- benchmark ssd with ssp using DCOPF ---\n",
    "pp.rundcopp(ssp)\n",
    "dc_comp = ssp.res_gen.copy()\n",
    "gb_res = ssd.solve(disable_sfr=True, disable_ramp=True, info=False)\n",
    "dc_comp['p_mw(GB)'] = ssd.mva * gb_res['pg'].values\n",
    "print(f\"pp cost={ssp.res_cost}, gb cost={ssd.res_cost}\")\n"
   ]
  }
 ],
 "metadata": {
  "kernelspec": {
   "display_name": "Python 3.9.13",
   "language": "python",
   "name": "python3"
  },
  "language_info": {
   "codemirror_mode": {
    "name": "ipython",
    "version": 3
   },
   "file_extension": ".py",
   "mimetype": "text/x-python",
   "name": "python",
   "nbconvert_exporter": "python",
   "pygments_lexer": "ipython3",
   "version": "3.9.13"
  },
  "orig_nbformat": 4,
  "vscode": {
   "interpreter": {
    "hash": "a33fa296fbacb8644bc9195ef2d759981fef097b4feb655e1da77ca7517b39c3"
   }
  }
 },
 "nbformat": 4,
 "nbformat_minor": 2
}
