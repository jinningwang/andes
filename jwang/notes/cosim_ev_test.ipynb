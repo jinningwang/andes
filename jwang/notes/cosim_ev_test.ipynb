{
 "cells": [
  {
   "cell_type": "code",
   "execution_count": null,
   "metadata": {},
   "outputs": [],
   "source": [
    "%run -i 'cosim_import.py'"
   ]
  },
  {
   "cell_type": "code",
   "execution_count": null,
   "metadata": {},
   "outputs": [],
   "source": [
    "caseH = 18\n",
    "# --- EV Aggregator ---\n",
    "sse = ev_ssm(ts=caseH, N=50000, step=1, tp=40,\n",
    "             lr=0.1, lp=60, seed=2022, name=\"EVA\")\n",
    "sse.load_A(\"Aest.csv\")\n",
    "\n",
    "# --- ANDES case ---\n",
    "dir_path = os.path.abspath('..')\n",
    "case_path = '/case/ieee39_ev2.xlsx'\n",
    "case = dir_path + case_path\n",
    "ssa = andes.load(case,\n",
    "                 setup=True,\n",
    "                 no_output=True,\n",
    "                 default_config=False)\n",
    "\n",
    "# Set output mode as 'manual', turn off TDS progress bar\n",
    "ssa.TDS.config.save_mode = 'manual'\n",
    "ssa.TDS.config.no_tqdm = 1\n",
    "\n",
    "# Set load as constant load.\n",
    "ssa.PQ.config.p2p = 1\n",
    "ssa.PQ.config.q2q = 1\n",
    "ssa.PQ.config.p2z = 0\n",
    "ssa.PQ.config.q2z = 0\n",
    "ssa.PQ.pq2z = 0\n",
    "\n",
    "# Turn on ``numba`` can accelerate TDS.\n",
    "ssa.config.numba = 1\n",
    "\n",
    "ssa.PFlow.run()"
   ]
  },
  {
   "cell_type": "code",
   "execution_count": null,
   "metadata": {},
   "outputs": [],
   "source": [
    "ssa.TDS.config.tf = 2\n",
    "ssa.TDS.run()"
   ]
  },
  {
   "cell_type": "code",
   "execution_count": null,
   "metadata": {},
   "outputs": [],
   "source": [
    "ssa.DG.set(src='Pext0', attr='v', value=1, idx=ssa.EV2.idx.v)\n",
    "ssa.TurbineGov.set(src='paux0', attr='v', value=1, idx='TGOV1_1')\n",
    "ssa.TDS.config.tf = 4\n",
    "ssa.TDS.run()\n",
    "\n",
    "ssa.DG.set(src='Pext0', attr='v', value=2, idx=ssa.EV2.idx.v)\n",
    "ssa.TurbineGov.set(src='paux0', attr='v', value=2, idx='TGOV1_1')\n",
    "ssa.TDS.config.tf = 6\n",
    "ssa.TDS.run()\n",
    "\n",
    "ssa.DG.set(src='Pext0', attr='v', value=0, idx=ssa.EV2.idx.v)\n",
    "ssa.TurbineGov.set(src='paux0', attr='v', value=0, idx='TGOV1_1')\n",
    "ssa.TDS.config.tf = 20\n",
    "ssa.TDS.run()"
   ]
  },
  {
   "cell_type": "code",
   "execution_count": null,
   "metadata": {},
   "outputs": [],
   "source": [
    "ssa.TDS.plt.plot([ssa.EV2.Ipout_y, ssa.TGOV1N.pout], a=[0, 0])"
   ]
  }
 ],
 "metadata": {
  "kernelspec": {
   "display_name": "Python3",
   "language": "python",
   "name": "andes"
  },
  "language_info": {
   "codemirror_mode": {
    "name": "ipython",
    "version": 3
   },
   "file_extension": ".py",
   "mimetype": "text/x-python",
   "name": "python",
   "nbconvert_exporter": "python",
   "pygments_lexer": "ipython3",
   "version": "3.9.12"
  },
  "varInspector": {
   "cols": {
    "lenName": 16,
    "lenType": 16,
    "lenVar": 40
   },
   "kernels_config": {
    "python": {
     "delete_cmd_postfix": "",
     "delete_cmd_prefix": "del ",
     "library": "var_list.py",
     "varRefreshCmd": "print(var_dic_list())"
    },
    "r": {
     "delete_cmd_postfix": ") ",
     "delete_cmd_prefix": "rm(",
     "library": "var_list.r",
     "varRefreshCmd": "cat(var_dic_list()) "
    }
   },
   "types_to_exclude": [
    "module",
    "function",
    "builtin_function_or_method",
    "instance",
    "_Feature"
   ],
   "window_display": false
  },
  "vscode": {
   "interpreter": {
    "hash": "a33fa296fbacb8644bc9195ef2d759981fef097b4feb655e1da77ca7517b39c3"
   }
  }
 },
 "nbformat": 4,
 "nbformat_minor": 4
}
