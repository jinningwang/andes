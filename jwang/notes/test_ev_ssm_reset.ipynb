{
 "cells": [
  {
   "cell_type": "markdown",
   "metadata": {},
   "source": [
    "# Code"
   ]
  },
  {
   "cell_type": "markdown",
   "metadata": {},
   "source": [
    "EV aggregator implementation based on State Space Model."
   ]
  },
  {
   "cell_type": "markdown",
   "metadata": {},
   "source": [
    "### EV SSM Class"
   ]
  },
  {
   "cell_type": "code",
   "execution_count": 1,
   "metadata": {},
   "outputs": [],
   "source": [
    "import numpy as np\n",
    "import matplotlib.pyplot as plt\n",
    "import pandas as pd\n",
    "\n",
    "from ev_ssm import ev_ssm\n",
    "from tqdm import tqdm"
   ]
  },
  {
   "cell_type": "code",
   "execution_count": 2,
   "metadata": {},
   "outputs": [
    {
     "name": "stderr",
     "output_type": "stream",
     "text": [
      "EVA: ts=18[H], 50000 EVs, Total Q=434.54 MWh\n",
      "Online 14477, Q=362.27 MWh, SoC=0.7726\n",
      "Power(MW): Pt=-39.0266, Pc=-39.0266, Pd=-0.0\n",
      "Ctrl: 0=7897; 1=6580; \n",
      "EVA: Load A from Aest.csv.\n"
     ]
    }
   ],
   "source": [
    "sse = ev_ssm(ts=18, N=50000, step=1, tp=40,\n",
    "             lr=0.1, lp=60, seed=2022, name=\"EVA\",\n",
    "             n_pref=1, is_report=True,\n",
    "             tt_mean=0.3, tt_var=0.01, tt_lb=0, tt_ub=0.6,\n",
    "             ict_off=False, ecc_off=False)\n",
    "sse.load_A(\"Aest.csv\")"
   ]
  },
  {
   "cell_type": "code",
   "execution_count": 3,
   "metadata": {},
   "outputs": [
    {
     "ename": "TypeError",
     "evalue": "__init__() got multiple values for argument 'ts'",
     "output_type": "error",
     "traceback": [
      "\u001b[0;31m---------------------------------------------------------------------------\u001b[0m",
      "\u001b[0;31mTypeError\u001b[0m                                 Traceback (most recent call last)",
      "\u001b[1;32m/home/jwang175/andes/jwang/notes/test_ev_ssm_reset.ipynb Cell 6\u001b[0m in \u001b[0;36m<cell line: 1>\u001b[0;34m()\u001b[0m\n\u001b[0;32m----> <a href='vscode-notebook-cell://ssh-remote%2Bcepd00648.curent.utk.edu/home/jwang175/andes/jwang/notes/test_ev_ssm_reset.ipynb#W6sdnNjb2RlLXJlbW90ZQ%3D%3D?line=0'>1</a>\u001b[0m sse\u001b[39m.\u001b[39;49mreset()\n",
      "File \u001b[0;32m~/andes/jwang/notes/ev_ssm.py:925\u001b[0m, in \u001b[0;36mev_ssm.reset\u001b[0;34m(self)\u001b[0m\n\u001b[1;32m    923\u001b[0m A \u001b[39m=\u001b[39m \u001b[39mself\u001b[39m\u001b[39m.\u001b[39mA\u001b[39m.\u001b[39mcopy()\n\u001b[1;32m    924\u001b[0m \u001b[39m# TODO: reset with __init__ function\u001b[39;00m\n\u001b[0;32m--> 925\u001b[0m \u001b[39mself\u001b[39;49m\u001b[39m.\u001b[39;49m\u001b[39m__init__\u001b[39;49m(\u001b[39mself\u001b[39;49m, ts\u001b[39m=\u001b[39;49m\u001b[39m0\u001b[39;49m, N\u001b[39m=\u001b[39;49m\u001b[39m10000\u001b[39;49m, step\u001b[39m=\u001b[39;49m\u001b[39m1\u001b[39;49m, tp\u001b[39m=\u001b[39;49m\u001b[39m100\u001b[39;49m, t_agc\u001b[39m=\u001b[39;49m\u001b[39m4\u001b[39;49m,\n\u001b[1;32m    926\u001b[0m          lr\u001b[39m=\u001b[39;49m\u001b[39m0.1\u001b[39;49m, lp\u001b[39m=\u001b[39;49m\u001b[39m100\u001b[39;49m, seed\u001b[39m=\u001b[39;49m\u001b[39mNone\u001b[39;49;00m, name\u001b[39m=\u001b[39;49m\u001b[39m'\u001b[39;49m\u001b[39mEVA\u001b[39;49m\u001b[39m'\u001b[39;49m,\n\u001b[1;32m    927\u001b[0m          n_pref\u001b[39m=\u001b[39;49m\u001b[39m1\u001b[39;49m, is_report\u001b[39m=\u001b[39;49m\u001b[39mTrue\u001b[39;49;00m,\n\u001b[1;32m    928\u001b[0m          tt_mean\u001b[39m=\u001b[39;49m\u001b[39m0.5\u001b[39;49m, tt_var\u001b[39m=\u001b[39;49m\u001b[39m0.02\u001b[39;49m, tt_lb\u001b[39m=\u001b[39;49m\u001b[39m0\u001b[39;49m, tt_ub\u001b[39m=\u001b[39;49m\u001b[39m1\u001b[39;49m,\n\u001b[1;32m    929\u001b[0m          ict_off\u001b[39m=\u001b[39;49m\u001b[39mFalse\u001b[39;49;00m, ecc_off\u001b[39m=\u001b[39;49m\u001b[39mFalse\u001b[39;49;00m, t_dur\u001b[39m=\u001b[39;49m\u001b[39m1\u001b[39;49m)\n",
      "\u001b[0;31mTypeError\u001b[0m: __init__() got multiple values for argument 'ts'"
     ]
    }
   ],
   "source": [
    "sse.reset()"
   ]
  },
  {
   "cell_type": "code",
   "execution_count": null,
   "metadata": {},
   "outputs": [],
   "source": [
    "# sse.run(tf=caseH+end_time/3600, Pi=sse_agc[0],\n",
    "#         is_updateA=False, is_rstate=True,\n",
    "#         is_test=False, disable=True)"
   ]
  }
 ],
 "metadata": {
  "interpreter": {
   "hash": "750181ab3b727a2e6d1f5a043fc0cae3ee9b8f7684c9bfb1793857c8ebb93910"
  },
  "kernelspec": {
   "display_name": "Python3",
   "language": "python",
   "name": "andes"
  },
  "language_info": {
   "codemirror_mode": {
    "name": "ipython",
    "version": 3
   },
   "file_extension": ".py",
   "mimetype": "text/x-python",
   "name": "python",
   "nbconvert_exporter": "python",
   "pygments_lexer": "ipython3",
   "version": "3.9.13"
  }
 },
 "nbformat": 4,
 "nbformat_minor": 2
}
