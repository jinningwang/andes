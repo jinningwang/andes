{
 "cells": [
  {
   "cell_type": "markdown",
   "metadata": {},
   "source": [
    "# Test EV control"
   ]
  },
  {
   "cell_type": "code",
   "execution_count": 1,
   "metadata": {},
   "outputs": [],
   "source": [
    "import numpy as np\n",
    "import matplotlib.pyplot as plt\n",
    "import pandas as pd\n",
    "\n",
    "from ev_ssm import ev_ssm\n",
    "from tqdm import tqdm\n",
    "import scipy.stats as stats"
   ]
  },
  {
   "cell_type": "code",
   "execution_count": 2,
   "metadata": {},
   "outputs": [
    {
     "name": "stdout",
     "output_type": "stream",
     "text": [
      "0.post4478.dev0+gc7a63fd\n",
      "2.9.0\n"
     ]
    }
   ],
   "source": [
    "%run -i 'cosim_import.py'\n",
    "\n",
    "caseH = 18\n",
    "ict_off = False\n",
    "ecc_off = False\n",
    "\n",
    "%run -i 'cosim_setup_andes.py'\n",
    "\n",
    "%run -i 'cosim_loadsyn.py'\n",
    "\n",
    "%run -i 'cosim_setup_dispatch.py'\n",
    "\n",
    "%run -i 'cosim_linktable.py'\n",
    "\n",
    "# Change ``rru``, ``rrd``, ``rsfr``, ``t_total`` for necessary.\n",
    "t_total = 3600\n",
    "\n",
    "rru, rrd, rsfr = 1.0, 1.0, 0.04\n",
    "\n",
    "# Define functions and constants used in loop\n",
    "%run -i 'cosim_const.py'"
   ]
  },
  {
   "cell_type": "markdown",
   "metadata": {},
   "source": [
    "Revise the EV control logic as: C->I, I->D, SOC high to low"
   ]
  },
  {
   "cell_type": "code",
   "execution_count": null,
   "metadata": {},
   "outputs": [],
   "source": [
    "# --- Response ---\n",
    "\n",
    "sse = ev_ssm(ts=18, N=50000, step=1, tp=40,\n",
    "             lr=0.1, lp=40, seed=2022, name=\"EVA\",\n",
    "             n_pref=1, is_report=True,\n",
    "             tt_mean=0.5, tt_var=0.2, tt_lb=0, tt_ub=1,\n",
    "             ict_off=True, ecc_off=False)\n",
    "sse.load_A(\"Aest.csv\")\n",
    "\n",
    "evd0 = sse.ev.copy()\n",
    "\n",
    "np.random.seed(sse.seed)\n",
    "ict_rid = np.random.randint(low=0,\n",
    "                            high=sse.ev.shape[0],\n",
    "                            size=10000)\n",
    "\n",
    "sse.ev.na.iloc[ict_rid] = sse.ev.nam.iloc[ict_rid]\n",
    "sse.ev.lc.iloc[ict_rid] = 1\n",
    "sse.g_u()\n",
    "\n",
    "# initial EV data\n",
    "evd0 = sse.ev.copy()\n",
    "\n",
    "sse.g_frc()"
   ]
  },
  {
   "cell_type": "code",
   "execution_count": null,
   "metadata": {},
   "outputs": [],
   "source": [
    "sse.run(tf=18 + 1/3600, Pi=0,\n",
    "        is_updateA=False, is_rstate=True,\n",
    "        is_test=False, disable=False)"
   ]
  },
  {
   "cell_type": "code",
   "execution_count": null,
   "metadata": {},
   "outputs": [],
   "source": [
    "# list(np.arange(18, 18 + 3/3600 + 0.1/3600, 1/3600))"
   ]
  },
  {
   "cell_type": "code",
   "execution_count": null,
   "metadata": {},
   "outputs": [],
   "source": [
    "len(sse.tss)"
   ]
  },
  {
   "cell_type": "code",
   "execution_count": null,
   "metadata": {},
   "outputs": [],
   "source": [
    "sse.plot(tu='s')"
   ]
  },
  {
   "cell_type": "code",
   "execution_count": null,
   "metadata": {},
   "outputs": [],
   "source": [
    "sse.Prc"
   ]
  },
  {
   "cell_type": "code",
   "execution_count": null,
   "metadata": {},
   "outputs": [],
   "source": [
    "sse.run(tf=18 + 10/3600, Pi=0,\n",
    "        is_updateA=False, is_rstate=True,\n",
    "        is_test=False, disable=False)\n",
    "\n",
    "sse.run(tf=18 + 60/3600, Pi=10,\n",
    "        is_updateA=False, is_rstate=True,\n",
    "        is_test=False, disable=False)\n",
    "evd = sse.ev.copy()"
   ]
  },
  {
   "cell_type": "code",
   "execution_count": null,
   "metadata": {},
   "outputs": [],
   "source": [
    "evd0[evd0['lc']==1][['u', 'c', 'c0', 'lc', 'na', 'nam']].head()\n",
    "evd[evd['lc']==1][['u', 'c', 'c0', 'lc', 'na', 'nam']].head()\n",
    "\n",
    "# row index of evd0 where lc == 1\n",
    "lcrid = evd0[evd0['lc'] == 1].index\n",
    "\n",
    "# compared dataframe\n",
    "evdc = pd.DataFrame()\n",
    "evdc['lc0'] = evd0['lc']\n",
    "evdc['lc1'] = evd['lc']\n",
    "evdc['c0'] = evd0['c']\n",
    "evdc['c1'] = evd['c']\n",
    "evdc['soc0'] = evd0['soc']\n",
    "evdc['soc1'] = evd['soc']\n",
    "evdc[evdc['lc0']==1][evdc['c0'] != evdc['c1']]"
   ]
  },
  {
   "cell_type": "code",
   "execution_count": null,
   "metadata": {},
   "outputs": [],
   "source": [
    "# plt.plot(sse.Perl)"
   ]
  },
  {
   "cell_type": "code",
   "execution_count": null,
   "metadata": {},
   "outputs": [],
   "source": [
    "sse.xtab.sum().sum()"
   ]
  },
  {
   "cell_type": "code",
   "execution_count": null,
   "metadata": {},
   "outputs": [],
   "source": [
    "sse.nec"
   ]
  },
  {
   "cell_type": "code",
   "execution_count": null,
   "metadata": {},
   "outputs": [],
   "source": [
    "sse.rtab.sum().sum()"
   ]
  },
  {
   "cell_type": "code",
   "execution_count": null,
   "metadata": {},
   "outputs": [],
   "source": [
    "sse.x0.sum()"
   ]
  },
  {
   "cell_type": "code",
   "execution_count": null,
   "metadata": {},
   "outputs": [],
   "source": [
    "sse.plot(tu='s')"
   ]
  },
  {
   "cell_type": "code",
   "execution_count": null,
   "metadata": {},
   "outputs": [],
   "source": [
    "sse.ev['agc'].sum()"
   ]
  },
  {
   "cell_type": "code",
   "execution_count": null,
   "metadata": {},
   "outputs": [],
   "source": [
    "sse.Prc"
   ]
  },
  {
   "cell_type": "code",
   "execution_count": null,
   "metadata": {},
   "outputs": [],
   "source": [
    "sse.plot_agc(tu='s')"
   ]
  },
  {
   "cell_type": "code",
   "execution_count": null,
   "metadata": {},
   "outputs": [],
   "source": [
    "# --- Response ---\n",
    "\n",
    "# sse = ev_ssm(ts=10.4, N=10000, step=1, tp=40,\n",
    "#              lr=0.1, lp=40, seed=2022, name=\"EVA\")\n",
    "# sse.load_A(\"Aest.csv\")\n",
    "\n",
    "t_list = [60 + 60 * i for i in list(range(7))]\n",
    "p_list = [2, 0.05, 0.0, 1.0, -0.05, 1, 0]\n",
    "\n",
    "x0 = sse.x0.copy()\n",
    "print(sse.Prc)\n",
    "for t, p in zip(t_list, p_list):\n",
    "        sse.run(tf=18 + t/3600, Pi=p,\n",
    "                is_updateA=False, is_rstate=True,\n",
    "                is_test=False, disable=True)\n",
    "print(sse.Prc)\n",
    "x1 = sse.x0.copy()"
   ]
  },
  {
   "cell_type": "code",
   "execution_count": null,
   "metadata": {},
   "outputs": [],
   "source": [
    "plt.plot(sse.tss, sse.Perl)"
   ]
  },
  {
   "cell_type": "code",
   "execution_count": null,
   "metadata": {},
   "outputs": [],
   "source": [
    "sse.plot_agc()"
   ]
  },
  {
   "cell_type": "code",
   "execution_count": null,
   "metadata": {},
   "outputs": [],
   "source": [
    "sse = ev_ssm(ts=10.4, N=10000, step=1, tp=40,\n",
    "             lr=0.1, lp=40, seed=2022, name=\"EVA\",\n",
    "             is_report=False)\n",
    "\n",
    "# historical data\n",
    "ev_num = pd.read_csv(\"ev_num.csv\")\n",
    "\n",
    "# calculate the sf\n",
    "k1 = ev_num['ne'][(ev_num['time'] >= sse.ts) & (ev_num['time'] <= sse.ts+1/12)].mean()\n",
    "k0 = ev_num['ne'][ev_num['time'] >= sse.ts].iloc[0]\n",
    "k = k1 / k0\n",
    "\n",
    "# estiamte FRC\n",
    "sse.g_frc(nea=sse.ne*k)"
   ]
  },
  {
   "cell_type": "code",
   "execution_count": null,
   "metadata": {},
   "outputs": [],
   "source": [
    "## Run to get the EV numbers within a day\n",
    "\n",
    "# import joblib\n",
    "# from joblib import Parallel, delayed\n",
    "\n",
    "# Nt = 10000\n",
    "# def rne(time):\n",
    "#     sse1 = ev_ssm(ts=time, N=Nt, step=1, tp=40,\n",
    "#                   lr=0.1, lp=60, seed=2022, name=\"EVA\",\n",
    "#                   is_report=False)\n",
    "#     return sse1.ne\n",
    "\n",
    "# # interval by minutes, 24H\n",
    "# rnel = Parallel(n_jobs=joblib.cpu_count())(delayed(rne)(i) for i in np.arange(1/60, 24, 1/60))\n",
    "\n",
    "# ev_num = pd.DataFrame()\n",
    "# ev_num['time'] = np.arange(1/60, 24, 1/60)\n",
    "# ev_num['ne'] = rnel\n",
    "# ev_num.to_csv(\"ev_num.csv\", index=False)"
   ]
  }
 ],
 "metadata": {
  "kernelspec": {
   "display_name": "Python 3.9.13",
   "language": "python",
   "name": "python3"
  },
  "language_info": {
   "codemirror_mode": {
    "name": "ipython",
    "version": 3
   },
   "file_extension": ".py",
   "mimetype": "text/x-python",
   "name": "python",
   "nbconvert_exporter": "python",
   "pygments_lexer": "ipython3",
   "version": "3.9.13"
  },
  "vscode": {
   "interpreter": {
    "hash": "a33fa296fbacb8644bc9195ef2d759981fef097b4feb655e1da77ca7517b39c3"
   }
  }
 },
 "nbformat": 4,
 "nbformat_minor": 2
}
