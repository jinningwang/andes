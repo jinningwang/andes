{
 "cells": [
  {
   "cell_type": "markdown",
   "metadata": {},
   "source": [
    "# Test EV control"
   ]
  },
  {
   "cell_type": "code",
   "execution_count": null,
   "metadata": {},
   "outputs": [],
   "source": [
    "from collections import OrderedDict\n",
    "import pandas as pd\n",
    "x = OrderedDict(a=1)\n",
    "x['b']=2\n",
    "x['a'] = 1\n",
    "x"
   ]
  },
  {
   "cell_type": "code",
   "execution_count": null,
   "metadata": {},
   "outputs": [],
   "source": [
    "from collections import OrderedDict\n",
    "import pandas as pd\n",
    "x = OrderedDict(a=1)\n",
    "y = {\"b\":1}\n",
    "x = {**x, **y}\n",
    "x\n",
    "x.update(a=5, b=6)\n",
    "x"
   ]
  },
  {
   "cell_type": "code",
   "execution_count": null,
   "metadata": {},
   "outputs": [],
   "source": [
    "pd.Series(data=dict(ts=1, Pt=2))"
   ]
  },
  {
   "cell_type": "code",
   "execution_count": null,
   "metadata": {},
   "outputs": [],
   "source": []
  },
  {
   "cell_type": "code",
   "execution_count": null,
   "metadata": {},
   "outputs": [],
   "source": [
    "import pandas as pd\n",
    "tsd = pd.DataFrame(columns=['ts', 'Pt'])\n",
    "data = pd.DataFrame(data=dict(ts=1, Pt=2), index=[1])\n",
    "tsd = pd.concat([tsd, data], ignore_index=True)\n",
    "tsd = pd.concat([tsd, data], ignore_index=True)\n",
    "tsd"
   ]
  },
  {
   "cell_type": "code",
   "execution_count": null,
   "metadata": {},
   "outputs": [],
   "source": [
    "sse.tsd"
   ]
  },
  {
   "cell_type": "code",
   "execution_count": null,
   "metadata": {},
   "outputs": [],
   "source": [
    "sse.data"
   ]
  },
  {
   "cell_type": "code",
   "execution_count": null,
   "metadata": {},
   "outputs": [],
   "source": [
    "sse.data"
   ]
  },
  {
   "cell_type": "code",
   "execution_count": null,
   "metadata": {},
   "outputs": [],
   "source": [
    "from ev_ssm import ev_ssm\n",
    "\n",
    "sse = ev_ssm(ts=18, N=10000, step=1, tp=40,\n",
    "             lr=0.1, lp=40, seed=2022, name=\"EVA\",\n",
    "             n_pref=1, is_report=True,\n",
    "             tt_mean=0.5, tt_var=0.2, tt_lb=0, tt_ub=1,\n",
    "             ict_off=False, ecc_off=False)\n",
    "\n",
    "sse.data"
   ]
  },
  {
   "cell_type": "code",
   "execution_count": 1,
   "metadata": {},
   "outputs": [
    {
     "name": "stderr",
     "output_type": "stream",
     "text": [
      "/home/jwang175/andes/jwang/notes/ev_ssm.py:491: SettingWithCopyWarning: \n",
      "A value is trying to be set on a copy of a slice from a DataFrame\n",
      "\n",
      "See the caveats in the documentation: https://pandas.pydata.org/pandas-docs/stable/user_guide/indexing.html#returning-a-view-versus-a-copy\n",
      "  self.ev['na'].iloc[na_rid] = self.ev['nam'].iloc[na_rid]\n",
      "/home/jwang175/andes/jwang/notes/ev_ssm.py:492: SettingWithCopyWarning: \n",
      "A value is trying to be set on a copy of a slice from a DataFrame\n",
      "\n",
      "See the caveats in the documentation: https://pandas.pydata.org/pandas-docs/stable/user_guide/indexing.html#returning-a-view-versus-a-copy\n",
      "  self.ev['lc'].iloc[na_rid] = 1\n",
      "EVA: ts=18[H], 10000 EVs, Total Q=87.7 MWh\n",
      "Online 2925, Q=73.03 MWh, SoC=0.7717\n",
      "Power(MW): Pt=-7.9463, Pc=-7.9463, Pd=-0.0\n",
      "Ctrl: 0=1584; 1=1341; \n",
      "EVA: Load A from Aest.csv.\n",
      "EVA MCS: 100%|██████████| 6/6 [00:01<00:00,  3.26it/s]\n"
     ]
    }
   ],
   "source": [
    "from ev_ssm import ev_ssm\n",
    "\n",
    "sse = ev_ssm(ts=18, N=10000, step=1, tp=40,\n",
    "             lr=0.1, lp=40, seed=2022, name=\"EVA\",\n",
    "             n_pref=1, is_report=True,\n",
    "             tt_mean=0.5, tt_var=0.2, tt_lb=0, tt_ub=1,\n",
    "             ict_off=False, ecc_off=False)\n",
    "\n",
    "sse.load_A(\"Aest.csv\")\n",
    "\n",
    "sse.run(tf=18 + 5/3600, Pi=0,\n",
    "        is_updateA=False, is_rstate=True,\n",
    "        is_test=False, disable=False)"
   ]
  },
  {
   "cell_type": "code",
   "execution_count": null,
   "metadata": {},
   "outputs": [],
   "source": [
    "plt.legend()"
   ]
  },
  {
   "cell_type": "code",
   "execution_count": null,
   "metadata": {},
   "outputs": [],
   "source": [
    "import matplotlib.pyplot as plt\n",
    "fig_ev, ax_ev = sse.plot(tu='h', style='default')\n",
    "# plt.legend(ax_ev, ['1', '2', '3'])\n",
    "fig_ev.legend()"
   ]
  },
  {
   "cell_type": "code",
   "execution_count": null,
   "metadata": {},
   "outputs": [],
   "source": [
    "ax_ev.get_label()"
   ]
  },
  {
   "cell_type": "code",
   "execution_count": 5,
   "metadata": {},
   "outputs": [
    {
     "ename": "AttributeError",
     "evalue": "'Figure' object has no property 'loc'",
     "output_type": "error",
     "traceback": [
      "\u001b[0;31m---------------------------------------------------------------------------\u001b[0m",
      "\u001b[0;31mAttributeError\u001b[0m                            Traceback (most recent call last)",
      "\u001b[1;32m/home/jwang175/andes/jwang/notes/test_ev_ssm_tol3.ipynb Cell 15\u001b[0m in \u001b[0;36m<cell line: 1>\u001b[0;34m()\u001b[0m\n\u001b[0;32m----> <a href='vscode-notebook-cell://ssh-remote%2Bcepd00648.curent.utk.edu/home/jwang175/andes/jwang/notes/test_ev_ssm_tol3.ipynb#Y235sdnNjb2RlLXJlbW90ZQ%3D%3D?line=0'>1</a>\u001b[0m sse\u001b[39m.\u001b[39;49mplot(loc\u001b[39m=\u001b[39;49m\u001b[39m'\u001b[39;49m\u001b[39mupper left\u001b[39;49m\u001b[39m'\u001b[39;49m)\n",
      "File \u001b[0;32m~/andes/jwang/notes/ev_ssm.py:634\u001b[0m, in \u001b[0;36mev_ssm.plot\u001b[0;34m(self, figsize, style, tu, **kwargs)\u001b[0m\n\u001b[1;32m    621\u001b[0m \u001b[39m\"\"\"\u001b[39;00m\n\u001b[1;32m    622\u001b[0m \u001b[39mPlot the results.\u001b[39;00m\n\u001b[1;32m    623\u001b[0m \n\u001b[0;32m   (...)\u001b[0m\n\u001b[1;32m    631\u001b[0m \u001b[39m    Time unit, 'h' for hour, 's' for second.\u001b[39;00m\n\u001b[1;32m    632\u001b[0m \u001b[39m\"\"\"\u001b[39;00m\n\u001b[1;32m    633\u001b[0m plt\u001b[39m.\u001b[39mstyle\u001b[39m.\u001b[39muse(style)\n\u001b[0;32m--> 634\u001b[0m fig_ev, ax_ev \u001b[39m=\u001b[39m plt\u001b[39m.\u001b[39;49msubplots(\u001b[39m*\u001b[39;49m\u001b[39m*\u001b[39;49mkwargs)\n\u001b[1;32m    635\u001b[0m \u001b[39mself\u001b[39m\u001b[39m.\u001b[39mtsd[\u001b[39m'\u001b[39m\u001b[39mts2\u001b[39m\u001b[39m'\u001b[39m] \u001b[39m=\u001b[39m \u001b[39m3600\u001b[39m\u001b[39m*\u001b[39m (\u001b[39mself\u001b[39m\u001b[39m.\u001b[39mtsd[\u001b[39m'\u001b[39m\u001b[39mts\u001b[39m\u001b[39m'\u001b[39m] \u001b[39m-\u001b[39m \u001b[39mself\u001b[39m\u001b[39m.\u001b[39mtsd[\u001b[39m'\u001b[39m\u001b[39mts\u001b[39m\u001b[39m'\u001b[39m]\u001b[39m.\u001b[39miloc[\u001b[39m0\u001b[39m])\n\u001b[1;32m    636\u001b[0m \u001b[39mif\u001b[39;00m tu \u001b[39m==\u001b[39m \u001b[39m'\u001b[39m\u001b[39ms\u001b[39m\u001b[39m'\u001b[39m:\n",
      "File \u001b[0;32m~/mambaforge/envs/andes/lib/python3.9/site-packages/matplotlib/pyplot.py:1455\u001b[0m, in \u001b[0;36msubplots\u001b[0;34m(nrows, ncols, sharex, sharey, squeeze, subplot_kw, gridspec_kw, **fig_kw)\u001b[0m\n\u001b[1;32m   1321\u001b[0m \u001b[39mdef\u001b[39;00m \u001b[39msubplots\u001b[39m(nrows\u001b[39m=\u001b[39m\u001b[39m1\u001b[39m, ncols\u001b[39m=\u001b[39m\u001b[39m1\u001b[39m, \u001b[39m*\u001b[39m, sharex\u001b[39m=\u001b[39m\u001b[39mFalse\u001b[39;00m, sharey\u001b[39m=\u001b[39m\u001b[39mFalse\u001b[39;00m, squeeze\u001b[39m=\u001b[39m\u001b[39mTrue\u001b[39;00m,\n\u001b[1;32m   1322\u001b[0m              subplot_kw\u001b[39m=\u001b[39m\u001b[39mNone\u001b[39;00m, gridspec_kw\u001b[39m=\u001b[39m\u001b[39mNone\u001b[39;00m, \u001b[39m*\u001b[39m\u001b[39m*\u001b[39mfig_kw):\n\u001b[1;32m   1323\u001b[0m     \u001b[39m\"\"\"\u001b[39;00m\n\u001b[1;32m   1324\u001b[0m \u001b[39m    Create a figure and a set of subplots.\u001b[39;00m\n\u001b[1;32m   1325\u001b[0m \n\u001b[0;32m   (...)\u001b[0m\n\u001b[1;32m   1453\u001b[0m \n\u001b[1;32m   1454\u001b[0m \u001b[39m    \"\"\"\u001b[39;00m\n\u001b[0;32m-> 1455\u001b[0m     fig \u001b[39m=\u001b[39m figure(\u001b[39m*\u001b[39;49m\u001b[39m*\u001b[39;49mfig_kw)\n\u001b[1;32m   1456\u001b[0m     axs \u001b[39m=\u001b[39m fig\u001b[39m.\u001b[39msubplots(nrows\u001b[39m=\u001b[39mnrows, ncols\u001b[39m=\u001b[39mncols, sharex\u001b[39m=\u001b[39msharex, sharey\u001b[39m=\u001b[39msharey,\n\u001b[1;32m   1457\u001b[0m                        squeeze\u001b[39m=\u001b[39msqueeze, subplot_kw\u001b[39m=\u001b[39msubplot_kw,\n\u001b[1;32m   1458\u001b[0m                        gridspec_kw\u001b[39m=\u001b[39mgridspec_kw)\n\u001b[1;32m   1459\u001b[0m     \u001b[39mreturn\u001b[39;00m fig, axs\n",
      "File \u001b[0;32m~/mambaforge/envs/andes/lib/python3.9/site-packages/matplotlib/pyplot.py:808\u001b[0m, in \u001b[0;36mfigure\u001b[0;34m(num, figsize, dpi, facecolor, edgecolor, frameon, FigureClass, clear, **kwargs)\u001b[0m\n\u001b[1;32m    799\u001b[0m \u001b[39mif\u001b[39;00m \u001b[39mlen\u001b[39m(allnums) \u001b[39m==\u001b[39m max_open_warning \u001b[39m>\u001b[39m\u001b[39m=\u001b[39m \u001b[39m1\u001b[39m:\n\u001b[1;32m    800\u001b[0m     _api\u001b[39m.\u001b[39mwarn_external(\n\u001b[1;32m    801\u001b[0m         \u001b[39mf\u001b[39m\u001b[39m\"\u001b[39m\u001b[39mMore than \u001b[39m\u001b[39m{\u001b[39;00mmax_open_warning\u001b[39m}\u001b[39;00m\u001b[39m figures have been opened. \u001b[39m\u001b[39m\"\u001b[39m\n\u001b[1;32m    802\u001b[0m         \u001b[39mf\u001b[39m\u001b[39m\"\u001b[39m\u001b[39mFigures created through the pyplot interface \u001b[39m\u001b[39m\"\u001b[39m\n\u001b[0;32m   (...)\u001b[0m\n\u001b[1;32m    805\u001b[0m         \u001b[39mf\u001b[39m\u001b[39m\"\u001b[39m\u001b[39mwarning, see the rcParam `figure.max_open_warning`).\u001b[39m\u001b[39m\"\u001b[39m,\n\u001b[1;32m    806\u001b[0m         \u001b[39mRuntimeWarning\u001b[39;00m)\n\u001b[0;32m--> 808\u001b[0m manager \u001b[39m=\u001b[39m new_figure_manager(\n\u001b[1;32m    809\u001b[0m     num, figsize\u001b[39m=\u001b[39;49mfigsize, dpi\u001b[39m=\u001b[39;49mdpi,\n\u001b[1;32m    810\u001b[0m     facecolor\u001b[39m=\u001b[39;49mfacecolor, edgecolor\u001b[39m=\u001b[39;49medgecolor, frameon\u001b[39m=\u001b[39;49mframeon,\n\u001b[1;32m    811\u001b[0m     FigureClass\u001b[39m=\u001b[39;49mFigureClass, \u001b[39m*\u001b[39;49m\u001b[39m*\u001b[39;49mkwargs)\n\u001b[1;32m    812\u001b[0m fig \u001b[39m=\u001b[39m manager\u001b[39m.\u001b[39mcanvas\u001b[39m.\u001b[39mfigure\n\u001b[1;32m    813\u001b[0m \u001b[39mif\u001b[39;00m fig_label:\n",
      "File \u001b[0;32m~/mambaforge/envs/andes/lib/python3.9/site-packages/matplotlib/pyplot.py:327\u001b[0m, in \u001b[0;36mnew_figure_manager\u001b[0;34m(*args, **kwargs)\u001b[0m\n\u001b[1;32m    325\u001b[0m \u001b[39m\"\"\"Create a new figure manager instance.\"\"\"\u001b[39;00m\n\u001b[1;32m    326\u001b[0m _warn_if_gui_out_of_main_thread()\n\u001b[0;32m--> 327\u001b[0m \u001b[39mreturn\u001b[39;00m _get_backend_mod()\u001b[39m.\u001b[39;49mnew_figure_manager(\u001b[39m*\u001b[39;49margs, \u001b[39m*\u001b[39;49m\u001b[39m*\u001b[39;49mkwargs)\n",
      "File \u001b[0;32m~/mambaforge/envs/andes/lib/python3.9/site-packages/matplotlib/backend_bases.py:3493\u001b[0m, in \u001b[0;36m_Backend.new_figure_manager\u001b[0;34m(cls, num, *args, **kwargs)\u001b[0m\n\u001b[1;32m   3491\u001b[0m \u001b[39mfrom\u001b[39;00m \u001b[39mmatplotlib\u001b[39;00m\u001b[39m.\u001b[39;00m\u001b[39mfigure\u001b[39;00m \u001b[39mimport\u001b[39;00m Figure\n\u001b[1;32m   3492\u001b[0m fig_cls \u001b[39m=\u001b[39m kwargs\u001b[39m.\u001b[39mpop(\u001b[39m'\u001b[39m\u001b[39mFigureClass\u001b[39m\u001b[39m'\u001b[39m, Figure)\n\u001b[0;32m-> 3493\u001b[0m fig \u001b[39m=\u001b[39m fig_cls(\u001b[39m*\u001b[39;49margs, \u001b[39m*\u001b[39;49m\u001b[39m*\u001b[39;49mkwargs)\n\u001b[1;32m   3494\u001b[0m \u001b[39mreturn\u001b[39;00m \u001b[39mcls\u001b[39m\u001b[39m.\u001b[39mnew_figure_manager_given_figure(num, fig)\n",
      "File \u001b[0;32m~/mambaforge/envs/andes/lib/python3.9/site-packages/matplotlib/figure.py:2292\u001b[0m, in \u001b[0;36mFigure.__init__\u001b[0;34m(self, figsize, dpi, facecolor, edgecolor, linewidth, frameon, subplotpars, tight_layout, constrained_layout, layout, **kwargs)\u001b[0m\n\u001b[1;32m   2208\u001b[0m \u001b[39mdef\u001b[39;00m \u001b[39m__init__\u001b[39m(\u001b[39mself\u001b[39m,\n\u001b[1;32m   2209\u001b[0m              figsize\u001b[39m=\u001b[39m\u001b[39mNone\u001b[39;00m,\n\u001b[1;32m   2210\u001b[0m              dpi\u001b[39m=\u001b[39m\u001b[39mNone\u001b[39;00m,\n\u001b[0;32m   (...)\u001b[0m\n\u001b[1;32m   2220\u001b[0m              \u001b[39m*\u001b[39m\u001b[39m*\u001b[39mkwargs\n\u001b[1;32m   2221\u001b[0m              ):\n\u001b[1;32m   2222\u001b[0m     \u001b[39m\"\"\"\u001b[39;00m\n\u001b[1;32m   2223\u001b[0m \u001b[39m    Parameters\u001b[39;00m\n\u001b[1;32m   2224\u001b[0m \u001b[39m    ----------\u001b[39;00m\n\u001b[0;32m   (...)\u001b[0m\n\u001b[1;32m   2290\u001b[0m \u001b[39m        %(Figure:kwdoc)s\u001b[39;00m\n\u001b[1;32m   2291\u001b[0m \u001b[39m    \"\"\"\u001b[39;00m\n\u001b[0;32m-> 2292\u001b[0m     \u001b[39msuper\u001b[39;49m()\u001b[39m.\u001b[39;49m\u001b[39m__init__\u001b[39;49m(\u001b[39m*\u001b[39;49m\u001b[39m*\u001b[39;49mkwargs)\n\u001b[1;32m   2294\u001b[0m     \u001b[39mif\u001b[39;00m layout \u001b[39mis\u001b[39;00m \u001b[39mnot\u001b[39;00m \u001b[39mNone\u001b[39;00m:\n\u001b[1;32m   2295\u001b[0m         \u001b[39mif\u001b[39;00m tight_layout \u001b[39mis\u001b[39;00m \u001b[39mnot\u001b[39;00m \u001b[39mNone\u001b[39;00m:\n",
      "File \u001b[0;32m~/mambaforge/envs/andes/lib/python3.9/site-packages/matplotlib/figure.py:216\u001b[0m, in \u001b[0;36mFigureBase.__init__\u001b[0;34m(self, **kwargs)\u001b[0m\n\u001b[1;32m    214\u001b[0m \u001b[39mself\u001b[39m\u001b[39m.\u001b[39mstale \u001b[39m=\u001b[39m \u001b[39mTrue\u001b[39;00m\n\u001b[1;32m    215\u001b[0m \u001b[39mself\u001b[39m\u001b[39m.\u001b[39msuppressComposite \u001b[39m=\u001b[39m \u001b[39mNone\u001b[39;00m\n\u001b[0;32m--> 216\u001b[0m \u001b[39mself\u001b[39;49m\u001b[39m.\u001b[39;49mset(\u001b[39m*\u001b[39;49m\u001b[39m*\u001b[39;49mkwargs)\n",
      "File \u001b[0;32m~/mambaforge/envs/andes/lib/python3.9/site-packages/matplotlib/artist.py:116\u001b[0m, in \u001b[0;36mArtist.__init_subclass__.<locals>.<lambda>\u001b[0;34m(self, **kwargs)\u001b[0m\n\u001b[1;32m    108\u001b[0m \u001b[39mif\u001b[39;00m \u001b[39mnot\u001b[39;00m \u001b[39mhasattr\u001b[39m(\u001b[39mcls\u001b[39m\u001b[39m.\u001b[39mset, \u001b[39m'\u001b[39m\u001b[39m_autogenerated_signature\u001b[39m\u001b[39m'\u001b[39m):\n\u001b[1;32m    109\u001b[0m     \u001b[39m# Don't overwrite cls.set if the subclass or one of its parents\u001b[39;00m\n\u001b[1;32m    110\u001b[0m     \u001b[39m# has defined a set method set itself.\u001b[39;00m\n\u001b[1;32m    111\u001b[0m     \u001b[39m# If there was no explicit definition, cls.set is inherited from\u001b[39;00m\n\u001b[1;32m    112\u001b[0m     \u001b[39m# the hierarchy of auto-generated set methods, which hold the\u001b[39;00m\n\u001b[1;32m    113\u001b[0m     \u001b[39m# flag _autogenerated_signature.\u001b[39;00m\n\u001b[1;32m    114\u001b[0m     \u001b[39mreturn\u001b[39;00m\n\u001b[0;32m--> 116\u001b[0m \u001b[39mcls\u001b[39m\u001b[39m.\u001b[39mset \u001b[39m=\u001b[39m \u001b[39mlambda\u001b[39;00m \u001b[39mself\u001b[39m, \u001b[39m*\u001b[39m\u001b[39m*\u001b[39mkwargs: Artist\u001b[39m.\u001b[39;49mset(\u001b[39mself\u001b[39;49m, \u001b[39m*\u001b[39;49m\u001b[39m*\u001b[39;49mkwargs)\n\u001b[1;32m    117\u001b[0m \u001b[39mcls\u001b[39m\u001b[39m.\u001b[39mset\u001b[39m.\u001b[39m\u001b[39m__name__\u001b[39m \u001b[39m=\u001b[39m \u001b[39m\"\u001b[39m\u001b[39mset\u001b[39m\u001b[39m\"\u001b[39m\n\u001b[1;32m    118\u001b[0m \u001b[39mcls\u001b[39m\u001b[39m.\u001b[39mset\u001b[39m.\u001b[39m\u001b[39m__qualname__\u001b[39m \u001b[39m=\u001b[39m \u001b[39mf\u001b[39m\u001b[39m\"\u001b[39m\u001b[39m{\u001b[39;00m\u001b[39mcls\u001b[39m\u001b[39m.\u001b[39m\u001b[39m__qualname__\u001b[39m\u001b[39m}\u001b[39;00m\u001b[39m.set\u001b[39m\u001b[39m\"\u001b[39m\n",
      "File \u001b[0;32m~/mambaforge/envs/andes/lib/python3.9/site-packages/matplotlib/artist.py:1164\u001b[0m, in \u001b[0;36mArtist.set\u001b[0;34m(self, **kwargs)\u001b[0m\n\u001b[1;32m   1159\u001b[0m \u001b[39mdef\u001b[39;00m \u001b[39mset\u001b[39m(\u001b[39mself\u001b[39m, \u001b[39m*\u001b[39m\u001b[39m*\u001b[39mkwargs):\n\u001b[1;32m   1160\u001b[0m     \u001b[39m# docstring and signature are auto-generated via\u001b[39;00m\n\u001b[1;32m   1161\u001b[0m     \u001b[39m# Artist._update_set_signature_and_docstring() at the end of the\u001b[39;00m\n\u001b[1;32m   1162\u001b[0m     \u001b[39m# module.\u001b[39;00m\n\u001b[1;32m   1163\u001b[0m     kwargs \u001b[39m=\u001b[39m cbook\u001b[39m.\u001b[39mnormalize_kwargs(kwargs, \u001b[39mself\u001b[39m)\n\u001b[0;32m-> 1164\u001b[0m     \u001b[39mreturn\u001b[39;00m \u001b[39mself\u001b[39;49m\u001b[39m.\u001b[39;49mupdate(kwargs)\n",
      "File \u001b[0;32m~/mambaforge/envs/andes/lib/python3.9/site-packages/matplotlib/artist.py:1064\u001b[0m, in \u001b[0;36mArtist.update\u001b[0;34m(self, props)\u001b[0m\n\u001b[1;32m   1062\u001b[0m             func \u001b[39m=\u001b[39m \u001b[39mgetattr\u001b[39m(\u001b[39mself\u001b[39m, \u001b[39mf\u001b[39m\u001b[39m\"\u001b[39m\u001b[39mset_\u001b[39m\u001b[39m{\u001b[39;00mk\u001b[39m}\u001b[39;00m\u001b[39m\"\u001b[39m, \u001b[39mNone\u001b[39;00m)\n\u001b[1;32m   1063\u001b[0m             \u001b[39mif\u001b[39;00m \u001b[39mnot\u001b[39;00m callable(func):\n\u001b[0;32m-> 1064\u001b[0m                 \u001b[39mraise\u001b[39;00m \u001b[39mAttributeError\u001b[39;00m(\u001b[39mf\u001b[39m\u001b[39m\"\u001b[39m\u001b[39m{\u001b[39;00m\u001b[39mtype\u001b[39m(\u001b[39mself\u001b[39m)\u001b[39m.\u001b[39m\u001b[39m__name__\u001b[39m\u001b[39m!r}\u001b[39;00m\u001b[39m object \u001b[39m\u001b[39m\"\u001b[39m\n\u001b[1;32m   1065\u001b[0m                                      \u001b[39mf\u001b[39m\u001b[39m\"\u001b[39m\u001b[39mhas no property \u001b[39m\u001b[39m{\u001b[39;00mk\u001b[39m!r}\u001b[39;00m\u001b[39m\"\u001b[39m)\n\u001b[1;32m   1066\u001b[0m             ret\u001b[39m.\u001b[39mappend(func(v))\n\u001b[1;32m   1067\u001b[0m \u001b[39mif\u001b[39;00m ret:\n",
      "\u001b[0;31mAttributeError\u001b[0m: 'Figure' object has no property 'loc'"
     ]
    }
   ],
   "source": [
    "sse.plot(loc='upper left')"
   ]
  },
  {
   "cell_type": "code",
   "execution_count": 2,
   "metadata": {},
   "outputs": [
    {
     "data": {
      "text/plain": [
       "(<Figure size 640x480 with 1 Axes>,\n",
       " <AxesSubplot:title={'center':'AGC response'}, xlabel='Time [H]', ylabel='Power (MW)'>)"
      ]
     },
     "execution_count": 2,
     "metadata": {},
     "output_type": "execute_result"
    },
    {
     "data": {
      "image/png": "[encoded data removed]",
      "text/plain": [
       "<Figure size 640x480 with 1 Axes>"
      ]
     },
     "metadata": {},
     "output_type": "display_data"
    }
   ],
   "source": [
    "sse.plot_agc(tu='h', style='default')"
   ]
  },
  {
   "cell_type": "code",
   "execution_count": 3,
   "metadata": {},
   "outputs": [
    {
     "data": {
      "text/plain": [
       "[<matplotlib.lines.Line2D at 0x7f4882ddff10>]"
      ]
     },
     "execution_count": 3,
     "metadata": {},
     "output_type": "execute_result"
    },
    {
     "data": {
      "image/png": "[encoded data removed]",
      "text/plain": [
       "<Figure size 1000x600 with 2 Axes>"
      ]
     },
     "metadata": {},
     "output_type": "display_data"
    }
   ],
   "source": [
    "import matplotlib.pyplot as plt\n",
    "fig_agc, ax_agc = plt.subplots()\n",
    "sse.tsd.plot(y='Pt', ax=ax_agc, figsize=(10, 6))\n",
    "\n",
    "ax2 = ax_agc.twinx()\n",
    "ax2.plot(sse.tsd.index, sse.tsd['ne'], 'r-')"
   ]
  },
  {
   "cell_type": "code",
   "execution_count": null,
   "metadata": {},
   "outputs": [],
   "source": [
    "sse.plot()"
   ]
  },
  {
   "cell_type": "code",
   "execution_count": null,
   "metadata": {},
   "outputs": [],
   "source": [
    "import numpy as np\n",
    "import matplotlib.pyplot as plt\n",
    "import pandas as pd\n",
    "\n",
    "from ev_ssm import ev_ssm\n",
    "from tqdm import tqdm\n",
    "import scipy.stats as stats"
   ]
  },
  {
   "cell_type": "code",
   "execution_count": null,
   "metadata": {},
   "outputs": [],
   "source": [
    "%run -i 'cosim_import.py'\n",
    "\n",
    "caseH = 18\n",
    "ict_off = False\n",
    "ecc_off = False\n",
    "\n",
    "%run -i 'cosim_setup_andes.py'\n",
    "\n",
    "%run -i 'cosim_loadsyn.py'\n",
    "\n",
    "%run -i 'cosim_setup_dispatch.py'\n",
    "\n",
    "%run -i 'cosim_linktable.py'\n",
    "\n",
    "# Change ``rru``, ``rrd``, ``rsfr``, ``t_total`` for necessary.\n",
    "t_total = 3600\n",
    "\n",
    "rru, rrd, rsfr = 1.0, 1.0, 0.04\n",
    "\n",
    "# Define functions and constants used in loop\n",
    "%run -i 'cosim_const.py'"
   ]
  },
  {
   "cell_type": "markdown",
   "metadata": {},
   "source": [
    "Revise the EV control logic as: C->I, I->D, SOC high to low"
   ]
  },
  {
   "cell_type": "code",
   "execution_count": null,
   "metadata": {},
   "outputs": [],
   "source": [
    "# --- Response ---\n",
    "\n",
    "sse = ev_ssm(ts=18, N=10000, step=1, tp=40,\n",
    "             lr=0.1, lp=40, seed=2022, name=\"EVA\",\n",
    "             n_pref=1, is_report=True,\n",
    "             tt_mean=0.5, tt_var=0.2, tt_lb=0, tt_ub=1,\n",
    "             ict_off=False, ecc_off=False)\n",
    "sse.load_A(\"Aest.csv\")\n",
    "\n",
    "evd0 = sse.ev.copy()\n",
    "\n",
    "# quiet some EVs by force\n",
    "np.random.seed(sse.seed)\n",
    "ict_rid = np.random.randint(low=0,\n",
    "                            high=sse.ev.shape[0],\n",
    "                            size=3000)\n",
    "\n",
    "sse.ev.na.iloc[ict_rid] = sse.ev.nam.iloc[ict_rid]\n",
    "sse.ev.lc.iloc[ict_rid] = 1\n",
    "sse.g_u()\n",
    "\n",
    "# initial EV data\n",
    "evd0 = sse.ev.copy()\n",
    "\n",
    "sse.g_frc()"
   ]
  },
  {
   "cell_type": "code",
   "execution_count": null,
   "metadata": {},
   "outputs": [],
   "source": [
    "sse.run(tf=18 + 5/3600, Pi=0,\n",
    "        is_updateA=False, is_rstate=True,\n",
    "        is_test=False, disable=False)\n",
    "\n",
    "sse.run(tf=18 + 50/3600, Pi=10,\n",
    "        is_updateA=False, is_rstate=True,\n",
    "        is_test=False, disable=False)\n",
    "\n",
    "sse.run(tf=18 + 100/3600, Pi=0,\n",
    "        is_updateA=False, is_rstate=True,\n",
    "        is_test=False, disable=False)"
   ]
  },
  {
   "cell_type": "code",
   "execution_count": null,
   "metadata": {},
   "outputs": [],
   "source": [
    "sse.nec"
   ]
  },
  {
   "cell_type": "code",
   "execution_count": null,
   "metadata": {},
   "outputs": [],
   "source": [
    "sse.ne"
   ]
  },
  {
   "cell_type": "code",
   "execution_count": null,
   "metadata": {},
   "outputs": [],
   "source": [
    "sse"
   ]
  },
  {
   "cell_type": "code",
   "execution_count": null,
   "metadata": {},
   "outputs": [],
   "source": [
    "u, v, us, vs, usp, vsp = sse.r_agc(10)"
   ]
  },
  {
   "cell_type": "code",
   "execution_count": null,
   "metadata": {},
   "outputs": [],
   "source": [
    "sse.n_pref"
   ]
  },
  {
   "cell_type": "code",
   "execution_count": null,
   "metadata": {},
   "outputs": [],
   "source": [
    "usp.shape"
   ]
  },
  {
   "cell_type": "code",
   "execution_count": null,
   "metadata": {},
   "outputs": [],
   "source": [
    "type(usp)"
   ]
  },
  {
   "cell_type": "code",
   "execution_count": null,
   "metadata": {},
   "outputs": [],
   "source": [
    "sse.plot_agc(tu='s')"
   ]
  },
  {
   "cell_type": "code",
   "execution_count": null,
   "metadata": {},
   "outputs": [],
   "source": [
    "sse.plot_agc(tu='s')"
   ]
  },
  {
   "cell_type": "code",
   "execution_count": null,
   "metadata": {},
   "outputs": [],
   "source": [
    "sse.Prc"
   ]
  },
  {
   "cell_type": "code",
   "execution_count": null,
   "metadata": {},
   "outputs": [],
   "source": [
    "sse.ev[['u', 'c0', 'c', 'lc', 'Pc', 'agc', 'mod']][sse.ev['u'] == 1]"
   ]
  },
  {
   "cell_type": "code",
   "execution_count": null,
   "metadata": {},
   "outputs": [],
   "source": [
    "sse.run(tf=18 + 10/3600, Pi=0,\n",
    "        is_updateA=False, is_rstate=True,\n",
    "        is_test=False, disable=False)\n",
    "\n",
    "sse.run(tf=18 + 60/3600, Pi=10,\n",
    "        is_updateA=False, is_rstate=True,\n",
    "        is_test=False, disable=False)\n",
    "evd = sse.ev.copy()"
   ]
  },
  {
   "cell_type": "code",
   "execution_count": null,
   "metadata": {},
   "outputs": [],
   "source": [
    "evd0[evd0['lc']==1][['u', 'c', 'c0', 'lc', 'na', 'nam']].head()\n",
    "evd[evd['lc']==1][['u', 'c', 'c0', 'lc', 'na', 'nam']].head()\n",
    "\n",
    "# row index of evd0 where lc == 1\n",
    "lcrid = evd0[evd0['lc'] == 1].index\n",
    "\n",
    "# compared dataframe\n",
    "evdc = pd.DataFrame()\n",
    "evdc['lc0'] = evd0['lc']\n",
    "evdc['lc1'] = evd['lc']\n",
    "evdc['c0'] = evd0['c']\n",
    "evdc['c1'] = evd['c']\n",
    "evdc['soc0'] = evd0['soc']\n",
    "evdc['soc1'] = evd['soc']\n",
    "evdc[evdc['lc0']==1][evdc['c0'] != evdc['c1']]"
   ]
  },
  {
   "cell_type": "code",
   "execution_count": null,
   "metadata": {},
   "outputs": [],
   "source": [
    "# plt.plot(sse.Perl)"
   ]
  },
  {
   "cell_type": "code",
   "execution_count": null,
   "metadata": {},
   "outputs": [],
   "source": [
    "sse.xtab.sum().sum()"
   ]
  },
  {
   "cell_type": "code",
   "execution_count": null,
   "metadata": {},
   "outputs": [],
   "source": [
    "sse.nec"
   ]
  },
  {
   "cell_type": "code",
   "execution_count": null,
   "metadata": {},
   "outputs": [],
   "source": [
    "sse.rtab.sum().sum()"
   ]
  },
  {
   "cell_type": "code",
   "execution_count": null,
   "metadata": {},
   "outputs": [],
   "source": [
    "sse.x0.sum()"
   ]
  },
  {
   "cell_type": "code",
   "execution_count": null,
   "metadata": {},
   "outputs": [],
   "source": [
    "sse.plot(tu='s')"
   ]
  },
  {
   "cell_type": "code",
   "execution_count": null,
   "metadata": {},
   "outputs": [],
   "source": [
    "sse.ev['agc'].sum()"
   ]
  },
  {
   "cell_type": "code",
   "execution_count": null,
   "metadata": {},
   "outputs": [],
   "source": [
    "sse.Prc"
   ]
  },
  {
   "cell_type": "code",
   "execution_count": null,
   "metadata": {},
   "outputs": [],
   "source": [
    "sse.plot_agc(tu='s')"
   ]
  },
  {
   "cell_type": "code",
   "execution_count": null,
   "metadata": {},
   "outputs": [],
   "source": [
    "# --- Response ---\n",
    "\n",
    "# sse = ev_ssm(ts=10.4, N=10000, step=1, tp=40,\n",
    "#              lr=0.1, lp=40, seed=2022, name=\"EVA\")\n",
    "# sse.load_A(\"Aest.csv\")\n",
    "\n",
    "t_list = [60 + 60 * i for i in list(range(7))]\n",
    "p_list = [2, 0.05, 0.0, 1.0, -0.05, 1, 0]\n",
    "\n",
    "x0 = sse.x0.copy()\n",
    "print(sse.Prc)\n",
    "for t, p in zip(t_list, p_list):\n",
    "        sse.run(tf=18 + t/3600, Pi=p,\n",
    "                is_updateA=False, is_rstate=True,\n",
    "                is_test=False, disable=True)\n",
    "print(sse.Prc)\n",
    "x1 = sse.x0.copy()"
   ]
  },
  {
   "cell_type": "code",
   "execution_count": null,
   "metadata": {},
   "outputs": [],
   "source": [
    "plt.plot(sse.tss, sse.Perl)"
   ]
  },
  {
   "cell_type": "code",
   "execution_count": null,
   "metadata": {},
   "outputs": [],
   "source": [
    "sse.plot_agc()"
   ]
  },
  {
   "cell_type": "code",
   "execution_count": null,
   "metadata": {},
   "outputs": [],
   "source": [
    "sse = ev_ssm(ts=10.4, N=10000, step=1, tp=40,\n",
    "             lr=0.1, lp=40, seed=2022, name=\"EVA\",\n",
    "             is_report=False)\n",
    "\n",
    "# historical data\n",
    "ev_num = pd.read_csv(\"ev_num.csv\")\n",
    "\n",
    "# calculate the sf\n",
    "k1 = ev_num['ne'][(ev_num['time'] >= sse.ts) & (ev_num['time'] <= sse.ts+1/12)].mean()\n",
    "k0 = ev_num['ne'][ev_num['time'] >= sse.ts].iloc[0]\n",
    "k = k1 / k0\n",
    "\n",
    "# estiamte FRC\n",
    "sse.g_frc(nea=sse.ne*k)"
   ]
  },
  {
   "cell_type": "code",
   "execution_count": null,
   "metadata": {},
   "outputs": [],
   "source": [
    "## Run to get the EV numbers within a day\n",
    "\n",
    "# import joblib\n",
    "# from joblib import Parallel, delayed\n",
    "\n",
    "# Nt = 10000\n",
    "# def rne(time):\n",
    "#     sse1 = ev_ssm(ts=time, N=Nt, step=1, tp=40,\n",
    "#                   lr=0.1, lp=60, seed=2022, name=\"EVA\",\n",
    "#                   is_report=False)\n",
    "#     return sse1.ne\n",
    "\n",
    "# # interval by minutes, 24H\n",
    "# rnel = Parallel(n_jobs=joblib.cpu_count())(delayed(rne)(i) for i in np.arange(1/60, 24, 1/60))\n",
    "\n",
    "# ev_num = pd.DataFrame()\n",
    "# ev_num['time'] = np.arange(1/60, 24, 1/60)\n",
    "# ev_num['ne'] = rnel\n",
    "# ev_num.to_csv(\"ev_num.csv\", index=False)"
   ]
  }
 ],
 "metadata": {
  "kernelspec": {
   "display_name": "Python 3.9.13",
   "language": "python",
   "name": "python3"
  },
  "language_info": {
   "codemirror_mode": {
    "name": "ipython",
    "version": 3
   },
   "file_extension": ".py",
   "mimetype": "text/x-python",
   "name": "python",
   "nbconvert_exporter": "python",
   "pygments_lexer": "ipython3",
   "version": "3.9.13"
  },
  "vscode": {
   "interpreter": {
    "hash": "a33fa296fbacb8644bc9195ef2d759981fef097b4feb655e1da77ca7517b39c3"
   }
  }
 },
 "nbformat": 4,
 "nbformat_minor": 2
}
