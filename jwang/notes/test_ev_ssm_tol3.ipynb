{
 "cells": [
  {
   "cell_type": "markdown",
   "metadata": {},
   "source": [
    "# Test EV control"
   ]
  },
  {
   "cell_type": "code",
   "execution_count": 1,
   "metadata": {},
   "outputs": [],
   "source": [
    "import numpy as np\n",
    "import matplotlib.pyplot as plt\n",
    "import pandas as pd\n",
    "\n",
    "from ev_ssm import ev_ssm\n",
    "from tqdm import tqdm\n",
    "import scipy.stats as stats"
   ]
  },
  {
   "cell_type": "code",
   "execution_count": 2,
   "metadata": {},
   "outputs": [
    {
     "name": "stdout",
     "output_type": "stream",
     "text": [
      "0.post4479.dev0+g94184ca\n",
      "2.9.0\n"
     ]
    },
    {
     "name": "stderr",
     "output_type": "stream",
     "text": [
      "EVA: ts=18[H], 50000 EVs, Total Q=433.49 MWh\n",
      "Online 14439, Q=361.0 MWh, SoC=0.7685\n",
      "Power(MW): Pt=-39.7925, Pc=-39.7925, Pd=-0.0\n",
      "Ctrl: 0=7733; 1=6706; \n",
      "EVA: Load A from Aest.csv.\n",
      "Working directory: \"/home/jwang175/andes/jwang/notes\"\n",
      "> Loaded config from file \"/home/jwang175/.andes/andes.rc\"\n",
      "> Loaded generated Python code in \"/home/jwang175/.andes/pycode\".\n",
      "Generated code for <PQ> is stale.\n",
      "Numerical code generation (rapid incremental mode) started...\n"
     ]
    },
    {
     "name": "stdout",
     "output_type": "stream",
     "text": [
      "Generating code for 1 models on 6 processes.\n"
     ]
    },
    {
     "name": "stderr",
     "output_type": "stream",
     "text": [
      "Saved generated pycode to \"/home/jwang175/.andes/pycode\"\n",
      "> Reloaded generated Python code of module \"pycode\".\n",
      "Generated numerical code for 1 models in 0.2685 seconds.\n",
      "Parsing input file \"/home/jwang175/andes/jwang/case/ieee39_ev2.xlsx\"...\n",
      "Input file parsed in 0.1267 seconds.\n",
      "System internal structure set up in 0.0510 seconds.\n"
     ]
    },
    {
     "name": "stdout",
     "output_type": "stream",
     "text": [
      "ANDES total load is: 58.564 p.u.\n"
     ]
    },
    {
     "name": "stderr",
     "output_type": "stream",
     "text": [
      "-> System connectivity check results:\n",
      "  No islanded bus detected.\n",
      "  System is interconnected.\n",
      "  Each island has a slack bus correctly defined and enabled.\n",
      "\n",
      "-> Power flow calculation\n",
      "           Numba: On\n",
      "   Sparse solver: KLU\n",
      " Solution method: NR method\n",
      "Numba compilation initiated with caching.\n",
      "Power flow initialized in 0.1439 seconds.\n",
      "0: |F(x)| = 7.561234474\n",
      "1: |F(x)| = 2.917096747\n",
      "2: |F(x)| = 0.1313034816\n",
      "3: |F(x)| = 0.0003572030639\n",
      "4: |F(x)| = 4.286551558e-09\n",
      "Converged in 5 iterations in 0.0126 seconds.\n",
      "Power flow results are consistent. Conversion is successful.\n"
     ]
    },
    {
     "name": "stdout",
     "output_type": "stream",
     "text": [
      "Restricted license - for non-production use only - expires 2023-10-25\n"
     ]
    },
    {
     "name": "stderr",
     "output_type": "stream",
     "text": [
      "-> System connectivity check results:\n",
      "  No islanded bus detected.\n",
      "  System is interconnected.\n",
      "  Each island has a slack bus correctly defined and enabled.\n",
      "\n",
      "-> Power flow calculation\n",
      "           Numba: On\n",
      "   Sparse solver: KLU\n",
      " Solution method: NR method\n",
      "Numba compilation initiated with caching.\n",
      "Power flow initialized in 0.0173 seconds.\n",
      "0: |F(x)| = 7.561234474\n",
      "1: |F(x)| = 2.917096747\n",
      "2: |F(x)| = 0.1313034816\n",
      "3: |F(x)| = 0.0003572030639\n",
      "4: |F(x)| = 4.286551558e-09\n",
      "Converged in 5 iterations in 0.0156 seconds.\n",
      "Power flow results are consistent. Conversion is successful.\n",
      "GSF is consistent.\n",
      "RTED GB model is loaded.\n",
      "RTED removed: ['rampu', 'rampd']\n",
      "RTED limited: sfru, sfrd\n",
      "RTED: total cost=4910.262\n"
     ]
    },
    {
     "name": "stdout",
     "output_type": "stream",
     "text": [
      "pp cost=2224.7878007021177, gb cost=4910.261740428772\n"
     ]
    }
   ],
   "source": [
    "%run -i 'cosim_import.py'\n",
    "\n",
    "caseH = 18\n",
    "ict_off = False\n",
    "ecc_off = False\n",
    "\n",
    "%run -i 'cosim_setup_andes.py'\n",
    "\n",
    "%run -i 'cosim_loadsyn.py'\n",
    "\n",
    "%run -i 'cosim_setup_dispatch.py'\n",
    "\n",
    "%run -i 'cosim_linktable.py'\n",
    "\n",
    "# Change ``rru``, ``rrd``, ``rsfr``, ``t_total`` for necessary.\n",
    "t_total = 3600\n",
    "\n",
    "rru, rrd, rsfr = 1.0, 1.0, 0.04\n",
    "\n",
    "# Define functions and constants used in loop\n",
    "%run -i 'cosim_const.py'"
   ]
  },
  {
   "cell_type": "markdown",
   "metadata": {},
   "source": [
    "Revise the EV control logic as: C->I, I->D, SOC high to low"
   ]
  },
  {
   "cell_type": "code",
   "execution_count": 10,
   "metadata": {},
   "outputs": [
    {
     "name": "stderr",
     "output_type": "stream",
     "text": [
      "EVA: ts=18[H], 10000 EVs, Total Q=87.83 MWh\n",
      "Online 2955, Q=73.98 MWh, SoC=0.7712\n",
      "Power(MW): Pt=-8.1388, Pc=-8.1388, Pd=-0.0\n",
      "Ctrl: 0=1581; 1=1374; \n",
      "EVA: Load A from Aest.csv.\n"
     ]
    },
    {
     "data": {
      "text/plain": [
       "[4.479377996406894, 0.35388017435231184]"
      ]
     },
     "execution_count": 10,
     "metadata": {},
     "output_type": "execute_result"
    }
   ],
   "source": [
    "# --- Response ---\n",
    "\n",
    "sse = ev_ssm(ts=18, N=10000, step=1, tp=40,\n",
    "             lr=0.1, lp=40, seed=2022, name=\"EVA\",\n",
    "             n_pref=1, is_report=True,\n",
    "             tt_mean=0.5, tt_var=0.2, tt_lb=0, tt_ub=1,\n",
    "             ict_off=False, ecc_off=False)\n",
    "sse.load_A(\"Aest.csv\")\n",
    "\n",
    "evd0 = sse.ev.copy()\n",
    "\n",
    "# quiet some EVs by force\n",
    "np.random.seed(sse.seed)\n",
    "ict_rid = np.random.randint(low=0,\n",
    "                            high=sse.ev.shape[0],\n",
    "                            size=3000)\n",
    "\n",
    "sse.ev.na.iloc[ict_rid] = sse.ev.nam.iloc[ict_rid]\n",
    "sse.ev.lc.iloc[ict_rid] = 1\n",
    "sse.g_u()\n",
    "\n",
    "# initial EV data\n",
    "evd0 = sse.ev.copy()\n",
    "\n",
    "sse.g_frc()"
   ]
  },
  {
   "cell_type": "code",
   "execution_count": 11,
   "metadata": {},
   "outputs": [
    {
     "name": "stderr",
     "output_type": "stream",
     "text": [
      "EVA MCS: 100%|██████████| 6/6 [00:01<00:00,  3.93it/s]\n",
      "EVA MCS: 100%|██████████| 46/46 [00:14<00:00,  3.26it/s]\n",
      "EVA MCS:  27%|██▋       | 14/51 [00:04<00:11,  3.34it/s]"
     ]
    }
   ],
   "source": [
    "sse.run(tf=18 + 5/3600, Pi=0,\n",
    "        is_updateA=False, is_rstate=True,\n",
    "        is_test=False, disable=False)\n",
    "\n",
    "sse.run(tf=18 + 50/3600, Pi=10,\n",
    "        is_updateA=False, is_rstate=True,\n",
    "        is_test=False, disable=False)\n",
    "\n",
    "sse.run(tf=18 + 100/3600, Pi=0,\n",
    "        is_updateA=False, is_rstate=True,\n",
    "        is_test=False, disable=False)"
   ]
  },
  {
   "cell_type": "code",
   "execution_count": null,
   "metadata": {},
   "outputs": [
    {
     "data": {
      "text/plain": [
       "2197"
      ]
     },
     "execution_count": 5,
     "metadata": {},
     "output_type": "execute_result"
    }
   ],
   "source": [
    "sse.nec"
   ]
  },
  {
   "cell_type": "code",
   "execution_count": null,
   "metadata": {},
   "outputs": [
    {
     "data": {
      "text/plain": [
       "2981"
      ]
     },
     "execution_count": 6,
     "metadata": {},
     "output_type": "execute_result"
    }
   ],
   "source": [
    "sse.ne"
   ]
  },
  {
   "cell_type": "code",
   "execution_count": null,
   "metadata": {},
   "outputs": [
    {
     "data": {
      "text/plain": [
       "(<Figure size 600x300 with 1 Axes>,\n",
       " <AxesSubplot:title={'center':'AGC response'}, xlabel='Time [s]', ylabel='Power (MW)'>)"
      ]
     },
     "execution_count": 8,
     "metadata": {},
     "output_type": "execute_result"
    },
    {
     "data": {
      "image/png": "[encoded data removed]",
      "text/plain": [
       "<Figure size 600x300 with 1 Axes>"
      ]
     },
     "metadata": {},
     "output_type": "display_data"
    }
   ],
   "source": [
    "sse.plot_agc(tu='s')"
   ]
  },
  {
   "cell_type": "code",
   "execution_count": null,
   "metadata": {},
   "outputs": [],
   "source": [
    "sse.plot_agc(tu='s')"
   ]
  },
  {
   "cell_type": "code",
   "execution_count": null,
   "metadata": {},
   "outputs": [],
   "source": [
    "sse.Prc"
   ]
  },
  {
   "cell_type": "code",
   "execution_count": null,
   "metadata": {},
   "outputs": [],
   "source": [
    "sse.ev[['u', 'c0', 'c', 'lc', 'Pc', 'agc', 'mod']][sse.ev['u'] == 1]"
   ]
  },
  {
   "cell_type": "code",
   "execution_count": null,
   "metadata": {},
   "outputs": [],
   "source": [
    "sse.run(tf=18 + 10/3600, Pi=0,\n",
    "        is_updateA=False, is_rstate=True,\n",
    "        is_test=False, disable=False)\n",
    "\n",
    "sse.run(tf=18 + 60/3600, Pi=10,\n",
    "        is_updateA=False, is_rstate=True,\n",
    "        is_test=False, disable=False)\n",
    "evd = sse.ev.copy()"
   ]
  },
  {
   "cell_type": "code",
   "execution_count": null,
   "metadata": {},
   "outputs": [],
   "source": [
    "evd0[evd0['lc']==1][['u', 'c', 'c0', 'lc', 'na', 'nam']].head()\n",
    "evd[evd['lc']==1][['u', 'c', 'c0', 'lc', 'na', 'nam']].head()\n",
    "\n",
    "# row index of evd0 where lc == 1\n",
    "lcrid = evd0[evd0['lc'] == 1].index\n",
    "\n",
    "# compared dataframe\n",
    "evdc = pd.DataFrame()\n",
    "evdc['lc0'] = evd0['lc']\n",
    "evdc['lc1'] = evd['lc']\n",
    "evdc['c0'] = evd0['c']\n",
    "evdc['c1'] = evd['c']\n",
    "evdc['soc0'] = evd0['soc']\n",
    "evdc['soc1'] = evd['soc']\n",
    "evdc[evdc['lc0']==1][evdc['c0'] != evdc['c1']]"
   ]
  },
  {
   "cell_type": "code",
   "execution_count": null,
   "metadata": {},
   "outputs": [],
   "source": [
    "# plt.plot(sse.Perl)"
   ]
  },
  {
   "cell_type": "code",
   "execution_count": null,
   "metadata": {},
   "outputs": [],
   "source": [
    "sse.xtab.sum().sum()"
   ]
  },
  {
   "cell_type": "code",
   "execution_count": null,
   "metadata": {},
   "outputs": [],
   "source": [
    "sse.nec"
   ]
  },
  {
   "cell_type": "code",
   "execution_count": null,
   "metadata": {},
   "outputs": [],
   "source": [
    "sse.rtab.sum().sum()"
   ]
  },
  {
   "cell_type": "code",
   "execution_count": null,
   "metadata": {},
   "outputs": [],
   "source": [
    "sse.x0.sum()"
   ]
  },
  {
   "cell_type": "code",
   "execution_count": null,
   "metadata": {},
   "outputs": [],
   "source": [
    "sse.plot(tu='s')"
   ]
  },
  {
   "cell_type": "code",
   "execution_count": null,
   "metadata": {},
   "outputs": [],
   "source": [
    "sse.ev['agc'].sum()"
   ]
  },
  {
   "cell_type": "code",
   "execution_count": null,
   "metadata": {},
   "outputs": [],
   "source": [
    "sse.Prc"
   ]
  },
  {
   "cell_type": "code",
   "execution_count": null,
   "metadata": {},
   "outputs": [],
   "source": [
    "sse.plot_agc(tu='s')"
   ]
  },
  {
   "cell_type": "code",
   "execution_count": null,
   "metadata": {},
   "outputs": [],
   "source": [
    "# --- Response ---\n",
    "\n",
    "# sse = ev_ssm(ts=10.4, N=10000, step=1, tp=40,\n",
    "#              lr=0.1, lp=40, seed=2022, name=\"EVA\")\n",
    "# sse.load_A(\"Aest.csv\")\n",
    "\n",
    "t_list = [60 + 60 * i for i in list(range(7))]\n",
    "p_list = [2, 0.05, 0.0, 1.0, -0.05, 1, 0]\n",
    "\n",
    "x0 = sse.x0.copy()\n",
    "print(sse.Prc)\n",
    "for t, p in zip(t_list, p_list):\n",
    "        sse.run(tf=18 + t/3600, Pi=p,\n",
    "                is_updateA=False, is_rstate=True,\n",
    "                is_test=False, disable=True)\n",
    "print(sse.Prc)\n",
    "x1 = sse.x0.copy()"
   ]
  },
  {
   "cell_type": "code",
   "execution_count": null,
   "metadata": {},
   "outputs": [],
   "source": [
    "plt.plot(sse.tss, sse.Perl)"
   ]
  },
  {
   "cell_type": "code",
   "execution_count": null,
   "metadata": {},
   "outputs": [],
   "source": [
    "sse.plot_agc()"
   ]
  },
  {
   "cell_type": "code",
   "execution_count": null,
   "metadata": {},
   "outputs": [],
   "source": [
    "sse = ev_ssm(ts=10.4, N=10000, step=1, tp=40,\n",
    "             lr=0.1, lp=40, seed=2022, name=\"EVA\",\n",
    "             is_report=False)\n",
    "\n",
    "# historical data\n",
    "ev_num = pd.read_csv(\"ev_num.csv\")\n",
    "\n",
    "# calculate the sf\n",
    "k1 = ev_num['ne'][(ev_num['time'] >= sse.ts) & (ev_num['time'] <= sse.ts+1/12)].mean()\n",
    "k0 = ev_num['ne'][ev_num['time'] >= sse.ts].iloc[0]\n",
    "k = k1 / k0\n",
    "\n",
    "# estiamte FRC\n",
    "sse.g_frc(nea=sse.ne*k)"
   ]
  },
  {
   "cell_type": "code",
   "execution_count": null,
   "metadata": {},
   "outputs": [],
   "source": [
    "## Run to get the EV numbers within a day\n",
    "\n",
    "# import joblib\n",
    "# from joblib import Parallel, delayed\n",
    "\n",
    "# Nt = 10000\n",
    "# def rne(time):\n",
    "#     sse1 = ev_ssm(ts=time, N=Nt, step=1, tp=40,\n",
    "#                   lr=0.1, lp=60, seed=2022, name=\"EVA\",\n",
    "#                   is_report=False)\n",
    "#     return sse1.ne\n",
    "\n",
    "# # interval by minutes, 24H\n",
    "# rnel = Parallel(n_jobs=joblib.cpu_count())(delayed(rne)(i) for i in np.arange(1/60, 24, 1/60))\n",
    "\n",
    "# ev_num = pd.DataFrame()\n",
    "# ev_num['time'] = np.arange(1/60, 24, 1/60)\n",
    "# ev_num['ne'] = rnel\n",
    "# ev_num.to_csv(\"ev_num.csv\", index=False)"
   ]
  }
 ],
 "metadata": {
  "kernelspec": {
   "display_name": "Python 3.9.13",
   "language": "python",
   "name": "python3"
  },
  "language_info": {
   "codemirror_mode": {
    "name": "ipython",
    "version": 3
   },
   "file_extension": ".py",
   "mimetype": "text/x-python",
   "name": "python",
   "nbconvert_exporter": "python",
   "pygments_lexer": "ipython3",
   "version": "3.9.13"
  },
  "vscode": {
   "interpreter": {
    "hash": "a33fa296fbacb8644bc9195ef2d759981fef097b4feb655e1da77ca7517b39c3"
   }
  }
 },
 "nbformat": 4,
 "nbformat_minor": 2
}
