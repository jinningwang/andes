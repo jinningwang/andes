{
 "cells": [
  {
   "cell_type": "markdown",
   "metadata": {},
   "source": [
    "# Test EV control"
   ]
  },
  {
   "cell_type": "code",
   "execution_count": 1,
   "metadata": {},
   "outputs": [],
   "source": [
    "import numpy as np\n",
    "import matplotlib.pyplot as plt\n",
    "import pandas as pd\n",
    "\n",
    "from ev_ssm import ev_ssm\n",
    "from tqdm import tqdm\n",
    "import scipy.stats as stats"
   ]
  },
  {
   "cell_type": "code",
   "execution_count": 2,
   "metadata": {},
   "outputs": [
    {
     "name": "stdout",
     "output_type": "stream",
     "text": [
      "0.post4476.dev0+g2e7c59d\n",
      "2.9.0\n"
     ]
    },
    {
     "name": "stderr",
     "output_type": "stream",
     "text": [
      "EVA: ts=18[H], 50000 EVs, Total Q=433.49 MWh\n",
      "Online 14439, Q=361.0 MWh, SoC=0.7685\n",
      "Power(MW): Pt=-39.7925, Pc=-39.7925, Pd=-0.0\n",
      "Ctrl: 0=7733; 1=6706; \n",
      "EVA: Load A from Aest.csv.\n",
      "Working directory: \"/home/jwang175/andes/jwang/notes\"\n",
      "> Loaded config from file \"/home/jwang175/.andes/andes.rc\"\n",
      "> Loaded generated Python code in \"/home/jwang175/.andes/pycode\".\n",
      "Generated code for <PQ> is stale.\n",
      "Numerical code generation (rapid incremental mode) started...\n"
     ]
    },
    {
     "name": "stdout",
     "output_type": "stream",
     "text": [
      "Generating code for 1 models on 6 processes.\n"
     ]
    },
    {
     "name": "stderr",
     "output_type": "stream",
     "text": [
      "Saved generated pycode to \"/home/jwang175/.andes/pycode\"\n",
      "> Reloaded generated Python code of module \"pycode\".\n",
      "Generated numerical code for 1 models in 0.2993 seconds.\n",
      "Parsing input file \"/home/jwang175/andes/jwang/case/ieee39_ev2.xlsx\"...\n",
      "Input file parsed in 0.1323 seconds.\n",
      "System internal structure set up in 0.0515 seconds.\n"
     ]
    },
    {
     "name": "stdout",
     "output_type": "stream",
     "text": [
      "ANDES total load is: 58.564 p.u.\n"
     ]
    },
    {
     "name": "stderr",
     "output_type": "stream",
     "text": [
      "-> System connectivity check results:\n",
      "  No islanded bus detected.\n",
      "  System is interconnected.\n",
      "  Each island has a slack bus correctly defined and enabled.\n",
      "\n",
      "-> Power flow calculation\n",
      "           Numba: On\n",
      "   Sparse solver: KLU\n",
      " Solution method: NR method\n",
      "Numba compilation initiated with caching.\n",
      "Power flow initialized in 0.1267 seconds.\n",
      "0: |F(x)| = 7.561234474\n",
      "1: |F(x)| = 2.917096747\n",
      "2: |F(x)| = 0.1313034816\n",
      "3: |F(x)| = 0.0003572030639\n",
      "4: |F(x)| = 4.286551558e-09\n",
      "Converged in 5 iterations in 0.0183 seconds.\n",
      "Power flow results are consistent. Conversion is successful.\n"
     ]
    },
    {
     "name": "stdout",
     "output_type": "stream",
     "text": [
      "Restricted license - for non-production use only - expires 2023-10-25\n"
     ]
    },
    {
     "name": "stderr",
     "output_type": "stream",
     "text": [
      "-> System connectivity check results:\n",
      "  No islanded bus detected.\n",
      "  System is interconnected.\n",
      "  Each island has a slack bus correctly defined and enabled.\n",
      "\n",
      "-> Power flow calculation\n",
      "           Numba: On\n",
      "   Sparse solver: KLU\n",
      " Solution method: NR method\n",
      "Numba compilation initiated with caching.\n",
      "Power flow initialized in 0.0082 seconds.\n",
      "0: |F(x)| = 7.561234474\n",
      "1: |F(x)| = 2.917096747\n",
      "2: |F(x)| = 0.1313034816\n",
      "3: |F(x)| = 0.0003572030639\n",
      "4: |F(x)| = 4.286551558e-09\n",
      "Converged in 5 iterations in 0.0103 seconds.\n",
      "Power flow results are consistent. Conversion is successful.\n",
      "GSF is consistent.\n",
      "RTED GB model is loaded.\n",
      "RTED removed: ['rampu', 'rampd']\n",
      "RTED limited: sfru, sfrd\n",
      "RTED: total cost=4910.262\n"
     ]
    },
    {
     "name": "stdout",
     "output_type": "stream",
     "text": [
      "pp cost=2224.7878007021177, gb cost=4910.261740428772\n"
     ]
    }
   ],
   "source": [
    "%run -i 'cosim_import.py'\n",
    "\n",
    "caseH = 18\n",
    "ict_off = False\n",
    "ecc_off = False\n",
    "\n",
    "%run -i 'cosim_setup_andes.py'\n",
    "\n",
    "%run -i 'cosim_loadsyn.py'\n",
    "\n",
    "%run -i 'cosim_setup_dispatch.py'\n",
    "\n",
    "%run -i 'cosim_linktable.py'\n",
    "\n",
    "# Change ``rru``, ``rrd``, ``rsfr``, ``t_total`` for necessary.\n",
    "t_total = 3600\n",
    "\n",
    "rru, rrd, rsfr = 1.0, 1.0, 0.04\n",
    "\n",
    "# Define functions and constants used in loop\n",
    "%run -i 'cosim_const.py'"
   ]
  },
  {
   "cell_type": "markdown",
   "metadata": {},
   "source": [
    "Revise the EV control logic as: C->I, I->D, SOC high to low"
   ]
  },
  {
   "cell_type": "code",
   "execution_count": 30,
   "metadata": {},
   "outputs": [
    {
     "name": "stderr",
     "output_type": "stream",
     "text": [
      "EVA: ts=18[H], 10000 EVs, Total Q=87.83 MWh\n",
      "Online 2955, Q=73.98 MWh, SoC=0.7712\n",
      "Power(MW): Pt=-8.1388, Pc=-8.1388, Pd=-0.0\n",
      "Ctrl: 0=1581; 1=1374; \n",
      "EVA: Load A from Aest.csv.\n"
     ]
    },
    {
     "data": {
      "text/plain": [
       "[2.5560344915059265, 0.20193203882999003]"
      ]
     },
     "execution_count": 30,
     "metadata": {},
     "output_type": "execute_result"
    }
   ],
   "source": [
    "# --- Response ---\n",
    "\n",
    "sse = ev_ssm(ts=18, N=10000, step=1, tp=40,\n",
    "             lr=0.1, lp=40, seed=2022, name=\"EVA\",\n",
    "             n_pref=1, is_report=True,\n",
    "             tt_mean=0.5, tt_var=0.2, tt_lb=0, tt_ub=1,\n",
    "             ict_off=True, ecc_off=False)\n",
    "sse.load_A(\"Aest.csv\")\n",
    "\n",
    "evd0 = sse.ev.copy()\n",
    "\n",
    "np.random.seed(sse.seed)\n",
    "ict_rid = np.random.randint(low=0,\n",
    "                            high=sse.ev.shape[0],\n",
    "                            size=3000)\n",
    "\n",
    "sse.ev.na.iloc[ict_rid] = sse.ev.nam.iloc[ict_rid]\n",
    "sse.ev.lc.iloc[ict_rid] = 1\n",
    "sse.g_u()\n",
    "\n",
    "# initial EV data\n",
    "evd0 = sse.ev.copy()\n",
    "\n",
    "sse.g_frc()"
   ]
  },
  {
   "cell_type": "code",
   "execution_count": 31,
   "metadata": {},
   "outputs": [
    {
     "name": "stderr",
     "output_type": "stream",
     "text": [
      "EVA MCS: 100%|██████████| 10/10 [00:02<00:00,  3.51it/s]\n"
     ]
    },
    {
     "data": {
      "text/plain": [
       "[0,\n",
       " 1.0000000000033538,\n",
       " 2.0000000000067075,\n",
       " 3.0000000000100613,\n",
       " 4.000000000013415,\n",
       " 5.000000000016769,\n",
       " 6.000000000020123,\n",
       " 7.000000000023476,\n",
       " 8.00000000002683,\n",
       " 9.000000000030184]"
      ]
     },
     "execution_count": 31,
     "metadata": {},
     "output_type": "execute_result"
    }
   ],
   "source": [
    "sse.run(tf=18 + 10/3600, Pi=0,\n",
    "        is_updateA=False, is_rstate=True,\n",
    "        is_test=False, disable=False)\n",
    "self = sse\n",
    "[3600*(ts - self.tss[0]) for ts in self.tss]"
   ]
  },
  {
   "cell_type": "code",
   "execution_count": 20,
   "metadata": {},
   "outputs": [
    {
     "name": "stderr",
     "output_type": "stream",
     "text": [
      "EVA MCS: 100%|██████████| 10/10 [00:02<00:00,  3.59it/s]\n",
      "EVA MCS: 100%|██████████| 11/11 [00:03<00:00,  3.41it/s]\n"
     ]
    }
   ],
   "source": [
    "sse.run(tf=18 + 10/3600, Pi=0,\n",
    "        is_updateA=False, is_rstate=True,\n",
    "        is_test=False, disable=False)\n",
    "\n",
    "sse.run(tf=18 + 20/3600, Pi=10,\n",
    "        is_updateA=False, is_rstate=True,\n",
    "        is_test=False, disable=False)\n",
    "evd = sse.ev.copy()"
   ]
  },
  {
   "cell_type": "code",
   "execution_count": null,
   "metadata": {},
   "outputs": [],
   "source": [
    "sse.run(tf=18 + 10/3600, Pi=0,\n",
    "        is_updateA=False, is_rstate=True,\n",
    "        is_test=False, disable=False)\n",
    "self = sse\n",
    "[3600*(ts - self.tss[0]) for ts in self.tss]"
   ]
  },
  {
   "cell_type": "code",
   "execution_count": 21,
   "metadata": {},
   "outputs": [],
   "source": [
    "evd0[evd0['lc']==1][['u', 'c', 'c0', 'lc', 'na', 'nam']].head()\n",
    "evd[evd['lc']==1][['u', 'c', 'c0', 'lc', 'na', 'nam']].head()\n",
    "\n",
    "# row index of evd0 where lc == 1\n",
    "lcrid = evd0[evd0['lc'] == 1].index"
   ]
  },
  {
   "cell_type": "code",
   "execution_count": 23,
   "metadata": {},
   "outputs": [
    {
     "name": "stderr",
     "output_type": "stream",
     "text": [
      "/tmp/ipykernel_2428312/4262674249.py:9: UserWarning: Boolean Series key will be reindexed to match DataFrame index.\n",
      "  evdc[evdc['lc0']==1][evdc['c0'] != evdc['c1']]\n"
     ]
    },
    {
     "data": {
      "text/html": [
       "<div>\n",
       "<style scoped>\n",
       "    .dataframe tbody tr th:only-of-type {\n",
       "        vertical-align: middle;\n",
       "    }\n",
       "\n",
       "    .dataframe tbody tr th {\n",
       "        vertical-align: top;\n",
       "    }\n",
       "\n",
       "    .dataframe thead th {\n",
       "        text-align: right;\n",
       "    }\n",
       "</style>\n",
       "<table border=\"1\" class=\"dataframe\">\n",
       "  <thead>\n",
       "    <tr style=\"text-align: right;\">\n",
       "      <th></th>\n",
       "      <th>lc0</th>\n",
       "      <th>lc1</th>\n",
       "      <th>c0</th>\n",
       "      <th>c1</th>\n",
       "      <th>soc0</th>\n",
       "      <th>soc1</th>\n",
       "    </tr>\n",
       "  </thead>\n",
       "  <tbody>\n",
       "    <tr>\n",
       "      <th>613</th>\n",
       "      <td>1</td>\n",
       "      <td>1.0</td>\n",
       "      <td>0</td>\n",
       "      <td>1</td>\n",
       "      <td>0.308159</td>\n",
       "      <td>0.309014</td>\n",
       "    </tr>\n",
       "    <tr>\n",
       "      <th>1571</th>\n",
       "      <td>1</td>\n",
       "      <td>1.0</td>\n",
       "      <td>1</td>\n",
       "      <td>0</td>\n",
       "      <td>0.761548</td>\n",
       "      <td>0.761789</td>\n",
       "    </tr>\n",
       "    <tr>\n",
       "      <th>1773</th>\n",
       "      <td>1</td>\n",
       "      <td>1.0</td>\n",
       "      <td>1</td>\n",
       "      <td>0</td>\n",
       "      <td>0.825958</td>\n",
       "      <td>0.826643</td>\n",
       "    </tr>\n",
       "    <tr>\n",
       "      <th>2575</th>\n",
       "      <td>1</td>\n",
       "      <td>1.0</td>\n",
       "      <td>0</td>\n",
       "      <td>1</td>\n",
       "      <td>0.254646</td>\n",
       "      <td>0.255695</td>\n",
       "    </tr>\n",
       "  </tbody>\n",
       "</table>\n",
       "</div>"
      ],
      "text/plain": [
       "      lc0  lc1  c0  c1      soc0      soc1\n",
       "613     1  1.0   0   1  0.308159  0.309014\n",
       "1571    1  1.0   1   0  0.761548  0.761789\n",
       "1773    1  1.0   1   0  0.825958  0.826643\n",
       "2575    1  1.0   0   1  0.254646  0.255695"
      ]
     },
     "execution_count": 23,
     "metadata": {},
     "output_type": "execute_result"
    }
   ],
   "source": [
    "# compared dataframe\n",
    "evdc = pd.DataFrame()\n",
    "evdc['lc0'] = evd0['lc']\n",
    "evdc['lc1'] = evd['lc']\n",
    "evdc['c0'] = evd0['c']\n",
    "evdc['c1'] = evd['c']\n",
    "evdc['soc0'] = evd0['soc']\n",
    "evdc['soc1'] = evd['soc']\n",
    "evdc[evdc['lc0']==1][evdc['c0'] != evdc['c1']]"
   ]
  },
  {
   "cell_type": "code",
   "execution_count": null,
   "metadata": {},
   "outputs": [],
   "source": [
    "# plt.plot(sse.Perl)"
   ]
  },
  {
   "cell_type": "code",
   "execution_count": 29,
   "metadata": {},
   "outputs": [
    {
     "data": {
      "text/plain": [
       "[0,\n",
       " 1.0000000000033538,\n",
       " 2.0000000000067075,\n",
       " 3.0000000000100613,\n",
       " 4.000000000013415,\n",
       " 5.000000000016769,\n",
       " 6.000000000020123,\n",
       " 7.000000000023476,\n",
       " 8.00000000002683,\n",
       " 9.000000000030184,\n",
       " 10.000000000033538,\n",
       " 11.000000000036891,\n",
       " 12.000000000040245,\n",
       " 13.000000000043599,\n",
       " 14.000000000046953,\n",
       " 15.000000000050306,\n",
       " 16.00000000005366,\n",
       " 17.000000000057014,\n",
       " 18.000000000060368,\n",
       " 19.00000000006372]"
      ]
     },
     "execution_count": 29,
     "metadata": {},
     "output_type": "execute_result"
    }
   ],
   "source": [
    "self = sse\n",
    "[3600*(ts - self.tss[0]) for ts in self.tss]"
   ]
  },
  {
   "cell_type": "code",
   "execution_count": 24,
   "metadata": {},
   "outputs": [
    {
     "data": {
      "text/plain": [
       "(<Figure size 600x300 with 2 Axes>,\n",
       " <AxesSubplot:title={'center':'EVA'}, xlabel='Time [s]', ylabel='Power (MW)'>)"
      ]
     },
     "execution_count": 24,
     "metadata": {},
     "output_type": "execute_result"
    },
    {
     "data": {
      "image/png": "[encoded data removed]",
      "text/plain": [
       "<Figure size 600x300 with 2 Axes>"
      ]
     },
     "metadata": {},
     "output_type": "display_data"
    }
   ],
   "source": [
    "sse.plot(tu='s')"
   ]
  },
  {
   "cell_type": "code",
   "execution_count": 28,
   "metadata": {},
   "outputs": [
    {
     "data": {
      "text/plain": [
       "3.721721193863937"
      ]
     },
     "execution_count": 28,
     "metadata": {},
     "output_type": "execute_result"
    }
   ],
   "source": [
    "dPt = -4.429490341914841 - (-8.151211535778778)\n",
    "dPt"
   ]
  },
  {
   "cell_type": "code",
   "execution_count": 25,
   "metadata": {},
   "outputs": [
    {
     "data": {
      "text/plain": [
       "(<Figure size 600x300 with 1 Axes>,\n",
       " <AxesSubplot:title={'center':'AGC response'}, xlabel='Time [s]', ylabel='Power (MW)'>)"
      ]
     },
     "execution_count": 25,
     "metadata": {},
     "output_type": "execute_result"
    },
    {
     "data": {
      "image/png": "[encoded data removed]",
      "text/plain": [
       "<Figure size 600x300 with 1 Axes>"
      ]
     },
     "metadata": {},
     "output_type": "display_data"
    }
   ],
   "source": [
    "sse.plot_agc(tu='s')"
   ]
  },
  {
   "cell_type": "code",
   "execution_count": null,
   "metadata": {},
   "outputs": [],
   "source": [
    "sse.ev.lc"
   ]
  },
  {
   "cell_type": "code",
   "execution_count": null,
   "metadata": {},
   "outputs": [],
   "source": [
    "# --- Response ---\n",
    "\n",
    "# sse = ev_ssm(ts=10.4, N=10000, step=1, tp=40,\n",
    "#              lr=0.1, lp=40, seed=2022, name=\"EVA\")\n",
    "# sse.load_A(\"Aest.csv\")\n",
    "\n",
    "t_list = [60 + 60 * i for i in list(range(7))]\n",
    "p_list = [2, 0.05, 0.0, 1.0, -0.05, 1, 0]\n",
    "\n",
    "x0 = sse.x0.copy()\n",
    "print(sse.Prc)\n",
    "for t, p in zip(t_list, p_list):\n",
    "        sse.run(tf=18 + t/3600, Pi=p,\n",
    "                is_updateA=False, is_rstate=True,\n",
    "                is_test=False, disable=True)\n",
    "print(sse.Prc)\n",
    "x1 = sse.x0.copy()"
   ]
  },
  {
   "cell_type": "code",
   "execution_count": null,
   "metadata": {},
   "outputs": [],
   "source": [
    "plt.plot(sse.tss, sse.Perl)"
   ]
  },
  {
   "cell_type": "code",
   "execution_count": null,
   "metadata": {},
   "outputs": [],
   "source": [
    "sse.plot_agc()"
   ]
  },
  {
   "cell_type": "code",
   "execution_count": null,
   "metadata": {},
   "outputs": [],
   "source": [
    "sse = ev_ssm(ts=10.4, N=10000, step=1, tp=40,\n",
    "             lr=0.1, lp=40, seed=2022, name=\"EVA\",\n",
    "             is_report=False)\n",
    "\n",
    "# historical data\n",
    "ev_num = pd.read_csv(\"ev_num.csv\")\n",
    "\n",
    "# calculate the sf\n",
    "k1 = ev_num['ne'][(ev_num['time'] >= sse.ts) & (ev_num['time'] <= sse.ts+1/12)].mean()\n",
    "k0 = ev_num['ne'][ev_num['time'] >= sse.ts].iloc[0]\n",
    "k = k1 / k0\n",
    "\n",
    "# estiamte FRC\n",
    "sse.g_frc(nea=sse.ne*k)"
   ]
  },
  {
   "cell_type": "code",
   "execution_count": null,
   "metadata": {},
   "outputs": [],
   "source": [
    "## Run to get the EV numbers within a day\n",
    "\n",
    "# import joblib\n",
    "# from joblib import Parallel, delayed\n",
    "\n",
    "# Nt = 10000\n",
    "# def rne(time):\n",
    "#     sse1 = ev_ssm(ts=time, N=Nt, step=1, tp=40,\n",
    "#                   lr=0.1, lp=60, seed=2022, name=\"EVA\",\n",
    "#                   is_report=False)\n",
    "#     return sse1.ne\n",
    "\n",
    "# # interval by minutes, 24H\n",
    "# rnel = Parallel(n_jobs=joblib.cpu_count())(delayed(rne)(i) for i in np.arange(1/60, 24, 1/60))\n",
    "\n",
    "# ev_num = pd.DataFrame()\n",
    "# ev_num['time'] = np.arange(1/60, 24, 1/60)\n",
    "# ev_num['ne'] = rnel\n",
    "# ev_num.to_csv(\"ev_num.csv\", index=False)"
   ]
  }
 ],
 "metadata": {
  "kernelspec": {
   "display_name": "Python 3.9.13",
   "language": "python",
   "name": "python3"
  },
  "language_info": {
   "codemirror_mode": {
    "name": "ipython",
    "version": 3
   },
   "file_extension": ".py",
   "mimetype": "text/x-python",
   "name": "python",
   "nbconvert_exporter": "python",
   "pygments_lexer": "ipython3",
   "version": "3.9.13"
  },
  "vscode": {
   "interpreter": {
    "hash": "a33fa296fbacb8644bc9195ef2d759981fef097b4feb655e1da77ca7517b39c3"
   }
  }
 },
 "nbformat": 4,
 "nbformat_minor": 2
}
