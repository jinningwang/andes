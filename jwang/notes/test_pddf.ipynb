{
 "cells": [
  {
   "cell_type": "code",
   "execution_count": 1,
   "metadata": {},
   "outputs": [],
   "source": [
    "import numpy as np\n",
    "import pandas as pd\n",
    "import time"
   ]
  },
  {
   "cell_type": "code",
   "execution_count": 2,
   "metadata": {},
   "outputs": [
    {
     "name": "stdout",
     "output_type": "stream",
     "text": [
      "pandas version: 1.4.2\n",
      "numpy version 1.22.3\n"
     ]
    }
   ],
   "source": [
    "print(\"pandas version:\", pd.__version__)\n",
    "print(\"numpy version\", np.__version__)"
   ]
  },
  {
   "cell_type": "code",
   "execution_count": 43,
   "metadata": {},
   "outputs": [
    {
     "name": "stdout",
     "output_type": "stream",
     "text": [
      "indexing\n",
      "mean time[ms]: 2.0 std time[ms]: 0.9\n",
      "double indexing\n",
      "mean time[ms]: 2.5 std time[ms]: 0.5\n"
     ]
    }
   ],
   "source": [
    "rsize = 50000  # df shape\n",
    "ntest = 5000  # number of tests\n",
    "\n",
    "df = pd.DataFrame(np.random.randint(low=0, high=100, size=(rsize, 4)), columns=['a', 'b', 'c', 'd'])\n",
    "\n",
    "tl = []\n",
    "for i in range(ntest):\n",
    "    t0 = time.time()\n",
    "    rid = df[df[\"c\"] >= df[\"a\"]].index\n",
    "    df.loc[rid, \"d\"] = 0\n",
    "    df.loc[rid, \"d\"] = 1\n",
    "    ts = time.time() - t0\n",
    "    tl.append(ts)\n",
    "print(\"indexing\")\n",
    "print(\"mean time[ms]:\", 1000 * np.mean(tl).round(4), \"std time[ms]:\", 1000 * np.std(tl).round(4))\n",
    "\n",
    "tl = []\n",
    "for i in range(ntest):\n",
    "    t0 = time.time()\n",
    "    df.loc[df[df[\"c\"] >= df[\"a\"]].index, \"d\"] = 0\n",
    "    df.loc[df[df[\"c\"] >= df[\"a\"]].index, \"d\"] = 1\n",
    "    ts = time.time() - t0\n",
    "    tl.append(ts)\n",
    "print(\"double indexing\")\n",
    "print(\"mean time[ms]:\", 1000 * np.mean(tl).round(4), \"std time[ms]:\", 1000 * np.std(tl).round(4))"
   ]
  },
  {
   "cell_type": "code",
   "execution_count": 9,
   "metadata": {},
   "outputs": [
    {
     "name": "stdout",
     "output_type": "stream",
     "text": [
      "for loop\n",
      "mean time[ms]: 36.4 std time[ms]: 1.4\n",
      "df.apply\n",
      "mean time[ms]: 36.2 std time[ms]: 0.0\n",
      "vectorized\n",
      "mean time[ms]: 36.2 std time[ms]: 0.0\n"
     ]
    }
   ],
   "source": [
    "tl = []\n",
    "for i in range(ntest):\n",
    "    t0 = time.time()\n",
    "    for i in range(rsize):\n",
    "        df.loc[i, 'd'] = df.loc[i, 'a'] + df.loc[i, 'b'] + df.loc[i, 'c']\n",
    "    ts = time.time() - t0\n",
    "    tl.append(ts)\n",
    "print(\"for loop\")\n",
    "print(\"mean time[ms]:\", 1000 * np.mean(tl).round(4), \"std time[ms]:\", 1000 * np.std(tl).round(4))\n",
    "\n",
    "tl = []\n",
    "for i in range(ntest):\n",
    "    t0 = time.time()\n",
    "    df['d'] = df.apply(lambda x: x['a'] + x['b'] + x['c'], axis=1)\n",
    "    tl.append(ts)\n",
    "print(\"df.apply\")\n",
    "print(\"mean time[ms]:\", 1000 * np.mean(tl).round(4), \"std time[ms]:\", 1000 * np.std(tl).round(4))\n",
    "\n",
    "tl = []\n",
    "for i in range(ntest):\n",
    "    t0 = time.time()\n",
    "    df['d'] = df[\"a\"] + df[\"b\"] + df[\"c\"]\n",
    "    tl.append(ts)\n",
    "print(\"vectorized\")\n",
    "print(\"mean time[ms]:\", 1000 * np.mean(tl).round(4), \"std time[ms]:\", 1000 * np.std(tl).round(4))\n"
   ]
  },
  {
   "cell_type": "code",
   "execution_count": null,
   "metadata": {},
   "outputs": [],
   "source": []
  }
 ],
 "metadata": {
  "kernelspec": {
   "display_name": "Python 3.9.12 ('andes')",
   "language": "python",
   "name": "python3"
  },
  "language_info": {
   "codemirror_mode": {
    "name": "ipython",
    "version": 3
   },
   "file_extension": ".py",
   "mimetype": "text/x-python",
   "name": "python",
   "nbconvert_exporter": "python",
   "pygments_lexer": "ipython3",
   "version": "3.9.12"
  },
  "orig_nbformat": 4,
  "vscode": {
   "interpreter": {
    "hash": "ef6cb5c8d99d66a3614f491d51fd40cd94c9138687df3d2045e3a510da5efc66"
   }
  }
 },
 "nbformat": 4,
 "nbformat_minor": 2
}
