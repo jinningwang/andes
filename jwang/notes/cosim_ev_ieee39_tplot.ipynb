{
 "cells": [
  {
   "cell_type": "code",
   "execution_count": 1,
   "metadata": {},
   "outputs": [
    {
     "name": "stdout",
     "output_type": "stream",
     "text": [
      "0.post4601.dev0+g69e758d\n",
      "2.8.0\n"
     ]
    }
   ],
   "source": [
    "%run -i 'cosim_import.py'\n",
    "import csv\n",
    "import multiprocessing"
   ]
  },
  {
   "cell_type": "code",
   "execution_count": 2,
   "metadata": {},
   "outputs": [],
   "source": [
    "matplotlib.rcParams.update(matplotlib.rcParamsDefault)"
   ]
  },
  {
   "cell_type": "code",
   "execution_count": 3,
   "metadata": {
    "scrolled": false
   },
   "outputs": [
    {
     "name": "stderr",
     "output_type": "stream",
     "text": [
      "EVA: ts=18[H], 50000 EVs, Total Q=434.54 MWh\n",
      "Online 14477, Q=362.27 MWh, SoC=0.7435\n",
      "Power(MW): Pt=-39.0266, Pc=-39.0266, Pd=0.0\n",
      "Ctrl: 0=7897; 1=6580; \n",
      "EVA: Load A from Aest.csv.\n"
     ]
    },
    {
     "name": "stdout",
     "output_type": "stream",
     "text": [
      "Generating code for 1 models on 8 processes.\n"
     ]
    },
    {
     "name": "stderr",
     "output_type": "stream",
     "text": [
      "EVA: ts=18[H], 50000 EVs, Total Q=434.54 MWh\n",
      "Online 14477, Q=362.27 MWh, SoC=0.7435\n",
      "Power(MW): Pt=-39.0266, Pc=-39.0266, Pd=0.0\n",
      "Ctrl: 0=7897; 1=6580; \n"
     ]
    }
   ],
   "source": [
    "# case parameters\n",
    "case_name = 'ieee39'\n",
    "caseH = 18\n",
    "ict = True\n",
    "ecc = False\n",
    "agc = True\n",
    "t_total = 3600\n",
    "\n",
    "%run -i 'cosim_setup_andes.py'\n",
    "\n",
    "sse0 = ev_ssm(ts=caseH, N=50000, step=1, tp=20,\n",
    "              lr=0.1, lp=60, seed=2022, name=\"EVA\",\n",
    "              n_pref=1, is_report=True,\n",
    "              tt_mean=0.2, tt_var=0.05, tt_lb=0, tt_ub=0.4,\n",
    "              ict=ict, ecc=ecc, agc=agc)"
   ]
  },
  {
   "cell_type": "code",
   "execution_count": 4,
   "metadata": {},
   "outputs": [
    {
     "name": "stdout",
     "output_type": "stream",
     "text": [
      "ANDES total load is: 58.564 p.u.\n"
     ]
    }
   ],
   "source": [
    "%run -i 'cosim_loadsyn.py'"
   ]
  },
  {
   "cell_type": "code",
   "execution_count": 5,
   "metadata": {},
   "outputs": [],
   "source": [
    "plt.style.use(['science','ieee'])\n",
    "# --- plot load curve ---\n",
    "fig_load, ax_load = plt.subplots(figsize=(3.5, 3), dpi=400)\n",
    "ax_load.plot(d_syn['time'], ptotal * ssa.config.mva * d_syn['sload'], linestyle='-')\n",
    "ax_load.grid(visible=True, which='major', ls='-')\n",
    "ax_load.set_xlim([0, 3600])\n",
    "ax_load.set_ylabel('Active power [MW]')\n",
    "ax_load.set_xlabel('Time [s]')\n",
    "# ax_load.set_title('Figure. Load profile', fontsize=12, x=0, y=-0.4)\n",
    "plt.tight_layout()\n",
    "# fig_load.savefig(\"load_curve.png\", bbox_inches=\"tight\")\n",
    "fig_load.savefig('fig_load.eps', format='eps')"
   ]
  },
  {
   "cell_type": "code",
   "execution_count": 6,
   "metadata": {
    "scrolled": true
   },
   "outputs": [
    {
     "name": "stdout",
     "output_type": "stream",
     "text": [
      "Set parameter Username\n",
      "Academic license - for non-commercial use only - expires 2024-05-21\n"
     ]
    },
    {
     "name": "stderr",
     "output_type": "stream",
     "text": [
      "RTED GB model is loaded.\n",
      "RTED removed: ['rampu', 'rampd']\n",
      "RTED limited: sfru, sfrd\n",
      "RTED: total cost=4889.131\n"
     ]
    }
   ],
   "source": [
    "%run -i 'cosim_setup_dispatch.py'"
   ]
  },
  {
   "cell_type": "code",
   "execution_count": 7,
   "metadata": {},
   "outputs": [],
   "source": [
    "case_name = 'cosim_ieee39_'\n",
    "\n",
    "# SFR, with ict control\n",
    "socf1 = pd.read_csv(case_name+'fict'+'_evsoc1.csv')\n",
    "socf2 = pd.read_csv(case_name+'fict'+'_evsoc2.csv')\n",
    "socfm = pd.concat([socf1, socf2], axis=0).reset_index(drop=True)\n",
    "\n",
    "# SFR, without ict control\n",
    "socfn1 = pd.read_csv(case_name+'f'+'_evsoc1.csv')\n",
    "socfn2 = pd.read_csv(case_name+'f'+'_evsoc2.csv')\n",
    "socfnm = pd.concat([socfn1, socfn2], axis=0).reset_index(drop=True)\n",
    "\n",
    "# no SFR\n",
    "socs1 = pd.read_csv(case_name+'s'+'_evsoc1.csv')\n",
    "socs2 = pd.read_csv(case_name+'s'+'_evsoc2.csv')\n",
    "socsm = pd.concat([socs1, socs2], axis=0).reset_index(drop=True)\n",
    "\n",
    "pgf = pd.read_csv(case_name+'fict'+'_pg.csv')\n",
    "pgs = pd.read_csv(case_name+'s'+'_pg.csv')\n",
    "pgfn = pd.read_csv(case_name+'f'+'_pg.csv')\n",
    "\n",
    "agcf = pd.read_csv(case_name+'fict'+'_agcm.csv')\n",
    "agcs = pd.read_csv(case_name+'s'+'_agcm.csv')\n",
    "agcfn = pd.read_csv(case_name+'f'+'_agcm.csv')\n",
    "\n",
    "outf = pd.read_csv(case_name+'fict'+'_out.csv')\n",
    "outs = pd.read_csv(case_name+'s'+'_out.csv')\n",
    "outfn = pd.read_csv(case_name+'f'+'_out.csv')\n",
    "outf['fd'] = outf['freq'] - ssa.config.freq\n",
    "outs['fd'] = outs['freq'] - ssa.config.freq\n",
    "outfn['fd'] = outfn['freq'] - ssa.config.freq\n",
    "\n",
    "evf = pd.read_csv(case_name+'fict'+'_sse.csv')\n",
    "evs = pd.read_csv(case_name+'s'+'_sse.csv')\n",
    "evfn = pd.read_csv(case_name+'f'+'_sse.csv')\n",
    "\n",
    "evdf = pd.read_csv(case_name+'fict'+'_evdata.csv')\n",
    "evds = pd.read_csv(case_name+'s'+'_evdata.csv')\n",
    "evdfn = pd.read_csv(case_name+'f'+'_evdata.csv')\n",
    "\n",
    "sfrf = pd.read_csv(case_name+'fict'+'_sfr.csv')\n",
    "sfrs = pd.read_csv(case_name+'s'+'_sfr.csv')\n",
    "sfrfn = pd.read_csv(case_name+'f'+'_sfr.csv')\n",
    "\n",
    "evagcf = pd.read_csv(case_name+'fict'+'_evagc.csv').T\n",
    "evsocf = socfm.T\n",
    "evsocf.sort_values(by=['0'], axis=1, inplace=True)\n",
    "evagcs = pd.read_csv(case_name+'s'+'_evagc.csv').T\n",
    "evsocs = socsm.T\n",
    "evsocs.sort_values(by=['0'], axis=1, inplace=True)\n",
    "evagcfn = pd.read_csv(case_name+'f'+'_evagc.csv').T\n",
    "evsocfn = socfnm.T\n",
    "evsocfn.sort_values(by=['0'], axis=1, inplace=True)\n",
    "\n",
    "bu_dfs = pd.read_csv(case_name+'s'+'_bu.csv')\n",
    "bd_dfs = pd.read_csv(case_name+'s'+'_bd.csv')\n",
    "bu_dffn = pd.read_csv(case_name+'f'+'_bu.csv')\n",
    "bd_dffn = pd.read_csv(case_name+'f'+'_bd.csv')\n",
    "bu_dff = pd.read_csv(case_name+'fict'+'_bu.csv')\n",
    "bd_dff = pd.read_csv(case_name+'fict'+'_bd.csv')\n",
    "\n",
    "reader = csv.reader(open(case_name+'fict'+'_rted.csv', 'r'))\n",
    "rted_res = {}\n",
    "for row in reader:\n",
    "   k, v = row\n",
    "   rted_res[k] = v"
   ]
  },
  {
   "cell_type": "code",
   "execution_count": 8,
   "metadata": {},
   "outputs": [
    {
     "name": "stderr",
     "output_type": "stream",
     "text": [
      "/var/folders/06/z8ws9b2d733f7h6yc5qpn22w0000gn/T/ipykernel_33450/2697997569.py:21: UserWarning: FixedFormatter should only be used together with FixedLocator\n",
      "  ax.set_yticklabels([f'{int(i*100)}%' for i in np.arange(0, 1.1, 0.2)])\n",
      "/var/folders/06/z8ws9b2d733f7h6yc5qpn22w0000gn/T/ipykernel_33450/2697997569.py:21: UserWarning: FixedFormatter should only be used together with FixedLocator\n",
      "  ax.set_yticklabels([f'{int(i*100)}%' for i in np.arange(0, 1.1, 0.2)])\n",
      "/var/folders/06/z8ws9b2d733f7h6yc5qpn22w0000gn/T/ipykernel_33450/2697997569.py:21: UserWarning: FixedFormatter should only be used together with FixedLocator\n",
      "  ax.set_yticklabels([f'{int(i*100)}%' for i in np.arange(0, 1.1, 0.2)])\n"
     ]
    }
   ],
   "source": [
    "color = ['tab:blue', 'yellow', 'tab:green',\n",
    "         'tab:red', 'tab:purple', 'tab:brown',\n",
    "         'tab:pink', 'tab:gray', 'tab:olive', 'tab:cyan', 'tab:orange']\n",
    "new_cols = ['PV_1', 'PV_2', 'PV_3', 'PV_4', 'PV_5', 'PV_6',\n",
    "            'PV_7', 'PV_8', 'PV_9', 'Slack_10', 'PV_10']\n",
    "label_g = ['G1', 'G2', 'G3', 'G4', 'G5', 'G6', 'G7', 'G8', 'G9', 'G10', 'EV']\n",
    "\n",
    "color.reverse()\n",
    "new_cols.reverse()\n",
    "label_g.reverse()\n",
    "\n",
    "def bf_plot(case_idx, bu_df, bd_df, ax1, ax2,\n",
    "            new_cols=new_cols, label_g=label_g):\n",
    "    ax1.grid(axis='y', zorder=-1)\n",
    "    ax2.grid(axis='y', zorder=-1)\n",
    "    bu_df[new_cols].plot.bar(stacked=True, ax=ax1, legend=False, color=color)\n",
    "    bd_df[new_cols].plot.bar(stacked=True, ax=ax2, legend=False, color=color)\n",
    "    for ax in [ax1, ax2]:\n",
    "        ax.tick_params(axis='x', labelrotation = 0)\n",
    "        ax.set_ylim([0, 1])\n",
    "        ax.set_yticklabels([f'{int(i*100)}%' for i in np.arange(0, 1.1, 0.2)])\n",
    "        ax.set_xticklabels([i for i in range(1,13,1)])\n",
    "    return True\n",
    "\n",
    "plt.style.use(['science','ieee'])\n",
    "fig_bf, ax_bf = plt.subplots(3, 2, figsize=(6.5, 6), sharey='row', sharex='col')\n",
    "plt.subplots_adjust(left=None, bottom=None, right=None,\n",
    "                    top=None, wspace=0.05, hspace=0.2)\n",
    "\n",
    "bf_plot(new_cols=new_cols, ax1=ax_bf[0, 0], ax2=ax_bf[0, 1], case_idx=1, bu_df=bu_dfs, bd_df=bd_dfs)\n",
    "bf_plot(new_cols=new_cols, ax1=ax_bf[1, 0], ax2=ax_bf[1, 1],  case_idx=2, bu_df=bu_dffn, bd_df=bd_dffn)\n",
    "bf_plot(new_cols=new_cols, ax1=ax_bf[2, 0], ax2=ax_bf[2, 1],  case_idx=3, bu_df=bu_dff, bd_df=bd_dff)\n",
    "\n",
    "ax_bf[2, 0].set_xlabel('RTED interval\\nRegUp balancing factors')\n",
    "ax_bf[2, 1].set_xlabel('RTED interval\\nRegDn balancing factors')\n",
    "\n",
    "ylabel = 'Factor [\\%]'\n",
    "ax_bf[0, 0].set_ylabel(ylabel)\n",
    "ax_bf[1, 0].set_ylabel(ylabel)\n",
    "ax_bf[2, 0].set_ylabel(ylabel)\n",
    "\n",
    "title_x = 0.1\n",
    "fig_bf.text(x=title_x, y=0.9, s='(a) Case1: EV not providing SFR')\n",
    "fig_bf.text(x=title_x, y=0.63, s='(b) Case2: EV providing SFR without charging time constraints')\n",
    "fig_bf.text(x=title_x, y=0.36, s='(c) Case3: EV providing SFR with charging time constraints')\n",
    "\n",
    "lines_labels = [ax.get_legend_handles_labels() for ax in [ax_bf[2, 0], ax_bf[2, 1]]]\n",
    "lines, labels = [sum(lol, []) for lol in zip(*lines_labels)]\n",
    "line_plot = lines[0:11]\n",
    "line_plot.reverse()\n",
    "label_g.reverse()\n",
    "fig_bf.legend(line_plot, label_g, frameon=True,\n",
    "            loc='lower right', bbox_to_anchor=(0.51, 0.12, 0.5, 0.5))\n",
    "# figs.suptitle('Balancing factor', x=0.12, y=0.07, fontsize=12)\n",
    "fig_bf.savefig('fig_bf.png', format='png')"
   ]
  },
  {
   "cell_type": "code",
   "execution_count": 9,
   "metadata": {},
   "outputs": [
    {
     "data": {
      "text/html": [
       "<style type=\"text/css\">\n",
       "</style>\n",
       "<table id=\"T_9a838\">\n",
       "  <thead>\n",
       "    <tr>\n",
       "      <th class=\"blank level0\" >&nbsp;</th>\n",
       "      <th id=\"T_9a838_level0_col0\" class=\"col_heading level0 col0\" >Case1</th>\n",
       "      <th id=\"T_9a838_level0_col1\" class=\"col_heading level0 col1\" >Case2</th>\n",
       "      <th id=\"T_9a838_level0_col2\" class=\"col_heading level0 col2\" >Case3</th>\n",
       "    </tr>\n",
       "  </thead>\n",
       "  <tbody>\n",
       "    <tr>\n",
       "      <th id=\"T_9a838_level0_row0\" class=\"row_heading level0 row0\" >Freq. Dev. mean [Hz]</th>\n",
       "      <td id=\"T_9a838_row0_col0\" class=\"data row0 col0\" >-0.0</td>\n",
       "      <td id=\"T_9a838_row0_col1\" class=\"data row0 col1\" >-1e-05</td>\n",
       "      <td id=\"T_9a838_row0_col2\" class=\"data row0 col2\" >-1e-05</td>\n",
       "    </tr>\n",
       "    <tr>\n",
       "      <th id=\"T_9a838_level0_row1\" class=\"row_heading level0 row1\" >Freq. Dev. Std. [Hz]</th>\n",
       "      <td id=\"T_9a838_row1_col0\" class=\"data row1 col0\" >0.00623</td>\n",
       "      <td id=\"T_9a838_row1_col1\" class=\"data row1 col1\" >0.006</td>\n",
       "      <td id=\"T_9a838_row1_col2\" class=\"data row1 col2\" >0.00603</td>\n",
       "    </tr>\n",
       "    <tr>\n",
       "      <th id=\"T_9a838_level0_row2\" class=\"row_heading level0 row2\" >ACE mean [MW]</th>\n",
       "      <td id=\"T_9a838_row2_col0\" class=\"data row2 col0\" >-0.01521</td>\n",
       "      <td id=\"T_9a838_row2_col1\" class=\"data row2 col1\" >-0.0522</td>\n",
       "      <td id=\"T_9a838_row2_col2\" class=\"data row2 col2\" >-0.03912</td>\n",
       "    </tr>\n",
       "    <tr>\n",
       "      <th id=\"T_9a838_level0_row3\" class=\"row_heading level0 row3\" >ACE Std. [MW]</th>\n",
       "      <td id=\"T_9a838_row3_col0\" class=\"data row3 col0\" >21.77829</td>\n",
       "      <td id=\"T_9a838_row3_col1\" class=\"data row3 col1\" >20.97947</td>\n",
       "      <td id=\"T_9a838_row3_col2\" class=\"data row3 col2\" >21.07158</td>\n",
       "    </tr>\n",
       "    <tr>\n",
       "      <th id=\"T_9a838_level0_row4\" class=\"row_heading level0 row4\" >CPS1 score</th>\n",
       "      <td id=\"T_9a838_row4_col0\" class=\"data row4 col0\" >153.08869</td>\n",
       "      <td id=\"T_9a838_row4_col1\" class=\"data row4 col1\" >156.70854</td>\n",
       "      <td id=\"T_9a838_row4_col2\" class=\"data row4 col2\" >156.26189</td>\n",
       "    </tr>\n",
       "    <tr>\n",
       "      <th id=\"T_9a838_level0_row5\" class=\"row_heading level0 row5\" >System AGC mileage [MWh]</th>\n",
       "      <td id=\"T_9a838_row5_col0\" class=\"data row5 col0\" >8,277.79918</td>\n",
       "      <td id=\"T_9a838_row5_col1\" class=\"data row5 col1\" >8,940.76994</td>\n",
       "      <td id=\"T_9a838_row5_col2\" class=\"data row5 col2\" >8,864.53066</td>\n",
       "    </tr>\n",
       "    <tr>\n",
       "      <th id=\"T_9a838_level0_row6\" class=\"row_heading level0 row6\" >EV AGC mileage [MWh]</th>\n",
       "      <td id=\"T_9a838_row6_col0\" class=\"data row6 col0\" >0.0</td>\n",
       "      <td id=\"T_9a838_row6_col1\" class=\"data row6 col1\" >2,043.33919</td>\n",
       "      <td id=\"T_9a838_row6_col2\" class=\"data row6 col2\" >1,801.41695</td>\n",
       "    </tr>\n",
       "    <tr>\n",
       "      <th id=\"T_9a838_level0_row7\" class=\"row_heading level0 row7\" >Generation cost [$]</th>\n",
       "      <td id=\"T_9a838_row7_col0\" class=\"data row7 col0\" >133,031.39484</td>\n",
       "      <td id=\"T_9a838_row7_col1\" class=\"data row7 col1\" >132,500.64676</td>\n",
       "      <td id=\"T_9a838_row7_col2\" class=\"data row7 col2\" >132,556.21052</td>\n",
       "    </tr>\n",
       "    <tr>\n",
       "      <th id=\"T_9a838_level0_row8\" class=\"row_heading level0 row8\" >Milage payment [$]</th>\n",
       "      <td id=\"T_9a838_row8_col0\" class=\"data row8 col0\" >8,195.02119</td>\n",
       "      <td id=\"T_9a838_row8_col1\" class=\"data row8 col1\" >8,851.36224</td>\n",
       "      <td id=\"T_9a838_row8_col2\" class=\"data row8 col2\" >8,775.88535</td>\n",
       "    </tr>\n",
       "    <tr>\n",
       "      <th id=\"T_9a838_level0_row9\" class=\"row_heading level0 row9\" >Milage payment to EV[$]</th>\n",
       "      <td id=\"T_9a838_row9_col0\" class=\"data row9 col0\" >0.0</td>\n",
       "      <td id=\"T_9a838_row9_col1\" class=\"data row9 col1\" >2,022.9058</td>\n",
       "      <td id=\"T_9a838_row9_col2\" class=\"data row9 col2\" >1,783.40278</td>\n",
       "    </tr>\n",
       "    <tr>\n",
       "      <th id=\"T_9a838_level0_row10\" class=\"row_heading level0 row10\" >ICT compensation to EV [$]</th>\n",
       "      <td id=\"T_9a838_row10_col0\" class=\"data row10 col0\" >0.0</td>\n",
       "      <td id=\"T_9a838_row10_col1\" class=\"data row10 col1\" >846.1502</td>\n",
       "      <td id=\"T_9a838_row10_col2\" class=\"data row10 col2\" >0.00087</td>\n",
       "    </tr>\n",
       "    <tr>\n",
       "      <th id=\"T_9a838_level0_row11\" class=\"row_heading level0 row11\" >System total payment [$]</th>\n",
       "      <td id=\"T_9a838_row11_col0\" class=\"data row11 col0\" >141,226.41602</td>\n",
       "      <td id=\"T_9a838_row11_col1\" class=\"data row11 col1\" >142,198.1592</td>\n",
       "      <td id=\"T_9a838_row11_col2\" class=\"data row11 col2\" >141,332.09674</td>\n",
       "    </tr>\n",
       "  </tbody>\n",
       "</table>\n"
      ],
      "text/plain": [
       "<pandas.io.formats.style.Styler at 0x16b741fd0>"
      ]
     },
     "execution_count": 9,
     "metadata": {},
     "output_type": "execute_result"
    }
   ],
   "source": [
    "# --- CPS score ---\n",
    "epsilon = 18\n",
    "k = 10 * ssa.ACEc.bias.v / epsilon / epsilon # mHz\n",
    "length = 60\n",
    "\n",
    "def cps_calc(df, k=k, length=length):\n",
    "    \"\"\"Calculate CPS score\"\"\"\n",
    "    dfc = df.copy()\n",
    "    dfc['Time'] = dfc['Time'] / length\n",
    "    dfc['Time'] = dfc['Time'].astype(int)\n",
    "    dfc = dfc.groupby('Time').mean()\n",
    "    dfc['prod'] = 100 * (2 - k * dfc['ACE'] * dfc['fd'])\n",
    "    return dfc\n",
    "\n",
    "outscp = cps_calc(outs)\n",
    "outfncp = cps_calc(outfn)\n",
    "outfcp = cps_calc(outf)\n",
    "\n",
    "# --- generation cost ---\n",
    "def genc_calc(pgdf):\n",
    "    \"\"\"Calculate gen cost\"\"\"\n",
    "    tc = 0\n",
    "    for i in pgf.index:\n",
    "        c = ssd.cost.c2.values * np.power(pgdf.loc[i].values / 12, 2) \\\n",
    "            + ssd.cost.c1.values * pgdf.loc[i].values\n",
    "        tc += np.sum(c)\n",
    "    tc += ssd.cost.c0.values * ssd.gen.u.values\n",
    "    return tc.sum()\n",
    "\n",
    "gtf = genc_calc(pgf)\n",
    "gts = genc_calc(pgs)\n",
    "gtfn = genc_calc(pgfn)\n",
    "\n",
    "# --- SFR mileage cost ---\n",
    "def sfrc_calc(agcf):\n",
    "    \"\"\"Calculate SFR mileage payment\"\"\"\n",
    "    tc = 0\n",
    "    for i in agcf.columns:\n",
    "        c = agcf[i].values * 0.99  # $ from ISO-NE 2022-12-03\n",
    "        tc += np.sum(c)\n",
    "    return tc.sum()\n",
    "\n",
    "# NOTE: 0.99 $/MWh, Mileage price is from ISO-NE 2022-12-03, 18:00\n",
    "# https://www.iso-ne.com/isoexpress/web/reports/pricing/-/tree/ancillary-final-five-minute-rcp\n",
    "\n",
    "sms = sfrc_calc(agcs)\n",
    "smfn = sfrc_calc(agcfn)\n",
    "smf = sfrc_calc(agcf)\n",
    "\n",
    "# --- ICT penalty and AGC payment to a car ---\n",
    "def ictp_calc(df, agc_df, no_agc=False):\n",
    "    \"\"\"Calculate ICT penalty\"\"\"\n",
    "    ict_df = df.copy()\n",
    "    # calculate ict\n",
    "    ict_df['ict'] = ict_df['na'] / ict_df['nam'] * ict_df['tt']\n",
    "    ict_df['ict'][ict_df['ict'] < 0] = 0\n",
    "    if no_agc:\n",
    "        ict_df['ict'] = 0\n",
    "    # scale up data\n",
    "    ict_df[['tt', 'ict']] *= 60\n",
    "    ict_df['rna'] = ict_df['nama'] / ict_df['nama'].sum()\n",
    "    payment = sfrc_calc(agc_df) * agc_df.loc[9].sum() / agc_df.sum().sum()\n",
    "    # payment to single EV\n",
    "    ict_df['pna'] = payment * ict_df['rna']\n",
    "    ict_df['pict'] = (ict_df['ict'] - ict_df['tt']) * 4 / 60  # $2 per delayed hour\n",
    "    ict_df['pict'][ict_df['pict'] <= 0] = 0\n",
    "    pna = ict_df['pna'].sum()\n",
    "    pict = ict_df['pict'].sum()\n",
    "    return ict_df, pna, pict\n",
    "\n",
    "# NOTE: 35.46 $/MWh, LMP from ISO-NE, 2022-12-03, 18:00\n",
    "# https://www.iso-ne.com/isoexpress/web/reports/pricing/-/tree/lmps-rt-five-minute-final\n",
    "# 6 * 1 / 1e3 * 35.46 = 2.1276 $/h, ICT penalty\n",
    "\n",
    "ict_fn, pna_fn, pict_fn = ictp_calc(evdfn, agcfn)\n",
    "ict_f, pna_f, pict_f = ictp_calc(evdf, agcf)\n",
    "ict_s, pna_s, pict_s = ictp_calc(evds, agcs, no_agc=True)\n",
    "\n",
    "# --- table ---\n",
    "res_value = np.array([[outs['fd'].mean(), outfn['fd'].mean(), outf['fd'].mean()],  # Freq. Dev. mean\n",
    "                      [outs['fd'].std(), outfn['fd'].std(), outf['fd'].std()],  # Freq. Dev. std\n",
    "                      [outs['ACE'].mean(), outfn['ACE'].mean(), outf['ACE'].mean()],  # ACE mean\n",
    "                      [outs['ACE'].std(), outfn['ACE'].std(), outf['ACE'].std()],  # ACE std [mHz]\n",
    "                      [outscp['prod'].mean(), outfncp['prod'].mean(), outfcp['prod'].mean()],  # CPS1\n",
    "                      [agcs.sum().sum(), agcfn.sum().sum(), agcf.sum().sum()],  # System AGC mileage\n",
    "                      [agcs.loc[9].sum(), agcfn.loc[9].sum(), agcf.loc[9].sum()],  # EV AGC mileage\n",
    "                      [gts, gtfn, gtf],  # Generation cost\n",
    "                      [sms, smfn, smf],  # Milage payment\n",
    "                      [sms*agcs.loc[9].sum()/agcs.sum().sum(),  # Milage payment to EV\n",
    "                       smfn*agcfn.loc[9].sum()/agcfn.sum().sum(),\n",
    "                       smf*agcf.loc[9].sum()/agcf.sum().sum()],  \n",
    "                      [pict_s, pict_fn, pict_f],  # ICT compensation to EV\n",
    "                      [sms + gts + pict_s,  # System total cost\n",
    "                      smfn + gtfn + pict_fn,\n",
    "                      smf + gtf + pict_f]]\n",
    "                      )\n",
    "res_df = pd.DataFrame(data=res_value,\n",
    "                      columns=['Case1', 'Case2', 'Case3'])\n",
    "Cat = ['Freq. Dev. mean [Hz]', 'Freq. Dev. Std. [Hz]',\n",
    "       'ACE mean [MW]', 'ACE Std. [MW]',\n",
    "       'CPS1 score', 'System AGC mileage [MWh]',\n",
    "       'EV AGC mileage [MWh]', 'Generation cost [$]',\n",
    "       'Milage payment [$]',\n",
    "       'Milage payment to EV[$]',\n",
    "       'ICT compensation to EV [$]',\n",
    "        'System total payment [$]',]\n",
    "res_df.index = Cat\n",
    "# res_df.loc['Total cost [$]'] = res_df.loc[Cat[6]] + res_df.loc[Cat[7]] + res_df.loc[Cat[10]]\n",
    "res_df.round(5).style.format('{:,}')"
   ]
  },
  {
   "cell_type": "code",
   "execution_count": 10,
   "metadata": {},
   "outputs": [
    {
     "data": {
      "text/plain": [
       "array([[    -0.     ,     -0.00001,     -0.00001],\n",
       "       [     0.00623,      0.006  ,      0.00603],\n",
       "       [    -0.01521,     -0.0522 ,     -0.03912],\n",
       "       [    21.77829,     20.97947,     21.07158],\n",
       "       [   153.08869,    156.70854,    156.26189],\n",
       "       [  8277.79918,   8940.76994,   8864.53066],\n",
       "       [     0.     ,   2043.33919,   1801.41695],\n",
       "       [133031.39484, 132500.64676, 132556.21052],\n",
       "       [  8195.02119,   8851.36224,   8775.88535],\n",
       "       [     0.     ,   2022.9058 ,   1783.40278],\n",
       "       [     0.     ,    846.1502 ,      0.00087],\n",
       "       [141226.41602, 142198.1592 , 141332.09674]])"
      ]
     },
     "execution_count": 10,
     "metadata": {},
     "output_type": "execute_result"
    }
   ],
   "source": [
    "np.set_printoptions(precision=5, suppress=True)\n",
    "res_df.values"
   ]
  },
  {
   "cell_type": "code",
   "execution_count": 11,
   "metadata": {},
   "outputs": [
    {
     "name": "stdout",
     "output_type": "stream",
     "text": [
      "['Freq. Dev. mean [Hz]', 'Freq. Dev. Std. [Hz]', 'ACE mean [MW]', 'ACE Std. [MW]', 'CPS1 score', 'System AGC mileage [MWh]', 'EV AGC mileage [MWh]', 'Generation cost [$]', 'Milage payment [$]', 'Milage payment to EV[$]', 'ICT compensation to EV [$]', 'System total payment [$]']\n"
     ]
    }
   ],
   "source": [
    "print(Cat)"
   ]
  },
  {
   "cell_type": "code",
   "execution_count": 12,
   "metadata": {},
   "outputs": [
    {
     "name": "stderr",
     "output_type": "stream",
     "text": [
      "The PostScript backend does not support transparency; partially transparent artists will be rendered opaque.\n"
     ]
    }
   ],
   "source": [
    "# # --- plot ---\n",
    "fig_evp, ax_evp = plt.subplots(1, 2, figsize=(7, 2.5), dpi=400)\n",
    "plt.subplots_adjust(left=None, bottom=None, right=None,\n",
    "                    top=None, wspace=0.2, hspace=0.25)\n",
    "\n",
    "ax, bins, density = ax_evp, 30, True\n",
    "ict_fn['pna'].hist(ax=ax_evp[0], color='tab:green', label='Case2', bins=bins, density=density)\n",
    "ict_f['pna'].hist(ax=ax_evp[0], color='tab:orange', label='Case3', bins=bins, density=density, alpha=0.8)\n",
    "ax_evp[0].set_xlabel(r'US Dollar [\\$]')\n",
    "ax_evp[0].set_ylabel('Density')\n",
    "ax_evp[0].legend(frameon=True)\n",
    "\n",
    "ict_fn['pict'].hist(ax=ax_evp[1], color='tab:green', label='Case2', bins=bins, density=density)\n",
    "ict_f['pict'].hist(ax=ax_evp[1], color='tab:orange', label='Case3', bins=bins, density=density, alpha=0.8)\n",
    "ax_evp[1].set_xlabel(r'US Dollar [\\$]')\n",
    "ax_evp[1].set_ylabel('Density')\n",
    "ax_evp[1].legend(frameon=True)\n",
    "ax_evp[1].set_ylim([0, 11])\n",
    "\n",
    "title_y_usd = 1\n",
    "ax_evp[0].set_title('(a) Single EV mileage payment', y=title_y_usd)\n",
    "ax_evp[1].set_title('(b) Single EV ICT compensation', y=title_y_usd)\n",
    "fig_evp.savefig('fig_evpay.eps', format='eps')"
   ]
  },
  {
   "cell_type": "code",
   "execution_count": 13,
   "metadata": {},
   "outputs": [],
   "source": [
    "# --- calcualte ICT ---\n",
    "evdfnp = evdfn.copy()\n",
    "evdfp = evdf.copy()\n",
    "# # # scale up data\n",
    "evdfnp[['tt', 'ict']] *= 60\n",
    "evdfp[['tt', 'ict']] *= 60\n",
    "# # re-calculate ict\n",
    "evdfnp['ict'] = evdfnp['na'] / evdfnp['nam'] * evdfnp['tt']\n",
    "evdfnp['ict'][evdfnp['ict'] < 0] = 0\n",
    "evdfp['ict'] = evdfp['na'] / evdfp['nam'] * evdfp['tt']\n",
    "evdfp['ict'][evdfp['ict'] < 0] = 0\n",
    "\n",
    "# # ratio of ict\n",
    "evdfnp['rict'] = evdfnp['ict'] / evdfnp['tt']\n",
    "evdfp['rict'] = evdfp['ict'] / evdfp['tt']\n",
    "\n",
    "plt.style.use(['science','ieee'])\n",
    "# # --- plot ---\n",
    "fig_ict, ax_ict = plt.subplots(2, 2, figsize=(7, 6), dpi=400)\n",
    "plt.subplots_adjust(left=None, bottom=None, right=None,\n",
    "                    top=None, wspace=0.2, hspace=0.25)\n",
    "\n",
    "# --- plot1 ---\n",
    "ax, bins, density = ax_ict[0, 0], 30, True\n",
    "evdfnp['tt'].hist(ax=ax, color='grey', label='Tolerance', bins=bins, density=density)\n",
    "evdfnp['ict'].hist(ax=ax, color='tab:green', label='Case2', bins=bins, density=density, alpha=0.8)\n",
    "evdfp['ict'].hist(ax=ax, color='tab:orange', label='Case3', bins=bins, density=density, alpha=0.6)\n",
    "ax.grid(which='major', ls='-')\n",
    "ax.legend(frameon=True)\n",
    "ax.set_xlim([-0.001, 60])\n",
    "ax.set_xlabel('Time [Min]')\n",
    "ax.set_ylabel('Density')\n",
    "\n",
    "# --- plot2 ---\n",
    "ax, bins, density = ax_ict[0, 1], 30, True\n",
    "ax.axvline(x=1, label='Tolerance', color='grey', linestyle='--')\n",
    "evdfnp['rict'].hist(ax=ax, color='tab:green', label='Case2', bins=bins, density=density)\n",
    "evdfp['rict'].hist(ax=ax, color='tab:orange', label='Case3', bins=bins, density=density, alpha=0.8)\n",
    "ax.grid(which='major', ls='-')\n",
    "ax.legend(frameon=True)\n",
    "ax.set_xlim([-0.001, None])\n",
    "ax.set_xlabel('Ratio')\n",
    "ax.set_ylabel('Density')\n",
    "\n",
    "# --- plot3,4 ---\n",
    "ax, s, marker, x, y = ax_ict[1, 0], 1, 'o', 'tt', 'ict'\n",
    "xmax, xmin, loc =  60, -0.01, 'bottom'\n",
    "\n",
    "ax.plot([xmin, xmax], [xmin, xmax], label='Tolerance', color='grey', linestyle='--')\n",
    "evdfnp.plot.scatter(x=x, y=y, s=s, marker=marker, ax=ax,\n",
    "                    c='tab:green', label='Case2')\n",
    "ax.grid(which='major', ls='-')\n",
    "ax.legend(frameon=True, loc='lower right')\n",
    "ax.set_xlim([xmin, xmax])\n",
    "ax.set_ylim([xmin, xmax])\n",
    "ax.set_xlabel('Tolerance of ICT [Min]')\n",
    "ax.set_ylabel('Actual ICT [Min]')\n",
    "\n",
    "ax, s, marker, x, y, xmax, xmin = ax_ict[1, 1], 1.5, 'o', 'tt', 'ict', 60, -0.01\n",
    "ax.plot([xmin, xmax], [xmin, xmax], label='Tolerance', color='grey', linestyle='--')\n",
    "evdfp.plot.scatter(x=x, y=y, s=s, marker=marker, ax=ax,\n",
    "                   c='tab:orange', label='Case3')\n",
    "ax.grid(which='major', ls='-')\n",
    "ax.legend(frameon=True, loc='lower right')\n",
    "ax.set_xlim([xmin, xmax])\n",
    "ax.set_ylim([xmin, xmax])\n",
    "ax.set_xlabel('Tolerance of ICT [Min]')\n",
    "ax.set_ylabel('Actual ICT [Min]')\n",
    "\n",
    "# title\n",
    "title_y = 1\n",
    "ax_ict[0, 0].set_title('(a) Distribution of increased charging time', y=title_y)\n",
    "ax_ict[0, 1].set_title('(b) Distribution of ratio of actual ICT to tolerance of ICT', y=title_y)\n",
    "ax_ict[1, 0].set_title('(c) Case2 scatter plot of ICT', y=title_y)\n",
    "ax_ict[1, 1].set_title('(d) Case3 scatter plot of ICT', y=title_y)\n",
    "ax_ict_yrange = [0, 60]\n",
    "ax_ict[1, 0].set_ylim(ax_ict_yrange)\n",
    "ax_ict[1, 1].set_ylim(ax_ict_yrange)\n",
    "fig_ict.savefig('fig_ict.pdf', format='pdf')"
   ]
  },
  {
   "cell_type": "code",
   "execution_count": 14,
   "metadata": {},
   "outputs": [
    {
     "name": "stderr",
     "output_type": "stream",
     "text": [
      "The PostScript backend does not support transparency; partially transparent artists will be rendered opaque.\n"
     ]
    }
   ],
   "source": [
    "plt.style.use(['science','ieee'])\n",
    "fig_dyn, ax_dyn = plt.subplots(2, 2, figsize=(7, 6))\n",
    "plt.subplots_adjust(left=None, bottom=None, right=None,\n",
    "                    top=None, wspace=0.25, hspace=0.25)\n",
    "\n",
    "# COI freq.\n",
    "x, y, fig, ax_plt = 'Time', 'freq', fig_dyn, ax_dyn[0, 0]\n",
    "outs.plot(x='Time', y='freq', ax=ax_plt, fig=fig, label='Case1', linestyle='-', color='tab:blue')\n",
    "outfn.plot(x='Time', y='freq', ax=ax_plt, fig=fig, label='Case2', linestyle='-', color='tab:green')\n",
    "outf.plot(x='Time', y='freq', ax=ax_plt, fig=fig, label='Case3',\n",
    "          linestyle='--', color='tab:orange', grid=True, )\n",
    "ax_plt.legend(frameon=True)\n",
    "ax_plt.set_xlim([0, 3600])\n",
    "ax_plt.set_ylabel('Freq. [Hz]')\n",
    "ax_plt.set_xlabel('Time [s]')\n",
    "\n",
    "# COI std.\n",
    "x, y, kind, legend, linewidth, fig, ax_plt = 'Time', 'fd', 'hist', False, 1, fig_dyn, ax_dyn[0, 1]\n",
    "bins, density = 60, True\n",
    "outs.plot(x=x, y=y, kind=kind, color='tab:blue', alpha=1, bins=bins, density=density,\n",
    "          legend=legend, linewidth=linewidth, fig=fig, ax=ax_plt, label='Case1')\n",
    "outfn.plot(x=x, y=y, kind=kind, color='tab:green', alpha=0.8, bins=bins, density=density,\n",
    "          legend=legend, linewidth=linewidth, fig=fig, ax=ax_plt, label='Case2')\n",
    "outf.plot(x=x, y=y, kind=kind, color='tab:orange', alpha=0.6, bins=bins, density=density,\n",
    "          legend=legend, linewidth=linewidth, fig=fig, ax=ax_plt, label='Case3', grid=True)\n",
    "ax_plt.legend(frameon=True)\n",
    "ax_plt.set_ylabel('Density')\n",
    "ax_plt.set_xlabel('Freq. [Hz]')\n",
    "\n",
    "# ACE\n",
    "x, y, fig, ax_plt = 'Time', 'ACE', fig_dyn, ax_dyn[1, 0]\n",
    "outs.plot(x=x, y=y, ax=ax_plt, fig=fig, label='Case1', linestyle='-', color='tab:blue')\n",
    "outfn.plot(x=x, y=y, ax=ax_plt, fig=fig, label='Case2', linestyle='-', color='tab:green')\n",
    "outf.plot(x=x, y=y, ax=ax_plt, fig=fig, label='Case3', linestyle='--', color='tab:orange', grid=True)\n",
    "ax_plt.legend(frameon=True)\n",
    "ax_plt.set_xlim([0, 3600])\n",
    "ax_plt.set_ylabel('Power [MW]')\n",
    "ax_plt.set_xlabel('Time [s]')\n",
    "\n",
    "# AGC control\n",
    "x, y, kind, legend, linewidth, fig, ax_plt = 'Time', 'fd', 'kde', False, 1, fig_dyn, ax_dyn[1, 1]\n",
    "sfrs.plot(x='time', y='ace', ax=ax_plt, fig=fig, label='Case1', linestyle='-', color='tab:blue')\n",
    "sfrfn.plot(x='time', y='ace', ax=ax_plt, fig=fig, label='Case2', linestyle='-', color='tab:green')\n",
    "sfrf.plot(x='time', y='ace', ax=ax_plt, fig=fig, label='Case3', linestyle='-', color='tab:orange', grid=True)\n",
    "ax_plt.legend(frameon=True)\n",
    "\n",
    "legend, linestyle, color = False, '--', 'grey'\n",
    "sfrs.plot(x='time', y='up', ax=ax_plt, fig=fig, linestyle=linestyle, color=color, legend=legend)\n",
    "sfrs.plot(x='time', y='dn', ax=ax_plt, fig=fig, linestyle=linestyle, color=color, legend=legend, grid=True)\n",
    "ax_plt.set_xlim([0, 3600])\n",
    "ax_plt.set_xlabel('Time [s]')\n",
    "ax_plt.set_ylabel('Power [MW]')\n",
    "ax_plt.legend(['Case1', 'Case2', 'Case3', 'SFR capacity'], frameon=True, loc='lower right')\n",
    "\n",
    "# title\n",
    "title_y = 1\n",
    "ax_dyn[0, 0].set_title('(a) System COI frequency', y=title_y)\n",
    "ax_dyn[0, 1].set_title('(b) Deviation of COI frequency', y=title_y)\n",
    "ax_dyn[1, 0].set_title('(c) System ACE', y=title_y)\n",
    "ax_dyn[1, 1].set_title('(d) Total AGC input signal', y=title_y)\n",
    "fig_dyn.savefig('fig_dyn.eps', format='eps')"
   ]
  },
  {
   "cell_type": "code",
   "execution_count": 15,
   "metadata": {},
   "outputs": [
    {
     "name": "stderr",
     "output_type": "stream",
     "text": [
      "The PostScript backend does not support transparency; partially transparent artists will be rendered opaque.\n"
     ]
    }
   ],
   "source": [
    "plt.style.use(['science','ieee'])\n",
    "fig_evr, ax_evr = plt.subplots(1, 2, figsize=(7, 2.5), dpi=400, sharey=False)\n",
    "loc = 'lower right'\n",
    "evfn.plot(y='Pi', ax=ax_evr[0], color='black', label='Control')\n",
    "evfn.plot(y='Prc', ax=ax_evr[0], color='tab:red', linestyle='--', label='Response', grid=True)\n",
    "evf.plot(y='Pi', ax=ax_evr[1], color='black', linestyle='-', label='Control')\n",
    "evf.plot(y='Prc', ax=ax_evr[1], color='tab:red', linestyle='--', label='Response', grid=True)\n",
    "for a in ax_evr:\n",
    "    a.set_xlim([0, 3600])\n",
    "    a.set_ylim([-40, 80])\n",
    "    a.legend(loc=loc, frameon=True)\n",
    "    a.set_ylabel('Power [MW]')\n",
    "    a.set_xlabel('Time [s]')\n",
    "\n",
    "title_y = 1\n",
    "ax_evr[0].set_title('(a) Case2 AGC response', y=title_y)\n",
    "ax_evr[1].set_title('(b) Case3 AGC response', y=title_y)\n",
    "fig_evr.savefig('fig_evr.eps', format='eps')"
   ]
  },
  {
   "cell_type": "code",
   "execution_count": 16,
   "metadata": {},
   "outputs": [],
   "source": [
    "nfr0 = pd.read_csv(case_name+'fict'+'_sse_fr0.csv')\n",
    "nfr2 = pd.read_csv(case_name+'fict'+'_sse_fr2.csv')\n",
    "nfr5 = pd.read_csv(case_name+'fict'+'_sse_fr5.csv')\n",
    "\n",
    "fr0 = pd.read_csv(case_name+'f'+'_sse_fr0.csv')\n",
    "fr2 = pd.read_csv(case_name+'f'+'_sse_fr2.csv')\n",
    "fr5 = pd.read_csv(case_name+'f'+'_sse_fr5.csv')"
   ]
  },
  {
   "cell_type": "code",
   "execution_count": 17,
   "metadata": {},
   "outputs": [
    {
     "name": "stderr",
     "output_type": "stream",
     "text": [
      "The PostScript backend does not support transparency; partially transparent artists will be rendered opaque.\n"
     ]
    }
   ],
   "source": [
    "plt.style.use(['science', 'ieee'])\n",
    "\n",
    "fig_fr, ax_fr = plt.subplots(1, 2, figsize=(7, 2.5), dpi=400, sharey=False)\n",
    "\n",
    "x, y, legend, linewidth, fig, ax_plt = 'ts', 'Prc', False, 1, fig_fr, ax_fr[0]\n",
    "fr0.plot(y='Pi', color='black', alpha=1,\n",
    "         legend=legend, linewidth=linewidth, fig=fig, ax=ax_plt, label='Control')\n",
    "fr0.plot(y=y, color='tab:blue', alpha=1, linestyle='-',\n",
    "         legend=legend, linewidth=linewidth, fig=fig, ax=ax_plt, label=r'0\\%')\n",
    "fr2.plot(y=y, color='tab:green', alpha=0.8, linestyle='-',\n",
    "         legend=legend, linewidth=linewidth, fig=fig, ax=ax_plt, label=r'2\\%')\n",
    "fr5.plot(y=y, color='tab:orange', alpha=0.6, linestyle='-',\n",
    "         legend=legend, linewidth=linewidth, fig=fig, ax=ax_plt, label=r'5\\%', grid=True)\n",
    "\n",
    "ax_plt.legend(frameon=True)\n",
    "ax_plt.set_ylabel('Power [MW]')\n",
    "ax_plt.set_xlabel('Time [s]')\n",
    "ax_plt.set_xlim([0, 3600])\n",
    "\n",
    "x, y, legend, linewidth, fig, ax_plt = 'ts', 'Prc', False, 1, fig_fr, ax_fr[1]\n",
    "nfr0.plot(y='Pi', color='black', alpha=1,\n",
    "          legend=legend, linewidth=linewidth, fig=fig, ax=ax_plt, label='Control')\n",
    "nfr0.plot(y=y, color='tab:blue', alpha=1, linestyle='-',\n",
    "          legend=legend, linewidth=linewidth, fig=fig, ax=ax_plt, label=r'0\\%')\n",
    "nfr2.plot(y=y, color='tab:green', alpha=0.8, linestyle='-',\n",
    "          legend=legend, linewidth=linewidth, fig=fig, ax=ax_plt, label=r'2\\%')\n",
    "nfr5.plot(y=y, color='tab:orange', alpha=0.6, linestyle='-',\n",
    "          legend=legend, linewidth=linewidth, fig=fig, ax=ax_plt, label=r'5\\%', grid=True)\n",
    "\n",
    "for ax in ax_fr:\n",
    "    ax.legend(frameon=True)\n",
    "    ax.set_ylabel('Power [MW]')\n",
    "    ax.set_xlabel('Time [s]')\n",
    "    ax.set_xlim([0, 3600])\n",
    "\n",
    "ax_fr[0].set_title('(a) Case2 AGC response', y=title_y)\n",
    "ax_fr[1].set_title('(b) Case3 AGC response', y=title_y)\n",
    "\n",
    "fig_fr.savefig('fig_fcomm.eps', format='eps')"
   ]
  },
  {
   "cell_type": "code",
   "execution_count": 18,
   "metadata": {},
   "outputs": [
    {
     "data": {
      "text/plain": [
       "[[2.871, 2.8841, 2.9143], [2.871, 2.8841, 2.9143]]"
      ]
     },
     "execution_count": 18,
     "metadata": {},
     "output_type": "execute_result"
    }
   ],
   "source": [
    "def crmse(tsd):\n",
    "    \"\"\"Calculate RMSE\"\"\"\n",
    "    squared_diff = (tsd['Pi'] - tsd['Prc']) ** 2\n",
    "    mean_squared_diff = np.mean(squared_diff)\n",
    "    rmse = np.sqrt(mean_squared_diff)\n",
    "    return np.round(rmse, 4)\n",
    "\n",
    "[[crmse(fr0), crmse(fr2), crmse(fr5)], [crmse(nfr0), crmse(nfr2), crmse(nfr5)]]"
   ]
  },
  {
   "cell_type": "code",
   "execution_count": 19,
   "metadata": {},
   "outputs": [
    {
     "name": "stderr",
     "output_type": "stream",
     "text": [
      "/Users/jinningwang/Documents/work/mambaforge/envs/andes/lib/python3.9/site-packages/pandas/core/indexes/base.py:5055: FutureWarning: Using a non-tuple sequence for multidimensional indexing is deprecated; use `arr[tuple(seq)]` instead of `arr[seq]`. In the future this will be interpreted as an array index, `arr[np.array(seq)]`, which will result either in an error or a different result.\n",
      "  result = getitem(key)\n",
      "The PostScript backend does not support transparency; partially transparent artists will be rendered opaque.\n"
     ]
    }
   ],
   "source": [
    "col_index = []\n",
    "for k in range(0, 16):\n",
    "    col_index = col_index + [list(np.array(range(0, 100)) + 100*k)]\n",
    "col = []\n",
    "for c in col_index:\n",
    "    col = col + [list(evsocf.columns[[c]].values)]\n",
    "\n",
    "plt.style.use(['science','ieee'])\n",
    "fig_soc2, ax_soc2 = plt.subplots(2, 2, figsize=(7, 6), dpi=400)\n",
    "plt.subplots_adjust(left=None, bottom=None, right=None,\n",
    "                    top=None, wspace=0.25, hspace=0.25)\n",
    "\n",
    "alpha=0.8\n",
    "ax = ax_soc2\n",
    "liml = [0.8, 0.6, 0.4, 0.2]\n",
    "limr = [1.005, 1.005, 0.8, 0.6]\n",
    "\n",
    "def plot_ax(ax, idx, i):\n",
    "    ax.fill_between(range(3600), linestyle='-', color='tab:blue',\n",
    "                    hatch='||', alpha=1, label=f'Case1',\n",
    "                    y1=evsocs[col[idx]].mean(axis=1) + 1.96 * evsocs[col[idx]].sem(axis=1),\n",
    "                    y2=evsocs[col[idx]].mean(axis=1) - 1.96 * evsocs[col[idx]].sem(axis=1))\n",
    "    ax.fill_between(range(3600), linestyle='-', color='tab:green',\n",
    "                    hatch='//', alpha=0.9, label=f'Case2',\n",
    "                    y1=evsocfn[col[idx]].mean(axis=1) + 1.96 * evsocfn[col[idx]].sem(axis=1),\n",
    "                    y2=evsocfn[col[idx]].mean(axis=1) - 1.96 * evsocfn[col[idx]].sem(axis=1))\n",
    "    ax.fill_between(range(3600), linestyle='-', color='tab:orange',\n",
    "                    hatch='\\\\\\\\', alpha=0.8, label=f'Case3',\n",
    "                    y1=evsocf[col[idx]].mean(axis=1) + 1.96 * evsocf[col[idx]].sem(axis=1),\n",
    "                    y2=evsocf[col[idx]].mean(axis=1) - 1.96 * evsocf[col[idx]].sem(axis=1))\n",
    "    ax.grid(which='major', ls='-')\n",
    "    ax.set_xlim([0, 3600])\n",
    "    ax.set_xlabel('Time [s]')\n",
    "    ax.set_ylabel(r'End SOC [\\%]')\n",
    "    ax.set_ylim([0.3, 1.001])\n",
    "    yticks = np.arange(0.3, 1.11, 0.1)\n",
    "    ax_yticks = ax.set_yticks(yticks[0:-1], [np.round(ytk*100, 4) for ytk in yticks[0:-1]])\n",
    "    ax_label = f'({chr(97 + i)}) Initial SOC level {idx*5+20}-{idx*5+25}'+r'\\%'\n",
    "    ax.set_title(label=ax_label)\n",
    "\n",
    "for i, (x, y, z) in enumerate([(0, 0, 15), (0, 1, 11), (1, 0, 7), (1, 1, 3)]):\n",
    "    plot_ax(ax_soc2[x, y], z, i)\n",
    "\n",
    "ax_soc2[0, 0].legend(frameon=True, loc='lower right')\n",
    "ax_soc2[0, 1].legend(frameon=True, loc='lower right')\n",
    "ax_soc2[1, 0].legend(frameon=True, loc='upper left')\n",
    "ax_soc2[1, 1].legend(frameon=True, loc='upper left')\n",
    "\n",
    "fig_soc2.savefig('fig_soc2.eps', format='eps')\n",
    "fig_soc2.savefig('fig_soc2.pdf', format='pdf')\n"
   ]
  },
  {
   "cell_type": "code",
   "execution_count": 20,
   "metadata": {},
   "outputs": [
    {
     "name": "stderr",
     "output_type": "stream",
     "text": [
      "/Users/jinningwang/Documents/work/mambaforge/envs/andes/lib/python3.9/site-packages/pandas/core/indexes/base.py:5055: FutureWarning: Using a non-tuple sequence for multidimensional indexing is deprecated; use `arr[tuple(seq)]` instead of `arr[seq]`. In the future this will be interpreted as an array index, `arr[np.array(seq)]`, which will result either in an error or a different result.\n",
      "  result = getitem(key)\n"
     ]
    }
   ],
   "source": [
    "col_index = []\n",
    "for k in range(0, 16):\n",
    "    col_index = col_index + [list(np.array(range(0, 100)) + 100*k)]\n",
    "col = []\n",
    "for c in col_index:\n",
    "    col = col + [list(evsocf.columns[[c]].values)]\n",
    "\n",
    "plt.style.use(['science','ieee'])\n",
    "fig_soc, ax_soc = plt.subplots(4, 4, figsize=(16, 10), dpi=200)\n",
    "plt.subplots_adjust(left=None, bottom=None, right=None,\n",
    "                    top=None, wspace=0.25, hspace=0.4)\n",
    "\n",
    "alpha=0.8\n",
    "ax = ax_soc\n",
    "liml = [0.8, 0.6, 0.4, 0.2]\n",
    "limr = [1.005, 1.005, 0.8, 0.6]\n",
    "for i in range(4):\n",
    "    for j in range(4):\n",
    "        idx = 15 - (4*i + j)\n",
    "        ax[i, j].fill_between(range(3600), linestyle='-', color='tab:blue',\n",
    "                              hatch='||', alpha=1, label=f'Case1',\n",
    "                              y1=evsocs[col[idx]].mean(axis=1) + 1.96 * evsocs[col[idx]].sem(axis=1),\n",
    "                              y2=evsocs[col[idx]].mean(axis=1) - 1.96 * evsocs[col[idx]].sem(axis=1))\n",
    "        ax[i, j].fill_between(range(3600), linestyle='-', color='tab:green',\n",
    "                              hatch='//', alpha=0.9, label=f'Case2',\n",
    "                              y1=evsocfn[col[idx]].mean(axis=1) + 1.96 * evsocfn[col[idx]].sem(axis=1),\n",
    "                              y2=evsocfn[col[idx]].mean(axis=1) - 1.96 * evsocfn[col[idx]].sem(axis=1))\n",
    "        ax[i, j].fill_between(range(3600), linestyle='-', color='tab:orange',\n",
    "                              hatch='\\\\\\\\', alpha=0.8, label=f'Case3',\n",
    "                              y1=evsocf[col[idx]].mean(axis=1) + 1.96 * evsocf[col[idx]].sem(axis=1),\n",
    "                              y2=evsocf[col[idx]].mean(axis=1) - 1.96 * evsocf[col[idx]].sem(axis=1))\n",
    "        ax[i, j].grid(which='major', ls='-')\n",
    "        ax[i, j].set_xlim([0, 3600])\n",
    "        ax[i, j].set_xlabel('Time [s]')\n",
    "        ax[i, j].set_ylabel(r'End SOC [\\%]')\n",
    "        ax_label = f'({chr(97 + 15 - idx)}) Initial SOC level {idx*5+20}-{idx*5+25}'+r'\\%'\n",
    "        ax[i, j].set_title(x=0.15, y=1, label=ax_label)\n",
    "        # --- yrange ---\n",
    "        ax[i, j].set_ylim([liml[i], limr[i]])\n",
    "        # --- yticks ---\n",
    "        if i == 0:\n",
    "            yticks = np.arange(liml[i], limr[i]+0.025, 0.025)\n",
    "        else:\n",
    "            yticks = np.arange(liml[i], limr[i]+0.06, 0.05)\n",
    "        ax_yticks = ax[i, j].set_yticks(yticks[0:-1], [np.round(ytk*100, 4) for ytk in yticks[0:-1]])\n",
    "        # --- legend ---\n",
    "        if idx >= 14:\n",
    "            ax[i, j].legend(frameon=True, loc='lower right')\n",
    "        elif idx >= 8:\n",
    "            ax[i, j].legend(frameon=True, loc='upper left')\n",
    "        elif idx >= 4:\n",
    "            ax[i, j].legend(frameon=True, loc='lower right')\n",
    "        else:\n",
    "            ax[i, j].legend(frameon=True, loc='upper left')\n",
    "\n",
    "fig_soc.savefig('fig_soc.pdf', format='pdf')"
   ]
  }
 ],
 "metadata": {
  "kernelspec": {
   "display_name": "Python 3.9.12 ('andes')",
   "language": "python",
   "name": "python3"
  },
  "language_info": {
   "codemirror_mode": {
    "name": "ipython",
    "version": 3
   },
   "file_extension": ".py",
   "mimetype": "text/x-python",
   "name": "python",
   "nbconvert_exporter": "python",
   "pygments_lexer": "ipython3",
   "version": "3.9.12"
  },
  "varInspector": {
   "cols": {
    "lenName": 16,
    "lenType": 16,
    "lenVar": 40
   },
   "kernels_config": {
    "python": {
     "delete_cmd_postfix": "",
     "delete_cmd_prefix": "del ",
     "library": "var_list.py",
     "varRefreshCmd": "print(var_dic_list())"
    },
    "r": {
     "delete_cmd_postfix": ") ",
     "delete_cmd_prefix": "rm(",
     "library": "var_list.r",
     "varRefreshCmd": "cat(var_dic_list()) "
    }
   },
   "types_to_exclude": [
    "module",
    "function",
    "builtin_function_or_method",
    "instance",
    "_Feature"
   ],
   "window_display": false
  },
  "vscode": {
   "interpreter": {
    "hash": "ef6cb5c8d99d66a3614f491d51fd40cd94c9138687df3d2045e3a510da5efc66"
   }
  }
 },
 "nbformat": 4,
 "nbformat_minor": 4
}
