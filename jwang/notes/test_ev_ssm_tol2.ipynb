{
 "cells": [
  {
   "cell_type": "markdown",
   "metadata": {},
   "source": [
    "# Test EV control"
   ]
  },
  {
   "cell_type": "code",
   "execution_count": 1,
   "metadata": {},
   "outputs": [],
   "source": [
    "import numpy as np\n",
    "import matplotlib.pyplot as plt\n",
    "import pandas as pd\n",
    "\n",
    "from ev_ssm import ev_ssm\n",
    "from tqdm import tqdm"
   ]
  },
  {
   "cell_type": "code",
   "execution_count": 2,
   "metadata": {},
   "outputs": [
    {
     "name": "stdout",
     "output_type": "stream",
     "text": [
      "0.post4467.dev0+g7d341a1\n",
      "2.8.0\n"
     ]
    }
   ],
   "source": [
    "%run -i 'cosim_import.py'"
   ]
  },
  {
   "cell_type": "code",
   "execution_count": 3,
   "metadata": {},
   "outputs": [
    {
     "name": "stderr",
     "output_type": "stream",
     "text": [
      "EVA: ts=18[H], 50000 EVs, Total Q=434.64 MWh\n",
      "Online 14481, Q=361.83 MWh, SoC=0.7687\n",
      "Power(MW): Pt=-39.9433, Pc=-39.9433, Pd=-0.0\n",
      "Ctrl: 0=7778; 1=6703; \n",
      "EVA: Load A from Aest.csv.\n",
      "Working directory: \"/Users/jinningwang/Documents/work/andes/jwang/notes\"\n",
      "> Loaded config from file \"/Users/jinningwang/.andes/andes.rc\"\n",
      "> Loaded generated Python code in \"/Users/jinningwang/.andes/pycode\".\n",
      "Generated code for <PQ> is stale.\n",
      "Numerical code generation (rapid incremental mode) started...\n"
     ]
    },
    {
     "name": "stdout",
     "output_type": "stream",
     "text": [
      "Generating code for 1 models on 8 processes.\n"
     ]
    },
    {
     "name": "stderr",
     "output_type": "stream",
     "text": [
      "Saved generated pycode to \"/Users/jinningwang/.andes/pycode\"\n",
      "> Reloaded generated Python code of module \"pycode\".\n",
      "Generated numerical code for 1 models in 0.1465 seconds.\n",
      "Parsing input file \"/Users/jinningwang/Documents/work/andes/jwang/case/ieee39_ev2.xlsx\"...\n",
      "Input file parsed in 0.0728 seconds.\n",
      "System internal structure set up in 0.0239 seconds.\n"
     ]
    }
   ],
   "source": [
    "caseH = 18\n",
    "%run -i 'cosim_setup_andes.py'"
   ]
  },
  {
   "cell_type": "code",
   "execution_count": 4,
   "metadata": {},
   "outputs": [
    {
     "name": "stdout",
     "output_type": "stream",
     "text": [
      "ANDES total load is: 58.564 p.u.\n"
     ]
    }
   ],
   "source": [
    "%run -i 'cosim_loadsyn.py'"
   ]
  },
  {
   "cell_type": "code",
   "execution_count": 5,
   "metadata": {},
   "outputs": [
    {
     "name": "stderr",
     "output_type": "stream",
     "text": [
      "-> System connectivity check results:\n",
      "  No islanded bus detected.\n",
      "  System is interconnected.\n",
      "  Each island has a slack bus correctly defined and enabled.\n",
      "\n",
      "-> Power flow calculation\n",
      "           Numba: On\n",
      "   Sparse solver: KLU\n",
      " Solution method: NR method\n",
      "Numba compilation initiated with caching.\n",
      "Power flow initialized in 0.1014 seconds.\n",
      "0: |F(x)| = 7.561234474\n",
      "1: |F(x)| = 2.917099456\n",
      "2: |F(x)| = 0.1313037751\n",
      "3: |F(x)| = 0.0003572374622\n",
      "4: |F(x)| = 4.286882849e-09\n",
      "Converged in 5 iterations in 0.0044 seconds.\n",
      "Power flow results are consistent. Conversion is successful.\n"
     ]
    },
    {
     "name": "stdout",
     "output_type": "stream",
     "text": [
      "Set parameter Username\n",
      "Academic license - for non-commercial use only - expires 2023-04-08\n"
     ]
    },
    {
     "name": "stderr",
     "output_type": "stream",
     "text": [
      "-> System connectivity check results:\n",
      "  No islanded bus detected.\n",
      "  System is interconnected.\n",
      "  Each island has a slack bus correctly defined and enabled.\n",
      "\n",
      "-> Power flow calculation\n",
      "           Numba: On\n",
      "   Sparse solver: KLU\n",
      " Solution method: NR method\n",
      "Numba compilation initiated with caching.\n",
      "Power flow initialized in 0.0040 seconds.\n",
      "0: |F(x)| = 7.561234474\n",
      "1: |F(x)| = 2.917099456\n",
      "2: |F(x)| = 0.1313037751\n",
      "3: |F(x)| = 0.0003572374622\n",
      "4: |F(x)| = 4.286882849e-09\n",
      "Converged in 5 iterations in 0.0034 seconds.\n",
      "Power flow results are consistent. Conversion is successful.\n",
      "GSF is consistent.\n",
      "RTED GB model is loaded.\n",
      "RTED removed: ['rampu', 'rampd']\n",
      "RTED limited: sfru, sfrd\n",
      "RTED: total cost=4910.307\n"
     ]
    },
    {
     "name": "stdout",
     "output_type": "stream",
     "text": [
      "pp cost=2224.8754288341015, gb cost=4910.307428177316\n"
     ]
    }
   ],
   "source": [
    "%run -i 'cosim_setup_dispatch.py'"
   ]
  },
  {
   "cell_type": "code",
   "execution_count": 6,
   "metadata": {},
   "outputs": [],
   "source": [
    "%run -i 'cosim_linktable.py'"
   ]
  },
  {
   "cell_type": "code",
   "execution_count": 7,
   "metadata": {},
   "outputs": [],
   "source": [
    "# Change ``rru``, ``rrd``, ``rsfr``, ``t_total`` for necessary.\n",
    "t_total = 3600\n",
    "\n",
    "rru, rrd, rsfr = 1.0, 1.0, 0.04\n",
    "\n",
    "# Define functions and constants used in loop\n",
    "%run -i 'cosim_const.py'"
   ]
  },
  {
   "cell_type": "markdown",
   "metadata": {},
   "source": [
    "Analyze the data to initialize the number of actions."
   ]
  },
  {
   "cell_type": "code",
   "execution_count": 8,
   "metadata": {},
   "outputs": [],
   "source": [
    "# read data from previous run\n",
    "evsr1 = pd.read_csv('cosim_18_F_evsoc1.csv')\n",
    "evsr2 = pd.read_csv('cosim_18_F_evsoc2.csv')\n",
    "evd = pd.read_csv('cosim_18_F_evdata.csv').iloc[ridx].reset_index(drop=True)\n",
    "eva = pd.read_csv('cosim_18_F_evagc.csv')\n",
    "eva.columns = range(t_total)\n",
    "\n",
    "evs = pd.concat([evsr1, evsr2], ignore_index=True)"
   ]
  },
  {
   "cell_type": "code",
   "execution_count": 9,
   "metadata": {},
   "outputs": [],
   "source": [
    "col = list(range(0, 3600, 4))"
   ]
  },
  {
   "cell_type": "code",
   "execution_count": 10,
   "metadata": {},
   "outputs": [
    {
     "name": "stdout",
     "output_type": "stream",
     "text": [
      "324\n",
      "328\n",
      "332\n",
      "336\n",
      "340\n",
      "344\n",
      "348\n",
      "352\n",
      "356\n",
      "484\n",
      "488\n",
      "492\n",
      "496\n",
      "500\n",
      "504\n",
      "508\n",
      "512\n",
      "516\n",
      "520\n",
      "524\n",
      "528\n",
      "532\n",
      "536\n",
      "540\n",
      "544\n",
      "548\n",
      "552\n",
      "556\n",
      "560\n",
      "564\n",
      "568\n",
      "572\n",
      "576\n",
      "580\n",
      "584\n",
      "588\n",
      "592\n",
      "596\n",
      "600\n",
      "604\n",
      "608\n",
      "612\n",
      "616\n",
      "620\n",
      "624\n",
      "628\n",
      "632\n",
      "636\n",
      "640\n",
      "644\n",
      "648\n",
      "652\n",
      "656\n",
      "660\n",
      "664\n",
      "668\n",
      "672\n",
      "676\n",
      "680\n",
      "684\n",
      "688\n",
      "692\n",
      "696\n",
      "700\n",
      "704\n",
      "708\n",
      "712\n",
      "716\n",
      "720\n",
      "724\n",
      "728\n",
      "732\n",
      "736\n",
      "740\n",
      "744\n",
      "748\n",
      "752\n",
      "756\n",
      "760\n",
      "764\n",
      "768\n",
      "772\n",
      "776\n",
      "780\n",
      "784\n",
      "788\n",
      "792\n",
      "796\n",
      "800\n",
      "804\n",
      "808\n",
      "812\n",
      "816\n",
      "820\n",
      "824\n",
      "828\n",
      "832\n",
      "836\n",
      "840\n",
      "844\n",
      "848\n",
      "852\n",
      "856\n",
      "860\n",
      "864\n",
      "868\n",
      "872\n",
      "876\n",
      "880\n",
      "884\n",
      "888\n",
      "892\n",
      "896\n",
      "900\n",
      "904\n",
      "908\n",
      "912\n",
      "916\n",
      "920\n",
      "924\n",
      "928\n",
      "932\n",
      "936\n",
      "940\n",
      "944\n",
      "948\n",
      "952\n",
      "956\n",
      "960\n",
      "964\n",
      "968\n",
      "972\n",
      "976\n",
      "980\n",
      "984\n",
      "988\n",
      "992\n",
      "996\n",
      "1000\n",
      "1004\n",
      "1008\n",
      "1012\n",
      "1016\n",
      "1020\n",
      "1024\n",
      "1028\n",
      "1032\n",
      "1036\n",
      "1040\n",
      "1044\n",
      "1048\n",
      "1052\n",
      "1056\n",
      "1060\n",
      "1064\n",
      "1068\n",
      "1072\n",
      "1076\n",
      "1080\n",
      "1084\n",
      "1088\n",
      "1092\n",
      "1096\n",
      "1100\n",
      "1104\n",
      "1108\n",
      "1112\n",
      "1116\n",
      "1120\n",
      "1124\n",
      "1128\n",
      "1132\n",
      "1136\n",
      "1140\n",
      "1144\n",
      "1148\n",
      "1152\n",
      "1156\n",
      "1160\n",
      "1164\n",
      "1168\n",
      "1172\n",
      "1176\n",
      "1180\n",
      "1184\n",
      "1188\n",
      "1192\n",
      "1196\n",
      "1200\n",
      "1204\n",
      "1208\n",
      "1212\n",
      "1216\n",
      "1220\n",
      "1224\n",
      "1228\n",
      "1232\n",
      "1236\n",
      "1240\n",
      "1244\n",
      "1248\n",
      "1252\n",
      "1256\n",
      "1260\n",
      "1264\n",
      "1268\n",
      "1272\n",
      "1276\n",
      "1280\n",
      "1284\n",
      "1288\n",
      "1292\n",
      "1296\n",
      "1300\n",
      "1304\n",
      "1308\n",
      "1312\n",
      "1316\n",
      "1320\n",
      "1324\n",
      "1328\n",
      "1332\n",
      "1336\n",
      "1340\n",
      "1344\n",
      "1348\n",
      "1352\n",
      "1356\n",
      "1360\n",
      "1364\n",
      "1368\n",
      "1372\n",
      "1376\n",
      "1380\n",
      "1384\n",
      "1388\n",
      "1392\n",
      "1396\n",
      "1400\n",
      "1404\n",
      "1408\n",
      "1412\n",
      "1416\n",
      "1420\n",
      "1424\n",
      "1428\n",
      "1432\n",
      "1436\n",
      "1440\n",
      "1444\n",
      "1448\n",
      "1452\n",
      "1456\n",
      "1460\n",
      "1464\n",
      "1468\n",
      "1472\n",
      "1476\n",
      "1480\n",
      "1484\n",
      "1488\n",
      "1492\n",
      "1496\n",
      "1500\n",
      "1504\n",
      "1508\n",
      "1512\n",
      "1516\n",
      "1520\n",
      "1524\n",
      "1528\n",
      "1532\n",
      "1536\n",
      "1540\n",
      "1544\n",
      "1548\n",
      "1552\n",
      "1556\n",
      "1560\n",
      "1564\n",
      "1568\n",
      "1572\n",
      "1576\n",
      "1580\n",
      "1584\n",
      "1588\n",
      "1592\n",
      "1596\n",
      "1600\n",
      "1604\n",
      "1608\n",
      "1612\n",
      "1616\n",
      "1620\n",
      "1624\n",
      "1628\n",
      "1632\n",
      "1636\n",
      "1640\n",
      "1644\n",
      "1648\n",
      "1652\n",
      "1656\n",
      "1660\n",
      "1664\n",
      "1668\n",
      "1672\n",
      "1676\n",
      "1680\n",
      "1684\n",
      "1688\n",
      "1692\n",
      "1696\n",
      "1700\n",
      "1704\n",
      "1708\n",
      "1712\n",
      "1716\n",
      "1720\n",
      "1724\n",
      "1728\n",
      "1732\n",
      "1736\n",
      "1740\n",
      "1744\n",
      "1748\n",
      "1752\n",
      "1756\n",
      "1760\n",
      "1764\n",
      "1768\n",
      "1772\n",
      "1776\n",
      "1780\n",
      "1784\n",
      "1788\n",
      "1792\n",
      "1796\n",
      "1800\n",
      "1804\n",
      "1808\n",
      "1812\n",
      "1816\n",
      "1820\n",
      "1824\n",
      "1828\n",
      "1832\n",
      "1836\n",
      "1840\n",
      "1844\n",
      "1848\n",
      "1852\n",
      "1856\n",
      "1860\n",
      "1864\n",
      "1868\n",
      "1872\n",
      "1876\n",
      "1880\n",
      "1884\n",
      "1888\n",
      "1892\n",
      "1896\n",
      "1900\n",
      "1904\n",
      "1908\n",
      "1912\n",
      "1916\n",
      "1920\n",
      "1924\n",
      "1928\n",
      "1932\n",
      "1936\n",
      "1940\n",
      "1944\n",
      "1948\n",
      "1952\n",
      "1956\n",
      "1960\n",
      "1964\n",
      "1968\n",
      "1972\n",
      "1976\n",
      "1980\n",
      "1984\n",
      "1988\n",
      "1992\n",
      "1996\n",
      "2000\n",
      "2004\n",
      "2008\n",
      "2012\n",
      "2016\n",
      "2020\n",
      "2024\n",
      "2028\n",
      "2032\n",
      "2036\n",
      "2040\n",
      "2044\n",
      "2048\n",
      "2052\n",
      "2056\n",
      "2060\n",
      "2064\n",
      "2068\n",
      "2072\n",
      "2076\n",
      "2080\n",
      "2084\n",
      "2088\n",
      "2092\n",
      "2096\n",
      "2100\n",
      "2104\n",
      "2108\n",
      "2112\n",
      "2116\n",
      "2120\n",
      "2124\n",
      "2128\n",
      "2132\n",
      "2136\n",
      "2140\n",
      "2144\n",
      "2148\n",
      "2152\n",
      "2156\n",
      "2160\n",
      "2164\n",
      "2168\n",
      "2172\n",
      "2176\n",
      "2180\n",
      "2184\n",
      "2188\n",
      "2192\n",
      "2196\n",
      "2200\n",
      "2204\n",
      "2208\n",
      "2212\n",
      "2216\n",
      "2220\n",
      "2224\n",
      "2228\n",
      "2232\n",
      "2236\n",
      "2240\n",
      "2244\n",
      "2248\n",
      "2252\n",
      "2256\n",
      "2260\n",
      "2264\n",
      "2268\n",
      "2272\n",
      "2276\n",
      "2280\n",
      "2284\n",
      "2288\n",
      "2292\n",
      "2296\n",
      "2300\n",
      "2304\n",
      "2308\n",
      "2312\n",
      "2316\n",
      "2320\n",
      "2324\n",
      "2328\n",
      "2332\n",
      "2336\n",
      "2340\n",
      "2344\n",
      "2348\n",
      "2352\n",
      "2356\n",
      "2360\n",
      "2364\n",
      "2368\n",
      "2372\n",
      "2376\n",
      "2380\n",
      "2384\n",
      "2388\n",
      "2392\n",
      "2396\n",
      "2400\n",
      "2404\n",
      "2408\n",
      "2412\n",
      "2416\n",
      "2420\n",
      "2424\n",
      "2428\n",
      "2432\n",
      "2436\n",
      "2440\n",
      "2444\n",
      "2448\n",
      "2452\n",
      "2456\n",
      "2460\n",
      "2464\n",
      "2468\n",
      "2472\n",
      "2476\n",
      "2480\n",
      "2484\n",
      "2488\n",
      "2492\n",
      "2496\n",
      "2500\n",
      "2504\n",
      "2508\n",
      "2512\n",
      "2516\n",
      "2520\n",
      "2524\n",
      "2528\n",
      "2532\n",
      "2536\n",
      "2540\n",
      "2544\n",
      "2548\n",
      "2552\n",
      "2556\n",
      "2560\n",
      "2564\n",
      "2568\n",
      "2572\n",
      "2576\n",
      "2580\n",
      "2584\n",
      "2588\n",
      "2592\n",
      "2596\n",
      "2600\n",
      "2604\n",
      "2608\n",
      "2612\n",
      "2616\n",
      "2620\n",
      "2624\n",
      "2628\n",
      "2632\n",
      "2636\n",
      "2640\n",
      "2644\n",
      "2648\n",
      "2652\n",
      "2656\n",
      "2660\n",
      "2664\n",
      "2668\n",
      "2672\n",
      "2676\n",
      "2680\n",
      "2684\n",
      "2688\n",
      "2692\n",
      "2696\n",
      "2700\n",
      "2704\n",
      "2708\n",
      "2712\n",
      "2716\n",
      "2720\n",
      "2724\n",
      "2728\n",
      "2732\n",
      "2736\n",
      "2740\n",
      "2744\n",
      "2748\n",
      "2752\n",
      "2756\n",
      "2760\n",
      "2764\n",
      "2768\n",
      "2772\n",
      "2776\n",
      "2780\n",
      "2784\n",
      "2788\n",
      "2792\n",
      "2796\n",
      "2800\n",
      "2804\n",
      "2808\n",
      "2812\n",
      "2816\n",
      "2820\n",
      "2824\n",
      "2828\n",
      "2832\n",
      "2836\n",
      "2840\n",
      "2844\n",
      "2848\n",
      "2852\n",
      "2856\n",
      "2860\n",
      "2864\n",
      "2868\n",
      "2872\n",
      "2876\n",
      "2880\n",
      "2884\n",
      "2888\n",
      "2892\n",
      "2896\n",
      "2900\n",
      "2904\n",
      "2908\n",
      "2912\n",
      "2916\n",
      "2920\n",
      "2924\n",
      "2928\n",
      "2932\n",
      "2936\n",
      "2940\n",
      "2944\n",
      "2948\n",
      "2952\n",
      "2956\n",
      "2960\n",
      "2964\n",
      "2968\n",
      "2972\n",
      "2976\n",
      "2980\n",
      "2984\n",
      "2988\n",
      "2992\n",
      "2996\n",
      "3000\n",
      "3004\n",
      "3008\n",
      "3012\n",
      "3016\n",
      "3020\n",
      "3024\n",
      "3028\n",
      "3032\n",
      "3036\n",
      "3040\n",
      "3044\n",
      "3048\n",
      "3052\n",
      "3056\n",
      "3060\n",
      "3064\n",
      "3068\n",
      "3072\n",
      "3076\n",
      "3080\n",
      "3084\n",
      "3088\n",
      "3092\n",
      "3096\n",
      "3100\n",
      "3104\n",
      "3108\n",
      "3112\n",
      "3116\n",
      "3120\n",
      "3124\n",
      "3128\n",
      "3132\n",
      "3136\n",
      "3140\n",
      "3144\n",
      "3148\n",
      "3152\n",
      "3156\n",
      "3160\n",
      "3164\n",
      "3168\n",
      "3172\n",
      "3176\n",
      "3180\n",
      "3184\n",
      "3188\n",
      "3192\n",
      "3196\n",
      "3200\n",
      "3204\n",
      "3208\n",
      "3212\n",
      "3216\n",
      "3220\n",
      "3224\n",
      "3228\n",
      "3232\n",
      "3236\n",
      "3240\n",
      "3244\n",
      "3248\n",
      "3252\n",
      "3256\n",
      "3260\n",
      "3264\n",
      "3268\n",
      "3272\n",
      "3276\n",
      "3280\n",
      "3284\n",
      "3288\n",
      "3292\n",
      "3296\n",
      "3300\n",
      "3304\n",
      "3308\n",
      "3312\n",
      "3316\n",
      "3320\n",
      "3324\n",
      "3328\n",
      "3332\n",
      "3336\n",
      "3340\n",
      "3344\n",
      "3348\n",
      "3352\n",
      "3356\n",
      "3360\n",
      "3364\n",
      "3368\n",
      "3372\n",
      "3376\n",
      "3380\n",
      "3384\n",
      "3388\n",
      "3392\n",
      "3396\n",
      "3400\n",
      "3404\n",
      "3408\n",
      "3412\n",
      "3416\n",
      "3420\n",
      "3424\n",
      "3428\n",
      "3432\n",
      "3436\n",
      "3440\n",
      "3444\n",
      "3448\n",
      "3452\n",
      "3456\n",
      "3460\n",
      "3464\n",
      "3468\n",
      "3472\n",
      "3476\n",
      "3480\n",
      "3484\n",
      "3488\n",
      "3492\n",
      "3496\n",
      "3500\n",
      "3504\n",
      "3508\n",
      "3512\n",
      "3516\n",
      "3520\n",
      "3524\n",
      "3528\n",
      "3532\n",
      "3536\n",
      "3540\n",
      "3544\n",
      "3548\n",
      "3552\n",
      "3556\n",
      "3560\n",
      "3564\n",
      "3568\n",
      "3572\n",
      "3576\n",
      "3580\n",
      "3584\n",
      "3588\n",
      "3592\n",
      "3596\n"
     ]
    }
   ],
   "source": [
    "# reconstruct the EV Ctrl signal\n",
    "evc = pd.DataFrame(-2*np.ones((1600, 900)), columns=col)\n",
    "evc[0] = evd['c']\n",
    "\n",
    "for i in range(4, t_total, 4):\n",
    "    evc[i] = evc[i-4] - eva[i]\n",
    "    if evc[i].max() > 1:\n",
    "        print(i)"
   ]
  },
  {
   "cell_type": "code",
   "execution_count": 11,
   "metadata": {},
   "outputs": [],
   "source": [
    "# build the EV NA\n",
    "evna = pd.DataFrame(np.zeros((1600, 900)), columns=col)\n",
    "for i in range(4, t_total, 4):\n",
    "    evna[i] = evs[str(i)] <= 0.96 # this time using 0.96 rather than 'socd'\n",
    "    evna[i] = evna[i].astype(int)\n",
    "    evna[i] = evna[i] - evc[i]"
   ]
  },
  {
   "cell_type": "code",
   "execution_count": 32,
   "metadata": {},
   "outputs": [],
   "source": [
    "evds = evd[['soc', 'soci', 'socd', 'ts', 'tf', 'sx']].reset_index(drop=True)\n",
    "evds['na'] = evna[list(range(4, 900, 4))].sum(axis=1).values * 4\n",
    "evds['tl'] = evds['tf'] - 18"
   ]
  },
  {
   "cell_type": "code",
   "execution_count": 48,
   "metadata": {},
   "outputs": [
    {
     "data": {
      "text/plain": [
       "<AxesSubplot:>"
      ]
     },
     "execution_count": 48,
     "metadata": {},
     "output_type": "execute_result"
    },
    {
     "data": {
      "image/png": "[encoded data removed]",
      "text/plain": [
       "<Figure size 432x288 with 1 Axes>"
      ]
     },
     "metadata": {
      "needs_background": "light"
     },
     "output_type": "display_data"
    }
   ],
   "source": [
    "evds[evds['sx']==17]['na'].hist()"
   ]
  },
  {
   "cell_type": "code",
   "execution_count": 38,
   "metadata": {},
   "outputs": [
    {
     "data": {
      "text/plain": [
       "<AxesSubplot:>"
      ]
     },
     "execution_count": 38,
     "metadata": {},
     "output_type": "execute_result"
    },
    {
     "data": {
      "image/png": "[encoded data removed]",
      "text/plain": [
       "<Figure size 432x288 with 1 Axes>"
      ]
     },
     "metadata": {
      "needs_background": "light"
     },
     "output_type": "display_data"
    }
   ],
   "source": [
    "evds[evds['sx']==14]['na'].hist()"
   ]
  },
  {
   "cell_type": "code",
   "execution_count": 37,
   "metadata": {},
   "outputs": [
    {
     "data": {
      "text/plain": [
       "<AxesSubplot:>"
      ]
     },
     "execution_count": 37,
     "metadata": {},
     "output_type": "execute_result"
    },
    {
     "data": {
      "image/png": "[encoded data removed]",
      "text/plain": [
       "<Figure size 432x288 with 1 Axes>"
      ]
     },
     "metadata": {
      "needs_background": "light"
     },
     "output_type": "display_data"
    }
   ],
   "source": [
    "evds[evds['sx']==15]['na'].hist()"
   ]
  },
  {
   "cell_type": "code",
   "execution_count": 36,
   "metadata": {},
   "outputs": [
    {
     "data": {
      "text/plain": [
       "<AxesSubplot:>"
      ]
     },
     "execution_count": 36,
     "metadata": {},
     "output_type": "execute_result"
    },
    {
     "data": {
      "image/png": "[encoded data removed]",
      "text/plain": [
       "<Figure size 432x288 with 1 Axes>"
      ]
     },
     "metadata": {
      "needs_background": "light"
     },
     "output_type": "display_data"
    }
   ],
   "source": [
    "evds[evds['sx']==16]['na'].hist()"
   ]
  },
  {
   "cell_type": "code",
   "execution_count": 33,
   "metadata": {},
   "outputs": [
    {
     "data": {
      "text/plain": [
       "<AxesSubplot:>"
      ]
     },
     "execution_count": 33,
     "metadata": {},
     "output_type": "execute_result"
    },
    {
     "data": {
      "image/png": "[encoded data removed]",
      "text/plain": [
       "<Figure size 432x288 with 1 Axes>"
      ]
     },
     "metadata": {
      "needs_background": "light"
     },
     "output_type": "display_data"
    }
   ],
   "source": [
    "evds.sx.hist()"
   ]
  },
  {
   "cell_type": "code",
   "execution_count": 19,
   "metadata": {},
   "outputs": [
    {
     "data": {
      "text/html": [
       "<div>\n",
       "<style scoped>\n",
       "    .dataframe tbody tr th:only-of-type {\n",
       "        vertical-align: middle;\n",
       "    }\n",
       "\n",
       "    .dataframe tbody tr th {\n",
       "        vertical-align: top;\n",
       "    }\n",
       "\n",
       "    .dataframe thead th {\n",
       "        text-align: right;\n",
       "    }\n",
       "</style>\n",
       "<table border=\"1\" class=\"dataframe\">\n",
       "  <thead>\n",
       "    <tr style=\"text-align: right;\">\n",
       "      <th></th>\n",
       "      <th>soc</th>\n",
       "      <th>soci</th>\n",
       "      <th>socd</th>\n",
       "      <th>ts</th>\n",
       "      <th>tf</th>\n",
       "      <th>na</th>\n",
       "    </tr>\n",
       "  </thead>\n",
       "  <tbody>\n",
       "    <tr>\n",
       "      <th>699</th>\n",
       "      <td>0.848334</td>\n",
       "      <td>0.321446</td>\n",
       "      <td>0.815896</td>\n",
       "      <td>15.405608</td>\n",
       "      <td>23.293317</td>\n",
       "      <td>-280.0</td>\n",
       "    </tr>\n",
       "    <tr>\n",
       "      <th>814</th>\n",
       "      <td>0.643983</td>\n",
       "      <td>0.214310</td>\n",
       "      <td>0.795026</td>\n",
       "      <td>17.003567</td>\n",
       "      <td>23.931944</td>\n",
       "      <td>-136.0</td>\n",
       "    </tr>\n",
       "    <tr>\n",
       "      <th>1034</th>\n",
       "      <td>0.599433</td>\n",
       "      <td>0.299276</td>\n",
       "      <td>0.828717</td>\n",
       "      <td>16.921475</td>\n",
       "      <td>22.471922</td>\n",
       "      <td>-164.0</td>\n",
       "    </tr>\n",
       "    <tr>\n",
       "      <th>1190</th>\n",
       "      <td>0.844449</td>\n",
       "      <td>0.271127</td>\n",
       "      <td>0.801323</td>\n",
       "      <td>15.796160</td>\n",
       "      <td>21.285086</td>\n",
       "      <td>-208.0</td>\n",
       "    </tr>\n",
       "  </tbody>\n",
       "</table>\n",
       "</div>"
      ],
      "text/plain": [
       "           soc      soci      socd         ts         tf     na\n",
       "699   0.848334  0.321446  0.815896  15.405608  23.293317 -280.0\n",
       "814   0.643983  0.214310  0.795026  17.003567  23.931944 -136.0\n",
       "1034  0.599433  0.299276  0.828717  16.921475  22.471922 -164.0\n",
       "1190  0.844449  0.271127  0.801323  15.796160  21.285086 -208.0"
      ]
     },
     "execution_count": 19,
     "metadata": {},
     "output_type": "execute_result"
    }
   ],
   "source": [
    "evds[evds['na'] < 0]"
   ]
  },
  {
   "cell_type": "code",
   "execution_count": 30,
   "metadata": {},
   "outputs": [
    {
     "data": {
      "text/plain": [
       "<AxesSubplot:>"
      ]
     },
     "execution_count": 30,
     "metadata": {},
     "output_type": "execute_result"
    },
    {
     "data": {
      "image/png": "[encoded data removed]",
      "text/plain": [
       "<Figure size 432x288 with 1 Axes>"
      ]
     },
     "metadata": {
      "needs_background": "light"
     },
     "output_type": "display_data"
    }
   ],
   "source": [
    "evds.soc.hist()"
   ]
  },
  {
   "cell_type": "code",
   "execution_count": 27,
   "metadata": {},
   "outputs": [
    {
     "data": {
      "text/plain": [
       "<AxesSubplot:xlabel='tl', ylabel='soc'>"
      ]
     },
     "execution_count": 27,
     "metadata": {},
     "output_type": "execute_result"
    },
    {
     "data": {
      "image/png": "[encoded data removed]",
      "text/plain": [
       "<Figure size 432x288 with 1 Axes>"
      ]
     },
     "metadata": {
      "needs_background": "light"
     },
     "output_type": "display_data"
    }
   ],
   "source": [
    "evds.plot.scatter(x='tl', y='soc')"
   ]
  },
  {
   "cell_type": "code",
   "execution_count": null,
   "metadata": {},
   "outputs": [],
   "source": [
    "evna[list(range(4, 900, 4))].sum(axis=1)"
   ]
  },
  {
   "cell_type": "markdown",
   "metadata": {},
   "source": [
    "Revise the EV control logic as: C->I, I->D, SOC high to low"
   ]
  },
  {
   "cell_type": "code",
   "execution_count": null,
   "metadata": {},
   "outputs": [],
   "source": [
    "# --- Response ---\n",
    "\n",
    "sse = ev_ssm(ts=18, N=10000, step=1, tp=40,\n",
    "             lr=0.1, lp=40, seed=2022, name=\"EVA\")\n",
    "sse.load_A(\"Aest.csv\")\n"
   ]
  },
  {
   "cell_type": "code",
   "execution_count": null,
   "metadata": {},
   "outputs": [],
   "source": [
    "sse.ev['Qa'] = (sse.ev['tf'] - sse.ev['ts']) * sse.ev['Pc'] * sse.ev['nc'] - sse.ev['socd'] * sse.ev['Q']\n",
    "sse.ev['Qr'] = sse.ev['Qa'].mean() + sse.ev['tt'] * sse.ev['Pd']\n",
    "sse.ev['nr'] = sse.ev['Qr'] / sse.ev['Pc'] / sse.ev['nc'] * 3600 / 4\n",
    "\n",
    "sse.ev['nr'].hist()\n",
    "\n",
    "sse.ev['Qa'].mean()"
   ]
  },
  {
   "cell_type": "code",
   "execution_count": null,
   "metadata": {},
   "outputs": [],
   "source": [
    "# --- Response ---\n",
    "\n",
    "sse = ev_ssm(ts=10.4, N=10000, step=1, tp=40,\n",
    "             lr=0.1, lp=40, seed=2022, name=\"EVA\")\n",
    "sse.load_A(\"Aest.csv\")\n",
    "\n",
    "x0 = sse.x0.copy()\n",
    "print(sse.Prc)\n",
    "sse.run(tf=10.4 + 2/3600, Pi=9,\n",
    "        is_updateA=False, is_rstate=True,\n",
    "        is_test=False, disable=False)\n",
    "print(sse.Prc)\n",
    "x1 = sse.x0.copy()"
   ]
  },
  {
   "cell_type": "code",
   "execution_count": null,
   "metadata": {},
   "outputs": [],
   "source": [
    "plt.bar(range(len(x0)), x0, label=\"x0\")\n",
    "plt.bar(range(len(x0)), x1, label=\"x0\", alpha=0.5)"
   ]
  },
  {
   "cell_type": "code",
   "execution_count": null,
   "metadata": {},
   "outputs": [],
   "source": [
    "sse = ev_ssm(ts=10.4, N=10000, step=1, tp=40,\n",
    "             lr=0.1, lp=40, seed=2022, name=\"EVA\",\n",
    "             is_report=False)\n",
    "\n",
    "# historical data\n",
    "ev_num = pd.read_csv(\"ev_num.csv\")\n",
    "\n",
    "# calculate the sf\n",
    "k1 = ev_num['ne'][(ev_num['time'] >= sse.ts) & (ev_num['time'] <= sse.ts+1/12)].mean()\n",
    "k0 = ev_num['ne'][ev_num['time'] >= sse.ts].iloc[0]\n",
    "k = k1 / k0\n",
    "\n",
    "# estiamte FRC\n",
    "sse.g_frc(nea=sse.ne*k)"
   ]
  },
  {
   "cell_type": "code",
   "execution_count": null,
   "metadata": {},
   "outputs": [],
   "source": [
    "## Run to get the EV numbers within a day\n",
    "\n",
    "# import joblib\n",
    "# from joblib import Parallel, delayed\n",
    "\n",
    "# Nt = 10000\n",
    "# def rne(time):\n",
    "#     sse1 = ev_ssm(ts=time, N=Nt, step=1, tp=40,\n",
    "#                   lr=0.1, lp=60, seed=2022, name=\"EVA\",\n",
    "#                   is_report=False)\n",
    "#     return sse1.ne\n",
    "\n",
    "# # interval by minutes, 24H\n",
    "# rnel = Parallel(n_jobs=joblib.cpu_count())(delayed(rne)(i) for i in np.arange(1/60, 24, 1/60))\n",
    "\n",
    "# ev_num = pd.DataFrame()\n",
    "# ev_num['time'] = np.arange(1/60, 24, 1/60)\n",
    "# ev_num['ne'] = rnel\n",
    "# ev_num.to_csv(\"ev_num.csv\", index=False)"
   ]
  }
 ],
 "metadata": {
  "kernelspec": {
   "display_name": "Python 3.9.12 ('andes')",
   "language": "python",
   "name": "python3"
  },
  "language_info": {
   "codemirror_mode": {
    "name": "ipython",
    "version": 3
   },
   "file_extension": ".py",
   "mimetype": "text/x-python",
   "name": "python",
   "nbconvert_exporter": "python",
   "pygments_lexer": "ipython3",
   "version": "3.9.12"
  },
  "vscode": {
   "interpreter": {
    "hash": "ef6cb5c8d99d66a3614f491d51fd40cd94c9138687df3d2045e3a510da5efc66"
   }
  }
 },
 "nbformat": 4,
 "nbformat_minor": 2
}
