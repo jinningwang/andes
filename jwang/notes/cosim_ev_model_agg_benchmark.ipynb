{
 "cells": [
  {
   "cell_type": "code",
   "execution_count": null,
   "metadata": {},
   "outputs": [],
   "source": [
    "%run -i 'cosim_import.py'"
   ]
  },
  {
   "cell_type": "code",
   "execution_count": null,
   "metadata": {},
   "outputs": [],
   "source": [
    "import time"
   ]
  },
  {
   "cell_type": "code",
   "execution_count": null,
   "metadata": {},
   "outputs": [],
   "source": [
    "caseH = 18\n",
    "\n",
    "# --- ANDES case ---\n",
    "dir_path = os.path.abspath('..')\n",
    "case_path = '/case/ieee39_eva.xlsx'\n",
    "case = dir_path + case_path\n",
    "ssa = andes.load(case,\n",
    "                 setup=False,\n",
    "                 no_output=True,\n",
    "                 default_config=False)\n",
    "\n",
    "# Set output mode as 'manual', turn off TDS progress bar\n",
    "ssa.TDS.config.save_mode = 'manual'\n",
    "ssa.TDS.config.no_tqdm = 1\n",
    "\n",
    "# Set load as constant load.\n",
    "ssa.PQ.config.p2p = 1\n",
    "ssa.PQ.config.q2q = 1\n",
    "ssa.PQ.config.p2z = 0\n",
    "ssa.PQ.config.q2z = 0\n",
    "ssa.PQ.pq2z = 0\n",
    "\n",
    "# Turn on ``numba`` can accelerate TDS.\n",
    "ssa.config.numba = 1\n",
    "\n",
    "ss2 = andes.load(case,\n",
    "                 setup=False,\n",
    "                 no_output=True,\n",
    "                 default_config=False)\n",
    "\n",
    "# Set output mode as 'manual', turn off TDS progress bar\n",
    "ss2.TDS.config.save_mode = 'manual'\n",
    "ss2.TDS.config.no_tqdm = 1\n",
    "\n",
    "# Set load as constant load.\n",
    "ss2.PQ.config.p2p = 1\n",
    "ss2.PQ.config.q2q = 1\n",
    "ss2.PQ.config.p2z = 0\n",
    "ss2.PQ.config.q2z = 0\n",
    "ss2.PQ.pq2z = 0\n",
    "\n",
    "# Turn on ``numba`` can accelerate TDS.\n",
    "ss2.config.numba = 1"
   ]
  },
  {
   "cell_type": "code",
   "execution_count": null,
   "metadata": {},
   "outputs": [],
   "source": [
    "# --- EV Aggregator ---\n",
    "sse = ev_ssm(ts=caseH, N=1000, step=1, tp=40,\n",
    "             lr=0.1, lp=60, seed=2022, name=\"EVA\")\n",
    "sse.load_A(\"Aest.csv\")"
   ]
  },
  {
   "cell_type": "code",
   "execution_count": null,
   "metadata": {},
   "outputs": [],
   "source": [
    "for i in range(sse.ev.shape[0]):\n",
    "    ev_dict = {'bus':38, 'gen':'PV_10',\n",
    "            'qmx': 10, 'qmn':-10, 'pmx':60, 'pmn':-70, 'pcap':1,\n",
    "            'gammap': 1, 'gammaq': 1, 'En': 10, 'EtaC': 10, 'EtaD': 10, \n",
    "            'ddn':0, 'tip':0.02, 'tiq':0.02, 'ialim': 100, 'recflag':0,\n",
    "            'pqflag':1, 'vrflag':0}\n",
    "    ssa.add(\"EV2\", ev_dict)\n",
    "# TODO: alter gammap, gammpaq, pmx, pmn, EtaC, EtaD, En later on\n",
    "ev_df = sse.ev.copy()\n",
    "ev_df['p'] = -1 * ev_df['c'] * ev_df['Pc']\n",
    "ev_df['gammap'] = ev_df['p'] / ev_df['p'].sum()\n",
    "ev_df['gammaq'] = 1 / ev_df.u.sum()\n",
    "ev_df['EtaC'] = ev_df['nc']\n",
    "ev_df['EtaD'] = ev_df['nd']\n",
    "ev_df['En'] = ev_df['Q'] / 1e3\n",
    "ev_df['SOCinit'] = ev_df['soc'].replace(1, 0.999)\n",
    "# ev_df['pmx'] = ev_df['Pc'] / 1e3 / ssa.config.mva\n",
    "# ev_df['pmn'] = -1 * ev_df['Pc'] / 1e3 / ssa.config.mva\n",
    "ev_df['u'] = ev_df['u']\n",
    "\n",
    "ev_idx = ssa.EV2.idx.v\n",
    "ssa.DG.set(attr='v', idx=ev_idx, src='gammap', value=ev_df['gammap'].values)\n",
    "ssa.DG.set(attr='v', idx=ev_idx, src='gammaq', value=ev_df['gammaq'].values)\n",
    "ssa.DG.set(attr='v', idx=ev_idx, src='EtaC', value=ev_df['EtaC'].values)\n",
    "ssa.DG.set(attr='v', idx=ev_idx, src='EtaD', value=ev_df['EtaD'].values)\n",
    "ssa.DG.set(attr='v', idx=ev_idx, src='En', value=ev_df['En'].values)\n",
    "ssa.DG.set(attr='v', idx=ev_idx, src='SOCinit', value=ev_df['SOCinit'].values)\n",
    "ssa.DG.set(attr='v', idx=ev_idx, src='u', value=ev_df['u'].values)\n",
    "\n",
    "# TODO: alter PV_10.p0\n",
    "p0 = ev_df['p'].sum() / 1e3 / ssa.config.mva\n",
    "ssa.StaticGen.set(src='p0', attr='v', idx='PV_10', value=p0)\n",
    "ssa.setup()\n",
    "ssa.PFlow.run()\n",
    "ssa.TDS.init()\n",
    "\n",
    "ev0_dict = {'bus':38, 'gen':'PV_10',\n",
    "        'qmx': 10, 'qmn':-10, 'pmx':60, 'pmn':-70, 'pcap':1,\n",
    "        'gammap': 1, 'gammaq': 1, 'En': 10, 'EtaC': ev_df['EtaC'].mean(), 'EtaD': ev_df['EtaD'].mean(), \n",
    "        'ddn':0, 'tip':0.02, 'tiq':0.02, 'ialim': 100, 'recflag':0,\n",
    "        'pqflag':1, 'vrflag':0}\n",
    "\n",
    "ss2.add(\"EV2\", ev0_dict)\n",
    "ss2.setup()\n",
    "ss2.StaticGen.set(src='p0', attr='v', idx='PV_10', value=p0)\n",
    "ss2.PFlow.run()\n",
    "xx = ss2.TDS.init()"
   ]
  },
  {
   "cell_type": "code",
   "execution_count": null,
   "metadata": {
    "scrolled": true
   },
   "outputs": [],
   "source": [
    "ta = 0\n",
    "tb = 0\n",
    "\n",
    "for end_time in range(1, 1000):\n",
    "    sse.run(tf=caseH+end_time/3600, Pi=0,\n",
    "            is_updateA=False, is_rstate=True,\n",
    "            is_test=False, disable=True)\n",
    "    ssa.DG.set(attr='v', idx=ev_idx, src='u', value=sse.ev['u'].values)\n",
    "    ssa.DG.set(attr='v', idx=ev_idx, src='pref0',\n",
    "               value=list(-1 * sse.ev['c'] * sse.ev['Pc'] / ssa.config.mva / 1e3))\n",
    "    ss2.DG.set(attr='v', idx='EV2_1', src='pref0',\n",
    "               value=np.sum(-1 * sse.ev['c'] * sse.ev['Pc'] / ssa.config.mva / 1e3))\n",
    "\n",
    "    ssa.TDS.config.tf = end_time\n",
    "    ss2.TDS.config.tf = end_time\n",
    "    t0 = time.time()\n",
    "    ssa.TDS.run()\n",
    "    ta += time.time() - t0\n",
    "    t0 = time.time()\n",
    "    ss2.TDS.run()\n",
    "    tb += time.time() - t0\n",
    "    \n",
    "    if ssa.exit_code != 0 | ss2.exit_code != 0:\n",
    "        break"
   ]
  },
  {
   "cell_type": "code",
   "execution_count": null,
   "metadata": {},
   "outputs": [],
   "source": [
    "ta"
   ]
  },
  {
   "cell_type": "code",
   "execution_count": null,
   "metadata": {},
   "outputs": [],
   "source": [
    "tb"
   ]
  },
  {
   "cell_type": "code",
   "execution_count": null,
   "metadata": {},
   "outputs": [],
   "source": [
    "# calcualte output power\n",
    "ia = ssa.dae.ts.x[:, ssa.EV2.Ipout_y.a]\n",
    "va = ssa.dae.ts.y[:, ssa.EV2.v.a]\n",
    "pa = np.sum(ia * va * ssa.config.mva, axis=1)\n",
    "\n",
    "i2 = ss2.dae.ts.x[:, ss2.EV2.Ipout_y.a]\n",
    "v2 = ss2.dae.ts.y[:, ss2.EV2.v.a]\n",
    "p2 = np.sum(i2 * v2 * ssa.config.mva, axis=1)\n"
   ]
  },
  {
   "cell_type": "code",
   "execution_count": null,
   "metadata": {},
   "outputs": [],
   "source": [
    "plt.style.use(\"ieee\")\n",
    "fig, ax = plt.subplots(1, 2, figsize=(10, 4), dpi=200)\n",
    "plt.subplots_adjust(left=0, bottom=0, right=1, top=1, wspace=0.2, hspace=0)\n",
    "ax[0].plot(ssa.dae.ts.t, pa, label=\"Case1\", color=\"tab:blue\")\n",
    "ax[0].plot(ssa.dae.ts.t, p2, label=\"Case2\", color=\"tab:green\", linestyle=\"--\")\n",
    "ax[0].plot(3600*(np.array(sse.tss)-caseH), sse.Ptl, color=\"tab:orange\", linestyle=\"-.\", label=\"Input\")\n",
    "ax[0].legend()\n",
    "ax[0].set_xlim([0, end_time])\n",
    "ax[0].set_xlabel(\"Time [s]\")\n",
    "ax[0].set_ylabel(\"Output Power [MW]\")\n",
    "ax[0].legend(frameon=False)\n",
    "ssa.TDS.plt.plot(ssa.COI.omega, ytimes=60, ax=ax[1], fig=fig, yheader=['Case1'],\n",
    "                 color=\"tab:blue\", show=False)\n",
    "ss2.TDS.plt.plot(ss2.COI.omega, ytimes=60, ax=ax[1], fig=fig, yheader=[\"Case2\"],\n",
    "                 color=\"tab:green\",  linestyles=['--'], show=False)\n",
    "ax[1].set_ylabel('Freq. [Hz]')\n",
    "# ax[1].plot(ssa.dae.ts.t, ssa.COI.omega, label=\"ANDES + Individual\", color=\"tab:blue\")\n",
    "# ax[1].plot(ssa.dae.ts.t, p2, label=\"ANDES + Aggregated\", color=\"tab:green\", linestyle=\"--\")\n",
    "# ax[1].legend()"
   ]
  }
 ],
 "metadata": {
  "kernelspec": {
   "display_name": "Python3",
   "language": "python",
   "name": "andes"
  },
  "language_info": {
   "codemirror_mode": {
    "name": "ipython",
    "version": 3
   },
   "file_extension": ".py",
   "mimetype": "text/x-python",
   "name": "python",
   "nbconvert_exporter": "python",
   "pygments_lexer": "ipython3",
   "version": "3.9.12"
  },
  "varInspector": {
   "cols": {
    "lenName": 16,
    "lenType": 16,
    "lenVar": 40
   },
   "kernels_config": {
    "python": {
     "delete_cmd_postfix": "",
     "delete_cmd_prefix": "del ",
     "library": "var_list.py",
     "varRefreshCmd": "print(var_dic_list())"
    },
    "r": {
     "delete_cmd_postfix": ") ",
     "delete_cmd_prefix": "rm(",
     "library": "var_list.r",
     "varRefreshCmd": "cat(var_dic_list()) "
    }
   },
   "types_to_exclude": [
    "module",
    "function",
    "builtin_function_or_method",
    "instance",
    "_Feature"
   ],
   "window_display": false
  },
  "vscode": {
   "interpreter": {
    "hash": "a33fa296fbacb8644bc9195ef2d759981fef097b4feb655e1da77ca7517b39c3"
   }
  }
 },
 "nbformat": 4,
 "nbformat_minor": 4
}
