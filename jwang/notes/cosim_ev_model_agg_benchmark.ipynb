{
 "cells": [
  {
   "cell_type": "code",
   "execution_count": 1,
   "metadata": {},
   "outputs": [
    {
     "name": "stdout",
     "output_type": "stream",
     "text": [
      "0.post4569.dev0+gcabe24a\n",
      "2.8.0\n"
     ]
    }
   ],
   "source": [
    "%run -i 'cosim_import.py'"
   ]
  },
  {
   "cell_type": "code",
   "execution_count": 2,
   "metadata": {},
   "outputs": [],
   "source": [
    "import time\n",
    "import sys\n",
    "from tqdm import tqdm"
   ]
  },
  {
   "cell_type": "code",
   "execution_count": 3,
   "metadata": {},
   "outputs": [
    {
     "name": "stderr",
     "output_type": "stream",
     "text": [
      "EVA: ts=18[H], 500 EVs, Total Q=4.38 MWh\n",
      "Online 146, Q=3.64 MWh, SoC=0.7576\n",
      "Power(MW): Pt=-0.3871, Pc=-0.3871, Pd=0.0\n",
      "Ctrl: 0=82; 1=64; \n",
      "EVA: Load A from Aest.csv.\n"
     ]
    }
   ],
   "source": [
    "caseH = 18\n",
    "ict = True\n",
    "ecc = False\n",
    "agc = True\n",
    "\n",
    "# --- ANDES case path ---\n",
    "andes.config_logger(stream_level=50)\n",
    "dir_path = os.path.abspath('..')\n",
    "case_path = '/case/ieee39_eva.xlsx'\n",
    "case = dir_path + case_path\n",
    "\n",
    "# --- EV Aggregator ---\n",
    "sse = ev_ssm(ts=caseH, N=500, step=1, tp=20,\n",
    "             lr=0.1, lp=60, seed=2022, name=\"EVA\",\n",
    "             n_pref=1, is_report=True,\n",
    "             tt_mean=0.2, tt_var=0.05, tt_lb=0, tt_ub=0.4,\n",
    "             ict=ict, ecc=ecc, agc=agc)\n",
    "sse.load_A(\"Aest.csv\")\n",
    "\n",
    "# --- EV info ---\n",
    "ev_df = sse.ev.copy()\n",
    "ev_df['p'] = -1 * ev_df['c'] * ev_df['Pc']\n",
    "ev_df['gammap'] = ev_df['p'] / ev_df['p'].sum()\n",
    "ev_df['gammaq'] = 1 / ev_df.u.sum()\n",
    "ev_df['EtaC'] = ev_df['nc']\n",
    "ev_df['EtaD'] = ev_df['nd']\n",
    "ev_df['En'] = ev_df['Q'] / 1e3\n",
    "ev_df['SOCinit'] = ev_df['soc'].replace(1, 0.999)"
   ]
  },
  {
   "cell_type": "code",
   "execution_count": 4,
   "metadata": {},
   "outputs": [],
   "source": [
    "def init_ss(m=1):\n",
    "    # load andes\n",
    "    ss = andes.load(case,\n",
    "                    setup=False,\n",
    "                    no_output=True,\n",
    "                    default_config=False)\n",
    "\n",
    "    # Set output mode as 'manual', turn off TDS progress bar\n",
    "    ss.TDS.config.save_mode = 'manual'\n",
    "    ss.TDS.config.no_tqdm = 1\n",
    "\n",
    "    # Set load as constant load.\n",
    "    ss.PQ.config.p2p = 1\n",
    "    ss.PQ.config.q2q = 1\n",
    "    ss.PQ.config.p2z = 0\n",
    "    ss.PQ.config.q2z = 0\n",
    "    ss.PQ.pq2z = 0\n",
    "\n",
    "    # Turn on ``numba`` can accelerate TDS.\n",
    "    ss.config.numba = 1\n",
    "    if m == 1:\n",
    "        # write EV model into andes system\n",
    "        for i in range(sse.ev.shape[0]):\n",
    "            ev_dict = {'bus':38, 'gen':'PV_10',\n",
    "                       'qmx': 10, 'qmn':-10, 'pmx':60, 'pmn':-70, 'pcap':1,\n",
    "                       'gammap': 1, 'gammaq': 1, 'En': 10, 'EtaC': 10, 'EtaD': 10, \n",
    "                       'ddn':0, 'tip':0.02, 'tiq':0.02, 'ialim': 100, 'recflag':0,\n",
    "                       'pqflag':1, 'vrflag':0}\n",
    "            ss.add(\"EV2\", ev_dict)\n",
    "\n",
    "        ev_idx = ss.EV2.idx.v\n",
    "        ss.DG.set(attr='v', idx=ev_idx, src='gammap', value=ev_df['gammap'].values)\n",
    "        ss.DG.set(attr='v', idx=ev_idx, src='gammaq', value=ev_df['gammaq'].values)\n",
    "        ss.DG.set(attr='v', idx=ev_idx, src='EtaC', value=ev_df['EtaC'].values)\n",
    "        ss.DG.set(attr='v', idx=ev_idx, src='EtaD', value=ev_df['EtaD'].values)\n",
    "        ss.DG.set(attr='v', idx=ev_idx, src='En', value=ev_df['En'].values)\n",
    "        ss.DG.set(attr='v', idx=ev_idx, src='SOCinit', value=ev_df['SOCinit'].values)\n",
    "        ss.DG.set(attr='v', idx=ev_idx, src='u', value=ev_df['u'].values)\n",
    "    elif m == 2:\n",
    "        # write EV model into andes system\n",
    "        ev0_dict = {'bus':38, 'gen':'PV_10',\n",
    "                    'qmx': 10, 'qmn':-10, 'pmx':60, 'pmn':-70, 'pcap':1,\n",
    "                    'gammap': 1, 'gammaq': 1, 'En': 10, 'EtaC': ev_df['EtaC'].mean(),\n",
    "                    'EtaD': ev_df['EtaD'].mean(), \n",
    "                    'ddn':0, 'tip':0.02, 'tiq':0.02, 'ialim': 100, 'recflag':0,\n",
    "                    'pqflag':1, 'vrflag':0}\n",
    "        ss.add(\"EV2\", ev0_dict)\n",
    "\n",
    "    p0 = ev_df['p'].sum() / 1e3 / ss.config.mva\n",
    "    ss.StaticGen.set(src='p0', attr='v', idx='PV_10', value=p0)\n",
    "    ss.setup()\n",
    "    ss.PFlow.run()\n",
    "    init_ss = ss.TDS.init()\n",
    "    return ss\n",
    "\n",
    "def run_ss(m=1, time_len=10, no_tqdm=False):\n",
    "    ss = init_ss(m=m)\n",
    "    sse = ev_ssm(ts=caseH, N=500, step=1, tp=20,\n",
    "                 lr=0.1, lp=60, seed=2022, name=\"EVA\",\n",
    "                 n_pref=1, is_report=True,\n",
    "                 tt_mean=0.2, tt_var=0.05, tt_lb=0, tt_ub=0.4,\n",
    "                 ict=ict, ecc=ecc, agc=agc)\n",
    "    sse.load_A(\"Aest.csv\")\n",
    "    for end_time in tqdm(range(1, time_len), disable=no_tqdm):\n",
    "        sse.run(tf=caseH+end_time/3600, Pi=0,\n",
    "                is_updateA=False, is_rstate=True,\n",
    "                is_test=False, disable=True)\n",
    "        ev_idx = ss.EV2.idx.v\n",
    "        ss.DG.set(attr='v', idx=ev_idx, src='u', value=sse.ev['u'].values)\n",
    "        if m == 1:\n",
    "            p_value = list(-1 * sse.ev['c'] * sse.ev['Pc'] / ss.config.mva / 1e3)\n",
    "        elif m == 2:\n",
    "            p_value = np.sum(list(-1 * sse.ev['c'] * sse.ev['Pc'] / ss.config.mva / 1e3))\n",
    "        ss.DG.set(attr='v', idx=ev_idx, src='pref0',\n",
    "                  value=p_value)\n",
    "\n",
    "        ss.TDS.config.tf = end_time\n",
    "        ss.TDS.run()\n",
    "        if ss.exit_code != 0:\n",
    "            break\n",
    "    # --- calcualte output power ---\n",
    "    ia = ss.dae.ts.x[:, ss.EV2.Ipout_y.a]\n",
    "    va = ss.dae.ts.y[:, ss.EV2.v.a]\n",
    "    pa = np.sum(ia * va * ss.config.mva, axis=1)\n",
    "    return ss, sse, pa\n",
    "\n",
    "def crun_ss(m=1):\n",
    "    ss = andes.load(case,\n",
    "                     setup=False,\n",
    "                     no_output=True,\n",
    "                     default_config=False)\n",
    "    ss.add('Toggler', dict(model=\"GENROU\", dev='GENROU_2', t=1.0))\n",
    "\n",
    "    # Set output mode as 'manual', turn off TDS progress bar\n",
    "    ss.TDS.config.save_mode = 'manual'\n",
    "    ss.TDS.config.no_tqdm = 1\n",
    "\n",
    "    # Set load as constant load.\n",
    "    ss.PQ.config.p2p = 1\n",
    "    ss.PQ.config.q2q = 1\n",
    "    ss.PQ.config.p2z = 0\n",
    "    ss.PQ.config.q2z = 0\n",
    "    ss.PQ.pq2z = 0\n",
    "\n",
    "    # Turn on ``numba`` can accelerate TDS.\n",
    "    ss.config.numba = 1\n",
    "    if m == 1:\n",
    "        # write EV model into andes system\n",
    "        for i in range(sse.ev.shape[0]):\n",
    "            ev_dict = {'bus':38, 'gen':'PV_10',\n",
    "                       'qmx': 10, 'qmn':-10, 'pmx':60, 'pmn':-70, 'pcap':1,\n",
    "                       'gammap': 1, 'gammaq': 1, 'En': 10, 'EtaC': 10, 'EtaD': 10, \n",
    "                       'ddn':0, 'tip':0.02, 'tiq':0.02, 'ialim': 100, 'recflag':0,\n",
    "                       'pqflag':1, 'vrflag':0}\n",
    "            ss.add(\"EV2\", ev_dict)\n",
    "\n",
    "        ev_idx = ss.EV2.idx.v\n",
    "        ss.DG.set(attr='v', idx=ev_idx, src='gammap', value=ev_df['gammap'].values)\n",
    "        ss.DG.set(attr='v', idx=ev_idx, src='gammaq', value=ev_df['gammaq'].values)\n",
    "        ss.DG.set(attr='v', idx=ev_idx, src='EtaC', value=ev_df['EtaC'].values)\n",
    "        ss.DG.set(attr='v', idx=ev_idx, src='EtaD', value=ev_df['EtaD'].values)\n",
    "        ss.DG.set(attr='v', idx=ev_idx, src='En', value=ev_df['En'].values)\n",
    "        ss.DG.set(attr='v', idx=ev_idx, src='SOCinit', value=ev_df['SOCinit'].values)\n",
    "        ss.DG.set(attr='v', idx=ev_idx, src='u', value=ev_df['u'].values)\n",
    "    elif m == 2:\n",
    "        # write EV model into andes system\n",
    "        ev0_dict = {'bus':38, 'gen':'PV_10',\n",
    "                    'qmx': 10, 'qmn':-10, 'pmx':60, 'pmn':-70, 'pcap':1,\n",
    "                    'gammap': 1, 'gammaq': 1, 'En': 10, 'EtaC': ev_df['EtaC'].mean(),\n",
    "                    'EtaD': ev_df['EtaD'].mean(), \n",
    "                    'ddn':0, 'tip':0.02, 'tiq':0.02, 'ialim': 100, 'recflag':0,\n",
    "                    'pqflag':1, 'vrflag':0}\n",
    "        ss.add(\"EV2\", ev0_dict)\n",
    "\n",
    "    p0 = ev_df['p'].sum() / 1e3 / ss.config.mva\n",
    "    ss.StaticGen.set(src='p0', attr='v', idx='PV_10', value=p0)\n",
    "    ss.setup()\n",
    "    ss.PFlow.run()\n",
    "    ss.TDS.init()\n",
    "    ss.TDS.config.tf = 50\n",
    "    ss.TDS.run()\n",
    "    # --- calcualte output power ---\n",
    "    ia = ss.dae.ts.x[:, ss.EV2.Ipout_y.a]\n",
    "    va = ss.dae.ts.y[:, ss.EV2.v.a]\n",
    "    pa = np.sum(ia * va * ss.config.mva, axis=1)\n",
    "    return ss, pa"
   ]
  },
  {
   "cell_type": "code",
   "execution_count": 5,
   "metadata": {},
   "outputs": [
    {
     "name": "stdout",
     "output_type": "stream",
     "text": [
      "Generating code for 1 models on 8 processes.\n",
      "<Toggle Toggler_2>: GENROU.GENROU_2 status changed to 0 at t=1.0 sec.\n",
      "Generating code for 1 models on 8 processes.\n",
      "<Toggle Toggler_2>: GENROU.GENROU_2 status changed to 0 at t=1.0 sec.\n",
      "M1 runs 3.400419235229492s, M2 runs 2.237116813659668s\n"
     ]
    }
   ],
   "source": [
    "# --- contingency ---\n",
    "\n",
    "# # run\n",
    "tcs = time.time()\n",
    "ss1y, pa1y = crun_ss(m=1)\n",
    "tcs1 = time.time()\n",
    "ss2y, pa2y = crun_ss(m=2)\n",
    "tcs2 = time.time()\n",
    "print(f\"M1 runs {tcs1 - tcs}s, M2 runs {tcs2 - tcs1}s\")"
   ]
  },
  {
   "cell_type": "code",
   "execution_count": 6,
   "metadata": {
    "scrolled": true
   },
   "outputs": [
    {
     "name": "stdout",
     "output_type": "stream",
     "text": [
      "Generating code for 1 models on 8 processes.\n"
     ]
    },
    {
     "name": "stderr",
     "output_type": "stream",
     "text": [
      "EVA: ts=18[H], 500 EVs, Total Q=4.38 MWh\n",
      "Online 146, Q=3.64 MWh, SoC=0.7576\n",
      "Power(MW): Pt=-0.3871, Pc=-0.3871, Pd=0.0\n",
      "Ctrl: 0=82; 1=64; \n",
      "EVA: Load A from Aest.csv.\n",
      "100%|█████████████████████████████████████████████████████████████████████████████████████████████████████████| 1199/1199 [14:54<00:00,  1.34it/s]\n"
     ]
    }
   ],
   "source": [
    "# --- normal operation ---\n",
    "\n",
    "# # run\n",
    "end_time = 1200  # 3600\n",
    "tns1 = time.time()\n",
    "ss1x, se1x, pa1x = run_ss(m=1, time_len=end_time)\n",
    "tns1f = time.time()"
   ]
  },
  {
   "cell_type": "code",
   "execution_count": 7,
   "metadata": {
    "scrolled": true
   },
   "outputs": [
    {
     "name": "stdout",
     "output_type": "stream",
     "text": [
      "Generating code for 1 models on 8 processes.\n"
     ]
    },
    {
     "name": "stderr",
     "output_type": "stream",
     "text": [
      "EVA: ts=18[H], 500 EVs, Total Q=4.38 MWh\n",
      "Online 146, Q=3.64 MWh, SoC=0.7576\n",
      "Power(MW): Pt=-0.3871, Pc=-0.3871, Pd=0.0\n",
      "Ctrl: 0=82; 1=64; \n",
      "EVA: Load A from Aest.csv.\n",
      "100%|█████████████████████████████████████████████████████████████████████████████████████████████████████████| 1199/1199 [02:51<00:00,  6.98it/s]\n"
     ]
    }
   ],
   "source": [
    "tns2 = time.time()\n",
    "ss2x, se2x, pa2x = run_ss(m=2, time_len=end_time)\n",
    "tns2f = time.time()"
   ]
  },
  {
   "cell_type": "code",
   "execution_count": 8,
   "metadata": {},
   "outputs": [
    {
     "name": "stdout",
     "output_type": "stream",
     "text": [
      "M1 runs 895.1143500804901s, M2 runs 172.4771490097046s\n"
     ]
    }
   ],
   "source": [
    "print(f\"M1 runs {tns1f - tns1}s, M2 runs {tns2f - tns2}s\")"
   ]
  },
  {
   "cell_type": "code",
   "execution_count": 9,
   "metadata": {},
   "outputs": [
    {
     "name": "stderr",
     "output_type": "stream",
     "text": [
      "The PostScript backend does not support transparency; partially transparent artists will be rendered opaque.\n"
     ]
    },
    {
     "data": {
      "image/png": "[encoded data removed]",
      "text/plain": [
       "<Figure size 2800x2400 with 4 Axes>"
      ]
     },
     "metadata": {
      "needs_background": "light"
     },
     "output_type": "display_data"
    }
   ],
   "source": [
    "# # plot\n",
    "plt.style.use(['science', 'ieee'])\n",
    "fig, ax = plt.subplots(2, 2, figsize=(7, 6), dpi=400)\n",
    "plt.subplots_adjust(left=None, bottom=None, right=None,\n",
    "                    top=None, wspace=0.38, hspace=0.3)\n",
    "\n",
    "ss1y.TDS.plt.plot_data(ss1y.dae.ts.t, pa1y, yheader=[\"Method1\"],\n",
    "                      color=\"tab:blue\", ax=ax[0, 0], fig=fig, show=False)\n",
    "ss2y.TDS.plt.plot_data(ss2y.dae.ts.t, pa2y, yheader=[\"Method2\"], linestyles=['--'], \n",
    "                      color=\"tab:green\", ax=ax[0, 0], fig=fig, show=False, grid=True)\n",
    "ax[0, 0].legend(frameon=True)\n",
    "ax[0, 0].set_xlabel(r\"Time [s]\")\n",
    "ax[0, 0].set_ylabel(\"Total EV output power [MW]\")\n",
    "\n",
    "ss1y.TDS.plt.plot(ss1y.COI.omega, ytimes=60, ax=ax[0, 1], fig=fig, yheader=['Method1'],\n",
    "                  color=\"tab:blue\", show=False)\n",
    "ss2y.TDS.plt.plot(ss2y.COI.omega, ytimes=60, ax=ax[0, 1], fig=fig, yheader=[\"Method2\"],\n",
    "                  color=\"tab:green\",  linestyles=['--'], show=False, alpha=0.8, grid=True)\n",
    "ax[0, 1].legend(frameon=True)\n",
    "ax[0, 1].set_xlabel(r\"Time [s]\")\n",
    "ax[0, 1].set_ylabel('Freq. [Hz]')\n",
    "\n",
    "ss1x.TDS.plt.plot_data(ss1x.dae.ts.t, pa1x, yheader=[\"Method1\"],\n",
    "                       color=\"tab:blue\", ax=ax[1, 0], fig=fig, show=False, grid=True)\n",
    "ss2x.TDS.plt.plot_data(ss2x.dae.ts.t, pa2x, yheader=[\"Method2\"], linestyles=['--'], \n",
    "                       color=\"tab:green\", ax=ax[1, 0], fig=fig, show=False, grid=True)\n",
    "ax[1, 0].legend(frameon=True)\n",
    "ax[1, 0].set_xlabel(\"Time [s]\")\n",
    "ax[1, 0].set_ylabel(\"Total EV output power [MW]\")\n",
    "\n",
    "ss1x.TDS.plt.plot(ss1x.COI.omega, ytimes=60, ax=ax[1, 1], fig=fig, yheader=['Method1'],\n",
    "                  color=\"tab:blue\", show=False)\n",
    "ss2x.TDS.plt.plot(ss2x.COI.omega, ytimes=60, ax=ax[1, 1], fig=fig, yheader=[\"Method2\"],\n",
    "                  color=\"tab:green\",  linestyles=['--'], show=False, alpha=0.8, grid=True)\n",
    "ax[1, 1].legend(frameon=True)\n",
    "ax[1, 1].set_ylabel('Freq. [Hz]')\n",
    "\n",
    "fig.text(0.27, 0.47, '(a)')\n",
    "fig.text(0.72, 0.47, '(b)')\n",
    "fig.text(0.27, 0.03, '(c)')\n",
    "fig.text(0.72, 0.03, '(d)')\n",
    "\n",
    "fig.savefig('fig_evm.eps', format='eps')"
   ]
  },
  {
   "cell_type": "code",
   "execution_count": 10,
   "metadata": {},
   "outputs": [
    {
     "name": "stdout",
     "output_type": "stream",
     "text": [
      "Generating code for 1 models on 8 processes.\n",
      "Generating code for 1 models on 8 processes.\n",
      "ss1 size=48, ss2 size=48\n"
     ]
    }
   ],
   "source": [
    "ss1 = init_ss(m=1)\n",
    "ss2 = init_ss(m=2)\n",
    "\n",
    "size_ss1 = sys.getsizeof(ss1.EV2)\n",
    "size_ss2 = sys.getsizeof(ss2.EV2)\n",
    "print(f'ss1 size={size_ss1}, ss2 size={size_ss2}')"
   ]
  },
  {
   "cell_type": "code",
   "execution_count": 11,
   "metadata": {},
   "outputs": [],
   "source": [
    "end_time = 10"
   ]
  },
  {
   "cell_type": "code",
   "execution_count": 12,
   "metadata": {
    "scrolled": true
   },
   "outputs": [
    {
     "name": "stdout",
     "output_type": "stream",
     "text": [
      "Generating code for 1 models on 8 processes.\n"
     ]
    },
    {
     "name": "stderr",
     "output_type": "stream",
     "text": [
      "EVA: ts=18[H], 500 EVs, Total Q=4.38 MWh\n",
      "Online 146, Q=3.64 MWh, SoC=0.7576\n",
      "Power(MW): Pt=-0.3871, Pc=-0.3871, Pd=0.0\n",
      "Ctrl: 0=82; 1=64; \n",
      "EVA: Load A from Aest.csv.\n"
     ]
    },
    {
     "name": "stdout",
     "output_type": "stream",
     "text": [
      "Generating code for 1 models on 8 processes.\n"
     ]
    },
    {
     "name": "stderr",
     "output_type": "stream",
     "text": [
      "EVA: ts=18[H], 500 EVs, Total Q=4.38 MWh\n",
      "Online 146, Q=3.64 MWh, SoC=0.7576\n",
      "Power(MW): Pt=-0.3871, Pc=-0.3871, Pd=0.0\n",
      "Ctrl: 0=82; 1=64; \n",
      "EVA: Load A from Aest.csv.\n"
     ]
    },
    {
     "name": "stdout",
     "output_type": "stream",
     "text": [
      "Generating code for 1 models on 8 processes.\n"
     ]
    },
    {
     "name": "stderr",
     "output_type": "stream",
     "text": [
      "EVA: ts=18[H], 500 EVs, Total Q=4.38 MWh\n",
      "Online 146, Q=3.64 MWh, SoC=0.7576\n",
      "Power(MW): Pt=-0.3871, Pc=-0.3871, Pd=0.0\n",
      "Ctrl: 0=82; 1=64; \n",
      "EVA: Load A from Aest.csv.\n"
     ]
    },
    {
     "name": "stdout",
     "output_type": "stream",
     "text": [
      "Generating code for 1 models on 8 processes.\n"
     ]
    },
    {
     "name": "stderr",
     "output_type": "stream",
     "text": [
      "EVA: ts=18[H], 500 EVs, Total Q=4.38 MWh\n",
      "Online 146, Q=3.64 MWh, SoC=0.7576\n",
      "Power(MW): Pt=-0.3871, Pc=-0.3871, Pd=0.0\n",
      "Ctrl: 0=82; 1=64; \n",
      "EVA: Load A from Aest.csv.\n"
     ]
    },
    {
     "name": "stdout",
     "output_type": "stream",
     "text": [
      "Generating code for 1 models on 8 processes.\n"
     ]
    },
    {
     "name": "stderr",
     "output_type": "stream",
     "text": [
      "EVA: ts=18[H], 500 EVs, Total Q=4.38 MWh\n",
      "Online 146, Q=3.64 MWh, SoC=0.7576\n",
      "Power(MW): Pt=-0.3871, Pc=-0.3871, Pd=0.0\n",
      "Ctrl: 0=82; 1=64; \n",
      "EVA: Load A from Aest.csv.\n"
     ]
    },
    {
     "name": "stdout",
     "output_type": "stream",
     "text": [
      "Generating code for 1 models on 8 processes.\n"
     ]
    },
    {
     "name": "stderr",
     "output_type": "stream",
     "text": [
      "EVA: ts=18[H], 500 EVs, Total Q=4.38 MWh\n",
      "Online 146, Q=3.64 MWh, SoC=0.7576\n",
      "Power(MW): Pt=-0.3871, Pc=-0.3871, Pd=0.0\n",
      "Ctrl: 0=82; 1=64; \n",
      "EVA: Load A from Aest.csv.\n"
     ]
    },
    {
     "name": "stdout",
     "output_type": "stream",
     "text": [
      "Generating code for 1 models on 8 processes.\n"
     ]
    },
    {
     "name": "stderr",
     "output_type": "stream",
     "text": [
      "EVA: ts=18[H], 500 EVs, Total Q=4.38 MWh\n",
      "Online 146, Q=3.64 MWh, SoC=0.7576\n",
      "Power(MW): Pt=-0.3871, Pc=-0.3871, Pd=0.0\n",
      "Ctrl: 0=82; 1=64; \n",
      "EVA: Load A from Aest.csv.\n"
     ]
    },
    {
     "name": "stdout",
     "output_type": "stream",
     "text": [
      "Generating code for 1 models on 8 processes.\n"
     ]
    },
    {
     "name": "stderr",
     "output_type": "stream",
     "text": [
      "EVA: ts=18[H], 500 EVs, Total Q=4.38 MWh\n",
      "Online 146, Q=3.64 MWh, SoC=0.7576\n",
      "Power(MW): Pt=-0.3871, Pc=-0.3871, Pd=0.0\n",
      "Ctrl: 0=82; 1=64; \n",
      "EVA: Load A from Aest.csv.\n"
     ]
    },
    {
     "name": "stdout",
     "output_type": "stream",
     "text": [
      "Generating code for 1 models on 8 processes.\n"
     ]
    },
    {
     "name": "stderr",
     "output_type": "stream",
     "text": [
      "EVA: ts=18[H], 500 EVs, Total Q=4.38 MWh\n",
      "Online 146, Q=3.64 MWh, SoC=0.7576\n",
      "Power(MW): Pt=-0.3871, Pc=-0.3871, Pd=0.0\n",
      "Ctrl: 0=82; 1=64; \n",
      "EVA: Load A from Aest.csv.\n"
     ]
    },
    {
     "name": "stdout",
     "output_type": "stream",
     "text": [
      "Generating code for 1 models on 8 processes.\n"
     ]
    },
    {
     "name": "stderr",
     "output_type": "stream",
     "text": [
      "EVA: ts=18[H], 500 EVs, Total Q=4.38 MWh\n",
      "Online 146, Q=3.64 MWh, SoC=0.7576\n",
      "Power(MW): Pt=-0.3871, Pc=-0.3871, Pd=0.0\n",
      "Ctrl: 0=82; 1=64; \n",
      "EVA: Load A from Aest.csv.\n"
     ]
    },
    {
     "name": "stdout",
     "output_type": "stream",
     "text": [
      "Generating code for 1 models on 8 processes.\n"
     ]
    },
    {
     "name": "stderr",
     "output_type": "stream",
     "text": [
      "EVA: ts=18[H], 500 EVs, Total Q=4.38 MWh\n",
      "Online 146, Q=3.64 MWh, SoC=0.7576\n",
      "Power(MW): Pt=-0.3871, Pc=-0.3871, Pd=0.0\n",
      "Ctrl: 0=82; 1=64; \n",
      "EVA: Load A from Aest.csv.\n"
     ]
    },
    {
     "name": "stdout",
     "output_type": "stream",
     "text": [
      "Generating code for 1 models on 8 processes.\n"
     ]
    },
    {
     "name": "stderr",
     "output_type": "stream",
     "text": [
      "EVA: ts=18[H], 500 EVs, Total Q=4.38 MWh\n",
      "Online 146, Q=3.64 MWh, SoC=0.7576\n",
      "Power(MW): Pt=-0.3871, Pc=-0.3871, Pd=0.0\n",
      "Ctrl: 0=82; 1=64; \n",
      "EVA: Load A from Aest.csv.\n"
     ]
    },
    {
     "name": "stdout",
     "output_type": "stream",
     "text": [
      "Generating code for 1 models on 8 processes.\n"
     ]
    },
    {
     "name": "stderr",
     "output_type": "stream",
     "text": [
      "EVA: ts=18[H], 500 EVs, Total Q=4.38 MWh\n",
      "Online 146, Q=3.64 MWh, SoC=0.7576\n",
      "Power(MW): Pt=-0.3871, Pc=-0.3871, Pd=0.0\n",
      "Ctrl: 0=82; 1=64; \n",
      "EVA: Load A from Aest.csv.\n"
     ]
    },
    {
     "name": "stdout",
     "output_type": "stream",
     "text": [
      "Generating code for 1 models on 8 processes.\n"
     ]
    },
    {
     "name": "stderr",
     "output_type": "stream",
     "text": [
      "EVA: ts=18[H], 500 EVs, Total Q=4.38 MWh\n",
      "Online 146, Q=3.64 MWh, SoC=0.7576\n",
      "Power(MW): Pt=-0.3871, Pc=-0.3871, Pd=0.0\n",
      "Ctrl: 0=82; 1=64; \n",
      "EVA: Load A from Aest.csv.\n"
     ]
    },
    {
     "name": "stdout",
     "output_type": "stream",
     "text": [
      "Generating code for 1 models on 8 processes.\n"
     ]
    },
    {
     "name": "stderr",
     "output_type": "stream",
     "text": [
      "EVA: ts=18[H], 500 EVs, Total Q=4.38 MWh\n",
      "Online 146, Q=3.64 MWh, SoC=0.7576\n",
      "Power(MW): Pt=-0.3871, Pc=-0.3871, Pd=0.0\n",
      "Ctrl: 0=82; 1=64; \n",
      "EVA: Load A from Aest.csv.\n"
     ]
    },
    {
     "name": "stdout",
     "output_type": "stream",
     "text": [
      "Generating code for 1 models on 8 processes.\n"
     ]
    },
    {
     "name": "stderr",
     "output_type": "stream",
     "text": [
      "EVA: ts=18[H], 500 EVs, Total Q=4.38 MWh\n",
      "Online 146, Q=3.64 MWh, SoC=0.7576\n",
      "Power(MW): Pt=-0.3871, Pc=-0.3871, Pd=0.0\n",
      "Ctrl: 0=82; 1=64; \n",
      "EVA: Load A from Aest.csv.\n"
     ]
    },
    {
     "name": "stdout",
     "output_type": "stream",
     "text": [
      "Generating code for 1 models on 8 processes.\n"
     ]
    },
    {
     "name": "stderr",
     "output_type": "stream",
     "text": [
      "EVA: ts=18[H], 500 EVs, Total Q=4.38 MWh\n",
      "Online 146, Q=3.64 MWh, SoC=0.7576\n",
      "Power(MW): Pt=-0.3871, Pc=-0.3871, Pd=0.0\n",
      "Ctrl: 0=82; 1=64; \n",
      "EVA: Load A from Aest.csv.\n"
     ]
    },
    {
     "name": "stdout",
     "output_type": "stream",
     "text": [
      "Generating code for 1 models on 8 processes.\n"
     ]
    },
    {
     "name": "stderr",
     "output_type": "stream",
     "text": [
      "EVA: ts=18[H], 500 EVs, Total Q=4.38 MWh\n",
      "Online 146, Q=3.64 MWh, SoC=0.7576\n",
      "Power(MW): Pt=-0.3871, Pc=-0.3871, Pd=0.0\n",
      "Ctrl: 0=82; 1=64; \n",
      "EVA: Load A from Aest.csv.\n"
     ]
    },
    {
     "name": "stdout",
     "output_type": "stream",
     "text": [
      "Generating code for 1 models on 8 processes.\n"
     ]
    },
    {
     "name": "stderr",
     "output_type": "stream",
     "text": [
      "EVA: ts=18[H], 500 EVs, Total Q=4.38 MWh\n",
      "Online 146, Q=3.64 MWh, SoC=0.7576\n",
      "Power(MW): Pt=-0.3871, Pc=-0.3871, Pd=0.0\n",
      "Ctrl: 0=82; 1=64; \n",
      "EVA: Load A from Aest.csv.\n"
     ]
    },
    {
     "name": "stdout",
     "output_type": "stream",
     "text": [
      "Generating code for 1 models on 8 processes.\n"
     ]
    },
    {
     "name": "stderr",
     "output_type": "stream",
     "text": [
      "EVA: ts=18[H], 500 EVs, Total Q=4.38 MWh\n",
      "Online 146, Q=3.64 MWh, SoC=0.7576\n",
      "Power(MW): Pt=-0.3871, Pc=-0.3871, Pd=0.0\n",
      "Ctrl: 0=82; 1=64; \n",
      "EVA: Load A from Aest.csv.\n"
     ]
    },
    {
     "name": "stdout",
     "output_type": "stream",
     "text": [
      "Generating code for 1 models on 8 processes.\n"
     ]
    },
    {
     "name": "stderr",
     "output_type": "stream",
     "text": [
      "EVA: ts=18[H], 500 EVs, Total Q=4.38 MWh\n",
      "Online 146, Q=3.64 MWh, SoC=0.7576\n",
      "Power(MW): Pt=-0.3871, Pc=-0.3871, Pd=0.0\n",
      "Ctrl: 0=82; 1=64; \n",
      "EVA: Load A from Aest.csv.\n"
     ]
    },
    {
     "name": "stdout",
     "output_type": "stream",
     "text": [
      "Generating code for 1 models on 8 processes.\n"
     ]
    },
    {
     "name": "stderr",
     "output_type": "stream",
     "text": [
      "EVA: ts=18[H], 500 EVs, Total Q=4.38 MWh\n",
      "Online 146, Q=3.64 MWh, SoC=0.7576\n",
      "Power(MW): Pt=-0.3871, Pc=-0.3871, Pd=0.0\n",
      "Ctrl: 0=82; 1=64; \n",
      "EVA: Load A from Aest.csv.\n"
     ]
    },
    {
     "name": "stdout",
     "output_type": "stream",
     "text": [
      "Generating code for 1 models on 8 processes.\n"
     ]
    },
    {
     "name": "stderr",
     "output_type": "stream",
     "text": [
      "EVA: ts=18[H], 500 EVs, Total Q=4.38 MWh\n",
      "Online 146, Q=3.64 MWh, SoC=0.7576\n",
      "Power(MW): Pt=-0.3871, Pc=-0.3871, Pd=0.0\n",
      "Ctrl: 0=82; 1=64; \n",
      "EVA: Load A from Aest.csv.\n"
     ]
    },
    {
     "name": "stdout",
     "output_type": "stream",
     "text": [
      "Generating code for 1 models on 8 processes.\n"
     ]
    },
    {
     "name": "stderr",
     "output_type": "stream",
     "text": [
      "EVA: ts=18[H], 500 EVs, Total Q=4.38 MWh\n",
      "Online 146, Q=3.64 MWh, SoC=0.7576\n",
      "Power(MW): Pt=-0.3871, Pc=-0.3871, Pd=0.0\n",
      "Ctrl: 0=82; 1=64; \n",
      "EVA: Load A from Aest.csv.\n"
     ]
    },
    {
     "name": "stdout",
     "output_type": "stream",
     "text": [
      "Generating code for 1 models on 8 processes.\n"
     ]
    },
    {
     "name": "stderr",
     "output_type": "stream",
     "text": [
      "EVA: ts=18[H], 500 EVs, Total Q=4.38 MWh\n",
      "Online 146, Q=3.64 MWh, SoC=0.7576\n",
      "Power(MW): Pt=-0.3871, Pc=-0.3871, Pd=0.0\n",
      "Ctrl: 0=82; 1=64; \n",
      "EVA: Load A from Aest.csv.\n"
     ]
    },
    {
     "name": "stdout",
     "output_type": "stream",
     "text": [
      "Generating code for 1 models on 8 processes.\n"
     ]
    },
    {
     "name": "stderr",
     "output_type": "stream",
     "text": [
      "EVA: ts=18[H], 500 EVs, Total Q=4.38 MWh\n",
      "Online 146, Q=3.64 MWh, SoC=0.7576\n",
      "Power(MW): Pt=-0.3871, Pc=-0.3871, Pd=0.0\n",
      "Ctrl: 0=82; 1=64; \n",
      "EVA: Load A from Aest.csv.\n"
     ]
    },
    {
     "name": "stdout",
     "output_type": "stream",
     "text": [
      "Generating code for 1 models on 8 processes.\n"
     ]
    },
    {
     "name": "stderr",
     "output_type": "stream",
     "text": [
      "EVA: ts=18[H], 500 EVs, Total Q=4.38 MWh\n",
      "Online 146, Q=3.64 MWh, SoC=0.7576\n",
      "Power(MW): Pt=-0.3871, Pc=-0.3871, Pd=0.0\n",
      "Ctrl: 0=82; 1=64; \n",
      "EVA: Load A from Aest.csv.\n"
     ]
    },
    {
     "name": "stdout",
     "output_type": "stream",
     "text": [
      "Generating code for 1 models on 8 processes.\n"
     ]
    },
    {
     "name": "stderr",
     "output_type": "stream",
     "text": [
      "EVA: ts=18[H], 500 EVs, Total Q=4.38 MWh\n",
      "Online 146, Q=3.64 MWh, SoC=0.7576\n",
      "Power(MW): Pt=-0.3871, Pc=-0.3871, Pd=0.0\n",
      "Ctrl: 0=82; 1=64; \n",
      "EVA: Load A from Aest.csv.\n"
     ]
    },
    {
     "name": "stdout",
     "output_type": "stream",
     "text": [
      "Generating code for 1 models on 8 processes.\n"
     ]
    },
    {
     "name": "stderr",
     "output_type": "stream",
     "text": [
      "EVA: ts=18[H], 500 EVs, Total Q=4.38 MWh\n",
      "Online 146, Q=3.64 MWh, SoC=0.7576\n",
      "Power(MW): Pt=-0.3871, Pc=-0.3871, Pd=0.0\n",
      "Ctrl: 0=82; 1=64; \n",
      "EVA: Load A from Aest.csv.\n"
     ]
    },
    {
     "name": "stdout",
     "output_type": "stream",
     "text": [
      "Generating code for 1 models on 8 processes.\n"
     ]
    },
    {
     "name": "stderr",
     "output_type": "stream",
     "text": [
      "EVA: ts=18[H], 500 EVs, Total Q=4.38 MWh\n",
      "Online 146, Q=3.64 MWh, SoC=0.7576\n",
      "Power(MW): Pt=-0.3871, Pc=-0.3871, Pd=0.0\n",
      "Ctrl: 0=82; 1=64; \n",
      "EVA: Load A from Aest.csv.\n"
     ]
    },
    {
     "name": "stdout",
     "output_type": "stream",
     "text": [
      "Generating code for 1 models on 8 processes.\n"
     ]
    },
    {
     "name": "stderr",
     "output_type": "stream",
     "text": [
      "EVA: ts=18[H], 500 EVs, Total Q=4.38 MWh\n",
      "Online 146, Q=3.64 MWh, SoC=0.7576\n",
      "Power(MW): Pt=-0.3871, Pc=-0.3871, Pd=0.0\n",
      "Ctrl: 0=82; 1=64; \n",
      "EVA: Load A from Aest.csv.\n"
     ]
    },
    {
     "name": "stdout",
     "output_type": "stream",
     "text": [
      "Generating code for 1 models on 8 processes.\n"
     ]
    },
    {
     "name": "stderr",
     "output_type": "stream",
     "text": [
      "EVA: ts=18[H], 500 EVs, Total Q=4.38 MWh\n",
      "Online 146, Q=3.64 MWh, SoC=0.7576\n",
      "Power(MW): Pt=-0.3871, Pc=-0.3871, Pd=0.0\n",
      "Ctrl: 0=82; 1=64; \n",
      "EVA: Load A from Aest.csv.\n"
     ]
    },
    {
     "name": "stdout",
     "output_type": "stream",
     "text": [
      "Generating code for 1 models on 8 processes.\n"
     ]
    },
    {
     "name": "stderr",
     "output_type": "stream",
     "text": [
      "EVA: ts=18[H], 500 EVs, Total Q=4.38 MWh\n",
      "Online 146, Q=3.64 MWh, SoC=0.7576\n",
      "Power(MW): Pt=-0.3871, Pc=-0.3871, Pd=0.0\n",
      "Ctrl: 0=82; 1=64; \n",
      "EVA: Load A from Aest.csv.\n"
     ]
    },
    {
     "name": "stdout",
     "output_type": "stream",
     "text": [
      "Generating code for 1 models on 8 processes.\n"
     ]
    },
    {
     "name": "stderr",
     "output_type": "stream",
     "text": [
      "EVA: ts=18[H], 500 EVs, Total Q=4.38 MWh\n",
      "Online 146, Q=3.64 MWh, SoC=0.7576\n",
      "Power(MW): Pt=-0.3871, Pc=-0.3871, Pd=0.0\n",
      "Ctrl: 0=82; 1=64; \n",
      "EVA: Load A from Aest.csv.\n"
     ]
    },
    {
     "name": "stdout",
     "output_type": "stream",
     "text": [
      "Generating code for 1 models on 8 processes.\n"
     ]
    },
    {
     "name": "stderr",
     "output_type": "stream",
     "text": [
      "EVA: ts=18[H], 500 EVs, Total Q=4.38 MWh\n",
      "Online 146, Q=3.64 MWh, SoC=0.7576\n",
      "Power(MW): Pt=-0.3871, Pc=-0.3871, Pd=0.0\n",
      "Ctrl: 0=82; 1=64; \n",
      "EVA: Load A from Aest.csv.\n"
     ]
    },
    {
     "name": "stdout",
     "output_type": "stream",
     "text": [
      "Generating code for 1 models on 8 processes.\n"
     ]
    },
    {
     "name": "stderr",
     "output_type": "stream",
     "text": [
      "EVA: ts=18[H], 500 EVs, Total Q=4.38 MWh\n",
      "Online 146, Q=3.64 MWh, SoC=0.7576\n",
      "Power(MW): Pt=-0.3871, Pc=-0.3871, Pd=0.0\n",
      "Ctrl: 0=82; 1=64; \n",
      "EVA: Load A from Aest.csv.\n"
     ]
    },
    {
     "name": "stdout",
     "output_type": "stream",
     "text": [
      "Generating code for 1 models on 8 processes.\n"
     ]
    },
    {
     "name": "stderr",
     "output_type": "stream",
     "text": [
      "EVA: ts=18[H], 500 EVs, Total Q=4.38 MWh\n",
      "Online 146, Q=3.64 MWh, SoC=0.7576\n",
      "Power(MW): Pt=-0.3871, Pc=-0.3871, Pd=0.0\n",
      "Ctrl: 0=82; 1=64; \n",
      "EVA: Load A from Aest.csv.\n"
     ]
    },
    {
     "name": "stdout",
     "output_type": "stream",
     "text": [
      "Generating code for 1 models on 8 processes.\n"
     ]
    },
    {
     "name": "stderr",
     "output_type": "stream",
     "text": [
      "EVA: ts=18[H], 500 EVs, Total Q=4.38 MWh\n",
      "Online 146, Q=3.64 MWh, SoC=0.7576\n",
      "Power(MW): Pt=-0.3871, Pc=-0.3871, Pd=0.0\n",
      "Ctrl: 0=82; 1=64; \n",
      "EVA: Load A from Aest.csv.\n"
     ]
    },
    {
     "name": "stdout",
     "output_type": "stream",
     "text": [
      "Generating code for 1 models on 8 processes.\n"
     ]
    },
    {
     "name": "stderr",
     "output_type": "stream",
     "text": [
      "EVA: ts=18[H], 500 EVs, Total Q=4.38 MWh\n",
      "Online 146, Q=3.64 MWh, SoC=0.7576\n",
      "Power(MW): Pt=-0.3871, Pc=-0.3871, Pd=0.0\n",
      "Ctrl: 0=82; 1=64; \n",
      "EVA: Load A from Aest.csv.\n"
     ]
    },
    {
     "name": "stdout",
     "output_type": "stream",
     "text": [
      "Generating code for 1 models on 8 processes.\n"
     ]
    },
    {
     "name": "stderr",
     "output_type": "stream",
     "text": [
      "EVA: ts=18[H], 500 EVs, Total Q=4.38 MWh\n",
      "Online 146, Q=3.64 MWh, SoC=0.7576\n",
      "Power(MW): Pt=-0.3871, Pc=-0.3871, Pd=0.0\n",
      "Ctrl: 0=82; 1=64; \n",
      "EVA: Load A from Aest.csv.\n"
     ]
    },
    {
     "name": "stdout",
     "output_type": "stream",
     "text": [
      "Generating code for 1 models on 8 processes.\n"
     ]
    },
    {
     "name": "stderr",
     "output_type": "stream",
     "text": [
      "EVA: ts=18[H], 500 EVs, Total Q=4.38 MWh\n",
      "Online 146, Q=3.64 MWh, SoC=0.7576\n",
      "Power(MW): Pt=-0.3871, Pc=-0.3871, Pd=0.0\n",
      "Ctrl: 0=82; 1=64; \n",
      "EVA: Load A from Aest.csv.\n"
     ]
    },
    {
     "name": "stdout",
     "output_type": "stream",
     "text": [
      "Generating code for 1 models on 8 processes.\n"
     ]
    },
    {
     "name": "stderr",
     "output_type": "stream",
     "text": [
      "EVA: ts=18[H], 500 EVs, Total Q=4.38 MWh\n",
      "Online 146, Q=3.64 MWh, SoC=0.7576\n",
      "Power(MW): Pt=-0.3871, Pc=-0.3871, Pd=0.0\n",
      "Ctrl: 0=82; 1=64; \n",
      "EVA: Load A from Aest.csv.\n"
     ]
    },
    {
     "name": "stdout",
     "output_type": "stream",
     "text": [
      "Generating code for 1 models on 8 processes.\n"
     ]
    },
    {
     "name": "stderr",
     "output_type": "stream",
     "text": [
      "EVA: ts=18[H], 500 EVs, Total Q=4.38 MWh\n",
      "Online 146, Q=3.64 MWh, SoC=0.7576\n",
      "Power(MW): Pt=-0.3871, Pc=-0.3871, Pd=0.0\n",
      "Ctrl: 0=82; 1=64; \n",
      "EVA: Load A from Aest.csv.\n"
     ]
    },
    {
     "name": "stdout",
     "output_type": "stream",
     "text": [
      "Generating code for 1 models on 8 processes.\n"
     ]
    },
    {
     "name": "stderr",
     "output_type": "stream",
     "text": [
      "EVA: ts=18[H], 500 EVs, Total Q=4.38 MWh\n",
      "Online 146, Q=3.64 MWh, SoC=0.7576\n",
      "Power(MW): Pt=-0.3871, Pc=-0.3871, Pd=0.0\n",
      "Ctrl: 0=82; 1=64; \n",
      "EVA: Load A from Aest.csv.\n"
     ]
    },
    {
     "name": "stdout",
     "output_type": "stream",
     "text": [
      "Generating code for 1 models on 8 processes.\n"
     ]
    },
    {
     "name": "stderr",
     "output_type": "stream",
     "text": [
      "EVA: ts=18[H], 500 EVs, Total Q=4.38 MWh\n",
      "Online 146, Q=3.64 MWh, SoC=0.7576\n",
      "Power(MW): Pt=-0.3871, Pc=-0.3871, Pd=0.0\n",
      "Ctrl: 0=82; 1=64; \n",
      "EVA: Load A from Aest.csv.\n"
     ]
    },
    {
     "name": "stdout",
     "output_type": "stream",
     "text": [
      "Generating code for 1 models on 8 processes.\n"
     ]
    },
    {
     "name": "stderr",
     "output_type": "stream",
     "text": [
      "EVA: ts=18[H], 500 EVs, Total Q=4.38 MWh\n",
      "Online 146, Q=3.64 MWh, SoC=0.7576\n",
      "Power(MW): Pt=-0.3871, Pc=-0.3871, Pd=0.0\n",
      "Ctrl: 0=82; 1=64; \n",
      "EVA: Load A from Aest.csv.\n"
     ]
    },
    {
     "name": "stdout",
     "output_type": "stream",
     "text": [
      "Generating code for 1 models on 8 processes.\n"
     ]
    },
    {
     "name": "stderr",
     "output_type": "stream",
     "text": [
      "EVA: ts=18[H], 500 EVs, Total Q=4.38 MWh\n",
      "Online 146, Q=3.64 MWh, SoC=0.7576\n",
      "Power(MW): Pt=-0.3871, Pc=-0.3871, Pd=0.0\n",
      "Ctrl: 0=82; 1=64; \n",
      "EVA: Load A from Aest.csv.\n"
     ]
    },
    {
     "name": "stdout",
     "output_type": "stream",
     "text": [
      "Generating code for 1 models on 8 processes.\n"
     ]
    },
    {
     "name": "stderr",
     "output_type": "stream",
     "text": [
      "EVA: ts=18[H], 500 EVs, Total Q=4.38 MWh\n",
      "Online 146, Q=3.64 MWh, SoC=0.7576\n",
      "Power(MW): Pt=-0.3871, Pc=-0.3871, Pd=0.0\n",
      "Ctrl: 0=82; 1=64; \n",
      "EVA: Load A from Aest.csv.\n"
     ]
    },
    {
     "name": "stdout",
     "output_type": "stream",
     "text": [
      "Generating code for 1 models on 8 processes.\n"
     ]
    },
    {
     "name": "stderr",
     "output_type": "stream",
     "text": [
      "EVA: ts=18[H], 500 EVs, Total Q=4.38 MWh\n",
      "Online 146, Q=3.64 MWh, SoC=0.7576\n",
      "Power(MW): Pt=-0.3871, Pc=-0.3871, Pd=0.0\n",
      "Ctrl: 0=82; 1=64; \n",
      "EVA: Load A from Aest.csv.\n"
     ]
    },
    {
     "name": "stdout",
     "output_type": "stream",
     "text": [
      "Generating code for 1 models on 8 processes.\n"
     ]
    },
    {
     "name": "stderr",
     "output_type": "stream",
     "text": [
      "EVA: ts=18[H], 500 EVs, Total Q=4.38 MWh\n",
      "Online 146, Q=3.64 MWh, SoC=0.7576\n",
      "Power(MW): Pt=-0.3871, Pc=-0.3871, Pd=0.0\n",
      "Ctrl: 0=82; 1=64; \n",
      "EVA: Load A from Aest.csv.\n"
     ]
    },
    {
     "name": "stdout",
     "output_type": "stream",
     "text": [
      "1.08 s ± 31 ms per loop (mean ± std. dev. of 5 runs, 10 loops each)\n"
     ]
    }
   ],
   "source": [
    "%%timeit -n 10 -r 5\n",
    "ss1, se1, pa1 = run_ss(m=1, time_len=end_time, no_tqdm=True)"
   ]
  },
  {
   "cell_type": "code",
   "execution_count": 13,
   "metadata": {},
   "outputs": [
    {
     "name": "stdout",
     "output_type": "stream",
     "text": [
      "Generating code for 1 models on 8 processes.\n"
     ]
    },
    {
     "name": "stderr",
     "output_type": "stream",
     "text": [
      "EVA: ts=18[H], 500 EVs, Total Q=4.38 MWh\n",
      "Online 146, Q=3.64 MWh, SoC=0.7576\n",
      "Power(MW): Pt=-0.3871, Pc=-0.3871, Pd=0.0\n",
      "Ctrl: 0=82; 1=64; \n",
      "EVA: Load A from Aest.csv.\n"
     ]
    },
    {
     "name": "stdout",
     "output_type": "stream",
     "text": [
      "Generating code for 1 models on 8 processes.\n"
     ]
    },
    {
     "name": "stderr",
     "output_type": "stream",
     "text": [
      "EVA: ts=18[H], 500 EVs, Total Q=4.38 MWh\n",
      "Online 146, Q=3.64 MWh, SoC=0.7576\n",
      "Power(MW): Pt=-0.3871, Pc=-0.3871, Pd=0.0\n",
      "Ctrl: 0=82; 1=64; \n",
      "EVA: Load A from Aest.csv.\n"
     ]
    },
    {
     "name": "stdout",
     "output_type": "stream",
     "text": [
      "Generating code for 1 models on 8 processes.\n"
     ]
    },
    {
     "name": "stderr",
     "output_type": "stream",
     "text": [
      "EVA: ts=18[H], 500 EVs, Total Q=4.38 MWh\n",
      "Online 146, Q=3.64 MWh, SoC=0.7576\n",
      "Power(MW): Pt=-0.3871, Pc=-0.3871, Pd=0.0\n",
      "Ctrl: 0=82; 1=64; \n",
      "EVA: Load A from Aest.csv.\n"
     ]
    },
    {
     "name": "stdout",
     "output_type": "stream",
     "text": [
      "Generating code for 1 models on 8 processes.\n"
     ]
    },
    {
     "name": "stderr",
     "output_type": "stream",
     "text": [
      "EVA: ts=18[H], 500 EVs, Total Q=4.38 MWh\n",
      "Online 146, Q=3.64 MWh, SoC=0.7576\n",
      "Power(MW): Pt=-0.3871, Pc=-0.3871, Pd=0.0\n",
      "Ctrl: 0=82; 1=64; \n",
      "EVA: Load A from Aest.csv.\n"
     ]
    },
    {
     "name": "stdout",
     "output_type": "stream",
     "text": [
      "Generating code for 1 models on 8 processes.\n"
     ]
    },
    {
     "name": "stderr",
     "output_type": "stream",
     "text": [
      "EVA: ts=18[H], 500 EVs, Total Q=4.38 MWh\n",
      "Online 146, Q=3.64 MWh, SoC=0.7576\n",
      "Power(MW): Pt=-0.3871, Pc=-0.3871, Pd=0.0\n",
      "Ctrl: 0=82; 1=64; \n",
      "EVA: Load A from Aest.csv.\n"
     ]
    },
    {
     "name": "stdout",
     "output_type": "stream",
     "text": [
      "Generating code for 1 models on 8 processes.\n"
     ]
    },
    {
     "name": "stderr",
     "output_type": "stream",
     "text": [
      "EVA: ts=18[H], 500 EVs, Total Q=4.38 MWh\n",
      "Online 146, Q=3.64 MWh, SoC=0.7576\n",
      "Power(MW): Pt=-0.3871, Pc=-0.3871, Pd=0.0\n",
      "Ctrl: 0=82; 1=64; \n",
      "EVA: Load A from Aest.csv.\n"
     ]
    },
    {
     "name": "stdout",
     "output_type": "stream",
     "text": [
      "Generating code for 1 models on 8 processes.\n"
     ]
    },
    {
     "name": "stderr",
     "output_type": "stream",
     "text": [
      "EVA: ts=18[H], 500 EVs, Total Q=4.38 MWh\n",
      "Online 146, Q=3.64 MWh, SoC=0.7576\n",
      "Power(MW): Pt=-0.3871, Pc=-0.3871, Pd=0.0\n",
      "Ctrl: 0=82; 1=64; \n",
      "EVA: Load A from Aest.csv.\n"
     ]
    },
    {
     "name": "stdout",
     "output_type": "stream",
     "text": [
      "Generating code for 1 models on 8 processes.\n"
     ]
    },
    {
     "name": "stderr",
     "output_type": "stream",
     "text": [
      "EVA: ts=18[H], 500 EVs, Total Q=4.38 MWh\n",
      "Online 146, Q=3.64 MWh, SoC=0.7576\n",
      "Power(MW): Pt=-0.3871, Pc=-0.3871, Pd=0.0\n",
      "Ctrl: 0=82; 1=64; \n",
      "EVA: Load A from Aest.csv.\n"
     ]
    },
    {
     "name": "stdout",
     "output_type": "stream",
     "text": [
      "Generating code for 1 models on 8 processes.\n"
     ]
    },
    {
     "name": "stderr",
     "output_type": "stream",
     "text": [
      "EVA: ts=18[H], 500 EVs, Total Q=4.38 MWh\n",
      "Online 146, Q=3.64 MWh, SoC=0.7576\n",
      "Power(MW): Pt=-0.3871, Pc=-0.3871, Pd=0.0\n",
      "Ctrl: 0=82; 1=64; \n",
      "EVA: Load A from Aest.csv.\n"
     ]
    },
    {
     "name": "stdout",
     "output_type": "stream",
     "text": [
      "Generating code for 1 models on 8 processes.\n"
     ]
    },
    {
     "name": "stderr",
     "output_type": "stream",
     "text": [
      "EVA: ts=18[H], 500 EVs, Total Q=4.38 MWh\n",
      "Online 146, Q=3.64 MWh, SoC=0.7576\n",
      "Power(MW): Pt=-0.3871, Pc=-0.3871, Pd=0.0\n",
      "Ctrl: 0=82; 1=64; \n",
      "EVA: Load A from Aest.csv.\n"
     ]
    },
    {
     "name": "stdout",
     "output_type": "stream",
     "text": [
      "Generating code for 1 models on 8 processes.\n"
     ]
    },
    {
     "name": "stderr",
     "output_type": "stream",
     "text": [
      "EVA: ts=18[H], 500 EVs, Total Q=4.38 MWh\n",
      "Online 146, Q=3.64 MWh, SoC=0.7576\n",
      "Power(MW): Pt=-0.3871, Pc=-0.3871, Pd=0.0\n",
      "Ctrl: 0=82; 1=64; \n",
      "EVA: Load A from Aest.csv.\n"
     ]
    },
    {
     "name": "stdout",
     "output_type": "stream",
     "text": [
      "Generating code for 1 models on 8 processes.\n"
     ]
    },
    {
     "name": "stderr",
     "output_type": "stream",
     "text": [
      "EVA: ts=18[H], 500 EVs, Total Q=4.38 MWh\n",
      "Online 146, Q=3.64 MWh, SoC=0.7576\n",
      "Power(MW): Pt=-0.3871, Pc=-0.3871, Pd=0.0\n",
      "Ctrl: 0=82; 1=64; \n",
      "EVA: Load A from Aest.csv.\n"
     ]
    },
    {
     "name": "stdout",
     "output_type": "stream",
     "text": [
      "Generating code for 1 models on 8 processes.\n"
     ]
    },
    {
     "name": "stderr",
     "output_type": "stream",
     "text": [
      "EVA: ts=18[H], 500 EVs, Total Q=4.38 MWh\n",
      "Online 146, Q=3.64 MWh, SoC=0.7576\n",
      "Power(MW): Pt=-0.3871, Pc=-0.3871, Pd=0.0\n",
      "Ctrl: 0=82; 1=64; \n",
      "EVA: Load A from Aest.csv.\n"
     ]
    },
    {
     "name": "stdout",
     "output_type": "stream",
     "text": [
      "Generating code for 1 models on 8 processes.\n"
     ]
    },
    {
     "name": "stderr",
     "output_type": "stream",
     "text": [
      "EVA: ts=18[H], 500 EVs, Total Q=4.38 MWh\n",
      "Online 146, Q=3.64 MWh, SoC=0.7576\n",
      "Power(MW): Pt=-0.3871, Pc=-0.3871, Pd=0.0\n",
      "Ctrl: 0=82; 1=64; \n",
      "EVA: Load A from Aest.csv.\n"
     ]
    },
    {
     "name": "stdout",
     "output_type": "stream",
     "text": [
      "Generating code for 1 models on 8 processes.\n"
     ]
    },
    {
     "name": "stderr",
     "output_type": "stream",
     "text": [
      "EVA: ts=18[H], 500 EVs, Total Q=4.38 MWh\n",
      "Online 146, Q=3.64 MWh, SoC=0.7576\n",
      "Power(MW): Pt=-0.3871, Pc=-0.3871, Pd=0.0\n",
      "Ctrl: 0=82; 1=64; \n",
      "EVA: Load A from Aest.csv.\n"
     ]
    },
    {
     "name": "stdout",
     "output_type": "stream",
     "text": [
      "Generating code for 1 models on 8 processes.\n"
     ]
    },
    {
     "name": "stderr",
     "output_type": "stream",
     "text": [
      "EVA: ts=18[H], 500 EVs, Total Q=4.38 MWh\n",
      "Online 146, Q=3.64 MWh, SoC=0.7576\n",
      "Power(MW): Pt=-0.3871, Pc=-0.3871, Pd=0.0\n",
      "Ctrl: 0=82; 1=64; \n",
      "EVA: Load A from Aest.csv.\n"
     ]
    },
    {
     "name": "stdout",
     "output_type": "stream",
     "text": [
      "Generating code for 1 models on 8 processes.\n"
     ]
    },
    {
     "name": "stderr",
     "output_type": "stream",
     "text": [
      "EVA: ts=18[H], 500 EVs, Total Q=4.38 MWh\n",
      "Online 146, Q=3.64 MWh, SoC=0.7576\n",
      "Power(MW): Pt=-0.3871, Pc=-0.3871, Pd=0.0\n",
      "Ctrl: 0=82; 1=64; \n",
      "EVA: Load A from Aest.csv.\n"
     ]
    },
    {
     "name": "stdout",
     "output_type": "stream",
     "text": [
      "Generating code for 1 models on 8 processes.\n"
     ]
    },
    {
     "name": "stderr",
     "output_type": "stream",
     "text": [
      "EVA: ts=18[H], 500 EVs, Total Q=4.38 MWh\n",
      "Online 146, Q=3.64 MWh, SoC=0.7576\n",
      "Power(MW): Pt=-0.3871, Pc=-0.3871, Pd=0.0\n",
      "Ctrl: 0=82; 1=64; \n",
      "EVA: Load A from Aest.csv.\n"
     ]
    },
    {
     "name": "stdout",
     "output_type": "stream",
     "text": [
      "Generating code for 1 models on 8 processes.\n"
     ]
    },
    {
     "name": "stderr",
     "output_type": "stream",
     "text": [
      "EVA: ts=18[H], 500 EVs, Total Q=4.38 MWh\n",
      "Online 146, Q=3.64 MWh, SoC=0.7576\n",
      "Power(MW): Pt=-0.3871, Pc=-0.3871, Pd=0.0\n",
      "Ctrl: 0=82; 1=64; \n",
      "EVA: Load A from Aest.csv.\n"
     ]
    },
    {
     "name": "stdout",
     "output_type": "stream",
     "text": [
      "Generating code for 1 models on 8 processes.\n"
     ]
    },
    {
     "name": "stderr",
     "output_type": "stream",
     "text": [
      "EVA: ts=18[H], 500 EVs, Total Q=4.38 MWh\n",
      "Online 146, Q=3.64 MWh, SoC=0.7576\n",
      "Power(MW): Pt=-0.3871, Pc=-0.3871, Pd=0.0\n",
      "Ctrl: 0=82; 1=64; \n",
      "EVA: Load A from Aest.csv.\n"
     ]
    },
    {
     "name": "stdout",
     "output_type": "stream",
     "text": [
      "Generating code for 1 models on 8 processes.\n"
     ]
    },
    {
     "name": "stderr",
     "output_type": "stream",
     "text": [
      "EVA: ts=18[H], 500 EVs, Total Q=4.38 MWh\n",
      "Online 146, Q=3.64 MWh, SoC=0.7576\n",
      "Power(MW): Pt=-0.3871, Pc=-0.3871, Pd=0.0\n",
      "Ctrl: 0=82; 1=64; \n",
      "EVA: Load A from Aest.csv.\n"
     ]
    },
    {
     "name": "stdout",
     "output_type": "stream",
     "text": [
      "Generating code for 1 models on 8 processes.\n"
     ]
    },
    {
     "name": "stderr",
     "output_type": "stream",
     "text": [
      "EVA: ts=18[H], 500 EVs, Total Q=4.38 MWh\n",
      "Online 146, Q=3.64 MWh, SoC=0.7576\n",
      "Power(MW): Pt=-0.3871, Pc=-0.3871, Pd=0.0\n",
      "Ctrl: 0=82; 1=64; \n",
      "EVA: Load A from Aest.csv.\n"
     ]
    },
    {
     "name": "stdout",
     "output_type": "stream",
     "text": [
      "Generating code for 1 models on 8 processes.\n"
     ]
    },
    {
     "name": "stderr",
     "output_type": "stream",
     "text": [
      "EVA: ts=18[H], 500 EVs, Total Q=4.38 MWh\n",
      "Online 146, Q=3.64 MWh, SoC=0.7576\n",
      "Power(MW): Pt=-0.3871, Pc=-0.3871, Pd=0.0\n",
      "Ctrl: 0=82; 1=64; \n",
      "EVA: Load A from Aest.csv.\n"
     ]
    },
    {
     "name": "stdout",
     "output_type": "stream",
     "text": [
      "Generating code for 1 models on 8 processes.\n"
     ]
    },
    {
     "name": "stderr",
     "output_type": "stream",
     "text": [
      "EVA: ts=18[H], 500 EVs, Total Q=4.38 MWh\n",
      "Online 146, Q=3.64 MWh, SoC=0.7576\n",
      "Power(MW): Pt=-0.3871, Pc=-0.3871, Pd=0.0\n",
      "Ctrl: 0=82; 1=64; \n",
      "EVA: Load A from Aest.csv.\n"
     ]
    },
    {
     "name": "stdout",
     "output_type": "stream",
     "text": [
      "Generating code for 1 models on 8 processes.\n"
     ]
    },
    {
     "name": "stderr",
     "output_type": "stream",
     "text": [
      "EVA: ts=18[H], 500 EVs, Total Q=4.38 MWh\n",
      "Online 146, Q=3.64 MWh, SoC=0.7576\n",
      "Power(MW): Pt=-0.3871, Pc=-0.3871, Pd=0.0\n",
      "Ctrl: 0=82; 1=64; \n",
      "EVA: Load A from Aest.csv.\n"
     ]
    },
    {
     "name": "stdout",
     "output_type": "stream",
     "text": [
      "Generating code for 1 models on 8 processes.\n"
     ]
    },
    {
     "name": "stderr",
     "output_type": "stream",
     "text": [
      "EVA: ts=18[H], 500 EVs, Total Q=4.38 MWh\n",
      "Online 146, Q=3.64 MWh, SoC=0.7576\n",
      "Power(MW): Pt=-0.3871, Pc=-0.3871, Pd=0.0\n",
      "Ctrl: 0=82; 1=64; \n",
      "EVA: Load A from Aest.csv.\n"
     ]
    },
    {
     "name": "stdout",
     "output_type": "stream",
     "text": [
      "Generating code for 1 models on 8 processes.\n"
     ]
    },
    {
     "name": "stderr",
     "output_type": "stream",
     "text": [
      "EVA: ts=18[H], 500 EVs, Total Q=4.38 MWh\n",
      "Online 146, Q=3.64 MWh, SoC=0.7576\n",
      "Power(MW): Pt=-0.3871, Pc=-0.3871, Pd=0.0\n",
      "Ctrl: 0=82; 1=64; \n",
      "EVA: Load A from Aest.csv.\n"
     ]
    },
    {
     "name": "stdout",
     "output_type": "stream",
     "text": [
      "Generating code for 1 models on 8 processes.\n"
     ]
    },
    {
     "name": "stderr",
     "output_type": "stream",
     "text": [
      "EVA: ts=18[H], 500 EVs, Total Q=4.38 MWh\n",
      "Online 146, Q=3.64 MWh, SoC=0.7576\n",
      "Power(MW): Pt=-0.3871, Pc=-0.3871, Pd=0.0\n",
      "Ctrl: 0=82; 1=64; \n",
      "EVA: Load A from Aest.csv.\n"
     ]
    },
    {
     "name": "stdout",
     "output_type": "stream",
     "text": [
      "Generating code for 1 models on 8 processes.\n"
     ]
    },
    {
     "name": "stderr",
     "output_type": "stream",
     "text": [
      "EVA: ts=18[H], 500 EVs, Total Q=4.38 MWh\n",
      "Online 146, Q=3.64 MWh, SoC=0.7576\n",
      "Power(MW): Pt=-0.3871, Pc=-0.3871, Pd=0.0\n",
      "Ctrl: 0=82; 1=64; \n",
      "EVA: Load A from Aest.csv.\n"
     ]
    },
    {
     "name": "stdout",
     "output_type": "stream",
     "text": [
      "Generating code for 1 models on 8 processes.\n"
     ]
    },
    {
     "name": "stderr",
     "output_type": "stream",
     "text": [
      "EVA: ts=18[H], 500 EVs, Total Q=4.38 MWh\n",
      "Online 146, Q=3.64 MWh, SoC=0.7576\n",
      "Power(MW): Pt=-0.3871, Pc=-0.3871, Pd=0.0\n",
      "Ctrl: 0=82; 1=64; \n",
      "EVA: Load A from Aest.csv.\n"
     ]
    },
    {
     "name": "stdout",
     "output_type": "stream",
     "text": [
      "Generating code for 1 models on 8 processes.\n"
     ]
    },
    {
     "name": "stderr",
     "output_type": "stream",
     "text": [
      "EVA: ts=18[H], 500 EVs, Total Q=4.38 MWh\n",
      "Online 146, Q=3.64 MWh, SoC=0.7576\n",
      "Power(MW): Pt=-0.3871, Pc=-0.3871, Pd=0.0\n",
      "Ctrl: 0=82; 1=64; \n",
      "EVA: Load A from Aest.csv.\n"
     ]
    },
    {
     "name": "stdout",
     "output_type": "stream",
     "text": [
      "Generating code for 1 models on 8 processes.\n"
     ]
    },
    {
     "name": "stderr",
     "output_type": "stream",
     "text": [
      "EVA: ts=18[H], 500 EVs, Total Q=4.38 MWh\n",
      "Online 146, Q=3.64 MWh, SoC=0.7576\n",
      "Power(MW): Pt=-0.3871, Pc=-0.3871, Pd=0.0\n",
      "Ctrl: 0=82; 1=64; \n",
      "EVA: Load A from Aest.csv.\n"
     ]
    },
    {
     "name": "stdout",
     "output_type": "stream",
     "text": [
      "Generating code for 1 models on 8 processes.\n"
     ]
    },
    {
     "name": "stderr",
     "output_type": "stream",
     "text": [
      "EVA: ts=18[H], 500 EVs, Total Q=4.38 MWh\n",
      "Online 146, Q=3.64 MWh, SoC=0.7576\n",
      "Power(MW): Pt=-0.3871, Pc=-0.3871, Pd=0.0\n",
      "Ctrl: 0=82; 1=64; \n",
      "EVA: Load A from Aest.csv.\n"
     ]
    },
    {
     "name": "stdout",
     "output_type": "stream",
     "text": [
      "Generating code for 1 models on 8 processes.\n"
     ]
    },
    {
     "name": "stderr",
     "output_type": "stream",
     "text": [
      "EVA: ts=18[H], 500 EVs, Total Q=4.38 MWh\n",
      "Online 146, Q=3.64 MWh, SoC=0.7576\n",
      "Power(MW): Pt=-0.3871, Pc=-0.3871, Pd=0.0\n",
      "Ctrl: 0=82; 1=64; \n",
      "EVA: Load A from Aest.csv.\n"
     ]
    },
    {
     "name": "stdout",
     "output_type": "stream",
     "text": [
      "Generating code for 1 models on 8 processes.\n"
     ]
    },
    {
     "name": "stderr",
     "output_type": "stream",
     "text": [
      "EVA: ts=18[H], 500 EVs, Total Q=4.38 MWh\n",
      "Online 146, Q=3.64 MWh, SoC=0.7576\n",
      "Power(MW): Pt=-0.3871, Pc=-0.3871, Pd=0.0\n",
      "Ctrl: 0=82; 1=64; \n",
      "EVA: Load A from Aest.csv.\n"
     ]
    },
    {
     "name": "stdout",
     "output_type": "stream",
     "text": [
      "Generating code for 1 models on 8 processes.\n"
     ]
    },
    {
     "name": "stderr",
     "output_type": "stream",
     "text": [
      "EVA: ts=18[H], 500 EVs, Total Q=4.38 MWh\n",
      "Online 146, Q=3.64 MWh, SoC=0.7576\n",
      "Power(MW): Pt=-0.3871, Pc=-0.3871, Pd=0.0\n",
      "Ctrl: 0=82; 1=64; \n",
      "EVA: Load A from Aest.csv.\n"
     ]
    },
    {
     "name": "stdout",
     "output_type": "stream",
     "text": [
      "Generating code for 1 models on 8 processes.\n"
     ]
    },
    {
     "name": "stderr",
     "output_type": "stream",
     "text": [
      "EVA: ts=18[H], 500 EVs, Total Q=4.38 MWh\n",
      "Online 146, Q=3.64 MWh, SoC=0.7576\n",
      "Power(MW): Pt=-0.3871, Pc=-0.3871, Pd=0.0\n",
      "Ctrl: 0=82; 1=64; \n",
      "EVA: Load A from Aest.csv.\n"
     ]
    },
    {
     "name": "stdout",
     "output_type": "stream",
     "text": [
      "Generating code for 1 models on 8 processes.\n"
     ]
    },
    {
     "name": "stderr",
     "output_type": "stream",
     "text": [
      "EVA: ts=18[H], 500 EVs, Total Q=4.38 MWh\n",
      "Online 146, Q=3.64 MWh, SoC=0.7576\n",
      "Power(MW): Pt=-0.3871, Pc=-0.3871, Pd=0.0\n",
      "Ctrl: 0=82; 1=64; \n",
      "EVA: Load A from Aest.csv.\n"
     ]
    },
    {
     "name": "stdout",
     "output_type": "stream",
     "text": [
      "Generating code for 1 models on 8 processes.\n"
     ]
    },
    {
     "name": "stderr",
     "output_type": "stream",
     "text": [
      "EVA: ts=18[H], 500 EVs, Total Q=4.38 MWh\n",
      "Online 146, Q=3.64 MWh, SoC=0.7576\n",
      "Power(MW): Pt=-0.3871, Pc=-0.3871, Pd=0.0\n",
      "Ctrl: 0=82; 1=64; \n",
      "EVA: Load A from Aest.csv.\n"
     ]
    },
    {
     "name": "stdout",
     "output_type": "stream",
     "text": [
      "Generating code for 1 models on 8 processes.\n"
     ]
    },
    {
     "name": "stderr",
     "output_type": "stream",
     "text": [
      "EVA: ts=18[H], 500 EVs, Total Q=4.38 MWh\n",
      "Online 146, Q=3.64 MWh, SoC=0.7576\n",
      "Power(MW): Pt=-0.3871, Pc=-0.3871, Pd=0.0\n",
      "Ctrl: 0=82; 1=64; \n",
      "EVA: Load A from Aest.csv.\n"
     ]
    },
    {
     "name": "stdout",
     "output_type": "stream",
     "text": [
      "Generating code for 1 models on 8 processes.\n"
     ]
    },
    {
     "name": "stderr",
     "output_type": "stream",
     "text": [
      "EVA: ts=18[H], 500 EVs, Total Q=4.38 MWh\n",
      "Online 146, Q=3.64 MWh, SoC=0.7576\n",
      "Power(MW): Pt=-0.3871, Pc=-0.3871, Pd=0.0\n",
      "Ctrl: 0=82; 1=64; \n",
      "EVA: Load A from Aest.csv.\n"
     ]
    },
    {
     "name": "stdout",
     "output_type": "stream",
     "text": [
      "Generating code for 1 models on 8 processes.\n"
     ]
    },
    {
     "name": "stderr",
     "output_type": "stream",
     "text": [
      "EVA: ts=18[H], 500 EVs, Total Q=4.38 MWh\n",
      "Online 146, Q=3.64 MWh, SoC=0.7576\n",
      "Power(MW): Pt=-0.3871, Pc=-0.3871, Pd=0.0\n",
      "Ctrl: 0=82; 1=64; \n",
      "EVA: Load A from Aest.csv.\n"
     ]
    },
    {
     "name": "stdout",
     "output_type": "stream",
     "text": [
      "Generating code for 1 models on 8 processes.\n"
     ]
    },
    {
     "name": "stderr",
     "output_type": "stream",
     "text": [
      "EVA: ts=18[H], 500 EVs, Total Q=4.38 MWh\n",
      "Online 146, Q=3.64 MWh, SoC=0.7576\n",
      "Power(MW): Pt=-0.3871, Pc=-0.3871, Pd=0.0\n",
      "Ctrl: 0=82; 1=64; \n",
      "EVA: Load A from Aest.csv.\n"
     ]
    },
    {
     "name": "stdout",
     "output_type": "stream",
     "text": [
      "Generating code for 1 models on 8 processes.\n"
     ]
    },
    {
     "name": "stderr",
     "output_type": "stream",
     "text": [
      "EVA: ts=18[H], 500 EVs, Total Q=4.38 MWh\n",
      "Online 146, Q=3.64 MWh, SoC=0.7576\n",
      "Power(MW): Pt=-0.3871, Pc=-0.3871, Pd=0.0\n",
      "Ctrl: 0=82; 1=64; \n",
      "EVA: Load A from Aest.csv.\n"
     ]
    },
    {
     "name": "stdout",
     "output_type": "stream",
     "text": [
      "Generating code for 1 models on 8 processes.\n"
     ]
    },
    {
     "name": "stderr",
     "output_type": "stream",
     "text": [
      "EVA: ts=18[H], 500 EVs, Total Q=4.38 MWh\n",
      "Online 146, Q=3.64 MWh, SoC=0.7576\n",
      "Power(MW): Pt=-0.3871, Pc=-0.3871, Pd=0.0\n",
      "Ctrl: 0=82; 1=64; \n",
      "EVA: Load A from Aest.csv.\n"
     ]
    },
    {
     "name": "stdout",
     "output_type": "stream",
     "text": [
      "Generating code for 1 models on 8 processes.\n"
     ]
    },
    {
     "name": "stderr",
     "output_type": "stream",
     "text": [
      "EVA: ts=18[H], 500 EVs, Total Q=4.38 MWh\n",
      "Online 146, Q=3.64 MWh, SoC=0.7576\n",
      "Power(MW): Pt=-0.3871, Pc=-0.3871, Pd=0.0\n",
      "Ctrl: 0=82; 1=64; \n",
      "EVA: Load A from Aest.csv.\n"
     ]
    },
    {
     "name": "stdout",
     "output_type": "stream",
     "text": [
      "Generating code for 1 models on 8 processes.\n"
     ]
    },
    {
     "name": "stderr",
     "output_type": "stream",
     "text": [
      "EVA: ts=18[H], 500 EVs, Total Q=4.38 MWh\n",
      "Online 146, Q=3.64 MWh, SoC=0.7576\n",
      "Power(MW): Pt=-0.3871, Pc=-0.3871, Pd=0.0\n",
      "Ctrl: 0=82; 1=64; \n",
      "EVA: Load A from Aest.csv.\n"
     ]
    },
    {
     "name": "stdout",
     "output_type": "stream",
     "text": [
      "Generating code for 1 models on 8 processes.\n"
     ]
    },
    {
     "name": "stderr",
     "output_type": "stream",
     "text": [
      "EVA: ts=18[H], 500 EVs, Total Q=4.38 MWh\n",
      "Online 146, Q=3.64 MWh, SoC=0.7576\n",
      "Power(MW): Pt=-0.3871, Pc=-0.3871, Pd=0.0\n",
      "Ctrl: 0=82; 1=64; \n",
      "EVA: Load A from Aest.csv.\n"
     ]
    },
    {
     "name": "stdout",
     "output_type": "stream",
     "text": [
      "Generating code for 1 models on 8 processes.\n"
     ]
    },
    {
     "name": "stderr",
     "output_type": "stream",
     "text": [
      "EVA: ts=18[H], 500 EVs, Total Q=4.38 MWh\n",
      "Online 146, Q=3.64 MWh, SoC=0.7576\n",
      "Power(MW): Pt=-0.3871, Pc=-0.3871, Pd=0.0\n",
      "Ctrl: 0=82; 1=64; \n",
      "EVA: Load A from Aest.csv.\n"
     ]
    },
    {
     "name": "stdout",
     "output_type": "stream",
     "text": [
      "Generating code for 1 models on 8 processes.\n"
     ]
    },
    {
     "name": "stderr",
     "output_type": "stream",
     "text": [
      "EVA: ts=18[H], 500 EVs, Total Q=4.38 MWh\n",
      "Online 146, Q=3.64 MWh, SoC=0.7576\n",
      "Power(MW): Pt=-0.3871, Pc=-0.3871, Pd=0.0\n",
      "Ctrl: 0=82; 1=64; \n",
      "EVA: Load A from Aest.csv.\n"
     ]
    },
    {
     "name": "stdout",
     "output_type": "stream",
     "text": [
      "971 ms ± 23.1 ms per loop (mean ± std. dev. of 5 runs, 10 loops each)\n"
     ]
    }
   ],
   "source": [
    "%%timeit -n 10 -r 5\n",
    "ss2, se2, pa2 = run_ss(m=2, time_len=end_time, no_tqdm=True)"
   ]
  },
  {
   "cell_type": "code",
   "execution_count": 14,
   "metadata": {
    "scrolled": true
   },
   "outputs": [],
   "source": [
    "# %%timeit -n 10 -r 5\n",
    "# # --- Method1: write model ---\n",
    "# ss1 = init_ss(m=1)\n",
    "\n",
    "# %%timeit -n 10 -r 5\n",
    "# # --- Method2: write model ---\n",
    "# ss2 = init_ss(m=2)"
   ]
  }
 ],
 "metadata": {
  "kernelspec": {
   "display_name": "Python3",
   "language": "python",
   "name": "andes"
  },
  "language_info": {
   "codemirror_mode": {
    "name": "ipython",
    "version": 3
   },
   "file_extension": ".py",
   "mimetype": "text/x-python",
   "name": "python",
   "nbconvert_exporter": "python",
   "pygments_lexer": "ipython3",
   "version": "3.9.12"
  },
  "varInspector": {
   "cols": {
    "lenName": 16,
    "lenType": 16,
    "lenVar": 40
   },
   "kernels_config": {
    "python": {
     "delete_cmd_postfix": "",
     "delete_cmd_prefix": "del ",
     "library": "var_list.py",
     "varRefreshCmd": "print(var_dic_list())"
    },
    "r": {
     "delete_cmd_postfix": ") ",
     "delete_cmd_prefix": "rm(",
     "library": "var_list.r",
     "varRefreshCmd": "cat(var_dic_list()) "
    }
   },
   "types_to_exclude": [
    "module",
    "function",
    "builtin_function_or_method",
    "instance",
    "_Feature"
   ],
   "window_display": false
  },
  "vscode": {
   "interpreter": {
    "hash": "a33fa296fbacb8644bc9195ef2d759981fef097b4feb655e1da77ca7517b39c3"
   }
  }
 },
 "nbformat": 4,
 "nbformat_minor": 4
}
