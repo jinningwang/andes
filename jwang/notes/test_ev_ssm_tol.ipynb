{
 "cells": [
  {
   "cell_type": "markdown",
   "metadata": {},
   "source": [
    "# Test EV control"
   ]
  },
  {
   "cell_type": "markdown",
   "metadata": {},
   "source": [
    "Revise the EV control logic as: C->I, I->D, SOC high to low"
   ]
  },
  {
   "cell_type": "code",
   "execution_count": 1,
   "metadata": {},
   "outputs": [],
   "source": [
    "import numpy as np\n",
    "import matplotlib.pyplot as plt\n",
    "import pandas as pd\n",
    "\n",
    "from ev_ssm import ev_ssm\n",
    "from tqdm import tqdm"
   ]
  },
  {
   "cell_type": "code",
   "execution_count": 2,
   "metadata": {},
   "outputs": [
    {
     "name": "stderr",
     "output_type": "stream",
     "text": [
      "EVA: ts=10.4[H], 10000 EVs, Total Q=47.44 MWh\n",
      "Online 1806, Q=45.34 MWh, SoC=0.9764\n",
      "Power(MW): Pt=-0.4726, Pc=-0.4726, Pd=-0.0\n",
      "Ctrl: 0=1727; 1=79; \n",
      "EVA: Load A from Aest.csv.\n"
     ]
    },
    {
     "name": "stdout",
     "output_type": "stream",
     "text": [
      "0\n"
     ]
    },
    {
     "name": "stderr",
     "output_type": "stream",
     "text": [
      "EVA MCS: 100%|██████████| 3/3 [00:01<00:00,  2.73it/s]"
     ]
    },
    {
     "name": "stdout",
     "output_type": "stream",
     "text": [
      "9.345949480155475\n"
     ]
    },
    {
     "name": "stderr",
     "output_type": "stream",
     "text": [
      "\n"
     ]
    }
   ],
   "source": [
    "# --- Response ---\n",
    "\n",
    "sse = ev_ssm(ts=10.4, N=10000, step=1, tp=40,\n",
    "             lr=0.1, lp=40, seed=2022, name=\"EVA\")\n",
    "sse.load_A(\"Aest.csv\")\n",
    "\n",
    "x0 = sse.x0.copy()\n",
    "print(sse.Prc)\n",
    "sse.run(tf=10.4 + 2/3600, Pi=9,\n",
    "        is_updateA=False, is_rstate=True,\n",
    "        is_test=False, disable=False)\n",
    "print(sse.Prc)\n",
    "x1 = sse.x0.copy()"
   ]
  },
  {
   "cell_type": "code",
   "execution_count": 3,
   "metadata": {},
   "outputs": [
    {
     "data": {
      "text/plain": [
       "<BarContainer object of 60 artists>"
      ]
     },
     "execution_count": 3,
     "metadata": {},
     "output_type": "execute_result"
    },
    {
     "data": {
      "image/png": "[encoded data removed]",
      "text/plain": [
       "<Figure size 432x288 with 1 Axes>"
      ]
     },
     "metadata": {
      "needs_background": "light"
     },
     "output_type": "display_data"
    }
   ],
   "source": [
    "plt.bar(range(len(x0)), x0, label=\"x0\")\n",
    "plt.bar(range(len(x0)), x1, label=\"x0\", alpha=0.5)"
   ]
  },
  {
   "cell_type": "code",
   "execution_count": 57,
   "metadata": {},
   "outputs": [],
   "source": []
  },
  {
   "cell_type": "code",
   "execution_count": 69,
   "metadata": {},
   "outputs": [
    {
     "data": {
      "text/plain": [
       "[10.742224638840131, 0.034192757471109135]"
      ]
     },
     "execution_count": 69,
     "metadata": {},
     "output_type": "execute_result"
    }
   ],
   "source": [
    "sse = ev_ssm(ts=10.4, N=10000, step=1, tp=40,\n",
    "             lr=0.1, lp=40, seed=2022, name=\"EVA\",\n",
    "             is_report=False)\n",
    "\n",
    "# historical data\n",
    "ev_num = pd.read_csv(\"ev_num.csv\")\n",
    "\n",
    "# calculate the sf\n",
    "k1 = ev_num['ne'][(ev_num['time'] >= sse.ts) & (ev_num['time'] <= sse.ts+1/12)].mean()\n",
    "k0 = ev_num['ne'][ev_num['time'] >= sse.ts].iloc[0]\n",
    "k = k1 / k0\n",
    "\n",
    "# estiamte FRC\n",
    "sse.g_frc(nea=sse.ne*k)"
   ]
  },
  {
   "cell_type": "code",
   "execution_count": 52,
   "metadata": {},
   "outputs": [],
   "source": [
    "## Run to get the EV numbers within a day\n",
    "\n",
    "# import joblib\n",
    "# from joblib import Parallel, delayed\n",
    "\n",
    "# Nt = 10000\n",
    "# def rne(time):\n",
    "#     sse1 = ev_ssm(ts=time, N=Nt, step=1, tp=40,\n",
    "#                   lr=0.1, lp=60, seed=2022, name=\"EVA\",\n",
    "#                   is_report=False)\n",
    "#     return sse1.ne\n",
    "\n",
    "# # interval by minutes, 24H\n",
    "# rnel = Parallel(n_jobs=joblib.cpu_count())(delayed(rne)(i) for i in np.arange(1/60, 24, 1/60))\n",
    "\n",
    "# ev_num = pd.DataFrame()\n",
    "# ev_num['time'] = np.arange(1/60, 24, 1/60)\n",
    "# ev_num['ne'] = rnel\n",
    "# ev_num.to_csv(\"ev_num.csv\", index=False)"
   ]
  }
 ],
 "metadata": {
  "kernelspec": {
   "display_name": "Python 3.9.12 ('andes')",
   "language": "python",
   "name": "python3"
  },
  "language_info": {
   "codemirror_mode": {
    "name": "ipython",
    "version": 3
   },
   "file_extension": ".py",
   "mimetype": "text/x-python",
   "name": "python",
   "nbconvert_exporter": "python",
   "pygments_lexer": "ipython3",
   "version": "3.9.12"
  },
  "vscode": {
   "interpreter": {
    "hash": "ef6cb5c8d99d66a3614f491d51fd40cd94c9138687df3d2045e3a510da5efc66"
   }
  }
 },
 "nbformat": 4,
 "nbformat_minor": 2
}
