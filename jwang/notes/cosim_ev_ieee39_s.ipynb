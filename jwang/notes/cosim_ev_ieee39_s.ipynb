{
 "cells": [
  {
   "cell_type": "markdown",
   "metadata": {},
   "source": [
    "# RTED-TDS Co-Sim\n",
    "\n",
    "Authored by [Jinning Wang](https://scholar.google.com/citations?user=Wr7nQZAAAAAJ&hl=en&oi=ao), recently updated on 06/06/2022.\n",
    "\n",
    "This notebook is used to implement the Co-Simulation of Real Time Economic Dispatch (RTED) and Time-Domain Simulation (TDS).\n",
    "In the RTED, SFR is considered. In the TDS, AGC is implemented with an equation defined PI controller.\n",
    "\n",
    "RTED is seperated into two DCOPF and ACOPF: 1) DCOPF with SFR is solved in gurobipy, which is packaged into the class ``rted`` in the file ``rted.py``. 2) ACOPF is solved in pandapower.\n",
    "\n",
    "Class ``rted2`` has attributes ``mdl`` which is a gurobipy model.\n",
    "\n",
    "Table of contents:\n",
    "- Import case: import ADNES case\n",
    "- Load synthetic: build load curve as a scalar\n",
    "- Setup ``ssp`` and ``ssd``\n",
    "- Prepare: define some functions\n",
    "- Define param: define RTED loop parameters\n",
    "- Loop: Co-Sim loop\n",
    "\n",
    "List of major vars:\n",
    "\n",
    "- ``ssa`` ANDES system\n",
    "- ``ssp`` pandapower net\n",
    "- ``ssd`` DCOPF instance\n",
    "- ``sse`` EV aggregator\n",
    "\n",
    "Things need to be done when switching to other cases:\n",
    "- Assign generator cost data. The rows of gen_cost array should be the same with the length of ``ssp.gen``\n",
    "  including those uncontrollable ones, so the DCOPF model can build correctly.\n",
    "- Define generator controllability of ``ssp``, all generators are controllable by default\n",
    "- Define power system data: SFR cost, ramp limit (5-min-based)\n",
    "- Define generator type in ``ssd``, default as type I. For type I generator, generator limtis have impact on both generation and SFR capacity. For yype II generator, SFR capacity is determined by param ``pru_max`` and ``prd_max``\n",
    "\n",
    "Environment requirements:\n",
    "- ANDES (1.6.3+)\n",
    "- pandapower (2.7.0 is tested to be function correctly)\n",
    "- gurobipy\n",
    "- pandas, matplotlib, scipy"
   ]
  },
  {
   "cell_type": "markdown",
   "metadata": {},
   "source": [
    "## Import case"
   ]
  },
  {
   "cell_type": "code",
   "execution_count": 1,
   "metadata": {},
   "outputs": [
    {
     "name": "stdout",
     "output_type": "stream",
     "text": [
      "0.post4548.dev0+gc2088dc\n",
      "2.9.0\n"
     ]
    }
   ],
   "source": [
    "%run -i 'cosim_import.py'"
   ]
  },
  {
   "cell_type": "markdown",
   "metadata": {},
   "source": [
    "`caseH` is the start time [H] of the co-simulation, now 10 and 18 are supported."
   ]
  },
  {
   "cell_type": "code",
   "execution_count": 2,
   "metadata": {},
   "outputs": [
    {
     "name": "stderr",
     "output_type": "stream",
     "text": [
      "EVA: ts=18[H], 50000 EVs, Total Q=434.54 MWh\n",
      "Online 14477, Q=362.27 MWh, SoC=0.7435\n",
      "Power(MW): Pt=-39.0266, Pc=-39.0266, Pd=0.0\n",
      "Ctrl: 0=7897; 1=6580; \n",
      "EVA: Load A from Aest.csv.\n"
     ]
    },
    {
     "name": "stdout",
     "output_type": "stream",
     "text": [
      "Generating code for 1 models on 6 processes.\n"
     ]
    }
   ],
   "source": [
    "caseH = 18\n",
    "ict = False\n",
    "ecc = False\n",
    "agc = False\n",
    "\n",
    "%run -i 'cosim_setup_andes.py'"
   ]
  },
  {
   "cell_type": "markdown",
   "metadata": {},
   "source": [
    "## Load synthetic\n",
    "\n",
    "Create load data ``d_syn``, which is a ``DataFrame`` that have three columns: ``time``, ``s10``, ``h10``. ``time`` is by seconds, ``s10`` is scalar load."
   ]
  },
  {
   "cell_type": "code",
   "execution_count": 3,
   "metadata": {
    "scrolled": false
   },
   "outputs": [
    {
     "name": "stdout",
     "output_type": "stream",
     "text": [
      "ANDES total load is: 58.564 p.u.\n"
     ]
    },
    {
     "data": {
      "image/png": "[encoded data removed]",
      "text/plain": [
       "<Figure size 360x288 with 1 Axes>"
      ]
     },
     "metadata": {
      "needs_background": "light"
     },
     "output_type": "display_data"
    }
   ],
   "source": [
    "%run -i 'cosim_loadsyn.py'"
   ]
  },
  {
   "cell_type": "markdown",
   "metadata": {},
   "source": [
    "## Setup ``ssp`` and ``ssd``\n",
    "\n",
    "Convert ``ssa`` to pandapower net ``ssp``, add generator cost\n",
    "\n",
    "The input cost array follow the matpower/pypower format, now only poly_cost is supported"
   ]
  },
  {
   "cell_type": "code",
   "execution_count": 4,
   "metadata": {
    "scrolled": true
   },
   "outputs": [
    {
     "name": "stdout",
     "output_type": "stream",
     "text": [
      "Restricted license - for non-production use only - expires 2023-10-25\n"
     ]
    },
    {
     "name": "stderr",
     "output_type": "stream",
     "text": [
      "RTED GB model is loaded.\n",
      "RTED removed: ['rampu', 'rampd']\n",
      "RTED limited: sfru, sfrd\n",
      "RTED: total cost=4889.131\n"
     ]
    },
    {
     "name": "stdout",
     "output_type": "stream",
     "text": [
      "pp cost=2184.5741560778915, gb cost=4889.131241556355\n"
     ]
    },
    {
     "data": {
      "text/html": [
       "<div>\n",
       "<style scoped>\n",
       "    .dataframe tbody tr th:only-of-type {\n",
       "        vertical-align: middle;\n",
       "    }\n",
       "\n",
       "    .dataframe tbody tr th {\n",
       "        vertical-align: top;\n",
       "    }\n",
       "\n",
       "    .dataframe thead th {\n",
       "        text-align: right;\n",
       "    }\n",
       "</style>\n",
       "<table border=\"1\" class=\"dataframe\">\n",
       "  <thead>\n",
       "    <tr style=\"text-align: right;\">\n",
       "      <th></th>\n",
       "      <th>p_mw</th>\n",
       "      <th>q_mvar</th>\n",
       "      <th>va_degree</th>\n",
       "      <th>vm_pu</th>\n",
       "      <th>p_mw(GB)</th>\n",
       "    </tr>\n",
       "  </thead>\n",
       "  <tbody>\n",
       "    <tr>\n",
       "      <th>0</th>\n",
       "      <td>970.0313</td>\n",
       "      <td>39.9756</td>\n",
       "      <td>15.8831</td>\n",
       "      <td>1.0</td>\n",
       "      <td>970.0312</td>\n",
       "    </tr>\n",
       "    <tr>\n",
       "      <th>1</th>\n",
       "      <td>646.0000</td>\n",
       "      <td>228.9208</td>\n",
       "      <td>2.2281</td>\n",
       "      <td>1.0</td>\n",
       "      <td>646.0000</td>\n",
       "    </tr>\n",
       "    <tr>\n",
       "      <th>2</th>\n",
       "      <td>290.0000</td>\n",
       "      <td>81.0987</td>\n",
       "      <td>-0.8653</td>\n",
       "      <td>1.0</td>\n",
       "      <td>290.0000</td>\n",
       "    </tr>\n",
       "    <tr>\n",
       "      <th>3</th>\n",
       "      <td>652.0000</td>\n",
       "      <td>114.2245</td>\n",
       "      <td>7.2985</td>\n",
       "      <td>1.0</td>\n",
       "      <td>652.0000</td>\n",
       "    </tr>\n",
       "    <tr>\n",
       "      <th>4</th>\n",
       "      <td>508.0000</td>\n",
       "      <td>137.9576</td>\n",
       "      <td>5.4672</td>\n",
       "      <td>1.0</td>\n",
       "      <td>508.0000</td>\n",
       "    </tr>\n",
       "    <tr>\n",
       "      <th>5</th>\n",
       "      <td>646.6875</td>\n",
       "      <td>212.0871</td>\n",
       "      <td>6.4196</td>\n",
       "      <td>1.0</td>\n",
       "      <td>646.6875</td>\n",
       "    </tr>\n",
       "    <tr>\n",
       "      <th>6</th>\n",
       "      <td>232.0000</td>\n",
       "      <td>55.2884</td>\n",
       "      <td>3.4379</td>\n",
       "      <td>1.0</td>\n",
       "      <td>232.0000</td>\n",
       "    </tr>\n",
       "    <tr>\n",
       "      <th>7</th>\n",
       "      <td>564.0000</td>\n",
       "      <td>-59.8950</td>\n",
       "      <td>13.9534</td>\n",
       "      <td>1.0</td>\n",
       "      <td>564.0000</td>\n",
       "    </tr>\n",
       "    <tr>\n",
       "      <th>8</th>\n",
       "      <td>865.0000</td>\n",
       "      <td>99.7532</td>\n",
       "      <td>18.9462</td>\n",
       "      <td>1.0</td>\n",
       "      <td>865.0000</td>\n",
       "    </tr>\n",
       "    <tr>\n",
       "      <th>9</th>\n",
       "      <td>30.0000</td>\n",
       "      <td>0.0000</td>\n",
       "      <td>18.9462</td>\n",
       "      <td>1.0</td>\n",
       "      <td>30.0000</td>\n",
       "    </tr>\n",
       "    <tr>\n",
       "      <th>10</th>\n",
       "      <td>452.6813</td>\n",
       "      <td>-332.1988</td>\n",
       "      <td>0.0000</td>\n",
       "      <td>1.0</td>\n",
       "      <td>452.6813</td>\n",
       "    </tr>\n",
       "  </tbody>\n",
       "</table>\n",
       "</div>"
      ],
      "text/plain": [
       "        p_mw    q_mvar  va_degree  vm_pu  p_mw(GB)\n",
       "0   970.0313   39.9756    15.8831    1.0  970.0312\n",
       "1   646.0000  228.9208     2.2281    1.0  646.0000\n",
       "2   290.0000   81.0987    -0.8653    1.0  290.0000\n",
       "3   652.0000  114.2245     7.2985    1.0  652.0000\n",
       "4   508.0000  137.9576     5.4672    1.0  508.0000\n",
       "5   646.6875  212.0871     6.4196    1.0  646.6875\n",
       "6   232.0000   55.2884     3.4379    1.0  232.0000\n",
       "7   564.0000  -59.8950    13.9534    1.0  564.0000\n",
       "8   865.0000   99.7532    18.9462    1.0  865.0000\n",
       "9    30.0000    0.0000    18.9462    1.0   30.0000\n",
       "10  452.6813 -332.1988     0.0000    1.0  452.6813"
      ]
     },
     "execution_count": 4,
     "metadata": {},
     "output_type": "execute_result"
    }
   ],
   "source": [
    "%run -i 'cosim_setup_dispatch.py'\n",
    "dc_comp.round(4)"
   ]
  },
  {
   "cell_type": "markdown",
   "metadata": {},
   "source": [
    "## Prepare"
   ]
  },
  {
   "cell_type": "markdown",
   "metadata": {},
   "source": [
    "### Make link table"
   ]
  },
  {
   "cell_type": "code",
   "execution_count": 5,
   "metadata": {
    "scrolled": true
   },
   "outputs": [
    {
     "data": {
      "text/html": [
       "<div>\n",
       "<style scoped>\n",
       "    .dataframe tbody tr th:only-of-type {\n",
       "        vertical-align: middle;\n",
       "    }\n",
       "\n",
       "    .dataframe tbody tr th {\n",
       "        vertical-align: top;\n",
       "    }\n",
       "\n",
       "    .dataframe thead th {\n",
       "        text-align: right;\n",
       "    }\n",
       "</style>\n",
       "<table border=\"1\" class=\"dataframe\">\n",
       "  <thead>\n",
       "    <tr style=\"text-align: right;\">\n",
       "      <th></th>\n",
       "      <th>stg_name</th>\n",
       "      <th>stg_u</th>\n",
       "      <th>stg_idx</th>\n",
       "      <th>bus_idx</th>\n",
       "      <th>dg_idx</th>\n",
       "      <th>rg_idx</th>\n",
       "      <th>rexc_idx</th>\n",
       "      <th>syg_idx</th>\n",
       "      <th>exc_idx</th>\n",
       "      <th>gov_idx</th>\n",
       "      <th>bus_name</th>\n",
       "      <th>gammap</th>\n",
       "      <th>gammaq</th>\n",
       "      <th>gen_pp</th>\n",
       "      <th>ctrl</th>\n",
       "    </tr>\n",
       "  </thead>\n",
       "  <tbody>\n",
       "    <tr>\n",
       "      <th>0</th>\n",
       "      <td>PV_1</td>\n",
       "      <td>1.0</td>\n",
       "      <td>PV_1</td>\n",
       "      <td>30</td>\n",
       "      <td>False</td>\n",
       "      <td>False</td>\n",
       "      <td>False</td>\n",
       "      <td>GENROU_1</td>\n",
       "      <td>IEEEX1_1</td>\n",
       "      <td>TGOV1_1</td>\n",
       "      <td>GEN30</td>\n",
       "      <td>1.0</td>\n",
       "      <td>1.0</td>\n",
       "      <td>0</td>\n",
       "      <td>True</td>\n",
       "    </tr>\n",
       "    <tr>\n",
       "      <th>1</th>\n",
       "      <td>PV_2</td>\n",
       "      <td>1.0</td>\n",
       "      <td>PV_2</td>\n",
       "      <td>31</td>\n",
       "      <td>False</td>\n",
       "      <td>False</td>\n",
       "      <td>False</td>\n",
       "      <td>GENROU_2</td>\n",
       "      <td>IEEEX1_2</td>\n",
       "      <td>TGOV1_2</td>\n",
       "      <td>GEN31</td>\n",
       "      <td>1.0</td>\n",
       "      <td>1.0</td>\n",
       "      <td>1</td>\n",
       "      <td>True</td>\n",
       "    </tr>\n",
       "    <tr>\n",
       "      <th>2</th>\n",
       "      <td>PV_3</td>\n",
       "      <td>1.0</td>\n",
       "      <td>PV_3</td>\n",
       "      <td>32</td>\n",
       "      <td>False</td>\n",
       "      <td>False</td>\n",
       "      <td>False</td>\n",
       "      <td>GENROU_3</td>\n",
       "      <td>IEEEX1_3</td>\n",
       "      <td>TGOV1_3</td>\n",
       "      <td>GEN32</td>\n",
       "      <td>1.0</td>\n",
       "      <td>1.0</td>\n",
       "      <td>2</td>\n",
       "      <td>True</td>\n",
       "    </tr>\n",
       "    <tr>\n",
       "      <th>3</th>\n",
       "      <td>PV_4</td>\n",
       "      <td>1.0</td>\n",
       "      <td>PV_4</td>\n",
       "      <td>33</td>\n",
       "      <td>False</td>\n",
       "      <td>False</td>\n",
       "      <td>False</td>\n",
       "      <td>GENROU_4</td>\n",
       "      <td>IEEEX1_4</td>\n",
       "      <td>TGOV1_4</td>\n",
       "      <td>GEN33</td>\n",
       "      <td>1.0</td>\n",
       "      <td>1.0</td>\n",
       "      <td>3</td>\n",
       "      <td>True</td>\n",
       "    </tr>\n",
       "    <tr>\n",
       "      <th>4</th>\n",
       "      <td>PV_5</td>\n",
       "      <td>1.0</td>\n",
       "      <td>PV_5</td>\n",
       "      <td>34</td>\n",
       "      <td>False</td>\n",
       "      <td>False</td>\n",
       "      <td>False</td>\n",
       "      <td>GENROU_5</td>\n",
       "      <td>IEEEX1_5</td>\n",
       "      <td>TGOV1_5</td>\n",
       "      <td>GEN34</td>\n",
       "      <td>1.0</td>\n",
       "      <td>1.0</td>\n",
       "      <td>4</td>\n",
       "      <td>True</td>\n",
       "    </tr>\n",
       "    <tr>\n",
       "      <th>5</th>\n",
       "      <td>PV_6</td>\n",
       "      <td>1.0</td>\n",
       "      <td>PV_6</td>\n",
       "      <td>35</td>\n",
       "      <td>False</td>\n",
       "      <td>False</td>\n",
       "      <td>False</td>\n",
       "      <td>GENROU_6</td>\n",
       "      <td>IEEEX1_6</td>\n",
       "      <td>TGOV1_6</td>\n",
       "      <td>GEN35</td>\n",
       "      <td>1.0</td>\n",
       "      <td>1.0</td>\n",
       "      <td>5</td>\n",
       "      <td>True</td>\n",
       "    </tr>\n",
       "    <tr>\n",
       "      <th>6</th>\n",
       "      <td>PV_7</td>\n",
       "      <td>1.0</td>\n",
       "      <td>PV_7</td>\n",
       "      <td>36</td>\n",
       "      <td>False</td>\n",
       "      <td>False</td>\n",
       "      <td>False</td>\n",
       "      <td>GENROU_7</td>\n",
       "      <td>IEEEX1_7</td>\n",
       "      <td>TGOV1_7</td>\n",
       "      <td>GEN36</td>\n",
       "      <td>1.0</td>\n",
       "      <td>1.0</td>\n",
       "      <td>6</td>\n",
       "      <td>True</td>\n",
       "    </tr>\n",
       "    <tr>\n",
       "      <th>7</th>\n",
       "      <td>PV_8</td>\n",
       "      <td>1.0</td>\n",
       "      <td>PV_8</td>\n",
       "      <td>37</td>\n",
       "      <td>False</td>\n",
       "      <td>False</td>\n",
       "      <td>False</td>\n",
       "      <td>GENROU_8</td>\n",
       "      <td>IEEEX1_8</td>\n",
       "      <td>TGOV1_8</td>\n",
       "      <td>GEN37</td>\n",
       "      <td>1.0</td>\n",
       "      <td>1.0</td>\n",
       "      <td>7</td>\n",
       "      <td>True</td>\n",
       "    </tr>\n",
       "    <tr>\n",
       "      <th>8</th>\n",
       "      <td>PV_9</td>\n",
       "      <td>1.0</td>\n",
       "      <td>PV_9</td>\n",
       "      <td>38</td>\n",
       "      <td>False</td>\n",
       "      <td>False</td>\n",
       "      <td>False</td>\n",
       "      <td>GENROU_9</td>\n",
       "      <td>IEEEX1_9</td>\n",
       "      <td>TGOV1_9</td>\n",
       "      <td>GEN38</td>\n",
       "      <td>1.0</td>\n",
       "      <td>1.0</td>\n",
       "      <td>8</td>\n",
       "      <td>True</td>\n",
       "    </tr>\n",
       "    <tr>\n",
       "      <th>9</th>\n",
       "      <td>Slack_10</td>\n",
       "      <td>1.0</td>\n",
       "      <td>Slack_10</td>\n",
       "      <td>39</td>\n",
       "      <td>False</td>\n",
       "      <td>False</td>\n",
       "      <td>False</td>\n",
       "      <td>GENROU_10</td>\n",
       "      <td>IEEEX1_10</td>\n",
       "      <td>TGOV1_10</td>\n",
       "      <td>GEN39</td>\n",
       "      <td>1.0</td>\n",
       "      <td>1.0</td>\n",
       "      <td>10</td>\n",
       "      <td>True</td>\n",
       "    </tr>\n",
       "    <tr>\n",
       "      <th>10</th>\n",
       "      <td>PV_10</td>\n",
       "      <td>1.0</td>\n",
       "      <td>PV_10</td>\n",
       "      <td>38</td>\n",
       "      <td>EV_1</td>\n",
       "      <td>False</td>\n",
       "      <td>False</td>\n",
       "      <td>False</td>\n",
       "      <td>False</td>\n",
       "      <td>False</td>\n",
       "      <td>GEN38</td>\n",
       "      <td>1.0</td>\n",
       "      <td>1.0</td>\n",
       "      <td>9</td>\n",
       "      <td>False</td>\n",
       "    </tr>\n",
       "  </tbody>\n",
       "</table>\n",
       "</div>"
      ],
      "text/plain": [
       "    stg_name  stg_u   stg_idx  bus_idx dg_idx  rg_idx  rexc_idx    syg_idx  \\\n",
       "0       PV_1    1.0      PV_1       30  False   False     False   GENROU_1   \n",
       "1       PV_2    1.0      PV_2       31  False   False     False   GENROU_2   \n",
       "2       PV_3    1.0      PV_3       32  False   False     False   GENROU_3   \n",
       "3       PV_4    1.0      PV_4       33  False   False     False   GENROU_4   \n",
       "4       PV_5    1.0      PV_5       34  False   False     False   GENROU_5   \n",
       "5       PV_6    1.0      PV_6       35  False   False     False   GENROU_6   \n",
       "6       PV_7    1.0      PV_7       36  False   False     False   GENROU_7   \n",
       "7       PV_8    1.0      PV_8       37  False   False     False   GENROU_8   \n",
       "8       PV_9    1.0      PV_9       38  False   False     False   GENROU_9   \n",
       "9   Slack_10    1.0  Slack_10       39  False   False     False  GENROU_10   \n",
       "10     PV_10    1.0     PV_10       38   EV_1   False     False      False   \n",
       "\n",
       "      exc_idx   gov_idx bus_name  gammap  gammaq  gen_pp   ctrl  \n",
       "0    IEEEX1_1   TGOV1_1    GEN30     1.0     1.0       0   True  \n",
       "1    IEEEX1_2   TGOV1_2    GEN31     1.0     1.0       1   True  \n",
       "2    IEEEX1_3   TGOV1_3    GEN32     1.0     1.0       2   True  \n",
       "3    IEEEX1_4   TGOV1_4    GEN33     1.0     1.0       3   True  \n",
       "4    IEEEX1_5   TGOV1_5    GEN34     1.0     1.0       4   True  \n",
       "5    IEEEX1_6   TGOV1_6    GEN35     1.0     1.0       5   True  \n",
       "6    IEEEX1_7   TGOV1_7    GEN36     1.0     1.0       6   True  \n",
       "7    IEEEX1_8   TGOV1_8    GEN37     1.0     1.0       7   True  \n",
       "8    IEEEX1_9   TGOV1_9    GEN38     1.0     1.0       8   True  \n",
       "9   IEEEX1_10  TGOV1_10    GEN39     1.0     1.0      10   True  \n",
       "10      False     False    GEN38     1.0     1.0       9  False  "
      ]
     },
     "execution_count": 5,
     "metadata": {},
     "output_type": "execute_result"
    }
   ],
   "source": [
    "%run -i 'cosim_linktable.py'\n",
    "ssa_key2"
   ]
  },
  {
   "cell_type": "markdown",
   "metadata": {},
   "source": [
    "## Loop\n",
    "\n",
    "In the loop, there are mainly X parts:\n",
    "\n",
    "- interval RTED: run DCOPF (``ssd.mdl``), run ACOPF(``ssp``), \n",
    "\n",
    "- interval AGC: do AGC, do dispatch with smooth setpoints\n",
    "\n",
    "- interval PQ: alter load, run TDS(``ssa.TDS``)\n",
    "\n",
    "Notes:\n",
    "\n",
    "- The setpoints for DG are coded but not verified yet.\n",
    "\n",
    "- After the development of ANDES control room, the dispatch and AGC part can be refactored.\n",
    "\n",
    "- interface variables: ``DG.pmx``: DPV profile, ``DG.pref0``: setpoints, ``DG.pext0``: AGC\n",
    "\n",
    "- ACOPF in pandapower considered generator limtis of ramping and SFR reserve"
   ]
  },
  {
   "cell_type": "code",
   "execution_count": 6,
   "metadata": {},
   "outputs": [],
   "source": [
    "# Change ``rru``, ``rrd``, ``rsfr``, ``t_total`` for necessary.\n",
    "t_total = 3600\n",
    "\n",
    "rru, rrd, rsfr = 0.0, 0.0, 0.05\n",
    "\n",
    "# Define functions and constants used in loop\n",
    "%run -i 'cosim_const.py'"
   ]
  },
  {
   "cell_type": "markdown",
   "metadata": {},
   "source": [
    "Check convergence"
   ]
  },
  {
   "cell_type": "code",
   "execution_count": 7,
   "metadata": {
    "scrolled": true
   },
   "outputs": [],
   "source": [
    "# %run -i 'cosim_bmain.py'"
   ]
  },
  {
   "cell_type": "markdown",
   "metadata": {},
   "source": [
    "Loop"
   ]
  },
  {
   "cell_type": "code",
   "execution_count": null,
   "metadata": {
    "scrolled": false
   },
   "outputs": [
    {
     "name": "stderr",
     "output_type": "stream",
     "text": [
      "  0%|                                                          | 0/3600 [00:00<?, ?it/s]RTED GB model is loaded.\n",
      "RTED removed: ['rampu', 'rampd']\n",
      "RTED is solved.\n",
      "RTED: total cost=4660.003\n",
      "  8%|████                                            | 300/3600 [00:58<11:51,  4.64it/s]RTED GB model is loaded.\n",
      "RTED is solved.\n",
      "RTED: total cost=4661.806\n",
      " 17%|████████                                        | 600/3600 [02:21<15:35,  3.21it/s]RTED GB model is loaded.\n",
      "RTED is solved.\n",
      "RTED: total cost=4684.579\n",
      " 25%|████████████                                    | 900/3600 [04:19<20:23,  2.21it/s]RTED GB model is loaded.\n",
      "RTED is solved.\n",
      "RTED: total cost=4701.647\n",
      " 33%|███████████████▋                               | 1200/3600 [06:55<23:11,  1.72it/s]RTED GB model is loaded.\n",
      "RTED is solved.\n",
      "RTED: total cost=4707.302\n",
      " 42%|███████████████████▌                           | 1500/3600 [10:22<25:54,  1.35it/s]RTED GB model is loaded.\n",
      "RTED is solved.\n",
      "RTED: total cost=4710.702\n",
      " 46%|█████████████████████▋                         | 1661/3600 [12:32<27:56,  1.16it/s]"
     ]
    }
   ],
   "source": [
    "%run -i 'cosim_main.py'"
   ]
  },
  {
   "cell_type": "code",
   "execution_count": null,
   "metadata": {},
   "outputs": [],
   "source": [
    "ssa.exit_code"
   ]
  },
  {
   "cell_type": "code",
   "execution_count": null,
   "metadata": {},
   "outputs": [],
   "source": [
    "sse.plot_agc(style='ieee')"
   ]
  },
  {
   "cell_type": "code",
   "execution_count": null,
   "metadata": {
    "scrolled": false
   },
   "outputs": [],
   "source": [
    "%run -i 'cosim_plot.py'"
   ]
  },
  {
   "cell_type": "code",
   "execution_count": null,
   "metadata": {},
   "outputs": [],
   "source": [
    "# --- save output ---\n",
    "file_beging = 'cosim_'\n",
    "sim_name = 'ieee39_s'\n",
    "\n",
    "cosim_out.to_csv(file_beging + sim_name + '_out.csv', index=False)\n",
    "sse_out.to_csv(file_beging + sim_name + '_sse.csv', index=False)\n",
    "bu_df.to_csv(file_beging + sim_name + '_bu.csv', index=False)\n",
    "bd_df.to_csv(file_beging + sim_name + '_bd.csv', index=False)\n",
    "pg_df.to_csv(file_beging + sim_name + '_pg.csv', index=False)\n",
    "agc_mile.to_csv(file_beging + sim_name + '_agcm.csv', index=False)\n",
    "sfr_res.to_csv(file_beging + sim_name + '_sfr.csv', index=False)\n",
    "ev_agc.to_csv(file_beging + sim_name + '_evagc.csv', index=False)\n",
    "ev_soc.iloc[0:800].to_csv(file_beging + sim_name + '_evsoc1.csv', index=False)\n",
    "ev_soc.iloc[800:].to_csv(file_beging + sim_name + '_evsoc2.csv', index=False)\n",
    "sse.ev.to_csv(file_beging + sim_name + '_evdata.csv', index=False)\n",
    "\n",
    "import csv\n",
    "new_path = open(file_beging + sim_name + '_rted.csv', 'w')\n",
    "z = csv.writer(new_path)\n",
    "for new_k, new_v in rted_res.items():\n",
    "    z.writerow([new_k, new_v])\n",
    "new_path.close()"
   ]
  }
 ],
 "metadata": {
  "kernelspec": {
   "display_name": "Python3",
   "language": "python",
   "name": "andes"
  },
  "language_info": {
   "codemirror_mode": {
    "name": "ipython",
    "version": 3
   },
   "file_extension": ".py",
   "mimetype": "text/x-python",
   "name": "python",
   "nbconvert_exporter": "python",
   "pygments_lexer": "ipython3",
   "version": "3.9.13"
  },
  "varInspector": {
   "cols": {
    "lenName": 16,
    "lenType": 16,
    "lenVar": 40
   },
   "kernels_config": {
    "python": {
     "delete_cmd_postfix": "",
     "delete_cmd_prefix": "del ",
     "library": "var_list.py",
     "varRefreshCmd": "print(var_dic_list())"
    },
    "r": {
     "delete_cmd_postfix": ") ",
     "delete_cmd_prefix": "rm(",
     "library": "var_list.r",
     "varRefreshCmd": "cat(var_dic_list()) "
    }
   },
   "types_to_exclude": [
    "module",
    "function",
    "builtin_function_or_method",
    "instance",
    "_Feature"
   ],
   "window_display": false
  },
  "vscode": {
   "interpreter": {
    "hash": "ef6cb5c8d99d66a3614f491d51fd40cd94c9138687df3d2045e3a510da5efc66"
   }
  }
 },
 "nbformat": 4,
 "nbformat_minor": 4
}
