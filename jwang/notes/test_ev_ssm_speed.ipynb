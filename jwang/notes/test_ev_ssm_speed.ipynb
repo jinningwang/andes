{
 "cells": [
  {
   "cell_type": "markdown",
   "metadata": {},
   "source": [
    "# Test EV control"
   ]
  },
  {
   "cell_type": "code",
   "execution_count": 1,
   "metadata": {},
   "outputs": [],
   "source": [
    "import numpy as np\n",
    "import matplotlib.pyplot as plt\n",
    "import pandas as pd\n",
    "\n",
    "from ev_ssm import ev_ssm\n",
    "from tqdm import tqdm\n",
    "import scipy.stats as stats"
   ]
  },
  {
   "cell_type": "code",
   "execution_count": 2,
   "metadata": {},
   "outputs": [],
   "source": [
    "# manually search perceptron hyperparameters for binary classification\n",
    "import cProfile as profile\n",
    "import pstats"
   ]
  },
  {
   "cell_type": "code",
   "execution_count": 5,
   "metadata": {},
   "outputs": [
    {
     "name": "stderr",
     "output_type": "stream",
     "text": [
      "EVA: ts=18[H], 50000 EVs, Total Q=434.54 MWh\n",
      "Online 14477, Q=362.27 MWh, SoC=0.7435\n",
      "Power(MW): Pt=-39.0266, Pc=-39.0266, Pd=-0.0\n",
      "Ctrl: 0=7897; 1=6580; \n",
      "EVA: Load A from Aest.csv.\n"
     ]
    }
   ],
   "source": [
    "sse0 = ev_ssm(ts=18, N=50000, step=1, tp=40,\n",
    "              lr=0.1, lp=40, seed=2022, name=\"EVA\",\n",
    "              n_pref=1, is_report=True,\n",
    "              tt_mean=0.5, tt_var=0.2, tt_lb=0, tt_ub=1,\n",
    "              ict=True, ecc=True)\n",
    "sse0.load_A(\"Aest.csv\")\n"
   ]
  },
  {
   "cell_type": "code",
   "execution_count": 6,
   "metadata": {},
   "outputs": [
    {
     "data": {
      "text/plain": [
       "<AxesSubplot:>"
      ]
     },
     "execution_count": 6,
     "metadata": {},
     "output_type": "execute_result"
    },
    {
     "data": {
      "image/png": "[encoded data removed]",
      "text/plain": [
       "<Figure size 432x288 with 1 Axes>"
      ]
     },
     "metadata": {
      "needs_background": "light"
     },
     "output_type": "display_data"
    }
   ],
   "source": [
    "sse0.ev['nam'].hist()\n",
    "sse0.ev['na'].hist()"
   ]
  },
  {
   "cell_type": "code",
   "execution_count": 13,
   "metadata": {},
   "outputs": [
    {
     "name": "stderr",
     "output_type": "stream",
     "text": [
      "EVA: ts=18[H], 50000 EVs, Total Q=434.54 MWh\n",
      "Online 14477, Q=362.27 MWh, SoC=0.7435\n",
      "Power(MW): Pt=-39.0266, Pc=-39.0266, Pd=-0.0\n",
      "Ctrl: 0=7897; 1=6580; \n",
      "EVA: Load A from Aest.csv.\n"
     ]
    },
    {
     "data": {
      "text/plain": [
       "[122.78930010102349, 28.573280642779835]"
      ]
     },
     "execution_count": 13,
     "metadata": {},
     "output_type": "execute_result"
    }
   ],
   "source": [
    "# --- Response ---\n",
    "from ev_ssm import ev_ssm\n",
    "import numpy as np\n",
    "\n",
    "sse = ev_ssm(ts=18, N=50000, step=1, tp=40,\n",
    "             lr=0.1, lp=40, seed=2022, name=\"EVA\",\n",
    "             n_pref=1, is_report=True,\n",
    "             tt_mean=0.5, tt_var=0.2, tt_lb=0, tt_ub=1,\n",
    "             ict=False, ecc=True)\n",
    "sse.load_A(\"Aest.csv\")\n",
    "\n",
    "evd0 = sse.ev.copy()\n",
    "\n",
    "# quiet some EVs by force\n",
    "# np.random.seed(sse.config[\"seed\"])\n",
    "# ict_rid = np.random.randint(low=0,\n",
    "#                             high=sse.ev.shape[0],\n",
    "#                             size=3000)\n",
    "\n",
    "# sse.ev.na.iloc[ict_rid] = sse.ev.nam.iloc[ict_rid]\n",
    "# sse.ev.lc.iloc[ict_rid] = 1\n",
    "# sse.g_u()\n",
    "\n",
    "# initial EV data\n",
    "evd0 = sse.ev.copy()\n",
    "\n",
    "sse.g_frc()\n"
   ]
  },
  {
   "cell_type": "code",
   "execution_count": 14,
   "metadata": {},
   "outputs": [],
   "source": [
    "sse.run(tf=18 + 100/3600, Pi=0,\n",
    "        is_updateA=False, is_rstate=True,\n",
    "        is_test=False, disable=True)"
   ]
  },
  {
   "cell_type": "code",
   "execution_count": 18,
   "metadata": {},
   "outputs": [
    {
     "data": {
      "text/html": [
       "<div>\n",
       "<style scoped>\n",
       "    .dataframe tbody tr th:only-of-type {\n",
       "        vertical-align: middle;\n",
       "    }\n",
       "\n",
       "    .dataframe tbody tr th {\n",
       "        vertical-align: top;\n",
       "    }\n",
       "\n",
       "    .dataframe thead th {\n",
       "        text-align: right;\n",
       "    }\n",
       "</style>\n",
       "<table border=\"1\" class=\"dataframe\">\n",
       "  <thead>\n",
       "    <tr style=\"text-align: right;\">\n",
       "      <th></th>\n",
       "      <th>u</th>\n",
       "      <th>c</th>\n",
       "      <th>tf</th>\n",
       "      <th>agc</th>\n",
       "      <th>soci</th>\n",
       "      <th>soc0</th>\n",
       "      <th>soc</th>\n",
       "      <th>socd</th>\n",
       "      <th>na</th>\n",
       "      <th>nam</th>\n",
       "    </tr>\n",
       "  </thead>\n",
       "  <tbody>\n",
       "    <tr>\n",
       "      <th>0</th>\n",
       "      <td>1</td>\n",
       "      <td>1</td>\n",
       "      <td>22.835788</td>\n",
       "      <td>0</td>\n",
       "      <td>0.257300</td>\n",
       "      <td>0.712835</td>\n",
       "      <td>0.718536</td>\n",
       "      <td>0.772808</td>\n",
       "      <td>330</td>\n",
       "      <td>3358</td>\n",
       "    </tr>\n",
       "    <tr>\n",
       "      <th>1</th>\n",
       "      <td>1</td>\n",
       "      <td>1</td>\n",
       "      <td>22.684267</td>\n",
       "      <td>0</td>\n",
       "      <td>0.213240</td>\n",
       "      <td>0.658368</td>\n",
       "      <td>0.662942</td>\n",
       "      <td>0.738327</td>\n",
       "      <td>132</td>\n",
       "      <td>2879</td>\n",
       "    </tr>\n",
       "    <tr>\n",
       "      <th>2</th>\n",
       "      <td>1</td>\n",
       "      <td>1</td>\n",
       "      <td>23.332401</td>\n",
       "      <td>0</td>\n",
       "      <td>0.297218</td>\n",
       "      <td>0.367779</td>\n",
       "      <td>0.373147</td>\n",
       "      <td>0.798253</td>\n",
       "      <td>0</td>\n",
       "      <td>2897</td>\n",
       "    </tr>\n",
       "    <tr>\n",
       "      <th>3</th>\n",
       "      <td>1</td>\n",
       "      <td>1</td>\n",
       "      <td>22.821242</td>\n",
       "      <td>0</td>\n",
       "      <td>0.319784</td>\n",
       "      <td>0.798007</td>\n",
       "      <td>0.803867</td>\n",
       "      <td>0.812458</td>\n",
       "      <td>588</td>\n",
       "      <td>2977</td>\n",
       "    </tr>\n",
       "    <tr>\n",
       "      <th>4</th>\n",
       "      <td>1</td>\n",
       "      <td>0</td>\n",
       "      <td>21.308079</td>\n",
       "      <td>0</td>\n",
       "      <td>0.309908</td>\n",
       "      <td>1.000000</td>\n",
       "      <td>0.995000</td>\n",
       "      <td>0.806227</td>\n",
       "      <td>3424</td>\n",
       "      <td>2734</td>\n",
       "    </tr>\n",
       "    <tr>\n",
       "      <th>...</th>\n",
       "      <td>...</td>\n",
       "      <td>...</td>\n",
       "      <td>...</td>\n",
       "      <td>...</td>\n",
       "      <td>...</td>\n",
       "      <td>...</td>\n",
       "      <td>...</td>\n",
       "      <td>...</td>\n",
       "      <td>...</td>\n",
       "      <td>...</td>\n",
       "    </tr>\n",
       "    <tr>\n",
       "      <th>17368</th>\n",
       "      <td>1</td>\n",
       "      <td>1</td>\n",
       "      <td>23.382178</td>\n",
       "      <td>0</td>\n",
       "      <td>0.381781</td>\n",
       "      <td>0.423124</td>\n",
       "      <td>0.431257</td>\n",
       "      <td>0.856442</td>\n",
       "      <td>0</td>\n",
       "      <td>3694</td>\n",
       "    </tr>\n",
       "    <tr>\n",
       "      <th>17369</th>\n",
       "      <td>0</td>\n",
       "      <td>0</td>\n",
       "      <td>23.468796</td>\n",
       "      <td>0</td>\n",
       "      <td>0.265367</td>\n",
       "      <td>0.265367</td>\n",
       "      <td>0.265367</td>\n",
       "      <td>0.778061</td>\n",
       "      <td>0</td>\n",
       "      <td>3311</td>\n",
       "    </tr>\n",
       "    <tr>\n",
       "      <th>17370</th>\n",
       "      <td>1</td>\n",
       "      <td>1</td>\n",
       "      <td>23.098284</td>\n",
       "      <td>0</td>\n",
       "      <td>0.254236</td>\n",
       "      <td>0.517518</td>\n",
       "      <td>0.523112</td>\n",
       "      <td>0.770784</td>\n",
       "      <td>0</td>\n",
       "      <td>3358</td>\n",
       "    </tr>\n",
       "    <tr>\n",
       "      <th>17371</th>\n",
       "      <td>1</td>\n",
       "      <td>0</td>\n",
       "      <td>22.352976</td>\n",
       "      <td>0</td>\n",
       "      <td>0.322182</td>\n",
       "      <td>0.891676</td>\n",
       "      <td>0.891676</td>\n",
       "      <td>0.813977</td>\n",
       "      <td>1487</td>\n",
       "      <td>2810</td>\n",
       "    </tr>\n",
       "    <tr>\n",
       "      <th>17372</th>\n",
       "      <td>0</td>\n",
       "      <td>0</td>\n",
       "      <td>23.525878</td>\n",
       "      <td>0</td>\n",
       "      <td>0.247875</td>\n",
       "      <td>0.247875</td>\n",
       "      <td>0.247875</td>\n",
       "      <td>0.766512</td>\n",
       "      <td>0</td>\n",
       "      <td>3628</td>\n",
       "    </tr>\n",
       "  </tbody>\n",
       "</table>\n",
       "<p>17373 rows × 10 columns</p>\n",
       "</div>"
      ],
      "text/plain": [
       "       u  c         tf  agc      soci      soc0       soc      socd    na  \\\n",
       "0      1  1  22.835788    0  0.257300  0.712835  0.718536  0.772808   330   \n",
       "1      1  1  22.684267    0  0.213240  0.658368  0.662942  0.738327   132   \n",
       "2      1  1  23.332401    0  0.297218  0.367779  0.373147  0.798253     0   \n",
       "3      1  1  22.821242    0  0.319784  0.798007  0.803867  0.812458   588   \n",
       "4      1  0  21.308079    0  0.309908  1.000000  0.995000  0.806227  3424   \n",
       "...   .. ..        ...  ...       ...       ...       ...       ...   ...   \n",
       "17368  1  1  23.382178    0  0.381781  0.423124  0.431257  0.856442     0   \n",
       "17369  0  0  23.468796    0  0.265367  0.265367  0.265367  0.778061     0   \n",
       "17370  1  1  23.098284    0  0.254236  0.517518  0.523112  0.770784     0   \n",
       "17371  1  0  22.352976    0  0.322182  0.891676  0.891676  0.813977  1487   \n",
       "17372  0  0  23.525878    0  0.247875  0.247875  0.247875  0.766512     0   \n",
       "\n",
       "        nam  \n",
       "0      3358  \n",
       "1      2879  \n",
       "2      2897  \n",
       "3      2977  \n",
       "4      2734  \n",
       "...     ...  \n",
       "17368  3694  \n",
       "17369  3311  \n",
       "17370  3358  \n",
       "17371  2810  \n",
       "17372  3628  \n",
       "\n",
       "[17373 rows x 10 columns]"
      ]
     },
     "execution_count": 18,
     "metadata": {},
     "output_type": "execute_result"
    }
   ],
   "source": [
    "col = [\"u\", \"c\", \"tf\", \"agc\", \"soci\", \"soc0\", \"soc\", \"socd\", \"na\", \"nam\"]\n",
    "sse.ev[col]"
   ]
  },
  {
   "cell_type": "code",
   "execution_count": 15,
   "metadata": {},
   "outputs": [
    {
     "data": {
      "text/plain": [
       "(<Figure size 600x300 with 1 Axes>,\n",
       " <AxesSubplot:title={'center':'AGC response'}, xlabel='Time [s]', ylabel='Power (MW)'>)"
      ]
     },
     "execution_count": 15,
     "metadata": {},
     "output_type": "execute_result"
    },
    {
     "data": {
      "image/png": "[encoded data removed]",
      "text/plain": [
       "<Figure size 600x300 with 1 Axes>"
      ]
     },
     "metadata": {},
     "output_type": "display_data"
    }
   ],
   "source": [
    "sse.plot_agc()"
   ]
  },
  {
   "cell_type": "code",
   "execution_count": 7,
   "metadata": {},
   "outputs": [
    {
     "name": "stderr",
     "output_type": "stream",
     "text": [
      "EVA: end time 18.0[H] is too close to start time 18[H],simulation will not start.\n"
     ]
    }
   ],
   "source": [
    "prof = profile.Profile()\n",
    "prof.enable()\n",
    "for i in range(20):\n",
    "        sse.run(tf=18 + i/3600, Pi=0.5*i,\n",
    "                is_updateA=False, is_rstate=True,\n",
    "                is_test=False, disable=True)\n",
    "for i in range(20):\n",
    "        sse.run(tf=18 + (20 + i)/3600, Pi=10 - 0.5*i,\n",
    "                is_updateA=False, is_rstate=True,\n",
    "                is_test=False, disable=True)\n",
    "prof.disable()"
   ]
  },
  {
   "cell_type": "code",
   "execution_count": 8,
   "metadata": {},
   "outputs": [
    {
     "data": {
      "text/plain": [
       "(<Figure size 600x300 with 1 Axes>,\n",
       " <AxesSubplot:title={'center':'AGC response'}, xlabel='Time [s]', ylabel='Power (MW)'>)"
      ]
     },
     "execution_count": 8,
     "metadata": {},
     "output_type": "execute_result"
    },
    {
     "data": {
      "image/png": "[encoded data removed]",
      "text/plain": [
       "<Figure size 600x300 with 1 Axes>"
      ]
     },
     "metadata": {},
     "output_type": "display_data"
    }
   ],
   "source": [
    "sse.plot_agc()"
   ]
  },
  {
   "cell_type": "code",
   "execution_count": null,
   "metadata": {},
   "outputs": [],
   "source": [
    "import time\n",
    "tl = []\n",
    "n = 10000\n",
    "for i in range(n):\n",
    "    t0 = time.time()\n",
    "    idx = sse.ev[(sse.ev[\"u\"].values == 1) & (sse.ev[\"c\"] == 1)].index\n",
    "    t = time.time() - t0\n",
    "    tl.append(t)\n",
    "print(\"n=\", n, \"mean[ms]=\", 1e3 * np.mean(tl).round(4), \"std[ms]=\", 1e3*np.std(tl).round(4))"
   ]
  },
  {
   "cell_type": "code",
   "execution_count": null,
   "metadata": {},
   "outputs": [],
   "source": [
    "import time\n",
    "tl = []\n",
    "n = 100\n",
    "for i in range(n):\n",
    "    Pi = 5 + np.random.uniform(low=-4, high=4, size=1)[0]\n",
    "    t0 = time.time()\n",
    "    sse.r_agc(Pi)\n",
    "    t = time.time() - t0\n",
    "    tl.append(t)\n",
    "print(\"n=\", n, \"mean=\", np.mean(tl).round(4), \"std=\", np.std(tl).round(4))"
   ]
  },
  {
   "cell_type": "code",
   "execution_count": null,
   "metadata": {},
   "outputs": [],
   "source": [
    "stats = pstats.Stats(prof).strip_dirs().sort_stats(\"tottime\")\n",
    "stats.print_stats(20)"
   ]
  }
 ],
 "metadata": {
  "kernelspec": {
   "display_name": "Python 3.9.12 ('andes')",
   "language": "python",
   "name": "python3"
  },
  "language_info": {
   "codemirror_mode": {
    "name": "ipython",
    "version": 3
   },
   "file_extension": ".py",
   "mimetype": "text/x-python",
   "name": "python",
   "nbconvert_exporter": "python",
   "pygments_lexer": "ipython3",
   "version": "3.9.12"
  },
  "vscode": {
   "interpreter": {
    "hash": "ef6cb5c8d99d66a3614f491d51fd40cd94c9138687df3d2045e3a510da5efc66"
   }
  }
 },
 "nbformat": 4,
 "nbformat_minor": 2
}
