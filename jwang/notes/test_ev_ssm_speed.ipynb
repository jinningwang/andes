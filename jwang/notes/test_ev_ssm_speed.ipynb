{
 "cells": [
  {
   "cell_type": "markdown",
   "metadata": {},
   "source": [
    "# Test EV control"
   ]
  },
  {
   "cell_type": "code",
   "execution_count": 1,
   "metadata": {},
   "outputs": [],
   "source": [
    "import numpy as np\n",
    "import matplotlib.pyplot as plt\n",
    "import pandas as pd\n",
    "\n",
    "from ev_ssm import ev_ssm\n",
    "from tqdm import tqdm\n",
    "import scipy.stats as stats"
   ]
  },
  {
   "cell_type": "code",
   "execution_count": 2,
   "metadata": {},
   "outputs": [],
   "source": [
    "# manually search perceptron hyperparameters for binary classification\n",
    "import cProfile as profile\n",
    "import pstats"
   ]
  },
  {
   "cell_type": "code",
   "execution_count": 3,
   "metadata": {},
   "outputs": [
    {
     "name": "stderr",
     "output_type": "stream",
     "text": [
      "EVA: ts=18[H], 10000 EVs, Total Q=87.7 MWh\n",
      "Online 2925, Q=73.03 MWh, SoC=0.7717\n",
      "Power(MW): Pt=-7.9463, Pc=-7.9463, Pd=-0.0\n",
      "Ctrl: 0=1584; 1=1341; \n",
      "EVA: Load A from Aest.csv.\n"
     ]
    },
    {
     "data": {
      "text/plain": [
       "[24.629258030047083, 1.8878967125704145]"
      ]
     },
     "execution_count": 3,
     "metadata": {},
     "output_type": "execute_result"
    }
   ],
   "source": [
    "# --- Response ---\n",
    "from ev_ssm import ev_ssm\n",
    "import numpy as np\n",
    "\n",
    "sse = ev_ssm(ts=18, N=10000, step=1, tp=40,\n",
    "             lr=0.1, lp=40, seed=2022, name=\"EVA\",\n",
    "             n_pref=1, is_report=True,\n",
    "             tt_mean=0.5, tt_var=0.2, tt_lb=0, tt_ub=1,\n",
    "             ict_off=False, ecc_off=False)\n",
    "sse.load_A(\"Aest.csv\")\n",
    "\n",
    "evd0 = sse.ev.copy()\n",
    "\n",
    "# quiet some EVs by force\n",
    "# np.random.seed(sse.config[\"seed\"])\n",
    "# ict_rid = np.random.randint(low=0,\n",
    "#                             high=sse.ev.shape[0],\n",
    "#                             size=3000)\n",
    "\n",
    "# sse.ev.na.iloc[ict_rid] = sse.ev.nam.iloc[ict_rid]\n",
    "# sse.ev.lc.iloc[ict_rid] = 1\n",
    "# sse.g_u()\n",
    "\n",
    "# initial EV data\n",
    "evd0 = sse.ev.copy()\n",
    "\n",
    "sse.g_frc()"
   ]
  },
  {
   "cell_type": "code",
   "execution_count": 4,
   "metadata": {},
   "outputs": [
    {
     "name": "stderr",
     "output_type": "stream",
     "text": [
      "EVA: end time 18.0[H] is too close to start time 18[H],simulation will not start.\n"
     ]
    }
   ],
   "source": [
    "prof = profile.Profile()\n",
    "prof.enable()\n",
    "for i in range(20):\n",
    "        sse.run(tf=18 + i/3600, Pi=0.5*i,\n",
    "                is_updateA=False, is_rstate=True,\n",
    "                is_test=False, disable=True)\n",
    "for i in range(20):\n",
    "        sse.run(tf=18 + (20 + i)/3600, Pi=10 - 0.5*i,\n",
    "                is_updateA=False, is_rstate=True,\n",
    "                is_test=False, disable=True)\n",
    "prof.disable()"
   ]
  },
  {
   "cell_type": "code",
   "execution_count": 5,
   "metadata": {},
   "outputs": [
    {
     "name": "stdout",
     "output_type": "stream",
     "text": [
      "n= 10000 mean[ms]= 0.6 std[ms]= 0.4\n"
     ]
    }
   ],
   "source": [
    "import time\n",
    "tl = []\n",
    "n = 10000\n",
    "for i in range(n):\n",
    "    t0 = time.time()\n",
    "    idx = sse.ev[(sse.ev[\"u\"].values == 1) & (sse.ev[\"c\"] == 1)].index\n",
    "    t = time.time() - t0\n",
    "    tl.append(t)\n",
    "print(\"n=\", n, \"mean[ms]=\", 1e3 * np.mean(tl).round(4), \"std[ms]=\", 1e3*np.std(tl).round(4))"
   ]
  },
  {
   "cell_type": "code",
   "execution_count": 6,
   "metadata": {},
   "outputs": [
    {
     "name": "stdout",
     "output_type": "stream",
     "text": [
      "n= 100 mean= 0.0336 std= 0.0075\n"
     ]
    }
   ],
   "source": [
    "import time\n",
    "tl = []\n",
    "n = 100\n",
    "for i in range(n):\n",
    "    Pi = 5 + np.random.uniform(low=-4, high=4, size=1)[0]\n",
    "    t0 = time.time()\n",
    "    sse.r_agc(Pi)\n",
    "    t = time.time() - t0\n",
    "    tl.append(t)\n",
    "print(\"n=\", n, \"mean=\", np.mean(tl).round(4), \"std=\", np.std(tl).round(4))"
   ]
  },
  {
   "cell_type": "code",
   "execution_count": 7,
   "metadata": {},
   "outputs": [
    {
     "name": "stdout",
     "output_type": "stream",
     "text": [
      "         15710728 function calls (15648835 primitive calls) in 23.504 seconds\n",
      "\n",
      "   Ordered by: internal time\n",
      "   List reduced from 1248 to 20 due to restriction <20>\n",
      "\n",
      "   ncalls  tottime  percall  cumtime  percall filename:lineno(function)\n",
      "   742201    3.874    0.000   11.693    0.000 series.py:967(__getitem__)\n",
      "4684556/4671385    2.995    0.000    4.324    0.000 {built-in method builtins.isinstance}\n",
      "   754628    2.144    0.000    3.848    0.000 indexing.py:2652(check_deprecated_indexers)\n",
      "   750277    0.984    0.000    1.530    0.000 series.py:709(_values)\n",
      "   754113    0.856    0.000    1.279    0.000 common.py:352(apply_if_callable)\n",
      "   277369    0.837    0.000    1.994    0.000 apply.py:993(series_generator)\n",
      "   277290    0.718    0.000   12.315    0.000 ev_ssm.py:468(<lambda>)\n",
      "       79    0.678    0.009   16.237    0.206 apply.py:873(apply_series_generator)\n",
      "   277290    0.665    0.000    0.835    0.000 managers.py:2093(set_values)\n",
      "   750277    0.541    0.000    0.546    0.000 managers.py:2038(internal_values)\n",
      "   426788    0.538    0.000    1.327    0.000 generic.py:45(_instancecheck)\n",
      "   426788    0.529    0.000    0.781    0.000 generic.py:40(_check)\n",
      "   761297    0.446    0.000    0.446    0.000 {pandas._libs.lib.is_scalar}\n",
      "   763800    0.434    0.000    0.434    0.000 {pandas._libs.lib.is_integer}\n",
      "   757837    0.425    0.000    0.425    0.000 {built-in method builtins.callable}\n",
      "   297785    0.369    0.000    0.505    0.000 generic.py:5909(__setattr__)\n",
      "467604/425111    0.334    0.000    0.393    0.000 {built-in method builtins.len}\n",
      "   466915    0.286    0.000    0.291    0.000 {built-in method builtins.getattr}\n",
      "9790/9711    0.110    0.000    1.054    0.000 series.py:343(__init__)\n",
      "     1626    0.098    0.000    0.134    0.000 range.py:399(_get_indexer)\n",
      "\n",
      "\n"
     ]
    },
    {
     "data": {
      "text/plain": [
       "<pstats.Stats at 0x7f3ef3b4bf70>"
      ]
     },
     "execution_count": 7,
     "metadata": {},
     "output_type": "execute_result"
    }
   ],
   "source": [
    "stats = pstats.Stats(prof).strip_dirs().sort_stats(\"tottime\")\n",
    "stats.print_stats(20)"
   ]
  }
 ],
 "metadata": {
  "kernelspec": {
   "display_name": "Python 3.9.13 ('andes')",
   "language": "python",
   "name": "python3"
  },
  "language_info": {
   "codemirror_mode": {
    "name": "ipython",
    "version": 3
   },
   "file_extension": ".py",
   "mimetype": "text/x-python",
   "name": "python",
   "nbconvert_exporter": "python",
   "pygments_lexer": "ipython3",
   "version": "3.9.13"
  },
  "vscode": {
   "interpreter": {
    "hash": "b2f979d891be15b14f4332b6eed75a0475160d17003978b44c1d0bc62ad71649"
   }
  }
 },
 "nbformat": 4,
 "nbformat_minor": 2
}
