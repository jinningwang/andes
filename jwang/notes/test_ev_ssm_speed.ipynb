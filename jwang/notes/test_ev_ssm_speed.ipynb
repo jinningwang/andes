{
 "cells": [
  {
   "cell_type": "markdown",
   "metadata": {},
   "source": [
    "# Test EV control"
   ]
  },
  {
   "cell_type": "code",
   "execution_count": null,
   "metadata": {},
   "outputs": [],
   "source": [
    "import numpy as np\n",
    "import matplotlib.pyplot as plt\n",
    "import pandas as pd\n",
    "\n",
    "from ev_ssm import ev_ssm\n",
    "from tqdm import tqdm\n",
    "import scipy.stats as stats"
   ]
  },
  {
   "cell_type": "code",
   "execution_count": null,
   "metadata": {},
   "outputs": [],
   "source": [
    "# manually search perceptron hyperparameters for binary classification\n",
    "import cProfile as profile\n",
    "import pstats"
   ]
  },
  {
   "cell_type": "code",
   "execution_count": null,
   "metadata": {},
   "outputs": [],
   "source": [
    "sse0 = ev_ssm(ts=18, N=50000, step=1, tp=40,\n",
    "              lr=0.1, lp=40, seed=2022, name=\"EVA\",\n",
    "              n_pref=1, is_report=True,\n",
    "              tt_mean=0.5, tt_var=0.2, tt_lb=0, tt_ub=1,\n",
    "              ict=True, ecc=True)\n",
    "sse0.load_A(\"Aest.csv\")\n"
   ]
  },
  {
   "cell_type": "code",
   "execution_count": null,
   "metadata": {},
   "outputs": [],
   "source": [
    "sse0.ev['nam'].hist()\n",
    "sse0.ev['na'].hist()"
   ]
  },
  {
   "cell_type": "code",
   "execution_count": null,
   "metadata": {},
   "outputs": [],
   "source": [
    "# --- Response ---\n",
    "from ev_ssm import ev_ssm\n",
    "import numpy as np\n",
    "\n",
    "sse = ev_ssm(ts=18, N=50000, step=1, tp=40,\n",
    "             lr=0.1, lp=40, seed=2022, name=\"EVA\",\n",
    "             n_pref=1, is_report=True,\n",
    "             tt_mean=0.5, tt_var=0.2, tt_lb=0, tt_ub=1,\n",
    "             ict=False, ecc=True)\n",
    "sse.load_A(\"Aest.csv\")\n",
    "\n",
    "evd0 = sse.ev.copy()\n",
    "\n",
    "# quiet some EVs by force\n",
    "# np.random.seed(sse.config[\"seed\"])\n",
    "# ict_rid = np.random.randint(low=0,\n",
    "#                             high=sse.ev.shape[0],\n",
    "#                             size=3000)\n",
    "\n",
    "# sse.ev.na.iloc[ict_rid] = sse.ev.nam.iloc[ict_rid]\n",
    "# sse.ev.lc.iloc[ict_rid] = 1\n",
    "# sse.g_u()\n",
    "\n",
    "# initial EV data\n",
    "evd0 = sse.ev.copy()\n",
    "\n",
    "sse.g_frc()\n"
   ]
  },
  {
   "cell_type": "code",
   "execution_count": null,
   "metadata": {
    "scrolled": true
   },
   "outputs": [],
   "source": [
    "sse.run(tf=18 + 40/3600, Pi=50,\n",
    "        is_updateA=False, is_rstate=True,\n",
    "        is_test=False, disable=True)\n",
    "\n",
    "for i in range(10):\n",
    "        sse.run(tf=18 + (40 + i)/3600, Pi=50,\n",
    "                is_updateA=False, is_rstate=True,\n",
    "                is_test=False, disable=True)"
   ]
  },
  {
   "cell_type": "code",
   "execution_count": null,
   "metadata": {},
   "outputs": [],
   "source": [
    "sse.plot_agc()"
   ]
  },
  {
   "cell_type": "code",
   "execution_count": null,
   "metadata": {},
   "outputs": [],
   "source": [
    "sse.plot_agc()"
   ]
  },
  {
   "cell_type": "code",
   "execution_count": null,
   "metadata": {},
   "outputs": [],
   "source": [
    "sse.run(tf=18 + 50/3600, Pi=50,\n",
    "        is_updateA=False, is_rstate=True,\n",
    "        is_test=False, disable=True)"
   ]
  },
  {
   "cell_type": "code",
   "execution_count": null,
   "metadata": {},
   "outputs": [],
   "source": [
    "sse.plot_agc()"
   ]
  },
  {
   "cell_type": "code",
   "execution_count": null,
   "metadata": {},
   "outputs": [],
   "source": [
    "col = [\"u\", \"c\", \"tf\", \"agc\", \"soci\", \"soc0\", \"soc\", \"socd\", \"na\", \"nam\"]\n",
    "sse.ev[col]\n",
    "sse.ev[col][sse.ev['agc'] != 0]"
   ]
  },
  {
   "cell_type": "code",
   "execution_count": null,
   "metadata": {},
   "outputs": [],
   "source": [
    "sse.plot_agc()"
   ]
  },
  {
   "cell_type": "code",
   "execution_count": null,
   "metadata": {},
   "outputs": [],
   "source": [
    "prof = profile.Profile()\n",
    "prof.enable()\n",
    "for i in range(20):\n",
    "        sse.run(tf=18 + i/3600, Pi=0.5*i,\n",
    "                is_updateA=False, is_rstate=True,\n",
    "                is_test=False, disable=True)\n",
    "for i in range(20):\n",
    "        sse.run(tf=18 + (20 + i)/3600, Pi=10 - 0.5*i,\n",
    "                is_updateA=False, is_rstate=True,\n",
    "                is_test=False, disable=True)\n",
    "prof.disable()"
   ]
  },
  {
   "cell_type": "code",
   "execution_count": null,
   "metadata": {},
   "outputs": [],
   "source": [
    "sse.plot_agc()"
   ]
  },
  {
   "cell_type": "code",
   "execution_count": null,
   "metadata": {},
   "outputs": [],
   "source": [
    "import time\n",
    "tl = []\n",
    "n = 10000\n",
    "for i in range(n):\n",
    "    t0 = time.time()\n",
    "    idx = sse.ev[(sse.ev[\"u\"].values == 1) & (sse.ev[\"c\"] == 1)].index\n",
    "    t = time.time() - t0\n",
    "    tl.append(t)\n",
    "print(\"n=\", n, \"mean[ms]=\", 1e3 * np.mean(tl).round(4), \"std[ms]=\", 1e3*np.std(tl).round(4))"
   ]
  },
  {
   "cell_type": "code",
   "execution_count": null,
   "metadata": {},
   "outputs": [],
   "source": [
    "import time\n",
    "tl = []\n",
    "n = 100\n",
    "for i in range(n):\n",
    "    Pi = 5 + np.random.uniform(low=-4, high=4, size=1)[0]\n",
    "    t0 = time.time()\n",
    "    sse.r_agc(Pi)\n",
    "    t = time.time() - t0\n",
    "    tl.append(t)\n",
    "print(\"n=\", n, \"mean=\", np.mean(tl).round(4), \"std=\", np.std(tl).round(4))"
   ]
  },
  {
   "cell_type": "code",
   "execution_count": null,
   "metadata": {},
   "outputs": [],
   "source": [
    "stats = pstats.Stats(prof).strip_dirs().sort_stats(\"tottime\")\n",
    "stats.print_stats(20)"
   ]
  }
 ],
 "metadata": {
  "kernelspec": {
   "display_name": "Python3",
   "language": "python",
   "name": "andes"
  },
  "language_info": {
   "codemirror_mode": {
    "name": "ipython",
    "version": 3
   },
   "file_extension": ".py",
   "mimetype": "text/x-python",
   "name": "python",
   "nbconvert_exporter": "python",
   "pygments_lexer": "ipython3",
   "version": "3.9.12"
  },
  "vscode": {
   "interpreter": {
    "hash": "ef6cb5c8d99d66a3614f491d51fd40cd94c9138687df3d2045e3a510da5efc66"
   }
  }
 },
 "nbformat": 4,
 "nbformat_minor": 2
}
