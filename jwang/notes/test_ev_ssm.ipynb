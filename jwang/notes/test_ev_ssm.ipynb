{
 "cells": [
  {
   "cell_type": "markdown",
   "metadata": {},
   "source": [
    "# Code"
   ]
  },
  {
   "cell_type": "markdown",
   "metadata": {},
   "source": [
    "EV aggregator implementation based on State Space Model."
   ]
  },
  {
   "cell_type": "markdown",
   "metadata": {},
   "source": [
    "### EV SSM Class"
   ]
  },
  {
   "cell_type": "code",
   "execution_count": 1,
   "metadata": {},
   "outputs": [],
   "source": [
    "import numpy as np\n",
    "import matplotlib.pyplot as plt\n",
    "import pandas as pd\n",
    "\n",
    "from ev_ssm import ev_ssm"
   ]
  },
  {
   "cell_type": "code",
   "execution_count": 2,
   "metadata": {},
   "outputs": [
    {
     "name": "stderr",
     "output_type": "stream",
     "text": [
      "EVA: ts=18[H], 50000 EVs, Total Q=434.54 MWh\n",
      "Online 14477, Q=362.27 MWh, SoC=0.7435\n",
      "Power(MW): Pt=-39.0266, Pc=-39.0266, Pd=0.0\n",
      "Ctrl: 0=7897; 1=6580; \n",
      "EVA: Load A from Aest.csv.\n"
     ]
    }
   ],
   "source": [
    "sse = ev_ssm(ts=18, N=50000, step=1, tp=40,\n",
    "             lr=0.1, lp=60, seed=2022, name=\"EVA\",\n",
    "             n_pref=1, is_report=True,\n",
    "             tt_mean=0.2, tt_var=0.05, tt_lb=0, tt_ub=0.4,\n",
    "             ict=True, ecc=False, agc=True)\n",
    "sse.load_A(\"Aest.csv\")\n"
   ]
  },
  {
   "cell_type": "code",
   "execution_count": 3,
   "metadata": {},
   "outputs": [
    {
     "data": {
      "text/plain": [
       "(60, 60)"
      ]
     },
     "execution_count": 3,
     "metadata": {},
     "output_type": "execute_result"
    }
   ],
   "source": [
    "sse.A.shape"
   ]
  },
  {
   "cell_type": "code",
   "execution_count": 7,
   "metadata": {},
   "outputs": [
    {
     "data": {
      "text/plain": [
       "(60, 20)"
      ]
     },
     "execution_count": 7,
     "metadata": {},
     "output_type": "execute_result"
    }
   ],
   "source": [
    "sse.B.shape"
   ]
  },
  {
   "cell_type": "code",
   "execution_count": 8,
   "metadata": {},
   "outputs": [
    {
     "data": {
      "text/plain": [
       "(60, 20)"
      ]
     },
     "execution_count": 8,
     "metadata": {},
     "output_type": "execute_result"
    }
   ],
   "source": [
    "sse.C.shape"
   ]
  },
  {
   "cell_type": "code",
   "execution_count": 9,
   "metadata": {},
   "outputs": [
    {
     "data": {
      "text/plain": [
       "(1, 60)"
      ]
     },
     "execution_count": 9,
     "metadata": {},
     "output_type": "execute_result"
    }
   ],
   "source": [
    "sse.D.shape"
   ]
  },
  {
   "cell_type": "code",
   "execution_count": 15,
   "metadata": {},
   "outputs": [
    {
     "data": {
      "text/plain": [
       "(60,)"
      ]
     },
     "execution_count": 15,
     "metadata": {},
     "output_type": "execute_result"
    }
   ],
   "source": [
    "sse.x0.shape"
   ]
  },
  {
   "cell_type": "code",
   "execution_count": 21,
   "metadata": {},
   "outputs": [
    {
     "data": {
      "text/plain": [
       "array([[0.00583128, 0.00583128, 0.00583128, 0.00583128, 0.00583128,\n",
       "        0.00583128, 0.00583128, 0.00583128, 0.00583128, 0.00583128,\n",
       "        0.00583128, 0.00583128, 0.00583128, 0.00583128, 0.00583128,\n",
       "        0.00583128, 0.00583128, 0.00583128, 0.00583128, 0.00583128,\n",
       "        0.        , 0.00583128, 0.00583128, 0.00583128, 0.00583128,\n",
       "        0.00583128, 0.00583128, 0.00583128, 0.00583128, 0.00583128,\n",
       "        0.00583128, 0.00583128, 0.00583128, 0.00583128, 0.00583128,\n",
       "        0.00583128, 0.00583128, 0.00583128, 0.00583128, 0.00583128,\n",
       "        0.00583128, 0.00583128, 0.00583128, 0.00583128, 0.00583128,\n",
       "        0.00583128, 0.00583128, 0.00583128, 0.00583128, 0.00583128,\n",
       "        0.00583128, 0.00583128, 0.00583128, 0.00583128, 0.00583128,\n",
       "        0.00583128, 0.00583128, 0.00583128, 0.00583128, 0.00583128]])"
      ]
     },
     "execution_count": 21,
     "metadata": {},
     "output_type": "execute_result"
    }
   ],
   "source": [
    "sse.Db"
   ]
  },
  {
   "cell_type": "code",
   "execution_count": 20,
   "metadata": {},
   "outputs": [
    {
     "data": {
      "text/plain": [
       "array([[-0.00583128, -0.00583128, -0.00583128, -0.00583128, -0.00583128,\n",
       "        -0.00583128, -0.00583128, -0.00583128, -0.00583128, -0.00583128,\n",
       "        -0.00583128, -0.00583128, -0.00583128, -0.00583128, -0.00583128,\n",
       "        -0.00583128, -0.00583128, -0.00583128, -0.00583128, -0.00583128,\n",
       "        -0.00583128, -0.00583128, -0.00583128, -0.00583128, -0.00583128,\n",
       "        -0.00583128, -0.00583128, -0.00583128, -0.00583128, -0.00583128,\n",
       "        -0.00583128, -0.00583128, -0.00583128, -0.00583128, -0.00583128,\n",
       "        -0.00583128, -0.00583128, -0.00583128, -0.00583128,  0.        ,\n",
       "        -0.00583128, -0.00583128, -0.00583128, -0.00583128, -0.00583128,\n",
       "        -0.00583128, -0.00583128, -0.00583128, -0.00583128, -0.00583128,\n",
       "        -0.00583128, -0.00583128, -0.00583128, -0.00583128, -0.00583128,\n",
       "        -0.00583128, -0.00583128, -0.00583128, -0.00583128, -0.00583128]])"
      ]
     },
     "execution_count": 20,
     "metadata": {},
     "output_type": "execute_result"
    }
   ],
   "source": [
    "sse.Dd"
   ]
  },
  {
   "cell_type": "code",
   "execution_count": 5,
   "metadata": {},
   "outputs": [],
   "source": [
    "sse.run(tf=18+10/3600, Pi=10,\n",
    "        is_updateA=False, is_rstate=True,\n",
    "        is_test=False, disable=True)"
   ]
  },
  {
   "cell_type": "code",
   "execution_count": 6,
   "metadata": {},
   "outputs": [
    {
     "data": {
      "text/plain": [
       "(<Figure size 600x300 with 1 Axes>,\n",
       " <AxesSubplot:title={'center':'AGC response'}, xlabel='Time [s]', ylabel='Power (MW)'>)"
      ]
     },
     "execution_count": 6,
     "metadata": {},
     "output_type": "execute_result"
    },
    {
     "data": {
      "image/png": "[encoded data removed]",
      "text/plain": [
       "<Figure size 600x300 with 1 Axes>"
      ]
     },
     "metadata": {},
     "output_type": "display_data"
    }
   ],
   "source": [
    "sse.plot_agc()"
   ]
  },
  {
   "cell_type": "markdown",
   "metadata": {},
   "source": [
    "## Misc"
   ]
  },
  {
   "cell_type": "code",
   "execution_count": null,
   "metadata": {},
   "outputs": [],
   "source": [
    "u, v, us, vs = sse.r_agc(Pi=5)\n",
    "print(sse.Pr)\n",
    "print(us)\n",
    "print(vs)\n",
    "sse.xtab"
   ]
  },
  {
   "cell_type": "code",
   "execution_count": null,
   "metadata": {},
   "outputs": [],
   "source": [
    "cdf = pd.DataFrame(np.concatenate([u.reshape(1, 20), v.reshape(1, 20)], axis=0),\n",
    "                   columns=sse.rtab.columns)"
   ]
  },
  {
   "cell_type": "markdown",
   "metadata": {},
   "source": [
    "### SAC"
   ]
  },
  {
   "cell_type": "markdown",
   "metadata": {},
   "source": [
    "This coeef. does not make sense?"
   ]
  },
  {
   "cell_type": "code",
   "execution_count": null,
   "metadata": {},
   "outputs": [],
   "source": [
    "socb = np.arange(0, 1.01, 0.05)\n",
    "for i in range(len(socb)-1):\n",
    "    print('soc=', i, 'k=', pow(1-sse.sac(0.5*(socb[i]+socb[i+1]))[2], 20/3600/sse.Th))"
   ]
  },
  {
   "cell_type": "code",
   "execution_count": null,
   "metadata": {},
   "outputs": [],
   "source": [
    "x = np.linspace(0, 1, 100)\n",
    "sac = sse.sac(x)\n",
    "\n",
    "plt.style.use('default')\n",
    "with plt.style.context(['ieee']):\n",
    "    fig, ax = plt.subplots(1, 1, figsize=(10, 3))\n",
    "    ax.plot(np.arange(0, 1, 0.01), sac[0], label='CS')\n",
    "    ax.plot(np.arange(0, 1, 0.01), sac[1], label='IS')\n",
    "    ax.plot(np.arange(0, 1, 0.01), sac[2], label='DS')\n",
    "    ax.legend()\n",
    "    ax.set_ylim([0, 1.01])\n",
    "    ax.set_xlim([0, 1])\n",
    "    ax.set_xlabel('SoC [%]')\n",
    "    ax.set_ylabel('SoC Adapt. Coeff.')"
   ]
  },
  {
   "cell_type": "markdown",
   "metadata": {},
   "source": [
    "### test"
   ]
  },
  {
   "cell_type": "code",
   "execution_count": null,
   "metadata": {},
   "outputs": [],
   "source": [
    "# sse = ev_ssm(ts=10, N=10000, step=1, tp=100,\n",
    "#              lr=0.1, lp=100, seed=2022, name=\"SSE1\")\n",
    "\n",
    "# # --- build and save A matrix ---\n",
    "# sse.test(tf=10.1)\n",
    "# sse.save_A(\"Aests.csv\")\n",
    "\n",
    "# --- load A matrix ---\n",
    "# sse.load_A(\"Aests.csv\")\n",
    "\n",
    "# --- run MCS ---\n",
    "# sse.run(tf=10.1, is_update=True, is_record=True)\n",
    "\n",
    "# --- plot results ---\n",
    "# fig, ax = sse.plot()\n",
    "\n",
    "# --- test A matrix stability ---\n",
    "# sse.g_res(x0=sse.x0.copy(), n=1000)\n",
    "# print(np.sum(sse.x0))\n",
    "\n",
    "# sse.reset(tnow=10, clean_xl=False)\n",
    "\n",
    "# --- continually run ---\n",
    "# for tf in np.arange(10, 10.1, 4/3600):\n",
    "#     sse.run(tf=tf, is_update=True, is_record=True, is_test=False)\n",
    "\n",
    "# --- spy A ---\n",
    "# with plt.style.context(['ieee']):\n",
    "#     fig, ax = plt.subplots(1, 1, figsize=(6, 6), dpi=100)\n",
    "#     ax.spy(sse.A, markersize=4, marker='o',\n",
    "#            markerfacecolor='orange', markeredgecolor='orange')\n",
    "#     ax.grid(which='major', alpha=1)\n",
    "#     ax.grid(which='minor', alpha=1)\n",
    "#     ax.set_xlim(0, 3*sse.Ns-1)\n",
    "#     ax.set_ylim(3*sse.Ns-1, 0)\n",
    "#     ax.set_title(\"Spy of mat $A$\")\n",
    "#     ax.minorticks_on()\n",
    "\n",
    "#     ax.set_xlabel('$\\mathbf{x}(k)$')\n",
    "#     ax.xaxis.set_label_position('top')\n",
    "#     ax.set_ylabel('$\\mathbf{x}(k+1)$')"
   ]
  },
  {
   "cell_type": "markdown",
   "metadata": {},
   "source": [
    "### EV online numbers"
   ]
  },
  {
   "cell_type": "code",
   "execution_count": null,
   "metadata": {},
   "outputs": [],
   "source": [
    "sse = ev_ssm(ts=9.999999, N=10000, step=100, tp=100,\n",
    "             lr=0.1, lp=100, seed=2022, name=\"EVA\")\n",
    "socn1 = [sse.wsoc]\n",
    "soct1 = [sse.ts]\n",
    "for t in np.arange(10, 11.2, 0.1):\n",
    "    sse.run(tf=t, is_record=False, is_update=False, is_test=False, Pi=0, disable=True)\n",
    "    sse.report(is_report=False)\n",
    "    socn1.append(sse.wsoc)\n",
    "    soct1.append(sse.ts)\n",
    "\n",
    "sse = ev_ssm(ts=17.999999, N=10000, step=100, tp=100,\n",
    "         lr=0.1, lp=100, seed=2022, name=\"EVA\")\n",
    "socn2 = [sse.wsoc]\n",
    "soct2 = [sse.ts]\n",
    "for t in np.arange(18, 19.2, 0.1):\n",
    "    sse.run(tf=t, is_record=False, is_update=False, is_test=False, Pi=0, disable=True)\n",
    "    sse.report(is_report=False)\n",
    "    socn2.append(sse.wsoc)\n",
    "    soct2.append(sse.ts)"
   ]
  },
  {
   "cell_type": "code",
   "execution_count": null,
   "metadata": {},
   "outputs": [],
   "source": [
    "%matplotlib inline\n",
    "with plt.style.context(['ieee']):\n",
    "    fig_soc, ax_soc = plt.subplots(figsize=(3, 2))\n",
    "    ax_soc.plot(3600*(np.array(soct1)-10), 100*np.array(socn1), label='10H')\n",
    "    ax_soc.plot(3600*(np.array(soct2)-18), 100*np.array(socn2), label='18H')\n",
    "    ax_soc.grid()\n",
    "    ax_soc.set_xlim([0, 3600])\n",
    "    ax_soc.set_xticks(range(0, 3700, 600), range(0, 61, 10))\n",
    "    ax_soc.set_xlabel('Time [min]')\n",
    "    ax_soc.set_ylabel('SOC [%]')\n",
    "    ax_soc.legend()"
   ]
  },
  {
   "cell_type": "code",
   "execution_count": null,
   "metadata": {},
   "outputs": [],
   "source": [
    "fig_soc.savefig('fig_evsoc.eps', format='eps', bbox_inches='tight')"
   ]
  },
  {
   "cell_type": "code",
   "execution_count": null,
   "metadata": {},
   "outputs": [],
   "source": [
    "sse = ev_ssm(ts=0, N=10000, step=1, tp=100,\n",
    "             lr=0.1, lp=100, seed=2022, name=\"EVA\")\n",
    "evn = [sse.ev.u.sum()]\n",
    "for t in np.arange(0.0001, 24, 60/3600):\n",
    "    sse.ts = sse.g_ts(t)\n",
    "    sse.g_u()\n",
    "    evn.append(sse.ev.u.sum())"
   ]
  },
  {
   "cell_type": "code",
   "execution_count": null,
   "metadata": {},
   "outputs": [],
   "source": [
    "%matplotlib inline\n",
    "with plt.style.context(['ieee']):\n",
    "    fig_evn, ax_evn = plt.subplots(figsize=(4, 3))\n",
    "    ax_evn.plot(sse.tss, evn)\n",
    "    ax_evn.grid()\n",
    "    ax_evn.set_xlim([0, 24])\n",
    "    ax_evn.set_xticks(range(0, 25, 4), range(0, 25, 4))\n",
    "    ax_evn.set_ylim(bottom=0)\n",
    "    ax_evn.set_xlabel('Time [H]')\n",
    "    ax_evn.set_ylabel('Number of online EVs')"
   ]
  },
  {
   "cell_type": "markdown",
   "metadata": {},
   "source": [
    "### Spy An"
   ]
  },
  {
   "cell_type": "code",
   "execution_count": null,
   "metadata": {},
   "outputs": [],
   "source": [
    "# Long enough, all the EVs will become idle.\n",
    "\n",
    "An = np.linalg.matrix_power(sse.A, 225)\n",
    "\n",
    "# --- spy A ---\n",
    "with plt.style.context(['ieee']):\n",
    "    fig, ax = plt.subplots(1, 1, figsize=(6, 6), dpi=100)\n",
    "    ax.spy(An, markersize=4, marker='o',\n",
    "           markerfacecolor='orange', markeredgecolor='orange')\n",
    "    ax.grid(which='major', alpha=1)\n",
    "    ax.grid(which='minor', alpha=1)\n",
    "    ax.set_xlim(0, 3*sse.Ns-1)\n",
    "    ax.set_ylim(3*sse.Ns-1, 0)\n",
    "    ax.set_title(\"Spy of mat $A$\")\n",
    "    ax.minorticks_on()\n",
    "\n",
    "    ax.set_xlabel('$\\mathbf{x}(k)$')\n",
    "    ax.xaxis.set_label_position('top')\n",
    "    ax.set_ylabel('$\\mathbf{x}(k+1)$')"
   ]
  },
  {
   "cell_type": "code",
   "execution_count": null,
   "metadata": {},
   "outputs": [],
   "source": [
    "# control vector validation\n",
    "\n",
    "cl = -1*sse.rtab.iloc[1].values - sse.rtab.iloc[2].values\n",
    "cu = sse.rtab.iloc[0].values + sse.rtab.iloc[1].values\n",
    "\n",
    "u = np.zeros((20,))\n",
    "v = np.zeros((20,))\n",
    "\n",
    "# max output\n",
    "u = sse.rtab.iloc[0].values\n",
    "v = sse.rtab.iloc[1].values + sse.rtab.iloc[0].values\n",
    "\n",
    "# min output\n",
    "u = -1 * sse.rtab.iloc[1].values - sse.rtab.iloc[2].values\n",
    "v = -1 * sse.rtab.iloc[2].values\n",
    "\n",
    "res = sse.x0 + np.matmul(sse.B, u).reshape(-1) + np.matmul(sse.C, v).reshape(-1)\n",
    "\n",
    "print(\"res check:\", np.all(res >= 0))\n",
    "\n",
    "with plt.style.context(['ieee']):\n",
    "    width = 0.35\n",
    "    x = np.arange(len(sse.x0))\n",
    "    fig, ax = plt.subplots(1, 1, figsize=(12, 5))\n",
    "    ax.bar(x - 0.5*width, sse.x0, width, label=\"in\", color='cyan')\n",
    "    ax.bar(x + 0.5*width, res, width, label=\"out\", color='orange')\n",
    "    ax.set_xlim(0, 59)\n",
    "    ax.set_ylim(-0.0, 0.01)\n",
    "    ax.legend(['x0', 'x0+ctrl'])"
   ]
  }
 ],
 "metadata": {
  "interpreter": {
   "hash": "750181ab3b727a2e6d1f5a043fc0cae3ee9b8f7684c9bfb1793857c8ebb93910"
  },
  "kernelspec": {
   "display_name": "Python3",
   "language": "python",
   "name": "andes"
  },
  "language_info": {
   "codemirror_mode": {
    "name": "ipython",
    "version": 3
   },
   "file_extension": ".py",
   "mimetype": "text/x-python",
   "name": "python",
   "nbconvert_exporter": "python",
   "pygments_lexer": "ipython3",
   "version": "3.9.12"
  }
 },
 "nbformat": 4,
 "nbformat_minor": 2
}
