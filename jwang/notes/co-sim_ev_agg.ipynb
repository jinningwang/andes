{
 "cells": [
  {
   "cell_type": "code",
   "execution_count": 15,
   "metadata": {},
   "outputs": [
    {
     "name": "stdout",
     "output_type": "stream",
     "text": [
      "1.7.2.post287.dev0+gfaa45266\n",
      "2.9.0\n"
     ]
    }
   ],
   "source": [
    "%run -i 'cosim_import.py'"
   ]
  },
  {
   "cell_type": "markdown",
   "metadata": {},
   "source": [
    "`caseH` is the start time [H] of the co-simulation, now 10 and 18 are supported."
   ]
  },
  {
   "cell_type": "code",
   "execution_count": 16,
   "metadata": {},
   "outputs": [
    {
     "name": "stderr",
     "output_type": "stream",
     "text": [
      "EVA: ts=18[H], 50000 EVs, Total Q=434.64 MWh\n",
      "Online 14481, Q=361.83 MWh, SoC=0.7687\n",
      "Power(MW): Pt=-39.9433, Pc=-39.9433, Pd=-0.0\n",
      "Ctrl: 0=7778; 1=6703; \n",
      "EVA: Load A from Aest.csv.\n",
      "Working directory: \"/home/jwang175/andes/jwang/notes\"\n",
      "> Loaded config from file \"/home/jwang175/.andes/andes.rc\"\n",
      "> Reloaded generated Python code of module \"pycode\".\n",
      "Generated code for <PQ> is stale.\n",
      "Numerical code generation (rapid incremental mode) started...\n"
     ]
    },
    {
     "name": "stdout",
     "output_type": "stream",
     "text": [
      "Generating code for 1 models on 6 processes.\n"
     ]
    },
    {
     "name": "stderr",
     "output_type": "stream",
     "text": [
      "Saved generated pycode to \"/home/jwang175/.andes/pycode\"\n",
      "> Reloaded generated Python code of module \"pycode\".\n",
      "Generated numerical code for 1 models in 0.3286 seconds.\n",
      "Parsing input file \"/home/jwang175/andes/jwang/case/ieee39_eva.xlsx\"...\n",
      "Input file parsed in 0.1437 seconds.\n",
      "Working directory: \"/home/jwang175/andes/jwang/notes\"\n",
      "> Loaded config from file \"/home/jwang175/.andes/andes.rc\"\n",
      "> Reloaded generated Python code of module \"pycode\".\n",
      "Generated code for <PQ> is stale.\n",
      "Numerical code generation (rapid incremental mode) started...\n"
     ]
    },
    {
     "name": "stdout",
     "output_type": "stream",
     "text": [
      "Generating code for 1 models on 6 processes.\n"
     ]
    },
    {
     "name": "stderr",
     "output_type": "stream",
     "text": [
      "Saved generated pycode to \"/home/jwang175/.andes/pycode\"\n",
      "> Reloaded generated Python code of module \"pycode\".\n",
      "Generated numerical code for 1 models in 0.2943 seconds.\n",
      "Parsing input file \"/home/jwang175/andes/jwang/case/ieee39_eva.xlsx\"...\n",
      "Input file parsed in 0.1357 seconds.\n"
     ]
    }
   ],
   "source": [
    "caseH = 18\n",
    "# --- EV Aggregator ---\n",
    "sse = ev_ssm(ts=caseH, N=50000, step=1, tp=40,\n",
    "             lr=0.1, lp=60, seed=2022, name=\"EVA\")\n",
    "sse.load_A(\"Aest.csv\")\n",
    "\n",
    "# --- ANDES case ---\n",
    "dir_path = os.path.abspath('..')\n",
    "case_path = '/case/ieee39_eva.xlsx'\n",
    "case = dir_path + case_path\n",
    "ssa = andes.load(case,\n",
    "                 setup=False,\n",
    "                 no_output=True,\n",
    "                 default_config=False)\n",
    "\n",
    "# Set output mode as 'manual', turn off TDS progress bar\n",
    "ssa.TDS.config.save_mode = 'manual'\n",
    "ssa.TDS.config.no_tqdm = 1\n",
    "\n",
    "# Set load as constant load.\n",
    "ssa.PQ.config.p2p = 1\n",
    "ssa.PQ.config.q2q = 1\n",
    "ssa.PQ.config.p2z = 0\n",
    "ssa.PQ.config.q2z = 0\n",
    "ssa.PQ.pq2z = 0\n",
    "\n",
    "# Turn on ``numba`` can accelerate TDS.\n",
    "ssa.config.numba = 1\n",
    "\n",
    "ss2 = andes.load(case,\n",
    "                 setup=False,\n",
    "                 no_output=True,\n",
    "                 default_config=False)\n",
    "\n",
    "# Set output mode as 'manual', turn off TDS progress bar\n",
    "ss2.TDS.config.save_mode = 'manual'\n",
    "ss2.TDS.config.no_tqdm = 1\n",
    "\n",
    "# Set load as constant load.\n",
    "ss2.PQ.config.p2p = 1\n",
    "ss2.PQ.config.q2q = 1\n",
    "ss2.PQ.config.p2z = 0\n",
    "ss2.PQ.config.q2z = 0\n",
    "ss2.PQ.pq2z = 0\n",
    "\n",
    "# Turn on ``numba`` can accelerate TDS.\n",
    "ss2.config.numba = 1"
   ]
  },
  {
   "cell_type": "code",
   "execution_count": 17,
   "metadata": {},
   "outputs": [
    {
     "name": "stderr",
     "output_type": "stream",
     "text": [
      "EVA: ts=18[H], 100 EVs, Total Q=0.91 MWh\n",
      "Online 33, Q=0.81 MWh, SoC=0.8173\n",
      "Power(MW): Pt=-0.0725, Pc=-0.0725, Pd=-0.0\n",
      "Ctrl: 0=21; 1=12; \n",
      "EVA: Load A from Aest.csv.\n"
     ]
    }
   ],
   "source": [
    "# --- EV Aggregator ---\n",
    "sse = ev_ssm(ts=caseH, N=100, step=1, tp=40,\n",
    "             lr=0.1, lp=60, seed=2022, name=\"EVA\")\n",
    "sse.load_A(\"Aest.csv\")"
   ]
  },
  {
   "cell_type": "code",
   "execution_count": 18,
   "metadata": {},
   "outputs": [
    {
     "name": "stderr",
     "output_type": "stream",
     "text": [
      "ACEc <1> added BusFreq <BusFreq_11> linked to bus <1>\n",
      "System internal structure set up in 0.1158 seconds.\n",
      "-> System connectivity check results:\n",
      "  No islanded bus detected.\n",
      "  System is interconnected.\n",
      "  Each island has a slack bus correctly defined and enabled.\n",
      "\n",
      "-> Power flow calculation\n",
      "           Numba: On\n",
      "   Sparse solver: KLU\n",
      " Solution method: NR method\n",
      "Numba compilation initiated with caching.\n",
      "Power flow initialized in 0.0959 seconds.\n",
      "0: |F(x)| = 7.561249598\n",
      "1: |F(x)| = 2.916452845\n",
      "2: |F(x)| = 0.1312872817\n",
      "3: |F(x)| = 0.0003487259095\n",
      "4: |F(x)| = 4.215653604e-09\n",
      "Converged in 5 iterations in 0.0184 seconds.\n",
      "Numba compilation initiated with caching.\n",
      "GENROU (xl <= xd2) out of typical upper limit.\n",
      "\n",
      "   idx     | values | limit\n",
      "-----------+--------+------\n",
      " GENROU_1  | 0.014  | 0.001\n",
      " GENROU_3  | 0.018  | 0.003\n",
      " GENROU_4  | 0.013  | 0.001\n",
      " GENROU_5  | 0.014  | 0.001\n",
      " GENROU_7  | 0.015  | 0.002\n",
      " GENROU_8  | 0.015  | 0.006\n",
      " GENROU_9  | 0.009  | 0.001\n",
      " GENROU_10 | 0.013  | 0.000\n",
      "\n",
      "\n",
      "Initialization for dynamics completed in 0.4899 seconds.\n",
      "Initialization was successful.\n",
      "ACEc <1> added BusFreq <BusFreq_11> linked to bus <1>\n",
      "System internal structure set up in 0.1064 seconds.\n",
      "-> System connectivity check results:\n",
      "  No islanded bus detected.\n",
      "  System is interconnected.\n",
      "  Each island has a slack bus correctly defined and enabled.\n",
      "\n",
      "-> Power flow calculation\n",
      "           Numba: On\n",
      "   Sparse solver: KLU\n",
      " Solution method: NR method\n",
      "Numba compilation initiated with caching.\n",
      "Power flow initialized in 0.0905 seconds.\n",
      "0: |F(x)| = 7.561249598\n",
      "1: |F(x)| = 2.916452845\n",
      "2: |F(x)| = 0.1312872817\n",
      "3: |F(x)| = 0.0003487259095\n",
      "4: |F(x)| = 4.215653604e-09\n",
      "Converged in 5 iterations in 0.0144 seconds.\n"
     ]
    },
    {
     "data": {
      "text/plain": [
       "True"
      ]
     },
     "execution_count": 18,
     "metadata": {},
     "output_type": "execute_result"
    }
   ],
   "source": [
    "for i in range(sse.ev.shape[0]):\n",
    "    ev_dict = {'bus':38, 'gen':'PV_10',\n",
    "            'qmx': 10, 'qmn':-10, 'pmx':60, 'pmn':-70, 'pcap':1,\n",
    "            'gammap': 1, 'gammaq': 1, 'En': 10, 'EtaC': 10, 'EtaD': 10, \n",
    "            'ddn':0, 'tip':0.02, 'tiq':0.02, 'ialim': 100, 'recflag':0,\n",
    "            'pqflag':1, 'vrflag':0}\n",
    "    ssa.add(\"EV2\", ev_dict)\n",
    "# TODO: alter gammap, gammpaq, pmx, pmn, EtaC, EtaD, En later on\n",
    "ev_df = sse.ev.copy()\n",
    "ev_df['p'] = ev_df['c'] * ev_df['Pc']\n",
    "ev_df['gammap'] = ev_df['p'] / ev_df['p'].sum()\n",
    "ev_df['gammaq'] = 1 / ev_df.u.sum()\n",
    "ev_df['EtaC'] = ev_df['nc']\n",
    "ev_df['EtaD'] = ev_df['nd']\n",
    "ev_df['En'] = ev_df['Q'] / 1e3\n",
    "ev_df['SOCinit'] = ev_df['soc'].replace(1, 0.999)\n",
    "# ev_df['pmx'] = ev_df['Pc'] / 1e3 / ssa.config.mva\n",
    "# ev_df['pmn'] = -1 * ev_df['Pc'] / 1e3 / ssa.config.mva\n",
    "ev_df['u'] = ev_df['u']\n",
    "\n",
    "ev_idx = ssa.EV2.idx.v\n",
    "ssa.DG.set(attr='v', idx=ev_idx, src='gammap', value=ev_df['gammap'].values)\n",
    "ssa.DG.set(attr='v', idx=ev_idx, src='gammaq', value=ev_df['gammaq'].values)\n",
    "ssa.DG.set(attr='v', idx=ev_idx, src='EtaC', value=ev_df['EtaC'].values)\n",
    "ssa.DG.set(attr='v', idx=ev_idx, src='EtaD', value=ev_df['EtaD'].values)\n",
    "ssa.DG.set(attr='v', idx=ev_idx, src='En', value=ev_df['En'].values)\n",
    "ssa.DG.set(attr='v', idx=ev_idx, src='SOCinit', value=ev_df['SOCinit'].values)\n",
    "ssa.DG.set(attr='v', idx=ev_idx, src='u', value=ev_df['u'].values)\n",
    "\n",
    "# TODO: alter PV_10.p0\n",
    "p0 = ev_df['p'].sum() / 1e3 / ssa.config.mva\n",
    "ssa.StaticGen.set(src='p0', attr='v', idx='PV_10', value=p0)\n",
    "ssa.setup()\n",
    "ssa.PFlow.run()\n",
    "ssa.TDS.init()\n",
    "\n",
    "ev0_dict = {'bus':38, 'gen':'PV_10',\n",
    "        'qmx': 10, 'qmn':-10, 'pmx':60, 'pmn':-70, 'pcap':1,\n",
    "        'gammap': 1, 'gammaq': 1, 'En': 10, 'EtaC': ev_df['EtaC'].mean(), 'EtaD': ev_df['EtaD'].mean(), \n",
    "        'ddn':0, 'tip':0.02, 'tiq':0.02, 'ialim': 100, 'recflag':0,\n",
    "        'pqflag':1, 'vrflag':0}\n",
    "\n",
    "ss2.add(\"EV2\", ev0_dict)\n",
    "ss2.setup()\n",
    "ss2.StaticGen.set(src='p0', attr='v', idx='PV_10', value=p0)\n",
    "ss2.PFlow.run()\n",
    "ss2.TDS.init()"
   ]
  }
 ],
 "metadata": {
  "kernelspec": {
   "display_name": "Python 3 (ipykernel)",
   "language": "python",
   "name": "python3"
  },
  "language_info": {
   "codemirror_mode": {
    "name": "ipython",
    "version": 3
   },
   "file_extension": ".py",
   "mimetype": "text/x-python",
   "name": "python",
   "nbconvert_exporter": "python",
   "pygments_lexer": "ipython3",
   "version": "3.9.13"
  },
  "varInspector": {
   "cols": {
    "lenName": 16,
    "lenType": 16,
    "lenVar": 40
   },
   "kernels_config": {
    "python": {
     "delete_cmd_postfix": "",
     "delete_cmd_prefix": "del ",
     "library": "var_list.py",
     "varRefreshCmd": "print(var_dic_list())"
    },
    "r": {
     "delete_cmd_postfix": ") ",
     "delete_cmd_prefix": "rm(",
     "library": "var_list.r",
     "varRefreshCmd": "cat(var_dic_list()) "
    }
   },
   "types_to_exclude": [
    "module",
    "function",
    "builtin_function_or_method",
    "instance",
    "_Feature"
   ],
   "window_display": false
  },
  "vscode": {
   "interpreter": {
    "hash": "a33fa296fbacb8644bc9195ef2d759981fef097b4feb655e1da77ca7517b39c3"
   }
  }
 },
 "nbformat": 4,
 "nbformat_minor": 4
}
