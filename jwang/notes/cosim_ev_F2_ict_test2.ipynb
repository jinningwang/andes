{
 "cells": [
  {
   "cell_type": "code",
   "execution_count": 1,
   "metadata": {},
   "outputs": [
    {
     "name": "stdout",
     "output_type": "stream",
     "text": [
      "0.post4538.dev0+g17ad4bb\n",
      "2.8.0\n"
     ]
    }
   ],
   "source": [
    "%run -i 'cosim_import.py'"
   ]
  },
  {
   "cell_type": "code",
   "execution_count": 2,
   "metadata": {},
   "outputs": [],
   "source": [
    "ict = True\n",
    "ecc = True\n",
    "agc = True\n",
    "caseH = 18"
   ]
  },
  {
   "cell_type": "code",
   "execution_count": 3,
   "metadata": {},
   "outputs": [
    {
     "name": "stderr",
     "output_type": "stream",
     "text": [
      "EVA: ts=18[H], 50000 EVs, Total Q=1250.86 MWh\n",
      "Online 14477, Q=362.27 MWh, SoC=0.7435\n",
      "Power(MW): Pt=-39.0266, Pc=-39.0266, Pd=0.0\n",
      "Ctrl: 0=7897; 1=6580; \n",
      "EVA: ts=18[H], 50000 EVs, Total Q=1250.86 MWh\n",
      "Online 14477, Q=362.27 MWh, SoC=0.7435\n",
      "Power(MW): Pt=-39.0266, Pc=-39.0266, Pd=0.0\n",
      "Ctrl: 0=7897; 1=6580; \n"
     ]
    }
   ],
   "source": [
    "ss1 = ev_ssm(ts=caseH, N=50000, step=1, tp=40,\n",
    "             lr=0.1, lp=60, seed=2022, name=\"EVA\",\n",
    "             n_pref=1, is_report=True,\n",
    "             tt_mean=0.3, tt_var=0.01, tt_lb=0, tt_ub=0.6,\n",
    "             ict=True, ecc=ecc, agc=agc)\n",
    "ss2 = ev_ssm(ts=caseH, N=50000, step=1, tp=40,\n",
    "             lr=0.1, lp=60, seed=2022, name=\"EVA\",\n",
    "             n_pref=1, is_report=True,\n",
    "             tt_mean=0.3, tt_var=0.01, tt_lb=0, tt_ub=0.6,\n",
    "             ict=False, ecc=ecc, agc=agc)"
   ]
  },
  {
   "cell_type": "code",
   "execution_count": null,
   "metadata": {},
   "outputs": [],
   "source": [
    "# set0 = set(self.ev.index)\n",
    "# set1 = set(self.ev[(self.ev['tf'] <= self.data['ts'])].index)\n",
    "# set2 = set(self.ev[(self.ev['ts'] >= self.data['ts'] + self.config['t_dur'])].index)\n",
    "# set_in = set0 - set1 - set2\n",
    "# self.ev = self.ev.iloc[list(set_in)].reset_index(drop=True)"
   ]
  },
  {
   "cell_type": "code",
   "execution_count": 5,
   "metadata": {},
   "outputs": [
    {
     "data": {
      "text/plain": [
       "<AxesSubplot:>"
      ]
     },
     "execution_count": 5,
     "metadata": {},
     "output_type": "execute_result"
    },
    {
     "data": {
      "image/png": "[encoded data removed]",
      "text/plain": [
       "<Figure size 432x288 with 1 Axes>"
      ]
     },
     "metadata": {
      "needs_background": "light"
     },
     "output_type": "display_data"
    }
   ],
   "source": [
    "cond = (ss1.ev['tf'] >= ss1.data['ts']) & (ss1.ev['ts'] <= ss1.data['ts'] + ss1.config['t_dur'])\n",
    "ss1.ev['tf'][cond].hist()"
   ]
  },
  {
   "cell_type": "code",
   "execution_count": 8,
   "metadata": {},
   "outputs": [
    {
     "data": {
      "text/plain": [
       "(17373,)"
      ]
     },
     "execution_count": 8,
     "metadata": {},
     "output_type": "execute_result"
    }
   ],
   "source": [
    "ss1.ev['tf'][cond].shape"
   ]
  },
  {
   "cell_type": "code",
   "execution_count": 7,
   "metadata": {},
   "outputs": [
    {
     "data": {
      "text/plain": [
       "(50000, 28)"
      ]
     },
     "execution_count": 7,
     "metadata": {},
     "output_type": "execute_result"
    }
   ],
   "source": [
    "ss1.ev.shape"
   ]
  },
  {
   "cell_type": "code",
   "execution_count": null,
   "metadata": {},
   "outputs": [],
   "source": [
    "# x10 = ss1.x0.copy()\n",
    "# x20 = ss2.x0.copy()\n",
    "\n",
    "# u1, v1, us1, vs1, usp1, vsp1, Pi_cap1, error1 = ss1.r_agc(20)\n",
    "# u2, v2, us2, vs2, usp2, vsp2, Pi_cap2, error2 = ss2.r_agc(20)\n",
    "\n",
    "# x11 = ss1.x0.copy()\n",
    "# x21 = ss2.x0.copy()\n",
    "\n",
    "# dx1 = x11 - x10\n",
    "# dx2 = x21 - x20"
   ]
  },
  {
   "cell_type": "code",
   "execution_count": null,
   "metadata": {},
   "outputs": [],
   "source": [
    "# f1, ax = plt.subplots(1, 1, figsize=(15, 5))\n",
    "# ax.bar(x=range(60), height=dx1, label='dx1', alpha=1, color='tab:green')\n",
    "# ax.bar(x=range(60), height=dx2, label='dx2', alpha=0.5, color='tab:blue')\n",
    "# ax.grid()\n",
    "# ax.set_xlim([0, 60])"
   ]
  },
  {
   "cell_type": "code",
   "execution_count": null,
   "metadata": {},
   "outputs": [],
   "source": [
    "ss1.run(tf=caseH+4/3600, Pi=50,\n",
    "        is_updateA=False, is_rstate=True,\n",
    "        is_test=False, disable=True)\n",
    "ss2.run(tf=caseH+4/3600, Pi=50,\n",
    "        is_updateA=False, is_rstate=True,\n",
    "        is_test=False, disable=True)"
   ]
  },
  {
   "cell_type": "code",
   "execution_count": null,
   "metadata": {},
   "outputs": [],
   "source": [
    "ss1.plot_agc()"
   ]
  },
  {
   "cell_type": "code",
   "execution_count": null,
   "metadata": {},
   "outputs": [],
   "source": [
    "ss2.plot_agc()"
   ]
  },
  {
   "cell_type": "markdown",
   "metadata": {},
   "source": [
    "plt.style.use('science')\n",
    "%run -i 'cosim_plotev.py'"
   ]
  }
 ],
 "metadata": {
  "kernelspec": {
   "display_name": "Python 3.9.12 ('andes')",
   "language": "python",
   "name": "python3"
  },
  "language_info": {
   "codemirror_mode": {
    "name": "ipython",
    "version": 3
   },
   "file_extension": ".py",
   "mimetype": "text/x-python",
   "name": "python",
   "nbconvert_exporter": "python",
   "pygments_lexer": "ipython3",
   "version": "3.9.12"
  },
  "varInspector": {
   "cols": {
    "lenName": 16,
    "lenType": 16,
    "lenVar": 40
   },
   "kernels_config": {
    "python": {
     "delete_cmd_postfix": "",
     "delete_cmd_prefix": "del ",
     "library": "var_list.py",
     "varRefreshCmd": "print(var_dic_list())"
    },
    "r": {
     "delete_cmd_postfix": ") ",
     "delete_cmd_prefix": "rm(",
     "library": "var_list.r",
     "varRefreshCmd": "cat(var_dic_list()) "
    }
   },
   "types_to_exclude": [
    "module",
    "function",
    "builtin_function_or_method",
    "instance",
    "_Feature"
   ],
   "window_display": false
  },
  "vscode": {
   "interpreter": {
    "hash": "ef6cb5c8d99d66a3614f491d51fd40cd94c9138687df3d2045e3a510da5efc66"
   }
  }
 },
 "nbformat": 4,
 "nbformat_minor": 4
}
