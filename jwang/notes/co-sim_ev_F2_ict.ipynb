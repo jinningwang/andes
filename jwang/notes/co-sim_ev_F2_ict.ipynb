{
 "cells": [
  {
   "cell_type": "markdown",
   "metadata": {},
   "source": [
    "# RTED-TDS Co-Sim\n",
    "\n",
    "Authored by [Jinning Wang](https://scholar.google.com/citations?user=Wr7nQZAAAAAJ&hl=en&oi=ao), recently updated on 06/06/2022.\n",
    "\n",
    "This notebook is used to implement the Co-Simulation of Real Time Economic Dispatch (RTED) and Time-Domain Simulation (TDS).\n",
    "In the RTED, SFR is considered. In the TDS, AGC is implemented with an equation defined PI controller.\n",
    "\n",
    "RTED is seperated into two DCOPF and ACOPF: 1) DCOPF with SFR is solved in gurobipy, which is packaged into the class ``rted`` in the file ``rted.py``. 2) ACOPF is solved in pandapower.\n",
    "\n",
    "Class ``rted2`` has attributes ``mdl`` which is a gurobipy model.\n",
    "\n",
    "Table of contents:\n",
    "- Import case: import ADNES case\n",
    "- Load synthetic: build load curve as a scalar\n",
    "- Setup ``ssp`` and ``ssd``\n",
    "- Prepare: define some functions\n",
    "- Define param: define RTED loop parameters\n",
    "- Loop: Co-Sim loop\n",
    "\n",
    "List of major vars:\n",
    "\n",
    "- ``ssa`` ANDES system\n",
    "- ``ssp`` pandapower net\n",
    "- ``ssd`` DCOPF instance\n",
    "- ``sse`` EV aggregator\n",
    "\n",
    "Things need to be done when switching to other cases:\n",
    "- Assign generator cost data. The rows of gen_cost array should be the same with the length of ``ssp.gen``\n",
    "  including those uncontrollable ones, so the DCOPF model can build correctly.\n",
    "- Define generator controllability of ``ssp``, all generators are controllable by default\n",
    "- Define power system data: SFR cost, ramp limit (5-min-based)\n",
    "- Define generator type in ``ssd``, default as type I. For type I generator, generator limtis have impact on both generation and SFR capacity. For yype II generator, SFR capacity is determined by param ``pru_max`` and ``prd_max``\n",
    "\n",
    "Environment requirements:\n",
    "- ANDES (1.6.3+)\n",
    "- pandapower (2.7.0 is tested to be function correctly)\n",
    "- gurobipy\n",
    "- pandas, matplotlib, scipy"
   ]
  },
  {
   "cell_type": "markdown",
   "metadata": {},
   "source": [
    "## Import case"
   ]
  },
  {
   "cell_type": "code",
   "execution_count": 11,
   "metadata": {},
   "outputs": [
    {
     "name": "stdout",
     "output_type": "stream",
     "text": [
      "0.post4489.dev0+g346a428\n",
      "2.8.0\n"
     ]
    }
   ],
   "source": [
    "%run -i 'cosim_import.py'"
   ]
  },
  {
   "cell_type": "markdown",
   "metadata": {},
   "source": [
    "`caseH` is the start time [H] of the co-simulation, now 10 and 18 are supported."
   ]
  },
  {
   "cell_type": "code",
   "execution_count": 12,
   "metadata": {},
   "outputs": [
    {
     "name": "stderr",
     "output_type": "stream",
     "text": [
      "EVA: ts=18[H], 50000 EVs, Total Q=434.54 MWh\n",
      "Online 14477, Q=362.27 MWh, SoC=0.7726\n",
      "Power(MW): Pt=-39.0266, Pc=-39.0266, Pd=-0.0\n",
      "Ctrl: 0=7897; 1=6580; \n",
      "EVA: Load A from Aest.csv.\n",
      "Working directory: \"/Users/jinningwang/Documents/work/andes/jwang/notes\"\n",
      "> Loaded config from file \"/Users/jinningwang/.andes/andes.rc\"\n",
      "> Reloaded generated Python code of module \"pycode\".\n",
      "Generated code for <PQ> is stale.\n",
      "Numerical code generation (rapid incremental mode) started...\n"
     ]
    },
    {
     "name": "stdout",
     "output_type": "stream",
     "text": [
      "Generating code for 1 models on 8 processes.\n"
     ]
    },
    {
     "name": "stderr",
     "output_type": "stream",
     "text": [
      "Saved generated pycode to \"/Users/jinningwang/.andes/pycode\"\n",
      "> Reloaded generated Python code of module \"pycode\".\n",
      "Generated numerical code for 1 models in 0.2588 seconds.\n",
      "Parsing input file \"/Users/jinningwang/Documents/work/andes/jwang/case/ieee39_ev2.xlsx\"...\n",
      "Input file parsed in 0.0952 seconds.\n",
      "System internal structure set up in 0.0583 seconds.\n"
     ]
    }
   ],
   "source": [
    "caseH = 18\n",
    "ict_off = False\n",
    "ecc_off = False\n",
    "\n",
    "%run -i 'cosim_setup_andes.py'"
   ]
  },
  {
   "cell_type": "markdown",
   "metadata": {},
   "source": [
    "## Load synthetic\n",
    "\n",
    "Create load data ``d_syn``, which is a ``DataFrame`` that have three columns: ``time``, ``s10``, ``h10``. ``time`` is by seconds, ``s10`` is scalar load."
   ]
  },
  {
   "cell_type": "code",
   "execution_count": 13,
   "metadata": {
    "scrolled": false
   },
   "outputs": [
    {
     "name": "stdout",
     "output_type": "stream",
     "text": [
      "ANDES total load is: 58.564 p.u.\n"
     ]
    }
   ],
   "source": [
    "%run -i 'cosim_loadsyn.py'"
   ]
  },
  {
   "cell_type": "markdown",
   "metadata": {},
   "source": [
    "## Setup ``ssp`` and ``ssd``\n",
    "\n",
    "Convert ``ssa`` to pandapower net ``ssp``, add generator cost\n",
    "\n",
    "The input cost array follow the matpower/pypower format, now only poly_cost is supported"
   ]
  },
  {
   "cell_type": "code",
   "execution_count": 14,
   "metadata": {
    "scrolled": true
   },
   "outputs": [
    {
     "name": "stderr",
     "output_type": "stream",
     "text": [
      "-> System connectivity check results:\n",
      "  No islanded bus detected.\n",
      "  System is interconnected.\n",
      "  Each island has a slack bus correctly defined and enabled.\n",
      "\n",
      "-> Power flow calculation\n",
      "           Numba: On\n",
      "   Sparse solver: KLU\n",
      " Solution method: NR method\n",
      "Numba compilation initiated with caching.\n",
      "Power flow initialized in 0.1966 seconds.\n",
      "0: |F(x)| = 7.801234474\n",
      "1: |F(x)| = 3.497456094\n",
      "2: |F(x)| = 0.1830765786\n",
      "3: |F(x)| = 0.0007183022492\n",
      "4: |F(x)| = 1.659284843e-08\n",
      "Converged in 5 iterations in 0.0220 seconds.\n",
      "Power flow results are consistent. Conversion is successful.\n",
      "-> System connectivity check results:\n",
      "  No islanded bus detected.\n",
      "  System is interconnected.\n",
      "  Each island has a slack bus correctly defined and enabled.\n",
      "\n",
      "-> Power flow calculation\n",
      "           Numba: On\n",
      "   Sparse solver: KLU\n",
      " Solution method: NR method\n",
      "Numba compilation initiated with caching.\n",
      "Power flow initialized in 0.0084 seconds.\n",
      "0: |F(x)| = 7.801234474\n",
      "1: |F(x)| = 3.497456094\n",
      "2: |F(x)| = 0.1830765786\n",
      "3: |F(x)| = 0.0007183022492\n",
      "4: |F(x)| = 1.659284843e-08\n",
      "Converged in 5 iterations in 0.0138 seconds.\n",
      "Power flow results are consistent. Conversion is successful.\n",
      "GSF is consistent.\n",
      "RTED GB model is loaded.\n",
      "RTED removed: ['rampu', 'rampd']\n",
      "RTED limited: sfru, sfrd\n",
      "RTED: total cost=4889.131\n"
     ]
    },
    {
     "name": "stdout",
     "output_type": "stream",
     "text": [
      "pp cost=2184.5741560778906, gb cost=4889.131241556355\n"
     ]
    },
    {
     "data": {
      "text/html": [
       "<div>\n",
       "<style scoped>\n",
       "    .dataframe tbody tr th:only-of-type {\n",
       "        vertical-align: middle;\n",
       "    }\n",
       "\n",
       "    .dataframe tbody tr th {\n",
       "        vertical-align: top;\n",
       "    }\n",
       "\n",
       "    .dataframe thead th {\n",
       "        text-align: right;\n",
       "    }\n",
       "</style>\n",
       "<table border=\"1\" class=\"dataframe\">\n",
       "  <thead>\n",
       "    <tr style=\"text-align: right;\">\n",
       "      <th></th>\n",
       "      <th>p_mw</th>\n",
       "      <th>q_mvar</th>\n",
       "      <th>va_degree</th>\n",
       "      <th>vm_pu</th>\n",
       "      <th>p_mw(GB)</th>\n",
       "    </tr>\n",
       "  </thead>\n",
       "  <tbody>\n",
       "    <tr>\n",
       "      <th>0</th>\n",
       "      <td>970.0313</td>\n",
       "      <td>39.9756</td>\n",
       "      <td>15.8831</td>\n",
       "      <td>1.0</td>\n",
       "      <td>970.0312</td>\n",
       "    </tr>\n",
       "    <tr>\n",
       "      <th>1</th>\n",
       "      <td>646.0000</td>\n",
       "      <td>228.9208</td>\n",
       "      <td>2.2281</td>\n",
       "      <td>1.0</td>\n",
       "      <td>646.0000</td>\n",
       "    </tr>\n",
       "    <tr>\n",
       "      <th>2</th>\n",
       "      <td>290.0000</td>\n",
       "      <td>81.0987</td>\n",
       "      <td>-0.8653</td>\n",
       "      <td>1.0</td>\n",
       "      <td>290.0000</td>\n",
       "    </tr>\n",
       "    <tr>\n",
       "      <th>3</th>\n",
       "      <td>652.0000</td>\n",
       "      <td>114.2245</td>\n",
       "      <td>7.2985</td>\n",
       "      <td>1.0</td>\n",
       "      <td>652.0000</td>\n",
       "    </tr>\n",
       "    <tr>\n",
       "      <th>4</th>\n",
       "      <td>508.0000</td>\n",
       "      <td>137.9576</td>\n",
       "      <td>5.4672</td>\n",
       "      <td>1.0</td>\n",
       "      <td>508.0000</td>\n",
       "    </tr>\n",
       "    <tr>\n",
       "      <th>5</th>\n",
       "      <td>646.6875</td>\n",
       "      <td>212.0871</td>\n",
       "      <td>6.4196</td>\n",
       "      <td>1.0</td>\n",
       "      <td>646.6875</td>\n",
       "    </tr>\n",
       "    <tr>\n",
       "      <th>6</th>\n",
       "      <td>232.0000</td>\n",
       "      <td>55.2884</td>\n",
       "      <td>3.4379</td>\n",
       "      <td>1.0</td>\n",
       "      <td>232.0000</td>\n",
       "    </tr>\n",
       "    <tr>\n",
       "      <th>7</th>\n",
       "      <td>564.0000</td>\n",
       "      <td>-59.8950</td>\n",
       "      <td>13.9534</td>\n",
       "      <td>1.0</td>\n",
       "      <td>564.0000</td>\n",
       "    </tr>\n",
       "    <tr>\n",
       "      <th>8</th>\n",
       "      <td>865.0000</td>\n",
       "      <td>97.7972</td>\n",
       "      <td>18.9462</td>\n",
       "      <td>1.0</td>\n",
       "      <td>865.0000</td>\n",
       "    </tr>\n",
       "    <tr>\n",
       "      <th>9</th>\n",
       "      <td>30.0000</td>\n",
       "      <td>1.9559</td>\n",
       "      <td>18.9462</td>\n",
       "      <td>1.0</td>\n",
       "      <td>30.0000</td>\n",
       "    </tr>\n",
       "    <tr>\n",
       "      <th>10</th>\n",
       "      <td>452.6813</td>\n",
       "      <td>-152.1988</td>\n",
       "      <td>0.0000</td>\n",
       "      <td>1.0</td>\n",
       "      <td>452.6813</td>\n",
       "    </tr>\n",
       "  </tbody>\n",
       "</table>\n",
       "</div>"
      ],
      "text/plain": [
       "        p_mw    q_mvar  va_degree  vm_pu  p_mw(GB)\n",
       "0   970.0313   39.9756    15.8831    1.0  970.0312\n",
       "1   646.0000  228.9208     2.2281    1.0  646.0000\n",
       "2   290.0000   81.0987    -0.8653    1.0  290.0000\n",
       "3   652.0000  114.2245     7.2985    1.0  652.0000\n",
       "4   508.0000  137.9576     5.4672    1.0  508.0000\n",
       "5   646.6875  212.0871     6.4196    1.0  646.6875\n",
       "6   232.0000   55.2884     3.4379    1.0  232.0000\n",
       "7   564.0000  -59.8950    13.9534    1.0  564.0000\n",
       "8   865.0000   97.7972    18.9462    1.0  865.0000\n",
       "9    30.0000    1.9559    18.9462    1.0   30.0000\n",
       "10  452.6813 -152.1988     0.0000    1.0  452.6813"
      ]
     },
     "execution_count": 14,
     "metadata": {},
     "output_type": "execute_result"
    }
   ],
   "source": [
    "%run -i 'cosim_setup_dispatch.py'\n",
    "dc_comp.round(4)"
   ]
  },
  {
   "cell_type": "markdown",
   "metadata": {},
   "source": [
    "## Prepare"
   ]
  },
  {
   "cell_type": "markdown",
   "metadata": {},
   "source": [
    "### Make link table"
   ]
  },
  {
   "cell_type": "code",
   "execution_count": 15,
   "metadata": {
    "scrolled": true
   },
   "outputs": [
    {
     "data": {
      "text/html": [
       "<div>\n",
       "<style scoped>\n",
       "    .dataframe tbody tr th:only-of-type {\n",
       "        vertical-align: middle;\n",
       "    }\n",
       "\n",
       "    .dataframe tbody tr th {\n",
       "        vertical-align: top;\n",
       "    }\n",
       "\n",
       "    .dataframe thead th {\n",
       "        text-align: right;\n",
       "    }\n",
       "</style>\n",
       "<table border=\"1\" class=\"dataframe\">\n",
       "  <thead>\n",
       "    <tr style=\"text-align: right;\">\n",
       "      <th></th>\n",
       "      <th>stg_name</th>\n",
       "      <th>stg_u</th>\n",
       "      <th>stg_idx</th>\n",
       "      <th>bus_idx</th>\n",
       "      <th>dg_idx</th>\n",
       "      <th>rg_idx</th>\n",
       "      <th>rexc_idx</th>\n",
       "      <th>syg_idx</th>\n",
       "      <th>exc_idx</th>\n",
       "      <th>gov_idx</th>\n",
       "      <th>bus_name</th>\n",
       "      <th>gammap</th>\n",
       "      <th>gammaq</th>\n",
       "      <th>gen_pp</th>\n",
       "      <th>ctrl</th>\n",
       "    </tr>\n",
       "  </thead>\n",
       "  <tbody>\n",
       "    <tr>\n",
       "      <th>0</th>\n",
       "      <td>PV_1</td>\n",
       "      <td>1.0</td>\n",
       "      <td>PV_1</td>\n",
       "      <td>30</td>\n",
       "      <td>False</td>\n",
       "      <td>False</td>\n",
       "      <td>False</td>\n",
       "      <td>GENROU_1</td>\n",
       "      <td>IEEEX1_1</td>\n",
       "      <td>TGOV1_1</td>\n",
       "      <td>GEN30</td>\n",
       "      <td>1.0</td>\n",
       "      <td>1.0</td>\n",
       "      <td>0</td>\n",
       "      <td>True</td>\n",
       "    </tr>\n",
       "    <tr>\n",
       "      <th>1</th>\n",
       "      <td>PV_2</td>\n",
       "      <td>1.0</td>\n",
       "      <td>PV_2</td>\n",
       "      <td>31</td>\n",
       "      <td>False</td>\n",
       "      <td>False</td>\n",
       "      <td>False</td>\n",
       "      <td>GENROU_2</td>\n",
       "      <td>IEEEX1_2</td>\n",
       "      <td>TGOV1_2</td>\n",
       "      <td>GEN31</td>\n",
       "      <td>1.0</td>\n",
       "      <td>1.0</td>\n",
       "      <td>1</td>\n",
       "      <td>True</td>\n",
       "    </tr>\n",
       "    <tr>\n",
       "      <th>2</th>\n",
       "      <td>PV_3</td>\n",
       "      <td>1.0</td>\n",
       "      <td>PV_3</td>\n",
       "      <td>32</td>\n",
       "      <td>False</td>\n",
       "      <td>False</td>\n",
       "      <td>False</td>\n",
       "      <td>GENROU_3</td>\n",
       "      <td>IEEEX1_3</td>\n",
       "      <td>TGOV1_3</td>\n",
       "      <td>GEN32</td>\n",
       "      <td>1.0</td>\n",
       "      <td>1.0</td>\n",
       "      <td>2</td>\n",
       "      <td>True</td>\n",
       "    </tr>\n",
       "    <tr>\n",
       "      <th>3</th>\n",
       "      <td>PV_4</td>\n",
       "      <td>1.0</td>\n",
       "      <td>PV_4</td>\n",
       "      <td>33</td>\n",
       "      <td>False</td>\n",
       "      <td>False</td>\n",
       "      <td>False</td>\n",
       "      <td>GENROU_4</td>\n",
       "      <td>IEEEX1_4</td>\n",
       "      <td>TGOV1_4</td>\n",
       "      <td>GEN33</td>\n",
       "      <td>1.0</td>\n",
       "      <td>1.0</td>\n",
       "      <td>3</td>\n",
       "      <td>True</td>\n",
       "    </tr>\n",
       "    <tr>\n",
       "      <th>4</th>\n",
       "      <td>PV_5</td>\n",
       "      <td>1.0</td>\n",
       "      <td>PV_5</td>\n",
       "      <td>34</td>\n",
       "      <td>False</td>\n",
       "      <td>False</td>\n",
       "      <td>False</td>\n",
       "      <td>GENROU_5</td>\n",
       "      <td>IEEEX1_5</td>\n",
       "      <td>TGOV1_5</td>\n",
       "      <td>GEN34</td>\n",
       "      <td>1.0</td>\n",
       "      <td>1.0</td>\n",
       "      <td>4</td>\n",
       "      <td>True</td>\n",
       "    </tr>\n",
       "    <tr>\n",
       "      <th>5</th>\n",
       "      <td>PV_6</td>\n",
       "      <td>1.0</td>\n",
       "      <td>PV_6</td>\n",
       "      <td>35</td>\n",
       "      <td>False</td>\n",
       "      <td>False</td>\n",
       "      <td>False</td>\n",
       "      <td>GENROU_6</td>\n",
       "      <td>IEEEX1_6</td>\n",
       "      <td>TGOV1_6</td>\n",
       "      <td>GEN35</td>\n",
       "      <td>1.0</td>\n",
       "      <td>1.0</td>\n",
       "      <td>5</td>\n",
       "      <td>True</td>\n",
       "    </tr>\n",
       "    <tr>\n",
       "      <th>6</th>\n",
       "      <td>PV_7</td>\n",
       "      <td>1.0</td>\n",
       "      <td>PV_7</td>\n",
       "      <td>36</td>\n",
       "      <td>False</td>\n",
       "      <td>False</td>\n",
       "      <td>False</td>\n",
       "      <td>GENROU_7</td>\n",
       "      <td>IEEEX1_7</td>\n",
       "      <td>TGOV1_7</td>\n",
       "      <td>GEN36</td>\n",
       "      <td>1.0</td>\n",
       "      <td>1.0</td>\n",
       "      <td>6</td>\n",
       "      <td>True</td>\n",
       "    </tr>\n",
       "    <tr>\n",
       "      <th>7</th>\n",
       "      <td>PV_8</td>\n",
       "      <td>1.0</td>\n",
       "      <td>PV_8</td>\n",
       "      <td>37</td>\n",
       "      <td>False</td>\n",
       "      <td>False</td>\n",
       "      <td>False</td>\n",
       "      <td>GENROU_8</td>\n",
       "      <td>IEEEX1_8</td>\n",
       "      <td>TGOV1_8</td>\n",
       "      <td>GEN37</td>\n",
       "      <td>1.0</td>\n",
       "      <td>1.0</td>\n",
       "      <td>7</td>\n",
       "      <td>True</td>\n",
       "    </tr>\n",
       "    <tr>\n",
       "      <th>8</th>\n",
       "      <td>PV_9</td>\n",
       "      <td>1.0</td>\n",
       "      <td>PV_9</td>\n",
       "      <td>38</td>\n",
       "      <td>False</td>\n",
       "      <td>False</td>\n",
       "      <td>False</td>\n",
       "      <td>GENROU_9</td>\n",
       "      <td>IEEEX1_9</td>\n",
       "      <td>TGOV1_9</td>\n",
       "      <td>GEN38</td>\n",
       "      <td>1.0</td>\n",
       "      <td>1.0</td>\n",
       "      <td>8</td>\n",
       "      <td>True</td>\n",
       "    </tr>\n",
       "    <tr>\n",
       "      <th>9</th>\n",
       "      <td>Slack_10</td>\n",
       "      <td>1.0</td>\n",
       "      <td>Slack_10</td>\n",
       "      <td>39</td>\n",
       "      <td>False</td>\n",
       "      <td>False</td>\n",
       "      <td>False</td>\n",
       "      <td>GENROU_10</td>\n",
       "      <td>IEEEX1_10</td>\n",
       "      <td>TGOV1_10</td>\n",
       "      <td>GEN39</td>\n",
       "      <td>1.0</td>\n",
       "      <td>1.0</td>\n",
       "      <td>10</td>\n",
       "      <td>True</td>\n",
       "    </tr>\n",
       "    <tr>\n",
       "      <th>10</th>\n",
       "      <td>PV_10</td>\n",
       "      <td>1.0</td>\n",
       "      <td>PV_10</td>\n",
       "      <td>38</td>\n",
       "      <td>EV_1</td>\n",
       "      <td>False</td>\n",
       "      <td>False</td>\n",
       "      <td>False</td>\n",
       "      <td>False</td>\n",
       "      <td>False</td>\n",
       "      <td>GEN38</td>\n",
       "      <td>1.0</td>\n",
       "      <td>1.0</td>\n",
       "      <td>9</td>\n",
       "      <td>False</td>\n",
       "    </tr>\n",
       "  </tbody>\n",
       "</table>\n",
       "</div>"
      ],
      "text/plain": [
       "    stg_name  stg_u   stg_idx  bus_idx dg_idx  rg_idx  rexc_idx    syg_idx  \\\n",
       "0       PV_1    1.0      PV_1       30  False   False     False   GENROU_1   \n",
       "1       PV_2    1.0      PV_2       31  False   False     False   GENROU_2   \n",
       "2       PV_3    1.0      PV_3       32  False   False     False   GENROU_3   \n",
       "3       PV_4    1.0      PV_4       33  False   False     False   GENROU_4   \n",
       "4       PV_5    1.0      PV_5       34  False   False     False   GENROU_5   \n",
       "5       PV_6    1.0      PV_6       35  False   False     False   GENROU_6   \n",
       "6       PV_7    1.0      PV_7       36  False   False     False   GENROU_7   \n",
       "7       PV_8    1.0      PV_8       37  False   False     False   GENROU_8   \n",
       "8       PV_9    1.0      PV_9       38  False   False     False   GENROU_9   \n",
       "9   Slack_10    1.0  Slack_10       39  False   False     False  GENROU_10   \n",
       "10     PV_10    1.0     PV_10       38   EV_1   False     False      False   \n",
       "\n",
       "      exc_idx   gov_idx bus_name  gammap  gammaq  gen_pp   ctrl  \n",
       "0    IEEEX1_1   TGOV1_1    GEN30     1.0     1.0       0   True  \n",
       "1    IEEEX1_2   TGOV1_2    GEN31     1.0     1.0       1   True  \n",
       "2    IEEEX1_3   TGOV1_3    GEN32     1.0     1.0       2   True  \n",
       "3    IEEEX1_4   TGOV1_4    GEN33     1.0     1.0       3   True  \n",
       "4    IEEEX1_5   TGOV1_5    GEN34     1.0     1.0       4   True  \n",
       "5    IEEEX1_6   TGOV1_6    GEN35     1.0     1.0       5   True  \n",
       "6    IEEEX1_7   TGOV1_7    GEN36     1.0     1.0       6   True  \n",
       "7    IEEEX1_8   TGOV1_8    GEN37     1.0     1.0       7   True  \n",
       "8    IEEEX1_9   TGOV1_9    GEN38     1.0     1.0       8   True  \n",
       "9   IEEEX1_10  TGOV1_10    GEN39     1.0     1.0      10   True  \n",
       "10      False     False    GEN38     1.0     1.0       9  False  "
      ]
     },
     "execution_count": 15,
     "metadata": {},
     "output_type": "execute_result"
    }
   ],
   "source": [
    "%run -i 'cosim_linktable.py'\n",
    "ssa_key2"
   ]
  },
  {
   "cell_type": "markdown",
   "metadata": {},
   "source": [
    "## Loop\n",
    "\n",
    "In the loop, there are mainly X parts:\n",
    "\n",
    "- interval RTED: run DCOPF (``ssd.mdl``), run ACOPF(``ssp``), \n",
    "\n",
    "- interval AGC: do AGC, do dispatch with smooth setpoints\n",
    "\n",
    "- interval PQ: alter load, run TDS(``ssa.TDS``)\n",
    "\n",
    "Notes:\n",
    "\n",
    "- The setpoints for DG are coded but not verified yet.\n",
    "\n",
    "- After the development of ANDES control room, the dispatch and AGC part can be refactored.\n",
    "\n",
    "- interface variables: ``DG.pmx``: DPV profile, ``DG.pref0``: setpoints, ``DG.pext0``: AGC\n",
    "\n",
    "- ACOPF in pandapower considered generator limtis of ramping and SFR reserve"
   ]
  },
  {
   "cell_type": "code",
   "execution_count": 16,
   "metadata": {},
   "outputs": [],
   "source": [
    "# Change ``rru``, ``rrd``, ``rsfr``, ``t_total`` for necessary.\n",
    "t_total = 300\n",
    "\n",
    "rru, rrd, rsfr = 1.0, 1.0, 0.04\n",
    "\n",
    "# Define functions and constants used in loop\n",
    "%run -i 'cosim_const.py'"
   ]
  },
  {
   "cell_type": "markdown",
   "metadata": {},
   "source": [
    "Check convergence"
   ]
  },
  {
   "cell_type": "code",
   "execution_count": 17,
   "metadata": {
    "scrolled": true
   },
   "outputs": [],
   "source": [
    "# %run -i 'cosim_bmain.py'"
   ]
  },
  {
   "cell_type": "markdown",
   "metadata": {},
   "source": [
    "Loop"
   ]
  },
  {
   "cell_type": "code",
   "execution_count": 18,
   "metadata": {},
   "outputs": [
    {
     "data": {
      "text/plain": [
       "{'ts': 18,\n",
       " 'Pr': 0,\n",
       " 'Prc': 0,\n",
       " 'Per': 0,\n",
       " 'ne': 14477,\n",
       " 'nec': 14247,\n",
       " 'Ptc': -39.02664650724406,\n",
       " 'Pcc': -39.02664650724406,\n",
       " 'Pdc': -0.0,\n",
       " 'Pt': -38.369834006018635}"
      ]
     },
     "execution_count": 18,
     "metadata": {},
     "output_type": "execute_result"
    }
   ],
   "source": [
    "sse.data"
   ]
  },
  {
   "cell_type": "code",
   "execution_count": 19,
   "metadata": {},
   "outputs": [
    {
     "data": {
      "text/plain": [
       "<ev_ssm.ev_ssm at 0x168e8ac40>"
      ]
     },
     "execution_count": 19,
     "metadata": {},
     "output_type": "execute_result"
    }
   ],
   "source": [
    "sse"
   ]
  },
  {
   "cell_type": "code",
   "execution_count": 20,
   "metadata": {
    "scrolled": true
   },
   "outputs": [
    {
     "name": "stderr",
     "output_type": "stream",
     "text": [
      "RTED GB model is loaded.\n",
      "RTED removed: ['rampu', 'rampd']\n",
      "RTED is solved.\n",
      "RTED: total cost=4716.296\n",
      "-> System connectivity check results:\n",
      "  No islanded bus detected.\n",
      "  System is interconnected.\n",
      "  Each island has a slack bus correctly defined and enabled.\n",
      "\n",
      "-> Power flow calculation\n",
      "           Numba: On\n",
      "   Sparse solver: KLU\n",
      " Solution method: NR method\n",
      "Numba compilation initiated with caching.\n",
      "Power flow initialized in 0.0092 seconds.\n",
      "0: |F(x)| = 7.898638529\n",
      "1: |F(x)| = 3.780559551\n",
      "2: |F(x)| = 0.2178337722\n",
      "3: |F(x)| = 0.00168934585\n",
      "4: |F(x)| = 7.07865806e-08\n",
      "Converged in 5 iterations in 0.0109 seconds.\n",
      "Numba compilation initiated with caching.\n",
      "GENROU (xl <= xd2) out of typical upper limit.\n",
      "\n",
      "   idx     | values | limit\n",
      "-----------+--------+------\n",
      " GENROU_1  | 0.014  | 0.001\n",
      " GENROU_3  | 0.018  | 0.003\n",
      " GENROU_4  | 0.013  | 0.001\n",
      " GENROU_5  | 0.014  | 0.001\n",
      " GENROU_7  | 0.015  | 0.002\n",
      " GENROU_8  | 0.015  | 0.006\n",
      " GENROU_9  | 0.009  | 0.001\n",
      " GENROU_10 | 0.013  | 0.000\n",
      "\n",
      "\n",
      "Initialization for dynamics completed in 0.2728 seconds.\n",
      "Initialization was successful.\n",
      "\n",
      "-> Time Domain Simulation Summary:\n",
      "Sparse Solver: KLU\n",
      "Simulation time: 0.0-0 s.\n",
      "Fixed step size: h=33.33 ms. Shrink if not converged.\n",
      "Simulation to t=0.00 sec completed in 0.0000 seconds.\n",
      "\n",
      "-> Time Domain Simulation Summary:\n",
      "Sparse Solver: KLU\n",
      "Simulation time: 0.0-1 s.\n",
      "Fixed step size: h=33.33 ms. Shrink if not converged.\n",
      "Current step size is zero. Integration is not permitted.\n",
      "Simulation to t=1.00 sec completed in 0.0601 seconds.\n",
      "Simulation to t=2.00 sec completed in 0.0650 seconds.\n",
      "Simulation to t=3.00 sec completed in 0.1088 seconds.\n",
      "Simulation to t=4.00 sec completed in 0.1236 seconds.\n",
      "Simulation to t=5.00 sec completed in 0.0536 seconds.\n",
      "Simulation to t=6.00 sec completed in 0.0471 seconds.\n",
      "Simulation to t=7.00 sec completed in 0.0509 seconds.\n",
      "Simulation to t=8.00 sec completed in 0.0553 seconds.\n",
      "Simulation to t=9.00 sec completed in 0.0499 seconds.\n",
      "Simulation to t=10.00 sec completed in 0.0430 seconds.\n",
      "Simulation to t=11.00 sec completed in 0.0527 seconds.\n",
      "Simulation to t=12.00 sec completed in 0.0755 seconds.\n",
      "Simulation to t=13.00 sec completed in 0.0516 seconds.\n",
      "Simulation to t=14.00 sec completed in 0.1151 seconds.\n",
      "Simulation to t=15.00 sec completed in 0.0441 seconds.\n",
      "Simulation to t=16.00 sec completed in 0.0485 seconds.\n",
      "Simulation to t=17.00 sec completed in 0.0983 seconds.\n",
      "Simulation to t=18.00 sec completed in 0.0493 seconds.\n",
      "Simulation to t=19.00 sec completed in 0.0877 seconds.\n",
      "Simulation to t=20.00 sec completed in 0.0538 seconds.\n",
      "Simulation to t=21.00 sec completed in 0.0774 seconds.\n",
      "Simulation to t=22.00 sec completed in 0.0464 seconds.\n",
      "Simulation to t=23.00 sec completed in 0.0614 seconds.\n",
      "Simulation to t=24.00 sec completed in 0.0816 seconds.\n",
      "Simulation to t=25.00 sec completed in 0.0808 seconds.\n",
      "Simulation to t=26.00 sec completed in 0.0359 seconds.\n",
      "Simulation to t=27.00 sec completed in 0.0718 seconds.\n",
      "Simulation to t=28.00 sec completed in 0.0512 seconds.\n",
      "Simulation to t=29.00 sec completed in 0.0532 seconds.\n",
      "Simulation to t=30.00 sec completed in 0.0462 seconds.\n",
      "Simulation to t=31.00 sec completed in 0.0401 seconds.\n",
      "Simulation to t=32.00 sec completed in 0.0533 seconds.\n",
      "Simulation to t=33.00 sec completed in 0.0463 seconds.\n",
      "Simulation to t=34.00 sec completed in 0.0583 seconds.\n",
      "Simulation to t=35.00 sec completed in 0.0422 seconds.\n",
      "Simulation to t=36.00 sec completed in 0.0716 seconds.\n",
      "Simulation to t=37.00 sec completed in 0.0634 seconds.\n",
      "Simulation to t=38.00 sec completed in 0.0438 seconds.\n",
      "Simulation to t=39.00 sec completed in 0.0400 seconds.\n",
      "Simulation to t=40.00 sec completed in 0.0518 seconds.\n",
      "Simulation to t=41.00 sec completed in 0.0468 seconds.\n",
      "Simulation to t=42.00 sec completed in 0.0565 seconds.\n",
      "Simulation to t=43.00 sec completed in 0.0593 seconds.\n",
      "Simulation to t=44.00 sec completed in 0.1023 seconds.\n",
      "Simulation to t=45.00 sec completed in 0.0474 seconds.\n",
      "Simulation to t=46.00 sec completed in 0.0497 seconds.\n",
      "Simulation to t=47.00 sec completed in 0.0405 seconds.\n",
      "Simulation to t=48.00 sec completed in 0.0547 seconds.\n",
      "Simulation to t=49.00 sec completed in 0.0494 seconds.\n",
      "Simulation to t=50.00 sec completed in 0.0605 seconds.\n",
      "Simulation to t=51.00 sec completed in 0.0537 seconds.\n",
      "Simulation to t=52.00 sec completed in 0.0608 seconds.\n",
      "Simulation to t=53.00 sec completed in 0.0490 seconds.\n",
      "Simulation to t=54.00 sec completed in 0.0578 seconds.\n",
      "Simulation to t=55.00 sec completed in 0.0641 seconds.\n",
      "Simulation to t=56.00 sec completed in 0.0488 seconds.\n",
      "Simulation to t=57.00 sec completed in 0.0554 seconds.\n",
      "Simulation to t=58.00 sec completed in 0.0453 seconds.\n",
      "Simulation to t=59.00 sec completed in 0.0397 seconds.\n",
      "Simulation to t=60.00 sec completed in 0.0772 seconds.\n",
      "Simulation to t=61.00 sec completed in 0.0458 seconds.\n",
      "Simulation to t=62.00 sec completed in 0.0514 seconds.\n",
      "Simulation to t=63.00 sec completed in 0.0501 seconds.\n",
      "Simulation to t=64.00 sec completed in 0.0522 seconds.\n",
      "Simulation to t=65.00 sec completed in 0.0584 seconds.\n",
      "Simulation to t=66.00 sec completed in 0.0408 seconds.\n",
      "Simulation to t=67.00 sec completed in 0.0518 seconds.\n",
      "Simulation to t=68.00 sec completed in 0.0485 seconds.\n",
      "Simulation to t=69.00 sec completed in 0.0740 seconds.\n",
      "Simulation to t=70.00 sec completed in 0.0392 seconds.\n",
      "Simulation to t=71.00 sec completed in 0.0557 seconds.\n",
      "Simulation to t=72.00 sec completed in 0.0563 seconds.\n",
      "Simulation to t=73.00 sec completed in 0.0733 seconds.\n",
      "Simulation to t=74.00 sec completed in 0.0442 seconds.\n",
      "Simulation to t=75.00 sec completed in 0.0451 seconds.\n",
      "Simulation to t=76.00 sec completed in 0.0590 seconds.\n",
      "Simulation to t=77.00 sec completed in 0.0624 seconds.\n",
      "Simulation to t=78.00 sec completed in 0.0414 seconds.\n",
      "Simulation to t=79.00 sec completed in 0.0575 seconds.\n",
      "Simulation to t=80.00 sec completed in 0.0467 seconds.\n",
      "Simulation to t=81.00 sec completed in 0.0526 seconds.\n",
      "Simulation to t=82.00 sec completed in 0.0473 seconds.\n",
      "Simulation to t=83.00 sec completed in 0.0464 seconds.\n",
      "Simulation to t=84.00 sec completed in 0.0675 seconds.\n",
      "Simulation to t=85.00 sec completed in 0.0420 seconds.\n",
      "Simulation to t=86.00 sec completed in 0.0448 seconds.\n",
      "Simulation to t=87.00 sec completed in 0.0474 seconds.\n",
      "Simulation to t=88.00 sec completed in 0.0652 seconds.\n",
      "Simulation to t=89.00 sec completed in 0.0581 seconds.\n",
      "Simulation to t=90.00 sec completed in 0.1065 seconds.\n",
      "Simulation to t=91.00 sec completed in 0.0649 seconds.\n",
      "Simulation to t=92.00 sec completed in 0.0453 seconds.\n",
      "Simulation to t=93.00 sec completed in 0.0417 seconds.\n",
      "Simulation to t=94.00 sec completed in 0.0495 seconds.\n",
      "Simulation to t=95.00 sec completed in 0.0584 seconds.\n",
      "Simulation to t=96.00 sec completed in 0.0460 seconds.\n",
      "Simulation to t=97.00 sec completed in 0.0535 seconds.\n",
      "Simulation to t=98.00 sec completed in 0.0548 seconds.\n",
      "Simulation to t=99.00 sec completed in 0.0518 seconds.\n",
      "Simulation to t=100.00 sec completed in 0.0483 seconds.\n",
      "Simulation to t=101.00 sec completed in 0.0546 seconds.\n",
      "Simulation to t=102.00 sec completed in 0.0587 seconds.\n",
      "Simulation to t=103.00 sec completed in 0.0436 seconds.\n",
      "Simulation to t=104.00 sec completed in 0.0609 seconds.\n",
      "Simulation to t=105.00 sec completed in 0.0957 seconds.\n",
      "Simulation to t=106.00 sec completed in 0.0733 seconds.\n",
      "Simulation to t=107.00 sec completed in 0.0529 seconds.\n",
      "Simulation to t=108.00 sec completed in 0.0461 seconds.\n",
      "Simulation to t=109.00 sec completed in 0.0454 seconds.\n",
      "Simulation to t=110.00 sec completed in 0.0436 seconds.\n",
      "Simulation to t=111.00 sec completed in 0.0395 seconds.\n",
      "Simulation to t=112.00 sec completed in 0.0515 seconds.\n",
      "Simulation to t=113.00 sec completed in 0.0482 seconds.\n",
      "Simulation to t=114.00 sec completed in 0.0514 seconds.\n",
      "Simulation to t=115.00 sec completed in 0.0424 seconds.\n",
      "Simulation to t=116.00 sec completed in 0.0611 seconds.\n",
      "Simulation to t=117.00 sec completed in 0.0458 seconds.\n",
      "Simulation to t=118.00 sec completed in 0.0374 seconds.\n",
      "Simulation to t=119.00 sec completed in 0.0949 seconds.\n",
      "Simulation to t=120.00 sec completed in 0.0533 seconds.\n",
      "Simulation to t=121.00 sec completed in 0.0383 seconds.\n",
      "Simulation to t=122.00 sec completed in 0.0433 seconds.\n",
      "Simulation to t=123.00 sec completed in 0.0689 seconds.\n",
      "Simulation to t=124.00 sec completed in 0.0403 seconds.\n",
      "Simulation to t=125.00 sec completed in 0.0433 seconds.\n",
      "Simulation to t=126.00 sec completed in 0.2975 seconds.\n",
      "Simulation to t=127.00 sec completed in 0.0436 seconds.\n",
      "Simulation to t=128.00 sec completed in 0.0419 seconds.\n",
      "Simulation to t=129.00 sec completed in 0.0403 seconds.\n",
      "Simulation to t=130.00 sec completed in 0.0539 seconds.\n",
      "Simulation to t=131.00 sec completed in 0.0422 seconds.\n",
      "Simulation to t=132.00 sec completed in 0.1134 seconds.\n",
      "Simulation to t=133.00 sec completed in 0.1468 seconds.\n",
      "Simulation to t=134.00 sec completed in 0.0482 seconds.\n",
      "Simulation to t=135.00 sec completed in 0.0401 seconds.\n",
      "Simulation to t=136.00 sec completed in 0.0584 seconds.\n",
      "Simulation to t=137.00 sec completed in 0.1079 seconds.\n",
      "Simulation to t=138.00 sec completed in 0.0512 seconds.\n",
      "Simulation to t=139.00 sec completed in 0.0657 seconds.\n",
      "Simulation to t=140.00 sec completed in 0.0544 seconds.\n",
      "Simulation to t=141.00 sec completed in 0.0436 seconds.\n",
      "Simulation to t=142.00 sec completed in 0.0509 seconds.\n",
      "Simulation to t=143.00 sec completed in 0.0414 seconds.\n",
      "Simulation to t=144.00 sec completed in 0.0562 seconds.\n",
      "Simulation to t=145.00 sec completed in 0.0457 seconds.\n",
      "Simulation to t=146.00 sec completed in 0.0578 seconds.\n",
      "Simulation to t=147.00 sec completed in 0.0973 seconds.\n",
      "Simulation to t=148.00 sec completed in 0.0425 seconds.\n",
      "Simulation to t=149.00 sec completed in 0.0664 seconds.\n",
      "Simulation to t=150.00 sec completed in 0.0454 seconds.\n",
      "Simulation to t=151.00 sec completed in 0.0811 seconds.\n",
      "Simulation to t=152.00 sec completed in 0.0744 seconds.\n",
      "Simulation to t=153.00 sec completed in 0.0596 seconds.\n",
      "Simulation to t=154.00 sec completed in 0.0624 seconds.\n",
      "Simulation to t=155.00 sec completed in 0.0550 seconds.\n",
      "Simulation to t=156.00 sec completed in 0.1167 seconds.\n",
      "Simulation to t=157.00 sec completed in 0.1609 seconds.\n",
      "Simulation to t=158.00 sec completed in 0.0792 seconds.\n",
      "Simulation to t=159.00 sec completed in 0.0563 seconds.\n",
      "Simulation to t=160.00 sec completed in 0.0852 seconds.\n",
      "Simulation to t=161.00 sec completed in 0.0605 seconds.\n",
      "Simulation to t=162.00 sec completed in 0.1185 seconds.\n",
      "Simulation to t=163.00 sec completed in 0.0860 seconds.\n",
      "Simulation to t=164.00 sec completed in 0.0567 seconds.\n",
      "Simulation to t=165.00 sec completed in 0.0854 seconds.\n",
      "Simulation to t=166.00 sec completed in 0.0715 seconds.\n",
      "Simulation to t=167.00 sec completed in 0.0555 seconds.\n",
      "Simulation to t=168.00 sec completed in 0.0588 seconds.\n",
      "Simulation to t=169.00 sec completed in 0.0571 seconds.\n",
      "Simulation to t=170.00 sec completed in 0.0433 seconds.\n",
      "Simulation to t=171.00 sec completed in 0.0730 seconds.\n",
      "Simulation to t=172.00 sec completed in 0.0503 seconds.\n",
      "Simulation to t=173.00 sec completed in 0.0533 seconds.\n",
      "Simulation to t=174.00 sec completed in 0.0503 seconds.\n",
      "Simulation to t=175.00 sec completed in 0.0389 seconds.\n",
      "Simulation to t=176.00 sec completed in 0.0685 seconds.\n",
      "Simulation to t=177.00 sec completed in 0.0672 seconds.\n",
      "Simulation to t=178.00 sec completed in 0.0517 seconds.\n",
      "Simulation to t=179.00 sec completed in 0.0537 seconds.\n",
      "Simulation to t=180.00 sec completed in 0.0435 seconds.\n",
      "Simulation to t=181.00 sec completed in 0.0405 seconds.\n",
      "Simulation to t=182.00 sec completed in 0.0492 seconds.\n",
      "Simulation to t=183.00 sec completed in 0.0462 seconds.\n",
      "Simulation to t=184.00 sec completed in 0.0658 seconds.\n",
      "Simulation to t=185.00 sec completed in 0.0442 seconds.\n",
      "Simulation to t=186.00 sec completed in 0.0648 seconds.\n",
      "Simulation to t=187.00 sec completed in 0.0447 seconds.\n",
      "Simulation to t=188.00 sec completed in 0.0440 seconds.\n",
      "Simulation to t=189.00 sec completed in 0.0513 seconds.\n",
      "Simulation to t=190.00 sec completed in 0.0612 seconds.\n",
      "Simulation to t=191.00 sec completed in 0.0499 seconds.\n",
      "Simulation to t=192.00 sec completed in 0.0452 seconds.\n",
      "Simulation to t=193.00 sec completed in 0.0485 seconds.\n",
      "Simulation to t=194.00 sec completed in 0.1380 seconds.\n",
      "Simulation to t=195.00 sec completed in 0.0647 seconds.\n",
      "Simulation to t=196.00 sec completed in 0.0527 seconds.\n",
      "Simulation to t=197.00 sec completed in 0.0846 seconds.\n",
      "Simulation to t=198.00 sec completed in 0.0579 seconds.\n",
      "Simulation to t=199.00 sec completed in 0.0529 seconds.\n",
      "Simulation to t=200.00 sec completed in 0.0489 seconds.\n",
      "Simulation to t=201.00 sec completed in 0.1019 seconds.\n",
      "Simulation to t=202.00 sec completed in 0.1449 seconds.\n",
      "Simulation to t=203.00 sec completed in 0.0939 seconds.\n",
      "Simulation to t=204.00 sec completed in 0.0735 seconds.\n",
      "Simulation to t=205.00 sec completed in 0.0886 seconds.\n",
      "Simulation to t=206.00 sec completed in 0.0968 seconds.\n",
      "Simulation to t=207.00 sec completed in 0.0572 seconds.\n",
      "Simulation to t=208.00 sec completed in 0.1026 seconds.\n",
      "Simulation to t=209.00 sec completed in 0.0507 seconds.\n",
      "Simulation to t=210.00 sec completed in 0.0408 seconds.\n",
      "Simulation to t=211.00 sec completed in 0.0483 seconds.\n",
      "Simulation to t=212.00 sec completed in 0.0498 seconds.\n",
      "Simulation to t=213.00 sec completed in 0.0729 seconds.\n",
      "Simulation to t=214.00 sec completed in 0.0446 seconds.\n",
      "Simulation to t=215.00 sec completed in 0.0450 seconds.\n",
      "Simulation to t=216.00 sec completed in 0.0464 seconds.\n",
      "Simulation to t=217.00 sec completed in 0.0419 seconds.\n",
      "Simulation to t=218.00 sec completed in 0.0411 seconds.\n",
      "Simulation to t=219.00 sec completed in 0.0417 seconds.\n",
      "Simulation to t=220.00 sec completed in 0.0374 seconds.\n",
      "Simulation to t=221.00 sec completed in 0.0391 seconds.\n",
      "Simulation to t=222.00 sec completed in 0.0376 seconds.\n",
      "Simulation to t=223.00 sec completed in 0.0331 seconds.\n",
      "Simulation to t=224.00 sec completed in 0.0427 seconds.\n",
      "Simulation to t=225.00 sec completed in 0.0363 seconds.\n",
      "Simulation to t=226.00 sec completed in 0.0594 seconds.\n",
      "Simulation to t=227.00 sec completed in 0.0346 seconds.\n",
      "Simulation to t=228.00 sec completed in 0.0349 seconds.\n",
      "Simulation to t=229.00 sec completed in 0.0365 seconds.\n",
      "Simulation to t=230.00 sec completed in 0.0359 seconds.\n",
      "Simulation to t=231.00 sec completed in 0.0352 seconds.\n",
      "Simulation to t=232.00 sec completed in 0.0334 seconds.\n",
      "Simulation to t=233.00 sec completed in 0.0376 seconds.\n",
      "Simulation to t=234.00 sec completed in 0.0375 seconds.\n",
      "Simulation to t=235.00 sec completed in 0.0321 seconds.\n",
      "Simulation to t=236.00 sec completed in 0.0326 seconds.\n",
      "Simulation to t=237.00 sec completed in 0.0288 seconds.\n",
      "Simulation to t=238.00 sec completed in 0.0301 seconds.\n",
      "Simulation to t=239.00 sec completed in 0.0294 seconds.\n",
      "Simulation to t=240.00 sec completed in 0.0307 seconds.\n",
      "Simulation to t=241.00 sec completed in 0.0297 seconds.\n",
      "Simulation to t=242.00 sec completed in 0.0293 seconds.\n",
      "Simulation to t=243.00 sec completed in 0.0290 seconds.\n",
      "Simulation to t=244.00 sec completed in 0.0293 seconds.\n",
      "Simulation to t=245.00 sec completed in 0.0313 seconds.\n",
      "Simulation to t=246.00 sec completed in 0.0289 seconds.\n",
      "Simulation to t=247.00 sec completed in 0.0288 seconds.\n",
      "Simulation to t=248.00 sec completed in 0.0288 seconds.\n",
      "Simulation to t=249.00 sec completed in 0.0289 seconds.\n",
      "Simulation to t=250.00 sec completed in 0.0298 seconds.\n",
      "Simulation to t=251.00 sec completed in 0.0297 seconds.\n",
      "Simulation to t=252.00 sec completed in 0.0289 seconds.\n",
      "Simulation to t=253.00 sec completed in 0.0289 seconds.\n",
      "Simulation to t=254.00 sec completed in 0.0289 seconds.\n",
      "Simulation to t=255.00 sec completed in 0.0288 seconds.\n",
      "Simulation to t=256.00 sec completed in 0.0302 seconds.\n",
      "Simulation to t=257.00 sec completed in 0.0273 seconds.\n",
      "Simulation to t=258.00 sec completed in 0.0270 seconds.\n",
      "Simulation to t=259.00 sec completed in 0.0276 seconds.\n",
      "Simulation to t=260.00 sec completed in 0.0274 seconds.\n",
      "Simulation to t=261.00 sec completed in 0.0273 seconds.\n",
      "Simulation to t=262.00 sec completed in 0.0273 seconds.\n",
      "Simulation to t=263.00 sec completed in 0.0281 seconds.\n",
      "Simulation to t=264.00 sec completed in 0.0275 seconds.\n",
      "Simulation to t=265.00 sec completed in 0.0275 seconds.\n",
      "Simulation to t=266.00 sec completed in 0.0280 seconds.\n",
      "Simulation to t=267.00 sec completed in 0.0289 seconds.\n",
      "Simulation to t=268.00 sec completed in 0.0286 seconds.\n",
      "Simulation to t=269.00 sec completed in 0.0322 seconds.\n",
      "Simulation to t=270.00 sec completed in 0.0281 seconds.\n",
      "Simulation to t=271.00 sec completed in 0.0316 seconds.\n",
      "Simulation to t=272.00 sec completed in 0.0377 seconds.\n",
      "Simulation to t=273.00 sec completed in 0.0375 seconds.\n",
      "Simulation to t=274.00 sec completed in 0.0378 seconds.\n",
      "Simulation to t=275.00 sec completed in 0.0385 seconds.\n",
      "Simulation to t=276.00 sec completed in 0.0387 seconds.\n",
      "Simulation to t=277.00 sec completed in 0.0383 seconds.\n",
      "Simulation to t=278.00 sec completed in 0.0403 seconds.\n",
      "Simulation to t=279.00 sec completed in 0.0401 seconds.\n",
      "Simulation to t=280.00 sec completed in 0.0409 seconds.\n",
      "Simulation to t=281.00 sec completed in 0.0407 seconds.\n",
      "Simulation to t=282.00 sec completed in 0.0407 seconds.\n",
      "Simulation to t=283.00 sec completed in 0.0407 seconds.\n",
      "Simulation to t=284.00 sec completed in 0.0566 seconds.\n",
      "Simulation to t=285.00 sec completed in 0.0391 seconds.\n",
      "Simulation to t=286.00 sec completed in 0.0432 seconds.\n",
      "Simulation to t=287.00 sec completed in 0.0409 seconds.\n",
      "Simulation to t=288.00 sec completed in 0.0402 seconds.\n",
      "Simulation to t=289.00 sec completed in 0.0418 seconds.\n",
      "Simulation to t=290.00 sec completed in 0.0423 seconds.\n",
      "Simulation to t=291.00 sec completed in 0.0407 seconds.\n",
      "Simulation to t=292.00 sec completed in 0.0464 seconds.\n",
      "Simulation to t=293.00 sec completed in 0.0442 seconds.\n",
      "Simulation to t=294.00 sec completed in 0.0417 seconds.\n",
      "Simulation to t=295.00 sec completed in 0.0417 seconds.\n",
      "Simulation to t=296.00 sec completed in 0.0442 seconds.\n",
      "Simulation to t=297.00 sec completed in 0.0415 seconds.\n",
      "Simulation to t=298.00 sec completed in 0.0415 seconds.\n",
      "Simulation to t=299.00 sec completed in 0.0427 seconds.\n"
     ]
    }
   ],
   "source": [
    "%run -i 'cosim_main.py'"
   ]
  },
  {
   "cell_type": "code",
   "execution_count": 21,
   "metadata": {},
   "outputs": [
    {
     "data": {
      "text/plain": [
       "0"
      ]
     },
     "execution_count": 21,
     "metadata": {},
     "output_type": "execute_result"
    }
   ],
   "source": [
    "ssa.exit_code"
   ]
  },
  {
   "cell_type": "code",
   "execution_count": 22,
   "metadata": {},
   "outputs": [
    {
     "data": {
      "text/plain": [
       "(<Figure size 600x300 with 1 Axes>,\n",
       " <AxesSubplot:title={'center':'AGC response'}, xlabel='Time [s]', ylabel='Power (MW)'>)"
      ]
     },
     "execution_count": 22,
     "metadata": {},
     "output_type": "execute_result"
    },
    {
     "data": {
      "image/png": "[encoded data removed]",
      "text/plain": [
       "<Figure size 360x288 with 1 Axes>"
      ]
     },
     "metadata": {
      "needs_background": "light"
     },
     "output_type": "display_data"
    },
    {
     "data": {
      "image/png": "[encoded data removed]",
      "text/plain": [
       "<Figure size 360x288 with 1 Axes>"
      ]
     },
     "metadata": {
      "needs_background": "light"
     },
     "output_type": "display_data"
    },
    {
     "data": {
      "image/png": "[encoded data removed]",
      "text/plain": [
       "<Figure size 600x300 with 1 Axes>"
      ]
     },
     "metadata": {},
     "output_type": "display_data"
    }
   ],
   "source": [
    "sse.plot_agc()"
   ]
  },
  {
   "cell_type": "code",
   "execution_count": 23,
   "metadata": {},
   "outputs": [],
   "source": [
    "# ssa.TDS.save_output()"
   ]
  },
  {
   "cell_type": "code",
   "execution_count": 24,
   "metadata": {
    "scrolled": false
   },
   "outputs": [
    {
     "ename": "AttributeError",
     "evalue": "'ev_ssm' object has no attribute 'tss'",
     "output_type": "error",
     "traceback": [
      "\u001b[0;31m---------------------------------------------------------------------------\u001b[0m",
      "\u001b[0;31mAttributeError\u001b[0m                            Traceback (most recent call last)",
      "File \u001b[0;32m~/Documents/work/andes/jwang/notes/cosim_plot.py:18\u001b[0m, in \u001b[0;36m<module>\u001b[0;34m\u001b[0m\n\u001b[1;32m     16\u001b[0m \u001b[39m# Record EV output\u001b[39;00m\n\u001b[1;32m     17\u001b[0m sse_out \u001b[39m=\u001b[39m pd\u001b[39m.\u001b[39mDataFrame()\n\u001b[0;32m---> 18\u001b[0m sse_out[\u001b[39m'\u001b[39m\u001b[39mtime\u001b[39m\u001b[39m'\u001b[39m] \u001b[39m=\u001b[39m sse\u001b[39m.\u001b[39;49mtss\n\u001b[1;32m     19\u001b[0m sse_out[\u001b[39m'\u001b[39m\u001b[39magc\u001b[39m\u001b[39m'\u001b[39m] \u001b[39m=\u001b[39m agc_smooth\u001b[39m.\u001b[39miloc[\u001b[39m10\u001b[39m]  \u001b[39m# AGC input to EV\u001b[39;00m\n\u001b[1;32m     20\u001b[0m sse_out[\u001b[39m'\u001b[39m\u001b[39mPr\u001b[39m\u001b[39m'\u001b[39m] \u001b[39m=\u001b[39m sse\u001b[39m.\u001b[39mPrl\n",
      "\u001b[0;31mAttributeError\u001b[0m: 'ev_ssm' object has no attribute 'tss'"
     ]
    },
    {
     "data": {
      "text/plain": [
       "<Figure size 640x480 with 0 Axes>"
      ]
     },
     "metadata": {},
     "output_type": "display_data"
    }
   ],
   "source": [
    "%run -i 'cosim_plot.py'"
   ]
  },
  {
   "cell_type": "code",
   "execution_count": null,
   "metadata": {},
   "outputs": [],
   "source": [
    "# plot the AGC signal\n",
    "\n",
    "# figa, axa = plt.subplots()\n",
    "# axa.plot(range(0, 3600, 4),\n",
    "#          ssa.config.mva * agc_out.values[10:, 1:].reshape(900, 1),\n",
    "#          color='tab:orange')\n",
    "# axa.plot(range(0, 3600, 4),\n",
    "#          ssa.config.mva * agc_in.values[10:, 1:].reshape(900, 1),\n",
    "#          color='tab:red')\n",
    "# ssa.TDS.plt.plot(ssa.TGOV1N.paux,\n",
    "#                  linestyles=['-'],\n",
    "#                  yheader=yheader,\n",
    "#                  ytimes=ssa.config.mva,\n",
    "#                  legend=False, show=False,\n",
    "#                  title=r'AGC power', ylabel='MW',\n",
    "#                  fig=figa, ax=axa, style='default',\n",
    "#                  left=1000, right=2000)\n",
    "# axa.legend(['AGC_out-EV', 'AGC_in-EV'])"
   ]
  },
  {
   "cell_type": "code",
   "execution_count": null,
   "metadata": {},
   "outputs": [],
   "source": [
    "sev = sse.ev.copy()\n",
    "sse.ev[sse.ev['na'] >= sse.ev['nam']]"
   ]
  },
  {
   "cell_type": "code",
   "execution_count": null,
   "metadata": {},
   "outputs": [],
   "source": [
    "# cosim_out.to_csv('cosim_18_F_ict_out.csv', index=False)\n",
    "# sse_out.to_csv('cosim_18_F_ict_sse.csv', index=False)\n",
    "# bu_df.to_csv('cosim_18_F_ict_bu.csv', index=False)\n",
    "# bd_df.to_csv('cosim_18_F_ict_bd.csv', index=False)\n",
    "# pg_df.to_csv('cosim_18_F_ict_pg.csv', index=False)\n",
    "# agc_mile.to_csv('cosim_18_F_ict_agcm.csv', index=False)\n",
    "# sfr_res.to_csv('cosim_18_F_ict_sfr.csv', index=False)\n",
    "# ev_agc.to_csv('cosim_18_F_ict_evagc.csv', index=False)\n",
    "# ev_soc.to_csv('cosim_18_F_ict_evsoc.csv', index=False)\n",
    "# sse.ev.to_csv('cosim_18_F_ict_evdata.csv', index=False)\n",
    "\n",
    "# import csv\n",
    "# new_path = open('cosim_18_F_ict_rted.csv', 'w')\n",
    "# z = csv.writer(new_path)\n",
    "# for new_k, new_v in rted_res.items():\n",
    "#     z.writerow([new_k, new_v])\n",
    "# new_path.close()"
   ]
  },
  {
   "cell_type": "code",
   "execution_count": null,
   "metadata": {},
   "outputs": [],
   "source": [
    "# split -l 4 index.txt split_file\n",
    "# !ls -lh"
   ]
  },
  {
   "cell_type": "code",
   "execution_count": null,
   "metadata": {},
   "outputs": [],
   "source": [
    "plt.style.use('science')\n",
    "%run -i 'cosim_plotev.py'"
   ]
  }
 ],
 "metadata": {
  "kernelspec": {
   "display_name": "Python 3.9.12 ('andes')",
   "language": "python",
   "name": "python3"
  },
  "language_info": {
   "codemirror_mode": {
    "name": "ipython",
    "version": 3
   },
   "file_extension": ".py",
   "mimetype": "text/x-python",
   "name": "python",
   "nbconvert_exporter": "python",
   "pygments_lexer": "ipython3",
   "version": "3.9.12"
  },
  "varInspector": {
   "cols": {
    "lenName": 16,
    "lenType": 16,
    "lenVar": 40
   },
   "kernels_config": {
    "python": {
     "delete_cmd_postfix": "",
     "delete_cmd_prefix": "del ",
     "library": "var_list.py",
     "varRefreshCmd": "print(var_dic_list())"
    },
    "r": {
     "delete_cmd_postfix": ") ",
     "delete_cmd_prefix": "rm(",
     "library": "var_list.r",
     "varRefreshCmd": "cat(var_dic_list()) "
    }
   },
   "types_to_exclude": [
    "module",
    "function",
    "builtin_function_or_method",
    "instance",
    "_Feature"
   ],
   "window_display": false
  },
  "vscode": {
   "interpreter": {
    "hash": "ef6cb5c8d99d66a3614f491d51fd40cd94c9138687df3d2045e3a510da5efc66"
   }
  }
 },
 "nbformat": 4,
 "nbformat_minor": 4
}
