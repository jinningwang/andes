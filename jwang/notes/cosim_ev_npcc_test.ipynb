{
 "cells": [
  {
   "cell_type": "markdown",
   "metadata": {},
   "source": [
    "# RTED-TDS Co-Sim\n",
    "\n",
    "NPCC Case"
   ]
  },
  {
   "cell_type": "code",
   "execution_count": 1,
   "metadata": {},
   "outputs": [
    {
     "name": "stdout",
     "output_type": "stream",
     "text": [
      "0.post4553+g5c8f4a5\n",
      "2.8.0\n"
     ]
    }
   ],
   "source": [
    "%run -i 'cosim_import.py'\n",
    "andes.config_logger(stream_level=20)"
   ]
  },
  {
   "cell_type": "markdown",
   "metadata": {},
   "source": [
    "`caseH` is the start time [H] of the co-simulation, now 10 and 18 are supported."
   ]
  },
  {
   "cell_type": "code",
   "execution_count": 2,
   "metadata": {},
   "outputs": [
    {
     "name": "stderr",
     "output_type": "stream",
     "text": [
      "EVA: ts=18[H], 50000 EVs, Total Q=434.54 MWh\n",
      "Online 14477, Q=362.27 MWh, SoC=0.7435\n",
      "Power(MW): Pt=-39.0266, Pc=-39.0266, Pd=0.0\n",
      "Ctrl: 0=7897; 1=6580; \n",
      "EVA: Load A from Aest.csv.\n",
      "Working directory: \"/Users/jinningwang/Documents/work/andes/jwang/notes\"\n",
      "> Loaded config from file \"/Users/jinningwang/.andes/andes.rc\"\n",
      "> Loaded generated Python code in \"/Users/jinningwang/.andes/pycode\".\n",
      "Generated code for <PQ> is stale.\n",
      "Numerical code generation (rapid incremental mode) started...\n"
     ]
    },
    {
     "name": "stdout",
     "output_type": "stream",
     "text": [
      "Generating code for 1 models on 8 processes.\n"
     ]
    },
    {
     "name": "stderr",
     "output_type": "stream",
     "text": [
      "Saved generated pycode to \"/Users/jinningwang/.andes/pycode\"\n",
      "> Reloaded generated Python code of module \"pycode\".\n",
      "Generated numerical code for 1 models in 0.1669 seconds.\n",
      "Parsing input file \"/Users/jinningwang/Documents/work/andes/jwang/case/npcc_ev.xlsx\"...\n",
      "Input file parsed in 0.1132 seconds.\n",
      "System internal structure set up in 0.0246 seconds.\n"
     ]
    }
   ],
   "source": [
    "caseH = 18\n",
    "ict = False\n",
    "ecc = False\n",
    "agc = False\n",
    "\n",
    "# --- EV Aggregator ---\n",
    "sse = ev_ssm(ts=caseH, N=50000, step=1, tp=40,\n",
    "             lr=0.1, lp=60, seed=2022, name=\"EVA\",\n",
    "             n_pref=1, is_report=True,\n",
    "             tt_mean=0.2, tt_var=0.05, tt_lb=0, tt_ub=0.4,\n",
    "             ict=ict, ecc=ecc, agc=agc)\n",
    "sse.load_A(\"Aest.csv\")\n",
    "# historical data\n",
    "ev_num = pd.read_csv(\"ev_num.csv\")\n",
    "\n",
    "# --- ANDES case ---\n",
    "dir_path = os.path.abspath('..')\n",
    "case_path = '/case/npcc_ev.xlsx'\n",
    "case = dir_path + case_path\n",
    "ssa = andes.load(case,\n",
    "                 setup=True,\n",
    "                 no_output=True,\n",
    "                 default_config=False)\n",
    "\n",
    "# Set output mode as 'manual', turn off TDS progress bar\n",
    "ssa.TDS.config.save_mode = 'manual'\n",
    "ssa.TDS.config.no_tqdm = 1\n",
    "\n",
    "# Set load as constant load.\n",
    "ssa.PQ.config.p2p = 1\n",
    "ssa.PQ.config.q2q = 1\n",
    "ssa.PQ.config.p2z = 0\n",
    "ssa.PQ.config.q2z = 0\n",
    "ssa.PQ.pq2z = 0\n",
    "\n",
    "# Turn on ``numba`` can accelerate TDS.\n",
    "ssa.config.numba = 1\n"
   ]
  },
  {
   "cell_type": "code",
   "execution_count": 3,
   "metadata": {},
   "outputs": [
    {
     "data": {
      "text/plain": [
       "True"
      ]
     },
     "execution_count": 3,
     "metadata": {},
     "output_type": "execute_result"
    }
   ],
   "source": [
    "pq_idx = ssa.PQ.idx.v\n",
    "pq_p0 = ssa.PQ.p0.v\n",
    "k = 1.3\n",
    "ssa.PQ.set(src='p0', idx=pq_idx, attr='v', value=k * pq_p0)"
   ]
  },
  {
   "cell_type": "code",
   "execution_count": 4,
   "metadata": {},
   "outputs": [
    {
     "name": "stderr",
     "output_type": "stream",
     "text": [
      "-> System connectivity check results:\n",
      "  No islanded bus detected.\n",
      "  System is interconnected.\n",
      "  Each island has a slack bus correctly defined and enabled.\n",
      "\n",
      "-> Power flow calculation\n",
      "           Numba: On\n",
      "   Sparse solver: KLU\n",
      " Solution method: NR method\n",
      "Numba compilation initiated with caching.\n",
      "Power flow initialized in 0.0884 seconds.\n",
      "0: |F(x)| = 5.999835422\n",
      "1: |F(x)| = 14.84350349\n",
      "2: |F(x)| = 6.105639424\n",
      "3: |F(x)| = 19932.3758\n",
      "4: |F(x)| = 4975.160738\n",
      "5: |F(x)| = 1307.471695\n",
      "6: |F(x)| = 25754.58227\n",
      "7: |F(x)| = 683249.3958\n",
      "Mismatch increased too fast. Convergence not likely.\n",
      "Power flow failed after 8 iterations for \"/Users/jinningwang/Documents/work/andes/jwang/case/npcc_ev.xlsx\".\n"
     ]
    },
    {
     "data": {
      "text/plain": [
       "False"
      ]
     },
     "execution_count": 4,
     "metadata": {},
     "output_type": "execute_result"
    }
   ],
   "source": [
    "ssa.PFlow.run()"
   ]
  },
  {
   "cell_type": "code",
   "execution_count": 5,
   "metadata": {},
   "outputs": [
    {
     "ename": "TypeError",
     "evalue": "object of type 'NoneType' has no len()",
     "output_type": "error",
     "traceback": [
      "\u001b[0;31m---------------------------------------------------------------------------\u001b[0m",
      "\u001b[0;31mTypeError\u001b[0m                                 Traceback (most recent call last)",
      "\u001b[1;32m/Users/jinningwang/Documents/work/andes/jwang/notes/cosim_ev_npcc_test.ipynb Cell 7'\u001b[0m in \u001b[0;36m<cell line: 1>\u001b[0;34m()\u001b[0m\n\u001b[0;32m----> <a href='vscode-notebook-cell:/Users/jinningwang/Documents/work/andes/jwang/notes/cosim_ev_npcc_test.ipynb#ch0000021?line=0'>1</a>\u001b[0m ss_init \u001b[39m=\u001b[39m ssa\u001b[39m.\u001b[39;49mTDS\u001b[39m.\u001b[39;49minit()\n",
      "File \u001b[0;32m~/Documents/work/andes/andes/routines/tds.py:194\u001b[0m, in \u001b[0;36mTDS.init\u001b[0;34m(self)\u001b[0m\n\u001b[1;32m    191\u001b[0m \u001b[39mself\u001b[39m\u001b[39m.\u001b[39m_load_pert()\n\u001b[1;32m    193\u001b[0m \u001b[39m# restore power flow solutions\u001b[39;00m\n\u001b[0;32m--> 194\u001b[0m system\u001b[39m.\u001b[39mdae\u001b[39m.\u001b[39mx[:\u001b[39mlen\u001b[39;49m(system\u001b[39m.\u001b[39;49mPFlow\u001b[39m.\u001b[39;49mx_sol)] \u001b[39m=\u001b[39m system\u001b[39m.\u001b[39mPFlow\u001b[39m.\u001b[39mx_sol\n\u001b[1;32m    195\u001b[0m system\u001b[39m.\u001b[39mdae\u001b[39m.\u001b[39my[:\u001b[39mlen\u001b[39m(system\u001b[39m.\u001b[39mPFlow\u001b[39m.\u001b[39my_sol)] \u001b[39m=\u001b[39m system\u001b[39m.\u001b[39mPFlow\u001b[39m.\u001b[39my_sol\n\u001b[1;32m    197\u001b[0m \u001b[39m# Note:\u001b[39;00m\n\u001b[1;32m    198\u001b[0m \u001b[39m#   calling `set_address` on `system.exist.pflow_tds` will point all variables\u001b[39;00m\n\u001b[1;32m    199\u001b[0m \u001b[39m#   to the new array after extending `dae.y`.\u001b[39;00m\n",
      "\u001b[0;31mTypeError\u001b[0m: object of type 'NoneType' has no len()"
     ]
    }
   ],
   "source": [
    "ss_init = ssa.TDS.init()"
   ]
  },
  {
   "cell_type": "code",
   "execution_count": null,
   "metadata": {},
   "outputs": [],
   "source": []
  },
  {
   "cell_type": "markdown",
   "metadata": {},
   "source": [
    "## Load synthetic\n",
    "\n",
    "Create load data ``d_syn``, which is a ``DataFrame`` that have three columns: ``time``, ``s10``, ``h10``. ``time`` is by seconds, ``s10`` is scalar load."
   ]
  },
  {
   "cell_type": "code",
   "execution_count": null,
   "metadata": {
    "scrolled": false
   },
   "outputs": [],
   "source": [
    "%run -i 'cosim_loadsyn.py'"
   ]
  },
  {
   "cell_type": "markdown",
   "metadata": {},
   "source": [
    "## Setup ``ssp`` and ``ssd``\n",
    "\n",
    "Convert ``ssa`` to pandapower net ``ssp``, add generator cost\n",
    "\n",
    "The input cost array follow the matpower/pypower format, now only poly_cost is supported"
   ]
  },
  {
   "cell_type": "code",
   "execution_count": null,
   "metadata": {
    "scrolled": true
   },
   "outputs": [],
   "source": [
    "%run -i 'cosim_setup_dispatch.py'\n",
    "dc_comp.round(4)"
   ]
  },
  {
   "cell_type": "markdown",
   "metadata": {},
   "source": [
    "## Prepare"
   ]
  },
  {
   "cell_type": "markdown",
   "metadata": {},
   "source": [
    "### Make link table"
   ]
  },
  {
   "cell_type": "code",
   "execution_count": null,
   "metadata": {
    "scrolled": true
   },
   "outputs": [],
   "source": [
    "%run -i 'cosim_linktable.py'\n",
    "ssa_key2"
   ]
  },
  {
   "cell_type": "markdown",
   "metadata": {},
   "source": [
    "## Loop\n",
    "\n",
    "In the loop, there are mainly X parts:\n",
    "\n",
    "- interval RTED: run DCOPF (``ssd.mdl``), run ACOPF(``ssp``), \n",
    "\n",
    "- interval AGC: do AGC, do dispatch with smooth setpoints\n",
    "\n",
    "- interval PQ: alter load, run TDS(``ssa.TDS``)\n",
    "\n",
    "Notes:\n",
    "\n",
    "- The setpoints for DG are coded but not verified yet.\n",
    "\n",
    "- After the development of ANDES control room, the dispatch and AGC part can be refactored.\n",
    "\n",
    "- interface variables: ``DG.pmx``: DPV profile, ``DG.pref0``: setpoints, ``DG.pext0``: AGC\n",
    "\n",
    "- ACOPF in pandapower considered generator limtis of ramping and SFR reserve"
   ]
  },
  {
   "cell_type": "code",
   "execution_count": null,
   "metadata": {},
   "outputs": [],
   "source": [
    "# Change ``rru``, ``rrd``, ``rsfr``, ``t_total`` for necessary.\n",
    "t_total = 3600\n",
    "\n",
    "rru, rrd, rsfr = 0.0, 0.0, 0.05\n",
    "\n",
    "# Define functions and constants used in loop\n",
    "%run -i 'cosim_const.py'"
   ]
  },
  {
   "cell_type": "markdown",
   "metadata": {},
   "source": [
    "Check convergence"
   ]
  },
  {
   "cell_type": "code",
   "execution_count": null,
   "metadata": {
    "scrolled": true
   },
   "outputs": [],
   "source": [
    "# %run -i 'cosim_bmain.py'"
   ]
  },
  {
   "cell_type": "markdown",
   "metadata": {},
   "source": [
    "Loop"
   ]
  },
  {
   "cell_type": "code",
   "execution_count": null,
   "metadata": {
    "scrolled": true
   },
   "outputs": [],
   "source": [
    "%run -i 'cosim_main.py'"
   ]
  },
  {
   "cell_type": "code",
   "execution_count": null,
   "metadata": {},
   "outputs": [],
   "source": [
    "ssa.exit_code"
   ]
  },
  {
   "cell_type": "code",
   "execution_count": null,
   "metadata": {},
   "outputs": [],
   "source": [
    "sse.plot_agc(style='ieee')"
   ]
  },
  {
   "cell_type": "code",
   "execution_count": null,
   "metadata": {
    "scrolled": false
   },
   "outputs": [],
   "source": [
    "%run -i 'cosim_plot.py'"
   ]
  },
  {
   "cell_type": "code",
   "execution_count": null,
   "metadata": {},
   "outputs": [],
   "source": [
    "# --- save output ---\n",
    "file_beging = 'cosim_'\n",
    "sim_name = 'ieee39_s'\n",
    "\n",
    "cosim_out.to_csv(file_beging + sim_name + '_out.csv', index=False)\n",
    "sse_out.to_csv(file_beging + sim_name + '_sse.csv', index=False)\n",
    "bu_df.to_csv(file_beging + sim_name + '_bu.csv', index=False)\n",
    "bd_df.to_csv(file_beging + sim_name + '_bd.csv', index=False)\n",
    "pg_df.to_csv(file_beging + sim_name + '_pg.csv', index=False)\n",
    "agc_mile.to_csv(file_beging + sim_name + '_agcm.csv', index=False)\n",
    "sfr_res.to_csv(file_beging + sim_name + '_sfr.csv', index=False)\n",
    "ev_agc.to_csv(file_beging + sim_name + '_evagc.csv', index=False)\n",
    "ev_soc.iloc[0:800].to_csv(file_beging + sim_name + '_evsoc1.csv', index=False)\n",
    "ev_soc.iloc[800:].to_csv(file_beging + sim_name + '_evsoc2.csv', index=False)\n",
    "sse.ev.to_csv(file_beging + sim_name + '_evdata.csv', index=False)\n",
    "\n",
    "import csv\n",
    "new_path = open(file_beging + sim_name + '_rted.csv', 'w')\n",
    "z = csv.writer(new_path)\n",
    "for new_k, new_v in rted_res.items():\n",
    "    z.writerow([new_k, new_v])\n",
    "new_path.close()"
   ]
  }
 ],
 "metadata": {
  "kernelspec": {
   "display_name": "Python 3.9.12 ('andes')",
   "language": "python",
   "name": "python3"
  },
  "language_info": {
   "codemirror_mode": {
    "name": "ipython",
    "version": 3
   },
   "file_extension": ".py",
   "mimetype": "text/x-python",
   "name": "python",
   "nbconvert_exporter": "python",
   "pygments_lexer": "ipython3",
   "version": "3.9.12"
  },
  "varInspector": {
   "cols": {
    "lenName": 16,
    "lenType": 16,
    "lenVar": 40
   },
   "kernels_config": {
    "python": {
     "delete_cmd_postfix": "",
     "delete_cmd_prefix": "del ",
     "library": "var_list.py",
     "varRefreshCmd": "print(var_dic_list())"
    },
    "r": {
     "delete_cmd_postfix": ") ",
     "delete_cmd_prefix": "rm(",
     "library": "var_list.r",
     "varRefreshCmd": "cat(var_dic_list()) "
    }
   },
   "types_to_exclude": [
    "module",
    "function",
    "builtin_function_or_method",
    "instance",
    "_Feature"
   ],
   "window_display": false
  },
  "vscode": {
   "interpreter": {
    "hash": "ef6cb5c8d99d66a3614f491d51fd40cd94c9138687df3d2045e3a510da5efc66"
   }
  }
 },
 "nbformat": 4,
 "nbformat_minor": 4
}
