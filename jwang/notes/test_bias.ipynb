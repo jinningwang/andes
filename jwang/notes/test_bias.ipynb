{
 "cells": [
  {
   "cell_type": "markdown",
   "metadata": {},
   "source": [
    "## Import case"
   ]
  },
  {
   "cell_type": "code",
   "execution_count": 1,
   "metadata": {
    "ExecuteTime": {
     "end_time": "2021-03-20T14:50:27.821845Z",
     "start_time": "2021-03-20T14:50:27.457672Z"
    },
    "execution": {
     "iopub.execute_input": "2021-09-26T22:41:51.096056Z",
     "iopub.status.busy": "2021-09-26T22:41:51.095687Z",
     "iopub.status.idle": "2021-09-26T22:41:51.787388Z",
     "shell.execute_reply": "2021-09-26T22:41:51.787697Z"
    }
   },
   "outputs": [],
   "source": [
    "import andes\n",
    "import numpy as np\n",
    "from andes.interop.pandapower import to_pandapower, make_link_table, runopp_map\n",
    "from andes.interop.pandapower import add_gencost, build_group_table\n",
    "andes.config_logger(stream_level=20)\n",
    "\n",
    "import pandas as pd\n",
    "import pandapower as pp\n",
    "from math import ceil, floor\n",
    "\n",
    "import os\n",
    "\n",
    "import matplotlib.pyplot as plt\n",
    "\n",
    "import scipy.stats as stat\n",
    "\n",
    "from jams import rted2, dcopf"
   ]
  },
  {
   "cell_type": "markdown",
   "metadata": {},
   "source": [
    "Package version"
   ]
  },
  {
   "cell_type": "code",
   "execution_count": 2,
   "metadata": {},
   "outputs": [
    {
     "name": "stdout",
     "output_type": "stream",
     "text": [
      "0.post4566.dev0+g690b111\n",
      "2.9.0\n"
     ]
    }
   ],
   "source": [
    "print(andes.__version__)\n",
    "print(pp.__version__)"
   ]
  },
  {
   "cell_type": "markdown",
   "metadata": {},
   "source": [
    "Import ADNES case"
   ]
  },
  {
   "cell_type": "code",
   "execution_count": 3,
   "metadata": {
    "ExecuteTime": {
     "end_time": "2021-03-20T14:50:33.843520Z",
     "start_time": "2021-03-20T14:50:33.664077Z"
    },
    "execution": {
     "iopub.execute_input": "2021-09-26T22:41:59.401976Z",
     "iopub.status.busy": "2021-09-26T22:41:59.401670Z",
     "iopub.status.idle": "2021-09-26T22:41:59.781185Z",
     "shell.execute_reply": "2021-09-26T22:41:59.780928Z"
    }
   },
   "outputs": [
    {
     "name": "stderr",
     "output_type": "stream",
     "text": [
      "Working directory: \"/home/jwang175/andes/jwang/notes\"\n",
      "> Loaded config from file \"/home/jwang175/.andes/andes.rc\"\n",
      "> Loaded generated Python code in \"/home/jwang175/.andes/pycode\".\n",
      "Generated code for <PQ> is stale.\n",
      "Numerical code generation (rapid incremental mode) started...\n"
     ]
    },
    {
     "name": "stdout",
     "output_type": "stream",
     "text": [
      "Generating code for 1 models on 6 processes.\n"
     ]
    },
    {
     "name": "stderr",
     "output_type": "stream",
     "text": [
      "Saved generated pycode to \"/home/jwang175/.andes/pycode\"\n",
      "> Reloaded generated Python code of module \"pycode\".\n",
      "Generated numerical code for 1 models in 0.3024 seconds.\n",
      "Parsing input file \"/home/jwang175/andes/jwang/case/ieee39_ev2.xlsx\"...\n",
      "Input file parsed in 0.1149 seconds.\n",
      "System internal structure set up in 0.0678 seconds.\n"
     ]
    }
   ],
   "source": [
    "# ss0 is used for PP conversion\n",
    "dir_path = os.path.abspath('..')\n",
    "case_path = '/case/npcc_ev.xlsx'\n",
    "case_path = '/case/ieee39_ev2.xlsx'\n",
    "case = dir_path + case_path\n",
    "ssa = andes.load(case,\n",
    "                 setup=True,\n",
    "                 no_output=True,\n",
    "                 default_config=False)"
   ]
  },
  {
   "cell_type": "code",
   "execution_count": 4,
   "metadata": {},
   "outputs": [],
   "source": [
    "ssa.PQ.config.p2p = 1\n",
    "ssa.PQ.config.q2q = 1\n",
    "ssa.PQ.config.p2z = 0\n",
    "ssa.PQ.config.q2z = 0\n",
    "\n",
    "# turn off under-voltage PQ-to-Z conversion\n",
    "ssa.PQ.pq2z = 0"
   ]
  },
  {
   "cell_type": "code",
   "execution_count": 5,
   "metadata": {},
   "outputs": [
    {
     "name": "stderr",
     "output_type": "stream",
     "text": [
      "-> System connectivity check results:\n",
      "  No islanded bus detected.\n",
      "  System is interconnected.\n",
      "  Each island has a slack bus correctly defined and enabled.\n",
      "\n",
      "-> Power flow calculation\n",
      "           Numba: On\n",
      "   Sparse solver: KLU\n",
      " Solution method: NR method\n",
      "Numba compilation initiated with caching.\n",
      "Power flow initialized in 0.1193 seconds.\n",
      "0: |F(x)| = 9.601680411\n",
      "1: |F(x)| = 3.500722513\n",
      "2: |F(x)| = 0.1835121365\n",
      "3: |F(x)| = 0.0007752022182\n",
      "4: |F(x)| = 1.764731161e-08\n",
      "Converged in 5 iterations in 0.0167 seconds.\n",
      "\n",
      "-> Time Domain Simulation Summary:\n",
      "Sparse Solver: KLU\n",
      "Simulation time: 0.0-2 s.\n",
      "Fixed step size: h=33.33 ms. Shrink if not converged.\n",
      "Numba compilation initiated with caching.\n",
      "GENROU (vf range) out of typical lower limit.\n",
      "\n",
      "   idx     | values | limit\n",
      "-----------+--------+------\n",
      " GENROU_10 | 0.982  | 1    \n",
      "\n",
      "\n",
      "GENROU (xl <= xd2) out of typical upper limit.\n",
      "\n",
      "   idx     | values | limit\n",
      "-----------+--------+------\n",
      " GENROU_1  | 0.014  | 0.001\n",
      " GENROU_3  | 0.018  | 0.003\n",
      " GENROU_4  | 0.013  | 0.001\n",
      " GENROU_5  | 0.014  | 0.001\n",
      " GENROU_7  | 0.015  | 0.002\n",
      " GENROU_8  | 0.015  | 0.006\n",
      " GENROU_9  | 0.009  | 0.001\n",
      " GENROU_10 | 0.013  | 0.000\n",
      "\n",
      "\n",
      "Initialization for dynamics completed in 0.3854 seconds.\n",
      "Initialization was successful.\n"
     ]
    },
    {
     "data": {
      "application/vnd.jupyter.widget-view+json": {
       "model_id": "92421528bc384fd6876915457be34bc2",
       "version_major": 2,
       "version_minor": 0
      },
      "text/plain": [
       "  0%|          | 0/100 [00:00<?, ?%/s]"
      ]
     },
     "metadata": {},
     "output_type": "display_data"
    },
    {
     "name": "stderr",
     "output_type": "stream",
     "text": [
      "Simulation to t=2.00 sec completed in 0.0776 seconds.\n"
     ]
    },
    {
     "data": {
      "text/plain": [
       "True"
      ]
     },
     "execution_count": 5,
     "metadata": {},
     "output_type": "execute_result"
    }
   ],
   "source": [
    "ssa.PFlow.run()\n",
    "ssa.TDS.config.tf = 2\n",
    "ssa.TDS.run()"
   ]
  },
  {
   "cell_type": "code",
   "execution_count": 6,
   "metadata": {},
   "outputs": [
    {
     "name": "stdout",
     "output_type": "stream",
     "text": [
      "2.338\n"
     ]
    },
    {
     "data": {
      "text/plain": [
       "True"
      ]
     },
     "execution_count": 6,
     "metadata": {},
     "output_type": "execute_result"
    }
   ],
   "source": [
    "p0 = ssa.PQ.get(src='p0', idx='PQ_3')\n",
    "print(p0)\n",
    "ssa.PQ.set(src='Ppf', idx='PQ_3', value=p0*1.2, attr='v')"
   ]
  },
  {
   "cell_type": "code",
   "execution_count": 7,
   "metadata": {},
   "outputs": [
    {
     "data": {
      "text/plain": [
       "17546.666666666668"
      ]
     },
     "execution_count": 7,
     "metadata": {},
     "output_type": "execute_result"
    }
   ],
   "source": [
    "0.2 * 2.632 * 100 / 0.003"
   ]
  },
  {
   "cell_type": "code",
   "execution_count": 8,
   "metadata": {},
   "outputs": [
    {
     "data": {
      "text/plain": [
       "3596.9230769230776"
      ]
     },
     "execution_count": 8,
     "metadata": {},
     "output_type": "execute_result"
    }
   ],
   "source": [
    "0.2 * 2.338 * 100 / 0.013"
   ]
  },
  {
   "cell_type": "code",
   "execution_count": 9,
   "metadata": {},
   "outputs": [
    {
     "data": {
      "application/vnd.jupyter.widget-view+json": {
       "model_id": "19d4b873d29a4aff97d24250ca2d5e8d",
       "version_major": 2,
       "version_minor": 0
      },
      "text/plain": [
       "  0%|          | 0/100 [00:00<?, ?%/s]"
      ]
     },
     "metadata": {},
     "output_type": "display_data"
    },
    {
     "name": "stderr",
     "output_type": "stream",
     "text": [
      "Simulation to t=20.00 sec completed in 1.5905 seconds.\n"
     ]
    },
    {
     "data": {
      "text/plain": [
       "True"
      ]
     },
     "execution_count": 9,
     "metadata": {},
     "output_type": "execute_result"
    }
   ],
   "source": [
    "ssa.TDS.config.tf = 20\n",
    "ssa.TDS.run()"
   ]
  },
  {
   "cell_type": "code",
   "execution_count": 10,
   "metadata": {},
   "outputs": [
    {
     "data": {
      "image/png": "[encoded data removed]",
      "text/plain": [
       "<Figure size 640x480 with 1 Axes>"
      ]
     },
     "metadata": {},
     "output_type": "display_data"
    },
    {
     "data": {
      "text/plain": [
       "(<Figure size 640x480 with 1 Axes>, <AxesSubplot: xlabel='Time [s]'>)"
      ]
     },
     "execution_count": 10,
     "metadata": {},
     "output_type": "execute_result"
    }
   ],
   "source": [
    "ssa.TDS.plt.plot(ssa.COI.omega,\n",
    "                 ytimes=60, grid=True,\n",
    "                 a=(0))"
   ]
  },
  {
   "cell_type": "code",
   "execution_count": 11,
   "metadata": {},
   "outputs": [],
   "source": [
    "# pref0 = ssa.TGOV1N.get(src='pref0', idx='TGOV1_22')\n",
    "# print(pref0)\n",
    "# ssa.TurbineGov.set(src='pref0', idx='TGOV1_22', value=p0 + pref0, attr='v')"
   ]
  },
  {
   "cell_type": "code",
   "execution_count": 12,
   "metadata": {},
   "outputs": [
    {
     "data": {
      "application/vnd.jupyter.widget-view+json": {
       "model_id": "38b71d1f74d2404dbf79363a9ed38d07",
       "version_major": 2,
       "version_minor": 0
      },
      "text/plain": [
       "  0%|          | 0/100 [00:00<?, ?%/s]"
      ]
     },
     "metadata": {},
     "output_type": "display_data"
    },
    {
     "name": "stderr",
     "output_type": "stream",
     "text": [
      "Simulation to t=40.00 sec completed in 1.4423 seconds.\n"
     ]
    },
    {
     "data": {
      "text/plain": [
       "True"
      ]
     },
     "execution_count": 12,
     "metadata": {},
     "output_type": "execute_result"
    }
   ],
   "source": [
    "ssa.TDS.config.tf = 40\n",
    "ssa.TDS.run()"
   ]
  }
 ],
 "metadata": {
  "kernelspec": {
   "display_name": "Python 3",
   "language": "python",
   "name": "python3"
  },
  "language_info": {
   "codemirror_mode": {
    "name": "ipython",
    "version": 3
   },
   "file_extension": ".py",
   "mimetype": "text/x-python",
   "name": "python",
   "nbconvert_exporter": "python",
   "pygments_lexer": "ipython3",
   "version": "3.9.13"
  },
  "varInspector": {
   "cols": {
    "lenName": 16,
    "lenType": 16,
    "lenVar": 40
   },
   "kernels_config": {
    "python": {
     "delete_cmd_postfix": "",
     "delete_cmd_prefix": "del ",
     "library": "var_list.py",
     "varRefreshCmd": "print(var_dic_list())"
    },
    "r": {
     "delete_cmd_postfix": ") ",
     "delete_cmd_prefix": "rm(",
     "library": "var_list.r",
     "varRefreshCmd": "cat(var_dic_list()) "
    }
   },
   "types_to_exclude": [
    "module",
    "function",
    "builtin_function_or_method",
    "instance",
    "_Feature"
   ],
   "window_display": false
  },
  "vscode": {
   "interpreter": {
    "hash": "a33fa296fbacb8644bc9195ef2d759981fef097b4feb655e1da77ca7517b39c3"
   }
  }
 },
 "nbformat": 4,
 "nbformat_minor": 4
}
