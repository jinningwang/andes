{
 "cells": [
  {
   "cell_type": "code",
   "execution_count": 1,
   "metadata": {},
   "outputs": [
    {
     "name": "stdout",
     "output_type": "stream",
     "text": [
      "1.7.2.post289.dev0+g82128fb0\n",
      "2.9.0\n"
     ]
    }
   ],
   "source": [
    "%run -i 'cosim_import.py'\n",
    "import csv"
   ]
  },
  {
   "cell_type": "code",
   "execution_count": 2,
   "metadata": {},
   "outputs": [
    {
     "name": "stderr",
     "output_type": "stream",
     "text": [
      "EVA: ts=18[H], 50000 EVs, Total Q=434.64 MWh\n",
      "Online 14481, Q=361.83 MWh, SoC=0.7687\n",
      "Power(MW): Pt=-39.9433, Pc=-39.9433, Pd=-0.0\n",
      "Ctrl: 0=7778; 1=6703; \n",
      "EVA: Load A from Aest.csv.\n",
      "Working directory: \"/home/jwang175/andes/jwang/notes\"\n",
      "> Loaded config from file \"/home/jwang175/.andes/andes.rc\"\n",
      "> Loaded generated Python code in \"/home/jwang175/.andes/pycode\".\n",
      "Generated code for <PQ> is stale.\n",
      "Numerical code generation (rapid incremental mode) started...\n"
     ]
    },
    {
     "name": "stdout",
     "output_type": "stream",
     "text": [
      "Generating code for 1 models on 6 processes.\n"
     ]
    },
    {
     "name": "stderr",
     "output_type": "stream",
     "text": [
      "Saved generated pycode to \"/home/jwang175/.andes/pycode\"\n",
      "> Reloaded generated Python code of module \"pycode\".\n",
      "Generated numerical code for 1 models in 0.3157 seconds.\n",
      "Parsing input file \"/home/jwang175/andes/jwang/case/ieee39_ev2.xlsx\"...\n",
      "Input file parsed in 0.1284 seconds.\n",
      "ACEc <1> added BusFreq <BusFreq_11> linked to bus <1>\n",
      "System internal structure set up in 0.0530 seconds.\n"
     ]
    }
   ],
   "source": [
    "caseH = 18\n",
    "%run -i 'cosim_setup_andes.py'"
   ]
  },
  {
   "cell_type": "code",
   "execution_count": 3,
   "metadata": {},
   "outputs": [
    {
     "name": "stderr",
     "output_type": "stream",
     "text": [
      "-> System connectivity check results:\n",
      "  No islanded bus detected.\n",
      "  System is interconnected.\n",
      "  Each island has a slack bus correctly defined and enabled.\n",
      "\n",
      "-> Power flow calculation\n",
      "           Numba: On\n",
      "   Sparse solver: KLU\n",
      " Solution method: NR method\n",
      "Numba compilation initiated with caching.\n",
      "Power flow initialized in 0.1817 seconds.\n",
      "0: |F(x)| = 7.561249598\n",
      "1: |F(x)| = 2.917108301\n",
      "2: |F(x)| = 0.1313043343\n",
      "3: |F(x)| = 0.0003572409148\n",
      "4: |F(x)| = 4.286928146e-09\n",
      "Converged in 5 iterations in 0.0092 seconds.\n",
      "Power flow results are consistent. Conversion is successful.\n"
     ]
    },
    {
     "name": "stdout",
     "output_type": "stream",
     "text": [
      "Restricted license - for non-production use only - expires 2023-10-25\n"
     ]
    },
    {
     "name": "stderr",
     "output_type": "stream",
     "text": [
      "-> System connectivity check results:\n",
      "  No islanded bus detected.\n",
      "  System is interconnected.\n",
      "  Each island has a slack bus correctly defined and enabled.\n",
      "\n",
      "-> Power flow calculation\n",
      "           Numba: On\n",
      "   Sparse solver: KLU\n",
      " Solution method: NR method\n",
      "Numba compilation initiated with caching.\n",
      "Power flow initialized in 0.0160 seconds.\n",
      "0: |F(x)| = 7.561249598\n",
      "1: |F(x)| = 2.917108301\n",
      "2: |F(x)| = 0.1313043343\n",
      "3: |F(x)| = 0.0003572409148\n",
      "4: |F(x)| = 4.286928146e-09\n",
      "Converged in 5 iterations in 0.0138 seconds.\n",
      "Power flow results are consistent. Conversion is successful.\n",
      "GSF is consistent.\n",
      "RTED GB model is loaded.\n",
      "RTED removed: ['rampu', 'rampd']\n",
      "RTED limited: sfru, sfrd\n",
      "RTED: total cost=4910.307\n"
     ]
    },
    {
     "name": "stdout",
     "output_type": "stream",
     "text": [
      "pp cost=2224.8754288341006, gb cost=4910.307428177317\n"
     ]
    },
    {
     "data": {
      "text/html": [
       "<div>\n",
       "<style scoped>\n",
       "    .dataframe tbody tr th:only-of-type {\n",
       "        vertical-align: middle;\n",
       "    }\n",
       "\n",
       "    .dataframe tbody tr th {\n",
       "        vertical-align: top;\n",
       "    }\n",
       "\n",
       "    .dataframe thead th {\n",
       "        text-align: right;\n",
       "    }\n",
       "</style>\n",
       "<table border=\"1\" class=\"dataframe\">\n",
       "  <thead>\n",
       "    <tr style=\"text-align: right;\">\n",
       "      <th></th>\n",
       "      <th>p_mw</th>\n",
       "      <th>q_mvar</th>\n",
       "      <th>va_degree</th>\n",
       "      <th>vm_pu</th>\n",
       "      <th>p_mw(GB)</th>\n",
       "    </tr>\n",
       "  </thead>\n",
       "  <tbody>\n",
       "    <tr>\n",
       "      <th>0</th>\n",
       "      <td>1002.8172</td>\n",
       "      <td>90.1720</td>\n",
       "      <td>15.9217</td>\n",
       "      <td>1.0</td>\n",
       "      <td>1002.8172</td>\n",
       "    </tr>\n",
       "    <tr>\n",
       "      <th>1</th>\n",
       "      <td>646.0000</td>\n",
       "      <td>310.9533</td>\n",
       "      <td>1.9535</td>\n",
       "      <td>1.0</td>\n",
       "      <td>646.0000</td>\n",
       "    </tr>\n",
       "    <tr>\n",
       "      <th>2</th>\n",
       "      <td>290.0000</td>\n",
       "      <td>148.8141</td>\n",
       "      <td>-1.1572</td>\n",
       "      <td>1.0</td>\n",
       "      <td>290.0000</td>\n",
       "    </tr>\n",
       "    <tr>\n",
       "      <th>3</th>\n",
       "      <td>652.0000</td>\n",
       "      <td>129.6577</td>\n",
       "      <td>6.9360</td>\n",
       "      <td>1.0</td>\n",
       "      <td>652.0000</td>\n",
       "    </tr>\n",
       "    <tr>\n",
       "      <th>4</th>\n",
       "      <td>508.0000</td>\n",
       "      <td>145.0387</td>\n",
       "      <td>5.1048</td>\n",
       "      <td>1.0</td>\n",
       "      <td>508.0000</td>\n",
       "    </tr>\n",
       "    <tr>\n",
       "      <th>5</th>\n",
       "      <td>668.5448</td>\n",
       "      <td>225.0957</td>\n",
       "      <td>6.4636</td>\n",
       "      <td>1.0</td>\n",
       "      <td>668.5448</td>\n",
       "    </tr>\n",
       "    <tr>\n",
       "      <th>6</th>\n",
       "      <td>232.0000</td>\n",
       "      <td>60.4667</td>\n",
       "      <td>3.2560</td>\n",
       "      <td>1.0</td>\n",
       "      <td>232.0000</td>\n",
       "    </tr>\n",
       "    <tr>\n",
       "      <th>7</th>\n",
       "      <td>564.0000</td>\n",
       "      <td>-26.0077</td>\n",
       "      <td>13.4712</td>\n",
       "      <td>1.0</td>\n",
       "      <td>564.0000</td>\n",
       "    </tr>\n",
       "    <tr>\n",
       "      <th>8</th>\n",
       "      <td>865.0000</td>\n",
       "      <td>115.2992</td>\n",
       "      <td>15.9236</td>\n",
       "      <td>1.0</td>\n",
       "      <td>865.0000</td>\n",
       "    </tr>\n",
       "    <tr>\n",
       "      <th>9</th>\n",
       "      <td>-39.9433</td>\n",
       "      <td>0.0000</td>\n",
       "      <td>15.9236</td>\n",
       "      <td>1.0</td>\n",
       "      <td>-39.9433</td>\n",
       "    </tr>\n",
       "    <tr>\n",
       "      <th>10</th>\n",
       "      <td>467.9814</td>\n",
       "      <td>-30.6967</td>\n",
       "      <td>0.0000</td>\n",
       "      <td>1.0</td>\n",
       "      <td>467.9814</td>\n",
       "    </tr>\n",
       "  </tbody>\n",
       "</table>\n",
       "</div>"
      ],
      "text/plain": [
       "         p_mw    q_mvar  va_degree  vm_pu   p_mw(GB)\n",
       "0   1002.8172   90.1720    15.9217    1.0  1002.8172\n",
       "1    646.0000  310.9533     1.9535    1.0   646.0000\n",
       "2    290.0000  148.8141    -1.1572    1.0   290.0000\n",
       "3    652.0000  129.6577     6.9360    1.0   652.0000\n",
       "4    508.0000  145.0387     5.1048    1.0   508.0000\n",
       "5    668.5448  225.0957     6.4636    1.0   668.5448\n",
       "6    232.0000   60.4667     3.2560    1.0   232.0000\n",
       "7    564.0000  -26.0077    13.4712    1.0   564.0000\n",
       "8    865.0000  115.2992    15.9236    1.0   865.0000\n",
       "9    -39.9433    0.0000    15.9236    1.0   -39.9433\n",
       "10   467.9814  -30.6967     0.0000    1.0   467.9814"
      ]
     },
     "execution_count": 3,
     "metadata": {},
     "output_type": "execute_result"
    }
   ],
   "source": [
    "%run -i 'cosim_setup_dispatch.py'\n",
    "dc_comp.round(4)"
   ]
  },
  {
   "cell_type": "code",
   "execution_count": 21,
   "metadata": {
    "scrolled": true
   },
   "outputs": [
    {
     "name": "stderr",
     "output_type": "stream",
     "text": [
      "EVA: ts=18[H], 50000 EVs, Total Q=434.64 MWh\n",
      "Online 14481, Q=361.83 MWh, SoC=0.7687\n",
      "Power(MW): Pt=-39.9433, Pc=-39.9433, Pd=-0.0\n",
      "Ctrl: 0=7778; 1=6703; \n",
      "EVA: Load A from Aest.csv.\n",
      " ... (more hidden) ...\n",
      " ... (more hidden) ...\n",
      " ... (more hidden) ...\n",
      " ... (more hidden) ...\n",
      " ... (more hidden) ...\n",
      " ... (more hidden) ...\n",
      " ... (more hidden) ...\n",
      " ... (more hidden) ...\n",
      " ... (more hidden) ...\n",
      " ... (more hidden) ...\n",
      " ... (more hidden) ...\n",
      " ... (more hidden) ...\n",
      " ... (more hidden) ...\n",
      " ... (more hidden) ...\n",
      " ... (more hidden) ...\n",
      " ... (more hidden) ...\n",
      " ... (more hidden) ...\n",
      " ... (more hidden) ...\n",
      " ... (more hidden) ...\n",
      " ... (more hidden) ...\n",
      " ... (more hidden) ...\n",
      " ... (more hidden) ...\n",
      " ... (more hidden) ...\n",
      " ... (more hidden) ...\n",
      " ... (more hidden) ...\n",
      " ... (more hidden) ...\n",
      " ... (more hidden) ...\n",
      " ... (more hidden) ...\n",
      " ... (more hidden) ...\n"
     ]
    }
   ],
   "source": [
    "sse = ev_ssm(ts=18, N=50000, step=1, tp=40,\n",
    "             lr=0.1, lp=60, seed=2022, name=\"EVA\")\n",
    "sse.load_A(\"Aest.csv\")\n",
    "\n",
    "ridx = sse.ev.sample(frac=1, random_state=sse.seed).groupby('sx', sort=False).head(100).index\n",
    "\n",
    "evagc = pd.DataFrame()\n",
    "evsoc = pd.DataFrame()\n",
    "evc = pd.DataFrame()\n",
    "# evagc[0] = sse.ev.agc.copy()\n",
    "# evsoc[0] = sse.ev.soc.copy()\n",
    "# evc[0] = sse.ev.c.copy()\n",
    "for i in range(1, 30):\n",
    "    if i < 5:\n",
    "        Pi=2+i\n",
    "    else:\n",
    "        Pi=-0.1*i\n",
    "    sse.run(tf=18+i/3600, Pi=Pi,\n",
    "        is_updateA=False, is_rstate=True,\n",
    "        is_test=False, disable=True)\n",
    "#     evagc[i] = sse.ev.agc.copy()\n",
    "#     evsoc[i] = sse.ev.soc.copy()\n",
    "#     evc[i] = sse.ev.c.copy()\n",
    "    evagc[i] = sse.ev.agc.iloc[ridx]\n",
    "    evsoc[i] = sse.ev.soc.iloc[ridx]\n",
    "    evc[i] = sse.ev.c.iloc[ridx]\n",
    "evsoc.reset_index(inplace=True, drop=True)\n",
    "evagc.reset_index(inplace=True, drop=True)\n",
    "evc.reset_index(inplace=True, drop=True)"
   ]
  },
  {
   "cell_type": "code",
   "execution_count": 20,
   "metadata": {},
   "outputs": [
    {
     "name": "stdout",
     "output_type": "stream",
     "text": [
      "EV_ 200 : [0 0 0 0 0 0 0 0 0 0 0 0 0 0 0 0 0 0 0 0 0 0 0 0 0 0 0 0 0]\n"
     ]
    },
    {
     "data": {
      "image/png": "[encoded data removed]",
      "text/plain": [
       "<Figure size 432x288 with 2 Axes>"
      ]
     },
     "metadata": {
      "needs_background": "light"
     },
     "output_type": "display_data"
    }
   ],
   "source": [
    "ev_idx = 200\n",
    "print('EV_', ev_idx, ':', evagc.iloc[ev_idx].values)\n",
    "fig, ax = plt.subplots()\n",
    "evsoc.T.round(4).plot(y=[ev_idx], xticks=range(len(sse.tss)), ax=ax)\n",
    "ax2 = ax.twinx()\n",
    "# ax2.plot(range(30), evagc.iloc[ev_idx].values, color='orange')\n",
    "ax2.plot(range(evc.shape[1]), evc.iloc[ev_idx].values, color='orange')\n",
    "ax2.set_ylim([-0.05, 1.05])\n",
    "ax.grid()"
   ]
  },
  {
   "cell_type": "code",
   "execution_count": null,
   "metadata": {},
   "outputs": [],
   "source": [
    "evagc[evagc.sum(axis=1) >= 1].index"
   ]
  },
  {
   "cell_type": "code",
   "execution_count": null,
   "metadata": {},
   "outputs": [],
   "source": [
    "pgf = pd.read_csv('cosim_18_F_pg.csv')\n",
    "pgs = pd.read_csv('cosim_18_S_pg.csv')\n",
    "agcf = pd.read_csv('cosim_18_F_agcm.csv')\n",
    "agcs = pd.read_csv('cosim_18_S_agcm.csv')\n",
    "outf = pd.read_csv('cosim_18_F_out.csv')\n",
    "outs = pd.read_csv('cosim_18_S_out.csv')\n",
    "evf = pd.read_csv('cosim_18_F_sse.csv')\n",
    "evs = pd.read_csv('cosim_18_S_sse.csv')\n",
    "evdf = pd.read_csv('cosim_18_F_evdata.csv')\n",
    "evds = pd.read_csv('cosim_18_S_evdata.csv')\n",
    "\n",
    "sfrf = pd.read_csv('cosim_18_F_sfr.csv')\n",
    "sfrs = pd.read_csv('cosim_18_S_sfr.csv')\n",
    "\n",
    "evagcf = pd.read_csv('cosim_18_F_evagc.csv').T\n",
    "evsocf = pd.read_csv('cosim_18_F_evsoc.csv').T\n",
    "evsocf.sort_values(by=['0'], axis=1, inplace=True)\n",
    "evagcs = pd.read_csv('cosim_18_S_evagc.csv').T\n",
    "evsocs = pd.read_csv('cosim_18_S_evsoc.csv').T\n",
    "evsocs.sort_values(by=['0'], axis=1, inplace=True)\n",
    "\n",
    "reader = csv.reader(open('cosim_18_F_rted.csv', 'r'))\n",
    "rted_res = {}\n",
    "for row in reader:\n",
    "   k, v = row\n",
    "   rted_res[k] = v"
   ]
  },
  {
   "cell_type": "code",
   "execution_count": null,
   "metadata": {},
   "outputs": [],
   "source": [
    "import matplotlib.font_manager"
   ]
  },
  {
   "cell_type": "code",
   "execution_count": null,
   "metadata": {
    "scrolled": false
   },
   "outputs": [],
   "source": [
    "# --- read load from ssa ---\n",
    "ptotal = ssa.PQ.as_df()['p0'].sum()\n",
    "print('ANDES total load is:',ptotal.round(4),'p.u.')\n",
    "\n",
    "# --- scale load curve ---\n",
    "ddata_path = '/case/dsyn.csv'\n",
    "ddata = dir_path + ddata_path\n",
    "d_syn = pd.read_csv(ddata)\n",
    "\n",
    "# the coefficient can be adjusted to fit the case\n",
    "if caseH == 10:\n",
    "    d_syn['sload'] = 0.8*(d_syn['ha10'] - d_syn['ha10'].min()) / d_syn['ha10'].min() + 0.7\n",
    "if caseH == 18:\n",
    "    d_syn['sload'] = 0.8*(d_syn['ha18'] - d_syn['ha18'].min()) / d_syn['ha18'].min() + 0.7\n",
    "\n",
    "# extensify load fluctuation\n",
    "avg = d_syn['sload'].rolling(50).mean()\n",
    "d_syn['sload'] = 15 * (d_syn['sload'] - avg) + avg\n",
    "d_syn['sload'] *= ptotal * ssa.config.mva\n",
    "\n",
    "# calculate expected load\n",
    "step = 300\n",
    "d_exp = d_syn.groupby(d_syn.index // step).mean().copy()\n",
    "d_exp['time'] = range(0,3600,300)\n",
    "\n",
    "# align starting point of load with starting point of dispatch results\n",
    "d_syn['sload'][0] = d_exp['sload'].iloc[0]\n",
    "d_syn['sload'][1:100] = None\n",
    "d_syn['sload'] = d_syn['sload'].interpolate(method='polynomial', order=3)\n",
    "\n",
    "plt.style.use('ieee')\n",
    "# --- plot load curve ---\n",
    "fig_load, ax_load = plt.subplots(figsize=(3.5, 3))\n",
    "ax_load.plot(d_syn['time'], d_syn['sload'], linestyle='-')\n",
    "ax_load.set_xlim([0, 3600])\n",
    "ax_load.set_ylabel('Active power [MW]')\n",
    "ax_load.set_xlabel('Time [s]')\n",
    "ax_load.grid()\n",
    "plt.tight_layout()\n",
    "fig_load.savefig(\"load_curve.png\", bbox_inches=\"tight\")\n",
    "\n",
    "plt.style.use('ieee')\n",
    "fig, ax = plt.subplots(1, 1, figsize=(3.5, 3))\n",
    "\n",
    "ax.plot(3600*(np.array(evs.time)-18), evs['ne'])\n",
    "ax.set_xlim([0, 3600])\n",
    "ax.set_xlabel('Time [s]')\n",
    "ax.set_ylabel('Numbers')\n",
    "ax.grid()"
   ]
  },
  {
   "cell_type": "code",
   "execution_count": null,
   "metadata": {},
   "outputs": [],
   "source": [
    "noagcev = evagcf.abs().sum() == 0\n",
    "noagcev = noagcev[noagcev].index\n",
    "noagcev"
   ]
  },
  {
   "cell_type": "code",
   "execution_count": null,
   "metadata": {},
   "outputs": [],
   "source": [
    "evagcf.sum(axis=1).max()"
   ]
  },
  {
   "cell_type": "code",
   "execution_count": null,
   "metadata": {},
   "outputs": [],
   "source": [
    "xlim = [0, 3600]\n",
    "evid = 2\n",
    "print(evagcf[evid].abs().sum())\n",
    "fig, ax = plt.subplots(1, 2, figsize=(10, 3))\n",
    "ax[0].plot(range(3600), evagcf[evid])\n",
    "ax[0].set_xlim(xlim)\n",
    "evsocf.plot(x='time', y=[evid], fig=fig, ax=ax[1], xlim=xlim)"
   ]
  },
  {
   "cell_type": "code",
   "execution_count": null,
   "metadata": {},
   "outputs": [],
   "source": [
    "col_index = []\n",
    "for k in range(0, 16):\n",
    "    col_index = col_index + [list(np.array([7]) + 100*k)]\n",
    "col_index\n",
    "col = []\n",
    "for c in col_index:\n",
    "    col = col + [list(evsocf.columns[[c]].values)]\n",
    "\n",
    "fig, ax = plt.subplots(2, 4, figsize=(16, 6))\n",
    "plt.subplots_adjust(left=None, bottom=None, right=None,\n",
    "                    top=None, wspace=0.25, hspace=0.35)\n",
    "\n",
    "for i in range(2):\n",
    "    for j in range(4):\n",
    "        idx = 15 - (4*i + j)\n",
    "        ax[i, j].plot(range(3600), evsocs[col[idx][0]], linestyle='-', color='tab:blue', label=f'Case1 EV_{col[idx][0]}')\n",
    "#         ax[i, j].plot(range(3600), evsocs[col[idx][1]], linestyle='--', color='tab:blue', label=f'Case1 EV{col[idx][1]}')\n",
    "        ax[i, j].plot(range(3600), evsocf[col[idx][0]], linestyle='-', color='tab:orange', label=f'Case2 EV_{col[idx][0]}')\n",
    "#         ax[i, j].plot(range(3600), evsocf[col[idx][1]], linestyle='--', color='tab:orange', label=f'Case2 EV{col[idx][1]}')\n",
    "        ax[i, j].legend()\n",
    "        ax[i, j].set_xlim([0, 3600])\n",
    "        ax[i, j].set_xlabel('Time [s]')\n",
    "        ax[i, j].set_ylabel('SOC [%]')\n",
    "        yticks = list(ax[i, j].get_yticks())\n",
    "        ax[i, j].set_yticks(yticks[0:-1], [np.round(ytk*100, 4) for ytk in yticks[0:-1]])\n",
    "        ax[i, j].set_title(f'SOC level {idx + 5}')\n",
    "#         ax[i, j].set_ylim([0.58, 1.02])"
   ]
  },
  {
   "cell_type": "code",
   "execution_count": null,
   "metadata": {
    "scrolled": false
   },
   "outputs": [],
   "source": [
    "epsilon = 18\n",
    "k = 10 * ssa.ACEc.bias.v / epsilon / epsilon # mHz\n",
    "length = 60\n",
    "\n",
    "outscp = outs.copy()\n",
    "outscp['Time'] = outscp['Time'] / length\n",
    "outscp['Time'] = outscp['Time'].astype(int)\n",
    "outscp = outscp.groupby('Time').mean()\n",
    "outscp['prod'] = 100* (2 - k * outscp['ACE'] * outscp['fd'])\n",
    "\n",
    "outfcp = outs.copy()\n",
    "outfcp['Time'] = outfcp['Time'] / length\n",
    "outfcp['Time'] = outfcp['Time'].astype(int)\n",
    "outfcp = outfcp.groupby('Time').mean()\n",
    "outfcp['prod'] = 100* (2 - k * outfcp['ACE'] * outfcp['fd'])\n",
    "\n",
    "fig, ax = plt.subplots(figsize=(3.5, 3))\n",
    "outscp.plot(y='prod', kind='kde', color='tab:blue', linestyle='-',\n",
    "            legend=False, linewidth=1, fig=fig, ax=ax, label='Case1')\n",
    "outfcp.plot(y='prod', kind='kde', color='tab:orange', linestyle='--',\n",
    "            legend=False, linewidth=1, fig=fig, ax=ax, label='Case2')\n",
    "ax.legend()\n",
    "ax.set_xlabel('CPS1')\n",
    "# outscp.plot(y='prod', kind='hist', density=True, bins=30, color='tab:blue',\n",
    "#             legend=False, fig=fig, ax=ax, label='Case1')\n",
    "# outfcp.plot(y='prod', kind='hist', density=True, bins=30, color='tab:orange',\n",
    "#             legend=False, fig=fig, ax=ax, label='Case2')"
   ]
  },
  {
   "cell_type": "code",
   "execution_count": null,
   "metadata": {},
   "outputs": [],
   "source": [
    "import matplotlib.font_manager"
   ]
  },
  {
   "cell_type": "code",
   "execution_count": null,
   "metadata": {},
   "outputs": [],
   "source": [
    "# --- generation cost ---\n",
    "gtf = 0\n",
    "gts = 0\n",
    "for i in pgf.index:\n",
    "    cf = ssd.cost.c2.values * np.power(pgf.loc[i].values, 2) \\\n",
    "        + ssd.cost.c1.values * pgf.loc[i].values \\\n",
    "        + ssd.cost.c1.values\n",
    "    cs = ssd.cost.c2.values * np.power(pgs.loc[i].values, 2) \\\n",
    "        + ssd.cost.c1.values * pgs.loc[i].values \\\n",
    "        + ssd.cost.c1.values\n",
    "    gtf += np.sum(cf)\n",
    "    gts += np.sum(cs)\n",
    "\n",
    "# --- SFR mileage cost ---\n",
    "ftf = 0\n",
    "fts = 0\n",
    "for i in agcf.columns:\n",
    "    cf = ssd.cost.c1.abs().values * agcf[i].values\n",
    "    cs = ssd.cost.c1.abs().values * agcs[i].values\n",
    "    ftf += np.sum(cf)\n",
    "    fts += np.sum(cs)\n",
    "\n",
    "print(f\"EV AGC Mile: case1: {agcf.loc[9].sum()}, case2: {agcs.loc[9].sum()}\")\n",
    "print(f\"Total cost: Case 2={np.round(gtf+ftf, 2)}, Case 1={np.round(gts+fts, 2)}\")"
   ]
  },
  {
   "cell_type": "code",
   "execution_count": null,
   "metadata": {},
   "outputs": [],
   "source": [
    "import matplotlib.font_manager"
   ]
  },
  {
   "cell_type": "code",
   "execution_count": null,
   "metadata": {},
   "outputs": [],
   "source": [
    "plt.style.use('ieee')\n",
    "fig, ax = plt.subplots(1, 3, figsize=(18, 4))\n",
    "plt.subplots_adjust(left=None, bottom=None, right=None,\n",
    "                    top=None, wspace=0.18, hspace=None)\n",
    "\n",
    "\n",
    "ax[2].plot(3600*(np.array(evs.time)-18), evs.Prc, label='Case1 EV AGC response', linestyle='-', color='tab:blue')\n",
    "ax[2].plot(3600*(np.array(evs.time)-18), evf.Prc, label='Case2 EV AGC response', linestyle='-', color='tab:orange')\n",
    "ax[2].plot(3600*(np.array(evs.time)-18), evs.Pt, label='Case1 EV total output', linestyle='--', color='tab:blue')\n",
    "ax[2].plot(3600*(np.array(evs.time)-18), evf.Pt, label='Case2 EV total output', linestyle='--', color='tab:orange')\n",
    "ax[2].legend()\n",
    "ax[2].set_xlim([0, 3600])\n",
    "ax[2].set_xlabel('Time [s]')\n",
    "ax[2].set_ylabel('EV output power [MW]')\n",
    "\n",
    "sfrs.plot(x='time', y='ace', ax=ax[0], fig=fig, label='Case1', linestyle='-', color='tab:blue')\n",
    "sfrf.plot(x='time', y='ace', ax=ax[0], fig=fig, label='Case2', linestyle='-', color='tab:orange')\n",
    "sfrs.plot(x='time', y='up', ax=ax[0], fig=fig, label='RegUp limit', linestyle='--', color='black')\n",
    "sfrs.plot(x='time', y='dn', ax=ax[0], fig=fig, label='RegDn limit', linestyle='--', color='black')\n",
    "ax[0].set_xlim([0, 3600])\n",
    "ax[0].set_xlabel('Time [s]')\n",
    "ax[0].set_ylabel('Total AGC signal [MW]')\n",
    "\n",
    "outs.plot(x='Time', y='paux9', ax=ax[1], fig=fig, label='Case1', linestyle='-', color='tab:blue')\n",
    "outf.plot(x='Time', y='paux9', ax=ax[1], fig=fig, label='Case2', linestyle='-', color='tab:orange')\n",
    "ax[1].set_xlim([0, 3600])\n",
    "ax[1].set_xlabel('Time [s]')\n",
    "ax[1].set_ylabel('G9 AGC response [MW]')"
   ]
  },
  {
   "cell_type": "code",
   "execution_count": null,
   "metadata": {},
   "outputs": [],
   "source": [
    "outf['fd'] = outf['freq'] - 60\n",
    "outs['fd'] = outs['freq'] - 60\n",
    "\n",
    "plt.style.use('ieee')\n",
    "fig, ax = plt.subplots(1, 3, figsize=(18, 4))\n",
    "plt.subplots_adjust(left=None, bottom=None, right=None,\n",
    "                    top=None, wspace=0.18, hspace=None)\n",
    "# ACE\n",
    "outs.plot(x='Time', y='ACE', ax=ax[0], fig=fig, label='Case1', linestyle='-', color='tab:blue')\n",
    "outf.plot(x='Time', y='ACE', ax=ax[0], fig=fig, label='Case2', linestyle='-', color='tab:orange')\n",
    "# COI freq.\n",
    "outs.plot(x='Time', y='freq', ax=ax[1], fig=fig, label='Case1', linestyle='-', color='tab:blue')\n",
    "outf.plot(x='Time', y='freq', ax=ax[1], fig=fig, label='Case2', linestyle='-', color='tab:orange',)\n",
    "# COI std.\n",
    "outs.plot(x='Time', y='fd', kind='hist', density=True, bins=30, color='tab:blue',\n",
    "          legend=False, linewidth=1, fig=fig, ax=ax[2], label='Case1')\n",
    "outf.plot(x='Time', y='fd', kind='hist', density=True, bins=30, color='tab:orange',\n",
    "          legend=False, linewidth=1, fig=fig, ax=ax[2], label='Case2')\n",
    "# outs.plot(x='Time', y='fd', kind='kde', color='tab:blue',\n",
    "#           legend=False, fig=fig, ax=ax[2], label='Case1')\n",
    "# outf.plot(x='Time', y='fd', kind='kde', color='tab:orange',\n",
    "#           legend=False, fig=fig, ax=ax[2], label='Case2')\n",
    "\n",
    "ax[0].set_xlim([0, 3600])\n",
    "ax[1].set_xlim([0, 3600])\n",
    "ax[0].set_xlabel('Time [s]')\n",
    "ax[1].set_xlabel('Time [s]')\n",
    "ax[0].set_ylabel('ACE [MW]')\n",
    "ax[1].set_ylabel('Freq. [Hz]')\n",
    "ax[2].set_xlabel('Freq. Deviation [Hz]')\n",
    "ax[2].set_ylabel('Density')\n",
    "ax[2].legend()\n",
    "\n",
    "print(f\"Case1: Freq. D. {outs['fd'].std()}, Case2: {outf['fd'].std()}\")\n",
    "print(f\"Case1: ACE D. {outs['ACE'].std()}, Case2: {outf['ACE'].std()}\")"
   ]
  },
  {
   "cell_type": "code",
   "execution_count": null,
   "metadata": {},
   "outputs": [],
   "source": [
    "plt.style.use('ieee')\n",
    "\n",
    "bu_df = pd.read_csv('cosim_18_S_bu.csv')\n",
    "bd_df = pd.read_csv('cosim_18_S_bd.csv')\n",
    "\n",
    "color = ['tab:blue', 'yellow', 'tab:green',\n",
    "         'tab:red', 'tab:purple', 'tab:brown',\n",
    "         'tab:pink', 'tab:gray', 'tab:olive', 'tab:cyan', 'tab:orange']\n",
    "\n",
    "figs, axes = plt.subplots(1, 2, figsize=(10.5, 3))\n",
    "plt.subplots_adjust(left=None, bottom=None, right=None,\n",
    "                    top=None, wspace=0.38, hspace=None)\n",
    "new_cols = ['PV_1', 'PV_2', 'PV_3', 'PV_4', 'PV_5', 'PV_6',\n",
    "            'PV_7', 'PV_8', 'PV_9', 'Slack_10', 'PV_10']\n",
    "bu_df[new_cols].plot.bar(stacked=True, ax=axes[0], legend=False, color=color)\n",
    "bd_df[new_cols].plot.bar(stacked=True, ax=axes[1], legend=False, color=color)\n",
    "\n",
    "for ax in axes:\n",
    "    ax.tick_params(axis='x', labelrotation = 0)\n",
    "    ax.set_ylim([0, 1])\n",
    "    ax.set_yticklabels([f'{np.round(i*100,0)}%' for i in np.arange(0, 1.1, 0.2)])\n",
    "    ax.set_xticklabels([i for i in range(1,13,1)])\n",
    "    ax.set_xlabel('RTED interval')\n",
    "axes[0].set_title('(a) Case 1: RegUp balancing factor')\n",
    "axes[1].set_title('(b) Case 1: RegDn balancing factor')\n",
    "lines_labels = [ax.get_legend_handles_labels() for ax in axes]\n",
    "lines, labels = [sum(lol, []) for lol in zip(*lines_labels)]\n",
    "line_plot = lines[0:11]\n",
    "line_plot.reverse()\n",
    "label_g = ['G1', 'G2', 'G3', 'G4', 'G5', 'G6', 'G7', 'G8', 'G9', 'G10', 'EV']\n",
    "label_g.reverse()\n",
    "figs.legend(line_plot, label_g, loc='center')"
   ]
  },
  {
   "cell_type": "code",
   "execution_count": null,
   "metadata": {},
   "outputs": [],
   "source": [
    "plt.style.use('ieee')\n",
    "\n",
    "bu_df = pd.read_csv('cosim_18_F_bu.csv')\n",
    "bd_df = pd.read_csv('cosim_18_F_bd.csv')\n",
    "\n",
    "color = ['tab:blue', 'yellow', 'tab:green',\n",
    "         'tab:red', 'tab:purple', 'tab:brown',\n",
    "         'tab:pink', 'tab:gray', 'tab:olive', 'tab:cyan', 'tab:orange']\n",
    "\n",
    "figs, axes = plt.subplots(1, 2, figsize=(10.5, 3))\n",
    "plt.subplots_adjust(left=None, bottom=None, right=None,\n",
    "                    top=None, wspace=0.38, hspace=None)\n",
    "new_cols = ['PV_1', 'PV_2', 'PV_3', 'PV_4', 'PV_5', 'PV_6',\n",
    "            'PV_7', 'PV_8', 'PV_9', 'Slack_10', 'PV_10']\n",
    "bu_df[new_cols].plot.bar(stacked=True, ax=axes[0], legend=False, color=color)\n",
    "bd_df[new_cols].plot.bar(stacked=True, ax=axes[1], legend=False, color=color)\n",
    "\n",
    "for ax in axes:\n",
    "    ax.tick_params(axis='x', labelrotation = 0)\n",
    "    ax.set_ylim([0, 1])\n",
    "    ax.set_yticklabels([f'{np.round(i*100,0)}%' for i in np.arange(0, 1.1, 0.2)])\n",
    "    ax.set_xticklabels([i for i in range(1,13,1)])\n",
    "    ax.set_xlabel('RTED interval')\n",
    "axes[0].set_title('(c) Case 2: RegUp balancing factor')\n",
    "axes[1].set_title('(d) Case 2: RegDn balancing factor')\n",
    "lines_labels = [ax.get_legend_handles_labels() for ax in axes]\n",
    "lines, labels = [sum(lol, []) for lol in zip(*lines_labels)]\n",
    "line_plot = lines[0:11]\n",
    "line_plot.reverse()\n",
    "label_g = ['G1', 'G2', 'G3', 'G4', 'G5', 'G6', 'G7', 'G8', 'G9', 'G10', 'EV']\n",
    "label_g.reverse()\n",
    "figs.legend(line_plot, label_g, loc='center')"
   ]
  }
 ],
 "metadata": {
  "kernelspec": {
   "display_name": "Python3",
   "language": "python",
   "name": "andes"
  },
  "language_info": {
   "codemirror_mode": {
    "name": "ipython",
    "version": 3
   },
   "file_extension": ".py",
   "mimetype": "text/x-python",
   "name": "python",
   "nbconvert_exporter": "python",
   "pygments_lexer": "ipython3",
   "version": "3.9.13"
  },
  "varInspector": {
   "cols": {
    "lenName": 16,
    "lenType": 16,
    "lenVar": 40
   },
   "kernels_config": {
    "python": {
     "delete_cmd_postfix": "",
     "delete_cmd_prefix": "del ",
     "library": "var_list.py",
     "varRefreshCmd": "print(var_dic_list())"
    },
    "r": {
     "delete_cmd_postfix": ") ",
     "delete_cmd_prefix": "rm(",
     "library": "var_list.r",
     "varRefreshCmd": "cat(var_dic_list()) "
    }
   },
   "types_to_exclude": [
    "module",
    "function",
    "builtin_function_or_method",
    "instance",
    "_Feature"
   ],
   "window_display": false
  },
  "vscode": {
   "interpreter": {
    "hash": "a33fa296fbacb8644bc9195ef2d759981fef097b4feb655e1da77ca7517b39c3"
   }
  }
 },
 "nbformat": 4,
 "nbformat_minor": 4
}
