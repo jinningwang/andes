{
 "cells": [
  {
   "cell_type": "code",
   "execution_count": 1,
   "metadata": {},
   "outputs": [
    {
     "name": "stdout",
     "output_type": "stream",
     "text": [
      "0.post4504.dev0+g4dd779c\n",
      "2.8.0\n"
     ]
    }
   ],
   "source": [
    "%run -i 'cosim_import.py'\n",
    "import csv\n",
    "import multiprocessing"
   ]
  },
  {
   "cell_type": "code",
   "execution_count": 2,
   "metadata": {
    "scrolled": true
   },
   "outputs": [
    {
     "name": "stderr",
     "output_type": "stream",
     "text": [
      "/Users/jinningwang/Documents/work/mambaforge/envs/andes/lib/python3.9/site-packages/swifter/swifter.py:87: UserWarning: This pandas object has duplicate indices, and swifter may not be able to improve performance. Consider resetting the indices with `df.reset_index(drop=True)`.\n",
      "  warnings.warn(\n",
      "EVA: ts=18[H], 50000 EVs, Total Q=434.37 MWh\n",
      "Online 14477, Q=361.9 MWh, SoC=0.7723\n",
      "Power(MW): Pt=-39.1488, Pc=-39.1488, Pd=-0.0\n",
      "Ctrl: 0=7875; 1=6602; \n",
      "EVA: Load A from Aest.csv.\n",
      "Working directory: \"/Users/jinningwang/Documents/work/andes/jwang/notes\"\n",
      "> Loaded config from file \"/Users/jinningwang/.andes/andes.rc\"\n",
      "> Loaded generated Python code in \"/Users/jinningwang/.andes/pycode\".\n",
      "Generated code for <PQ> is stale.\n",
      "Numerical code generation (rapid incremental mode) started...\n"
     ]
    },
    {
     "name": "stdout",
     "output_type": "stream",
     "text": [
      "Generating code for 1 models on 8 processes.\n"
     ]
    },
    {
     "name": "stderr",
     "output_type": "stream",
     "text": [
      "Saved generated pycode to \"/Users/jinningwang/.andes/pycode\"\n",
      "> Reloaded generated Python code of module \"pycode\".\n",
      "Generated numerical code for 1 models in 0.1840 seconds.\n",
      "Parsing input file \"/Users/jinningwang/Documents/work/andes/jwang/case/ieee39_ev2.xlsx\"...\n",
      "/Users/jinningwang/Documents/work/mambaforge/envs/andes/lib/python3.9/site-packages/swifter/swifter.py:87: UserWarning: This pandas object has duplicate indices, and swifter may not be able to improve performance. Consider resetting the indices with `df.reset_index(drop=True)`.\n",
      "  warnings.warn(\n",
      "/Users/jinningwang/Documents/work/mambaforge/envs/andes/lib/python3.9/site-packages/swifter/swifter.py:87: UserWarning: This pandas object has duplicate indices, and swifter may not be able to improve performance. Consider resetting the indices with `df.reset_index(drop=True)`.\n",
      "  warnings.warn(\n",
      "Input file parsed in 0.0739 seconds.\n",
      "System internal structure set up in 0.0253 seconds.\n"
     ]
    }
   ],
   "source": [
    "caseH = 18\n",
    "ict_off = False\n",
    "ecc_off = False\n",
    "\n",
    "%run -i 'cosim_setup_andes.py'"
   ]
  },
  {
   "cell_type": "code",
   "execution_count": 3,
   "metadata": {},
   "outputs": [],
   "source": [
    "# import joblib\n",
    "# from joblib import Parallel, delayed\n",
    "\n",
    "# Nt = 5000\n",
    "# def rne(time):\n",
    "#     sse1 = ev_ssm(ts=time, N=Nt, step=1, tp=40,\n",
    "#                   lr=0.1, lp=60, seed=2022, name=\"EVA\",\n",
    "#                   is_report=False)\n",
    "#     [frcu, frcd] = sse1.g_frc()\n",
    "#     return [sse1.ts, frcu, frcd, sse1.ne]\n",
    "\n",
    "# # # interval by minutes, 24H\n",
    "# answer = Parallel(n_jobs=joblib.cpu_count())(delayed(rne)(i) for i in np.arange(1/60, 2, 5/60))"
   ]
  },
  {
   "cell_type": "code",
   "execution_count": 4,
   "metadata": {},
   "outputs": [],
   "source": [
    "# sse1 = ev_ssm(ts=10, N=Nt, step=1, tp=40,\n",
    "#                 lr=0.1, lp=60, seed=2022, name=\"EVA\",\n",
    "#                 is_report=False)\n",
    "# sse1.g_frc()"
   ]
  },
  {
   "cell_type": "code",
   "execution_count": 5,
   "metadata": {},
   "outputs": [],
   "source": [
    "# plt.style.use('ieee')\n",
    "# frc = pd.DataFrame(np.array(answer), columns=['time', 'frcu', 'frcd', 'ne'])\n",
    "# frc.time *= 60\n",
    "# # newdf = pd.DataFrame(np.repeat(frc.iloc[range(0,1440,5)].values, 5, axis=0), columns=frc.columns)\n",
    "# # frcn = frc[['frcu', 'frcd']] - newdf[['frcu', 'frcd']]\n",
    "# frc.plot(x='time', y=['frcu', 'frcd'])"
   ]
  },
  {
   "cell_type": "code",
   "execution_count": 6,
   "metadata": {},
   "outputs": [
    {
     "data": {
      "text/plain": [
       "[119.210135334449, 9.133467838376355]"
      ]
     },
     "execution_count": 6,
     "metadata": {},
     "output_type": "execute_result"
    }
   ],
   "source": [
    "sse.g_frc()"
   ]
  },
  {
   "cell_type": "code",
   "execution_count": 7,
   "metadata": {
    "scrolled": true
   },
   "outputs": [
    {
     "name": "stderr",
     "output_type": "stream",
     "text": [
      "/Users/jinningwang/Documents/work/mambaforge/envs/andes/lib/python3.9/site-packages/swifter/swifter.py:87: UserWarning: This pandas object has duplicate indices, and swifter may not be able to improve performance. Consider resetting the indices with `df.reset_index(drop=True)`.\n",
      "  warnings.warn(\n",
      "EVA: ts=18[H], 50000 EVs, Total Q=434.37 MWh\n",
      "Online 14477, Q=361.9 MWh, SoC=0.7723\n",
      "Power(MW): Pt=-39.1488, Pc=-39.1488, Pd=-0.0\n",
      "Ctrl: 0=7875; 1=6602; \n"
     ]
    }
   ],
   "source": [
    "sse0 = ev_ssm(ts=caseH, N=50000, step=1, tp=40,\n",
    "             lr=0.1, lp=60, seed=2022, name=\"EVA\",\n",
    "             n_pref=1, is_report=True,\n",
    "             tt_mean=0.5, tt_var=0.02, tt_lb=0, tt_ub=1,\n",
    "             ict_off=ict_off, ecc_off=ecc_off)"
   ]
  },
  {
   "cell_type": "code",
   "execution_count": 8,
   "metadata": {
    "scrolled": true
   },
   "outputs": [
    {
     "name": "stderr",
     "output_type": "stream",
     "text": [
      "/Users/jinningwang/Documents/work/mambaforge/envs/andes/lib/python3.9/site-packages/swifter/swifter.py:87: UserWarning: This pandas object has duplicate indices, and swifter may not be able to improve performance. Consider resetting the indices with `df.reset_index(drop=True)`.\n",
      "  warnings.warn(\n",
      "/Users/jinningwang/Documents/work/mambaforge/envs/andes/lib/python3.9/site-packages/swifter/swifter.py:87: UserWarning: This pandas object has duplicate indices, and swifter may not be able to improve performance. Consider resetting the indices with `df.reset_index(drop=True)`.\n",
      "  warnings.warn(\n",
      "-> System connectivity check results:\n",
      "  No islanded bus detected.\n",
      "  System is interconnected.\n",
      "  Each island has a slack bus correctly defined and enabled.\n",
      "\n",
      "-> Power flow calculation\n",
      "           Numba: On\n",
      "   Sparse solver: KLU\n",
      " Solution method: NR method\n",
      "Numba compilation initiated with caching.\n",
      "Power flow initialized in 0.0824 seconds.\n",
      "0: |F(x)| = 9.101680411\n",
      "1: |F(x)| = 3.497456414\n",
      "2: |F(x)| = 0.1830766454\n",
      "3: |F(x)| = 0.0007183029104\n",
      "4: |F(x)| = 1.659286886e-08\n",
      "Converged in 5 iterations in 0.0045 seconds.\n",
      "Power flow results are consistent. Conversion is successful.\n"
     ]
    },
    {
     "name": "stdout",
     "output_type": "stream",
     "text": [
      "Set parameter Username\n",
      "Academic license - for non-commercial use only - expires 2023-04-08\n"
     ]
    },
    {
     "name": "stderr",
     "output_type": "stream",
     "text": [
      "/Users/jinningwang/Documents/work/mambaforge/envs/andes/lib/python3.9/site-packages/swifter/swifter.py:87: UserWarning: This pandas object has duplicate indices, and swifter may not be able to improve performance. Consider resetting the indices with `df.reset_index(drop=True)`.\n",
      "  warnings.warn(\n",
      "/Users/jinningwang/Documents/work/mambaforge/envs/andes/lib/python3.9/site-packages/swifter/swifter.py:87: UserWarning: This pandas object has duplicate indices, and swifter may not be able to improve performance. Consider resetting the indices with `df.reset_index(drop=True)`.\n",
      "  warnings.warn(\n",
      "/Users/jinningwang/Documents/work/mambaforge/envs/andes/lib/python3.9/site-packages/swifter/swifter.py:87: UserWarning: This pandas object has duplicate indices, and swifter may not be able to improve performance. Consider resetting the indices with `df.reset_index(drop=True)`.\n",
      "  warnings.warn(\n",
      "-> System connectivity check results:\n",
      "  No islanded bus detected.\n",
      "  System is interconnected.\n",
      "  Each island has a slack bus correctly defined and enabled.\n",
      "\n",
      "-> Power flow calculation\n",
      "           Numba: On\n",
      "   Sparse solver: KLU\n",
      " Solution method: NR method\n",
      "Numba compilation initiated with caching.\n",
      "Power flow initialized in 0.0045 seconds.\n",
      "0: |F(x)| = 9.101680411\n",
      "1: |F(x)| = 3.497456414\n",
      "2: |F(x)| = 0.1830766454\n",
      "3: |F(x)| = 0.0007183029104\n",
      "4: |F(x)| = 1.659286886e-08\n",
      "Converged in 5 iterations in 0.0041 seconds.\n",
      "Power flow results are consistent. Conversion is successful.\n",
      "GSF is consistent.\n",
      "RTED GB model is loaded.\n",
      "/Users/jinningwang/Documents/work/mambaforge/envs/andes/lib/python3.9/site-packages/swifter/swifter.py:87: UserWarning: This pandas object has duplicate indices, and swifter may not be able to improve performance. Consider resetting the indices with `df.reset_index(drop=True)`.\n",
      "  warnings.warn(\n",
      "RTED removed: ['rampu', 'rampd']\n",
      "RTED limited: sfru, sfrd\n",
      "RTED: total cost=4889.131\n"
     ]
    },
    {
     "name": "stdout",
     "output_type": "stream",
     "text": [
      "pp cost=2184.5741560778906, gb cost=4889.131241556355\n"
     ]
    }
   ],
   "source": [
    "%run -i 'cosim_setup_dispatch.py'"
   ]
  },
  {
   "cell_type": "code",
   "execution_count": 9,
   "metadata": {},
   "outputs": [
    {
     "name": "stderr",
     "output_type": "stream",
     "text": [
      "/Users/jinningwang/Documents/work/mambaforge/envs/andes/lib/python3.9/site-packages/swifter/swifter.py:87: UserWarning: This pandas object has duplicate indices, and swifter may not be able to improve performance. Consider resetting the indices with `df.reset_index(drop=True)`.\n",
      "  warnings.warn(\n",
      "/Users/jinningwang/Documents/work/mambaforge/envs/andes/lib/python3.9/site-packages/swifter/swifter.py:87: UserWarning: This pandas object has duplicate indices, and swifter may not be able to improve performance. Consider resetting the indices with `df.reset_index(drop=True)`.\n",
      "  warnings.warn(\n",
      "/Users/jinningwang/Documents/work/mambaforge/envs/andes/lib/python3.9/site-packages/swifter/swifter.py:87: UserWarning: This pandas object has duplicate indices, and swifter may not be able to improve performance. Consider resetting the indices with `df.reset_index(drop=True)`.\n",
      "  warnings.warn(\n",
      "/Users/jinningwang/Documents/work/mambaforge/envs/andes/lib/python3.9/site-packages/swifter/swifter.py:87: UserWarning: This pandas object has duplicate indices, and swifter may not be able to improve performance. Consider resetting the indices with `df.reset_index(drop=True)`.\n",
      "  warnings.warn(\n"
     ]
    }
   ],
   "source": [
    "%run -i 'cosim_linktable.py'\n",
    "\n",
    "# Change ``rru``, ``rrd``, ``rsfr``, ``t_total`` for necessary.\n",
    "t_total = 3600\n",
    "\n",
    "rru, rrd, rsfr = 1.0, 1.0, 0.04\n",
    "\n",
    "# Define functions and constants used in loop\n",
    "%run -i 'cosim_const.py'"
   ]
  },
  {
   "cell_type": "code",
   "execution_count": 11,
   "metadata": {},
   "outputs": [
    {
     "name": "stderr",
     "output_type": "stream",
     "text": [
      "/Users/jinningwang/Documents/work/mambaforge/envs/andes/lib/python3.9/site-packages/swifter/swifter.py:87: UserWarning: This pandas object has duplicate indices, and swifter may not be able to improve performance. Consider resetting the indices with `df.reset_index(drop=True)`.\n",
      "  warnings.warn(\n",
      "/Users/jinningwang/Documents/work/mambaforge/envs/andes/lib/python3.9/site-packages/swifter/swifter.py:87: UserWarning: This pandas object has duplicate indices, and swifter may not be able to improve performance. Consider resetting the indices with `df.reset_index(drop=True)`.\n",
      "  warnings.warn(\n"
     ]
    }
   ],
   "source": [
    "socf1 = pd.read_csv('cosim_18_F_ict_evsoc1.csv')\n",
    "socf2 = pd.read_csv('cosim_18_F_ict_evsoc2.csv')\n",
    "socfm = pd.concat([socf1, socf2], axis=0).reset_index(drop=True)\n",
    "\n",
    "# soch1 = pd.read_csv('cosim_18_H_evsoc1.csv')\n",
    "# soch2 = pd.read_csv('cosim_18_H_evsoc2.csv')\n",
    "# sochm = pd.concat([soch1, soch2], axis=0).reset_index(drop=True)\n",
    "\n",
    "socs1 = pd.read_csv('cosim_18_S_evsoc1.csv')\n",
    "socs2 = pd.read_csv('cosim_18_S_evsoc2.csv')\n",
    "socsm = pd.concat([socs1, socs2], axis=0).reset_index(drop=True)\n",
    "\n",
    "pgf = pd.read_csv('cosim_18_F_ict_pg.csv')\n",
    "pgs = pd.read_csv('cosim_18_S_pg.csv')\n",
    "# pgh = pd.read_csv('cosim_18_H_pg.csv')\n",
    "agcf = pd.read_csv('cosim_18_F_ict_agcm.csv')\n",
    "agcs = pd.read_csv('cosim_18_S_agcm.csv')\n",
    "# agch = pd.read_csv('cosim_18_H_agcm.csv')\n",
    "outf = pd.read_csv('cosim_18_F_ict_out.csv')\n",
    "outs = pd.read_csv('cosim_18_S_out.csv')\n",
    "# outh = pd.read_csv('cosim_18_H_out.csv')\n",
    "outf['fd'] = outf['freq'] - ssa.config.freq\n",
    "outs['fd'] = outs['freq'] - ssa.config.freq\n",
    "# outh['fd'] = outh['freq'] - ssa.config.freq\n",
    "\n",
    "evf = pd.read_csv('cosim_18_F_ict_sse.csv')\n",
    "evs = pd.read_csv('cosim_18_S_sse.csv')\n",
    "# evh = pd.read_csv('cosim_18_H_sse.csv')\n",
    "evdf = pd.read_csv('cosim_18_F_ict_evdata.csv')\n",
    "evds = pd.read_csv('cosim_18_S_evdata.csv')\n",
    "# evdh = pd.read_csv('cosim_18_H_evdata.csv')\n",
    "\n",
    "sfrf = pd.read_csv('cosim_18_F_ict_sfr.csv')\n",
    "sfrs = pd.read_csv('cosim_18_S_sfr.csv')\n",
    "# sfrh = pd.read_csv('cosim_18_H_sfr.csv')\n",
    "\n",
    "evagcf = pd.read_csv('cosim_18_F_ict_evagc.csv').T\n",
    "evsocf = socfm.T\n",
    "evsocf.sort_values(by=['0'], axis=1, inplace=True)\n",
    "evagcs = pd.read_csv('cosim_18_S_evagc.csv').T\n",
    "evsocs = socsm.T\n",
    "evsocs.sort_values(by=['0'], axis=1, inplace=True)\n",
    "# evagch = pd.read_csv('cosim_18_H_evagc.csv').T\n",
    "# evsoch = sochm.T\n",
    "# evsoch.sort_values(by=['0'], axis=1, inplace=True)\n",
    "\n",
    "reader = csv.reader(open('cosim_18_F_ict_rted.csv', 'r'))\n",
    "rted_res = {}\n",
    "for row in reader:\n",
    "   k, v = row\n",
    "   rted_res[k] = v"
   ]
  },
  {
   "cell_type": "code",
   "execution_count": null,
   "metadata": {
    "scrolled": false
   },
   "outputs": [],
   "source": [
    "ACE_integral = 0\n",
    "ACE_raw = 0\n",
    "raw = -1 * np.ones((3600, 3))\n",
    "for end_time in range(3600):\n",
    "    acep = outs['ACE'][(outs['Time'] >= end_time-0.03)&(outs['Time'] <= end_time)].mean()\n",
    "    ACE_integral += acep\n",
    "    ACE_raw = -(Kp*acep + Ki*ACE_integral)\n",
    "    raw[end_time] = [end_time, ACE_raw, ACE_integral]\n",
    "raws = pd.DataFrame(raw, columns=['Time', 'raw', 'itg'])\n",
    "    \n",
    "ACE_integral = 0\n",
    "ACE_raw = 0\n",
    "raw = -1 * np.ones((3600, 3))\n",
    "for end_time in range(3600):\n",
    "    acep = outf['ACE'][(outf['Time'] >= end_time-0.03)&(outf['Time'] <= end_time)].mean()\n",
    "    ACE_integral += acep\n",
    "    ACE_raw = -(Kp*acep + Ki*ACE_integral)\n",
    "    raw[end_time] = [end_time, ACE_raw, ACE_integral]\n",
    "rawf = pd.DataFrame(raw, columns=['Time', 'raw', 'itg'])\n",
    "\n",
    "fig, ax = plt.subplots()\n",
    "raws.plot(x='Time', y='raw', fig=fig, ax=ax)\n",
    "rawf.plot(x='Time', y='raw', fig=fig, ax=ax)"
   ]
  },
  {
   "cell_type": "code",
   "execution_count": null,
   "metadata": {},
   "outputs": [],
   "source": [
    "# fig, ax = plt.subplots()\n",
    "# outs.plot(x='Time', y='ACE', fig=fig, ax=ax)\n",
    "# outf.plot(x='Time', y='ACE', fig=fig, ax=ax)"
   ]
  },
  {
   "cell_type": "code",
   "execution_count": null,
   "metadata": {},
   "outputs": [],
   "source": [
    "import matplotlib.font_manager"
   ]
  },
  {
   "cell_type": "code",
   "execution_count": null,
   "metadata": {
    "scrolled": false
   },
   "outputs": [],
   "source": [
    "# --- read load from ssa ---\n",
    "ptotal = ssa.PQ.as_df()['p0'].sum()\n",
    "print('ANDES total load is:',ptotal.round(4),'p.u.')\n",
    "\n",
    "# --- scale load curve ---\n",
    "ddata_path = '/case/dsyn.csv'\n",
    "ddata = dir_path + ddata_path\n",
    "d_syn = pd.read_csv(ddata)\n",
    "\n",
    "# the coefficient can be adjusted to fit the case\n",
    "if caseH == 10:\n",
    "    d_syn['sload'] = 0.8*(d_syn['ha10'] - d_syn['ha10'].min()) / d_syn['ha10'].min() + 0.7\n",
    "if caseH == 18:\n",
    "    d_syn['sload'] = 0.8*(d_syn['ha18'] - d_syn['ha18'].min()) / d_syn['ha18'].min() + 0.7\n",
    "\n",
    "# extensify load fluctuation\n",
    "avg = d_syn['sload'].rolling(50).mean()\n",
    "d_syn['sload'] = 15 * (d_syn['sload'] - avg) + avg\n",
    "d_syn['sload'] *= ptotal * ssa.config.mva\n",
    "\n",
    "# calculate expected load\n",
    "step = 300\n",
    "d_exp = d_syn.groupby(d_syn.index // step).mean().copy()\n",
    "d_exp['time'] = range(0,3600,300)\n",
    "\n",
    "# align starting point of load with starting point of dispatch results\n",
    "d_syn['sload'][0] = d_exp['sload'].iloc[0]\n",
    "d_syn['sload'][1:100] = None\n",
    "d_syn['sload'] = d_syn['sload'].interpolate(method='polynomial', order=3)\n",
    "\n",
    "plt.style.use('ieee')\n",
    "# --- plot load curve ---\n",
    "fig_load, ax_load = plt.subplots(figsize=(3.5, 3))\n",
    "ax_load.plot(d_syn['time'], d_syn['sload'], linestyle='-')\n",
    "ax_load.set_xlim([0, 3600])\n",
    "ax_load.set_ylabel('Active power [MW]')\n",
    "ax_load.set_xlabel('Time [s]')\n",
    "ax_load.grid()\n",
    "plt.tight_layout()\n",
    "fig_load.savefig(\"load_curve.png\", bbox_inches=\"tight\")\n",
    "\n",
    "plt.style.use('ieee')\n",
    "fig, ax = plt.subplots(1, 1, figsize=(3.5, 3))\n",
    "\n",
    "ax.plot(3600*(np.array(evs.time)-18), evs['ne'])\n",
    "ax.set_xlim([0, 3600])\n",
    "ax.set_xlabel('Time [s]')\n",
    "ax.set_ylabel('Numbers')\n",
    "ax.grid()"
   ]
  },
  {
   "cell_type": "code",
   "execution_count": null,
   "metadata": {},
   "outputs": [],
   "source": [
    "noagcev = evagcf.abs().sum() == 0\n",
    "noagcev = noagcev[noagcev].index\n",
    "noagcev"
   ]
  },
  {
   "cell_type": "code",
   "execution_count": null,
   "metadata": {},
   "outputs": [],
   "source": [
    "col_index = []\n",
    "for k in range(0, 16):\n",
    "    col_index = col_index + [list(np.array(range(0, 100)) + 100*k)]\n",
    "col = []\n",
    "for c in col_index:\n",
    "    col = col + [list(evsocf.columns[[c]].values)]\n",
    "\n",
    "fig, ax = plt.subplots(4, 4, figsize=(16, 10))\n",
    "plt.subplots_adjust(left=None, bottom=None, right=None,\n",
    "                    top=None, wspace=0.25, hspace=0.4)\n",
    "\n",
    "alpha=0.8\n",
    "for i in range(4):\n",
    "    for j in range(4):\n",
    "        idx = 15 - (4*i + j)\n",
    "        ax[i, j].fill_between(range(3600), linestyle='-', color='tab:blue', hatch='||', alpha=1, label=f'Case1',\n",
    "                              y1=evsocs[col[idx]].mean(axis=1) + 1.96 * evsocs[col[idx]].sem(axis=1),\n",
    "                              y2=evsocs[col[idx]].mean(axis=1) - 1.96 * evsocs[col[idx]].sem(axis=1))\n",
    "        ax[i, j].fill_between(range(3600), linestyle='-', color='tab:green', hatch='//', alpha=0.9, label=f'Case2',\n",
    "                              y1=evsoch[col[idx]].mean(axis=1) + 1.96 * evsoch[col[idx]].sem(axis=1),\n",
    "                              y2=evsoch[col[idx]].mean(axis=1) - 1.96 * evsoch[col[idx]].sem(axis=1))\n",
    "        ax[i, j].fill_between(range(3600), linestyle='-', color='tab:orange', hatch='\\\\\\\\', alpha=0.8, label=f'Case3',\n",
    "                              y1=evsocf[col[idx]].mean(axis=1) + 1.96 * evsocf[col[idx]].sem(axis=1),\n",
    "                              y2=evsocf[col[idx]].mean(axis=1) - 1.96 * evsocf[col[idx]].sem(axis=1))\n",
    "        ax[i, j].legend()\n",
    "        ax[i, j].set_xlim([0, 3600])\n",
    "        ax[i, j].set_xlabel('Time [s]')\n",
    "        ax[i, j].set_ylabel('95% CI of SOC [%]')\n",
    "        yticks = list(ax[i, j].get_yticks())\n",
    "        ax[i, j].set_yticks(yticks[0:-1], [np.round(ytk*100, 4) for ytk in yticks[0:-1]])\n",
    "        ax[i, j].set_title(f'SOC level {idx*5+20}-{idx*5+25}%')\n",
    "#         ax[i, j].set_ylim([0.58, 1.02])\n",
    "\n",
    "ax[0, 0].set_ylim([0.9499, 1.001])\n",
    "ax[0, 0].set_yticks([0.95, 0.96, 0.97, 0.98, 0.99, 1], [np.round(ytk*100, 4) for ytk in [0.95, 0.96, 0.97, 0.98, 0.99, 1]])\n",
    "ax[0, 1].set_ylim([0.899, 0.9501])\n",
    "ax[0, 1].set_yticks([0.9, 0.91, 0.92, 0.93, 0.94, 0.95], [np.round(ytk*100, 4) for ytk in [0.9, 0.91, 0.92, 0.93, 0.94, 0.95]])\n",
    "ax[0, 2].set_ylim([0.849, 0.901])\n",
    "ax[0, 2].set_yticks([0.85, 0.86, 0.87, 0.88, 0.89, 0.9], [np.round(ytk*100, 4) for ytk in [0.85, 0.86, 0.87, 0.88, 0.89, 0.9]])"
   ]
  },
  {
   "cell_type": "code",
   "execution_count": null,
   "metadata": {},
   "outputs": [],
   "source": [
    "ax[0, 0].get_yticks()"
   ]
  },
  {
   "cell_type": "code",
   "execution_count": null,
   "metadata": {},
   "outputs": [],
   "source": [
    "col_index = []\n",
    "for k in range(0, 16):\n",
    "    col_index = col_index + [list(np.array(range(0, 100)) + 100*k)]\n",
    "col = []\n",
    "for c in col_index:\n",
    "    col = col + [list(evsocf.columns[[c]].values)]\n",
    "\n",
    "fig, ax = plt.subplots(4, 4, figsize=(16, 10))\n",
    "plt.subplots_adjust(left=None, bottom=None, right=None,\n",
    "                    top=None, wspace=0.35, hspace=0.4)\n",
    "\n",
    "for i in range(4):\n",
    "    for j in range(4):\n",
    "        idx = 15 - (4*i + j)\n",
    "        ax[i, j].plot(range(3600), evsocs[col[idx]].mean(axis=1), linestyle='-', color='tab:blue', label=f'Case1')\n",
    "        ax[i, j].plot(range(3600), evsoch[col[idx]].mean(axis=1), linestyle='-.', color='tab:green', label=f'Case2')\n",
    "        ax[i, j].plot(range(3600), evsocf[col[idx]].mean(axis=1), linestyle='--', color='tab:orange', label=f'Case3')\n",
    "        ax[i, j].legend()\n",
    "        ax[i, j].set_xlim([0, 3600])\n",
    "        ax[i, j].set_xlabel('Time [s]')\n",
    "        ax[i, j].set_ylabel('Average SOC [%]')\n",
    "        yticks = list(ax[i, j].get_yticks())\n",
    "        ax[i, j].set_yticks(yticks[0:-1], [np.round(ytk*100, 4) for ytk in yticks[0:-1]])\n",
    "        ax[i, j].set_title(f'SOC level {idx*5+20}-{idx*5+25}%')\n",
    "#         ax[i, j].set_ylim([0.58, 1.02])"
   ]
  },
  {
   "cell_type": "code",
   "execution_count": null,
   "metadata": {},
   "outputs": [],
   "source": [
    "def ict(evdf, caseH):\n",
    "    \"\"\"Calculate increased charging time\"\"\"\n",
    "    evdf['ict'] = 0\n",
    "    # for left cars\n",
    "    evdf[(evdf.tf <= 19) & (evdf['soc'] < evdf['socd'])] # no EV in this level for now\n",
    "\n",
    "    # for staying cars, calculate\n",
    "    evdf[(evdf.tf > 19) & (evdf['soc'] < evdf['socd'])]\n",
    "    evdf['soc0'] = sse.ev.soc\n",
    "    evdf['dsoc'] = evdf['soc'] - evdf['soc0']\n",
    "    evdf['psoc'] = evdf['dsoc'] * (evdf['tf'] - caseH) # predict SOC level when participating SFR\n",
    "    ridx = evdf[(evdf.tf > 19) & (evdf['soc'] < evdf['socd'])].index # EV row index\n",
    "    # power0, - actual power\n",
    "    # supposed obtained charging power if no AGC\n",
    "    # evdf['Pc'].iloc[ridx] * evdf['nc'].iloc[ridx] * (evdf['tf'].iloc[ridx]  - 18)\n",
    "    # predicted power when participating the \n",
    "    # evdf['psoc'].iloc[ridx] * evdf['psoc'].iloc[ridx]\n",
    "    evdf['ict'].iloc[ridx] = (evdf['Pc'].iloc[ridx] * evdf['nc'].iloc[ridx] * (evdf['tf'].iloc[ridx]  - caseH) \\\n",
    "                             - evdf['psoc'].iloc[ridx] * evdf['Q'].iloc[ridx]) \\\n",
    "                            / evdf['Pc'].iloc[ridx] / evdf['nc'].iloc[ridx] * 60\n",
    "    evdf.drop(columns=['soc0', 'dsoc', 'psoc'], inplace=True)\n",
    "    return evdf\n",
    "evdf = ict(evdf, caseH)\n",
    "evdh = ict(evdh, caseH)\n",
    "evds = ict(evds, caseH)"
   ]
  },
  {
   "cell_type": "code",
   "execution_count": null,
   "metadata": {},
   "outputs": [],
   "source": [
    "fig, ax = plt.subplots()\n",
    "evdf.tt *= 60\n",
    "evdf.tt.hist(density=True, ax=ax, bins=20)\n",
    "ax.set_xlabel('Time [Min]')\n",
    "ax.set_ylabel('Density')"
   ]
  },
  {
   "cell_type": "code",
   "execution_count": null,
   "metadata": {},
   "outputs": [],
   "source": [
    "fig, ax = plt.subplots()\n",
    "evds.ict.hist(ax=ax, density=True, bins=20, alpha=1, label='Case1', hatch='||||', color='tab:blue')\n",
    "evdh.ict.hist(ax=ax, density=True, bins=20, alpha=0.8, label='Case2', hatch='////', color='tab:green')\n",
    "evdf.ict.hist(ax=ax, density=True, bins=20, alpha=0.5, label='Case3', hatch='\\\\\\\\\\\\\\\\', color='tab:orange')\n",
    "ax.legend()\n",
    "ax.set_xlabel('Time [Min]')\n",
    "ax.set_ylabel('Density')"
   ]
  },
  {
   "cell_type": "code",
   "execution_count": null,
   "metadata": {},
   "outputs": [],
   "source": [
    "# actual delayed time\n",
    "# plt.scatter(sse.ev.ts, sse.ev.na)"
   ]
  },
  {
   "cell_type": "code",
   "execution_count": null,
   "metadata": {},
   "outputs": [],
   "source": [
    "evif = evdh.copy()\n",
    "evif['sx0'] = sse0.ev['sx']\n",
    "evif['socf'] = evif['soc']\n",
    "evif['socs'] = evds['soc']\n",
    "evif['socgap'] = evif['socs'] - evif['socf']\n",
    "evif['dt'] = evif['socgap'] * evif['Q'] / evif['Pc'] / evif['nc']\n",
    "# set negative value to 0\n",
    "evif['dt'][evif['dt']<0] = 0\n",
    "# set demanded charged EV to 0\n",
    "evif['dt'][evif['socf']>=evif['socd']] = 0\n",
    "# Convert to minutes\n",
    "evif['dt'] = evif['dt'] * 60\n",
    "\n",
    "fig, ax = plt.subplots(1, 1, figsize=(5, 3))\n",
    "evif.groupby(by='sx0').mean()['dt'].plot.bar(fig=fig, ax=ax)\n",
    "ax.set_xlabel('Initial SOC level')\n",
    "ax.set_xticklabels([f\"{i*5}-{i*5+5}%\" for i in evif.groupby('sx0').mean().index.tolist()],\n",
    "                   rotation = 270)\n",
    "ax.set_ylabel('Time [Min]')"
   ]
  },
  {
   "cell_type": "code",
   "execution_count": null,
   "metadata": {},
   "outputs": [],
   "source": [
    "# Delayed time by participating SFR\n",
    "\n",
    "evif = evdf.copy()\n",
    "evif['sx0'] = sse0.ev['sx']\n",
    "evif['socf'] = evif['soc']\n",
    "evif['socs'] = evds['soc']\n",
    "evif['socgap'] = evif['socs'] - evif['socf']\n",
    "evif['dt'] = evif['socgap'] * evif['Q'] / evif['Pc'] / evif['nc']\n",
    "# set negative value to 0\n",
    "evif['dt'][evif['dt']<0] = 0\n",
    "# set demanded charged EV to 0\n",
    "evif['dt'][evif['socf']>=evif['socd']] = 0\n",
    "\n",
    "evih = evdh.copy()\n",
    "evih['sx0'] = sse0.ev['sx']\n",
    "evih['soc0'] = sse0.ev['soc']\n",
    "evih['socf'] = evdh['soc']\n",
    "evih['socs'] = evds['soc']\n",
    "evih['socgap'] = evih['soc'] - evih['socs']\n",
    "evih['dt'] = evih['socgap'] * evih['Q'] / evih['Pc'] / evih['nc']\n",
    "evih['dt'][evih['dt']<0] = 0\n",
    "\n",
    "plt.style.use('ieee')\n",
    "ax = evif.boxplot(column=['dt'], by='sx0', figsize=(5, 3))\n",
    "ax.set_title('')\n",
    "ax.set_xlabel('SOC level')\n",
    "ax.set_xticklabels([f\"{i*5}-{i*5+5}%\" for i in evif.groupby('sx0').mean().index.tolist()],\n",
    "                   rotation = 270)\n",
    "ax.set_ylabel('Time [H]')\n",
    "fig = ax.get_figure()\n",
    "fig.suptitle('')\n",
    "\n",
    "ax2 = evih.boxplot(column=['dt'], by='sx0', figsize=(5, 3))\n",
    "ax2.set_title('')\n",
    "ax2.set_xlabel('SOC level')\n",
    "ax2.set_xticklabels([i+1 for i in evif.groupby('sx0').mean().index.tolist()])\n",
    "ax2.set_ylabel('Time [H]')\n",
    "fig2 = ax2.get_figure()\n",
    "fig2.suptitle('')"
   ]
  },
  {
   "cell_type": "code",
   "execution_count": null,
   "metadata": {
    "scrolled": false
   },
   "outputs": [],
   "source": [
    "epsilon = 18\n",
    "k = 10 * ssa.ACEc.bias.v / epsilon / epsilon # mHz\n",
    "length = 60\n",
    "\n",
    "outscp = outs.copy()\n",
    "outscp['Time'] = outscp['Time'] / length\n",
    "outscp['Time'] = outscp['Time'].astype(int)\n",
    "outscp = outscp.groupby('Time').mean()\n",
    "outscp['prod'] = 100* (2 - k * outscp['ACE'] * outscp['fd'])\n",
    "\n",
    "outhcp = outh.copy()\n",
    "outhcp['Time'] = outhcp['Time'] / length\n",
    "outhcp['Time'] = outhcp['Time'].astype(int)\n",
    "outhcp = outhcp.groupby('Time').mean()\n",
    "outhcp['prod'] = 100* (2 - k * outhcp['ACE'] * outhcp['fd'])\n",
    "\n",
    "outfcp = outf.copy()\n",
    "outfcp['Time'] = outfcp['Time'] / length\n",
    "outfcp['Time'] = outfcp['Time'].astype(int)\n",
    "outfcp = outfcp.groupby('Time').mean()\n",
    "outfcp['prod'] = 100* (2 - k * outfcp['ACE'] * outfcp['fd'])\n",
    "\n",
    "print(f\"case1={outscp['prod'].mean()}, case2={outhcp['prod'].mean()}, case3={outfcp['prod'].mean()}\")\n",
    "\n",
    "# fig, ax = plt.subplots(figsize=(3.5, 3))\n",
    "# outscp.plot(y='prod', kind='kde', color='tab:blue', linestyle='-',\n",
    "#             legend=False, linewidth=1, fig=fig, ax=ax, label='Case1')\n",
    "# outhcp.plot(y='prod', kind='kde', color='tab:green', linestyle='-',\n",
    "#             legend=False, linewidth=1, fig=fig, ax=ax, label='Case2')\n",
    "# outfcp.plot(y='prod', kind='kde', color='tab:orange', linestyle='--',\n",
    "#             legend=False, linewidth=1, fig=fig, ax=ax, label='Case3')\n",
    "# ax.legend()\n",
    "# ax.set_xlabel('CPS1')\n",
    "# outscp.plot(y='prod', kind='hist', density=True, bins=30, color='tab:blue',\n",
    "#             legend=False, fig=fig, ax=ax, label='Case1')\n",
    "# outfcp.plot(y='prod', kind='hist', density=True, bins=30, color='tab:orange',\n",
    "#             legend=False, fig=fig, ax=ax, label='Case2')"
   ]
  },
  {
   "cell_type": "code",
   "execution_count": null,
   "metadata": {},
   "outputs": [],
   "source": [
    "# --- generation cost ---\n",
    "gtf = 0\n",
    "gts = 0\n",
    "gth = 0\n",
    "for i in pgf.index:\n",
    "    cf = ssd.cost.c2.values * np.power(pgf.loc[i].values, 2) \\\n",
    "        + ssd.cost.c1.values * pgf.loc[i].values \\\n",
    "        + ssd.cost.c1.values\n",
    "    cs = ssd.cost.c2.values * np.power(pgs.loc[i].values, 2) \\\n",
    "        + ssd.cost.c1.values * pgs.loc[i].values \\\n",
    "        + ssd.cost.c1.values\n",
    "    ch = ssd.cost.c2.values * np.power(pgh.loc[i].values, 2) \\\n",
    "        + ssd.cost.c1.values * pgh.loc[i].values \\\n",
    "        + ssd.cost.c1.values\n",
    "    gtf += np.sum(cf)\n",
    "    gts += np.sum(cs)\n",
    "    gth += np.sum(ch)\n",
    "\n",
    "# --- SFR mileage cost ---\n",
    "ftf = 0\n",
    "fts = 0\n",
    "fth = 0\n",
    "for i in agcf.columns:\n",
    "    cf = ssd.cost.c1.abs().values * agcf[i].values\n",
    "    cs = ssd.cost.c1.abs().values * agcs[i].values\n",
    "    ch = ssd.cost.c1.abs().values * agch[i].values\n",
    "    ftf += np.sum(cf)\n",
    "    fts += np.sum(cs)\n",
    "    fth += np.sum(ch)\n",
    "\n",
    "print(f\"Total Mile: Case3={np.round(agcf.sum().sum(), 2)}, Case2={np.round(agch.sum().sum(), 2)}, Case1={np.round(agcs.sum().sum(), 2)}\")\n",
    "print(f\"EV AGC Mile: case3: {agcf.loc[9].sum()}, case2: {agch.loc[9].sum()}, case1: {agcs.loc[9].sum()}\")\n",
    "print(f\"Total cost: Case3={np.round(gtf+ftf, 2)}, Case2={np.round(gth+fth, 2)}, Case1={np.round(gts+fts, 2)}\")"
   ]
  },
  {
   "cell_type": "code",
   "execution_count": null,
   "metadata": {},
   "outputs": [],
   "source": [
    "plt.style.use('ieee')\n",
    "fig, ax = plt.subplots(1, 3, figsize=(18, 4))\n",
    "plt.subplots_adjust(left=None, bottom=None, right=None,\n",
    "                    top=None, wspace=0.18, hspace=None)\n",
    "# ACE\n",
    "outs.plot(x='Time', y='ACE', ax=ax[0], fig=fig, label='Case1', linestyle='-', color='tab:blue')\n",
    "outh.plot(x='Time', y='ACE', ax=ax[0], fig=fig, label='Case2', linestyle='-', color='tab:green')\n",
    "outf.plot(x='Time', y='ACE', ax=ax[0], fig=fig, label='Case3', linestyle='--', color='tab:orange')\n",
    "# COI freq.\n",
    "outs.plot(x='Time', y='freq', ax=ax[1], fig=fig, label='Case1', linestyle='-', color='tab:blue')\n",
    "outh.plot(x='Time', y='freq', ax=ax[1], fig=fig, label='Case2', linestyle='-', color='tab:green')\n",
    "outf.plot(x='Time', y='freq', ax=ax[1], fig=fig, label='Case3', linestyle='--', color='tab:orange')\n",
    "# COI std.\n",
    "outs.plot(x='Time', y='fd', kind='hist', density=True, bins=30, color='tab:blue', alpha=1,\n",
    "          legend=False, linewidth=1, fig=fig, ax=ax[2], label='Case1')\n",
    "outh.plot(x='Time', y='fd', kind='hist', density=True, bins=30, color='tab:green', alpha=0.9,\n",
    "          legend=False, linewidth=1, fig=fig, ax=ax[2], label='Case2')\n",
    "outf.plot(x='Time', y='fd', kind='hist', density=True, bins=30, color='tab:orange', alpha=0.8,\n",
    "          legend=False, linewidth=1, fig=fig, ax=ax[2], label='Case3')\n",
    "# outs.plot(x='Time', y='fd', kind='kde', color='tab:blue',\n",
    "#           legend=False, fig=fig, ax=ax[2], label='Case1')\n",
    "# outf.plot(x='Time', y='fd', kind='kde', color='tab:orange',\n",
    "#           legend=False, fig=fig, ax=ax[2], label='Case2')\n",
    "\n",
    "ax[0].set_xlim([0, 3600])\n",
    "ax[1].set_xlim([0, 3600])\n",
    "ax[0].set_xlabel('Time [s]')\n",
    "ax[1].set_xlabel('Time [s]')\n",
    "ax[0].set_ylabel('ACE [MW]')\n",
    "ax[1].set_ylabel('Freq. [Hz]')\n",
    "ax[2].set_xlabel('Freq. Deviation [Hz]')\n",
    "ax[2].set_ylabel('Density')\n",
    "ax[2].legend()\n",
    "\n",
    "print(f\"Freq. D.: case1={outs['fd'].std()}, case2={outh['fd'].std()}, case3={outf['fd'].std()}\")\n",
    "print(f\"ACE D.: case1={outs['ACE'].std()}, case2={outh['ACE'].std()}, case3={outf['ACE'].std()}\")"
   ]
  },
  {
   "cell_type": "markdown",
   "metadata": {},
   "source": [
    "No SFR, if soc >= socd\n",
    "SFR, soc < socd\n",
    "incldue all EVs, \n",
    "delayed_time = (socd - soc) * Q / Pc / nc\n",
    "  \n",
    "total_charging_time (soc_init + soc_gap -> scod)\n"
   ]
  },
  {
   "cell_type": "code",
   "execution_count": null,
   "metadata": {},
   "outputs": [],
   "source": [
    "# evif[['soc0', 'socf', 'socd', 'socgap', 'Q', 'Pc', 'dt', 'nc']]"
   ]
  },
  {
   "cell_type": "code",
   "execution_count": null,
   "metadata": {},
   "outputs": [],
   "source": [
    "import matplotlib.font_manager"
   ]
  },
  {
   "cell_type": "code",
   "execution_count": null,
   "metadata": {},
   "outputs": [],
   "source": [
    "plt.style.use('ieee')\n",
    "fig, ax = plt.subplots(1, 3, figsize=(18, 4))\n",
    "plt.subplots_adjust(left=None, bottom=None, right=None,\n",
    "                    top=None, wspace=0.18, hspace=None)\n",
    "\n",
    "ax[2].plot(3600*(np.array(evs.time)-18), evs.Prc, label='Case1 EV AGC response', linestyle='-', color='tab:blue')\n",
    "ax[2].plot(3600*(np.array(evs.time)-18), evh.Prc, label='Case2 EV AGC response', linestyle='-', color='tab:green')\n",
    "ax[2].plot(3600*(np.array(evs.time)-18), evf.Prc, label='Case3 EV AGC response', linestyle='-', color='tab:orange')\n",
    "ax[2].plot(3600*(np.array(evs.time)-18), evs.Pt, label='Case1 EV total output', linestyle='--', color='tab:blue')\n",
    "ax[2].plot(3600*(np.array(evs.time)-18), evh.Pt, label='Case2 EV total output', linestyle='--', color='tab:green')\n",
    "ax[2].plot(3600*(np.array(evs.time)-18), evf.Pt, label='Case3 EV total output', linestyle='--', color='tab:orange')\n",
    "ax[2].legend()\n",
    "ax[2].set_xlim([0, 3600])\n",
    "ax[2].set_xlabel('Time [s]')\n",
    "ax[2].set_ylabel('EV output power [MW]')\n",
    "\n",
    "sfrs.plot(x='time', y='ace', ax=ax[0], fig=fig, label='Case1', linestyle='-', color='tab:blue')\n",
    "sfrh.plot(x='time', y='ace', ax=ax[0], fig=fig, label='Case2', linestyle='-', color='tab:green')\n",
    "sfrf.plot(x='time', y='ace', ax=ax[0], fig=fig, label='Case3', linestyle='-', color='tab:orange')\n",
    "sfrs.plot(x='time', y='up', ax=ax[0], fig=fig, label='RegUp capacity', linestyle='--', color='black')\n",
    "sfrs.plot(x='time', y='dn', ax=ax[0], fig=fig, label='RegDn capacity', linestyle='--', color='black')\n",
    "ax[0].set_xlim([0, 3600])\n",
    "ax[0].set_xlabel('Time [s]')\n",
    "ax[0].set_ylabel('Total AGC signal [MW]')\n",
    "\n",
    "outs.plot(x='Time', y='paux9', ax=ax[1], fig=fig, label='Case1', linestyle='-', color='tab:blue')\n",
    "outh.plot(x='Time', y='paux9', ax=ax[1], fig=fig, label='Case2', linestyle='-', color='tab:green')\n",
    "outf.plot(x='Time', y='paux9', ax=ax[1], fig=fig, label='Case3', linestyle='-', color='tab:orange')\n",
    "ax[1].set_xlim([0, 3600])\n",
    "ax[1].set_xlabel('Time [s]')\n",
    "ax[1].set_ylabel('G3 AGC response [MW]')"
   ]
  },
  {
   "cell_type": "code",
   "execution_count": null,
   "metadata": {},
   "outputs": [],
   "source": [
    "plt.style.use('ieee')\n",
    "\n",
    "bu_df = pd.read_csv('cosim_18_S_bu.csv')\n",
    "bd_df = pd.read_csv('cosim_18_S_bd.csv')\n",
    "\n",
    "color = ['tab:blue', 'yellow', 'tab:green',\n",
    "         'tab:red', 'tab:purple', 'tab:brown',\n",
    "         'tab:pink', 'tab:gray', 'tab:olive', 'tab:cyan', 'tab:orange']\n",
    "\n",
    "figs, axes = plt.subplots(1, 2, figsize=(10.5, 3))\n",
    "plt.subplots_adjust(left=None, bottom=None, right=None,\n",
    "                    top=None, wspace=0.38, hspace=None)\n",
    "new_cols = ['PV_1', 'PV_2', 'PV_3', 'PV_4', 'PV_5', 'PV_6',\n",
    "            'PV_7', 'PV_8', 'PV_9', 'Slack_10', 'PV_10']\n",
    "bu_df[new_cols].plot.bar(stacked=True, ax=axes[0], legend=False, color=color)\n",
    "bd_df[new_cols].plot.bar(stacked=True, ax=axes[1], legend=False, color=color)\n",
    "\n",
    "for ax in axes:\n",
    "    ax.tick_params(axis='x', labelrotation = 0)\n",
    "    ax.set_ylim([0, 1])\n",
    "    ax.set_yticklabels([f'{np.round(i*100,0)}%' for i in np.arange(0, 1.1, 0.2)])\n",
    "    ax.set_xticklabels([i for i in range(1,13,1)])\n",
    "    ax.set_xlabel('RTED interval')\n",
    "axes[0].set_title('(a) Case 1: RegUp balancing factor')\n",
    "axes[1].set_title('(b) Case 1: RegDn balancing factor')\n",
    "lines_labels = [ax.get_legend_handles_labels() for ax in axes]\n",
    "lines, labels = [sum(lol, []) for lol in zip(*lines_labels)]\n",
    "line_plot = lines[0:11]\n",
    "line_plot.reverse()\n",
    "label_g = ['G1', 'G2', 'G3', 'G4', 'G5', 'G6', 'G7', 'G8', 'G9', 'G10', 'EV']\n",
    "label_g.reverse()\n",
    "figs.legend(line_plot, label_g, loc='center')"
   ]
  },
  {
   "cell_type": "code",
   "execution_count": null,
   "metadata": {},
   "outputs": [],
   "source": [
    "plt.style.use('ieee')\n",
    "\n",
    "bu_df = pd.read_csv('cosim_18_H_bu.csv')\n",
    "bd_df = pd.read_csv('cosim_18_H_bd.csv')\n",
    "\n",
    "color = ['tab:blue', 'yellow', 'tab:green',\n",
    "         'tab:red', 'tab:purple', 'tab:brown',\n",
    "         'tab:pink', 'tab:gray', 'tab:olive', 'tab:cyan', 'tab:orange']\n",
    "\n",
    "figs, axes = plt.subplots(1, 2, figsize=(10.5, 3))\n",
    "plt.subplots_adjust(left=None, bottom=None, right=None,\n",
    "                    top=None, wspace=0.38, hspace=None)\n",
    "new_cols = ['PV_1', 'PV_2', 'PV_3', 'PV_4', 'PV_5', 'PV_6',\n",
    "            'PV_7', 'PV_8', 'PV_9', 'Slack_10', 'PV_10']\n",
    "bu_df[new_cols].plot.bar(stacked=True, ax=axes[0], legend=False, color=color)\n",
    "bd_df[new_cols].plot.bar(stacked=True, ax=axes[1], legend=False, color=color)\n",
    "\n",
    "for ax in axes:\n",
    "    ax.tick_params(axis='x', labelrotation = 0)\n",
    "    ax.set_ylim([0, 1])\n",
    "    ax.set_yticklabels([f'{np.round(i*100,0)}%' for i in np.arange(0, 1.1, 0.2)])\n",
    "    ax.set_xticklabels([i for i in range(1,13,1)])\n",
    "    ax.set_xlabel('RTED interval')\n",
    "axes[0].set_title('(c) Case 2: RegUp balancing factor')\n",
    "axes[1].set_title('(d) Case 2: RegDn balancing factor')\n",
    "lines_labels = [ax.get_legend_handles_labels() for ax in axes]\n",
    "lines, labels = [sum(lol, []) for lol in zip(*lines_labels)]\n",
    "line_plot = lines[0:11]\n",
    "line_plot.reverse()\n",
    "label_g = ['G1', 'G2', 'G3', 'G4', 'G5', 'G6', 'G7', 'G8', 'G9', 'G10', 'EV']\n",
    "label_g.reverse()\n",
    "figs.legend(line_plot, label_g, loc='center')"
   ]
  },
  {
   "cell_type": "code",
   "execution_count": null,
   "metadata": {},
   "outputs": [],
   "source": [
    "plt.style.use('ieee')\n",
    "\n",
    "bu_df = pd.read_csv('cosim_18_F_bu.csv')\n",
    "bd_df = pd.read_csv('cosim_18_F_bd.csv')\n",
    "\n",
    "color = ['tab:blue', 'yellow', 'tab:green',\n",
    "         'tab:red', 'tab:purple', 'tab:brown',\n",
    "         'tab:pink', 'tab:gray', 'tab:olive', 'tab:cyan', 'tab:orange']\n",
    "\n",
    "figs, axes = plt.subplots(1, 2, figsize=(10.5, 3))\n",
    "plt.subplots_adjust(left=None, bottom=None, right=None,\n",
    "                    top=None, wspace=0.38, hspace=None)\n",
    "new_cols = ['PV_1', 'PV_2', 'PV_3', 'PV_4', 'PV_5', 'PV_6',\n",
    "            'PV_7', 'PV_8', 'PV_9', 'Slack_10', 'PV_10']\n",
    "bu_df[new_cols].plot.bar(stacked=True, ax=axes[0], legend=False, color=color)\n",
    "bd_df[new_cols].plot.bar(stacked=True, ax=axes[1], legend=False, color=color)\n",
    "\n",
    "for ax in axes:\n",
    "    ax.tick_params(axis='x', labelrotation = 0)\n",
    "    ax.set_ylim([0, 1])\n",
    "    ax.set_yticklabels([f'{np.round(i*100,0)}%' for i in np.arange(0, 1.1, 0.2)])\n",
    "    ax.set_xticklabels([i for i in range(1,13,1)])\n",
    "    ax.set_xlabel('RTED interval')\n",
    "axes[0].set_title('(c) Case 3: RegUp balancing factor')\n",
    "axes[1].set_title('(d) Case 3: RegDn balancing factor')\n",
    "lines_labels = [ax.get_legend_handles_labels() for ax in axes]\n",
    "lines, labels = [sum(lol, []) for lol in zip(*lines_labels)]\n",
    "line_plot = lines[0:11]\n",
    "line_plot.reverse()\n",
    "label_g = ['G1', 'G2', 'G3', 'G4', 'G5', 'G6', 'G7', 'G8', 'G9', 'G10', 'EV']\n",
    "label_g.reverse()\n",
    "figs.legend(line_plot, label_g, loc='center')"
   ]
  }
 ],
 "metadata": {
  "kernelspec": {
   "display_name": "Python3",
   "language": "python",
   "name": "andes"
  },
  "language_info": {
   "codemirror_mode": {
    "name": "ipython",
    "version": 3
   },
   "file_extension": ".py",
   "mimetype": "text/x-python",
   "name": "python",
   "nbconvert_exporter": "python",
   "pygments_lexer": "ipython3",
   "version": "3.9.12"
  },
  "varInspector": {
   "cols": {
    "lenName": 16,
    "lenType": 16,
    "lenVar": 40
   },
   "kernels_config": {
    "python": {
     "delete_cmd_postfix": "",
     "delete_cmd_prefix": "del ",
     "library": "var_list.py",
     "varRefreshCmd": "print(var_dic_list())"
    },
    "r": {
     "delete_cmd_postfix": ") ",
     "delete_cmd_prefix": "rm(",
     "library": "var_list.r",
     "varRefreshCmd": "cat(var_dic_list()) "
    }
   },
   "types_to_exclude": [
    "module",
    "function",
    "builtin_function_or_method",
    "instance",
    "_Feature"
   ],
   "window_display": false
  },
  "vscode": {
   "interpreter": {
    "hash": "ef6cb5c8d99d66a3614f491d51fd40cd94c9138687df3d2045e3a510da5efc66"
   }
  }
 },
 "nbformat": 4,
 "nbformat_minor": 4
}
